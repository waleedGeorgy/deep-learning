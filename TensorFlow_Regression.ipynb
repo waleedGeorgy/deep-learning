{
  "cells": [
    {
      "cell_type": "markdown",
      "metadata": {
        "id": "view-in-github",
        "colab_type": "text"
      },
      "source": [
        "<a href=\"https://colab.research.google.com/github/waleedGeorgy/deep-learning/blob/main/TensorFlow_Regression.ipynb\" target=\"_parent\"><img src=\"https://colab.research.google.com/assets/colab-badge.svg\" alt=\"Open In Colab\"/></a>"
      ]
    },
    {
      "cell_type": "markdown",
      "metadata": {
        "id": "vwWvtvPjiTw8"
      },
      "source": [
        "# Introduction & Data Setup"
      ]
    },
    {
      "cell_type": "markdown",
      "metadata": {
        "id": "3W4tDz96eo2y"
      },
      "source": [
        "**Regression** is a supervised machine learning technique which is used to predict continuous values. The ultimate goal of the regression algorithm is to plot a best-fit line or a curve between the input features (independant variables) and the output label (dependant variable)."
      ]
    },
    {
      "cell_type": "code",
      "execution_count": null,
      "metadata": {
        "colab": {
          "base_uri": "https://localhost:8080/",
          "height": 36
        },
        "id": "ndOmu0gfdfO5",
        "outputId": "f17a9fb7-1263-44a6-d215-89378b00b4b7"
      },
      "outputs": [
        {
          "data": {
            "application/vnd.google.colaboratory.intrinsic+json": {
              "type": "string"
            },
            "text/plain": [
              "'2.15.0'"
            ]
          },
          "execution_count": 1,
          "metadata": {},
          "output_type": "execute_result"
        }
      ],
      "source": [
        "import tensorflow as tf\n",
        "\n",
        "tf.__version__"
      ]
    },
    {
      "cell_type": "markdown",
      "metadata": {
        "id": "ltkHZQQwPQEK"
      },
      "source": [
        "For starters, we'll solve a very basic regression problem"
      ]
    },
    {
      "cell_type": "code",
      "execution_count": null,
      "metadata": {
        "colab": {
          "base_uri": "https://localhost:8080/",
          "height": 435
        },
        "id": "-x0eESL7iYX-",
        "outputId": "82ca53e2-5598-4b54-c075-20e04bb63797"
      },
      "outputs": [
        {
          "data": {
            "image/png": "[encoded data removed]",
            "text/plain": [
              "<Figure size 640x480 with 1 Axes>"
            ]
          },
          "metadata": {},
          "output_type": "display_data"
        }
      ],
      "source": [
        "import numpy as np\n",
        "import matplotlib.pyplot as plt\n",
        "\n",
        "# Creating a basic dataset with 1 feature X, and 1 label y\n",
        "X = np.array([-7.0, -4.0, -1.0, 2.0, 5.0, 8.0, 11.0, 14.0])\n",
        "y = np.array([3.0, 6.0, 9.0, 12.0, 15.0, 18.0, 21.0, 24.0])\n",
        "\n",
        "plt.scatter(X,y);"
      ]
    },
    {
      "cell_type": "markdown",
      "metadata": {
        "id": "wPjo-YolkcZ0"
      },
      "source": [
        "We created a basic dataset consisting of a single feature X and a single label y, where the relationship between X and y is linear $y = mx + b$, and $y = X + 10$.\n",
        "\n",
        "Next, we will use tensorflow to build a model that will try and learn this relationship, and use this knowledge to correctly predict on new data.\n",
        "\n",
        "Important thing to remember is that the relationship between features and labels is unknown in real applications. Here, we just generated some data for tutorial purposes."
      ]
    },
    {
      "cell_type": "code",
      "execution_count": null,
      "metadata": {
        "colab": {
          "base_uri": "https://localhost:8080/"
        },
        "id": "QXZVt1TOkZeJ",
        "outputId": "a9abd210-39e4-4cf1-e141-3c4384ea261f"
      },
      "outputs": [
        {
          "data": {
            "text/plain": [
              "((8,), (8,))"
            ]
          },
          "execution_count": 3,
          "metadata": {},
          "output_type": "execute_result"
        }
      ],
      "source": [
        "# Shape of data\n",
        "X.shape, y.shape"
      ]
    },
    {
      "cell_type": "code",
      "execution_count": null,
      "metadata": {
        "colab": {
          "base_uri": "https://localhost:8080/"
        },
        "id": "GkwNSTHjk28P",
        "outputId": "7ce954cd-17da-4be9-f17f-10c7be4cd70b"
      },
      "outputs": [
        {
          "data": {
            "text/plain": [
              "((), ())"
            ]
          },
          "execution_count": 4,
          "metadata": {},
          "output_type": "execute_result"
        }
      ],
      "source": [
        "# Shape of a single data point\n",
        "# It is empty because it is a scalar\n",
        "# I.e. the model will have input of size 1 and output of size 1\n",
        "X[0].shape, y[0].shape"
      ]
    },
    {
      "cell_type": "code",
      "execution_count": null,
      "metadata": {
        "colab": {
          "base_uri": "https://localhost:8080/"
        },
        "id": "Wsftpuppk5k7",
        "outputId": "c8f0f49a-505f-4ed5-fba9-b0943668c2d5"
      },
      "outputs": [
        {
          "data": {
            "text/plain": [
              "(<tf.Tensor: shape=(8,), dtype=float64, numpy=array([-7., -4., -1.,  2.,  5.,  8., 11., 14.])>,\n",
              " <tf.Tensor: shape=(8,), dtype=float64, numpy=array([ 3.,  6.,  9., 12., 15., 18., 21., 24.])>)"
            ]
          },
          "execution_count": 5,
          "metadata": {},
          "output_type": "execute_result"
        }
      ],
      "source": [
        "# Turning numpy arrays into tensors\n",
        "X = tf.constant(X)\n",
        "y = tf.constant(y)\n",
        "X, y"
      ]
    },
    {
      "cell_type": "markdown",
      "metadata": {
        "id": "QMJ0iyiYl-4Z"
      },
      "source": [
        "# Creating a Basic TensorFlow Regression Model"
      ]
    },
    {
      "cell_type": "markdown",
      "metadata": {
        "id": "9hr4DgYxmD_h"
      },
      "source": [
        "In order to build a TensorFlow model we need to:\n",
        "\n",
        "\n",
        "1.   **Create a model** - defining the inputs, outputs and the hidden layers of the model.\n",
        "2.   **Compile the model** - defining the loss function, optimizer, and optionally the evaluation metrics.\n",
        "3. **Fit the model** - In other words, train the model on the train data in order to find the relationship between X and y.\n",
        "\n",
        "First, we'll create a very basic model that consists of a single dense layer with one neuron.\n"
      ]
    },
    {
      "cell_type": "code",
      "execution_count": null,
      "metadata": {
        "colab": {
          "base_uri": "https://localhost:8080/"
        },
        "id": "6_85HM8Ylh4p",
        "outputId": "7fc9f3b9-b916-4d9d-abf6-210299c3efc9"
      },
      "outputs": [
        {
          "name": "stdout",
          "output_type": "stream",
          "text": [
            "Epoch 1/5\n",
            "1/1 [==============================] - 1s 609ms/step - loss: 17.1415 - mae: 17.1415\n",
            "Epoch 2/5\n",
            "1/1 [==============================] - 0s 19ms/step - loss: 16.8603 - mae: 16.8603\n",
            "Epoch 3/5\n",
            "1/1 [==============================] - 0s 15ms/step - loss: 16.5790 - mae: 16.5790\n",
            "Epoch 4/5\n",
            "1/1 [==============================] - 0s 12ms/step - loss: 16.2978 - mae: 16.2978\n",
            "Epoch 5/5\n",
            "1/1 [==============================] - 0s 12ms/step - loss: 16.0165 - mae: 16.0165\n"
          ]
        },
        {
          "data": {
            "text/plain": [
              "<keras.src.callbacks.History at 0x78f33c2bd240>"
            ]
          },
          "execution_count": 6,
          "metadata": {},
          "output_type": "execute_result"
        }
      ],
      "source": [
        "# Set the random seed\n",
        "tf.random.set_seed(42)\n",
        "\n",
        "# Creating the model\n",
        "model = tf.keras.Sequential([\n",
        "    tf.keras.layers.Dense(1)\n",
        "])\n",
        "\n",
        "# Compiling the model\n",
        "model.compile(loss = tf.keras.losses.mae,\n",
        "              optimizer = tf.keras.optimizers.SGD(),\n",
        "              metrics = ['mae'])\n",
        "\n",
        "# Fitting the model\n",
        "# Epochs define how many passes the model goes over the data\n",
        "# We need to expand X because we can't fit on input data with ndim = 1, needs to be 2\n",
        "# So we add an extra dimension to the input as per the documentation\n",
        "model.fit(tf.expand_dims(X, axis=-1),\n",
        "          y,\n",
        "          epochs = 5)"
      ]
    },
    {
      "cell_type": "code",
      "execution_count": null,
      "metadata": {
        "colab": {
          "base_uri": "https://localhost:8080/"
        },
        "id": "j9GpEcFEobSV",
        "outputId": "9777f862-c998-412f-af00-58373f90fa70"
      },
      "outputs": [
        {
          "name": "stdout",
          "output_type": "stream",
          "text": [
            "1/1 [==============================] - 0s 126ms/step\n"
          ]
        },
        {
          "data": {
            "text/plain": [
              "array([[-9.720233]], dtype=float32)"
            ]
          },
          "execution_count": 7,
          "metadata": {},
          "output_type": "execute_result"
        }
      ],
      "source": [
        "# Making a prediction with our model\n",
        "model.predict([17.0])"
      ]
    },
    {
      "cell_type": "markdown",
      "metadata": {
        "id": "aSuvjOYUqB5F"
      },
      "source": [
        "As evident by the mean absolute error (MAE), model's prediction will be quite off the correct value, which is understandable since our model is very basic."
      ]
    },
    {
      "cell_type": "markdown",
      "metadata": {
        "id": "ISxiyLBaqyfv"
      },
      "source": [
        "# Imporving the Model"
      ]
    },
    {
      "cell_type": "markdown",
      "metadata": {
        "id": "50iaGp36rAPb"
      },
      "source": [
        "Models can be imporved in various ways:\n",
        "\n",
        "\n",
        "1.   Changing the architecture of the model by adding more layers, increasing the number of neurons in the hidden layers, or changing the activation functions.\n",
        "2.   Changing the optimizer and / or the hyperparameters associated with it.\n",
        "3. Fitting the model for longer (more epochs) to give the data more opportunities to learn patterns or representations in the data.\n",
        "\n"
      ]
    },
    {
      "cell_type": "code",
      "execution_count": null,
      "metadata": {
        "colab": {
          "base_uri": "https://localhost:8080/"
        },
        "id": "J0sscMChp5bS",
        "outputId": "ecee2dbc-0097-413d-9413-b7dc234f920a"
      },
      "outputs": [
        {
          "name": "stdout",
          "output_type": "stream",
          "text": [
            "Epoch 1/100\n",
            "1/1 [==============================] - 0s 366ms/step - loss: 10.6742 - mae: 10.6742\n",
            "Epoch 2/100\n",
            "1/1 [==============================] - 0s 11ms/step - loss: 10.5417 - mae: 10.5417\n",
            "Epoch 3/100\n",
            "1/1 [==============================] - 0s 13ms/step - loss: 10.4092 - mae: 10.4092\n",
            "Epoch 4/100\n",
            "1/1 [==============================] - 0s 15ms/step - loss: 10.2767 - mae: 10.2767\n",
            "Epoch 5/100\n",
            "1/1 [==============================] - 0s 13ms/step - loss: 10.1442 - mae: 10.1442\n",
            "Epoch 6/100\n",
            "1/1 [==============================] - 0s 17ms/step - loss: 10.0117 - mae: 10.0117\n",
            "Epoch 7/100\n",
            "1/1 [==============================] - 0s 12ms/step - loss: 9.8792 - mae: 9.8792\n",
            "Epoch 8/100\n",
            "1/1 [==============================] - 0s 10ms/step - loss: 9.7467 - mae: 9.7467\n",
            "Epoch 9/100\n",
            "1/1 [==============================] - 0s 12ms/step - loss: 9.6142 - mae: 9.6142\n",
            "Epoch 10/100\n",
            "1/1 [==============================] - 0s 11ms/step - loss: 9.4817 - mae: 9.4817\n",
            "Epoch 11/100\n",
            "1/1 [==============================] - 0s 10ms/step - loss: 9.3492 - mae: 9.3492\n",
            "Epoch 12/100\n",
            "1/1 [==============================] - 0s 9ms/step - loss: 9.2167 - mae: 9.2167\n",
            "Epoch 13/100\n",
            "1/1 [==============================] - 0s 17ms/step - loss: 9.0842 - mae: 9.0842\n",
            "Epoch 14/100\n",
            "1/1 [==============================] - 0s 10ms/step - loss: 8.9517 - mae: 8.9517\n",
            "Epoch 15/100\n",
            "1/1 [==============================] - 0s 10ms/step - loss: 8.8192 - mae: 8.8192\n",
            "Epoch 16/100\n",
            "1/1 [==============================] - 0s 11ms/step - loss: 8.6867 - mae: 8.6867\n",
            "Epoch 17/100\n",
            "1/1 [==============================] - 0s 13ms/step - loss: 8.5542 - mae: 8.5542\n",
            "Epoch 18/100\n",
            "1/1 [==============================] - 0s 13ms/step - loss: 8.4217 - mae: 8.4217\n",
            "Epoch 19/100\n",
            "1/1 [==============================] - 0s 11ms/step - loss: 8.2892 - mae: 8.2892\n",
            "Epoch 20/100\n",
            "1/1 [==============================] - 0s 10ms/step - loss: 8.1567 - mae: 8.1567\n",
            "Epoch 21/100\n",
            "1/1 [==============================] - 0s 12ms/step - loss: 8.0242 - mae: 8.0242\n",
            "Epoch 22/100\n",
            "1/1 [==============================] - 0s 10ms/step - loss: 7.8917 - mae: 7.8917\n",
            "Epoch 23/100\n",
            "1/1 [==============================] - 0s 10ms/step - loss: 7.7592 - mae: 7.7592\n",
            "Epoch 24/100\n",
            "1/1 [==============================] - 0s 11ms/step - loss: 7.6267 - mae: 7.6267\n",
            "Epoch 25/100\n",
            "1/1 [==============================] - 0s 14ms/step - loss: 7.4942 - mae: 7.4942\n",
            "Epoch 26/100\n",
            "1/1 [==============================] - 0s 14ms/step - loss: 7.3617 - mae: 7.3617\n",
            "Epoch 27/100\n",
            "1/1 [==============================] - 0s 11ms/step - loss: 7.3050 - mae: 7.3050\n",
            "Epoch 28/100\n",
            "1/1 [==============================] - 0s 10ms/step - loss: 7.2994 - mae: 7.2994\n",
            "Epoch 29/100\n",
            "1/1 [==============================] - 0s 12ms/step - loss: 7.2938 - mae: 7.2938\n",
            "Epoch 30/100\n",
            "1/1 [==============================] - 0s 10ms/step - loss: 7.2881 - mae: 7.2881\n",
            "Epoch 31/100\n",
            "1/1 [==============================] - 0s 12ms/step - loss: 7.2825 - mae: 7.2825\n",
            "Epoch 32/100\n",
            "1/1 [==============================] - 0s 10ms/step - loss: 7.2769 - mae: 7.2769\n",
            "Epoch 33/100\n",
            "1/1 [==============================] - 0s 9ms/step - loss: 7.2712 - mae: 7.2712\n",
            "Epoch 34/100\n",
            "1/1 [==============================] - 0s 10ms/step - loss: 7.2656 - mae: 7.2656\n",
            "Epoch 35/100\n",
            "1/1 [==============================] - 0s 10ms/step - loss: 7.2600 - mae: 7.2600\n",
            "Epoch 36/100\n",
            "1/1 [==============================] - 0s 10ms/step - loss: 7.2544 - mae: 7.2544\n",
            "Epoch 37/100\n",
            "1/1 [==============================] - 0s 12ms/step - loss: 7.2488 - mae: 7.2488\n",
            "Epoch 38/100\n",
            "1/1 [==============================] - 0s 11ms/step - loss: 7.2431 - mae: 7.2431\n",
            "Epoch 39/100\n",
            "1/1 [==============================] - 0s 10ms/step - loss: 7.2375 - mae: 7.2375\n",
            "Epoch 40/100\n",
            "1/1 [==============================] - 0s 10ms/step - loss: 7.2319 - mae: 7.2319\n",
            "Epoch 41/100\n",
            "1/1 [==============================] - 0s 11ms/step - loss: 7.2263 - mae: 7.2263\n",
            "Epoch 42/100\n",
            "1/1 [==============================] - 0s 11ms/step - loss: 7.2206 - mae: 7.2206\n",
            "Epoch 43/100\n",
            "1/1 [==============================] - 0s 11ms/step - loss: 7.2150 - mae: 7.2150\n",
            "Epoch 44/100\n",
            "1/1 [==============================] - 0s 11ms/step - loss: 7.2094 - mae: 7.2094\n",
            "Epoch 45/100\n",
            "1/1 [==============================] - 0s 11ms/step - loss: 7.2038 - mae: 7.2038\n",
            "Epoch 46/100\n",
            "1/1 [==============================] - 0s 10ms/step - loss: 7.1981 - mae: 7.1981\n",
            "Epoch 47/100\n",
            "1/1 [==============================] - 0s 11ms/step - loss: 7.1925 - mae: 7.1925\n",
            "Epoch 48/100\n",
            "1/1 [==============================] - 0s 11ms/step - loss: 7.1869 - mae: 7.1869\n",
            "Epoch 49/100\n",
            "1/1 [==============================] - 0s 11ms/step - loss: 7.1813 - mae: 7.1813\n",
            "Epoch 50/100\n",
            "1/1 [==============================] - 0s 11ms/step - loss: 7.1756 - mae: 7.1756\n",
            "Epoch 51/100\n",
            "1/1 [==============================] - 0s 11ms/step - loss: 7.1700 - mae: 7.1700\n",
            "Epoch 52/100\n",
            "1/1 [==============================] - 0s 11ms/step - loss: 7.1644 - mae: 7.1644\n",
            "Epoch 53/100\n",
            "1/1 [==============================] - 0s 10ms/step - loss: 7.1588 - mae: 7.1588\n",
            "Epoch 54/100\n",
            "1/1 [==============================] - 0s 10ms/step - loss: 7.1531 - mae: 7.1531\n",
            "Epoch 55/100\n",
            "1/1 [==============================] - 0s 15ms/step - loss: 7.1475 - mae: 7.1475\n",
            "Epoch 56/100\n",
            "1/1 [==============================] - 0s 11ms/step - loss: 7.1419 - mae: 7.1419\n",
            "Epoch 57/100\n",
            "1/1 [==============================] - 0s 12ms/step - loss: 7.1363 - mae: 7.1363\n",
            "Epoch 58/100\n",
            "1/1 [==============================] - 0s 15ms/step - loss: 7.1306 - mae: 7.1306\n",
            "Epoch 59/100\n",
            "1/1 [==============================] - 0s 11ms/step - loss: 7.1250 - mae: 7.1250\n",
            "Epoch 60/100\n",
            "1/1 [==============================] - 0s 15ms/step - loss: 7.1194 - mae: 7.1194\n",
            "Epoch 61/100\n",
            "1/1 [==============================] - 0s 11ms/step - loss: 7.1138 - mae: 7.1138\n",
            "Epoch 62/100\n",
            "1/1 [==============================] - 0s 10ms/step - loss: 7.1081 - mae: 7.1081\n",
            "Epoch 63/100\n",
            "1/1 [==============================] - 0s 11ms/step - loss: 7.1025 - mae: 7.1025\n",
            "Epoch 64/100\n",
            "1/1 [==============================] - 0s 12ms/step - loss: 7.0969 - mae: 7.0969\n",
            "Epoch 65/100\n",
            "1/1 [==============================] - 0s 12ms/step - loss: 7.0912 - mae: 7.0912\n",
            "Epoch 66/100\n",
            "1/1 [==============================] - 0s 13ms/step - loss: 7.0856 - mae: 7.0856\n",
            "Epoch 67/100\n",
            "1/1 [==============================] - 0s 10ms/step - loss: 7.0800 - mae: 7.0800\n",
            "Epoch 68/100\n",
            "1/1 [==============================] - 0s 15ms/step - loss: 7.0744 - mae: 7.0744\n",
            "Epoch 69/100\n",
            "1/1 [==============================] - 0s 12ms/step - loss: 7.0688 - mae: 7.0688\n",
            "Epoch 70/100\n",
            "1/1 [==============================] - 0s 12ms/step - loss: 7.0631 - mae: 7.0631\n",
            "Epoch 71/100\n",
            "1/1 [==============================] - 0s 11ms/step - loss: 7.0575 - mae: 7.0575\n",
            "Epoch 72/100\n",
            "1/1 [==============================] - 0s 12ms/step - loss: 7.0519 - mae: 7.0519\n",
            "Epoch 73/100\n",
            "1/1 [==============================] - 0s 14ms/step - loss: 7.0463 - mae: 7.0463\n",
            "Epoch 74/100\n",
            "1/1 [==============================] - 0s 11ms/step - loss: 7.0406 - mae: 7.0406\n",
            "Epoch 75/100\n",
            "1/1 [==============================] - 0s 12ms/step - loss: 7.0350 - mae: 7.0350\n",
            "Epoch 76/100\n",
            "1/1 [==============================] - 0s 10ms/step - loss: 7.0294 - mae: 7.0294\n",
            "Epoch 77/100\n",
            "1/1 [==============================] - 0s 12ms/step - loss: 7.0238 - mae: 7.0238\n",
            "Epoch 78/100\n",
            "1/1 [==============================] - 0s 11ms/step - loss: 7.0181 - mae: 7.0181\n",
            "Epoch 79/100\n",
            "1/1 [==============================] - 0s 12ms/step - loss: 7.0125 - mae: 7.0125\n",
            "Epoch 80/100\n",
            "1/1 [==============================] - 0s 14ms/step - loss: 7.0069 - mae: 7.0069\n",
            "Epoch 81/100\n",
            "1/1 [==============================] - 0s 12ms/step - loss: 7.0013 - mae: 7.0013\n",
            "Epoch 82/100\n",
            "1/1 [==============================] - 0s 12ms/step - loss: 6.9956 - mae: 6.9956\n",
            "Epoch 83/100\n",
            "1/1 [==============================] - 0s 13ms/step - loss: 6.9900 - mae: 6.9900\n",
            "Epoch 84/100\n",
            "1/1 [==============================] - 0s 13ms/step - loss: 6.9844 - mae: 6.9844\n",
            "Epoch 85/100\n",
            "1/1 [==============================] - 0s 11ms/step - loss: 6.9788 - mae: 6.9788\n",
            "Epoch 86/100\n",
            "1/1 [==============================] - 0s 13ms/step - loss: 6.9731 - mae: 6.9731\n",
            "Epoch 87/100\n",
            "1/1 [==============================] - 0s 13ms/step - loss: 6.9675 - mae: 6.9675\n",
            "Epoch 88/100\n",
            "1/1 [==============================] - 0s 15ms/step - loss: 6.9619 - mae: 6.9619\n",
            "Epoch 89/100\n",
            "1/1 [==============================] - 0s 11ms/step - loss: 6.9563 - mae: 6.9563\n",
            "Epoch 90/100\n",
            "1/1 [==============================] - 0s 14ms/step - loss: 6.9506 - mae: 6.9506\n",
            "Epoch 91/100\n",
            "1/1 [==============================] - 0s 20ms/step - loss: 6.9450 - mae: 6.9450\n",
            "Epoch 92/100\n",
            "1/1 [==============================] - 0s 10ms/step - loss: 6.9394 - mae: 6.9394\n",
            "Epoch 93/100\n",
            "1/1 [==============================] - 0s 11ms/step - loss: 6.9338 - mae: 6.9338\n",
            "Epoch 94/100\n",
            "1/1 [==============================] - 0s 14ms/step - loss: 6.9281 - mae: 6.9281\n",
            "Epoch 95/100\n",
            "1/1 [==============================] - 0s 14ms/step - loss: 6.9225 - mae: 6.9225\n",
            "Epoch 96/100\n",
            "1/1 [==============================] - 0s 12ms/step - loss: 6.9169 - mae: 6.9169\n",
            "Epoch 97/100\n",
            "1/1 [==============================] - 0s 10ms/step - loss: 6.9113 - mae: 6.9113\n",
            "Epoch 98/100\n",
            "1/1 [==============================] - 0s 10ms/step - loss: 6.9056 - mae: 6.9056\n",
            "Epoch 99/100\n",
            "1/1 [==============================] - 0s 10ms/step - loss: 6.9000 - mae: 6.9000\n",
            "Epoch 100/100\n",
            "1/1 [==============================] - 0s 10ms/step - loss: 6.8944 - mae: 6.8944\n"
          ]
        },
        {
          "data": {
            "text/plain": [
              "<keras.src.callbacks.History at 0x78f33c0d4e80>"
            ]
          },
          "execution_count": 8,
          "metadata": {},
          "output_type": "execute_result"
        }
      ],
      "source": [
        "# First let's just try to train the model for longer by increasing epochs from 5 to 100\n",
        "model = tf.keras.Sequential([\n",
        "    tf.keras.layers.Dense(units = 1)\n",
        "])\n",
        "\n",
        "model.compile(loss = tf.keras.losses.mae,\n",
        "              optimizer = tf.keras.optimizers.SGD(),\n",
        "              metrics = ['mae'])\n",
        "\n",
        "model.fit(tf.expand_dims(X, axis = -1), y, epochs = 100)"
      ]
    },
    {
      "cell_type": "code",
      "execution_count": null,
      "metadata": {
        "colab": {
          "base_uri": "https://localhost:8080/"
        },
        "id": "wmf1T-ibtTt6",
        "outputId": "0d54ac59-aaf0-43ee-ecb9-e6e4cd552b41"
      },
      "outputs": [
        {
          "name": "stdout",
          "output_type": "stream",
          "text": [
            "1/1 [==============================] - 0s 61ms/step\n"
          ]
        },
        {
          "data": {
            "text/plain": [
              "array([[30.01011]], dtype=float32)"
            ]
          },
          "execution_count": 9,
          "metadata": {},
          "output_type": "execute_result"
        }
      ],
      "source": [
        "model.predict([17.0])"
      ]
    },
    {
      "cell_type": "markdown",
      "metadata": {
        "id": "waDmdRuYuFmR"
      },
      "source": [
        "As we can see, after training for 100 epochs, the model was close to predicting the correct value."
      ]
    },
    {
      "cell_type": "code",
      "execution_count": null,
      "metadata": {
        "colab": {
          "base_uri": "https://localhost:8080/"
        },
        "id": "hZWC9EVOt8OS",
        "outputId": "f6da2ce4-f100-4429-88ea-0f63129d05fc"
      },
      "outputs": [
        {
          "name": "stdout",
          "output_type": "stream",
          "text": [
            "Epoch 1/100\n",
            "1/1 [==============================] - 0s 491ms/step - loss: 12.3734 - mae: 12.3734\n",
            "Epoch 2/100\n",
            "1/1 [==============================] - 0s 13ms/step - loss: 11.8354 - mae: 11.8354\n",
            "Epoch 3/100\n",
            "1/1 [==============================] - 0s 21ms/step - loss: 11.2836 - mae: 11.2836\n",
            "Epoch 4/100\n",
            "1/1 [==============================] - 0s 17ms/step - loss: 10.7133 - mae: 10.7133\n",
            "Epoch 5/100\n",
            "1/1 [==============================] - 0s 15ms/step - loss: 10.1201 - mae: 10.1201\n",
            "Epoch 6/100\n",
            "1/1 [==============================] - 0s 16ms/step - loss: 9.5076 - mae: 9.5076\n",
            "Epoch 7/100\n",
            "1/1 [==============================] - 0s 18ms/step - loss: 8.8620 - mae: 8.8620\n",
            "Epoch 8/100\n",
            "1/1 [==============================] - 0s 15ms/step - loss: 8.1761 - mae: 8.1761\n",
            "Epoch 9/100\n",
            "1/1 [==============================] - 0s 14ms/step - loss: 7.4431 - mae: 7.4431\n",
            "Epoch 10/100\n",
            "1/1 [==============================] - 0s 13ms/step - loss: 6.6570 - mae: 6.6570\n",
            "Epoch 11/100\n",
            "1/1 [==============================] - 0s 13ms/step - loss: 5.8109 - mae: 5.8109\n",
            "Epoch 12/100\n",
            "1/1 [==============================] - 0s 13ms/step - loss: 4.8978 - mae: 4.8978\n",
            "Epoch 13/100\n",
            "1/1 [==============================] - 0s 11ms/step - loss: 4.1208 - mae: 4.1208\n",
            "Epoch 14/100\n",
            "1/1 [==============================] - 0s 11ms/step - loss: 4.0255 - mae: 4.0255\n",
            "Epoch 15/100\n",
            "1/1 [==============================] - 0s 12ms/step - loss: 3.9317 - mae: 3.9317\n",
            "Epoch 16/100\n",
            "1/1 [==============================] - 0s 14ms/step - loss: 3.9707 - mae: 3.9707\n",
            "Epoch 17/100\n",
            "1/1 [==============================] - 0s 16ms/step - loss: 3.9105 - mae: 3.9105\n",
            "Epoch 18/100\n",
            "1/1 [==============================] - 0s 14ms/step - loss: 3.9771 - mae: 3.9771\n",
            "Epoch 19/100\n",
            "1/1 [==============================] - 0s 20ms/step - loss: 3.9092 - mae: 3.9092\n",
            "Epoch 20/100\n",
            "1/1 [==============================] - 0s 14ms/step - loss: 3.9585 - mae: 3.9585\n",
            "Epoch 21/100\n",
            "1/1 [==============================] - 0s 17ms/step - loss: 3.9156 - mae: 3.9156\n",
            "Epoch 22/100\n",
            "1/1 [==============================] - 0s 13ms/step - loss: 3.9330 - mae: 3.9330\n",
            "Epoch 23/100\n",
            "1/1 [==============================] - 0s 12ms/step - loss: 3.9254 - mae: 3.9254\n",
            "Epoch 24/100\n",
            "1/1 [==============================] - 0s 15ms/step - loss: 3.9158 - mae: 3.9158\n",
            "Epoch 25/100\n",
            "1/1 [==============================] - 0s 11ms/step - loss: 3.9378 - mae: 3.9378\n",
            "Epoch 26/100\n",
            "1/1 [==============================] - 0s 11ms/step - loss: 3.8901 - mae: 3.8901\n",
            "Epoch 27/100\n",
            "1/1 [==============================] - 0s 11ms/step - loss: 3.9445 - mae: 3.9445\n",
            "Epoch 28/100\n",
            "1/1 [==============================] - 0s 11ms/step - loss: 3.8771 - mae: 3.8771\n",
            "Epoch 29/100\n",
            "1/1 [==============================] - 0s 13ms/step - loss: 3.9374 - mae: 3.9374\n",
            "Epoch 30/100\n",
            "1/1 [==============================] - 0s 11ms/step - loss: 3.8838 - mae: 3.8838\n",
            "Epoch 31/100\n",
            "1/1 [==============================] - 0s 11ms/step - loss: 3.9143 - mae: 3.9143\n",
            "Epoch 32/100\n",
            "1/1 [==============================] - 0s 11ms/step - loss: 3.8996 - mae: 3.8996\n",
            "Epoch 33/100\n",
            "1/1 [==============================] - 0s 11ms/step - loss: 3.8941 - mae: 3.8941\n",
            "Epoch 34/100\n",
            "1/1 [==============================] - 0s 12ms/step - loss: 3.9064 - mae: 3.9064\n",
            "Epoch 35/100\n",
            "1/1 [==============================] - 0s 12ms/step - loss: 3.8682 - mae: 3.8682\n",
            "Epoch 36/100\n",
            "1/1 [==============================] - 0s 11ms/step - loss: 3.9133 - mae: 3.9133\n",
            "Epoch 37/100\n",
            "1/1 [==============================] - 0s 11ms/step - loss: 3.8462 - mae: 3.8462\n",
            "Epoch 38/100\n",
            "1/1 [==============================] - 0s 13ms/step - loss: 3.9151 - mae: 3.9151\n",
            "Epoch 39/100\n",
            "1/1 [==============================] - 0s 14ms/step - loss: 3.8546 - mae: 3.8546\n",
            "Epoch 40/100\n",
            "1/1 [==============================] - 0s 13ms/step - loss: 3.8974 - mae: 3.8974\n",
            "Epoch 41/100\n",
            "1/1 [==============================] - 0s 15ms/step - loss: 3.8691 - mae: 3.8691\n",
            "Epoch 42/100\n",
            "1/1 [==============================] - 0s 10ms/step - loss: 3.8713 - mae: 3.8713\n",
            "Epoch 43/100\n",
            "1/1 [==============================] - 0s 15ms/step - loss: 3.8760 - mae: 3.8760\n",
            "Epoch 44/100\n",
            "1/1 [==============================] - 0s 10ms/step - loss: 3.8451 - mae: 3.8451\n",
            "Epoch 45/100\n",
            "1/1 [==============================] - 0s 11ms/step - loss: 3.8831 - mae: 3.8831\n",
            "Epoch 46/100\n",
            "1/1 [==============================] - 0s 11ms/step - loss: 3.8188 - mae: 3.8188\n",
            "Epoch 47/100\n",
            "1/1 [==============================] - 0s 11ms/step - loss: 3.8903 - mae: 3.8903\n",
            "Epoch 48/100\n",
            "1/1 [==============================] - 0s 11ms/step - loss: 3.8323 - mae: 3.8323\n",
            "Epoch 49/100\n",
            "1/1 [==============================] - 0s 13ms/step - loss: 3.8738 - mae: 3.8738\n",
            "Epoch 50/100\n",
            "1/1 [==============================] - 0s 13ms/step - loss: 3.8394 - mae: 3.8394\n",
            "Epoch 51/100\n",
            "1/1 [==============================] - 0s 12ms/step - loss: 3.8473 - mae: 3.8473\n",
            "Epoch 52/100\n",
            "1/1 [==============================] - 0s 11ms/step - loss: 3.8468 - mae: 3.8468\n",
            "Epoch 53/100\n",
            "1/1 [==============================] - 0s 11ms/step - loss: 3.8209 - mae: 3.8209\n",
            "Epoch 54/100\n",
            "1/1 [==============================] - 0s 14ms/step - loss: 3.8541 - mae: 3.8541\n",
            "Epoch 55/100\n",
            "1/1 [==============================] - 0s 12ms/step - loss: 3.7943 - mae: 3.7943\n",
            "Epoch 56/100\n",
            "1/1 [==============================] - 0s 12ms/step - loss: 3.8685 - mae: 3.8685\n",
            "Epoch 57/100\n",
            "1/1 [==============================] - 0s 11ms/step - loss: 3.8038 - mae: 3.8038\n",
            "Epoch 58/100\n",
            "1/1 [==============================] - 0s 16ms/step - loss: 3.8489 - mae: 3.8489\n",
            "Epoch 59/100\n",
            "1/1 [==============================] - 0s 14ms/step - loss: 3.8111 - mae: 3.8111\n",
            "Epoch 60/100\n",
            "1/1 [==============================] - 0s 12ms/step - loss: 3.8221 - mae: 3.8221\n",
            "Epoch 61/100\n",
            "1/1 [==============================] - 0s 10ms/step - loss: 3.8186 - mae: 3.8186\n",
            "Epoch 62/100\n",
            "1/1 [==============================] - 0s 11ms/step - loss: 3.7953 - mae: 3.7953\n",
            "Epoch 63/100\n",
            "1/1 [==============================] - 0s 10ms/step - loss: 3.8262 - mae: 3.8262\n",
            "Epoch 64/100\n",
            "1/1 [==============================] - 0s 12ms/step - loss: 3.7740 - mae: 3.7740\n",
            "Epoch 65/100\n",
            "1/1 [==============================] - 0s 10ms/step - loss: 3.8428 - mae: 3.8428\n",
            "Epoch 66/100\n",
            "1/1 [==============================] - 0s 12ms/step - loss: 3.7764 - mae: 3.7764\n",
            "Epoch 67/100\n",
            "1/1 [==============================] - 0s 11ms/step - loss: 3.8225 - mae: 3.8225\n",
            "Epoch 68/100\n",
            "1/1 [==============================] - 0s 9ms/step - loss: 3.7840 - mae: 3.7840\n",
            "Epoch 69/100\n",
            "1/1 [==============================] - 0s 10ms/step - loss: 3.7954 - mae: 3.7954\n",
            "Epoch 70/100\n",
            "1/1 [==============================] - 0s 10ms/step - loss: 3.7917 - mae: 3.7917\n",
            "Epoch 71/100\n",
            "1/1 [==============================] - 0s 10ms/step - loss: 3.7684 - mae: 3.7684\n",
            "Epoch 72/100\n",
            "1/1 [==============================] - 0s 10ms/step - loss: 3.8028 - mae: 3.8028\n",
            "Epoch 73/100\n",
            "1/1 [==============================] - 0s 10ms/step - loss: 3.7495 - mae: 3.7495\n",
            "Epoch 74/100\n",
            "1/1 [==============================] - 0s 10ms/step - loss: 3.8161 - mae: 3.8161\n",
            "Epoch 75/100\n",
            "1/1 [==============================] - 0s 11ms/step - loss: 3.7500 - mae: 3.7500\n",
            "Epoch 76/100\n",
            "1/1 [==============================] - 0s 10ms/step - loss: 3.7950 - mae: 3.7950\n",
            "Epoch 77/100\n",
            "1/1 [==============================] - 0s 11ms/step - loss: 3.7578 - mae: 3.7578\n",
            "Epoch 78/100\n",
            "1/1 [==============================] - 0s 14ms/step - loss: 3.7676 - mae: 3.7676\n",
            "Epoch 79/100\n",
            "1/1 [==============================] - 0s 14ms/step - loss: 3.7657 - mae: 3.7657\n",
            "Epoch 80/100\n",
            "1/1 [==============================] - 0s 15ms/step - loss: 3.7420 - mae: 3.7420\n",
            "Epoch 81/100\n",
            "1/1 [==============================] - 0s 13ms/step - loss: 3.7826 - mae: 3.7826\n",
            "Epoch 82/100\n",
            "1/1 [==============================] - 0s 16ms/step - loss: 3.7209 - mae: 3.7209\n",
            "Epoch 83/100\n",
            "1/1 [==============================] - 0s 20ms/step - loss: 3.7906 - mae: 3.7906\n",
            "Epoch 84/100\n",
            "1/1 [==============================] - 0s 25ms/step - loss: 3.7248 - mae: 3.7248\n",
            "Epoch 85/100\n",
            "1/1 [==============================] - 0s 17ms/step - loss: 3.7660 - mae: 3.7660\n",
            "Epoch 86/100\n",
            "1/1 [==============================] - 0s 14ms/step - loss: 3.7327 - mae: 3.7327\n",
            "Epoch 87/100\n",
            "1/1 [==============================] - 0s 17ms/step - loss: 3.7383 - mae: 3.7383\n",
            "Epoch 88/100\n",
            "1/1 [==============================] - 0s 12ms/step - loss: 3.7409 - mae: 3.7409\n",
            "Epoch 89/100\n",
            "1/1 [==============================] - 0s 17ms/step - loss: 3.7189 - mae: 3.7189\n",
            "Epoch 90/100\n",
            "1/1 [==============================] - 0s 16ms/step - loss: 3.7579 - mae: 3.7579\n",
            "Epoch 91/100\n",
            "1/1 [==============================] - 0s 15ms/step - loss: 3.6927 - mae: 3.6927\n",
            "Epoch 92/100\n",
            "1/1 [==============================] - 0s 13ms/step - loss: 3.7633 - mae: 3.7633\n",
            "Epoch 93/100\n",
            "1/1 [==============================] - 0s 12ms/step - loss: 3.7007 - mae: 3.7007\n",
            "Epoch 94/100\n",
            "1/1 [==============================] - 0s 12ms/step - loss: 3.7355 - mae: 3.7355\n",
            "Epoch 95/100\n",
            "1/1 [==============================] - 0s 15ms/step - loss: 3.7089 - mae: 3.7089\n",
            "Epoch 96/100\n",
            "1/1 [==============================] - 0s 13ms/step - loss: 3.7075 - mae: 3.7075\n",
            "Epoch 97/100\n",
            "1/1 [==============================] - 0s 22ms/step - loss: 3.7233 - mae: 3.7233\n",
            "Epoch 98/100\n",
            "1/1 [==============================] - 0s 16ms/step - loss: 3.6878 - mae: 3.6878\n",
            "Epoch 99/100\n",
            "1/1 [==============================] - 0s 11ms/step - loss: 3.7343 - mae: 3.7343\n",
            "Epoch 100/100\n",
            "1/1 [==============================] - 0s 10ms/step - loss: 3.6693 - mae: 3.6693\n"
          ]
        },
        {
          "data": {
            "text/plain": [
              "<keras.src.callbacks.History at 0x78f32df210f0>"
            ]
          },
          "execution_count": 10,
          "metadata": {},
          "output_type": "execute_result"
        }
      ],
      "source": [
        "# Adding an additional hidden layer with 100 neurons\n",
        "model = tf.keras.Sequential([\n",
        "    tf.keras.layers.Dense(100, activation = 'relu'),\n",
        "    tf.keras.layers.Dense(1)\n",
        "])\n",
        "\n",
        "model.compile(loss = 'mae',\n",
        "              optimizer = tf.keras.optimizers.SGD(),\n",
        "              metrics = ['mae'])\n",
        "\n",
        "model.fit(tf.expand_dims(X, axis = -1), y, epochs = 100)"
      ]
    },
    {
      "cell_type": "code",
      "execution_count": null,
      "metadata": {
        "colab": {
          "base_uri": "https://localhost:8080/"
        },
        "id": "GIyPm-tavo-0",
        "outputId": "e6df6516-ce64-4d84-903c-69de85d599a0"
      },
      "outputs": [
        {
          "name": "stdout",
          "output_type": "stream",
          "text": [
            "1/1 [==============================] - 0s 102ms/step\n"
          ]
        },
        {
          "data": {
            "text/plain": [
              "array([[31.156866]], dtype=float32)"
            ]
          },
          "execution_count": 11,
          "metadata": {},
          "output_type": "execute_result"
        }
      ],
      "source": [
        "# We got worse predictions\n",
        "model.predict([17.0])"
      ]
    },
    {
      "cell_type": "code",
      "execution_count": null,
      "metadata": {
        "colab": {
          "base_uri": "https://localhost:8080/"
        },
        "id": "Ya0k7B1Qlh7X",
        "outputId": "7737ede5-3180-4417-bd8b-1a5fc76aa23c"
      },
      "outputs": [
        {
          "name": "stderr",
          "output_type": "stream",
          "text": [
            "WARNING:absl:`lr` is deprecated in Keras optimizer, please use `learning_rate` or use the legacy optimizer, e.g.,tf.keras.optimizers.legacy.Adam.\n"
          ]
        },
        {
          "name": "stdout",
          "output_type": "stream",
          "text": [
            "Epoch 1/100\n",
            "1/1 [==============================] - 1s 871ms/step - loss: 12.1816\n",
            "Epoch 2/100\n",
            "1/1 [==============================] - 0s 18ms/step - loss: 12.0814\n",
            "Epoch 3/100\n",
            "1/1 [==============================] - 0s 15ms/step - loss: 11.9810\n",
            "Epoch 4/100\n",
            "1/1 [==============================] - 0s 16ms/step - loss: 11.8803\n",
            "Epoch 5/100\n",
            "1/1 [==============================] - 0s 13ms/step - loss: 11.7793\n",
            "Epoch 6/100\n",
            "1/1 [==============================] - 0s 10ms/step - loss: 11.6781\n",
            "Epoch 7/100\n",
            "1/1 [==============================] - 0s 11ms/step - loss: 11.5765\n",
            "Epoch 8/100\n",
            "1/1 [==============================] - 0s 11ms/step - loss: 11.4747\n",
            "Epoch 9/100\n",
            "1/1 [==============================] - 0s 9ms/step - loss: 11.3725\n",
            "Epoch 10/100\n",
            "1/1 [==============================] - 0s 16ms/step - loss: 11.2701\n",
            "Epoch 11/100\n",
            "1/1 [==============================] - 0s 12ms/step - loss: 11.1672\n",
            "Epoch 12/100\n",
            "1/1 [==============================] - 0s 11ms/step - loss: 11.0640\n",
            "Epoch 13/100\n",
            "1/1 [==============================] - 0s 12ms/step - loss: 10.9605\n",
            "Epoch 14/100\n",
            "1/1 [==============================] - 0s 12ms/step - loss: 10.8566\n",
            "Epoch 15/100\n",
            "1/1 [==============================] - 0s 11ms/step - loss: 10.7522\n",
            "Epoch 16/100\n",
            "1/1 [==============================] - 0s 12ms/step - loss: 10.6475\n",
            "Epoch 17/100\n",
            "1/1 [==============================] - 0s 9ms/step - loss: 10.5423\n",
            "Epoch 18/100\n",
            "1/1 [==============================] - 0s 12ms/step - loss: 10.4367\n",
            "Epoch 19/100\n",
            "1/1 [==============================] - 0s 9ms/step - loss: 10.3306\n",
            "Epoch 20/100\n",
            "1/1 [==============================] - 0s 11ms/step - loss: 10.2240\n",
            "Epoch 21/100\n",
            "1/1 [==============================] - 0s 12ms/step - loss: 10.1169\n",
            "Epoch 22/100\n",
            "1/1 [==============================] - 0s 12ms/step - loss: 10.0093\n",
            "Epoch 23/100\n",
            "1/1 [==============================] - 0s 11ms/step - loss: 9.9012\n",
            "Epoch 24/100\n",
            "1/1 [==============================] - 0s 10ms/step - loss: 9.7926\n",
            "Epoch 25/100\n",
            "1/1 [==============================] - 0s 13ms/step - loss: 9.6833\n",
            "Epoch 26/100\n",
            "1/1 [==============================] - 0s 15ms/step - loss: 9.5736\n",
            "Epoch 27/100\n",
            "1/1 [==============================] - 0s 11ms/step - loss: 9.4632\n",
            "Epoch 28/100\n",
            "1/1 [==============================] - 0s 12ms/step - loss: 9.3522\n",
            "Epoch 29/100\n",
            "1/1 [==============================] - 0s 10ms/step - loss: 9.2406\n",
            "Epoch 30/100\n",
            "1/1 [==============================] - 0s 17ms/step - loss: 9.1283\n",
            "Epoch 31/100\n",
            "1/1 [==============================] - 0s 13ms/step - loss: 9.0154\n",
            "Epoch 32/100\n",
            "1/1 [==============================] - 0s 16ms/step - loss: 8.9019\n",
            "Epoch 33/100\n",
            "1/1 [==============================] - 0s 21ms/step - loss: 8.7876\n",
            "Epoch 34/100\n",
            "1/1 [==============================] - 0s 17ms/step - loss: 8.6726\n",
            "Epoch 35/100\n",
            "1/1 [==============================] - 0s 13ms/step - loss: 8.5569\n",
            "Epoch 36/100\n",
            "1/1 [==============================] - 0s 14ms/step - loss: 8.4405\n",
            "Epoch 37/100\n",
            "1/1 [==============================] - 0s 20ms/step - loss: 8.3233\n",
            "Epoch 38/100\n",
            "1/1 [==============================] - 0s 14ms/step - loss: 8.2054\n",
            "Epoch 39/100\n",
            "1/1 [==============================] - 0s 15ms/step - loss: 8.0866\n",
            "Epoch 40/100\n",
            "1/1 [==============================] - 0s 16ms/step - loss: 7.9671\n",
            "Epoch 41/100\n",
            "1/1 [==============================] - 0s 13ms/step - loss: 7.8467\n",
            "Epoch 42/100\n",
            "1/1 [==============================] - 0s 14ms/step - loss: 7.7255\n",
            "Epoch 43/100\n",
            "1/1 [==============================] - 0s 16ms/step - loss: 7.6034\n",
            "Epoch 44/100\n",
            "1/1 [==============================] - 0s 13ms/step - loss: 7.4805\n",
            "Epoch 45/100\n",
            "1/1 [==============================] - 0s 16ms/step - loss: 7.3567\n",
            "Epoch 46/100\n",
            "1/1 [==============================] - 0s 14ms/step - loss: 7.2319\n",
            "Epoch 47/100\n",
            "1/1 [==============================] - 0s 13ms/step - loss: 7.1063\n",
            "Epoch 48/100\n",
            "1/1 [==============================] - 0s 15ms/step - loss: 6.9797\n",
            "Epoch 49/100\n",
            "1/1 [==============================] - 0s 15ms/step - loss: 6.9555\n",
            "Epoch 50/100\n",
            "1/1 [==============================] - 0s 17ms/step - loss: 6.9417\n",
            "Epoch 51/100\n",
            "1/1 [==============================] - 0s 20ms/step - loss: 6.9281\n",
            "Epoch 52/100\n",
            "1/1 [==============================] - 0s 17ms/step - loss: 6.9148\n",
            "Epoch 53/100\n",
            "1/1 [==============================] - 0s 12ms/step - loss: 6.9016\n",
            "Epoch 54/100\n",
            "1/1 [==============================] - 0s 14ms/step - loss: 6.8887\n",
            "Epoch 55/100\n",
            "1/1 [==============================] - 0s 20ms/step - loss: 6.8758\n",
            "Epoch 56/100\n",
            "1/1 [==============================] - 0s 22ms/step - loss: 6.9048\n",
            "Epoch 57/100\n",
            "1/1 [==============================] - 0s 12ms/step - loss: 6.9306\n",
            "Epoch 58/100\n",
            "1/1 [==============================] - 0s 18ms/step - loss: 6.9458\n",
            "Epoch 59/100\n",
            "1/1 [==============================] - 0s 16ms/step - loss: 6.9515\n",
            "Epoch 60/100\n",
            "1/1 [==============================] - 0s 13ms/step - loss: 6.9484\n",
            "Epoch 61/100\n",
            "1/1 [==============================] - 0s 16ms/step - loss: 6.9376\n",
            "Epoch 62/100\n",
            "1/1 [==============================] - 0s 12ms/step - loss: 6.9198\n",
            "Epoch 63/100\n",
            "1/1 [==============================] - 0s 18ms/step - loss: 6.8957\n",
            "Epoch 64/100\n",
            "1/1 [==============================] - 0s 15ms/step - loss: 6.8660\n",
            "Epoch 65/100\n",
            "1/1 [==============================] - 0s 13ms/step - loss: 6.8313\n",
            "Epoch 66/100\n",
            "1/1 [==============================] - 0s 14ms/step - loss: 6.7921\n",
            "Epoch 67/100\n",
            "1/1 [==============================] - 0s 22ms/step - loss: 6.7592\n",
            "Epoch 68/100\n",
            "1/1 [==============================] - 0s 19ms/step - loss: 6.7513\n",
            "Epoch 69/100\n",
            "1/1 [==============================] - 0s 18ms/step - loss: 6.7432\n",
            "Epoch 70/100\n",
            "1/1 [==============================] - 0s 20ms/step - loss: 6.7347\n",
            "Epoch 71/100\n",
            "1/1 [==============================] - 0s 14ms/step - loss: 6.7259\n",
            "Epoch 72/100\n",
            "1/1 [==============================] - 0s 16ms/step - loss: 6.7169\n",
            "Epoch 73/100\n",
            "1/1 [==============================] - 0s 14ms/step - loss: 6.7076\n",
            "Epoch 74/100\n",
            "1/1 [==============================] - 0s 14ms/step - loss: 6.6982\n",
            "Epoch 75/100\n",
            "1/1 [==============================] - 0s 14ms/step - loss: 6.6885\n",
            "Epoch 76/100\n",
            "1/1 [==============================] - 0s 12ms/step - loss: 6.6786\n",
            "Epoch 77/100\n",
            "1/1 [==============================] - 0s 15ms/step - loss: 6.6686\n",
            "Epoch 78/100\n",
            "1/1 [==============================] - 0s 16ms/step - loss: 6.6584\n",
            "Epoch 79/100\n",
            "1/1 [==============================] - 0s 17ms/step - loss: 6.6480\n",
            "Epoch 80/100\n",
            "1/1 [==============================] - 0s 15ms/step - loss: 6.6375\n",
            "Epoch 81/100\n",
            "1/1 [==============================] - 0s 12ms/step - loss: 6.6268\n",
            "Epoch 82/100\n",
            "1/1 [==============================] - 0s 14ms/step - loss: 6.6161\n",
            "Epoch 83/100\n",
            "1/1 [==============================] - 0s 16ms/step - loss: 6.6051\n",
            "Epoch 84/100\n",
            "1/1 [==============================] - 0s 14ms/step - loss: 6.5941\n",
            "Epoch 85/100\n",
            "1/1 [==============================] - 0s 15ms/step - loss: 6.5829\n",
            "Epoch 86/100\n",
            "1/1 [==============================] - 0s 16ms/step - loss: 6.5717\n",
            "Epoch 87/100\n",
            "1/1 [==============================] - 0s 15ms/step - loss: 6.5603\n",
            "Epoch 88/100\n",
            "1/1 [==============================] - 0s 14ms/step - loss: 6.5488\n",
            "Epoch 89/100\n",
            "1/1 [==============================] - 0s 15ms/step - loss: 6.5372\n",
            "Epoch 90/100\n",
            "1/1 [==============================] - 0s 14ms/step - loss: 6.5255\n",
            "Epoch 91/100\n",
            "1/1 [==============================] - 0s 14ms/step - loss: 6.5137\n",
            "Epoch 92/100\n",
            "1/1 [==============================] - 0s 15ms/step - loss: 6.5018\n",
            "Epoch 93/100\n",
            "1/1 [==============================] - 0s 17ms/step - loss: 6.4898\n",
            "Epoch 94/100\n",
            "1/1 [==============================] - 0s 14ms/step - loss: 6.4777\n",
            "Epoch 95/100\n",
            "1/1 [==============================] - 0s 14ms/step - loss: 6.4655\n",
            "Epoch 96/100\n",
            "1/1 [==============================] - 0s 12ms/step - loss: 6.4532\n",
            "Epoch 97/100\n",
            "1/1 [==============================] - 0s 15ms/step - loss: 6.4408\n",
            "Epoch 98/100\n",
            "1/1 [==============================] - 0s 23ms/step - loss: 6.4284\n",
            "Epoch 99/100\n",
            "1/1 [==============================] - 0s 17ms/step - loss: 6.4158\n",
            "Epoch 100/100\n",
            "1/1 [==============================] - 0s 14ms/step - loss: 6.4032\n"
          ]
        },
        {
          "data": {
            "text/plain": [
              "<keras.src.callbacks.History at 0x78f32de0c5e0>"
            ]
          },
          "execution_count": 12,
          "metadata": {},
          "output_type": "execute_result"
        }
      ],
      "source": [
        "# Using the Adam optimizer with a learning rate of 0.01 instead of SGD\n",
        "# And removing the ReLU activation function\n",
        "model = tf.keras.Sequential([\n",
        "    tf.keras.layers.Dense(100, activation = None),\n",
        "    tf.keras.layers.Dense(1)\n",
        "])\n",
        "\n",
        "model.compile(loss = 'mae',\n",
        "              optimizer = tf.keras.optimizers.Adam(lr = 0.01),\n",
        "              )\n",
        "\n",
        "model.fit(tf.expand_dims(X, axis = -1), y, epochs = 100)"
      ]
    },
    {
      "cell_type": "code",
      "execution_count": null,
      "metadata": {
        "colab": {
          "base_uri": "https://localhost:8080/"
        },
        "id": "5hoor0gEc8Ie",
        "outputId": "087d0d4d-cefc-4ab1-aa43-9eca36ff6467"
      },
      "outputs": [
        {
          "name": "stdout",
          "output_type": "stream",
          "text": [
            "1/1 [==============================] - 0s 98ms/step\n"
          ]
        },
        {
          "data": {
            "text/plain": [
              "array([[30.732347]], dtype=float32)"
            ]
          },
          "execution_count": 13,
          "metadata": {},
          "output_type": "execute_result"
        }
      ],
      "source": [
        "# We got worse loss value, but the prediction was slightly better\n",
        "model.predict([17.0])"
      ]
    },
    {
      "cell_type": "markdown",
      "metadata": {
        "id": "GjIl70WXw810"
      },
      "source": [
        "Generally, not all the steps of improving the model will actually improve it.\n",
        "\n",
        "We changed the architecture of the model by adding an additional hidden layer with 100 nerurons and a ReLU activation function, and after training we did get a lower MAE. But it is important to understand that this is the training loss which is not indicative of how good our model is.\n",
        "\n",
        "This can be seen when making a prediction using the imporved model. This prediction was worse than the one made with simpler model, which means that the model is overfitting the data.\n",
        "\n",
        "Model improvement must be done iteratively by adding slight improvements to the model, and changing few hyperparameters at a time."
      ]
    },
    {
      "cell_type": "markdown",
      "metadata": {
        "id": "g2zAnJ2VdzIm"
      },
      "source": [
        "#Evaluating the Model"
      ]
    },
    {
      "cell_type": "markdown",
      "metadata": {
        "id": "K2QHK2fJfIB6"
      },
      "source": [
        "Evaluating a model is an important step of determining how good our model is.\n",
        "\n",
        "The best way to evaluate a model is by:\n",
        "\n",
        "\n",
        "1.   Plotting the original data;\n",
        "2.   Visualizing the architecture of the model;\n",
        "3.   Visualizing the loss and accuracy curves (among others);\n",
        "4.   Making predictions and comparing them to the ground truth values (as we've already briefly done);  \n",
        "\n"
      ]
    },
    {
      "cell_type": "code",
      "execution_count": null,
      "metadata": {
        "colab": {
          "base_uri": "https://localhost:8080/"
        },
        "id": "KAafEB9fwCFQ",
        "outputId": "851b1052-2fd0-4405-bada-412975624d97"
      },
      "outputs": [
        {
          "data": {
            "text/plain": [
              "<tf.Tensor: shape=(50,), dtype=int32, numpy=\n",
              "array([-100,  -96,  -92,  -88,  -84,  -80,  -76,  -72,  -68,  -64,  -60,\n",
              "        -56,  -52,  -48,  -44,  -40,  -36,  -32,  -28,  -24,  -20,  -16,\n",
              "        -12,   -8,   -4,    0,    4,    8,   12,   16,   20,   24,   28,\n",
              "         32,   36,   40,   44,   48,   52,   56,   60,   64,   68,   72,\n",
              "         76,   80,   84,   88,   92,   96], dtype=int32)>"
            ]
          },
          "execution_count": 14,
          "metadata": {},
          "output_type": "execute_result"
        }
      ],
      "source": [
        "# To evaluate the model we'll first create a larger dataset for better visualization\n",
        "X = tf.range(-100, 100, 4)\n",
        "X"
      ]
    },
    {
      "cell_type": "code",
      "execution_count": null,
      "metadata": {
        "colab": {
          "base_uri": "https://localhost:8080/"
        },
        "id": "w2uxkr4dgTgo",
        "outputId": "bb22fab1-a854-4aed-d44e-57ad7b444bd7"
      },
      "outputs": [
        {
          "data": {
            "text/plain": [
              "<tf.Tensor: shape=(50,), dtype=int32, numpy=\n",
              "array([-90, -86, -82, -78, -74, -70, -66, -62, -58, -54, -50, -46, -42,\n",
              "       -38, -34, -30, -26, -22, -18, -14, -10,  -6,  -2,   2,   6,  10,\n",
              "        14,  18,  22,  26,  30,  34,  38,  42,  46,  50,  54,  58,  62,\n",
              "        66,  70,  74,  78,  82,  86,  90,  94,  98, 102, 106], dtype=int32)>"
            ]
          },
          "execution_count": 15,
          "metadata": {},
          "output_type": "execute_result"
        }
      ],
      "source": [
        "y = X + 10\n",
        "y"
      ]
    },
    {
      "cell_type": "code",
      "execution_count": null,
      "metadata": {
        "colab": {
          "base_uri": "https://localhost:8080/",
          "height": 448
        },
        "id": "MsWvoU7WgXN7",
        "outputId": "c4403726-b420-4ad6-ec88-de285b3d70bd"
      },
      "outputs": [
        {
          "data": {
            "text/plain": [
              "<matplotlib.collections.PathCollection at 0x78f32dd00340>"
            ]
          },
          "execution_count": 16,
          "metadata": {},
          "output_type": "execute_result"
        },
        {
          "data": {
            "image/png": "[encoded data removed]",
            "text/plain": [
              "<Figure size 640x480 with 1 Axes>"
            ]
          },
          "metadata": {},
          "output_type": "display_data"
        }
      ],
      "source": [
        "# Plotting the original data\n",
        "plt.scatter(X, y)"
      ]
    },
    {
      "cell_type": "markdown",
      "metadata": {
        "id": "ovXFTsKthhd9"
      },
      "source": [
        "An important part of fitting a model is preforming **cross-validation**, in other words, splitting the data. The model will train on part of the data (around 70% - 80%), and validate on what remains of the data (typically 20% - 30%).\n",
        "\n",
        "There are different ways of performing cross-validation, like the validation set method, or k-fold cross-validation, and the train-test split is the simplest of them.\n",
        "\n",
        "**Train test split** is a model validation process that allows you to simulate how your model would perform with new data.\n",
        "\n"
      ]
    },
    {
      "cell_type": "code",
      "execution_count": null,
      "metadata": {
        "id": "4dqLxxjogZUZ"
      },
      "outputs": [],
      "source": [
        "# Creating a train-test split\n",
        "from sklearn.model_selection import train_test_split\n",
        "X_train, X_test, y_train, y_test = train_test_split(np.array(X), # splitting can't be done on tensors so we temporarily transform the data into numpy arrays\n",
        "                                                    np.array(y),\n",
        "                                                    test_size = 0.2,\n",
        "                                                    random_state = 42)"
      ]
    },
    {
      "cell_type": "code",
      "execution_count": null,
      "metadata": {
        "colab": {
          "base_uri": "https://localhost:8080/"
        },
        "id": "pcAEAfwXhLxI",
        "outputId": "683f7dcc-d4ca-4e55-adc5-6ed93ec8406b"
      },
      "outputs": [
        {
          "data": {
            "text/plain": [
              "(40, 10, 40, 10)"
            ]
          },
          "execution_count": 18,
          "metadata": {},
          "output_type": "execute_result"
        }
      ],
      "source": [
        "# 80% train, 20% test\n",
        "len(X_train), len(X_test), len(y_train), len(y_test)"
      ]
    },
    {
      "cell_type": "code",
      "execution_count": null,
      "metadata": {
        "id": "E6zOzg4NhYHf"
      },
      "outputs": [],
      "source": [
        "# Turning the sets back into tensors\n",
        "X_train = tf.constant(X_train)\n",
        "X_test = tf.constant(X_test)\n",
        "y_train = tf.constant(y_train)\n",
        "y_test = tf.constant(y_test)"
      ]
    },
    {
      "cell_type": "code",
      "execution_count": null,
      "metadata": {
        "colab": {
          "base_uri": "https://localhost:8080/",
          "height": 445
        },
        "id": "CGyh5-vAh1Qn",
        "outputId": "265cf657-5ace-42a7-8b16-dae09c5303d4"
      },
      "outputs": [
        {
          "data": {
            "image/png": "[encoded data removed]",
            "text/plain": [
              "<Figure size 800x500 with 1 Axes>"
            ]
          },
          "metadata": {},
          "output_type": "display_data"
        }
      ],
      "source": [
        "# Visualizing the splits\n",
        "plt.figure(figsize = (8,5))\n",
        "plt.scatter(X_train, y_train, label = 'Train Data')\n",
        "plt.scatter(X_test, y_test, label = 'Test Data')\n",
        "plt.legend();"
      ]
    },
    {
      "cell_type": "markdown",
      "metadata": {
        "id": "4lnu1N9HlGE1"
      },
      "source": [
        "Now that we have our data ready and split, we will create a model that will be fitted on the train data, and evaluated on the test data."
      ]
    },
    {
      "cell_type": "code",
      "execution_count": null,
      "metadata": {
        "colab": {
          "base_uri": "https://localhost:8080/"
        },
        "id": "_GeeJtekkVp0",
        "outputId": "60010401-6d3b-44b8-932f-aa4fecd3a827"
      },
      "outputs": [
        {
          "name": "stdout",
          "output_type": "stream",
          "text": [
            "Model: \"sequential_4\"\n",
            "_________________________________________________________________\n",
            " Layer (type)                Output Shape              Param #   \n",
            "=================================================================\n",
            " dense_6 (Dense)             (None, 1)                 2         \n",
            "                                                                 \n",
            "=================================================================\n",
            "Total params: 2 (8.00 Byte)\n",
            "Trainable params: 2 (8.00 Byte)\n",
            "Non-trainable params: 0 (0.00 Byte)\n",
            "_________________________________________________________________\n"
          ]
        }
      ],
      "source": [
        "model = tf.keras.Sequential([\n",
        "    tf.keras.layers.Dense(units = 1,\n",
        "                          input_shape = [1]) # We need to define the input shape if we want to visualize the model before fitting it\n",
        "])\n",
        "\n",
        "model.compile(loss = 'mae',\n",
        "              optimizer = tf.keras.optimizers.SGD(),\n",
        "              metrics = ['mae'])\n",
        "\n",
        "# Getting a summary of the model\n",
        "model.summary()"
      ]
    },
    {
      "cell_type": "markdown",
      "metadata": {
        "id": "lNS7XzUrmurM"
      },
      "source": [
        "**Total params** - is the number of parameters in the model. We only have 2, since there's 1 weight connecting the input to the single neuron of the hidden layer, and 1 weight that connects said neuron to the output.\n",
        "\n",
        "**Trainable params** - is the total number of parameters that can be trained in the network. Here both of the weights are trainable. This number can be different from the total params when using transfer learning."
      ]
    },
    {
      "cell_type": "code",
      "execution_count": null,
      "metadata": {
        "colab": {
          "base_uri": "https://localhost:8080/"
        },
        "id": "Sxv-IieIml33",
        "outputId": "0f60848c-a64d-457b-95ad-2406da7ea2dc"
      },
      "outputs": [
        {
          "name": "stdout",
          "output_type": "stream",
          "text": [
            "Epoch 1/100\n",
            "2/2 [==============================] - 0s 10ms/step - loss: 127.5219 - mae: 127.5219\n",
            "Epoch 2/100\n",
            "2/2 [==============================] - 0s 10ms/step - loss: 80.8928 - mae: 80.8928\n",
            "Epoch 3/100\n",
            "2/2 [==============================] - 0s 7ms/step - loss: 32.4959 - mae: 32.4959\n",
            "Epoch 4/100\n",
            "2/2 [==============================] - 0s 6ms/step - loss: 9.6618 - mae: 9.6618\n",
            "Epoch 5/100\n",
            "2/2 [==============================] - 0s 11ms/step - loss: 10.7184 - mae: 10.7184\n",
            "Epoch 6/100\n",
            "2/2 [==============================] - 0s 7ms/step - loss: 13.4494 - mae: 13.4494\n",
            "Epoch 7/100\n",
            "2/2 [==============================] - 0s 7ms/step - loss: 12.1080 - mae: 12.1080\n",
            "Epoch 8/100\n",
            "2/2 [==============================] - 0s 9ms/step - loss: 9.9292 - mae: 9.9292\n",
            "Epoch 9/100\n",
            "2/2 [==============================] - 0s 8ms/step - loss: 14.5638 - mae: 14.5638\n",
            "Epoch 10/100\n",
            "2/2 [==============================] - 0s 8ms/step - loss: 9.7971 - mae: 9.7971\n",
            "Epoch 11/100\n",
            "2/2 [==============================] - 0s 8ms/step - loss: 11.5468 - mae: 11.5468\n",
            "Epoch 12/100\n",
            "2/2 [==============================] - 0s 8ms/step - loss: 10.5722 - mae: 10.5722\n",
            "Epoch 13/100\n",
            "2/2 [==============================] - 0s 8ms/step - loss: 22.6391 - mae: 22.6391\n",
            "Epoch 14/100\n",
            "2/2 [==============================] - 0s 8ms/step - loss: 9.6440 - mae: 9.6440\n",
            "Epoch 15/100\n",
            "2/2 [==============================] - 0s 12ms/step - loss: 15.0105 - mae: 15.0105\n",
            "Epoch 16/100\n",
            "2/2 [==============================] - 0s 8ms/step - loss: 15.7485 - mae: 15.7485\n",
            "Epoch 17/100\n",
            "2/2 [==============================] - 0s 9ms/step - loss: 14.4321 - mae: 14.4321\n",
            "Epoch 18/100\n",
            "2/2 [==============================] - 0s 11ms/step - loss: 9.9181 - mae: 9.9181\n",
            "Epoch 19/100\n",
            "2/2 [==============================] - 0s 8ms/step - loss: 9.2373 - mae: 9.2373\n",
            "Epoch 20/100\n",
            "2/2 [==============================] - 0s 8ms/step - loss: 15.4783 - mae: 15.4783\n",
            "Epoch 21/100\n",
            "2/2 [==============================] - 0s 8ms/step - loss: 12.0891 - mae: 12.0891\n",
            "Epoch 22/100\n",
            "2/2 [==============================] - 0s 9ms/step - loss: 9.8159 - mae: 9.8159\n",
            "Epoch 23/100\n",
            "2/2 [==============================] - 0s 13ms/step - loss: 14.7706 - mae: 14.7706\n",
            "Epoch 24/100\n",
            "2/2 [==============================] - 0s 7ms/step - loss: 15.1381 - mae: 15.1381\n",
            "Epoch 25/100\n",
            "2/2 [==============================] - 0s 6ms/step - loss: 18.3752 - mae: 18.3752\n",
            "Epoch 26/100\n",
            "2/2 [==============================] - 0s 6ms/step - loss: 9.3570 - mae: 9.3570\n",
            "Epoch 27/100\n",
            "2/2 [==============================] - 0s 8ms/step - loss: 13.4329 - mae: 13.4329\n",
            "Epoch 28/100\n",
            "2/2 [==============================] - 0s 7ms/step - loss: 9.7516 - mae: 9.7516\n",
            "Epoch 29/100\n",
            "2/2 [==============================] - 0s 7ms/step - loss: 11.7683 - mae: 11.7683\n",
            "Epoch 30/100\n",
            "2/2 [==============================] - 0s 7ms/step - loss: 9.1556 - mae: 9.1556\n",
            "Epoch 31/100\n",
            "2/2 [==============================] - 0s 9ms/step - loss: 15.7177 - mae: 15.7177\n",
            "Epoch 32/100\n",
            "2/2 [==============================] - 0s 7ms/step - loss: 10.8654 - mae: 10.8654\n",
            "Epoch 33/100\n",
            "2/2 [==============================] - 0s 10ms/step - loss: 11.4034 - mae: 11.4034\n",
            "Epoch 34/100\n",
            "2/2 [==============================] - 0s 12ms/step - loss: 14.8626 - mae: 14.8626\n",
            "Epoch 35/100\n",
            "2/2 [==============================] - 0s 10ms/step - loss: 9.3988 - mae: 9.3988\n",
            "Epoch 36/100\n",
            "2/2 [==============================] - 0s 8ms/step - loss: 10.9941 - mae: 10.9941\n",
            "Epoch 37/100\n",
            "2/2 [==============================] - 0s 7ms/step - loss: 12.5467 - mae: 12.5467\n",
            "Epoch 38/100\n",
            "2/2 [==============================] - 0s 8ms/step - loss: 16.4878 - mae: 16.4878\n",
            "Epoch 39/100\n",
            "2/2 [==============================] - 0s 9ms/step - loss: 9.3703 - mae: 9.3703\n",
            "Epoch 40/100\n",
            "2/2 [==============================] - 0s 10ms/step - loss: 9.8748 - mae: 9.8748\n",
            "Epoch 41/100\n",
            "2/2 [==============================] - 0s 8ms/step - loss: 15.1369 - mae: 15.1369\n",
            "Epoch 42/100\n",
            "2/2 [==============================] - 0s 8ms/step - loss: 16.6365 - mae: 16.6365\n",
            "Epoch 43/100\n",
            "2/2 [==============================] - 0s 9ms/step - loss: 12.2353 - mae: 12.2353\n",
            "Epoch 44/100\n",
            "2/2 [==============================] - 0s 9ms/step - loss: 15.4978 - mae: 15.4978\n",
            "Epoch 45/100\n",
            "2/2 [==============================] - 0s 9ms/step - loss: 14.2355 - mae: 14.2355\n",
            "Epoch 46/100\n",
            "2/2 [==============================] - 0s 8ms/step - loss: 16.5533 - mae: 16.5533\n",
            "Epoch 47/100\n",
            "2/2 [==============================] - 0s 8ms/step - loss: 16.6356 - mae: 16.6356\n",
            "Epoch 48/100\n",
            "2/2 [==============================] - 0s 7ms/step - loss: 19.0148 - mae: 19.0148\n",
            "Epoch 49/100\n",
            "2/2 [==============================] - 0s 7ms/step - loss: 14.6991 - mae: 14.6991\n",
            "Epoch 50/100\n",
            "2/2 [==============================] - 0s 8ms/step - loss: 9.0293 - mae: 9.0293\n",
            "Epoch 51/100\n",
            "2/2 [==============================] - 0s 8ms/step - loss: 10.1618 - mae: 10.1618\n",
            "Epoch 52/100\n",
            "2/2 [==============================] - 0s 10ms/step - loss: 16.3622 - mae: 16.3622\n",
            "Epoch 53/100\n",
            "2/2 [==============================] - 0s 8ms/step - loss: 16.8293 - mae: 16.8293\n",
            "Epoch 54/100\n",
            "2/2 [==============================] - 0s 7ms/step - loss: 11.2226 - mae: 11.2226\n",
            "Epoch 55/100\n",
            "2/2 [==============================] - 0s 9ms/step - loss: 17.8376 - mae: 17.8376\n",
            "Epoch 56/100\n",
            "2/2 [==============================] - 0s 8ms/step - loss: 15.6867 - mae: 15.6867\n",
            "Epoch 57/100\n",
            "2/2 [==============================] - 0s 8ms/step - loss: 8.8906 - mae: 8.8906\n",
            "Epoch 58/100\n",
            "2/2 [==============================] - 0s 8ms/step - loss: 9.1722 - mae: 9.1722\n",
            "Epoch 59/100\n",
            "2/2 [==============================] - 0s 7ms/step - loss: 12.1918 - mae: 12.1918\n",
            "Epoch 60/100\n",
            "2/2 [==============================] - 0s 7ms/step - loss: 9.4581 - mae: 9.4581\n",
            "Epoch 61/100\n",
            "2/2 [==============================] - 0s 8ms/step - loss: 8.3382 - mae: 8.3382\n",
            "Epoch 62/100\n",
            "2/2 [==============================] - 0s 8ms/step - loss: 9.4291 - mae: 9.4291\n",
            "Epoch 63/100\n",
            "2/2 [==============================] - 0s 8ms/step - loss: 9.0070 - mae: 9.0070\n",
            "Epoch 64/100\n",
            "2/2 [==============================] - 0s 10ms/step - loss: 17.0921 - mae: 17.0921\n",
            "Epoch 65/100\n",
            "2/2 [==============================] - 0s 8ms/step - loss: 9.0106 - mae: 9.0106\n",
            "Epoch 66/100\n",
            "2/2 [==============================] - 0s 9ms/step - loss: 9.6933 - mae: 9.6933\n",
            "Epoch 67/100\n",
            "2/2 [==============================] - 0s 8ms/step - loss: 13.4653 - mae: 13.4653\n",
            "Epoch 68/100\n",
            "2/2 [==============================] - 0s 7ms/step - loss: 9.1213 - mae: 9.1213\n",
            "Epoch 69/100\n",
            "2/2 [==============================] - 0s 11ms/step - loss: 15.0646 - mae: 15.0646\n",
            "Epoch 70/100\n",
            "2/2 [==============================] - 0s 9ms/step - loss: 9.2805 - mae: 9.2805\n",
            "Epoch 71/100\n",
            "2/2 [==============================] - 0s 8ms/step - loss: 14.5751 - mae: 14.5751\n",
            "Epoch 72/100\n",
            "2/2 [==============================] - 0s 7ms/step - loss: 11.5333 - mae: 11.5333\n",
            "Epoch 73/100\n",
            "2/2 [==============================] - 0s 7ms/step - loss: 22.2201 - mae: 22.2201\n",
            "Epoch 74/100\n",
            "2/2 [==============================] - 0s 7ms/step - loss: 8.3274 - mae: 8.3274\n",
            "Epoch 75/100\n",
            "2/2 [==============================] - 0s 7ms/step - loss: 9.8239 - mae: 9.8239\n",
            "Epoch 76/100\n",
            "2/2 [==============================] - 0s 7ms/step - loss: 12.7517 - mae: 12.7517\n",
            "Epoch 77/100\n",
            "2/2 [==============================] - 0s 8ms/step - loss: 21.2852 - mae: 21.2852\n",
            "Epoch 78/100\n",
            "2/2 [==============================] - 0s 7ms/step - loss: 9.2220 - mae: 9.2220\n",
            "Epoch 79/100\n",
            "2/2 [==============================] - 0s 7ms/step - loss: 17.3936 - mae: 17.3936\n",
            "Epoch 80/100\n",
            "2/2 [==============================] - 0s 8ms/step - loss: 16.0389 - mae: 16.0389\n",
            "Epoch 81/100\n",
            "2/2 [==============================] - 0s 7ms/step - loss: 19.4256 - mae: 19.4256\n",
            "Epoch 82/100\n",
            "2/2 [==============================] - 0s 8ms/step - loss: 14.7326 - mae: 14.7326\n",
            "Epoch 83/100\n",
            "2/2 [==============================] - 0s 8ms/step - loss: 10.0334 - mae: 10.0334\n",
            "Epoch 84/100\n",
            "2/2 [==============================] - 0s 8ms/step - loss: 9.1917 - mae: 9.1917\n",
            "Epoch 85/100\n",
            "2/2 [==============================] - 0s 7ms/step - loss: 8.4783 - mae: 8.4783\n",
            "Epoch 86/100\n",
            "2/2 [==============================] - 0s 7ms/step - loss: 12.4850 - mae: 12.4850\n",
            "Epoch 87/100\n",
            "2/2 [==============================] - 0s 7ms/step - loss: 20.1555 - mae: 20.1555\n",
            "Epoch 88/100\n",
            "2/2 [==============================] - 0s 9ms/step - loss: 12.1231 - mae: 12.1231\n",
            "Epoch 89/100\n",
            "2/2 [==============================] - 0s 8ms/step - loss: 15.1960 - mae: 15.1960\n",
            "Epoch 90/100\n",
            "2/2 [==============================] - 0s 7ms/step - loss: 7.5891 - mae: 7.5891\n",
            "Epoch 91/100\n",
            "2/2 [==============================] - 0s 8ms/step - loss: 17.9077 - mae: 17.9077\n",
            "Epoch 92/100\n",
            "2/2 [==============================] - 0s 7ms/step - loss: 13.0139 - mae: 13.0139\n",
            "Epoch 93/100\n",
            "2/2 [==============================] - 0s 8ms/step - loss: 10.3068 - mae: 10.3068\n",
            "Epoch 94/100\n",
            "2/2 [==============================] - 0s 10ms/step - loss: 20.5443 - mae: 20.5443\n",
            "Epoch 95/100\n",
            "2/2 [==============================] - 0s 10ms/step - loss: 26.4580 - mae: 26.4580\n",
            "Epoch 96/100\n",
            "2/2 [==============================] - 0s 9ms/step - loss: 12.9648 - mae: 12.9648\n",
            "Epoch 97/100\n",
            "2/2 [==============================] - 0s 11ms/step - loss: 11.3433 - mae: 11.3433\n",
            "Epoch 98/100\n",
            "2/2 [==============================] - 0s 7ms/step - loss: 9.5173 - mae: 9.5173\n",
            "Epoch 99/100\n",
            "2/2 [==============================] - 0s 8ms/step - loss: 9.3436 - mae: 9.3436\n",
            "Epoch 100/100\n",
            "2/2 [==============================] - 0s 8ms/step - loss: 8.9568 - mae: 8.9568\n"
          ]
        },
        {
          "data": {
            "text/plain": [
              "<keras.src.callbacks.History at 0x78f3d5576b90>"
            ]
          },
          "execution_count": 22,
          "metadata": {},
          "output_type": "execute_result"
        }
      ],
      "source": [
        "# Fitting the model on the train data\n",
        "model.fit(X_train, y_train, epochs = 100)"
      ]
    },
    {
      "cell_type": "code",
      "execution_count": null,
      "metadata": {
        "colab": {
          "base_uri": "https://localhost:8080/",
          "height": 201
        },
        "id": "0ShCVyi_oJ-z",
        "outputId": "0235bfc7-7312-4b83-c102-15335621e2ba"
      },
      "outputs": [
        {
          "data": {
            "image/png": "[encoded data removed]",
            "text/plain": [
              "<IPython.core.display.Image object>"
            ]
          },
          "execution_count": 23,
          "metadata": {},
          "output_type": "execute_result"
        }
      ],
      "source": [
        "# It is possible to plot the model\n",
        "from tensorflow.keras.utils import plot_model\n",
        "\n",
        "plot_model(model = model,\n",
        "           show_shapes = True)"
      ]
    },
    {
      "cell_type": "code",
      "execution_count": null,
      "metadata": {
        "colab": {
          "base_uri": "https://localhost:8080/"
        },
        "id": "6BuPxkSnaQb1",
        "outputId": "123742f7-9ea6-4fc3-9fa6-78250788a4c8"
      },
      "outputs": [
        {
          "name": "stdout",
          "output_type": "stream",
          "text": [
            "Model: \"Model1\"\n",
            "_________________________________________________________________\n",
            " Layer (type)                Output Shape              Param #   \n",
            "=================================================================\n",
            " Input_Layer (Dense)         (None, 50)                100       \n",
            "                                                                 \n",
            " Output_Layer (Dense)        (None, 1)                 51        \n",
            "                                                                 \n",
            "=================================================================\n",
            "Total params: 151 (604.00 Byte)\n",
            "Trainable params: 151 (604.00 Byte)\n",
            "Non-trainable params: 0 (0.00 Byte)\n",
            "_________________________________________________________________\n"
          ]
        }
      ],
      "source": [
        "# We can also name models and layers to easily distinguish them\n",
        "model = tf.keras.Sequential([\n",
        "    tf.keras.layers.Dense(units = 50,\n",
        "                          input_shape = [1],\n",
        "                          activation = 'relu',\n",
        "                          name = 'Input_Layer'),\n",
        "    tf.keras.layers.Dense(units = 1,\n",
        "                          name = 'Output_Layer')\n",
        "], name = 'Model1')\n",
        "\n",
        "model.compile(loss = 'mae',\n",
        "              optimizer = tf.keras.optimizers.SGD(),\n",
        "              metrics = ['mae'])\n",
        "\n",
        "model.summary()"
      ]
    },
    {
      "cell_type": "code",
      "execution_count": null,
      "metadata": {
        "colab": {
          "base_uri": "https://localhost:8080/"
        },
        "id": "UJFavD7LbGjM",
        "outputId": "4db4259d-6e70-4a00-cd43-705ae1fc5387"
      },
      "outputs": [
        {
          "data": {
            "text/plain": [
              "<keras.src.callbacks.History at 0x78f329706bf0>"
            ]
          },
          "execution_count": 25,
          "metadata": {},
          "output_type": "execute_result"
        }
      ],
      "source": [
        "model.fit(X_train, y_train, epochs = 100, verbose = 0)"
      ]
    },
    {
      "cell_type": "code",
      "execution_count": null,
      "metadata": {
        "colab": {
          "base_uri": "https://localhost:8080/",
          "height": 312
        },
        "id": "QSkze64SbROH",
        "outputId": "674e9ee3-c8bc-4a8f-9164-b4cf32837c69"
      },
      "outputs": [
        {
          "data": {
            "image/png": "[encoded data removed]",
            "text/plain": [
              "<IPython.core.display.Image object>"
            ]
          },
          "execution_count": 26,
          "metadata": {},
          "output_type": "execute_result"
        }
      ],
      "source": [
        "plot_model(model = model,\n",
        "           show_shapes = True)"
      ]
    },
    {
      "cell_type": "code",
      "execution_count": null,
      "metadata": {
        "colab": {
          "base_uri": "https://localhost:8080/"
        },
        "id": "DNCI0TlrbVJQ",
        "outputId": "f8f9857d-79d7-4975-a7d0-8e337a589b24"
      },
      "outputs": [
        {
          "name": "stderr",
          "output_type": "stream",
          "text": [
            "WARNING:tensorflow:5 out of the last 5 calls to <function Model.make_predict_function.<locals>.predict_function at 0x78f3297d7d00> triggered tf.function retracing. Tracing is expensive and the excessive number of tracings could be due to (1) creating @tf.function repeatedly in a loop, (2) passing tensors with different shapes, (3) passing Python objects instead of tensors. For (1), please define your @tf.function outside of the loop. For (2), @tf.function has reduce_retracing=True option that can avoid unnecessary retracing. For (3), please refer to https://www.tensorflow.org/guide/function#controlling_retracing and https://www.tensorflow.org/api_docs/python/tf/function for  more details.\n"
          ]
        },
        {
          "name": "stdout",
          "output_type": "stream",
          "text": [
            "1/1 [==============================] - 0s 67ms/step\n"
          ]
        },
        {
          "data": {
            "text/plain": [
              "array([[-11.679518 ],\n",
              "       [ 52.19743  ],\n",
              "       [ 18.971266 ],\n",
              "       [ 74.34822  ],\n",
              "       [ -7.6283426],\n",
              "       [ 85.4236   ],\n",
              "       [  4.2040806],\n",
              "       [  0.5123664],\n",
              "       [ 26.354855 ],\n",
              "       [ -5.6027555]], dtype=float32)"
            ]
          },
          "execution_count": 27,
          "metadata": {},
          "output_type": "execute_result"
        }
      ],
      "source": [
        "# Visualizing the predictions\n",
        "# First we'll get the predictions first\n",
        "y_pred = model.predict(X_test)\n",
        "y_pred"
      ]
    },
    {
      "cell_type": "code",
      "execution_count": null,
      "metadata": {
        "id": "qLdh5Lj2cBTC"
      },
      "outputs": [],
      "source": [
        "# Now we'll define a function that will plot the predictions\n",
        "def plot_predictions(train_data = X_train,\n",
        "                     train_label = y_train,\n",
        "                     test_data = X_test,\n",
        "                     test_label = y_test,\n",
        "                     predictions = y_pred):\n",
        "  plt.figure(figsize = (8,6))\n",
        "  # Plotting the train data\n",
        "  plt.scatter(train_data, train_label, c='b', label = \"Train Data\")\n",
        "  # Plotting the test data\n",
        "  plt.scatter(test_data, test_label, c = 'g', label = 'Test Data')\n",
        "  # Plotting the predictions against the test labels\n",
        "  plt.scatter(test_label, predictions, c = 'r', label = 'Predictions')\n",
        "  plt.legend();"
      ]
    },
    {
      "cell_type": "code",
      "execution_count": null,
      "metadata": {
        "colab": {
          "base_uri": "https://localhost:8080/",
          "height": 522
        },
        "id": "1OB4tdfvdR9q",
        "outputId": "030344cb-686d-4066-a5eb-b380c1b45d7e"
      },
      "outputs": [
        {
          "data": {
            "image/png": "[encoded data removed]",
            "text/plain": [
              "<Figure size 800x600 with 1 Axes>"
            ]
          },
          "metadata": {},
          "output_type": "display_data"
        }
      ],
      "source": [
        "plot_predictions()"
      ]
    },
    {
      "cell_type": "markdown",
      "metadata": {
        "id": "m4-cfbRPekfI"
      },
      "source": [
        "##Evaluating the model with Evaluation Metrics"
      ]
    },
    {
      "cell_type": "markdown",
      "metadata": {
        "id": "kTucQ1WGfLpc"
      },
      "source": [
        "One of the most common ways to evaluate any model is by using evaluation metrics. Theses metrics quantify how wrong our model is, and help us decide whether we should improve our model or not.\n",
        "\n",
        "Depending on the type of problem we're trying to solve (either regression or classification), there are different metrics that can be used.\n",
        "\n",
        "Since we're working with a regression problem, here are some of the most common regreesion metrics:\n",
        "\n",
        "*   **Mean Absolute Error (MAE)** - The most basic regreesion metric.\n",
        "*   **Mean Squared Error (MSE)** - Punishes high error values.\n",
        "* **Root Mean Squared Error (RMSE)** - The square root of MSE. It is measured in the same units as the variables.\n",
        "* **Huber** - Calculate the Huber loss. A combination of MAE & MSE.\n",
        "* **$R^2$ Score** - coefficient of determination. It quantifies the percentage of variance of the dependant variables that is explained by the independant  variables. It is a useful statistic for evaluating the overall effectiveness and explanatory power of a regression model.\n",
        "\n",
        "In TensorFlow, these metrics can be accessed through `tensorflow.keras.losses`.\n",
        "\n",
        "\n",
        "\n"
      ]
    },
    {
      "cell_type": "code",
      "execution_count": null,
      "metadata": {
        "colab": {
          "base_uri": "https://localhost:8080/"
        },
        "id": "c_F3ZuqidTZb",
        "outputId": "11c41600-9b6c-45b0-94fc-09da769469fc"
      },
      "outputs": [
        {
          "name": "stdout",
          "output_type": "stream",
          "text": [
            "1/1 [==============================] - 0s 176ms/step - loss: 13.7078 - mae: 13.7078\n"
          ]
        },
        {
          "data": {
            "text/plain": [
              "[13.707756042480469, 13.707756042480469]"
            ]
          },
          "execution_count": 30,
          "metadata": {},
          "output_type": "execute_result"
        }
      ],
      "source": [
        "# Evaluating the model on the test set quickly with the metric chosen during compilation (MAE)\n",
        "model.evaluate(X_test, y_test)"
      ]
    },
    {
      "cell_type": "code",
      "execution_count": null,
      "metadata": {
        "colab": {
          "base_uri": "https://localhost:8080/"
        },
        "id": "8pRm1vheh7Su",
        "outputId": "f882d855-7b40-4b61-8b2a-7b900bf80aff"
      },
      "outputs": [
        {
          "data": {
            "text/plain": [
              "<tf.Tensor: shape=(), dtype=float32, numpy=13.707756>"
            ]
          },
          "execution_count": 31,
          "metadata": {},
          "output_type": "execute_result"
        }
      ],
      "source": [
        "# Now let's use the regression metrics\n",
        "# Calculating MAE\n",
        "# We need to convert the preditions into a tensor from a numpy array\n",
        "# We also need to squeeze the prediction tensor since it has the shape of (10,1) while y_test has the shape of (10,)\n",
        "tf.keras.losses.MAE(y_test, tf.constant(y_pred.squeeze()))"
      ]
    },
    {
      "cell_type": "code",
      "execution_count": null,
      "metadata": {
        "colab": {
          "base_uri": "https://localhost:8080/"
        },
        "id": "B5jsOMDcinlj",
        "outputId": "a381cbe4-31d4-4108-be73-0f12b4e18127"
      },
      "outputs": [
        {
          "data": {
            "text/plain": [
              "<tf.Tensor: shape=(), dtype=float32, numpy=212.33098>"
            ]
          },
          "execution_count": 32,
          "metadata": {},
          "output_type": "execute_result"
        }
      ],
      "source": [
        "# Calculating MSE\n",
        "tf.keras.losses.mean_squared_error(y_test, tf.constant(y_pred.squeeze()))"
      ]
    },
    {
      "cell_type": "code",
      "execution_count": null,
      "metadata": {
        "colab": {
          "base_uri": "https://localhost:8080/"
        },
        "id": "P3fwazX3kZVZ",
        "outputId": "4f22c480-e6c2-4e9a-d98a-645034c69c31"
      },
      "outputs": [
        {
          "data": {
            "text/plain": [
              "14.57158119057622"
            ]
          },
          "execution_count": 33,
          "metadata": {},
          "output_type": "execute_result"
        }
      ],
      "source": [
        "# Calculating RMSE\n",
        "import math\n",
        "math.sqrt(tf.keras.losses.mean_squared_error(y_test, tf.constant(y_pred.squeeze())))"
      ]
    },
    {
      "cell_type": "code",
      "execution_count": null,
      "metadata": {
        "id": "zPA9ZFYklOXD"
      },
      "outputs": [],
      "source": [
        "# Putting MAE, MSE, RMSE into a function\n",
        "def regression_metrics(y_true, y_pred):\n",
        "  metrics = {}\n",
        "  y_pred = tf.constant(y_pred.squeeze())\n",
        "  mae = tf.get_static_value(tf.keras.losses.mean_absolute_error(y_true, y_pred))\n",
        "  mse = tf.get_static_value(tf.keras.losses.mean_squared_error(y_true, y_pred))\n",
        "  rmse = math.sqrt(tf.keras.losses.mean_squared_error(y_true, y_pred))\n",
        "\n",
        "  metrics['MAE'] = mae\n",
        "  metrics['MSE'] = mse\n",
        "  metrics['RMSE'] = rmse\n",
        "\n",
        "  return metrics"
      ]
    },
    {
      "cell_type": "code",
      "execution_count": null,
      "metadata": {
        "colab": {
          "base_uri": "https://localhost:8080/"
        },
        "id": "zemTTxvWnbfm",
        "outputId": "f0d355c5-f72f-40e3-d052-773f11fa5334"
      },
      "outputs": [
        {
          "data": {
            "text/plain": [
              "{'MAE': 13.707756, 'MSE': 212.33098, 'RMSE': 14.57158119057622}"
            ]
          },
          "execution_count": 35,
          "metadata": {},
          "output_type": "execute_result"
        }
      ],
      "source": [
        "results = regression_metrics(y_test, y_pred)\n",
        "results"
      ]
    },
    {
      "cell_type": "markdown",
      "metadata": {
        "id": "RRa4GqUYFBBh"
      },
      "source": [
        "#Modeling Experiments"
      ]
    },
    {
      "cell_type": "markdown",
      "metadata": {
        "id": "_Vvbu0FYFEOw"
      },
      "source": [
        "Now that we evaluated our regression model, the next logical step is to improve the regression metrics. This can be done with the steps (among others) outlined in **Improveing the Model** section.\n",
        "\n",
        "But improving a single model is not enough. A better paradigm is to run multiple experiments using the data provided, i.e. build multiple, slighlty different models, fit them, and get predictions using said models.\n",
        "\n",
        "For example: using the X and y data above, we want to model multiple experiments with these models:\n",
        "\n",
        "1. `model_1` - consisting of a single hidden layer, trained for 100 epochs.\n",
        "2. `model_2` - consisting of two hidden layers, trained for 100 epochs.\n",
        "3. `model_3` - consisting of two hidden layers, trained for 500 epochs\n",
        "4. `model_4` - consisting of three hidden layers, trained for 100 epochs."
      ]
    },
    {
      "cell_type": "code",
      "execution_count": null,
      "metadata": {
        "colab": {
          "base_uri": "https://localhost:8080/"
        },
        "id": "LnqbXAqRoEPP",
        "outputId": "bda76dda-b585-489b-b1c3-9c0eafc1848c"
      },
      "outputs": [
        {
          "name": "stdout",
          "output_type": "stream",
          "text": [
            "Epoch 1/100\n",
            "2/2 [==============================] - 0s 16ms/step - loss: 76.0047 - mae: 76.0047 - mse: 7765.6641\n",
            "Epoch 2/100\n",
            "2/2 [==============================] - 0s 8ms/step - loss: 30.8264 - mae: 30.8264 - mse: 1395.5071\n",
            "Epoch 3/100\n",
            "2/2 [==============================] - 0s 26ms/step - loss: 17.0841 - mae: 17.0841 - mse: 395.8116\n",
            "Epoch 4/100\n",
            "2/2 [==============================] - 0s 8ms/step - loss: 9.4744 - mae: 9.4744 - mse: 129.9445\n",
            "Epoch 5/100\n",
            "2/2 [==============================] - 0s 10ms/step - loss: 11.3302 - mae: 11.3302 - mse: 186.1942\n",
            "Epoch 6/100\n",
            "2/2 [==============================] - 0s 10ms/step - loss: 9.8216 - mae: 9.8216 - mse: 131.4445\n",
            "Epoch 7/100\n",
            "2/2 [==============================] - 0s 8ms/step - loss: 22.3940 - mae: 22.3940 - mse: 695.1554\n",
            "Epoch 8/100\n",
            "2/2 [==============================] - 0s 8ms/step - loss: 9.6734 - mae: 9.6734 - mse: 96.5105\n",
            "Epoch 9/100\n",
            "2/2 [==============================] - 0s 8ms/step - loss: 15.8206 - mae: 15.8206 - mse: 339.1222\n",
            "Epoch 10/100\n",
            "2/2 [==============================] - 0s 8ms/step - loss: 9.7518 - mae: 9.7518 - mse: 107.4951\n",
            "Epoch 11/100\n",
            "2/2 [==============================] - 0s 9ms/step - loss: 11.4003 - mae: 11.4003 - mse: 177.7888\n",
            "Epoch 12/100\n",
            "2/2 [==============================] - 0s 8ms/step - loss: 10.4896 - mae: 10.4896 - mse: 112.8270\n",
            "Epoch 13/100\n",
            "2/2 [==============================] - 0s 8ms/step - loss: 22.9283 - mae: 22.9283 - mse: 734.9655\n",
            "Epoch 14/100\n",
            "2/2 [==============================] - 0s 12ms/step - loss: 9.5613 - mae: 9.5613 - mse: 94.1597\n",
            "Epoch 15/100\n",
            "2/2 [==============================] - 0s 10ms/step - loss: 15.1923 - mae: 15.1923 - mse: 320.0198\n",
            "Epoch 16/100\n",
            "2/2 [==============================] - 0s 13ms/step - loss: 15.9608 - mae: 15.9608 - mse: 360.4129\n",
            "Epoch 17/100\n",
            "2/2 [==============================] - 0s 11ms/step - loss: 9.2176 - mae: 9.2176 - mse: 121.5374\n",
            "Epoch 18/100\n",
            "2/2 [==============================] - 0s 10ms/step - loss: 9.6816 - mae: 9.6816 - mse: 112.4105\n",
            "Epoch 19/100\n",
            "2/2 [==============================] - 0s 11ms/step - loss: 16.0563 - mae: 16.0563 - mse: 394.6579\n",
            "Epoch 20/100\n",
            "2/2 [==============================] - 0s 9ms/step - loss: 12.3500 - mae: 12.3500 - mse: 222.3749\n",
            "Epoch 21/100\n",
            "2/2 [==============================] - 0s 9ms/step - loss: 10.8901 - mae: 10.8901 - mse: 165.9213\n",
            "Epoch 22/100\n",
            "2/2 [==============================] - 0s 9ms/step - loss: 14.9852 - mae: 14.9852 - mse: 330.9875\n",
            "Epoch 23/100\n",
            "2/2 [==============================] - 0s 8ms/step - loss: 10.3219 - mae: 10.3219 - mse: 116.7609\n",
            "Epoch 24/100\n",
            "2/2 [==============================] - 0s 10ms/step - loss: 9.9403 - mae: 9.9403 - mse: 106.0607\n",
            "Epoch 25/100\n",
            "2/2 [==============================] - 0s 11ms/step - loss: 14.0837 - mae: 14.0837 - mse: 293.5378\n",
            "Epoch 26/100\n",
            "2/2 [==============================] - 0s 8ms/step - loss: 15.8480 - mae: 15.8480 - mse: 354.5505\n",
            "Epoch 27/100\n",
            "2/2 [==============================] - 0s 11ms/step - loss: 16.0741 - mae: 16.0741 - mse: 362.7310\n",
            "Epoch 28/100\n",
            "2/2 [==============================] - 0s 9ms/step - loss: 9.4354 - mae: 9.4354 - mse: 127.1723\n",
            "Epoch 29/100\n",
            "2/2 [==============================] - 0s 9ms/step - loss: 10.3017 - mae: 10.3017 - mse: 160.0215\n",
            "Epoch 30/100\n",
            "2/2 [==============================] - 0s 15ms/step - loss: 9.3242 - mae: 9.3242 - mse: 92.0989\n",
            "Epoch 31/100\n",
            "2/2 [==============================] - 0s 11ms/step - loss: 14.7555 - mae: 14.7555 - mse: 290.2623\n",
            "Epoch 32/100\n",
            "2/2 [==============================] - 0s 10ms/step - loss: 9.4330 - mae: 9.4330 - mse: 124.3747\n",
            "Epoch 33/100\n",
            "2/2 [==============================] - 0s 8ms/step - loss: 9.1953 - mae: 9.1953 - mse: 138.1065\n",
            "Epoch 34/100\n",
            "2/2 [==============================] - 0s 11ms/step - loss: 15.9704 - mae: 15.9704 - mse: 362.8520\n",
            "Epoch 35/100\n",
            "2/2 [==============================] - 0s 10ms/step - loss: 9.1466 - mae: 9.1466 - mse: 93.7310\n",
            "Epoch 36/100\n",
            "2/2 [==============================] - 0s 11ms/step - loss: 11.9907 - mae: 11.9907 - mse: 219.9024\n",
            "Epoch 37/100\n",
            "2/2 [==============================] - 0s 15ms/step - loss: 8.6866 - mae: 8.6866 - mse: 117.2349\n",
            "Epoch 38/100\n",
            "2/2 [==============================] - 0s 9ms/step - loss: 9.2027 - mae: 9.2027 - mse: 88.7116\n",
            "Epoch 39/100\n",
            "2/2 [==============================] - 0s 8ms/step - loss: 12.3117 - mae: 12.3117 - mse: 232.1117\n",
            "Epoch 40/100\n",
            "2/2 [==============================] - 0s 9ms/step - loss: 11.5341 - mae: 11.5341 - mse: 196.9162\n",
            "Epoch 41/100\n",
            "2/2 [==============================] - 0s 9ms/step - loss: 15.9180 - mae: 15.9180 - mse: 322.6577\n",
            "Epoch 42/100\n",
            "2/2 [==============================] - 0s 9ms/step - loss: 16.5390 - mae: 16.5390 - mse: 368.6573\n",
            "Epoch 43/100\n",
            "2/2 [==============================] - 0s 8ms/step - loss: 12.1597 - mae: 12.1597 - mse: 216.1416\n",
            "Epoch 44/100\n",
            "2/2 [==============================] - 0s 9ms/step - loss: 15.4090 - mae: 15.4090 - mse: 326.1522\n",
            "Epoch 45/100\n",
            "2/2 [==============================] - 0s 11ms/step - loss: 14.1543 - mae: 14.1543 - mse: 279.3857\n",
            "Epoch 46/100\n",
            "2/2 [==============================] - 0s 10ms/step - loss: 16.4641 - mae: 16.4641 - mse: 377.2442\n",
            "Epoch 47/100\n",
            "2/2 [==============================] - 0s 12ms/step - loss: 16.5523 - mae: 16.5523 - mse: 383.8070\n",
            "Epoch 48/100\n",
            "2/2 [==============================] - 0s 11ms/step - loss: 18.9168 - mae: 18.9168 - mse: 482.5465\n",
            "Epoch 49/100\n",
            "2/2 [==============================] - 0s 13ms/step - loss: 14.5986 - mae: 14.5986 - mse: 318.6267\n",
            "Epoch 50/100\n",
            "2/2 [==============================] - 0s 14ms/step - loss: 8.9969 - mae: 8.9969 - mse: 110.2593\n",
            "Epoch 51/100\n",
            "2/2 [==============================] - 0s 15ms/step - loss: 10.0943 - mae: 10.0943 - mse: 146.3181\n",
            "Epoch 52/100\n",
            "2/2 [==============================] - 0s 9ms/step - loss: 16.2725 - mae: 16.2725 - mse: 348.4573\n",
            "Epoch 53/100\n",
            "2/2 [==============================] - 0s 12ms/step - loss: 16.7313 - mae: 16.7313 - mse: 388.6198\n",
            "Epoch 54/100\n",
            "2/2 [==============================] - 0s 11ms/step - loss: 11.1570 - mae: 11.1570 - mse: 190.9082\n",
            "Epoch 55/100\n",
            "2/2 [==============================] - 0s 11ms/step - loss: 17.7448 - mae: 17.7448 - mse: 448.7178\n",
            "Epoch 56/100\n",
            "2/2 [==============================] - 0s 11ms/step - loss: 15.5820 - mae: 15.5820 - mse: 331.6144\n",
            "Epoch 57/100\n",
            "2/2 [==============================] - 0s 12ms/step - loss: 8.8485 - mae: 8.8485 - mse: 91.9716\n",
            "Epoch 58/100\n",
            "2/2 [==============================] - 0s 17ms/step - loss: 9.1398 - mae: 9.1398 - mse: 85.7930\n",
            "Epoch 59/100\n",
            "2/2 [==============================] - 0s 19ms/step - loss: 12.0883 - mae: 12.0883 - mse: 226.5208\n",
            "Epoch 60/100\n",
            "2/2 [==============================] - 0s 13ms/step - loss: 9.4257 - mae: 9.4257 - mse: 94.5438\n",
            "Epoch 61/100\n",
            "2/2 [==============================] - 0s 12ms/step - loss: 8.2709 - mae: 8.2709 - mse: 111.9405\n",
            "Epoch 62/100\n",
            "2/2 [==============================] - 0s 10ms/step - loss: 9.3488 - mae: 9.3488 - mse: 138.6356\n",
            "Epoch 63/100\n",
            "2/2 [==============================] - 0s 13ms/step - loss: 8.9746 - mae: 8.9746 - mse: 84.3169\n",
            "Epoch 64/100\n",
            "2/2 [==============================] - 0s 12ms/step - loss: 16.9863 - mae: 16.9863 - mse: 426.9898\n",
            "Epoch 65/100\n",
            "2/2 [==============================] - 0s 11ms/step - loss: 8.9780 - mae: 8.9780 - mse: 89.4600\n",
            "Epoch 66/100\n",
            "2/2 [==============================] - 0s 11ms/step - loss: 11.9111 - mae: 11.9111 - mse: 204.6046\n",
            "Epoch 67/100\n",
            "2/2 [==============================] - 0s 18ms/step - loss: 15.3077 - mae: 15.3077 - mse: 321.9675\n",
            "Epoch 68/100\n",
            "2/2 [==============================] - 0s 17ms/step - loss: 9.0791 - mae: 9.0791 - mse: 111.1750\n",
            "Epoch 69/100\n",
            "2/2 [==============================] - 0s 17ms/step - loss: 15.1358 - mae: 15.1358 - mse: 330.6236\n",
            "Epoch 70/100\n",
            "2/2 [==============================] - 0s 13ms/step - loss: 9.2543 - mae: 9.2543 - mse: 88.7328\n",
            "Epoch 71/100\n",
            "2/2 [==============================] - 0s 14ms/step - loss: 14.4843 - mae: 14.4843 - mse: 300.1096\n",
            "Epoch 72/100\n",
            "2/2 [==============================] - 0s 14ms/step - loss: 11.4752 - mae: 11.4752 - mse: 184.5063\n",
            "Epoch 73/100\n",
            "2/2 [==============================] - 0s 13ms/step - loss: 22.1125 - mae: 22.1125 - mse: 711.4835\n",
            "Epoch 74/100\n",
            "2/2 [==============================] - 0s 12ms/step - loss: 8.2565 - mae: 8.2565 - mse: 115.1069\n",
            "Epoch 75/100\n",
            "2/2 [==============================] - 0s 14ms/step - loss: 9.7928 - mae: 9.7928 - mse: 143.2638\n",
            "Epoch 76/100\n",
            "2/2 [==============================] - 0s 11ms/step - loss: 12.7844 - mae: 12.7844 - mse: 245.3851\n",
            "Epoch 77/100\n",
            "2/2 [==============================] - 0s 19ms/step - loss: 21.3699 - mae: 21.3699 - mse: 618.2460\n",
            "Epoch 78/100\n",
            "2/2 [==============================] - 0s 15ms/step - loss: 9.1762 - mae: 9.1762 - mse: 103.6189\n",
            "Epoch 79/100\n",
            "2/2 [==============================] - 0s 12ms/step - loss: 17.4631 - mae: 17.4631 - mse: 425.4686\n",
            "Epoch 80/100\n",
            "2/2 [==============================] - 0s 13ms/step - loss: 16.0892 - mae: 16.0892 - mse: 365.4971\n",
            "Epoch 81/100\n",
            "2/2 [==============================] - 0s 12ms/step - loss: 19.5166 - mae: 19.5166 - mse: 560.5109\n",
            "Epoch 82/100\n",
            "2/2 [==============================] - 0s 13ms/step - loss: 14.6402 - mae: 14.6402 - mse: 280.7995\n",
            "Epoch 83/100\n",
            "2/2 [==============================] - 0s 12ms/step - loss: 9.9428 - mae: 9.9428 - mse: 157.2927\n",
            "Epoch 84/100\n",
            "2/2 [==============================] - 0s 11ms/step - loss: 9.1656 - mae: 9.1656 - mse: 88.3516\n",
            "Epoch 85/100\n",
            "2/2 [==============================] - 0s 11ms/step - loss: 8.4522 - mae: 8.4522 - mse: 90.5836\n",
            "Epoch 86/100\n",
            "2/2 [==============================] - 0s 11ms/step - loss: 12.4188 - mae: 12.4188 - mse: 235.0096\n",
            "Epoch 87/100\n",
            "2/2 [==============================] - 0s 12ms/step - loss: 20.0526 - mae: 20.0526 - mse: 564.5887\n",
            "Epoch 88/100\n",
            "2/2 [==============================] - 0s 11ms/step - loss: 12.0503 - mae: 12.0503 - mse: 214.4536\n",
            "Epoch 89/100\n",
            "2/2 [==============================] - 0s 12ms/step - loss: 15.1035 - mae: 15.1035 - mse: 347.1044\n",
            "Epoch 90/100\n",
            "2/2 [==============================] - 0s 12ms/step - loss: 7.5072 - mae: 7.5072 - mse: 86.4972\n",
            "Epoch 91/100\n",
            "2/2 [==============================] - 0s 10ms/step - loss: 17.9881 - mae: 17.9881 - mse: 487.6430\n",
            "Epoch 92/100\n",
            "2/2 [==============================] - 0s 11ms/step - loss: 13.0485 - mae: 13.0485 - mse: 255.5938\n",
            "Epoch 93/100\n",
            "2/2 [==============================] - 0s 11ms/step - loss: 10.3121 - mae: 10.3121 - mse: 154.4865\n",
            "Epoch 94/100\n",
            "2/2 [==============================] - 0s 11ms/step - loss: 20.6639 - mae: 20.6639 - mse: 642.9008\n",
            "Epoch 95/100\n",
            "2/2 [==============================] - 0s 11ms/step - loss: 26.3297 - mae: 26.3297 - mse: 990.1827\n",
            "Epoch 96/100\n",
            "2/2 [==============================] - 0s 18ms/step - loss: 13.0233 - mae: 13.0233 - mse: 272.2243\n",
            "Epoch 97/100\n",
            "2/2 [==============================] - 0s 19ms/step - loss: 11.3885 - mae: 11.3885 - mse: 185.9178\n",
            "Epoch 98/100\n",
            "2/2 [==============================] - 0s 12ms/step - loss: 9.4912 - mae: 9.4912 - mse: 100.3393\n",
            "Epoch 99/100\n",
            "2/2 [==============================] - 0s 12ms/step - loss: 9.3175 - mae: 9.3175 - mse: 99.3461\n",
            "Epoch 100/100\n",
            "2/2 [==============================] - 0s 11ms/step - loss: 8.9307 - mae: 8.9307 - mse: 79.9506\n"
          ]
        },
        {
          "data": {
            "text/plain": [
              "<keras.src.callbacks.History at 0x78f32967e6b0>"
            ]
          },
          "execution_count": 36,
          "metadata": {},
          "output_type": "execute_result"
        }
      ],
      "source": [
        "# BUILDING model_1\n",
        "model_1 = tf.keras.Sequential([\n",
        "    tf.keras.layers.Dense(units = 1)\n",
        "])\n",
        "\n",
        "model_1.compile(loss = 'mae',\n",
        "                optimizer = tf.keras.optimizers.SGD(),\n",
        "                metrics = ['mae', 'mse'])\n",
        "\n",
        "model_1.fit(tf.expand_dims(X_train, axis = -1), y_train, epochs = 100)"
      ]
    },
    {
      "cell_type": "code",
      "execution_count": null,
      "metadata": {
        "colab": {
          "base_uri": "https://localhost:8080/",
          "height": 578
        },
        "id": "JTw-hdBiHGAK",
        "outputId": "490ffdeb-0732-4554-f58f-9646bf6bd657"
      },
      "outputs": [
        {
          "name": "stderr",
          "output_type": "stream",
          "text": [
            "WARNING:tensorflow:6 out of the last 6 calls to <function Model.make_predict_function.<locals>.predict_function at 0x78f3297d5870> triggered tf.function retracing. Tracing is expensive and the excessive number of tracings could be due to (1) creating @tf.function repeatedly in a loop, (2) passing tensors with different shapes, (3) passing Python objects instead of tensors. For (1), please define your @tf.function outside of the loop. For (2), @tf.function has reduce_retracing=True option that can avoid unnecessary retracing. For (3), please refer to https://www.tensorflow.org/guide/function#controlling_retracing and https://www.tensorflow.org/api_docs/python/tf/function for  more details.\n"
          ]
        },
        {
          "name": "stdout",
          "output_type": "stream",
          "text": [
            "1/1 [==============================] - 0s 114ms/step\n"
          ]
        },
        {
          "data": {
            "image/png": "[encoded data removed]",
            "text/plain": [
              "<Figure size 800x600 with 1 Axes>"
            ]
          },
          "metadata": {},
          "output_type": "display_data"
        }
      ],
      "source": [
        "# Making predictions with model_1 and plotting them\n",
        "y_pred_1 = model_1.predict(X_test)\n",
        "plot_predictions(predictions = y_pred_1)"
      ]
    },
    {
      "cell_type": "code",
      "execution_count": null,
      "metadata": {
        "colab": {
          "base_uri": "https://localhost:8080/"
        },
        "id": "1_hi3PiIHr5W",
        "outputId": "998574cc-bd26-4f71-ffd2-fb8efcc188bd"
      },
      "outputs": [
        {
          "data": {
            "text/plain": [
              "{'MAE': 18.946505, 'MSE': 574.72375, 'RMSE': 23.97339681569578}"
            ]
          },
          "execution_count": 38,
          "metadata": {},
          "output_type": "execute_result"
        }
      ],
      "source": [
        "# Getting evaluation metrics for model_1\n",
        "model_1_results = regression_metrics(y_test, y_pred_1)\n",
        "model_1_results"
      ]
    },
    {
      "cell_type": "code",
      "execution_count": null,
      "metadata": {
        "colab": {
          "base_uri": "https://localhost:8080/"
        },
        "id": "NdV6UHbLIC4m",
        "outputId": "9e7ac5c1-adae-469b-c2a5-200357a89e13"
      },
      "outputs": [
        {
          "data": {
            "text/plain": [
              "{'model_1': {'MAE': 18.946505, 'MSE': 574.72375, 'RMSE': 23.97339681569578}}"
            ]
          },
          "execution_count": 39,
          "metadata": {},
          "output_type": "execute_result"
        }
      ],
      "source": [
        "# Adding model_1 results to a dictionary the will contain all the results for the four experiments\n",
        "experiments = {}\n",
        "experiments['model_1'] = model_1_results\n",
        "experiments"
      ]
    },
    {
      "cell_type": "code",
      "execution_count": null,
      "metadata": {
        "colab": {
          "base_uri": "https://localhost:8080/"
        },
        "id": "AJFXUNBoIizo",
        "outputId": "bd74c3e5-aeea-4d1b-95d8-9c1f869a3548"
      },
      "outputs": [
        {
          "name": "stdout",
          "output_type": "stream",
          "text": [
            "Epoch 1/100\n",
            "2/2 [==============================] - 1s 15ms/step - loss: 49.3569 - mae: 49.3569 - mse: 3001.0210\n",
            "Epoch 2/100\n",
            "2/2 [==============================] - 0s 10ms/step - loss: 12.3175 - mae: 12.3175 - mse: 219.1624\n",
            "Epoch 3/100\n",
            "2/2 [==============================] - 0s 10ms/step - loss: 29.3306 - mae: 29.3306 - mse: 1245.4781\n",
            "Epoch 4/100\n",
            "2/2 [==============================] - 0s 11ms/step - loss: 26.5418 - mae: 26.5418 - mse: 926.0646\n",
            "Epoch 5/100\n",
            "2/2 [==============================] - 0s 10ms/step - loss: 25.9929 - mae: 25.9929 - mse: 989.8639\n",
            "Epoch 6/100\n",
            "2/2 [==============================] - 0s 11ms/step - loss: 10.3085 - mae: 10.3085 - mse: 121.1827\n",
            "Epoch 7/100\n",
            "2/2 [==============================] - 0s 9ms/step - loss: 42.7813 - mae: 42.7813 - mse: 2375.7534\n",
            "Epoch 8/100\n",
            "2/2 [==============================] - 0s 10ms/step - loss: 17.8042 - mae: 17.8042 - mse: 539.4213\n",
            "Epoch 9/100\n",
            "2/2 [==============================] - 0s 9ms/step - loss: 40.7459 - mae: 40.7459 - mse: 2272.3550\n",
            "Epoch 10/100\n",
            "2/2 [==============================] - 0s 9ms/step - loss: 10.2828 - mae: 10.2828 - mse: 172.7626\n",
            "Epoch 11/100\n",
            "2/2 [==============================] - 0s 9ms/step - loss: 33.6317 - mae: 33.6317 - mse: 1544.4948\n",
            "Epoch 12/100\n",
            "2/2 [==============================] - 0s 9ms/step - loss: 27.5683 - mae: 27.5683 - mse: 1051.8954\n",
            "Epoch 13/100\n",
            "2/2 [==============================] - 0s 11ms/step - loss: 9.8422 - mae: 9.8422 - mse: 138.6441\n",
            "Epoch 14/100\n",
            "2/2 [==============================] - 0s 10ms/step - loss: 24.4250 - mae: 24.4250 - mse: 806.5710\n",
            "Epoch 15/100\n",
            "2/2 [==============================] - 0s 10ms/step - loss: 9.3506 - mae: 9.3506 - mse: 97.0798\n",
            "Epoch 16/100\n",
            "2/2 [==============================] - 0s 10ms/step - loss: 23.2261 - mae: 23.2261 - mse: 773.1565\n",
            "Epoch 17/100\n",
            "2/2 [==============================] - 0s 12ms/step - loss: 9.4560 - mae: 9.4560 - mse: 103.4340\n",
            "Epoch 18/100\n",
            "2/2 [==============================] - 0s 9ms/step - loss: 10.3169 - mae: 10.3169 - mse: 122.1190\n",
            "Epoch 19/100\n",
            "2/2 [==============================] - 0s 13ms/step - loss: 39.4456 - mae: 39.4456 - mse: 2117.1680\n",
            "Epoch 20/100\n",
            "2/2 [==============================] - 0s 11ms/step - loss: 9.4320 - mae: 9.4320 - mse: 106.1362\n",
            "Epoch 21/100\n",
            "2/2 [==============================] - 0s 9ms/step - loss: 29.3523 - mae: 29.3523 - mse: 1138.6927\n",
            "Epoch 22/100\n",
            "2/2 [==============================] - 0s 9ms/step - loss: 15.4054 - mae: 15.4054 - mse: 463.3049\n",
            "Epoch 23/100\n",
            "2/2 [==============================] - 0s 9ms/step - loss: 22.1149 - mae: 22.1149 - mse: 708.3348\n",
            "Epoch 24/100\n",
            "2/2 [==============================] - 0s 8ms/step - loss: 22.0916 - mae: 22.0916 - mse: 658.1420\n",
            "Epoch 25/100\n",
            "2/2 [==============================] - 0s 9ms/step - loss: 36.1888 - mae: 36.1888 - mse: 1745.9711\n",
            "Epoch 26/100\n",
            "2/2 [==============================] - 0s 14ms/step - loss: 23.8056 - mae: 23.8056 - mse: 838.4072\n",
            "Epoch 27/100\n",
            "2/2 [==============================] - 0s 12ms/step - loss: 9.0614 - mae: 9.0614 - mse: 114.1094\n",
            "Epoch 28/100\n",
            "2/2 [==============================] - 0s 13ms/step - loss: 20.8903 - mae: 20.8903 - mse: 611.2560\n",
            "Epoch 29/100\n",
            "2/2 [==============================] - 0s 9ms/step - loss: 16.3849 - mae: 16.3849 - mse: 489.2239\n",
            "Epoch 30/100\n",
            "2/2 [==============================] - 0s 11ms/step - loss: 21.7785 - mae: 21.7785 - mse: 688.8725\n",
            "Epoch 31/100\n",
            "2/2 [==============================] - 0s 9ms/step - loss: 27.3771 - mae: 27.3771 - mse: 1065.4584\n",
            "Epoch 32/100\n",
            "2/2 [==============================] - 0s 11ms/step - loss: 19.8539 - mae: 19.8539 - mse: 576.1436\n",
            "Epoch 33/100\n",
            "2/2 [==============================] - 0s 9ms/step - loss: 28.0658 - mae: 28.0658 - mse: 1071.5051\n",
            "Epoch 34/100\n",
            "2/2 [==============================] - 0s 10ms/step - loss: 56.7663 - mae: 56.7663 - mse: 4323.4092\n",
            "Epoch 35/100\n",
            "2/2 [==============================] - 0s 9ms/step - loss: 20.6859 - mae: 20.6859 - mse: 596.8628\n",
            "Epoch 36/100\n",
            "2/2 [==============================] - 0s 8ms/step - loss: 32.9519 - mae: 32.9519 - mse: 1508.7585\n",
            "Epoch 37/100\n",
            "2/2 [==============================] - 0s 9ms/step - loss: 29.0637 - mae: 29.0637 - mse: 1175.2058\n",
            "Epoch 38/100\n",
            "2/2 [==============================] - 0s 9ms/step - loss: 8.8384 - mae: 8.8384 - mse: 94.4640\n",
            "Epoch 39/100\n",
            "2/2 [==============================] - 0s 9ms/step - loss: 9.7200 - mae: 9.7200 - mse: 136.7216\n",
            "Epoch 40/100\n",
            "2/2 [==============================] - 0s 9ms/step - loss: 27.8154 - mae: 27.8154 - mse: 1068.7180\n",
            "Epoch 41/100\n",
            "2/2 [==============================] - 0s 13ms/step - loss: 8.8790 - mae: 8.8790 - mse: 112.7831\n",
            "Epoch 42/100\n",
            "2/2 [==============================] - 0s 13ms/step - loss: 15.3592 - mae: 15.3592 - mse: 392.7634\n",
            "Epoch 43/100\n",
            "2/2 [==============================] - 0s 9ms/step - loss: 15.4568 - mae: 15.4568 - mse: 370.0912\n",
            "Epoch 44/100\n",
            "2/2 [==============================] - 0s 9ms/step - loss: 35.5492 - mae: 35.5492 - mse: 1727.1331\n",
            "Epoch 45/100\n",
            "2/2 [==============================] - 0s 9ms/step - loss: 24.0453 - mae: 24.0453 - mse: 838.7347\n",
            "Epoch 46/100\n",
            "2/2 [==============================] - 0s 9ms/step - loss: 15.5896 - mae: 15.5896 - mse: 467.1589\n",
            "Epoch 47/100\n",
            "2/2 [==============================] - 0s 9ms/step - loss: 35.7447 - mae: 35.7447 - mse: 1726.5173\n",
            "Epoch 48/100\n",
            "2/2 [==============================] - 0s 9ms/step - loss: 18.0357 - mae: 18.0357 - mse: 547.2131\n",
            "Epoch 49/100\n",
            "2/2 [==============================] - 0s 10ms/step - loss: 18.7784 - mae: 18.7784 - mse: 592.9822\n",
            "Epoch 50/100\n",
            "2/2 [==============================] - 0s 10ms/step - loss: 24.8469 - mae: 24.8469 - mse: 864.4974\n",
            "Epoch 51/100\n",
            "2/2 [==============================] - 0s 9ms/step - loss: 14.3889 - mae: 14.3889 - mse: 370.4240\n",
            "Epoch 52/100\n",
            "2/2 [==============================] - 0s 9ms/step - loss: 25.4310 - mae: 25.4310 - mse: 910.7167\n",
            "Epoch 53/100\n",
            "2/2 [==============================] - 0s 9ms/step - loss: 26.1367 - mae: 26.1367 - mse: 1025.3679\n",
            "Epoch 54/100\n",
            "2/2 [==============================] - 0s 9ms/step - loss: 17.9482 - mae: 17.9482 - mse: 579.4628\n",
            "Epoch 55/100\n",
            "2/2 [==============================] - 0s 9ms/step - loss: 31.8763 - mae: 31.8763 - mse: 1360.9966\n",
            "Epoch 56/100\n",
            "2/2 [==============================] - 0s 15ms/step - loss: 46.7024 - mae: 46.7024 - mse: 3055.1509\n",
            "Epoch 57/100\n",
            "2/2 [==============================] - 0s 8ms/step - loss: 19.4876 - mae: 19.4876 - mse: 558.8735\n",
            "Epoch 58/100\n",
            "2/2 [==============================] - 0s 10ms/step - loss: 32.4530 - mae: 32.4530 - mse: 1470.5564\n",
            "Epoch 59/100\n",
            "2/2 [==============================] - 0s 8ms/step - loss: 33.1592 - mae: 33.1592 - mse: 1440.9867\n",
            "Epoch 60/100\n",
            "2/2 [==============================] - 0s 8ms/step - loss: 22.6407 - mae: 22.6407 - mse: 702.2132\n",
            "Epoch 61/100\n",
            "2/2 [==============================] - 0s 9ms/step - loss: 23.4996 - mae: 23.4996 - mse: 792.3975\n",
            "Epoch 62/100\n",
            "2/2 [==============================] - 0s 12ms/step - loss: 43.6140 - mae: 43.6140 - mse: 2558.4485\n",
            "Epoch 63/100\n",
            "2/2 [==============================] - 0s 10ms/step - loss: 12.1538 - mae: 12.1538 - mse: 238.9561\n",
            "Epoch 64/100\n",
            "2/2 [==============================] - 0s 10ms/step - loss: 40.2907 - mae: 40.2907 - mse: 2155.9395\n",
            "Epoch 65/100\n",
            "2/2 [==============================] - 0s 11ms/step - loss: 9.2095 - mae: 9.2095 - mse: 106.5816\n",
            "Epoch 66/100\n",
            "2/2 [==============================] - 0s 10ms/step - loss: 39.3111 - mae: 39.3111 - mse: 2163.7488\n",
            "Epoch 67/100\n",
            "2/2 [==============================] - 0s 10ms/step - loss: 9.3028 - mae: 9.3028 - mse: 89.3540\n",
            "Epoch 68/100\n",
            "2/2 [==============================] - 0s 10ms/step - loss: 25.6430 - mae: 25.6430 - mse: 946.2413\n",
            "Epoch 69/100\n",
            "2/2 [==============================] - 0s 9ms/step - loss: 9.4341 - mae: 9.4341 - mse: 108.2855\n",
            "Epoch 70/100\n",
            "2/2 [==============================] - 0s 12ms/step - loss: 11.4028 - mae: 11.4028 - mse: 209.3679\n",
            "Epoch 71/100\n",
            "2/2 [==============================] - 0s 11ms/step - loss: 31.9833 - mae: 31.9833 - mse: 1438.1088\n",
            "Epoch 72/100\n",
            "2/2 [==============================] - 0s 13ms/step - loss: 28.7778 - mae: 28.7778 - mse: 1156.7810\n",
            "Epoch 73/100\n",
            "2/2 [==============================] - 0s 13ms/step - loss: 15.2990 - mae: 15.2990 - mse: 383.3597\n",
            "Epoch 74/100\n",
            "2/2 [==============================] - 0s 9ms/step - loss: 17.3514 - mae: 17.3514 - mse: 472.5170\n",
            "Epoch 75/100\n",
            "2/2 [==============================] - 0s 12ms/step - loss: 12.2919 - mae: 12.2919 - mse: 282.4929\n",
            "Epoch 76/100\n",
            "2/2 [==============================] - 0s 10ms/step - loss: 22.6799 - mae: 22.6799 - mse: 719.1565\n",
            "Epoch 77/100\n",
            "2/2 [==============================] - 0s 10ms/step - loss: 8.2511 - mae: 8.2511 - mse: 97.7424\n",
            "Epoch 78/100\n",
            "2/2 [==============================] - 0s 10ms/step - loss: 17.3911 - mae: 17.3911 - mse: 496.8243\n",
            "Epoch 79/100\n",
            "2/2 [==============================] - 0s 12ms/step - loss: 9.0707 - mae: 9.0707 - mse: 97.2289\n",
            "Epoch 80/100\n",
            "2/2 [==============================] - 0s 14ms/step - loss: 19.5990 - mae: 19.5990 - mse: 535.1953\n",
            "Epoch 81/100\n",
            "2/2 [==============================] - 0s 10ms/step - loss: 32.5707 - mae: 32.5707 - mse: 1421.7876\n",
            "Epoch 82/100\n",
            "2/2 [==============================] - 0s 8ms/step - loss: 32.5395 - mae: 32.5395 - mse: 1473.0793\n",
            "Epoch 83/100\n",
            "2/2 [==============================] - 0s 10ms/step - loss: 14.3783 - mae: 14.3783 - mse: 322.3511\n",
            "Epoch 84/100\n",
            "2/2 [==============================] - 0s 12ms/step - loss: 16.2867 - mae: 16.2867 - mse: 483.2791\n",
            "Epoch 85/100\n",
            "2/2 [==============================] - 0s 9ms/step - loss: 25.8082 - mae: 25.8082 - mse: 998.5635\n",
            "Epoch 86/100\n",
            "2/2 [==============================] - 0s 10ms/step - loss: 18.1645 - mae: 18.1645 - mse: 524.2937\n",
            "Epoch 87/100\n",
            "2/2 [==============================] - 0s 11ms/step - loss: 37.5304 - mae: 37.5304 - mse: 1900.2256\n",
            "Epoch 88/100\n",
            "2/2 [==============================] - 0s 9ms/step - loss: 17.9019 - mae: 17.9019 - mse: 521.5891\n",
            "Epoch 89/100\n",
            "2/2 [==============================] - 0s 9ms/step - loss: 8.1861 - mae: 8.1861 - mse: 97.3993\n",
            "Epoch 90/100\n",
            "2/2 [==============================] - 0s 9ms/step - loss: 20.4460 - mae: 20.4460 - mse: 691.1946\n",
            "Epoch 91/100\n",
            "2/2 [==============================] - 0s 9ms/step - loss: 8.1646 - mae: 8.1646 - mse: 78.5630\n",
            "Epoch 92/100\n",
            "2/2 [==============================] - 0s 10ms/step - loss: 21.6311 - mae: 21.6311 - mse: 654.5942\n",
            "Epoch 93/100\n",
            "2/2 [==============================] - 0s 12ms/step - loss: 24.5424 - mae: 24.5424 - mse: 942.2679\n",
            "Epoch 94/100\n",
            "2/2 [==============================] - 0s 9ms/step - loss: 22.3573 - mae: 22.3573 - mse: 700.6590\n",
            "Epoch 95/100\n",
            "2/2 [==============================] - 0s 13ms/step - loss: 33.0267 - mae: 33.0267 - mse: 1477.1990\n",
            "Epoch 96/100\n",
            "2/2 [==============================] - 0s 10ms/step - loss: 26.1783 - mae: 26.1783 - mse: 1003.5371\n",
            "Epoch 97/100\n",
            "2/2 [==============================] - 0s 10ms/step - loss: 16.3785 - mae: 16.3785 - mse: 460.4807\n",
            "Epoch 98/100\n",
            "2/2 [==============================] - 0s 10ms/step - loss: 18.7133 - mae: 18.7133 - mse: 470.3854\n",
            "Epoch 99/100\n",
            "2/2 [==============================] - 0s 9ms/step - loss: 37.9511 - mae: 37.9511 - mse: 1963.6191\n",
            "Epoch 100/100\n",
            "2/2 [==============================] - 0s 9ms/step - loss: 8.7508 - mae: 8.7508 - mse: 110.1727\n"
          ]
        },
        {
          "data": {
            "text/plain": [
              "<keras.src.callbacks.History at 0x78f3294183a0>"
            ]
          },
          "execution_count": 40,
          "metadata": {},
          "output_type": "execute_result"
        }
      ],
      "source": [
        "# BUILDING model_2\n",
        "model_2 = tf.keras.Sequential([\n",
        "    tf.keras.layers.Dense(units = 50),\n",
        "    tf.keras.layers.Dense(units = 1)\n",
        "])\n",
        "\n",
        "model_2.compile(loss = 'mae',\n",
        "                optimizer = tf.keras.optimizers.SGD(),\n",
        "                metrics = ['mae', 'mse'])\n",
        "\n",
        "model_2.fit(tf.expand_dims(X_train, axis = -1), y_train, epochs = 100)"
      ]
    },
    {
      "cell_type": "code",
      "execution_count": null,
      "metadata": {
        "colab": {
          "base_uri": "https://localhost:8080/",
          "height": 540
        },
        "id": "sEbPNLMFJtod",
        "outputId": "72e2b6bc-546c-4420-a0de-bc126fec88af"
      },
      "outputs": [
        {
          "name": "stdout",
          "output_type": "stream",
          "text": [
            "1/1 [==============================] - 0s 111ms/step\n"
          ]
        },
        {
          "data": {
            "image/png": "[encoded data removed]",
            "text/plain": [
              "<Figure size 800x600 with 1 Axes>"
            ]
          },
          "metadata": {},
          "output_type": "display_data"
        }
      ],
      "source": [
        "# Making predictions with model_1 and plotting them\n",
        "y_pred_2 = model_2.predict(X_test)\n",
        "plot_predictions(predictions = y_pred_2)"
      ]
    },
    {
      "cell_type": "code",
      "execution_count": null,
      "metadata": {
        "colab": {
          "base_uri": "https://localhost:8080/"
        },
        "id": "rQHPBM-ZJ3-H",
        "outputId": "46c2f609-2e07-4da1-bb6e-4eafc4ea9897"
      },
      "outputs": [
        {
          "data": {
            "text/plain": [
              "{'MAE': 29.45844, 'MSE': 1257.9905, 'RMSE': 35.468161476394926}"
            ]
          },
          "execution_count": 42,
          "metadata": {},
          "output_type": "execute_result"
        }
      ],
      "source": [
        "# Getting evaluation metrics for model_2\n",
        "model_2_results = regression_metrics(y_test, y_pred_2)\n",
        "model_2_results"
      ]
    },
    {
      "cell_type": "code",
      "execution_count": null,
      "metadata": {
        "colab": {
          "base_uri": "https://localhost:8080/"
        },
        "id": "5fII_lltJ_Tn",
        "outputId": "06ac2534-9a10-4b66-fffc-bb485f4e780a"
      },
      "outputs": [
        {
          "data": {
            "text/plain": [
              "{'model_1': {'MAE': 18.946505, 'MSE': 574.72375, 'RMSE': 23.97339681569578},\n",
              " 'model_2': {'MAE': 29.45844, 'MSE': 1257.9905, 'RMSE': 35.468161476394926}}"
            ]
          },
          "execution_count": 43,
          "metadata": {},
          "output_type": "execute_result"
        }
      ],
      "source": [
        "# Adding model_2 results to a dictionary the will contain all the results for the four experiments\n",
        "experiments['model_2'] = model_2_results\n",
        "experiments"
      ]
    },
    {
      "cell_type": "code",
      "execution_count": null,
      "metadata": {
        "colab": {
          "base_uri": "https://localhost:8080/"
        },
        "id": "Rg_IGMH6KItG",
        "outputId": "18846b4e-c752-47ad-bdbc-b1808812268b"
      },
      "outputs": [
        {
          "data": {
            "text/plain": [
              "<keras.src.callbacks.History at 0x78f329357c70>"
            ]
          },
          "execution_count": 44,
          "metadata": {},
          "output_type": "execute_result"
        }
      ],
      "source": [
        "# BUILDING model_3\n",
        "model_3 = tf.keras.Sequential([\n",
        "    tf.keras.layers.Dense(units = 50),\n",
        "    tf.keras.layers.Dense(units = 1)\n",
        "])\n",
        "\n",
        "model_3.compile(loss = 'mae',\n",
        "                optimizer = tf.keras.optimizers.SGD(),\n",
        "                metrics = ['mae','mse'])\n",
        "\n",
        "model_3.fit(tf.expand_dims(X_train, axis = -1), y_train, epochs = 500, verbose = 0)"
      ]
    },
    {
      "cell_type": "code",
      "execution_count": null,
      "metadata": {
        "colab": {
          "base_uri": "https://localhost:8080/",
          "height": 540
        },
        "id": "nSastjoYKh--",
        "outputId": "a108e0a4-d7cb-4dab-f0bd-7f8ffb7746bc"
      },
      "outputs": [
        {
          "name": "stdout",
          "output_type": "stream",
          "text": [
            "1/1 [==============================] - 0s 51ms/step\n"
          ]
        },
        {
          "data": {
            "image/png": "[encoded data removed]",
            "text/plain": [
              "<Figure size 800x600 with 1 Axes>"
            ]
          },
          "metadata": {},
          "output_type": "display_data"
        }
      ],
      "source": [
        "y_pred_3 = model_3.predict(X_test)\n",
        "plot_predictions(predictions = y_pred_3)"
      ]
    },
    {
      "cell_type": "code",
      "execution_count": null,
      "metadata": {
        "colab": {
          "base_uri": "https://localhost:8080/"
        },
        "id": "sStNFx3zKuRK",
        "outputId": "c99dbce0-b55b-4c32-ebcf-118889b3f7d6"
      },
      "outputs": [
        {
          "data": {
            "text/plain": [
              "{'MAE': 31.321056, 'MSE': 1505.641, 'RMSE': 38.802590006479434}"
            ]
          },
          "execution_count": 46,
          "metadata": {},
          "output_type": "execute_result"
        }
      ],
      "source": [
        "model_3_results = regression_metrics(y_test, y_pred_3)\n",
        "model_3_results"
      ]
    },
    {
      "cell_type": "code",
      "execution_count": null,
      "metadata": {
        "colab": {
          "base_uri": "https://localhost:8080/"
        },
        "id": "jtNvsSK5K1E9",
        "outputId": "59e4a674-2d95-47c8-afe6-d7d180252128"
      },
      "outputs": [
        {
          "data": {
            "text/plain": [
              "{'model_1': {'MAE': 18.946505, 'MSE': 574.72375, 'RMSE': 23.97339681569578},\n",
              " 'model_2': {'MAE': 29.45844, 'MSE': 1257.9905, 'RMSE': 35.468161476394926},\n",
              " 'model_3': {'MAE': 31.321056, 'MSE': 1505.641, 'RMSE': 38.802590006479434}}"
            ]
          },
          "execution_count": 47,
          "metadata": {},
          "output_type": "execute_result"
        }
      ],
      "source": [
        "experiments['model_3'] = model_3_results\n",
        "experiments"
      ]
    },
    {
      "cell_type": "code",
      "execution_count": null,
      "metadata": {
        "colab": {
          "base_uri": "https://localhost:8080/"
        },
        "id": "tmDPCOq_K77L",
        "outputId": "5b37a28a-89a6-4a13-c70f-a58aad21595a"
      },
      "outputs": [
        {
          "data": {
            "text/plain": [
              "<keras.src.callbacks.History at 0x78f329258850>"
            ]
          },
          "execution_count": 48,
          "metadata": {},
          "output_type": "execute_result"
        }
      ],
      "source": [
        "# BUILDING model_4\n",
        "model_4 = tf.keras.Sequential([\n",
        "    tf.keras.layers.Dense(units = 100),\n",
        "    tf.keras.layers.Dense(units = 50),\n",
        "    tf.keras.layers.Dense(units = 1)\n",
        "])\n",
        "\n",
        "model_4.compile(loss = 'mae',\n",
        "                optimizer = tf.keras.optimizers.SGD())\n",
        "\n",
        "model_4.fit(tf.expand_dims(X_train, axis = -1), y_train, epochs = 100, verbose = 0)"
      ]
    },
    {
      "cell_type": "code",
      "execution_count": null,
      "metadata": {
        "colab": {
          "base_uri": "https://localhost:8080/",
          "height": 540
        },
        "id": "MJJypoQeLZrI",
        "outputId": "7308c735-aa2f-4b8b-bd7a-53ea699f4300"
      },
      "outputs": [
        {
          "name": "stdout",
          "output_type": "stream",
          "text": [
            "1/1 [==============================] - 0s 68ms/step\n"
          ]
        },
        {
          "data": {
            "image/png": "[encoded data removed]",
            "text/plain": [
              "<Figure size 800x600 with 1 Axes>"
            ]
          },
          "metadata": {},
          "output_type": "display_data"
        }
      ],
      "source": [
        "y_pred_4 = model_4.predict(X_test)\n",
        "plot_predictions(predictions = y_pred_4)"
      ]
    },
    {
      "cell_type": "code",
      "execution_count": null,
      "metadata": {
        "colab": {
          "base_uri": "https://localhost:8080/"
        },
        "id": "Cf6eMsHmLjb9",
        "outputId": "8ea03423-fc96-4c45-d1eb-5d76a91cd61e"
      },
      "outputs": [
        {
          "data": {
            "text/plain": [
              "{'MAE': 13.735542, 'MSE': 260.389, 'RMSE': 16.13657360062412}"
            ]
          },
          "execution_count": 50,
          "metadata": {},
          "output_type": "execute_result"
        }
      ],
      "source": [
        "model_4_results = regression_metrics(y_test, y_pred_4)\n",
        "model_4_results"
      ]
    },
    {
      "cell_type": "code",
      "execution_count": null,
      "metadata": {
        "colab": {
          "base_uri": "https://localhost:8080/"
        },
        "id": "IqfWYNTMLq1N",
        "outputId": "2aee82ba-2fb1-4adc-d2ae-4c02b0d5ede7"
      },
      "outputs": [
        {
          "data": {
            "text/plain": [
              "{'model_1': {'MAE': 18.946505, 'MSE': 574.72375, 'RMSE': 23.97339681569578},\n",
              " 'model_2': {'MAE': 29.45844, 'MSE': 1257.9905, 'RMSE': 35.468161476394926},\n",
              " 'model_3': {'MAE': 31.321056, 'MSE': 1505.641, 'RMSE': 38.802590006479434},\n",
              " 'model_4': {'MAE': 13.735542, 'MSE': 260.389, 'RMSE': 16.13657360062412}}"
            ]
          },
          "execution_count": 51,
          "metadata": {},
          "output_type": "execute_result"
        }
      ],
      "source": [
        "experiments['model_4'] = model_4_results\n",
        "experiments"
      ]
    },
    {
      "cell_type": "code",
      "execution_count": null,
      "metadata": {
        "colab": {
          "base_uri": "https://localhost:8080/",
          "height": 175
        },
        "id": "TyRXtEtvLw7Q",
        "outputId": "e87fe649-4578-4bb9-d603-a71c9b03879d"
      },
      "outputs": [
        {
          "data": {
            "application/vnd.google.colaboratory.intrinsic+json": {
              "summary": "{\n  \"name\": \"result_frame\",\n  \"rows\": 4,\n  \"fields\": [\n    {\n      \"column\": \"MAE\",\n      \"properties\": {\n        \"dtype\": \"number\",\n        \"std\": 8.41978642165908,\n        \"min\": 13.735542297363281,\n        \"max\": 31.321056365966797,\n        \"num_unique_values\": 4,\n        \"samples\": [\n          29.45844078063965,\n          13.735542297363281,\n          18.946504592895508\n        ],\n        \"semantic_type\": \"\",\n        \"description\": \"\"\n      }\n    },\n    {\n      \"column\": \"MSE\",\n      \"properties\": {\n        \"dtype\": \"number\",\n        \"std\": 580.1909616616274,\n        \"min\": 260.3890075683594,\n        \"max\": 1505.6409912109375,\n        \"num_unique_values\": 4,\n        \"samples\": [\n          1257.990478515625,\n          260.3890075683594,\n          574.7237548828125\n        ],\n        \"semantic_type\": \"\",\n        \"description\": \"\"\n      }\n    },\n    {\n      \"column\": \"RMSE\",\n      \"properties\": {\n        \"dtype\": \"number\",\n        \"std\": 10.45636722500586,\n        \"min\": 16.13657360062412,\n        \"max\": 38.802590006479434,\n        \"num_unique_values\": 4,\n        \"samples\": [\n          35.468161476394926,\n          16.13657360062412,\n          23.97339681569578\n        ],\n        \"semantic_type\": \"\",\n        \"description\": \"\"\n      }\n    }\n  ]\n}",
              "type": "dataframe",
              "variable_name": "result_frame"
            },
            "text/html": [
              "\n",
              "  <div id=\"df-ab75f92a-7bd3-46da-923d-9e7c81607500\" class=\"colab-df-container\">\n",
              "    <div>\n",
              "<style scoped>\n",
              "    .dataframe tbody tr th:only-of-type {\n",
              "        vertical-align: middle;\n",
              "    }\n",
              "\n",
              "    .dataframe tbody tr th {\n",
              "        vertical-align: top;\n",
              "    }\n",
              "\n",
              "    .dataframe thead th {\n",
              "        text-align: right;\n",
              "    }\n",
              "</style>\n",
              "<table border=\"1\" class=\"dataframe\">\n",
              "  <thead>\n",
              "    <tr style=\"text-align: right;\">\n",
              "      <th></th>\n",
              "      <th>MAE</th>\n",
              "      <th>MSE</th>\n",
              "      <th>RMSE</th>\n",
              "    </tr>\n",
              "  </thead>\n",
              "  <tbody>\n",
              "    <tr>\n",
              "      <th>model_1</th>\n",
              "      <td>18.946505</td>\n",
              "      <td>574.723755</td>\n",
              "      <td>23.973397</td>\n",
              "    </tr>\n",
              "    <tr>\n",
              "      <th>model_2</th>\n",
              "      <td>29.458441</td>\n",
              "      <td>1257.990479</td>\n",
              "      <td>35.468161</td>\n",
              "    </tr>\n",
              "    <tr>\n",
              "      <th>model_3</th>\n",
              "      <td>31.321056</td>\n",
              "      <td>1505.640991</td>\n",
              "      <td>38.802590</td>\n",
              "    </tr>\n",
              "    <tr>\n",
              "      <th>model_4</th>\n",
              "      <td>13.735542</td>\n",
              "      <td>260.389008</td>\n",
              "      <td>16.136574</td>\n",
              "    </tr>\n",
              "  </tbody>\n",
              "</table>\n",
              "</div>\n",
              "    <div class=\"colab-df-buttons\">\n",
              "\n",
              "  <div class=\"colab-df-container\">\n",
              "    <button class=\"colab-df-convert\" onclick=\"convertToInteractive('df-ab75f92a-7bd3-46da-923d-9e7c81607500')\"\n",
              "            title=\"Convert this dataframe to an interactive table.\"\n",
              "            style=\"display:none;\">\n",
              "\n",
              "  <svg xmlns=\"http://www.w3.org/2000/svg\" height=\"24px\" viewBox=\"0 -960 960 960\">\n",
              "    <path d=\"M120-120v-720h720v720H120Zm60-500h600v-160H180v160Zm220 220h160v-160H400v160Zm0 220h160v-160H400v160ZM180-400h160v-160H180v160Zm440 0h160v-160H620v160ZM180-180h160v-160H180v160Zm440 0h160v-160H620v160Z\"/>\n",
              "  </svg>\n",
              "    </button>\n",
              "\n",
              "  <style>\n",
              "    .colab-df-container {\n",
              "      display:flex;\n",
              "      gap: 12px;\n",
              "    }\n",
              "\n",
              "    .colab-df-convert {\n",
              "      background-color: #E8F0FE;\n",
              "      border: none;\n",
              "      border-radius: 50%;\n",
              "      cursor: pointer;\n",
              "      display: none;\n",
              "      fill: #1967D2;\n",
              "      height: 32px;\n",
              "      padding: 0 0 0 0;\n",
              "      width: 32px;\n",
              "    }\n",
              "\n",
              "    .colab-df-convert:hover {\n",
              "      background-color: #E2EBFA;\n",
              "      box-shadow: 0px 1px 2px rgba(60, 64, 67, 0.3), 0px 1px 3px 1px rgba(60, 64, 67, 0.15);\n",
              "      fill: #174EA6;\n",
              "    }\n",
              "\n",
              "    .colab-df-buttons div {\n",
              "      margin-bottom: 4px;\n",
              "    }\n",
              "\n",
              "    [theme=dark] .colab-df-convert {\n",
              "      background-color: #3B4455;\n",
              "      fill: #D2E3FC;\n",
              "    }\n",
              "\n",
              "    [theme=dark] .colab-df-convert:hover {\n",
              "      background-color: #434B5C;\n",
              "      box-shadow: 0px 1px 3px 1px rgba(0, 0, 0, 0.15);\n",
              "      filter: drop-shadow(0px 1px 2px rgba(0, 0, 0, 0.3));\n",
              "      fill: #FFFFFF;\n",
              "    }\n",
              "  </style>\n",
              "\n",
              "    <script>\n",
              "      const buttonEl =\n",
              "        document.querySelector('#df-ab75f92a-7bd3-46da-923d-9e7c81607500 button.colab-df-convert');\n",
              "      buttonEl.style.display =\n",
              "        google.colab.kernel.accessAllowed ? 'block' : 'none';\n",
              "\n",
              "      async function convertToInteractive(key) {\n",
              "        const element = document.querySelector('#df-ab75f92a-7bd3-46da-923d-9e7c81607500');\n",
              "        const dataTable =\n",
              "          await google.colab.kernel.invokeFunction('convertToInteractive',\n",
              "                                                    [key], {});\n",
              "        if (!dataTable) return;\n",
              "\n",
              "        const docLinkHtml = 'Like what you see? Visit the ' +\n",
              "          '<a target=\"_blank\" href=https://colab.research.google.com/notebooks/data_table.ipynb>data table notebook</a>'\n",
              "          + ' to learn more about interactive tables.';\n",
              "        element.innerHTML = '';\n",
              "        dataTable['output_type'] = 'display_data';\n",
              "        await google.colab.output.renderOutput(dataTable, element);\n",
              "        const docLink = document.createElement('div');\n",
              "        docLink.innerHTML = docLinkHtml;\n",
              "        element.appendChild(docLink);\n",
              "      }\n",
              "    </script>\n",
              "  </div>\n",
              "\n",
              "\n",
              "<div id=\"df-07171588-2729-444b-96ab-b1e35f436c14\">\n",
              "  <button class=\"colab-df-quickchart\" onclick=\"quickchart('df-07171588-2729-444b-96ab-b1e35f436c14')\"\n",
              "            title=\"Suggest charts\"\n",
              "            style=\"display:none;\">\n",
              "\n",
              "<svg xmlns=\"http://www.w3.org/2000/svg\" height=\"24px\"viewBox=\"0 0 24 24\"\n",
              "     width=\"24px\">\n",
              "    <g>\n",
              "        <path d=\"M19 3H5c-1.1 0-2 .9-2 2v14c0 1.1.9 2 2 2h14c1.1 0 2-.9 2-2V5c0-1.1-.9-2-2-2zM9 17H7v-7h2v7zm4 0h-2V7h2v10zm4 0h-2v-4h2v4z\"/>\n",
              "    </g>\n",
              "</svg>\n",
              "  </button>\n",
              "\n",
              "<style>\n",
              "  .colab-df-quickchart {\n",
              "      --bg-color: #E8F0FE;\n",
              "      --fill-color: #1967D2;\n",
              "      --hover-bg-color: #E2EBFA;\n",
              "      --hover-fill-color: #174EA6;\n",
              "      --disabled-fill-color: #AAA;\n",
              "      --disabled-bg-color: #DDD;\n",
              "  }\n",
              "\n",
              "  [theme=dark] .colab-df-quickchart {\n",
              "      --bg-color: #3B4455;\n",
              "      --fill-color: #D2E3FC;\n",
              "      --hover-bg-color: #434B5C;\n",
              "      --hover-fill-color: #FFFFFF;\n",
              "      --disabled-bg-color: #3B4455;\n",
              "      --disabled-fill-color: #666;\n",
              "  }\n",
              "\n",
              "  .colab-df-quickchart {\n",
              "    background-color: var(--bg-color);\n",
              "    border: none;\n",
              "    border-radius: 50%;\n",
              "    cursor: pointer;\n",
              "    display: none;\n",
              "    fill: var(--fill-color);\n",
              "    height: 32px;\n",
              "    padding: 0;\n",
              "    width: 32px;\n",
              "  }\n",
              "\n",
              "  .colab-df-quickchart:hover {\n",
              "    background-color: var(--hover-bg-color);\n",
              "    box-shadow: 0 1px 2px rgba(60, 64, 67, 0.3), 0 1px 3px 1px rgba(60, 64, 67, 0.15);\n",
              "    fill: var(--button-hover-fill-color);\n",
              "  }\n",
              "\n",
              "  .colab-df-quickchart-complete:disabled,\n",
              "  .colab-df-quickchart-complete:disabled:hover {\n",
              "    background-color: var(--disabled-bg-color);\n",
              "    fill: var(--disabled-fill-color);\n",
              "    box-shadow: none;\n",
              "  }\n",
              "\n",
              "  .colab-df-spinner {\n",
              "    border: 2px solid var(--fill-color);\n",
              "    border-color: transparent;\n",
              "    border-bottom-color: var(--fill-color);\n",
              "    animation:\n",
              "      spin 1s steps(1) infinite;\n",
              "  }\n",
              "\n",
              "  @keyframes spin {\n",
              "    0% {\n",
              "      border-color: transparent;\n",
              "      border-bottom-color: var(--fill-color);\n",
              "      border-left-color: var(--fill-color);\n",
              "    }\n",
              "    20% {\n",
              "      border-color: transparent;\n",
              "      border-left-color: var(--fill-color);\n",
              "      border-top-color: var(--fill-color);\n",
              "    }\n",
              "    30% {\n",
              "      border-color: transparent;\n",
              "      border-left-color: var(--fill-color);\n",
              "      border-top-color: var(--fill-color);\n",
              "      border-right-color: var(--fill-color);\n",
              "    }\n",
              "    40% {\n",
              "      border-color: transparent;\n",
              "      border-right-color: var(--fill-color);\n",
              "      border-top-color: var(--fill-color);\n",
              "    }\n",
              "    60% {\n",
              "      border-color: transparent;\n",
              "      border-right-color: var(--fill-color);\n",
              "    }\n",
              "    80% {\n",
              "      border-color: transparent;\n",
              "      border-right-color: var(--fill-color);\n",
              "      border-bottom-color: var(--fill-color);\n",
              "    }\n",
              "    90% {\n",
              "      border-color: transparent;\n",
              "      border-bottom-color: var(--fill-color);\n",
              "    }\n",
              "  }\n",
              "</style>\n",
              "\n",
              "  <script>\n",
              "    async function quickchart(key) {\n",
              "      const quickchartButtonEl =\n",
              "        document.querySelector('#' + key + ' button');\n",
              "      quickchartButtonEl.disabled = true;  // To prevent multiple clicks.\n",
              "      quickchartButtonEl.classList.add('colab-df-spinner');\n",
              "      try {\n",
              "        const charts = await google.colab.kernel.invokeFunction(\n",
              "            'suggestCharts', [key], {});\n",
              "      } catch (error) {\n",
              "        console.error('Error during call to suggestCharts:', error);\n",
              "      }\n",
              "      quickchartButtonEl.classList.remove('colab-df-spinner');\n",
              "      quickchartButtonEl.classList.add('colab-df-quickchart-complete');\n",
              "    }\n",
              "    (() => {\n",
              "      let quickchartButtonEl =\n",
              "        document.querySelector('#df-07171588-2729-444b-96ab-b1e35f436c14 button');\n",
              "      quickchartButtonEl.style.display =\n",
              "        google.colab.kernel.accessAllowed ? 'block' : 'none';\n",
              "    })();\n",
              "  </script>\n",
              "</div>\n",
              "    </div>\n",
              "  </div>\n"
            ],
            "text/plain": [
              "               MAE          MSE       RMSE\n",
              "model_1  18.946505   574.723755  23.973397\n",
              "model_2  29.458441  1257.990479  35.468161\n",
              "model_3  31.321056  1505.640991  38.802590\n",
              "model_4  13.735542   260.389008  16.136574"
            ]
          },
          "execution_count": 55,
          "metadata": {},
          "output_type": "execute_result"
        }
      ],
      "source": [
        "# Showing results as a pandas dataframe\n",
        "import pandas as pd\n",
        "result_frame = pd.DataFrame(experiments).T\n",
        "result_frame"
      ]
    },
    {
      "cell_type": "code",
      "execution_count": null,
      "metadata": {
        "colab": {
          "base_uri": "https://localhost:8080/"
        },
        "id": "kUKvdBKdJOps",
        "outputId": "32b0243f-2857-4b0d-ec7d-c86c93d69e35"
      },
      "outputs": [
        {
          "name": "stdout",
          "output_type": "stream",
          "text": [
            "Model: \"sequential_8\"\n",
            "_________________________________________________________________\n",
            " Layer (type)                Output Shape              Param #   \n",
            "=================================================================\n",
            " dense_12 (Dense)            (None, 100)               200       \n",
            "                                                                 \n",
            " dense_13 (Dense)            (None, 50)                5050      \n",
            "                                                                 \n",
            " dense_14 (Dense)            (None, 1)                 51        \n",
            "                                                                 \n",
            "=================================================================\n",
            "Total params: 5301 (20.71 KB)\n",
            "Trainable params: 5301 (20.71 KB)\n",
            "Non-trainable params: 0 (0.00 Byte)\n",
            "_________________________________________________________________\n"
          ]
        }
      ],
      "source": [
        "# The best model we got is model_4 as evident by MAE and MSE.\n",
        "model_4.summary()"
      ]
    },
    {
      "cell_type": "markdown",
      "metadata": {
        "id": "ISVPuVzdLAby"
      },
      "source": [
        "#Saving & Loading the Model"
      ]
    },
    {
      "cell_type": "markdown",
      "metadata": {
        "id": "anviMdyeL2zX"
      },
      "source": [
        "Now that we got a well-performing model, it is a good idea to save it so that we can use it outside google colab in other applications.\n",
        "\n",
        "There are different formats in which we can save a TensorFlow model:\n",
        "\n",
        "1.   **SavedModel** format - A SavedModel contains a complete TensorFlow program, including trained parameters (i.e, tf.Variables) and computation. It does not require the original model building code to run, which makes it useful for sharing or deploying with TFLite, TensorFlow.js, TensorFlow Serving, or TensorFlow Hub.\n",
        "2.   **HDF5** format - a basic legacy high-level save format using the HDF5 standard. A model is saved as a .h5 file.\n",
        "3. **Keras** format - The new Keras v3 saving format, marked by the .keras extension, is a more simple, efficient format that implements name-based saving, ensuring what you load is exactly what you saved, from Python's perspective. This makes debugging much easier, and it is the recommended format for Keras.\n",
        "\n",
        "The first two are older formats and are not recommended as per the documentation. Hence, the newer Keras format is preferred.\n",
        "\n"
      ]
    },
    {
      "cell_type": "code",
      "execution_count": null,
      "metadata": {
        "id": "736C6k-PJvsb"
      },
      "outputs": [],
      "source": [
        "# Saving model_4\n",
        "model_4.save('best_regress_model.keras')"
      ]
    },
    {
      "cell_type": "code",
      "execution_count": null,
      "metadata": {
        "colab": {
          "base_uri": "https://localhost:8080/"
        },
        "id": "MEBS092kNZNR",
        "outputId": "4d15a11e-10ea-4000-ea4f-e594b61e3e2e"
      },
      "outputs": [
        {
          "name": "stdout",
          "output_type": "stream",
          "text": [
            "Model: \"sequential_8\"\n",
            "_________________________________________________________________\n",
            " Layer (type)                Output Shape              Param #   \n",
            "=================================================================\n",
            " dense_12 (Dense)            (None, 100)               200       \n",
            "                                                                 \n",
            " dense_13 (Dense)            (None, 50)                5050      \n",
            "                                                                 \n",
            " dense_14 (Dense)            (None, 1)                 51        \n",
            "                                                                 \n",
            "=================================================================\n",
            "Total params: 5301 (20.71 KB)\n",
            "Trainable params: 5301 (20.71 KB)\n",
            "Non-trainable params: 0 (0.00 Byte)\n",
            "_________________________________________________________________\n"
          ]
        }
      ],
      "source": [
        "# Loading model_4\n",
        "model_4_loaded = tf.keras.models.load_model('best_regress_model.keras')\n",
        "model_4_loaded.summary()"
      ]
    },
    {
      "cell_type": "code",
      "execution_count": null,
      "metadata": {
        "colab": {
          "base_uri": "https://localhost:8080/"
        },
        "id": "qlH8PRCaOXrm",
        "outputId": "017fc098-b18f-4bfa-ecbe-f929a12ba29f"
      },
      "outputs": [
        {
          "name": "stdout",
          "output_type": "stream",
          "text": [
            "1/1 [==============================] - 0s 23ms/step\n"
          ]
        },
        {
          "data": {
            "text/plain": [
              "{'MAE': 13.735542, 'MSE': 260.389, 'RMSE': 16.13657360062412}"
            ]
          },
          "execution_count": 62,
          "metadata": {},
          "output_type": "execute_result"
        }
      ],
      "source": [
        "# Checking if the model still performs well after loading\n",
        "y_pred = model_4_loaded.predict(X_test)\n",
        "\n",
        "regression_metrics(y_test, y_pred)"
      ]
    },
    {
      "cell_type": "markdown",
      "metadata": {
        "id": "5NHDwVIuUgH1"
      },
      "source": [
        "#TensorFlow Regression on a Real-World Dataset"
      ]
    },
    {
      "cell_type": "markdown",
      "metadata": {
        "id": "BXB5YwFSUnSC"
      },
      "source": [
        "Now that we've went through all the steps required to build, train, evaluate a tensorflow model on some basic manually generated dataset, it is time to perform what we've learned using a real-world dataset.\n",
        "\n",
        "More specifically, we'll leverage the pubically available [Medical Cost dataset](https://www.kaggle.com/datasets/mirichoi0218/insurance) available from Kaggle.\n",
        "\n",
        "In this dataset, We're going to try predict the cost of medical insurance (`charges`) for individuals based on a number of different parameters such as `age`, `sex`, `bmi` (body mass index), `children`, `smoking_status` and `residential_region`.\n",
        "\n"
      ]
    },
    {
      "cell_type": "code",
      "execution_count": 75,
      "metadata": {
        "colab": {
          "base_uri": "https://localhost:8080/",
          "height": 206
        },
        "id": "Y-BM0RHxOomV",
        "outputId": "d8b9a463-10eb-40ec-fe4f-aa1b6d7e42b6"
      },
      "outputs": [
        {
          "output_type": "execute_result",
          "data": {
            "text/plain": [
              "   age     sex     bmi  children smoker     region      charges\n",
              "0   19  female  27.900         0    yes  southwest  16884.92400\n",
              "1   18    male  33.770         1     no  southeast   1725.55230\n",
              "2   28    male  33.000         3     no  southeast   4449.46200\n",
              "3   33    male  22.705         0     no  northwest  21984.47061\n",
              "4   32    male  28.880         0     no  northwest   3866.85520"
            ],
            "text/html": [
              "\n",
              "  <div id=\"df-aaf8eae6-1c59-4fa3-8503-35045bd54f3b\" class=\"colab-df-container\">\n",
              "    <div>\n",
              "<style scoped>\n",
              "    .dataframe tbody tr th:only-of-type {\n",
              "        vertical-align: middle;\n",
              "    }\n",
              "\n",
              "    .dataframe tbody tr th {\n",
              "        vertical-align: top;\n",
              "    }\n",
              "\n",
              "    .dataframe thead th {\n",
              "        text-align: right;\n",
              "    }\n",
              "</style>\n",
              "<table border=\"1\" class=\"dataframe\">\n",
              "  <thead>\n",
              "    <tr style=\"text-align: right;\">\n",
              "      <th></th>\n",
              "      <th>age</th>\n",
              "      <th>sex</th>\n",
              "      <th>bmi</th>\n",
              "      <th>children</th>\n",
              "      <th>smoker</th>\n",
              "      <th>region</th>\n",
              "      <th>charges</th>\n",
              "    </tr>\n",
              "  </thead>\n",
              "  <tbody>\n",
              "    <tr>\n",
              "      <th>0</th>\n",
              "      <td>19</td>\n",
              "      <td>female</td>\n",
              "      <td>27.900</td>\n",
              "      <td>0</td>\n",
              "      <td>yes</td>\n",
              "      <td>southwest</td>\n",
              "      <td>16884.92400</td>\n",
              "    </tr>\n",
              "    <tr>\n",
              "      <th>1</th>\n",
              "      <td>18</td>\n",
              "      <td>male</td>\n",
              "      <td>33.770</td>\n",
              "      <td>1</td>\n",
              "      <td>no</td>\n",
              "      <td>southeast</td>\n",
              "      <td>1725.55230</td>\n",
              "    </tr>\n",
              "    <tr>\n",
              "      <th>2</th>\n",
              "      <td>28</td>\n",
              "      <td>male</td>\n",
              "      <td>33.000</td>\n",
              "      <td>3</td>\n",
              "      <td>no</td>\n",
              "      <td>southeast</td>\n",
              "      <td>4449.46200</td>\n",
              "    </tr>\n",
              "    <tr>\n",
              "      <th>3</th>\n",
              "      <td>33</td>\n",
              "      <td>male</td>\n",
              "      <td>22.705</td>\n",
              "      <td>0</td>\n",
              "      <td>no</td>\n",
              "      <td>northwest</td>\n",
              "      <td>21984.47061</td>\n",
              "    </tr>\n",
              "    <tr>\n",
              "      <th>4</th>\n",
              "      <td>32</td>\n",
              "      <td>male</td>\n",
              "      <td>28.880</td>\n",
              "      <td>0</td>\n",
              "      <td>no</td>\n",
              "      <td>northwest</td>\n",
              "      <td>3866.85520</td>\n",
              "    </tr>\n",
              "  </tbody>\n",
              "</table>\n",
              "</div>\n",
              "    <div class=\"colab-df-buttons\">\n",
              "\n",
              "  <div class=\"colab-df-container\">\n",
              "    <button class=\"colab-df-convert\" onclick=\"convertToInteractive('df-aaf8eae6-1c59-4fa3-8503-35045bd54f3b')\"\n",
              "            title=\"Convert this dataframe to an interactive table.\"\n",
              "            style=\"display:none;\">\n",
              "\n",
              "  <svg xmlns=\"http://www.w3.org/2000/svg\" height=\"24px\" viewBox=\"0 -960 960 960\">\n",
              "    <path d=\"M120-120v-720h720v720H120Zm60-500h600v-160H180v160Zm220 220h160v-160H400v160Zm0 220h160v-160H400v160ZM180-400h160v-160H180v160Zm440 0h160v-160H620v160ZM180-180h160v-160H180v160Zm440 0h160v-160H620v160Z\"/>\n",
              "  </svg>\n",
              "    </button>\n",
              "\n",
              "  <style>\n",
              "    .colab-df-container {\n",
              "      display:flex;\n",
              "      gap: 12px;\n",
              "    }\n",
              "\n",
              "    .colab-df-convert {\n",
              "      background-color: #E8F0FE;\n",
              "      border: none;\n",
              "      border-radius: 50%;\n",
              "      cursor: pointer;\n",
              "      display: none;\n",
              "      fill: #1967D2;\n",
              "      height: 32px;\n",
              "      padding: 0 0 0 0;\n",
              "      width: 32px;\n",
              "    }\n",
              "\n",
              "    .colab-df-convert:hover {\n",
              "      background-color: #E2EBFA;\n",
              "      box-shadow: 0px 1px 2px rgba(60, 64, 67, 0.3), 0px 1px 3px 1px rgba(60, 64, 67, 0.15);\n",
              "      fill: #174EA6;\n",
              "    }\n",
              "\n",
              "    .colab-df-buttons div {\n",
              "      margin-bottom: 4px;\n",
              "    }\n",
              "\n",
              "    [theme=dark] .colab-df-convert {\n",
              "      background-color: #3B4455;\n",
              "      fill: #D2E3FC;\n",
              "    }\n",
              "\n",
              "    [theme=dark] .colab-df-convert:hover {\n",
              "      background-color: #434B5C;\n",
              "      box-shadow: 0px 1px 3px 1px rgba(0, 0, 0, 0.15);\n",
              "      filter: drop-shadow(0px 1px 2px rgba(0, 0, 0, 0.3));\n",
              "      fill: #FFFFFF;\n",
              "    }\n",
              "  </style>\n",
              "\n",
              "    <script>\n",
              "      const buttonEl =\n",
              "        document.querySelector('#df-aaf8eae6-1c59-4fa3-8503-35045bd54f3b button.colab-df-convert');\n",
              "      buttonEl.style.display =\n",
              "        google.colab.kernel.accessAllowed ? 'block' : 'none';\n",
              "\n",
              "      async function convertToInteractive(key) {\n",
              "        const element = document.querySelector('#df-aaf8eae6-1c59-4fa3-8503-35045bd54f3b');\n",
              "        const dataTable =\n",
              "          await google.colab.kernel.invokeFunction('convertToInteractive',\n",
              "                                                    [key], {});\n",
              "        if (!dataTable) return;\n",
              "\n",
              "        const docLinkHtml = 'Like what you see? Visit the ' +\n",
              "          '<a target=\"_blank\" href=https://colab.research.google.com/notebooks/data_table.ipynb>data table notebook</a>'\n",
              "          + ' to learn more about interactive tables.';\n",
              "        element.innerHTML = '';\n",
              "        dataTable['output_type'] = 'display_data';\n",
              "        await google.colab.output.renderOutput(dataTable, element);\n",
              "        const docLink = document.createElement('div');\n",
              "        docLink.innerHTML = docLinkHtml;\n",
              "        element.appendChild(docLink);\n",
              "      }\n",
              "    </script>\n",
              "  </div>\n",
              "\n",
              "\n",
              "<div id=\"df-0f8c3971-42b5-48de-a2b8-b5e7d4e2af2d\">\n",
              "  <button class=\"colab-df-quickchart\" onclick=\"quickchart('df-0f8c3971-42b5-48de-a2b8-b5e7d4e2af2d')\"\n",
              "            title=\"Suggest charts\"\n",
              "            style=\"display:none;\">\n",
              "\n",
              "<svg xmlns=\"http://www.w3.org/2000/svg\" height=\"24px\"viewBox=\"0 0 24 24\"\n",
              "     width=\"24px\">\n",
              "    <g>\n",
              "        <path d=\"M19 3H5c-1.1 0-2 .9-2 2v14c0 1.1.9 2 2 2h14c1.1 0 2-.9 2-2V5c0-1.1-.9-2-2-2zM9 17H7v-7h2v7zm4 0h-2V7h2v10zm4 0h-2v-4h2v4z\"/>\n",
              "    </g>\n",
              "</svg>\n",
              "  </button>\n",
              "\n",
              "<style>\n",
              "  .colab-df-quickchart {\n",
              "      --bg-color: #E8F0FE;\n",
              "      --fill-color: #1967D2;\n",
              "      --hover-bg-color: #E2EBFA;\n",
              "      --hover-fill-color: #174EA6;\n",
              "      --disabled-fill-color: #AAA;\n",
              "      --disabled-bg-color: #DDD;\n",
              "  }\n",
              "\n",
              "  [theme=dark] .colab-df-quickchart {\n",
              "      --bg-color: #3B4455;\n",
              "      --fill-color: #D2E3FC;\n",
              "      --hover-bg-color: #434B5C;\n",
              "      --hover-fill-color: #FFFFFF;\n",
              "      --disabled-bg-color: #3B4455;\n",
              "      --disabled-fill-color: #666;\n",
              "  }\n",
              "\n",
              "  .colab-df-quickchart {\n",
              "    background-color: var(--bg-color);\n",
              "    border: none;\n",
              "    border-radius: 50%;\n",
              "    cursor: pointer;\n",
              "    display: none;\n",
              "    fill: var(--fill-color);\n",
              "    height: 32px;\n",
              "    padding: 0;\n",
              "    width: 32px;\n",
              "  }\n",
              "\n",
              "  .colab-df-quickchart:hover {\n",
              "    background-color: var(--hover-bg-color);\n",
              "    box-shadow: 0 1px 2px rgba(60, 64, 67, 0.3), 0 1px 3px 1px rgba(60, 64, 67, 0.15);\n",
              "    fill: var(--button-hover-fill-color);\n",
              "  }\n",
              "\n",
              "  .colab-df-quickchart-complete:disabled,\n",
              "  .colab-df-quickchart-complete:disabled:hover {\n",
              "    background-color: var(--disabled-bg-color);\n",
              "    fill: var(--disabled-fill-color);\n",
              "    box-shadow: none;\n",
              "  }\n",
              "\n",
              "  .colab-df-spinner {\n",
              "    border: 2px solid var(--fill-color);\n",
              "    border-color: transparent;\n",
              "    border-bottom-color: var(--fill-color);\n",
              "    animation:\n",
              "      spin 1s steps(1) infinite;\n",
              "  }\n",
              "\n",
              "  @keyframes spin {\n",
              "    0% {\n",
              "      border-color: transparent;\n",
              "      border-bottom-color: var(--fill-color);\n",
              "      border-left-color: var(--fill-color);\n",
              "    }\n",
              "    20% {\n",
              "      border-color: transparent;\n",
              "      border-left-color: var(--fill-color);\n",
              "      border-top-color: var(--fill-color);\n",
              "    }\n",
              "    30% {\n",
              "      border-color: transparent;\n",
              "      border-left-color: var(--fill-color);\n",
              "      border-top-color: var(--fill-color);\n",
              "      border-right-color: var(--fill-color);\n",
              "    }\n",
              "    40% {\n",
              "      border-color: transparent;\n",
              "      border-right-color: var(--fill-color);\n",
              "      border-top-color: var(--fill-color);\n",
              "    }\n",
              "    60% {\n",
              "      border-color: transparent;\n",
              "      border-right-color: var(--fill-color);\n",
              "    }\n",
              "    80% {\n",
              "      border-color: transparent;\n",
              "      border-right-color: var(--fill-color);\n",
              "      border-bottom-color: var(--fill-color);\n",
              "    }\n",
              "    90% {\n",
              "      border-color: transparent;\n",
              "      border-bottom-color: var(--fill-color);\n",
              "    }\n",
              "  }\n",
              "</style>\n",
              "\n",
              "  <script>\n",
              "    async function quickchart(key) {\n",
              "      const quickchartButtonEl =\n",
              "        document.querySelector('#' + key + ' button');\n",
              "      quickchartButtonEl.disabled = true;  // To prevent multiple clicks.\n",
              "      quickchartButtonEl.classList.add('colab-df-spinner');\n",
              "      try {\n",
              "        const charts = await google.colab.kernel.invokeFunction(\n",
              "            'suggestCharts', [key], {});\n",
              "      } catch (error) {\n",
              "        console.error('Error during call to suggestCharts:', error);\n",
              "      }\n",
              "      quickchartButtonEl.classList.remove('colab-df-spinner');\n",
              "      quickchartButtonEl.classList.add('colab-df-quickchart-complete');\n",
              "    }\n",
              "    (() => {\n",
              "      let quickchartButtonEl =\n",
              "        document.querySelector('#df-0f8c3971-42b5-48de-a2b8-b5e7d4e2af2d button');\n",
              "      quickchartButtonEl.style.display =\n",
              "        google.colab.kernel.accessAllowed ? 'block' : 'none';\n",
              "    })();\n",
              "  </script>\n",
              "</div>\n",
              "    </div>\n",
              "  </div>\n"
            ],
            "application/vnd.google.colaboratory.intrinsic+json": {
              "type": "dataframe",
              "variable_name": "df",
              "summary": "{\n  \"name\": \"df\",\n  \"rows\": 1338,\n  \"fields\": [\n    {\n      \"column\": \"age\",\n      \"properties\": {\n        \"dtype\": \"number\",\n        \"std\": 14,\n        \"min\": 18,\n        \"max\": 64,\n        \"num_unique_values\": 47,\n        \"samples\": [\n          21,\n          45,\n          36\n        ],\n        \"semantic_type\": \"\",\n        \"description\": \"\"\n      }\n    },\n    {\n      \"column\": \"sex\",\n      \"properties\": {\n        \"dtype\": \"category\",\n        \"num_unique_values\": 2,\n        \"samples\": [\n          \"male\",\n          \"female\"\n        ],\n        \"semantic_type\": \"\",\n        \"description\": \"\"\n      }\n    },\n    {\n      \"column\": \"bmi\",\n      \"properties\": {\n        \"dtype\": \"number\",\n        \"std\": 6.098186911679014,\n        \"min\": 15.96,\n        \"max\": 53.13,\n        \"num_unique_values\": 548,\n        \"samples\": [\n          23.18,\n          26.885\n        ],\n        \"semantic_type\": \"\",\n        \"description\": \"\"\n      }\n    },\n    {\n      \"column\": \"children\",\n      \"properties\": {\n        \"dtype\": \"number\",\n        \"std\": 1,\n        \"min\": 0,\n        \"max\": 5,\n        \"num_unique_values\": 6,\n        \"samples\": [\n          0,\n          1\n        ],\n        \"semantic_type\": \"\",\n        \"description\": \"\"\n      }\n    },\n    {\n      \"column\": \"smoker\",\n      \"properties\": {\n        \"dtype\": \"category\",\n        \"num_unique_values\": 2,\n        \"samples\": [\n          \"no\",\n          \"yes\"\n        ],\n        \"semantic_type\": \"\",\n        \"description\": \"\"\n      }\n    },\n    {\n      \"column\": \"region\",\n      \"properties\": {\n        \"dtype\": \"category\",\n        \"num_unique_values\": 4,\n        \"samples\": [\n          \"southeast\",\n          \"northeast\"\n        ],\n        \"semantic_type\": \"\",\n        \"description\": \"\"\n      }\n    },\n    {\n      \"column\": \"charges\",\n      \"properties\": {\n        \"dtype\": \"number\",\n        \"std\": 12110.011236694001,\n        \"min\": 1121.8739,\n        \"max\": 63770.42801,\n        \"num_unique_values\": 1337,\n        \"samples\": [\n          8688.85885,\n          5708.867\n        ],\n        \"semantic_type\": \"\",\n        \"description\": \"\"\n      }\n    }\n  ]\n}"
            }
          },
          "metadata": {},
          "execution_count": 75
        }
      ],
      "source": [
        "import tensorflow as tf\n",
        "import pandas as pd\n",
        "import numpy as np\n",
        "import matplotlib.pyplot as plt\n",
        "\n",
        "df = pd.read_csv('https://raw.githubusercontent.com/stedy/Machine-Learning-with-R-datasets/master/insurance.csv')\n",
        "df.head()"
      ]
    },
    {
      "cell_type": "code",
      "execution_count": 76,
      "metadata": {
        "id": "T2xHR8zEWa-w",
        "colab": {
          "base_uri": "https://localhost:8080/"
        },
        "outputId": "bd1821bb-b944-4fdf-da28-1338ac1af736"
      },
      "outputs": [
        {
          "output_type": "execute_result",
          "data": {
            "text/plain": [
              "1338"
            ]
          },
          "metadata": {},
          "execution_count": 76
        }
      ],
      "source": [
        "# Checking the length of the dataset, we have 1338 entries and 7 columns\n",
        "len(df)"
      ]
    },
    {
      "cell_type": "code",
      "source": [
        "# Checking for missing values\n",
        "df.isnull().sum()"
      ],
      "metadata": {
        "colab": {
          "base_uri": "https://localhost:8080/"
        },
        "id": "dfjfPvXhW0UT",
        "outputId": "ead8698b-1d01-4b0e-f478-eedcbaeac27a"
      },
      "execution_count": 77,
      "outputs": [
        {
          "output_type": "execute_result",
          "data": {
            "text/plain": [
              "age         0\n",
              "sex         0\n",
              "bmi         0\n",
              "children    0\n",
              "smoker      0\n",
              "region      0\n",
              "charges     0\n",
              "dtype: int64"
            ]
          },
          "metadata": {},
          "execution_count": 77
        }
      ]
    },
    {
      "cell_type": "markdown",
      "source": [
        "Since we have string data in the dataset, we must one-hot encode it before feeding it into a TensorFlow model."
      ],
      "metadata": {
        "id": "r657VlPyY6dF"
      }
    },
    {
      "cell_type": "code",
      "source": [
        "df_encoded = pd.get_dummies(df)\n",
        "\n",
        "df_encoded.head()"
      ],
      "metadata": {
        "colab": {
          "base_uri": "https://localhost:8080/",
          "height": 206
        },
        "id": "CdDfGEHLYta9",
        "outputId": "f895e36d-1311-48bb-ec41-4067f65fdc1a"
      },
      "execution_count": 78,
      "outputs": [
        {
          "output_type": "execute_result",
          "data": {
            "text/plain": [
              "   age     bmi  children      charges  sex_female  sex_male  smoker_no  \\\n",
              "0   19  27.900         0  16884.92400        True     False      False   \n",
              "1   18  33.770         1   1725.55230       False      True       True   \n",
              "2   28  33.000         3   4449.46200       False      True       True   \n",
              "3   33  22.705         0  21984.47061       False      True       True   \n",
              "4   32  28.880         0   3866.85520       False      True       True   \n",
              "\n",
              "   smoker_yes  region_northeast  region_northwest  region_southeast  \\\n",
              "0        True             False             False             False   \n",
              "1       False             False             False              True   \n",
              "2       False             False             False              True   \n",
              "3       False             False              True             False   \n",
              "4       False             False              True             False   \n",
              "\n",
              "   region_southwest  \n",
              "0              True  \n",
              "1             False  \n",
              "2             False  \n",
              "3             False  \n",
              "4             False  "
            ],
            "text/html": [
              "\n",
              "  <div id=\"df-39996821-45d7-4068-b1e3-2c51f84534c9\" class=\"colab-df-container\">\n",
              "    <div>\n",
              "<style scoped>\n",
              "    .dataframe tbody tr th:only-of-type {\n",
              "        vertical-align: middle;\n",
              "    }\n",
              "\n",
              "    .dataframe tbody tr th {\n",
              "        vertical-align: top;\n",
              "    }\n",
              "\n",
              "    .dataframe thead th {\n",
              "        text-align: right;\n",
              "    }\n",
              "</style>\n",
              "<table border=\"1\" class=\"dataframe\">\n",
              "  <thead>\n",
              "    <tr style=\"text-align: right;\">\n",
              "      <th></th>\n",
              "      <th>age</th>\n",
              "      <th>bmi</th>\n",
              "      <th>children</th>\n",
              "      <th>charges</th>\n",
              "      <th>sex_female</th>\n",
              "      <th>sex_male</th>\n",
              "      <th>smoker_no</th>\n",
              "      <th>smoker_yes</th>\n",
              "      <th>region_northeast</th>\n",
              "      <th>region_northwest</th>\n",
              "      <th>region_southeast</th>\n",
              "      <th>region_southwest</th>\n",
              "    </tr>\n",
              "  </thead>\n",
              "  <tbody>\n",
              "    <tr>\n",
              "      <th>0</th>\n",
              "      <td>19</td>\n",
              "      <td>27.900</td>\n",
              "      <td>0</td>\n",
              "      <td>16884.92400</td>\n",
              "      <td>True</td>\n",
              "      <td>False</td>\n",
              "      <td>False</td>\n",
              "      <td>True</td>\n",
              "      <td>False</td>\n",
              "      <td>False</td>\n",
              "      <td>False</td>\n",
              "      <td>True</td>\n",
              "    </tr>\n",
              "    <tr>\n",
              "      <th>1</th>\n",
              "      <td>18</td>\n",
              "      <td>33.770</td>\n",
              "      <td>1</td>\n",
              "      <td>1725.55230</td>\n",
              "      <td>False</td>\n",
              "      <td>True</td>\n",
              "      <td>True</td>\n",
              "      <td>False</td>\n",
              "      <td>False</td>\n",
              "      <td>False</td>\n",
              "      <td>True</td>\n",
              "      <td>False</td>\n",
              "    </tr>\n",
              "    <tr>\n",
              "      <th>2</th>\n",
              "      <td>28</td>\n",
              "      <td>33.000</td>\n",
              "      <td>3</td>\n",
              "      <td>4449.46200</td>\n",
              "      <td>False</td>\n",
              "      <td>True</td>\n",
              "      <td>True</td>\n",
              "      <td>False</td>\n",
              "      <td>False</td>\n",
              "      <td>False</td>\n",
              "      <td>True</td>\n",
              "      <td>False</td>\n",
              "    </tr>\n",
              "    <tr>\n",
              "      <th>3</th>\n",
              "      <td>33</td>\n",
              "      <td>22.705</td>\n",
              "      <td>0</td>\n",
              "      <td>21984.47061</td>\n",
              "      <td>False</td>\n",
              "      <td>True</td>\n",
              "      <td>True</td>\n",
              "      <td>False</td>\n",
              "      <td>False</td>\n",
              "      <td>True</td>\n",
              "      <td>False</td>\n",
              "      <td>False</td>\n",
              "    </tr>\n",
              "    <tr>\n",
              "      <th>4</th>\n",
              "      <td>32</td>\n",
              "      <td>28.880</td>\n",
              "      <td>0</td>\n",
              "      <td>3866.85520</td>\n",
              "      <td>False</td>\n",
              "      <td>True</td>\n",
              "      <td>True</td>\n",
              "      <td>False</td>\n",
              "      <td>False</td>\n",
              "      <td>True</td>\n",
              "      <td>False</td>\n",
              "      <td>False</td>\n",
              "    </tr>\n",
              "  </tbody>\n",
              "</table>\n",
              "</div>\n",
              "    <div class=\"colab-df-buttons\">\n",
              "\n",
              "  <div class=\"colab-df-container\">\n",
              "    <button class=\"colab-df-convert\" onclick=\"convertToInteractive('df-39996821-45d7-4068-b1e3-2c51f84534c9')\"\n",
              "            title=\"Convert this dataframe to an interactive table.\"\n",
              "            style=\"display:none;\">\n",
              "\n",
              "  <svg xmlns=\"http://www.w3.org/2000/svg\" height=\"24px\" viewBox=\"0 -960 960 960\">\n",
              "    <path d=\"M120-120v-720h720v720H120Zm60-500h600v-160H180v160Zm220 220h160v-160H400v160Zm0 220h160v-160H400v160ZM180-400h160v-160H180v160Zm440 0h160v-160H620v160ZM180-180h160v-160H180v160Zm440 0h160v-160H620v160Z\"/>\n",
              "  </svg>\n",
              "    </button>\n",
              "\n",
              "  <style>\n",
              "    .colab-df-container {\n",
              "      display:flex;\n",
              "      gap: 12px;\n",
              "    }\n",
              "\n",
              "    .colab-df-convert {\n",
              "      background-color: #E8F0FE;\n",
              "      border: none;\n",
              "      border-radius: 50%;\n",
              "      cursor: pointer;\n",
              "      display: none;\n",
              "      fill: #1967D2;\n",
              "      height: 32px;\n",
              "      padding: 0 0 0 0;\n",
              "      width: 32px;\n",
              "    }\n",
              "\n",
              "    .colab-df-convert:hover {\n",
              "      background-color: #E2EBFA;\n",
              "      box-shadow: 0px 1px 2px rgba(60, 64, 67, 0.3), 0px 1px 3px 1px rgba(60, 64, 67, 0.15);\n",
              "      fill: #174EA6;\n",
              "    }\n",
              "\n",
              "    .colab-df-buttons div {\n",
              "      margin-bottom: 4px;\n",
              "    }\n",
              "\n",
              "    [theme=dark] .colab-df-convert {\n",
              "      background-color: #3B4455;\n",
              "      fill: #D2E3FC;\n",
              "    }\n",
              "\n",
              "    [theme=dark] .colab-df-convert:hover {\n",
              "      background-color: #434B5C;\n",
              "      box-shadow: 0px 1px 3px 1px rgba(0, 0, 0, 0.15);\n",
              "      filter: drop-shadow(0px 1px 2px rgba(0, 0, 0, 0.3));\n",
              "      fill: #FFFFFF;\n",
              "    }\n",
              "  </style>\n",
              "\n",
              "    <script>\n",
              "      const buttonEl =\n",
              "        document.querySelector('#df-39996821-45d7-4068-b1e3-2c51f84534c9 button.colab-df-convert');\n",
              "      buttonEl.style.display =\n",
              "        google.colab.kernel.accessAllowed ? 'block' : 'none';\n",
              "\n",
              "      async function convertToInteractive(key) {\n",
              "        const element = document.querySelector('#df-39996821-45d7-4068-b1e3-2c51f84534c9');\n",
              "        const dataTable =\n",
              "          await google.colab.kernel.invokeFunction('convertToInteractive',\n",
              "                                                    [key], {});\n",
              "        if (!dataTable) return;\n",
              "\n",
              "        const docLinkHtml = 'Like what you see? Visit the ' +\n",
              "          '<a target=\"_blank\" href=https://colab.research.google.com/notebooks/data_table.ipynb>data table notebook</a>'\n",
              "          + ' to learn more about interactive tables.';\n",
              "        element.innerHTML = '';\n",
              "        dataTable['output_type'] = 'display_data';\n",
              "        await google.colab.output.renderOutput(dataTable, element);\n",
              "        const docLink = document.createElement('div');\n",
              "        docLink.innerHTML = docLinkHtml;\n",
              "        element.appendChild(docLink);\n",
              "      }\n",
              "    </script>\n",
              "  </div>\n",
              "\n",
              "\n",
              "<div id=\"df-537dfa87-8caf-44a7-87d7-cb4fea5df413\">\n",
              "  <button class=\"colab-df-quickchart\" onclick=\"quickchart('df-537dfa87-8caf-44a7-87d7-cb4fea5df413')\"\n",
              "            title=\"Suggest charts\"\n",
              "            style=\"display:none;\">\n",
              "\n",
              "<svg xmlns=\"http://www.w3.org/2000/svg\" height=\"24px\"viewBox=\"0 0 24 24\"\n",
              "     width=\"24px\">\n",
              "    <g>\n",
              "        <path d=\"M19 3H5c-1.1 0-2 .9-2 2v14c0 1.1.9 2 2 2h14c1.1 0 2-.9 2-2V5c0-1.1-.9-2-2-2zM9 17H7v-7h2v7zm4 0h-2V7h2v10zm4 0h-2v-4h2v4z\"/>\n",
              "    </g>\n",
              "</svg>\n",
              "  </button>\n",
              "\n",
              "<style>\n",
              "  .colab-df-quickchart {\n",
              "      --bg-color: #E8F0FE;\n",
              "      --fill-color: #1967D2;\n",
              "      --hover-bg-color: #E2EBFA;\n",
              "      --hover-fill-color: #174EA6;\n",
              "      --disabled-fill-color: #AAA;\n",
              "      --disabled-bg-color: #DDD;\n",
              "  }\n",
              "\n",
              "  [theme=dark] .colab-df-quickchart {\n",
              "      --bg-color: #3B4455;\n",
              "      --fill-color: #D2E3FC;\n",
              "      --hover-bg-color: #434B5C;\n",
              "      --hover-fill-color: #FFFFFF;\n",
              "      --disabled-bg-color: #3B4455;\n",
              "      --disabled-fill-color: #666;\n",
              "  }\n",
              "\n",
              "  .colab-df-quickchart {\n",
              "    background-color: var(--bg-color);\n",
              "    border: none;\n",
              "    border-radius: 50%;\n",
              "    cursor: pointer;\n",
              "    display: none;\n",
              "    fill: var(--fill-color);\n",
              "    height: 32px;\n",
              "    padding: 0;\n",
              "    width: 32px;\n",
              "  }\n",
              "\n",
              "  .colab-df-quickchart:hover {\n",
              "    background-color: var(--hover-bg-color);\n",
              "    box-shadow: 0 1px 2px rgba(60, 64, 67, 0.3), 0 1px 3px 1px rgba(60, 64, 67, 0.15);\n",
              "    fill: var(--button-hover-fill-color);\n",
              "  }\n",
              "\n",
              "  .colab-df-quickchart-complete:disabled,\n",
              "  .colab-df-quickchart-complete:disabled:hover {\n",
              "    background-color: var(--disabled-bg-color);\n",
              "    fill: var(--disabled-fill-color);\n",
              "    box-shadow: none;\n",
              "  }\n",
              "\n",
              "  .colab-df-spinner {\n",
              "    border: 2px solid var(--fill-color);\n",
              "    border-color: transparent;\n",
              "    border-bottom-color: var(--fill-color);\n",
              "    animation:\n",
              "      spin 1s steps(1) infinite;\n",
              "  }\n",
              "\n",
              "  @keyframes spin {\n",
              "    0% {\n",
              "      border-color: transparent;\n",
              "      border-bottom-color: var(--fill-color);\n",
              "      border-left-color: var(--fill-color);\n",
              "    }\n",
              "    20% {\n",
              "      border-color: transparent;\n",
              "      border-left-color: var(--fill-color);\n",
              "      border-top-color: var(--fill-color);\n",
              "    }\n",
              "    30% {\n",
              "      border-color: transparent;\n",
              "      border-left-color: var(--fill-color);\n",
              "      border-top-color: var(--fill-color);\n",
              "      border-right-color: var(--fill-color);\n",
              "    }\n",
              "    40% {\n",
              "      border-color: transparent;\n",
              "      border-right-color: var(--fill-color);\n",
              "      border-top-color: var(--fill-color);\n",
              "    }\n",
              "    60% {\n",
              "      border-color: transparent;\n",
              "      border-right-color: var(--fill-color);\n",
              "    }\n",
              "    80% {\n",
              "      border-color: transparent;\n",
              "      border-right-color: var(--fill-color);\n",
              "      border-bottom-color: var(--fill-color);\n",
              "    }\n",
              "    90% {\n",
              "      border-color: transparent;\n",
              "      border-bottom-color: var(--fill-color);\n",
              "    }\n",
              "  }\n",
              "</style>\n",
              "\n",
              "  <script>\n",
              "    async function quickchart(key) {\n",
              "      const quickchartButtonEl =\n",
              "        document.querySelector('#' + key + ' button');\n",
              "      quickchartButtonEl.disabled = true;  // To prevent multiple clicks.\n",
              "      quickchartButtonEl.classList.add('colab-df-spinner');\n",
              "      try {\n",
              "        const charts = await google.colab.kernel.invokeFunction(\n",
              "            'suggestCharts', [key], {});\n",
              "      } catch (error) {\n",
              "        console.error('Error during call to suggestCharts:', error);\n",
              "      }\n",
              "      quickchartButtonEl.classList.remove('colab-df-spinner');\n",
              "      quickchartButtonEl.classList.add('colab-df-quickchart-complete');\n",
              "    }\n",
              "    (() => {\n",
              "      let quickchartButtonEl =\n",
              "        document.querySelector('#df-537dfa87-8caf-44a7-87d7-cb4fea5df413 button');\n",
              "      quickchartButtonEl.style.display =\n",
              "        google.colab.kernel.accessAllowed ? 'block' : 'none';\n",
              "    })();\n",
              "  </script>\n",
              "</div>\n",
              "    </div>\n",
              "  </div>\n"
            ],
            "application/vnd.google.colaboratory.intrinsic+json": {
              "type": "dataframe",
              "variable_name": "df_encoded",
              "summary": "{\n  \"name\": \"df_encoded\",\n  \"rows\": 1338,\n  \"fields\": [\n    {\n      \"column\": \"age\",\n      \"properties\": {\n        \"dtype\": \"number\",\n        \"std\": 14,\n        \"min\": 18,\n        \"max\": 64,\n        \"num_unique_values\": 47,\n        \"samples\": [\n          21,\n          45,\n          36\n        ],\n        \"semantic_type\": \"\",\n        \"description\": \"\"\n      }\n    },\n    {\n      \"column\": \"bmi\",\n      \"properties\": {\n        \"dtype\": \"number\",\n        \"std\": 6.098186911679014,\n        \"min\": 15.96,\n        \"max\": 53.13,\n        \"num_unique_values\": 548,\n        \"samples\": [\n          23.18,\n          26.885,\n          29.26\n        ],\n        \"semantic_type\": \"\",\n        \"description\": \"\"\n      }\n    },\n    {\n      \"column\": \"children\",\n      \"properties\": {\n        \"dtype\": \"number\",\n        \"std\": 1,\n        \"min\": 0,\n        \"max\": 5,\n        \"num_unique_values\": 6,\n        \"samples\": [\n          0,\n          1,\n          4\n        ],\n        \"semantic_type\": \"\",\n        \"description\": \"\"\n      }\n    },\n    {\n      \"column\": \"charges\",\n      \"properties\": {\n        \"dtype\": \"number\",\n        \"std\": 12110.011236694001,\n        \"min\": 1121.8739,\n        \"max\": 63770.42801,\n        \"num_unique_values\": 1337,\n        \"samples\": [\n          8688.85885,\n          5708.867,\n          11436.73815\n        ],\n        \"semantic_type\": \"\",\n        \"description\": \"\"\n      }\n    },\n    {\n      \"column\": \"sex_female\",\n      \"properties\": {\n        \"dtype\": \"boolean\",\n        \"num_unique_values\": 2,\n        \"samples\": [\n          false,\n          true\n        ],\n        \"semantic_type\": \"\",\n        \"description\": \"\"\n      }\n    },\n    {\n      \"column\": \"sex_male\",\n      \"properties\": {\n        \"dtype\": \"boolean\",\n        \"num_unique_values\": 2,\n        \"samples\": [\n          true,\n          false\n        ],\n        \"semantic_type\": \"\",\n        \"description\": \"\"\n      }\n    },\n    {\n      \"column\": \"smoker_no\",\n      \"properties\": {\n        \"dtype\": \"boolean\",\n        \"num_unique_values\": 2,\n        \"samples\": [\n          true,\n          false\n        ],\n        \"semantic_type\": \"\",\n        \"description\": \"\"\n      }\n    },\n    {\n      \"column\": \"smoker_yes\",\n      \"properties\": {\n        \"dtype\": \"boolean\",\n        \"num_unique_values\": 2,\n        \"samples\": [\n          false,\n          true\n        ],\n        \"semantic_type\": \"\",\n        \"description\": \"\"\n      }\n    },\n    {\n      \"column\": \"region_northeast\",\n      \"properties\": {\n        \"dtype\": \"boolean\",\n        \"num_unique_values\": 2,\n        \"samples\": [\n          true,\n          false\n        ],\n        \"semantic_type\": \"\",\n        \"description\": \"\"\n      }\n    },\n    {\n      \"column\": \"region_northwest\",\n      \"properties\": {\n        \"dtype\": \"boolean\",\n        \"num_unique_values\": 2,\n        \"samples\": [\n          true,\n          false\n        ],\n        \"semantic_type\": \"\",\n        \"description\": \"\"\n      }\n    },\n    {\n      \"column\": \"region_southeast\",\n      \"properties\": {\n        \"dtype\": \"boolean\",\n        \"num_unique_values\": 2,\n        \"samples\": [\n          true,\n          false\n        ],\n        \"semantic_type\": \"\",\n        \"description\": \"\"\n      }\n    },\n    {\n      \"column\": \"region_southwest\",\n      \"properties\": {\n        \"dtype\": \"boolean\",\n        \"num_unique_values\": 2,\n        \"samples\": [\n          false,\n          true\n        ],\n        \"semantic_type\": \"\",\n        \"description\": \"\"\n      }\n    }\n  ]\n}"
            }
          },
          "metadata": {},
          "execution_count": 78
        }
      ]
    },
    {
      "cell_type": "code",
      "source": [
        "# Defining the features and the label\n",
        "y = df_encoded['charges']\n",
        "X = df_encoded.drop('charges', axis = 1)"
      ],
      "metadata": {
        "id": "7C77CLnbZMCJ"
      },
      "execution_count": 80,
      "outputs": []
    },
    {
      "cell_type": "code",
      "source": [
        "X.head()"
      ],
      "metadata": {
        "colab": {
          "base_uri": "https://localhost:8080/",
          "height": 206
        },
        "id": "wCsN6tCoaQhI",
        "outputId": "31c690f1-d255-4e66-f06b-ce40c4a4ae07"
      },
      "execution_count": 83,
      "outputs": [
        {
          "output_type": "execute_result",
          "data": {
            "text/plain": [
              "   age     bmi  children  sex_female  sex_male  smoker_no  smoker_yes  \\\n",
              "0   19  27.900         0        True     False      False        True   \n",
              "1   18  33.770         1       False      True       True       False   \n",
              "2   28  33.000         3       False      True       True       False   \n",
              "3   33  22.705         0       False      True       True       False   \n",
              "4   32  28.880         0       False      True       True       False   \n",
              "\n",
              "   region_northeast  region_northwest  region_southeast  region_southwest  \n",
              "0             False             False             False              True  \n",
              "1             False             False              True             False  \n",
              "2             False             False              True             False  \n",
              "3             False              True             False             False  \n",
              "4             False              True             False             False  "
            ],
            "text/html": [
              "\n",
              "  <div id=\"df-c26772be-c9cf-457f-8eb4-2bda1eeaabf0\" class=\"colab-df-container\">\n",
              "    <div>\n",
              "<style scoped>\n",
              "    .dataframe tbody tr th:only-of-type {\n",
              "        vertical-align: middle;\n",
              "    }\n",
              "\n",
              "    .dataframe tbody tr th {\n",
              "        vertical-align: top;\n",
              "    }\n",
              "\n",
              "    .dataframe thead th {\n",
              "        text-align: right;\n",
              "    }\n",
              "</style>\n",
              "<table border=\"1\" class=\"dataframe\">\n",
              "  <thead>\n",
              "    <tr style=\"text-align: right;\">\n",
              "      <th></th>\n",
              "      <th>age</th>\n",
              "      <th>bmi</th>\n",
              "      <th>children</th>\n",
              "      <th>sex_female</th>\n",
              "      <th>sex_male</th>\n",
              "      <th>smoker_no</th>\n",
              "      <th>smoker_yes</th>\n",
              "      <th>region_northeast</th>\n",
              "      <th>region_northwest</th>\n",
              "      <th>region_southeast</th>\n",
              "      <th>region_southwest</th>\n",
              "    </tr>\n",
              "  </thead>\n",
              "  <tbody>\n",
              "    <tr>\n",
              "      <th>0</th>\n",
              "      <td>19</td>\n",
              "      <td>27.900</td>\n",
              "      <td>0</td>\n",
              "      <td>True</td>\n",
              "      <td>False</td>\n",
              "      <td>False</td>\n",
              "      <td>True</td>\n",
              "      <td>False</td>\n",
              "      <td>False</td>\n",
              "      <td>False</td>\n",
              "      <td>True</td>\n",
              "    </tr>\n",
              "    <tr>\n",
              "      <th>1</th>\n",
              "      <td>18</td>\n",
              "      <td>33.770</td>\n",
              "      <td>1</td>\n",
              "      <td>False</td>\n",
              "      <td>True</td>\n",
              "      <td>True</td>\n",
              "      <td>False</td>\n",
              "      <td>False</td>\n",
              "      <td>False</td>\n",
              "      <td>True</td>\n",
              "      <td>False</td>\n",
              "    </tr>\n",
              "    <tr>\n",
              "      <th>2</th>\n",
              "      <td>28</td>\n",
              "      <td>33.000</td>\n",
              "      <td>3</td>\n",
              "      <td>False</td>\n",
              "      <td>True</td>\n",
              "      <td>True</td>\n",
              "      <td>False</td>\n",
              "      <td>False</td>\n",
              "      <td>False</td>\n",
              "      <td>True</td>\n",
              "      <td>False</td>\n",
              "    </tr>\n",
              "    <tr>\n",
              "      <th>3</th>\n",
              "      <td>33</td>\n",
              "      <td>22.705</td>\n",
              "      <td>0</td>\n",
              "      <td>False</td>\n",
              "      <td>True</td>\n",
              "      <td>True</td>\n",
              "      <td>False</td>\n",
              "      <td>False</td>\n",
              "      <td>True</td>\n",
              "      <td>False</td>\n",
              "      <td>False</td>\n",
              "    </tr>\n",
              "    <tr>\n",
              "      <th>4</th>\n",
              "      <td>32</td>\n",
              "      <td>28.880</td>\n",
              "      <td>0</td>\n",
              "      <td>False</td>\n",
              "      <td>True</td>\n",
              "      <td>True</td>\n",
              "      <td>False</td>\n",
              "      <td>False</td>\n",
              "      <td>True</td>\n",
              "      <td>False</td>\n",
              "      <td>False</td>\n",
              "    </tr>\n",
              "  </tbody>\n",
              "</table>\n",
              "</div>\n",
              "    <div class=\"colab-df-buttons\">\n",
              "\n",
              "  <div class=\"colab-df-container\">\n",
              "    <button class=\"colab-df-convert\" onclick=\"convertToInteractive('df-c26772be-c9cf-457f-8eb4-2bda1eeaabf0')\"\n",
              "            title=\"Convert this dataframe to an interactive table.\"\n",
              "            style=\"display:none;\">\n",
              "\n",
              "  <svg xmlns=\"http://www.w3.org/2000/svg\" height=\"24px\" viewBox=\"0 -960 960 960\">\n",
              "    <path d=\"M120-120v-720h720v720H120Zm60-500h600v-160H180v160Zm220 220h160v-160H400v160Zm0 220h160v-160H400v160ZM180-400h160v-160H180v160Zm440 0h160v-160H620v160ZM180-180h160v-160H180v160Zm440 0h160v-160H620v160Z\"/>\n",
              "  </svg>\n",
              "    </button>\n",
              "\n",
              "  <style>\n",
              "    .colab-df-container {\n",
              "      display:flex;\n",
              "      gap: 12px;\n",
              "    }\n",
              "\n",
              "    .colab-df-convert {\n",
              "      background-color: #E8F0FE;\n",
              "      border: none;\n",
              "      border-radius: 50%;\n",
              "      cursor: pointer;\n",
              "      display: none;\n",
              "      fill: #1967D2;\n",
              "      height: 32px;\n",
              "      padding: 0 0 0 0;\n",
              "      width: 32px;\n",
              "    }\n",
              "\n",
              "    .colab-df-convert:hover {\n",
              "      background-color: #E2EBFA;\n",
              "      box-shadow: 0px 1px 2px rgba(60, 64, 67, 0.3), 0px 1px 3px 1px rgba(60, 64, 67, 0.15);\n",
              "      fill: #174EA6;\n",
              "    }\n",
              "\n",
              "    .colab-df-buttons div {\n",
              "      margin-bottom: 4px;\n",
              "    }\n",
              "\n",
              "    [theme=dark] .colab-df-convert {\n",
              "      background-color: #3B4455;\n",
              "      fill: #D2E3FC;\n",
              "    }\n",
              "\n",
              "    [theme=dark] .colab-df-convert:hover {\n",
              "      background-color: #434B5C;\n",
              "      box-shadow: 0px 1px 3px 1px rgba(0, 0, 0, 0.15);\n",
              "      filter: drop-shadow(0px 1px 2px rgba(0, 0, 0, 0.3));\n",
              "      fill: #FFFFFF;\n",
              "    }\n",
              "  </style>\n",
              "\n",
              "    <script>\n",
              "      const buttonEl =\n",
              "        document.querySelector('#df-c26772be-c9cf-457f-8eb4-2bda1eeaabf0 button.colab-df-convert');\n",
              "      buttonEl.style.display =\n",
              "        google.colab.kernel.accessAllowed ? 'block' : 'none';\n",
              "\n",
              "      async function convertToInteractive(key) {\n",
              "        const element = document.querySelector('#df-c26772be-c9cf-457f-8eb4-2bda1eeaabf0');\n",
              "        const dataTable =\n",
              "          await google.colab.kernel.invokeFunction('convertToInteractive',\n",
              "                                                    [key], {});\n",
              "        if (!dataTable) return;\n",
              "\n",
              "        const docLinkHtml = 'Like what you see? Visit the ' +\n",
              "          '<a target=\"_blank\" href=https://colab.research.google.com/notebooks/data_table.ipynb>data table notebook</a>'\n",
              "          + ' to learn more about interactive tables.';\n",
              "        element.innerHTML = '';\n",
              "        dataTable['output_type'] = 'display_data';\n",
              "        await google.colab.output.renderOutput(dataTable, element);\n",
              "        const docLink = document.createElement('div');\n",
              "        docLink.innerHTML = docLinkHtml;\n",
              "        element.appendChild(docLink);\n",
              "      }\n",
              "    </script>\n",
              "  </div>\n",
              "\n",
              "\n",
              "<div id=\"df-56fae9ea-75a7-4af7-8add-0b1a8f977f08\">\n",
              "  <button class=\"colab-df-quickchart\" onclick=\"quickchart('df-56fae9ea-75a7-4af7-8add-0b1a8f977f08')\"\n",
              "            title=\"Suggest charts\"\n",
              "            style=\"display:none;\">\n",
              "\n",
              "<svg xmlns=\"http://www.w3.org/2000/svg\" height=\"24px\"viewBox=\"0 0 24 24\"\n",
              "     width=\"24px\">\n",
              "    <g>\n",
              "        <path d=\"M19 3H5c-1.1 0-2 .9-2 2v14c0 1.1.9 2 2 2h14c1.1 0 2-.9 2-2V5c0-1.1-.9-2-2-2zM9 17H7v-7h2v7zm4 0h-2V7h2v10zm4 0h-2v-4h2v4z\"/>\n",
              "    </g>\n",
              "</svg>\n",
              "  </button>\n",
              "\n",
              "<style>\n",
              "  .colab-df-quickchart {\n",
              "      --bg-color: #E8F0FE;\n",
              "      --fill-color: #1967D2;\n",
              "      --hover-bg-color: #E2EBFA;\n",
              "      --hover-fill-color: #174EA6;\n",
              "      --disabled-fill-color: #AAA;\n",
              "      --disabled-bg-color: #DDD;\n",
              "  }\n",
              "\n",
              "  [theme=dark] .colab-df-quickchart {\n",
              "      --bg-color: #3B4455;\n",
              "      --fill-color: #D2E3FC;\n",
              "      --hover-bg-color: #434B5C;\n",
              "      --hover-fill-color: #FFFFFF;\n",
              "      --disabled-bg-color: #3B4455;\n",
              "      --disabled-fill-color: #666;\n",
              "  }\n",
              "\n",
              "  .colab-df-quickchart {\n",
              "    background-color: var(--bg-color);\n",
              "    border: none;\n",
              "    border-radius: 50%;\n",
              "    cursor: pointer;\n",
              "    display: none;\n",
              "    fill: var(--fill-color);\n",
              "    height: 32px;\n",
              "    padding: 0;\n",
              "    width: 32px;\n",
              "  }\n",
              "\n",
              "  .colab-df-quickchart:hover {\n",
              "    background-color: var(--hover-bg-color);\n",
              "    box-shadow: 0 1px 2px rgba(60, 64, 67, 0.3), 0 1px 3px 1px rgba(60, 64, 67, 0.15);\n",
              "    fill: var(--button-hover-fill-color);\n",
              "  }\n",
              "\n",
              "  .colab-df-quickchart-complete:disabled,\n",
              "  .colab-df-quickchart-complete:disabled:hover {\n",
              "    background-color: var(--disabled-bg-color);\n",
              "    fill: var(--disabled-fill-color);\n",
              "    box-shadow: none;\n",
              "  }\n",
              "\n",
              "  .colab-df-spinner {\n",
              "    border: 2px solid var(--fill-color);\n",
              "    border-color: transparent;\n",
              "    border-bottom-color: var(--fill-color);\n",
              "    animation:\n",
              "      spin 1s steps(1) infinite;\n",
              "  }\n",
              "\n",
              "  @keyframes spin {\n",
              "    0% {\n",
              "      border-color: transparent;\n",
              "      border-bottom-color: var(--fill-color);\n",
              "      border-left-color: var(--fill-color);\n",
              "    }\n",
              "    20% {\n",
              "      border-color: transparent;\n",
              "      border-left-color: var(--fill-color);\n",
              "      border-top-color: var(--fill-color);\n",
              "    }\n",
              "    30% {\n",
              "      border-color: transparent;\n",
              "      border-left-color: var(--fill-color);\n",
              "      border-top-color: var(--fill-color);\n",
              "      border-right-color: var(--fill-color);\n",
              "    }\n",
              "    40% {\n",
              "      border-color: transparent;\n",
              "      border-right-color: var(--fill-color);\n",
              "      border-top-color: var(--fill-color);\n",
              "    }\n",
              "    60% {\n",
              "      border-color: transparent;\n",
              "      border-right-color: var(--fill-color);\n",
              "    }\n",
              "    80% {\n",
              "      border-color: transparent;\n",
              "      border-right-color: var(--fill-color);\n",
              "      border-bottom-color: var(--fill-color);\n",
              "    }\n",
              "    90% {\n",
              "      border-color: transparent;\n",
              "      border-bottom-color: var(--fill-color);\n",
              "    }\n",
              "  }\n",
              "</style>\n",
              "\n",
              "  <script>\n",
              "    async function quickchart(key) {\n",
              "      const quickchartButtonEl =\n",
              "        document.querySelector('#' + key + ' button');\n",
              "      quickchartButtonEl.disabled = true;  // To prevent multiple clicks.\n",
              "      quickchartButtonEl.classList.add('colab-df-spinner');\n",
              "      try {\n",
              "        const charts = await google.colab.kernel.invokeFunction(\n",
              "            'suggestCharts', [key], {});\n",
              "      } catch (error) {\n",
              "        console.error('Error during call to suggestCharts:', error);\n",
              "      }\n",
              "      quickchartButtonEl.classList.remove('colab-df-spinner');\n",
              "      quickchartButtonEl.classList.add('colab-df-quickchart-complete');\n",
              "    }\n",
              "    (() => {\n",
              "      let quickchartButtonEl =\n",
              "        document.querySelector('#df-56fae9ea-75a7-4af7-8add-0b1a8f977f08 button');\n",
              "      quickchartButtonEl.style.display =\n",
              "        google.colab.kernel.accessAllowed ? 'block' : 'none';\n",
              "    })();\n",
              "  </script>\n",
              "</div>\n",
              "    </div>\n",
              "  </div>\n"
            ],
            "application/vnd.google.colaboratory.intrinsic+json": {
              "type": "dataframe",
              "variable_name": "X",
              "summary": "{\n  \"name\": \"X\",\n  \"rows\": 1338,\n  \"fields\": [\n    {\n      \"column\": \"age\",\n      \"properties\": {\n        \"dtype\": \"number\",\n        \"std\": 14,\n        \"min\": 18,\n        \"max\": 64,\n        \"num_unique_values\": 47,\n        \"samples\": [\n          21,\n          45,\n          36\n        ],\n        \"semantic_type\": \"\",\n        \"description\": \"\"\n      }\n    },\n    {\n      \"column\": \"bmi\",\n      \"properties\": {\n        \"dtype\": \"number\",\n        \"std\": 6.098186911679014,\n        \"min\": 15.96,\n        \"max\": 53.13,\n        \"num_unique_values\": 548,\n        \"samples\": [\n          23.18,\n          26.885,\n          29.26\n        ],\n        \"semantic_type\": \"\",\n        \"description\": \"\"\n      }\n    },\n    {\n      \"column\": \"children\",\n      \"properties\": {\n        \"dtype\": \"number\",\n        \"std\": 1,\n        \"min\": 0,\n        \"max\": 5,\n        \"num_unique_values\": 6,\n        \"samples\": [\n          0,\n          1,\n          4\n        ],\n        \"semantic_type\": \"\",\n        \"description\": \"\"\n      }\n    },\n    {\n      \"column\": \"sex_female\",\n      \"properties\": {\n        \"dtype\": \"boolean\",\n        \"num_unique_values\": 2,\n        \"samples\": [\n          false,\n          true\n        ],\n        \"semantic_type\": \"\",\n        \"description\": \"\"\n      }\n    },\n    {\n      \"column\": \"sex_male\",\n      \"properties\": {\n        \"dtype\": \"boolean\",\n        \"num_unique_values\": 2,\n        \"samples\": [\n          true,\n          false\n        ],\n        \"semantic_type\": \"\",\n        \"description\": \"\"\n      }\n    },\n    {\n      \"column\": \"smoker_no\",\n      \"properties\": {\n        \"dtype\": \"boolean\",\n        \"num_unique_values\": 2,\n        \"samples\": [\n          true,\n          false\n        ],\n        \"semantic_type\": \"\",\n        \"description\": \"\"\n      }\n    },\n    {\n      \"column\": \"smoker_yes\",\n      \"properties\": {\n        \"dtype\": \"boolean\",\n        \"num_unique_values\": 2,\n        \"samples\": [\n          false,\n          true\n        ],\n        \"semantic_type\": \"\",\n        \"description\": \"\"\n      }\n    },\n    {\n      \"column\": \"region_northeast\",\n      \"properties\": {\n        \"dtype\": \"boolean\",\n        \"num_unique_values\": 2,\n        \"samples\": [\n          true,\n          false\n        ],\n        \"semantic_type\": \"\",\n        \"description\": \"\"\n      }\n    },\n    {\n      \"column\": \"region_northwest\",\n      \"properties\": {\n        \"dtype\": \"boolean\",\n        \"num_unique_values\": 2,\n        \"samples\": [\n          true,\n          false\n        ],\n        \"semantic_type\": \"\",\n        \"description\": \"\"\n      }\n    },\n    {\n      \"column\": \"region_southeast\",\n      \"properties\": {\n        \"dtype\": \"boolean\",\n        \"num_unique_values\": 2,\n        \"samples\": [\n          true,\n          false\n        ],\n        \"semantic_type\": \"\",\n        \"description\": \"\"\n      }\n    },\n    {\n      \"column\": \"region_southwest\",\n      \"properties\": {\n        \"dtype\": \"boolean\",\n        \"num_unique_values\": 2,\n        \"samples\": [\n          false,\n          true\n        ],\n        \"semantic_type\": \"\",\n        \"description\": \"\"\n      }\n    }\n  ]\n}"
            }
          },
          "metadata": {},
          "execution_count": 83
        }
      ]
    },
    {
      "cell_type": "code",
      "source": [
        "y.head()"
      ],
      "metadata": {
        "colab": {
          "base_uri": "https://localhost:8080/"
        },
        "id": "ayqq4lGfaSwQ",
        "outputId": "c9f50541-39d6-4cc3-c24d-1c15918bfb05"
      },
      "execution_count": 84,
      "outputs": [
        {
          "output_type": "execute_result",
          "data": {
            "text/plain": [
              "0    16884.92400\n",
              "1     1725.55230\n",
              "2     4449.46200\n",
              "3    21984.47061\n",
              "4     3866.85520\n",
              "Name: charges, dtype: float64"
            ]
          },
          "metadata": {},
          "execution_count": 84
        }
      ]
    },
    {
      "cell_type": "code",
      "source": [
        "# Creating the train-test split\n",
        "from sklearn.model_selection import train_test_split\n",
        "X_train, X_test, y_train, y_test = train_test_split(X, y, test_size=0.2, random_state=42)"
      ],
      "metadata": {
        "id": "96XbheTQaqg_"
      },
      "execution_count": 85,
      "outputs": []
    },
    {
      "cell_type": "code",
      "source": [
        "len(X_train), len(X_test)"
      ],
      "metadata": {
        "colab": {
          "base_uri": "https://localhost:8080/"
        },
        "id": "GHLcqtSga3IT",
        "outputId": "bf6c362e-7493-4949-c75c-6e562b976e5e"
      },
      "execution_count": 88,
      "outputs": [
        {
          "output_type": "execute_result",
          "data": {
            "text/plain": [
              "(1070, 268)"
            ]
          },
          "metadata": {},
          "execution_count": 88
        }
      ]
    },
    {
      "cell_type": "code",
      "source": [
        "# Building the model"
      ],
      "metadata": {
        "id": "JaWnr9bra9Va"
      },
      "execution_count": null,
      "outputs": []
    }
  ],
  "metadata": {
    "colab": {
      "provenance": [],
      "mount_file_id": "15lK5FJAIGGUJztZWosQIuR9zwNeoAzfl",
      "authorship_tag": "ABX9TyN+utQv7l7ZdzswHrmIHaxP",
      "include_colab_link": true
    },
    "kernelspec": {
      "display_name": "Python 3",
      "name": "python3"
    },
    "language_info": {
      "name": "python"
    }
  },
  "nbformat": 4,
  "nbformat_minor": 0
}