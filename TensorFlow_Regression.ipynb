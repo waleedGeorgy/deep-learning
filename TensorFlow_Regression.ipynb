{
  "cells": [
    {
      "cell_type": "markdown",
      "metadata": {
        "id": "view-in-github",
        "colab_type": "text"
      },
      "source": [
        "<a href=\"https://colab.research.google.com/github/waleedGeorgy/deep-learning/blob/main/TensorFlow_Regression.ipynb\" target=\"_parent\"><img src=\"https://colab.research.google.com/assets/colab-badge.svg\" alt=\"Open In Colab\"/></a>"
      ]
    },
    {
      "cell_type": "markdown",
      "metadata": {
        "id": "vwWvtvPjiTw8"
      },
      "source": [
        "# Introduction & Data Setup"
      ]
    },
    {
      "cell_type": "markdown",
      "metadata": {
        "id": "3W4tDz96eo2y"
      },
      "source": [
        "**Regression** is a supervised machine learning technique which is used to predict continuous values. The ultimate goal of the regression algorithm is to plot a best-fit line or a curve between the input features (independant variables) and the output label (dependant variable)."
      ]
    },
    {
      "cell_type": "code",
      "execution_count": null,
      "metadata": {
        "colab": {
          "base_uri": "https://localhost:8080/",
          "height": 36
        },
        "id": "ndOmu0gfdfO5",
        "outputId": "03ac96b9-f175-4c6a-8815-35086bb4b52f"
      },
      "outputs": [
        {
          "output_type": "execute_result",
          "data": {
            "text/plain": [
              "'2.17.0'"
            ],
            "application/vnd.google.colaboratory.intrinsic+json": {
              "type": "string"
            }
          },
          "metadata": {},
          "execution_count": 1
        }
      ],
      "source": [
        "import tensorflow as tf\n",
        "\n",
        "tf.__version__"
      ]
    },
    {
      "cell_type": "markdown",
      "metadata": {
        "id": "ltkHZQQwPQEK"
      },
      "source": [
        "For starters, we'll solve a very basic regression problem"
      ]
    },
    {
      "cell_type": "code",
      "execution_count": null,
      "metadata": {
        "colab": {
          "base_uri": "https://localhost:8080/",
          "height": 435
        },
        "id": "-x0eESL7iYX-",
        "outputId": "a824d77a-3878-4810-8c77-007bcf865996"
      },
      "outputs": [
        {
          "output_type": "display_data",
          "data": {
            "text/plain": [
              "<Figure size 640x480 with 1 Axes>"
            ],
            "image/png": "[encoded data removed]"
          },
          "metadata": {}
        }
      ],
      "source": [
        "import numpy as np\n",
        "import matplotlib.pyplot as plt\n",
        "\n",
        "# Creating a basic dataset with 1 feature X, and 1 label y\n",
        "X = np.array([-7.0, -4.0, -1.0, 2.0, 5.0, 8.0, 11.0, 14.0])\n",
        "y = np.array([3.0, 6.0, 9.0, 12.0, 15.0, 18.0, 21.0, 24.0])\n",
        "\n",
        "plt.scatter(X,y);"
      ]
    },
    {
      "cell_type": "markdown",
      "metadata": {
        "id": "wPjo-YolkcZ0"
      },
      "source": [
        "We created a basic dataset consisting of a single feature X and a single label y, where the relationship between X and y is linear $y = mx + b$, and $y = X + 10$.\n",
        "\n",
        "Next, we will use tensorflow to build a model that will try and learn this relationship, and use this knowledge to correctly predict on new data.\n",
        "\n",
        "Important thing to remember is that the relationship between features and labels is unknown in real applications. Here, we just generated some data for tutorial purposes."
      ]
    },
    {
      "cell_type": "code",
      "execution_count": null,
      "metadata": {
        "colab": {
          "base_uri": "https://localhost:8080/"
        },
        "id": "QXZVt1TOkZeJ",
        "outputId": "343b37be-d52c-4ba3-d68c-90aaadb47e49"
      },
      "outputs": [
        {
          "output_type": "execute_result",
          "data": {
            "text/plain": [
              "(TensorShape([8]), TensorShape([8]))"
            ]
          },
          "metadata": {},
          "execution_count": 6
        }
      ],
      "source": [
        "# Shape of data\n",
        "X.shape, y.shape"
      ]
    },
    {
      "cell_type": "code",
      "execution_count": null,
      "metadata": {
        "colab": {
          "base_uri": "https://localhost:8080/"
        },
        "id": "GkwNSTHjk28P",
        "outputId": "2aaabbf7-3f1a-4990-e354-be53927a4434"
      },
      "outputs": [
        {
          "output_type": "execute_result",
          "data": {
            "text/plain": [
              "(TensorShape([]), TensorShape([]))"
            ]
          },
          "metadata": {},
          "execution_count": 7
        }
      ],
      "source": [
        "# Shape of a single data point\n",
        "# It is empty because it is a scalar\n",
        "# I.e. the model will have input of size 1 and output of size 1\n",
        "X[0].shape, y[0].shape"
      ]
    },
    {
      "cell_type": "code",
      "execution_count": null,
      "metadata": {
        "colab": {
          "base_uri": "https://localhost:8080/"
        },
        "id": "Wsftpuppk5k7",
        "outputId": "b5ee7e57-1a33-4bea-9136-2a4be3c256da"
      },
      "outputs": [
        {
          "output_type": "execute_result",
          "data": {
            "text/plain": [
              "(<tf.Tensor: shape=(8,), dtype=float64, numpy=array([-7., -4., -1.,  2.,  5.,  8., 11., 14.])>,\n",
              " <tf.Tensor: shape=(8,), dtype=float64, numpy=array([ 3.,  6.,  9., 12., 15., 18., 21., 24.])>)"
            ]
          },
          "metadata": {},
          "execution_count": 8
        }
      ],
      "source": [
        "# Turning numpy arrays into tensors\n",
        "X = tf.constant(X)\n",
        "y = tf.constant(y)\n",
        "X, y"
      ]
    },
    {
      "cell_type": "markdown",
      "metadata": {
        "id": "QMJ0iyiYl-4Z"
      },
      "source": [
        "# Creating a Basic TensorFlow Regression Model"
      ]
    },
    {
      "cell_type": "markdown",
      "metadata": {
        "id": "9hr4DgYxmD_h"
      },
      "source": [
        "In order to build a TensorFlow model we need to:\n",
        "\n",
        "\n",
        "1.   **Create a model** - defining the inputs, outputs and the hidden layers of the model.\n",
        "2.   **Compile the model** - defining the loss function, optimizer, and optionally the evaluation metrics.\n",
        "3. **Fit the model** - In other words, train the model on the train data in order to find the relationship between X and y.\n",
        "\n",
        "First, we'll create a very basic model that consists of a single dense layer with one neuron.\n"
      ]
    },
    {
      "cell_type": "code",
      "execution_count": null,
      "metadata": {
        "colab": {
          "base_uri": "https://localhost:8080/"
        },
        "id": "6_85HM8Ylh4p",
        "outputId": "2695382a-5b59-4b5d-cbe2-b1cad7282389"
      },
      "outputs": [
        {
          "output_type": "stream",
          "name": "stdout",
          "text": [
            "Epoch 1/5\n",
            "1/1 [==============================] - 1s 840ms/step - loss: 9.7892 - mae: 9.7892\n",
            "Epoch 2/5\n",
            "1/1 [==============================] - 0s 16ms/step - loss: 9.6567 - mae: 9.6567\n",
            "Epoch 3/5\n",
            "1/1 [==============================] - 0s 28ms/step - loss: 9.5242 - mae: 9.5242\n",
            "Epoch 4/5\n",
            "1/1 [==============================] - 0s 11ms/step - loss: 9.3917 - mae: 9.3917\n",
            "Epoch 5/5\n",
            "1/1 [==============================] - 0s 13ms/step - loss: 9.2592 - mae: 9.2592\n"
          ]
        },
        {
          "output_type": "execute_result",
          "data": {
            "text/plain": [
              "<keras.src.callbacks.History at 0x7dc3aac6b970>"
            ]
          },
          "metadata": {},
          "execution_count": 6
        }
      ],
      "source": [
        "# Set the random seed\n",
        "tf.random.set_seed(42)\n",
        "\n",
        "# Creating the model\n",
        "model = tf.keras.Sequential([\n",
        "    tf.keras.layers.Dense(1)\n",
        "])\n",
        "\n",
        "# Compiling the model\n",
        "model.compile(loss = tf.keras.losses.mae,\n",
        "              optimizer = tf.keras.optimizers.SGD(),\n",
        "              metrics = ['mae'])\n",
        "\n",
        "# Fitting the model\n",
        "# Epochs define how many passes the model goes over the data\n",
        "# We need to expand X because we can't fit on input data with ndim = 1, needs to be 2\n",
        "# So we add an extra dimension to the input as per the documentation\n",
        "model.fit(tf.expand_dims(X, axis=-1),\n",
        "          y,\n",
        "          epochs = 5)"
      ]
    },
    {
      "cell_type": "code",
      "execution_count": null,
      "metadata": {
        "colab": {
          "base_uri": "https://localhost:8080/"
        },
        "id": "j9GpEcFEobSV",
        "outputId": "ce1d3731-a57e-4d85-c178-291e9ac122d2"
      },
      "outputs": [
        {
          "output_type": "stream",
          "name": "stdout",
          "text": [
            "1/1 [==============================] - 0s 186ms/step\n"
          ]
        },
        {
          "output_type": "execute_result",
          "data": {
            "text/plain": [
              "array([[21.048954]], dtype=float32)"
            ]
          },
          "metadata": {},
          "execution_count": 7
        }
      ],
      "source": [
        "# Making a prediction with our model\n",
        "model.predict([17.0])"
      ]
    },
    {
      "cell_type": "markdown",
      "metadata": {
        "id": "aSuvjOYUqB5F"
      },
      "source": [
        "As evident by the mean absolute error (MAE), model's prediction will be quite off the correct value, which is understandable since our model is very basic."
      ]
    },
    {
      "cell_type": "markdown",
      "metadata": {
        "id": "ISxiyLBaqyfv"
      },
      "source": [
        "# Imporving the Model"
      ]
    },
    {
      "cell_type": "markdown",
      "metadata": {
        "id": "50iaGp36rAPb"
      },
      "source": [
        "Models can be imporved in various ways:\n",
        "\n",
        "\n",
        "1.   Changing the architecture of the model by adding more layers, increasing the number of neurons in the hidden layers, or changing the activation functions.\n",
        "2.   Changing the optimizer and / or the hyperparameters associated with it.\n",
        "3. Fitting the model for longer (more epochs) to give the data more opportunities to learn patterns or representations in the data.\n",
        "\n"
      ]
    },
    {
      "cell_type": "code",
      "execution_count": null,
      "metadata": {
        "colab": {
          "base_uri": "https://localhost:8080/"
        },
        "id": "J0sscMChp5bS",
        "outputId": "b2dafa6e-835e-45d3-b99c-c1cf6dbb5611"
      },
      "outputs": [
        {
          "output_type": "stream",
          "name": "stdout",
          "text": [
            "Epoch 1/100\n",
            "1/1 [==============================] - 1s 606ms/step - loss: 10.4088 - mae: 10.4088\n",
            "Epoch 2/100\n",
            "1/1 [==============================] - 0s 27ms/step - loss: 10.2763 - mae: 10.2763\n",
            "Epoch 3/100\n",
            "1/1 [==============================] - 0s 10ms/step - loss: 10.1438 - mae: 10.1438\n",
            "Epoch 4/100\n",
            "1/1 [==============================] - 0s 24ms/step - loss: 10.0113 - mae: 10.0113\n",
            "Epoch 5/100\n",
            "1/1 [==============================] - 0s 16ms/step - loss: 9.8788 - mae: 9.8788\n",
            "Epoch 6/100\n",
            "1/1 [==============================] - 0s 19ms/step - loss: 9.7463 - mae: 9.7463\n",
            "Epoch 7/100\n",
            "1/1 [==============================] - 0s 18ms/step - loss: 9.6138 - mae: 9.6138\n",
            "Epoch 8/100\n",
            "1/1 [==============================] - 0s 19ms/step - loss: 9.4813 - mae: 9.4813\n",
            "Epoch 9/100\n",
            "1/1 [==============================] - 0s 17ms/step - loss: 9.3488 - mae: 9.3488\n",
            "Epoch 10/100\n",
            "1/1 [==============================] - 0s 16ms/step - loss: 9.2163 - mae: 9.2163\n",
            "Epoch 11/100\n",
            "1/1 [==============================] - 0s 20ms/step - loss: 9.0838 - mae: 9.0838\n",
            "Epoch 12/100\n",
            "1/1 [==============================] - 0s 16ms/step - loss: 8.9513 - mae: 8.9513\n",
            "Epoch 13/100\n",
            "1/1 [==============================] - 0s 16ms/step - loss: 8.8188 - mae: 8.8188\n",
            "Epoch 14/100\n",
            "1/1 [==============================] - 0s 19ms/step - loss: 8.6863 - mae: 8.6863\n",
            "Epoch 15/100\n",
            "1/1 [==============================] - 0s 16ms/step - loss: 8.5538 - mae: 8.5538\n",
            "Epoch 16/100\n",
            "1/1 [==============================] - 0s 11ms/step - loss: 8.4213 - mae: 8.4213\n",
            "Epoch 17/100\n",
            "1/1 [==============================] - 0s 16ms/step - loss: 8.2888 - mae: 8.2888\n",
            "Epoch 18/100\n",
            "1/1 [==============================] - 0s 16ms/step - loss: 8.1563 - mae: 8.1563\n",
            "Epoch 19/100\n",
            "1/1 [==============================] - 0s 35ms/step - loss: 8.0238 - mae: 8.0238\n",
            "Epoch 20/100\n",
            "1/1 [==============================] - 0s 19ms/step - loss: 7.8913 - mae: 7.8913\n",
            "Epoch 21/100\n",
            "1/1 [==============================] - 0s 18ms/step - loss: 7.7588 - mae: 7.7588\n",
            "Epoch 22/100\n",
            "1/1 [==============================] - 0s 15ms/step - loss: 7.6263 - mae: 7.6263\n",
            "Epoch 23/100\n",
            "1/1 [==============================] - 0s 17ms/step - loss: 7.4938 - mae: 7.4938\n",
            "Epoch 24/100\n",
            "1/1 [==============================] - 0s 16ms/step - loss: 7.3613 - mae: 7.3613\n",
            "Epoch 25/100\n",
            "1/1 [==============================] - 0s 17ms/step - loss: 7.3200 - mae: 7.3200\n",
            "Epoch 26/100\n",
            "1/1 [==============================] - 0s 18ms/step - loss: 7.3144 - mae: 7.3144\n",
            "Epoch 27/100\n",
            "1/1 [==============================] - 0s 21ms/step - loss: 7.3087 - mae: 7.3087\n",
            "Epoch 28/100\n",
            "1/1 [==============================] - 0s 10ms/step - loss: 7.3031 - mae: 7.3031\n",
            "Epoch 29/100\n",
            "1/1 [==============================] - 0s 13ms/step - loss: 7.2975 - mae: 7.2975\n",
            "Epoch 30/100\n",
            "1/1 [==============================] - 0s 42ms/step - loss: 7.2919 - mae: 7.2919\n",
            "Epoch 31/100\n",
            "1/1 [==============================] - 0s 20ms/step - loss: 7.2863 - mae: 7.2863\n",
            "Epoch 32/100\n",
            "1/1 [==============================] - 0s 17ms/step - loss: 7.2806 - mae: 7.2806\n",
            "Epoch 33/100\n",
            "1/1 [==============================] - 0s 17ms/step - loss: 7.2750 - mae: 7.2750\n",
            "Epoch 34/100\n",
            "1/1 [==============================] - 0s 13ms/step - loss: 7.2694 - mae: 7.2694\n",
            "Epoch 35/100\n",
            "1/1 [==============================] - 0s 13ms/step - loss: 7.2638 - mae: 7.2638\n",
            "Epoch 36/100\n",
            "1/1 [==============================] - 0s 17ms/step - loss: 7.2581 - mae: 7.2581\n",
            "Epoch 37/100\n",
            "1/1 [==============================] - 0s 22ms/step - loss: 7.2525 - mae: 7.2525\n",
            "Epoch 38/100\n",
            "1/1 [==============================] - 0s 18ms/step - loss: 7.2469 - mae: 7.2469\n",
            "Epoch 39/100\n",
            "1/1 [==============================] - 0s 36ms/step - loss: 7.2413 - mae: 7.2413\n",
            "Epoch 40/100\n",
            "1/1 [==============================] - 0s 23ms/step - loss: 7.2356 - mae: 7.2356\n",
            "Epoch 41/100\n",
            "1/1 [==============================] - 0s 19ms/step - loss: 7.2300 - mae: 7.2300\n",
            "Epoch 42/100\n",
            "1/1 [==============================] - 0s 18ms/step - loss: 7.2244 - mae: 7.2244\n",
            "Epoch 43/100\n",
            "1/1 [==============================] - 0s 16ms/step - loss: 7.2188 - mae: 7.2188\n",
            "Epoch 44/100\n",
            "1/1 [==============================] - 0s 28ms/step - loss: 7.2131 - mae: 7.2131\n",
            "Epoch 45/100\n",
            "1/1 [==============================] - 0s 10ms/step - loss: 7.2075 - mae: 7.2075\n",
            "Epoch 46/100\n",
            "1/1 [==============================] - 0s 9ms/step - loss: 7.2019 - mae: 7.2019\n",
            "Epoch 47/100\n",
            "1/1 [==============================] - 0s 25ms/step - loss: 7.1962 - mae: 7.1962\n",
            "Epoch 48/100\n",
            "1/1 [==============================] - 0s 17ms/step - loss: 7.1906 - mae: 7.1906\n",
            "Epoch 49/100\n",
            "1/1 [==============================] - 0s 16ms/step - loss: 7.1850 - mae: 7.1850\n",
            "Epoch 50/100\n",
            "1/1 [==============================] - 0s 22ms/step - loss: 7.1794 - mae: 7.1794\n",
            "Epoch 51/100\n",
            "1/1 [==============================] - 0s 13ms/step - loss: 7.1738 - mae: 7.1738\n",
            "Epoch 52/100\n",
            "1/1 [==============================] - 0s 13ms/step - loss: 7.1681 - mae: 7.1681\n",
            "Epoch 53/100\n",
            "1/1 [==============================] - 0s 14ms/step - loss: 7.1625 - mae: 7.1625\n",
            "Epoch 54/100\n",
            "1/1 [==============================] - 0s 28ms/step - loss: 7.1569 - mae: 7.1569\n",
            "Epoch 55/100\n",
            "1/1 [==============================] - 0s 34ms/step - loss: 7.1513 - mae: 7.1513\n",
            "Epoch 56/100\n",
            "1/1 [==============================] - 0s 24ms/step - loss: 7.1456 - mae: 7.1456\n",
            "Epoch 57/100\n",
            "1/1 [==============================] - 0s 23ms/step - loss: 7.1400 - mae: 7.1400\n",
            "Epoch 58/100\n",
            "1/1 [==============================] - 0s 21ms/step - loss: 7.1344 - mae: 7.1344\n",
            "Epoch 59/100\n",
            "1/1 [==============================] - 0s 18ms/step - loss: 7.1287 - mae: 7.1287\n",
            "Epoch 60/100\n",
            "1/1 [==============================] - 0s 20ms/step - loss: 7.1231 - mae: 7.1231\n",
            "Epoch 61/100\n",
            "1/1 [==============================] - 0s 15ms/step - loss: 7.1175 - mae: 7.1175\n",
            "Epoch 62/100\n",
            "1/1 [==============================] - 0s 14ms/step - loss: 7.1119 - mae: 7.1119\n",
            "Epoch 63/100\n",
            "1/1 [==============================] - 0s 14ms/step - loss: 7.1063 - mae: 7.1063\n",
            "Epoch 64/100\n",
            "1/1 [==============================] - 0s 14ms/step - loss: 7.1006 - mae: 7.1006\n",
            "Epoch 65/100\n",
            "1/1 [==============================] - 0s 14ms/step - loss: 7.0950 - mae: 7.0950\n",
            "Epoch 66/100\n",
            "1/1 [==============================] - 0s 14ms/step - loss: 7.0894 - mae: 7.0894\n",
            "Epoch 67/100\n",
            "1/1 [==============================] - 0s 14ms/step - loss: 7.0838 - mae: 7.0838\n",
            "Epoch 68/100\n",
            "1/1 [==============================] - 0s 14ms/step - loss: 7.0781 - mae: 7.0781\n",
            "Epoch 69/100\n",
            "1/1 [==============================] - 0s 13ms/step - loss: 7.0725 - mae: 7.0725\n",
            "Epoch 70/100\n",
            "1/1 [==============================] - 0s 19ms/step - loss: 7.0669 - mae: 7.0669\n",
            "Epoch 71/100\n",
            "1/1 [==============================] - 0s 13ms/step - loss: 7.0613 - mae: 7.0613\n",
            "Epoch 72/100\n",
            "1/1 [==============================] - 0s 11ms/step - loss: 7.0556 - mae: 7.0556\n",
            "Epoch 73/100\n",
            "1/1 [==============================] - 0s 19ms/step - loss: 7.0500 - mae: 7.0500\n",
            "Epoch 74/100\n",
            "1/1 [==============================] - 0s 14ms/step - loss: 7.0444 - mae: 7.0444\n",
            "Epoch 75/100\n",
            "1/1 [==============================] - 0s 17ms/step - loss: 7.0388 - mae: 7.0388\n",
            "Epoch 76/100\n",
            "1/1 [==============================] - 0s 15ms/step - loss: 7.0331 - mae: 7.0331\n",
            "Epoch 77/100\n",
            "1/1 [==============================] - 0s 24ms/step - loss: 7.0275 - mae: 7.0275\n",
            "Epoch 78/100\n",
            "1/1 [==============================] - 0s 22ms/step - loss: 7.0219 - mae: 7.0219\n",
            "Epoch 79/100\n",
            "1/1 [==============================] - 0s 15ms/step - loss: 7.0163 - mae: 7.0163\n",
            "Epoch 80/100\n",
            "1/1 [==============================] - 0s 24ms/step - loss: 7.0106 - mae: 7.0106\n",
            "Epoch 81/100\n",
            "1/1 [==============================] - 0s 19ms/step - loss: 7.0050 - mae: 7.0050\n",
            "Epoch 82/100\n",
            "1/1 [==============================] - 0s 21ms/step - loss: 6.9994 - mae: 6.9994\n",
            "Epoch 83/100\n",
            "1/1 [==============================] - 0s 20ms/step - loss: 6.9938 - mae: 6.9938\n",
            "Epoch 84/100\n",
            "1/1 [==============================] - 0s 15ms/step - loss: 6.9881 - mae: 6.9881\n",
            "Epoch 85/100\n",
            "1/1 [==============================] - 0s 12ms/step - loss: 6.9825 - mae: 6.9825\n",
            "Epoch 86/100\n",
            "1/1 [==============================] - 0s 16ms/step - loss: 6.9769 - mae: 6.9769\n",
            "Epoch 87/100\n",
            "1/1 [==============================] - 0s 14ms/step - loss: 6.9713 - mae: 6.9713\n",
            "Epoch 88/100\n",
            "1/1 [==============================] - 0s 14ms/step - loss: 6.9656 - mae: 6.9656\n",
            "Epoch 89/100\n",
            "1/1 [==============================] - 0s 14ms/step - loss: 6.9600 - mae: 6.9600\n",
            "Epoch 90/100\n",
            "1/1 [==============================] - 0s 15ms/step - loss: 6.9544 - mae: 6.9544\n",
            "Epoch 91/100\n",
            "1/1 [==============================] - 0s 17ms/step - loss: 6.9488 - mae: 6.9488\n",
            "Epoch 92/100\n",
            "1/1 [==============================] - 0s 14ms/step - loss: 6.9431 - mae: 6.9431\n",
            "Epoch 93/100\n",
            "1/1 [==============================] - 0s 13ms/step - loss: 6.9375 - mae: 6.9375\n",
            "Epoch 94/100\n",
            "1/1 [==============================] - 0s 25ms/step - loss: 6.9319 - mae: 6.9319\n",
            "Epoch 95/100\n",
            "1/1 [==============================] - 0s 20ms/step - loss: 6.9263 - mae: 6.9263\n",
            "Epoch 96/100\n",
            "1/1 [==============================] - 0s 15ms/step - loss: 6.9206 - mae: 6.9206\n",
            "Epoch 97/100\n",
            "1/1 [==============================] - 0s 14ms/step - loss: 6.9150 - mae: 6.9150\n",
            "Epoch 98/100\n",
            "1/1 [==============================] - 0s 14ms/step - loss: 6.9094 - mae: 6.9094\n",
            "Epoch 99/100\n",
            "1/1 [==============================] - 0s 18ms/step - loss: 6.9038 - mae: 6.9038\n",
            "Epoch 100/100\n",
            "1/1 [==============================] - 0s 19ms/step - loss: 6.8981 - mae: 6.8981\n"
          ]
        },
        {
          "output_type": "execute_result",
          "data": {
            "text/plain": [
              "<keras.src.callbacks.History at 0x7dc3aa396d70>"
            ]
          },
          "metadata": {},
          "execution_count": 8
        }
      ],
      "source": [
        "# First let's just try to train the model for longer by increasing epochs from 5 to 100\n",
        "model = tf.keras.Sequential([\n",
        "    tf.keras.layers.Dense(units = 1)\n",
        "])\n",
        "\n",
        "model.compile(loss = tf.keras.losses.mae,\n",
        "              optimizer = tf.keras.optimizers.SGD(),\n",
        "              metrics = ['mae'])\n",
        "\n",
        "model.fit(tf.expand_dims(X, axis = -1), y, epochs = 100)"
      ]
    },
    {
      "cell_type": "code",
      "execution_count": null,
      "metadata": {
        "colab": {
          "base_uri": "https://localhost:8080/"
        },
        "id": "wmf1T-ibtTt6",
        "outputId": "0aa02269-511b-4bf9-969e-64fca8a0681f"
      },
      "outputs": [
        {
          "output_type": "stream",
          "name": "stdout",
          "text": [
            "1/1 [==============================] - 0s 123ms/step\n"
          ]
        },
        {
          "output_type": "execute_result",
          "data": {
            "text/plain": [
              "array([[30.104225]], dtype=float32)"
            ]
          },
          "metadata": {},
          "execution_count": 9
        }
      ],
      "source": [
        "model.predict([17.0])"
      ]
    },
    {
      "cell_type": "markdown",
      "metadata": {
        "id": "waDmdRuYuFmR"
      },
      "source": [
        "As we can see, after training for 100 epochs, the model was close to predicting the correct value."
      ]
    },
    {
      "cell_type": "code",
      "execution_count": null,
      "metadata": {
        "colab": {
          "base_uri": "https://localhost:8080/"
        },
        "id": "hZWC9EVOt8OS",
        "outputId": "1e49679b-fa87-4595-e347-da7afc0b5437"
      },
      "outputs": [
        {
          "output_type": "stream",
          "name": "stdout",
          "text": [
            "Epoch 1/100\n",
            "1/1 [==============================] - 1s 1s/step - loss: 14.1660 - mae: 14.1660\n",
            "Epoch 2/100\n",
            "1/1 [==============================] - 0s 27ms/step - loss: 13.6110 - mae: 13.6110\n",
            "Epoch 3/100\n",
            "1/1 [==============================] - 0s 14ms/step - loss: 13.0931 - mae: 13.0931\n",
            "Epoch 4/100\n",
            "1/1 [==============================] - 0s 11ms/step - loss: 12.5750 - mae: 12.5750\n",
            "Epoch 5/100\n",
            "1/1 [==============================] - 0s 16ms/step - loss: 12.0497 - mae: 12.0497\n",
            "Epoch 6/100\n",
            "1/1 [==============================] - 0s 21ms/step - loss: 11.5232 - mae: 11.5232\n",
            "Epoch 7/100\n",
            "1/1 [==============================] - 0s 38ms/step - loss: 10.9862 - mae: 10.9862\n",
            "Epoch 8/100\n",
            "1/1 [==============================] - 0s 24ms/step - loss: 10.4327 - mae: 10.4327\n",
            "Epoch 9/100\n",
            "1/1 [==============================] - 0s 20ms/step - loss: 9.8550 - mae: 9.8550\n",
            "Epoch 10/100\n",
            "1/1 [==============================] - 0s 18ms/step - loss: 9.3031 - mae: 9.3031\n",
            "Epoch 11/100\n",
            "1/1 [==============================] - 0s 20ms/step - loss: 8.7275 - mae: 8.7275\n",
            "Epoch 12/100\n",
            "1/1 [==============================] - 0s 12ms/step - loss: 8.1137 - mae: 8.1137\n",
            "Epoch 13/100\n",
            "1/1 [==============================] - 0s 18ms/step - loss: 7.4557 - mae: 7.4557\n",
            "Epoch 14/100\n",
            "1/1 [==============================] - 0s 18ms/step - loss: 6.7482 - mae: 6.7482\n",
            "Epoch 15/100\n",
            "1/1 [==============================] - 0s 12ms/step - loss: 5.9925 - mae: 5.9925\n",
            "Epoch 16/100\n",
            "1/1 [==============================] - 0s 11ms/step - loss: 5.1778 - mae: 5.1778\n",
            "Epoch 17/100\n",
            "1/1 [==============================] - 0s 11ms/step - loss: 4.2961 - mae: 4.2961\n",
            "Epoch 18/100\n",
            "1/1 [==============================] - 0s 12ms/step - loss: 3.9259 - mae: 3.9259\n",
            "Epoch 19/100\n",
            "1/1 [==============================] - 0s 12ms/step - loss: 3.9500 - mae: 3.9500\n",
            "Epoch 20/100\n",
            "1/1 [==============================] - 0s 13ms/step - loss: 3.8999 - mae: 3.8999\n",
            "Epoch 21/100\n",
            "1/1 [==============================] - 0s 12ms/step - loss: 3.9563 - mae: 3.9563\n",
            "Epoch 22/100\n",
            "1/1 [==============================] - 0s 12ms/step - loss: 3.8890 - mae: 3.8890\n",
            "Epoch 23/100\n",
            "1/1 [==============================] - 0s 12ms/step - loss: 3.9466 - mae: 3.9466\n",
            "Epoch 24/100\n",
            "1/1 [==============================] - 0s 9ms/step - loss: 3.8952 - mae: 3.8952\n",
            "Epoch 25/100\n",
            "1/1 [==============================] - 0s 14ms/step - loss: 3.9294 - mae: 3.9294\n",
            "Epoch 26/100\n",
            "1/1 [==============================] - 0s 16ms/step - loss: 3.9112 - mae: 3.9112\n",
            "Epoch 27/100\n",
            "1/1 [==============================] - 0s 19ms/step - loss: 3.9037 - mae: 3.9037\n",
            "Epoch 28/100\n",
            "1/1 [==============================] - 0s 16ms/step - loss: 3.9176 - mae: 3.9176\n",
            "Epoch 29/100\n",
            "1/1 [==============================] - 0s 12ms/step - loss: 3.8774 - mae: 3.8774\n",
            "Epoch 30/100\n",
            "1/1 [==============================] - 0s 25ms/step - loss: 3.9241 - mae: 3.9241\n",
            "Epoch 31/100\n",
            "1/1 [==============================] - 0s 13ms/step - loss: 3.8572 - mae: 3.8572\n",
            "Epoch 32/100\n",
            "1/1 [==============================] - 0s 14ms/step - loss: 3.9237 - mae: 3.9237\n",
            "Epoch 33/100\n",
            "1/1 [==============================] - 0s 11ms/step - loss: 3.8714 - mae: 3.8714\n",
            "Epoch 34/100\n",
            "1/1 [==============================] - 0s 12ms/step - loss: 3.9066 - mae: 3.9066\n",
            "Epoch 35/100\n",
            "1/1 [==============================] - 0s 14ms/step - loss: 3.8798 - mae: 3.8798\n",
            "Epoch 36/100\n",
            "1/1 [==============================] - 0s 12ms/step - loss: 3.8802 - mae: 3.8802\n",
            "Epoch 37/100\n",
            "1/1 [==============================] - 0s 18ms/step - loss: 3.8864 - mae: 3.8864\n",
            "Epoch 38/100\n",
            "1/1 [==============================] - 0s 11ms/step - loss: 3.8537 - mae: 3.8537\n",
            "Epoch 39/100\n",
            "1/1 [==============================] - 0s 12ms/step - loss: 3.8931 - mae: 3.8931\n",
            "Epoch 40/100\n",
            "1/1 [==============================] - 0s 18ms/step - loss: 3.8271 - mae: 3.8271\n",
            "Epoch 41/100\n",
            "1/1 [==============================] - 0s 15ms/step - loss: 3.9066 - mae: 3.9066\n",
            "Epoch 42/100\n",
            "1/1 [==============================] - 0s 14ms/step - loss: 3.8428 - mae: 3.8428\n",
            "Epoch 43/100\n",
            "1/1 [==============================] - 0s 14ms/step - loss: 3.8821 - mae: 3.8821\n",
            "Epoch 44/100\n",
            "1/1 [==============================] - 0s 14ms/step - loss: 3.8495 - mae: 3.8495\n",
            "Epoch 45/100\n",
            "1/1 [==============================] - 0s 13ms/step - loss: 3.8555 - mae: 3.8555\n",
            "Epoch 46/100\n",
            "1/1 [==============================] - 0s 12ms/step - loss: 3.8563 - mae: 3.8563\n",
            "Epoch 47/100\n",
            "1/1 [==============================] - 0s 13ms/step - loss: 3.8287 - mae: 3.8287\n",
            "Epoch 48/100\n",
            "1/1 [==============================] - 0s 19ms/step - loss: 3.8633 - mae: 3.8633\n",
            "Epoch 49/100\n",
            "1/1 [==============================] - 0s 13ms/step - loss: 3.8078 - mae: 3.8078\n",
            "Epoch 50/100\n",
            "1/1 [==============================] - 0s 19ms/step - loss: 3.8800 - mae: 3.8800\n",
            "Epoch 51/100\n",
            "1/1 [==============================] - 0s 17ms/step - loss: 3.8134 - mae: 3.8134\n",
            "Epoch 52/100\n",
            "1/1 [==============================] - 0s 18ms/step - loss: 3.8563 - mae: 3.8563\n",
            "Epoch 53/100\n",
            "1/1 [==============================] - 0s 12ms/step - loss: 3.8203 - mae: 3.8203\n",
            "Epoch 54/100\n",
            "1/1 [==============================] - 0s 23ms/step - loss: 3.8294 - mae: 3.8294\n",
            "Epoch 55/100\n",
            "1/1 [==============================] - 0s 32ms/step - loss: 3.8273 - mae: 3.8273\n",
            "Epoch 56/100\n",
            "1/1 [==============================] - 0s 19ms/step - loss: 3.8024 - mae: 3.8024\n",
            "Epoch 57/100\n",
            "1/1 [==============================] - 0s 22ms/step - loss: 3.8391 - mae: 3.8391\n",
            "Epoch 58/100\n",
            "1/1 [==============================] - 0s 23ms/step - loss: 3.7842 - mae: 3.7842\n",
            "Epoch 59/100\n",
            "1/1 [==============================] - 0s 16ms/step - loss: 3.8513 - mae: 3.8513\n",
            "Epoch 60/100\n",
            "1/1 [==============================] - 0s 25ms/step - loss: 3.7851 - mae: 3.7851\n",
            "Epoch 61/100\n",
            "1/1 [==============================] - 0s 17ms/step - loss: 3.8293 - mae: 3.8293\n",
            "Epoch 62/100\n",
            "1/1 [==============================] - 0s 17ms/step - loss: 3.7922 - mae: 3.7922\n",
            "Epoch 63/100\n",
            "1/1 [==============================] - 0s 23ms/step - loss: 3.8021 - mae: 3.8021\n",
            "Epoch 64/100\n",
            "1/1 [==============================] - 0s 15ms/step - loss: 3.7995 - mae: 3.7995\n",
            "Epoch 65/100\n",
            "1/1 [==============================] - 0s 19ms/step - loss: 3.7786 - mae: 3.7786\n",
            "Epoch 66/100\n",
            "1/1 [==============================] - 0s 14ms/step - loss: 3.8164 - mae: 3.8164\n",
            "Epoch 67/100\n",
            "1/1 [==============================] - 0s 20ms/step - loss: 3.7562 - mae: 3.7562\n",
            "Epoch 68/100\n",
            "1/1 [==============================] - 0s 15ms/step - loss: 3.8238 - mae: 3.8238\n",
            "Epoch 69/100\n",
            "1/1 [==============================] - 0s 15ms/step - loss: 3.7579 - mae: 3.7579\n",
            "Epoch 70/100\n",
            "1/1 [==============================] - 0s 14ms/step - loss: 3.8009 - mae: 3.8009\n",
            "Epoch 71/100\n",
            "1/1 [==============================] - 0s 35ms/step - loss: 3.7652 - mae: 3.7652\n",
            "Epoch 72/100\n",
            "1/1 [==============================] - 0s 26ms/step - loss: 3.7735 - mae: 3.7735\n",
            "Epoch 73/100\n",
            "1/1 [==============================] - 0s 18ms/step - loss: 3.7748 - mae: 3.7748\n",
            "Epoch 74/100\n",
            "1/1 [==============================] - 0s 18ms/step - loss: 3.7548 - mae: 3.7548\n",
            "Epoch 75/100\n",
            "1/1 [==============================] - 0s 13ms/step - loss: 3.7897 - mae: 3.7897\n",
            "Epoch 76/100\n",
            "1/1 [==============================] - 0s 32ms/step - loss: 3.7269 - mae: 3.7269\n",
            "Epoch 77/100\n",
            "1/1 [==============================] - 0s 20ms/step - loss: 3.7973 - mae: 3.7973\n",
            "Epoch 78/100\n",
            "1/1 [==============================] - 0s 26ms/step - loss: 3.7317 - mae: 3.7317\n",
            "Epoch 79/100\n",
            "1/1 [==============================] - 0s 18ms/step - loss: 3.7713 - mae: 3.7713\n",
            "Epoch 80/100\n",
            "1/1 [==============================] - 0s 12ms/step - loss: 3.7393 - mae: 3.7393\n",
            "Epoch 81/100\n",
            "1/1 [==============================] - 0s 13ms/step - loss: 3.7447 - mae: 3.7447\n",
            "Epoch 82/100\n",
            "1/1 [==============================] - 0s 13ms/step - loss: 3.7564 - mae: 3.7564\n",
            "Epoch 83/100\n",
            "1/1 [==============================] - 0s 43ms/step - loss: 3.7245 - mae: 3.7245\n",
            "Epoch 84/100\n",
            "1/1 [==============================] - 0s 43ms/step - loss: 3.7641 - mae: 3.7641\n",
            "Epoch 85/100\n",
            "1/1 [==============================] - 0s 19ms/step - loss: 3.6990 - mae: 3.6990\n",
            "Epoch 86/100\n",
            "1/1 [==============================] - 0s 24ms/step - loss: 3.7682 - mae: 3.7682\n",
            "Epoch 87/100\n",
            "1/1 [==============================] - 0s 36ms/step - loss: 3.7066 - mae: 3.7066\n",
            "Epoch 88/100\n",
            "1/1 [==============================] - 0s 24ms/step - loss: 3.7403 - mae: 3.7403\n",
            "Epoch 89/100\n",
            "1/1 [==============================] - 0s 16ms/step - loss: 3.7144 - mae: 3.7144\n",
            "Epoch 90/100\n",
            "1/1 [==============================] - 0s 17ms/step - loss: 3.7210 - mae: 3.7210\n",
            "Epoch 91/100\n",
            "1/1 [==============================] - 0s 16ms/step - loss: 3.7317 - mae: 3.7317\n",
            "Epoch 92/100\n",
            "1/1 [==============================] - 0s 18ms/step - loss: 3.6929 - mae: 3.6929\n",
            "Epoch 93/100\n",
            "1/1 [==============================] - 0s 16ms/step - loss: 3.7395 - mae: 3.7395\n",
            "Epoch 94/100\n",
            "1/1 [==============================] - 0s 18ms/step - loss: 3.6747 - mae: 3.6747\n",
            "Epoch 95/100\n",
            "1/1 [==============================] - 0s 27ms/step - loss: 3.7362 - mae: 3.7362\n",
            "Epoch 96/100\n",
            "1/1 [==============================] - 0s 17ms/step - loss: 3.6825 - mae: 3.6825\n",
            "Epoch 97/100\n",
            "1/1 [==============================] - 0s 21ms/step - loss: 3.7081 - mae: 3.7081\n",
            "Epoch 98/100\n",
            "1/1 [==============================] - 0s 22ms/step - loss: 3.6972 - mae: 3.6972\n",
            "Epoch 99/100\n",
            "1/1 [==============================] - 0s 39ms/step - loss: 3.6885 - mae: 3.6885\n",
            "Epoch 100/100\n",
            "1/1 [==============================] - 0s 30ms/step - loss: 3.7079 - mae: 3.7079\n"
          ]
        },
        {
          "output_type": "execute_result",
          "data": {
            "text/plain": [
              "<keras.src.callbacks.History at 0x7dc3ab5f2ad0>"
            ]
          },
          "metadata": {},
          "execution_count": 10
        }
      ],
      "source": [
        "# Adding an additional hidden layer with 100 neurons\n",
        "model = tf.keras.Sequential([\n",
        "    tf.keras.layers.Dense(100, activation = 'relu'),\n",
        "    tf.keras.layers.Dense(1)\n",
        "])\n",
        "\n",
        "model.compile(loss = 'mae',\n",
        "              optimizer = tf.keras.optimizers.SGD(),\n",
        "              metrics = ['mae'])\n",
        "\n",
        "model.fit(tf.expand_dims(X, axis = -1), y, epochs = 100)"
      ]
    },
    {
      "cell_type": "code",
      "execution_count": null,
      "metadata": {
        "colab": {
          "base_uri": "https://localhost:8080/"
        },
        "id": "GIyPm-tavo-0",
        "outputId": "8a959bfb-71a7-47e2-9c67-4a28d5918cbc"
      },
      "outputs": [
        {
          "output_type": "stream",
          "name": "stdout",
          "text": [
            "1/1 [==============================] - 0s 299ms/step\n"
          ]
        },
        {
          "output_type": "execute_result",
          "data": {
            "text/plain": [
              "array([[31.813593]], dtype=float32)"
            ]
          },
          "metadata": {},
          "execution_count": 11
        }
      ],
      "source": [
        "# We got worse predictions\n",
        "model.predict([17.0])"
      ]
    },
    {
      "cell_type": "code",
      "execution_count": null,
      "metadata": {
        "colab": {
          "base_uri": "https://localhost:8080/"
        },
        "id": "Ya0k7B1Qlh7X",
        "outputId": "3da995e9-0f01-4653-926e-97a03233b657"
      },
      "outputs": [
        {
          "output_type": "stream",
          "name": "stderr",
          "text": [
            "WARNING:absl:`lr` is deprecated in Keras optimizer, please use `learning_rate` or use the legacy optimizer, e.g.,tf.keras.optimizers.legacy.Adam.\n"
          ]
        },
        {
          "output_type": "stream",
          "name": "stdout",
          "text": [
            "Epoch 1/100\n",
            "1/1 [==============================] - 2s 2s/step - loss: 13.1957\n",
            "Epoch 2/100\n",
            "1/1 [==============================] - 0s 22ms/step - loss: 13.0998\n",
            "Epoch 3/100\n",
            "1/1 [==============================] - 0s 18ms/step - loss: 13.0040\n",
            "Epoch 4/100\n",
            "1/1 [==============================] - 0s 15ms/step - loss: 12.9083\n",
            "Epoch 5/100\n",
            "1/1 [==============================] - 0s 12ms/step - loss: 12.8125\n",
            "Epoch 6/100\n",
            "1/1 [==============================] - 0s 14ms/step - loss: 12.7167\n",
            "Epoch 7/100\n",
            "1/1 [==============================] - 0s 12ms/step - loss: 12.6209\n",
            "Epoch 8/100\n",
            "1/1 [==============================] - 0s 11ms/step - loss: 12.5251\n",
            "Epoch 9/100\n",
            "1/1 [==============================] - 0s 14ms/step - loss: 12.4292\n",
            "Epoch 10/100\n",
            "1/1 [==============================] - 0s 12ms/step - loss: 12.3333\n",
            "Epoch 11/100\n",
            "1/1 [==============================] - 0s 10ms/step - loss: 12.2374\n",
            "Epoch 12/100\n",
            "1/1 [==============================] - 0s 16ms/step - loss: 12.1413\n",
            "Epoch 13/100\n",
            "1/1 [==============================] - 0s 10ms/step - loss: 12.0452\n",
            "Epoch 14/100\n",
            "1/1 [==============================] - 0s 22ms/step - loss: 11.9490\n",
            "Epoch 15/100\n",
            "1/1 [==============================] - 0s 11ms/step - loss: 11.8528\n",
            "Epoch 16/100\n",
            "1/1 [==============================] - 0s 13ms/step - loss: 11.7564\n",
            "Epoch 17/100\n",
            "1/1 [==============================] - 0s 12ms/step - loss: 11.6599\n",
            "Epoch 18/100\n",
            "1/1 [==============================] - 0s 7ms/step - loss: 11.5633\n",
            "Epoch 19/100\n",
            "1/1 [==============================] - 0s 7ms/step - loss: 11.4665\n",
            "Epoch 20/100\n",
            "1/1 [==============================] - 0s 12ms/step - loss: 11.3696\n",
            "Epoch 21/100\n",
            "1/1 [==============================] - 0s 11ms/step - loss: 11.2726\n",
            "Epoch 22/100\n",
            "1/1 [==============================] - 0s 10ms/step - loss: 11.1753\n",
            "Epoch 23/100\n",
            "1/1 [==============================] - 0s 12ms/step - loss: 11.0779\n",
            "Epoch 24/100\n",
            "1/1 [==============================] - 0s 12ms/step - loss: 10.9802\n",
            "Epoch 25/100\n",
            "1/1 [==============================] - 0s 30ms/step - loss: 10.8823\n",
            "Epoch 26/100\n",
            "1/1 [==============================] - 0s 26ms/step - loss: 10.7841\n",
            "Epoch 27/100\n",
            "1/1 [==============================] - 0s 18ms/step - loss: 10.6857\n",
            "Epoch 28/100\n",
            "1/1 [==============================] - 0s 23ms/step - loss: 10.5870\n",
            "Epoch 29/100\n",
            "1/1 [==============================] - 0s 7ms/step - loss: 10.4880\n",
            "Epoch 30/100\n",
            "1/1 [==============================] - 0s 7ms/step - loss: 10.3887\n",
            "Epoch 31/100\n",
            "1/1 [==============================] - 0s 13ms/step - loss: 10.2890\n",
            "Epoch 32/100\n",
            "1/1 [==============================] - 0s 7ms/step - loss: 10.1889\n",
            "Epoch 33/100\n",
            "1/1 [==============================] - 0s 10ms/step - loss: 10.0885\n",
            "Epoch 34/100\n",
            "1/1 [==============================] - 0s 8ms/step - loss: 9.9877\n",
            "Epoch 35/100\n",
            "1/1 [==============================] - 0s 10ms/step - loss: 9.8864\n",
            "Epoch 36/100\n",
            "1/1 [==============================] - 0s 7ms/step - loss: 9.7847\n",
            "Epoch 37/100\n",
            "1/1 [==============================] - 0s 12ms/step - loss: 9.6824\n",
            "Epoch 38/100\n",
            "1/1 [==============================] - 0s 19ms/step - loss: 9.5797\n",
            "Epoch 39/100\n",
            "1/1 [==============================] - 0s 16ms/step - loss: 9.4765\n",
            "Epoch 40/100\n",
            "1/1 [==============================] - 0s 17ms/step - loss: 9.3727\n",
            "Epoch 41/100\n",
            "1/1 [==============================] - 0s 12ms/step - loss: 9.2684\n",
            "Epoch 42/100\n",
            "1/1 [==============================] - 0s 19ms/step - loss: 9.1634\n",
            "Epoch 43/100\n",
            "1/1 [==============================] - 0s 15ms/step - loss: 9.0579\n",
            "Epoch 44/100\n",
            "1/1 [==============================] - 0s 17ms/step - loss: 8.9517\n",
            "Epoch 45/100\n",
            "1/1 [==============================] - 0s 19ms/step - loss: 8.8448\n",
            "Epoch 46/100\n",
            "1/1 [==============================] - 0s 37ms/step - loss: 8.7373\n",
            "Epoch 47/100\n",
            "1/1 [==============================] - 0s 12ms/step - loss: 8.6290\n",
            "Epoch 48/100\n",
            "1/1 [==============================] - 0s 17ms/step - loss: 8.5201\n",
            "Epoch 49/100\n",
            "1/1 [==============================] - 0s 43ms/step - loss: 8.4103\n",
            "Epoch 50/100\n",
            "1/1 [==============================] - 0s 24ms/step - loss: 8.2998\n",
            "Epoch 51/100\n",
            "1/1 [==============================] - 0s 18ms/step - loss: 8.1885\n",
            "Epoch 52/100\n",
            "1/1 [==============================] - 0s 34ms/step - loss: 8.0764\n",
            "Epoch 53/100\n",
            "1/1 [==============================] - 0s 21ms/step - loss: 7.9634\n",
            "Epoch 54/100\n",
            "1/1 [==============================] - 0s 37ms/step - loss: 7.8496\n",
            "Epoch 55/100\n",
            "1/1 [==============================] - 0s 19ms/step - loss: 7.7349\n",
            "Epoch 56/100\n",
            "1/1 [==============================] - 0s 26ms/step - loss: 7.6193\n",
            "Epoch 57/100\n",
            "1/1 [==============================] - 0s 23ms/step - loss: 7.5028\n",
            "Epoch 58/100\n",
            "1/1 [==============================] - 0s 45ms/step - loss: 7.3853\n",
            "Epoch 59/100\n",
            "1/1 [==============================] - 0s 44ms/step - loss: 7.2668\n",
            "Epoch 60/100\n",
            "1/1 [==============================] - 0s 21ms/step - loss: 7.1474\n",
            "Epoch 61/100\n",
            "1/1 [==============================] - 0s 30ms/step - loss: 7.0270\n",
            "Epoch 62/100\n",
            "1/1 [==============================] - 0s 72ms/step - loss: 6.9055\n",
            "Epoch 63/100\n",
            "1/1 [==============================] - 0s 86ms/step - loss: 6.8024\n",
            "Epoch 64/100\n",
            "1/1 [==============================] - 0s 20ms/step - loss: 6.7879\n",
            "Epoch 65/100\n",
            "1/1 [==============================] - 0s 43ms/step - loss: 6.7737\n",
            "Epoch 66/100\n",
            "1/1 [==============================] - 0s 22ms/step - loss: 6.7597\n",
            "Epoch 67/100\n",
            "1/1 [==============================] - 0s 18ms/step - loss: 6.7459\n",
            "Epoch 68/100\n",
            "1/1 [==============================] - 0s 15ms/step - loss: 6.7323\n",
            "Epoch 69/100\n",
            "1/1 [==============================] - 0s 24ms/step - loss: 6.7189\n",
            "Epoch 70/100\n",
            "1/1 [==============================] - 0s 11ms/step - loss: 6.7057\n",
            "Epoch 71/100\n",
            "1/1 [==============================] - 0s 8ms/step - loss: 6.6999\n",
            "Epoch 72/100\n",
            "1/1 [==============================] - 0s 19ms/step - loss: 6.7201\n",
            "Epoch 73/100\n",
            "1/1 [==============================] - 0s 15ms/step - loss: 6.7307\n",
            "Epoch 74/100\n",
            "1/1 [==============================] - 0s 9ms/step - loss: 6.7327\n",
            "Epoch 75/100\n",
            "1/1 [==============================] - 0s 28ms/step - loss: 6.7268\n",
            "Epoch 76/100\n",
            "1/1 [==============================] - 0s 13ms/step - loss: 6.7139\n",
            "Epoch 77/100\n",
            "1/1 [==============================] - 0s 11ms/step - loss: 6.6946\n",
            "Epoch 78/100\n",
            "1/1 [==============================] - 0s 18ms/step - loss: 6.6697\n",
            "Epoch 79/100\n",
            "1/1 [==============================] - 0s 10ms/step - loss: 6.6397\n",
            "Epoch 80/100\n",
            "1/1 [==============================] - 0s 14ms/step - loss: 6.6051\n",
            "Epoch 81/100\n",
            "1/1 [==============================] - 0s 20ms/step - loss: 6.5933\n",
            "Epoch 82/100\n",
            "1/1 [==============================] - 0s 15ms/step - loss: 6.5849\n",
            "Epoch 83/100\n",
            "1/1 [==============================] - 0s 13ms/step - loss: 6.5762\n",
            "Epoch 84/100\n",
            "1/1 [==============================] - 0s 24ms/step - loss: 6.5672\n",
            "Epoch 85/100\n",
            "1/1 [==============================] - 0s 35ms/step - loss: 6.5580\n",
            "Epoch 86/100\n",
            "1/1 [==============================] - 0s 20ms/step - loss: 6.5484\n",
            "Epoch 87/100\n",
            "1/1 [==============================] - 0s 12ms/step - loss: 6.5386\n",
            "Epoch 88/100\n",
            "1/1 [==============================] - 0s 15ms/step - loss: 6.5286\n",
            "Epoch 89/100\n",
            "1/1 [==============================] - 0s 10ms/step - loss: 6.5183\n",
            "Epoch 90/100\n",
            "1/1 [==============================] - 0s 13ms/step - loss: 6.5079\n",
            "Epoch 91/100\n",
            "1/1 [==============================] - 0s 13ms/step - loss: 6.4972\n",
            "Epoch 92/100\n",
            "1/1 [==============================] - 0s 19ms/step - loss: 6.4864\n",
            "Epoch 93/100\n",
            "1/1 [==============================] - 0s 17ms/step - loss: 6.4754\n",
            "Epoch 94/100\n",
            "1/1 [==============================] - 0s 14ms/step - loss: 6.4643\n",
            "Epoch 95/100\n",
            "1/1 [==============================] - 0s 17ms/step - loss: 6.4530\n",
            "Epoch 96/100\n",
            "1/1 [==============================] - 0s 10ms/step - loss: 6.4416\n",
            "Epoch 97/100\n",
            "1/1 [==============================] - 0s 11ms/step - loss: 6.4300\n",
            "Epoch 98/100\n",
            "1/1 [==============================] - 0s 22ms/step - loss: 6.4183\n",
            "Epoch 99/100\n",
            "1/1 [==============================] - 0s 11ms/step - loss: 6.4064\n",
            "Epoch 100/100\n",
            "1/1 [==============================] - 0s 17ms/step - loss: 6.3945\n"
          ]
        },
        {
          "output_type": "execute_result",
          "data": {
            "text/plain": [
              "<keras.src.callbacks.History at 0x7dc3ab4e65f0>"
            ]
          },
          "metadata": {},
          "execution_count": 12
        }
      ],
      "source": [
        "# Using the Adam optimizer with a learning rate of 0.01 instead of SGD\n",
        "# And removing the ReLU activation function\n",
        "model = tf.keras.Sequential([\n",
        "    tf.keras.layers.Dense(100, activation = None),\n",
        "    tf.keras.layers.Dense(1)\n",
        "])\n",
        "\n",
        "model.compile(loss = 'mae',\n",
        "              optimizer = tf.keras.optimizers.Adam(lr = 0.01),\n",
        "              )\n",
        "\n",
        "model.fit(tf.expand_dims(X, axis = -1), y, epochs = 100)"
      ]
    },
    {
      "cell_type": "code",
      "execution_count": null,
      "metadata": {
        "colab": {
          "base_uri": "https://localhost:8080/"
        },
        "id": "5hoor0gEc8Ie",
        "outputId": "8d8e8438-56fb-4556-9ed6-fdbdcf7288f9"
      },
      "outputs": [
        {
          "output_type": "stream",
          "name": "stdout",
          "text": [
            "1/1 [==============================] - 0s 218ms/step\n"
          ]
        },
        {
          "output_type": "execute_result",
          "data": {
            "text/plain": [
              "array([[30.488384]], dtype=float32)"
            ]
          },
          "metadata": {},
          "execution_count": 13
        }
      ],
      "source": [
        "# We got worse loss value, but the prediction was slightly better\n",
        "model.predict([17.0])"
      ]
    },
    {
      "cell_type": "markdown",
      "metadata": {
        "id": "GjIl70WXw810"
      },
      "source": [
        "Generally, not all the steps of improving the model will actually improve it.\n",
        "\n",
        "We changed the architecture of the model by adding an additional hidden layer with 100 nerurons and a ReLU activation function, and after training we did get a lower MAE. But it is important to understand that this is the **training** loss which is not indicative of how good our model is.\n",
        "\n",
        "This can be seen when making a prediction using the imporved model. This prediction was worse than the one made with simpler model, which means that the model is overfitting the data.\n",
        "\n",
        "Model improvement must be done iteratively by adding slight improvements to the model, and changing few hyperparameters at a time."
      ]
    },
    {
      "cell_type": "markdown",
      "metadata": {
        "id": "g2zAnJ2VdzIm"
      },
      "source": [
        "#Evaluating the Model"
      ]
    },
    {
      "cell_type": "markdown",
      "metadata": {
        "id": "K2QHK2fJfIB6"
      },
      "source": [
        "Evaluating a model is an important step of determining how good our model is.\n",
        "\n",
        "The best way to evaluate a model is by:\n",
        "\n",
        "\n",
        "1.   Plotting the original data;\n",
        "2.   Visualizing the architecture of the model;\n",
        "3.   Visualizing the loss and accuracy curves (among others);\n",
        "4.   Making predictions and comparing them to the ground truth values (as we've already briefly done);  \n",
        "\n"
      ]
    },
    {
      "cell_type": "code",
      "execution_count": null,
      "metadata": {
        "colab": {
          "base_uri": "https://localhost:8080/"
        },
        "id": "KAafEB9fwCFQ",
        "outputId": "24604914-7227-419a-df6a-41ef7f3795b3"
      },
      "outputs": [
        {
          "output_type": "execute_result",
          "data": {
            "text/plain": [
              "<tf.Tensor: shape=(50,), dtype=int32, numpy=\n",
              "array([-100,  -96,  -92,  -88,  -84,  -80,  -76,  -72,  -68,  -64,  -60,\n",
              "        -56,  -52,  -48,  -44,  -40,  -36,  -32,  -28,  -24,  -20,  -16,\n",
              "        -12,   -8,   -4,    0,    4,    8,   12,   16,   20,   24,   28,\n",
              "         32,   36,   40,   44,   48,   52,   56,   60,   64,   68,   72,\n",
              "         76,   80,   84,   88,   92,   96], dtype=int32)>"
            ]
          },
          "metadata": {},
          "execution_count": 14
        }
      ],
      "source": [
        "# To evaluate the model we'll first create a larger dataset for better visualization\n",
        "X = tf.range(-100, 100, 4)\n",
        "X"
      ]
    },
    {
      "cell_type": "code",
      "execution_count": null,
      "metadata": {
        "colab": {
          "base_uri": "https://localhost:8080/"
        },
        "id": "w2uxkr4dgTgo",
        "outputId": "c58ac2e7-c33f-4657-d975-ff5e10b93ba2"
      },
      "outputs": [
        {
          "output_type": "execute_result",
          "data": {
            "text/plain": [
              "<tf.Tensor: shape=(50,), dtype=int32, numpy=\n",
              "array([-90, -86, -82, -78, -74, -70, -66, -62, -58, -54, -50, -46, -42,\n",
              "       -38, -34, -30, -26, -22, -18, -14, -10,  -6,  -2,   2,   6,  10,\n",
              "        14,  18,  22,  26,  30,  34,  38,  42,  46,  50,  54,  58,  62,\n",
              "        66,  70,  74,  78,  82,  86,  90,  94,  98, 102, 106], dtype=int32)>"
            ]
          },
          "metadata": {},
          "execution_count": 15
        }
      ],
      "source": [
        "y = X + 10\n",
        "y"
      ]
    },
    {
      "cell_type": "code",
      "execution_count": null,
      "metadata": {
        "colab": {
          "base_uri": "https://localhost:8080/",
          "height": 448
        },
        "id": "MsWvoU7WgXN7",
        "outputId": "e5c88951-5e47-43c4-b3f4-0978b922b5ce"
      },
      "outputs": [
        {
          "output_type": "execute_result",
          "data": {
            "text/plain": [
              "<matplotlib.collections.PathCollection at 0x7dc3aaf11c30>"
            ]
          },
          "metadata": {},
          "execution_count": 16
        },
        {
          "output_type": "display_data",
          "data": {
            "text/plain": [
              "<Figure size 640x480 with 1 Axes>"
            ],
            "image/png": "[encoded data removed]"
          },
          "metadata": {}
        }
      ],
      "source": [
        "# Plotting the original data\n",
        "plt.scatter(X, y)"
      ]
    },
    {
      "cell_type": "markdown",
      "metadata": {
        "id": "ovXFTsKthhd9"
      },
      "source": [
        "An important part of fitting a model is preforming **cross-validation**, in other words, splitting the data. The model will train on part of the data (around 70% - 80%), and validate on what remains of the data (typically 20% - 30%).\n",
        "\n",
        "There are different ways of performing cross-validation, like the validation set method, or k-fold cross-validation, and the train-test split is the simplest of them.\n",
        "\n",
        "**The train-test split** - is a model validation process that allows you to simulate how your model would perform with new data.\n",
        "\n"
      ]
    },
    {
      "cell_type": "code",
      "execution_count": null,
      "metadata": {
        "id": "4dqLxxjogZUZ"
      },
      "outputs": [],
      "source": [
        "# Creating a train-test split\n",
        "from sklearn.model_selection import train_test_split\n",
        "X_train, X_test, y_train, y_test = train_test_split(np.array(X), # splitting can't be done on tensors so we temporarily transform the data into numpy arrays\n",
        "                                                    np.array(y),\n",
        "                                                    test_size = 0.2,\n",
        "                                                    random_state = 42)"
      ]
    },
    {
      "cell_type": "code",
      "execution_count": null,
      "metadata": {
        "colab": {
          "base_uri": "https://localhost:8080/"
        },
        "id": "pcAEAfwXhLxI",
        "outputId": "c292fc72-dd0a-4068-f5bc-0afd1bd21116"
      },
      "outputs": [
        {
          "output_type": "execute_result",
          "data": {
            "text/plain": [
              "(40, 10, 40, 10)"
            ]
          },
          "metadata": {},
          "execution_count": 18
        }
      ],
      "source": [
        "# 80% train, 20% test\n",
        "len(X_train), len(X_test), len(y_train), len(y_test)"
      ]
    },
    {
      "cell_type": "code",
      "execution_count": null,
      "metadata": {
        "id": "E6zOzg4NhYHf"
      },
      "outputs": [],
      "source": [
        "# Turning the sets back into tensors\n",
        "X_train = tf.constant(X_train)\n",
        "X_test = tf.constant(X_test)\n",
        "y_train = tf.constant(y_train)\n",
        "y_test = tf.constant(y_test)"
      ]
    },
    {
      "cell_type": "code",
      "execution_count": null,
      "metadata": {
        "colab": {
          "base_uri": "https://localhost:8080/",
          "height": 445
        },
        "id": "CGyh5-vAh1Qn",
        "outputId": "6207d8cc-5e30-455d-bb9d-88505e3da4b6"
      },
      "outputs": [
        {
          "output_type": "display_data",
          "data": {
            "text/plain": [
              "<Figure size 800x500 with 1 Axes>"
            ],
            "image/png": "[encoded data removed]"
          },
          "metadata": {}
        }
      ],
      "source": [
        "# Visualizing the splits\n",
        "plt.figure(figsize = (8,5))\n",
        "plt.scatter(X_train, y_train, label = 'Train Data')\n",
        "plt.scatter(X_test, y_test, label = 'Test Data')\n",
        "plt.legend();"
      ]
    },
    {
      "cell_type": "markdown",
      "metadata": {
        "id": "4lnu1N9HlGE1"
      },
      "source": [
        "Now that we have our data ready and split, we will create a model that will be fitted on the train data, and evaluated on the test data."
      ]
    },
    {
      "cell_type": "code",
      "execution_count": null,
      "metadata": {
        "colab": {
          "base_uri": "https://localhost:8080/"
        },
        "id": "_GeeJtekkVp0",
        "outputId": "175f7a46-6d70-45c7-fc86-fd20c98f6a6e"
      },
      "outputs": [
        {
          "output_type": "stream",
          "name": "stdout",
          "text": [
            "Model: \"sequential_4\"\n",
            "_________________________________________________________________\n",
            " Layer (type)                Output Shape              Param #   \n",
            "=================================================================\n",
            " dense_6 (Dense)             (None, 1)                 2         \n",
            "                                                                 \n",
            "=================================================================\n",
            "Total params: 2 (8.00 Byte)\n",
            "Trainable params: 2 (8.00 Byte)\n",
            "Non-trainable params: 0 (0.00 Byte)\n",
            "_________________________________________________________________\n"
          ]
        }
      ],
      "source": [
        "model = tf.keras.Sequential([\n",
        "    tf.keras.layers.Dense(units = 1,\n",
        "                          input_shape = [1]) # We need to define the input shape if we want to visualize the model before fitting it\n",
        "])\n",
        "\n",
        "model.compile(loss = 'mae',\n",
        "              optimizer = tf.keras.optimizers.SGD(),\n",
        "              metrics = ['mae'])\n",
        "\n",
        "# Getting a summary of the model\n",
        "model.summary()"
      ]
    },
    {
      "cell_type": "markdown",
      "metadata": {
        "id": "lNS7XzUrmurM"
      },
      "source": [
        "**Total params** - is the number of parameters in the model. We only have 2, since there's 1 weight connecting the input to the single neuron of the hidden layer, and 1 weight that connects said neuron to the output.\n",
        "\n",
        "**Trainable params** - is the total number of parameters that can be trained in the network. Here both of the weights are trainable. This number can be different from the total params when using transfer learning.\n",
        "\n",
        "In each layer, the output (activation) of each neuron equals the sum of products of each connected neuron from the previous layer and the **weight** of said connection + the **bias**.\n",
        "\n",
        "$a_j=\\sum_{i=1}^D w_{j i}^{(1)} x_i+w_{j 0}^{(1)}$\n",
        "\n",
        "Each of these activations are transformed using a differentiable, nonlinear activation function (which we will cover later).\n",
        "\n",
        "$z_j=h\\left(a_j\\right)$\n",
        "\n",
        "**Weights** are the main trainable parameters in a neural network that reflect the strength and the direction of the influence one neuron has on another. When an input signal passes through the network, it gets multiplied by these weights, which cumulatively determine the final output of the network.\n",
        "Training a DL model means updating the values of the weights using the data that passes through the NN, so that said weights represent the data as best as possible (by minimizing the value of the loss function). More info [here](https://deepai.org/machine-learning-glossary-and-terms/weight-artificial-neural-network).\n",
        "\n",
        "**Biases** can be defined as the constant which is added to the product of features and weights. It is used to offset the result. It helps the models to shift the activation function towards the positive or negative side. Bias can be used, for example, to avoid neuron activations with 0 values by adding a bias with a value of 1.\n",
        "\n"
      ]
    },
    {
      "cell_type": "code",
      "execution_count": null,
      "metadata": {
        "colab": {
          "base_uri": "https://localhost:8080/"
        },
        "id": "Sxv-IieIml33",
        "outputId": "b9d8f2fa-f75a-45ba-9504-57b77c5e63ca"
      },
      "outputs": [
        {
          "output_type": "stream",
          "name": "stdout",
          "text": [
            "Epoch 1/100\n",
            "2/2 [==============================] - 1s 14ms/step - loss: 66.0569 - mae: 66.0569\n",
            "Epoch 2/100\n",
            "2/2 [==============================] - 0s 10ms/step - loss: 24.3612 - mae: 24.3612\n",
            "Epoch 3/100\n",
            "2/2 [==============================] - 0s 13ms/step - loss: 11.3925 - mae: 11.3925\n",
            "Epoch 4/100\n",
            "2/2 [==============================] - 0s 11ms/step - loss: 12.8467 - mae: 12.8467\n",
            "Epoch 5/100\n",
            "2/2 [==============================] - 0s 9ms/step - loss: 12.4213 - mae: 12.4213\n",
            "Epoch 6/100\n",
            "2/2 [==============================] - 0s 10ms/step - loss: 12.8577 - mae: 12.8577\n",
            "Epoch 7/100\n",
            "2/2 [==============================] - 0s 10ms/step - loss: 12.4251 - mae: 12.4251\n",
            "Epoch 8/100\n",
            "2/2 [==============================] - 0s 10ms/step - loss: 9.8460 - mae: 9.8460\n",
            "Epoch 9/100\n",
            "2/2 [==============================] - 0s 9ms/step - loss: 14.8977 - mae: 14.8977\n",
            "Epoch 10/100\n",
            "2/2 [==============================] - 0s 10ms/step - loss: 9.7629 - mae: 9.7629\n",
            "Epoch 11/100\n",
            "2/2 [==============================] - 0s 14ms/step - loss: 11.3743 - mae: 11.3743\n",
            "Epoch 12/100\n",
            "2/2 [==============================] - 0s 11ms/step - loss: 10.4890 - mae: 10.4890\n",
            "Epoch 13/100\n",
            "2/2 [==============================] - 0s 5ms/step - loss: 23.0387 - mae: 23.0387\n",
            "Epoch 14/100\n",
            "2/2 [==============================] - 0s 7ms/step - loss: 9.5607 - mae: 9.5607\n",
            "Epoch 15/100\n",
            "2/2 [==============================] - 0s 29ms/step - loss: 15.2678 - mae: 15.2678\n",
            "Epoch 16/100\n",
            "2/2 [==============================] - 0s 16ms/step - loss: 16.0517 - mae: 16.0517\n",
            "Epoch 17/100\n",
            "2/2 [==============================] - 0s 22ms/step - loss: 9.2521 - mae: 9.2521\n",
            "Epoch 18/100\n",
            "2/2 [==============================] - 0s 12ms/step - loss: 9.7013 - mae: 9.7013\n",
            "Epoch 19/100\n",
            "2/2 [==============================] - 0s 41ms/step - loss: 15.9788 - mae: 15.9788\n",
            "Epoch 20/100\n",
            "2/2 [==============================] - 0s 23ms/step - loss: 12.2954 - mae: 12.2954\n",
            "Epoch 21/100\n",
            "2/2 [==============================] - 0s 19ms/step - loss: 10.6961 - mae: 10.6961\n",
            "Epoch 22/100\n",
            "2/2 [==============================] - 0s 16ms/step - loss: 9.1760 - mae: 9.1760\n",
            "Epoch 23/100\n",
            "2/2 [==============================] - 0s 10ms/step - loss: 18.1973 - mae: 18.1973\n",
            "Epoch 24/100\n",
            "2/2 [==============================] - 0s 11ms/step - loss: 12.1474 - mae: 12.1474\n",
            "Epoch 25/100\n",
            "2/2 [==============================] - 0s 11ms/step - loss: 17.7513 - mae: 17.7513\n",
            "Epoch 26/100\n",
            "2/2 [==============================] - 0s 38ms/step - loss: 18.8143 - mae: 18.8143\n",
            "Epoch 27/100\n",
            "2/2 [==============================] - 0s 18ms/step - loss: 11.0795 - mae: 11.0795\n",
            "Epoch 28/100\n",
            "2/2 [==============================] - 0s 14ms/step - loss: 9.4298 - mae: 9.4298\n",
            "Epoch 29/100\n",
            "2/2 [==============================] - 0s 17ms/step - loss: 10.0944 - mae: 10.0944\n",
            "Epoch 30/100\n",
            "2/2 [==============================] - 0s 10ms/step - loss: 9.0324 - mae: 9.0324\n",
            "Epoch 31/100\n",
            "2/2 [==============================] - 0s 7ms/step - loss: 9.0781 - mae: 9.0781\n",
            "Epoch 32/100\n",
            "2/2 [==============================] - 0s 7ms/step - loss: 14.9841 - mae: 14.9841\n",
            "Epoch 33/100\n",
            "2/2 [==============================] - 0s 8ms/step - loss: 10.6986 - mae: 10.6986\n",
            "Epoch 34/100\n",
            "2/2 [==============================] - 0s 10ms/step - loss: 15.1390 - mae: 15.1390\n",
            "Epoch 35/100\n",
            "2/2 [==============================] - 0s 8ms/step - loss: 9.3166 - mae: 9.3166\n",
            "Epoch 36/100\n",
            "2/2 [==============================] - 0s 7ms/step - loss: 11.1860 - mae: 11.1860\n",
            "Epoch 37/100\n",
            "2/2 [==============================] - 0s 11ms/step - loss: 8.7890 - mae: 8.7890\n",
            "Epoch 38/100\n",
            "2/2 [==============================] - 0s 9ms/step - loss: 12.6854 - mae: 12.6854\n",
            "Epoch 39/100\n",
            "2/2 [==============================] - 0s 12ms/step - loss: 9.8791 - mae: 9.8791\n",
            "Epoch 40/100\n",
            "2/2 [==============================] - 0s 8ms/step - loss: 9.1020 - mae: 9.1020\n",
            "Epoch 41/100\n",
            "2/2 [==============================] - 0s 7ms/step - loss: 18.1946 - mae: 18.1946\n",
            "Epoch 42/100\n",
            "2/2 [==============================] - 0s 10ms/step - loss: 18.1888 - mae: 18.1888\n",
            "Epoch 43/100\n",
            "2/2 [==============================] - 0s 9ms/step - loss: 13.9805 - mae: 13.9805\n",
            "Epoch 44/100\n",
            "2/2 [==============================] - 0s 8ms/step - loss: 15.5597 - mae: 15.5597\n",
            "Epoch 45/100\n",
            "2/2 [==============================] - 0s 11ms/step - loss: 14.2990 - mae: 14.2990\n",
            "Epoch 46/100\n",
            "2/2 [==============================] - 0s 11ms/step - loss: 16.6065 - mae: 16.6065\n",
            "Epoch 47/100\n",
            "2/2 [==============================] - 0s 15ms/step - loss: 16.7011 - mae: 16.7011\n",
            "Epoch 48/100\n",
            "2/2 [==============================] - 0s 9ms/step - loss: 19.0906 - mae: 19.0906\n",
            "Epoch 49/100\n",
            "2/2 [==============================] - 0s 9ms/step - loss: 14.7682 - mae: 14.7682\n",
            "Epoch 50/100\n",
            "2/2 [==============================] - 0s 10ms/step - loss: 8.9703 - mae: 8.9703\n",
            "Epoch 51/100\n",
            "2/2 [==============================] - 0s 10ms/step - loss: 10.1655 - mae: 10.1655\n",
            "Epoch 52/100\n",
            "2/2 [==============================] - 0s 13ms/step - loss: 16.4159 - mae: 16.4159\n",
            "Epoch 53/100\n",
            "2/2 [==============================] - 0s 9ms/step - loss: 16.8958 - mae: 16.8958\n",
            "Epoch 54/100\n",
            "2/2 [==============================] - 0s 12ms/step - loss: 11.6447 - mae: 11.6447\n",
            "Epoch 55/100\n",
            "2/2 [==============================] - 0s 19ms/step - loss: 16.8971 - mae: 16.8971\n",
            "Epoch 56/100\n",
            "2/2 [==============================] - 0s 10ms/step - loss: 14.3539 - mae: 14.3539\n",
            "Epoch 57/100\n",
            "2/2 [==============================] - 0s 13ms/step - loss: 8.9032 - mae: 8.9032\n",
            "Epoch 58/100\n",
            "2/2 [==============================] - 0s 12ms/step - loss: 13.1700 - mae: 13.1700\n",
            "Epoch 59/100\n",
            "2/2 [==============================] - 0s 10ms/step - loss: 11.3617 - mae: 11.3617\n",
            "Epoch 60/100\n",
            "2/2 [==============================] - 0s 22ms/step - loss: 9.3395 - mae: 9.3395\n",
            "Epoch 61/100\n",
            "2/2 [==============================] - 0s 19ms/step - loss: 9.1839 - mae: 9.1839\n",
            "Epoch 62/100\n",
            "2/2 [==============================] - 0s 9ms/step - loss: 12.8422 - mae: 12.8422\n",
            "Epoch 63/100\n",
            "2/2 [==============================] - 0s 17ms/step - loss: 12.8849 - mae: 12.8849\n",
            "Epoch 64/100\n",
            "2/2 [==============================] - 0s 9ms/step - loss: 15.3678 - mae: 15.3678\n",
            "Epoch 65/100\n",
            "2/2 [==============================] - 0s 10ms/step - loss: 9.1871 - mae: 9.1871\n",
            "Epoch 66/100\n",
            "2/2 [==============================] - 0s 12ms/step - loss: 10.2033 - mae: 10.2033\n",
            "Epoch 67/100\n",
            "2/2 [==============================] - 0s 9ms/step - loss: 19.4222 - mae: 19.4222\n",
            "Epoch 68/100\n",
            "2/2 [==============================] - 0s 8ms/step - loss: 9.6018 - mae: 9.6018\n",
            "Epoch 69/100\n",
            "2/2 [==============================] - 0s 9ms/step - loss: 10.2584 - mae: 10.2584\n",
            "Epoch 70/100\n",
            "2/2 [==============================] - 0s 8ms/step - loss: 8.8296 - mae: 8.8296\n",
            "Epoch 71/100\n",
            "2/2 [==============================] - 0s 10ms/step - loss: 16.6224 - mae: 16.6224\n",
            "Epoch 72/100\n",
            "2/2 [==============================] - 0s 10ms/step - loss: 8.8843 - mae: 8.8843\n",
            "Epoch 73/100\n",
            "2/2 [==============================] - 0s 9ms/step - loss: 9.3638 - mae: 9.3638\n",
            "Epoch 74/100\n",
            "2/2 [==============================] - 0s 14ms/step - loss: 8.0013 - mae: 8.0013\n",
            "Epoch 75/100\n",
            "2/2 [==============================] - 0s 9ms/step - loss: 10.2321 - mae: 10.2321\n",
            "Epoch 76/100\n",
            "2/2 [==============================] - 0s 12ms/step - loss: 11.3348 - mae: 11.3348\n",
            "Epoch 77/100\n",
            "2/2 [==============================] - 0s 29ms/step - loss: 21.7889 - mae: 21.7889\n",
            "Epoch 78/100\n",
            "2/2 [==============================] - 0s 18ms/step - loss: 9.1645 - mae: 9.1645\n",
            "Epoch 79/100\n",
            "2/2 [==============================] - 0s 10ms/step - loss: 17.7777 - mae: 17.7777\n",
            "Epoch 80/100\n",
            "2/2 [==============================] - 0s 8ms/step - loss: 16.6010 - mae: 16.6010\n",
            "Epoch 81/100\n",
            "2/2 [==============================] - 0s 12ms/step - loss: 19.0923 - mae: 19.0923\n",
            "Epoch 82/100\n",
            "2/2 [==============================] - 0s 9ms/step - loss: 14.9669 - mae: 14.9669\n",
            "Epoch 83/100\n",
            "2/2 [==============================] - 0s 15ms/step - loss: 10.2781 - mae: 10.2781\n",
            "Epoch 84/100\n",
            "2/2 [==============================] - 0s 14ms/step - loss: 9.1107 - mae: 9.1107\n",
            "Epoch 85/100\n",
            "2/2 [==============================] - 0s 9ms/step - loss: 8.4209 - mae: 8.4209\n",
            "Epoch 86/100\n",
            "2/2 [==============================] - 0s 14ms/step - loss: 8.8459 - mae: 8.8459\n",
            "Epoch 87/100\n",
            "2/2 [==============================] - 0s 9ms/step - loss: 21.1674 - mae: 21.1674\n",
            "Epoch 88/100\n",
            "2/2 [==============================] - 0s 15ms/step - loss: 16.2407 - mae: 16.2407\n",
            "Epoch 89/100\n",
            "2/2 [==============================] - 0s 12ms/step - loss: 10.3857 - mae: 10.3857\n",
            "Epoch 90/100\n",
            "2/2 [==============================] - 0s 9ms/step - loss: 10.3003 - mae: 10.3003\n",
            "Epoch 91/100\n",
            "2/2 [==============================] - 0s 8ms/step - loss: 18.8095 - mae: 18.8095\n",
            "Epoch 92/100\n",
            "2/2 [==============================] - 0s 8ms/step - loss: 13.6503 - mae: 13.6503\n",
            "Epoch 93/100\n",
            "2/2 [==============================] - 0s 8ms/step - loss: 14.2502 - mae: 14.2502\n",
            "Epoch 94/100\n",
            "2/2 [==============================] - 0s 8ms/step - loss: 14.0263 - mae: 14.0263\n",
            "Epoch 95/100\n",
            "2/2 [==============================] - 0s 11ms/step - loss: 14.2335 - mae: 14.2335\n",
            "Epoch 96/100\n",
            "2/2 [==============================] - 0s 9ms/step - loss: 8.4440 - mae: 8.4440\n",
            "Epoch 97/100\n",
            "2/2 [==============================] - 0s 9ms/step - loss: 10.0056 - mae: 10.0056\n",
            "Epoch 98/100\n",
            "2/2 [==============================] - 0s 7ms/step - loss: 9.3361 - mae: 9.3361\n",
            "Epoch 99/100\n",
            "2/2 [==============================] - 0s 6ms/step - loss: 22.2530 - mae: 22.2530\n",
            "Epoch 100/100\n",
            "2/2 [==============================] - 0s 9ms/step - loss: 8.5088 - mae: 8.5088\n"
          ]
        },
        {
          "output_type": "execute_result",
          "data": {
            "text/plain": [
              "<keras.src.callbacks.History at 0x7dc3965ff820>"
            ]
          },
          "metadata": {},
          "execution_count": 22
        }
      ],
      "source": [
        "# Fitting the model on the train data\n",
        "model.fit(X_train, y_train, epochs = 100)"
      ]
    },
    {
      "cell_type": "code",
      "execution_count": null,
      "metadata": {
        "colab": {
          "base_uri": "https://localhost:8080/",
          "height": 201
        },
        "id": "0ShCVyi_oJ-z",
        "outputId": "b3c368fe-a1d7-49dd-9132-b771d3b2c3eb"
      },
      "outputs": [
        {
          "output_type": "execute_result",
          "data": {
            "image/png": "[encoded data removed]",
            "text/plain": [
              "<IPython.core.display.Image object>"
            ]
          },
          "metadata": {},
          "execution_count": 23
        }
      ],
      "source": [
        "# It is possible to plot the model\n",
        "from tensorflow.keras.utils import plot_model\n",
        "\n",
        "plot_model(model = model,\n",
        "           show_shapes = True)"
      ]
    },
    {
      "cell_type": "code",
      "execution_count": null,
      "metadata": {
        "colab": {
          "base_uri": "https://localhost:8080/"
        },
        "id": "6BuPxkSnaQb1",
        "outputId": "64a7442b-da32-4ffb-f617-45629d6896f7"
      },
      "outputs": [
        {
          "output_type": "stream",
          "name": "stdout",
          "text": [
            "Model: \"Model1\"\n",
            "_________________________________________________________________\n",
            " Layer (type)                Output Shape              Param #   \n",
            "=================================================================\n",
            " Input_Layer (Dense)         (None, 50)                100       \n",
            "                                                                 \n",
            " Output_Layer (Dense)        (None, 1)                 51        \n",
            "                                                                 \n",
            "=================================================================\n",
            "Total params: 151 (604.00 Byte)\n",
            "Trainable params: 151 (604.00 Byte)\n",
            "Non-trainable params: 0 (0.00 Byte)\n",
            "_________________________________________________________________\n"
          ]
        }
      ],
      "source": [
        "# We can also name models and layers to easily distinguish them\n",
        "model = tf.keras.Sequential([\n",
        "    tf.keras.layers.Dense(units = 50,\n",
        "                          input_shape = [1],\n",
        "                          activation = 'relu',\n",
        "                          name = 'Input_Layer'),\n",
        "    tf.keras.layers.Dense(units = 1,\n",
        "                          name = 'Output_Layer')\n",
        "], name = 'Model1')\n",
        "\n",
        "model.compile(loss = 'mae',\n",
        "              optimizer = tf.keras.optimizers.SGD(),\n",
        "              metrics = ['mae'])\n",
        "\n",
        "model.summary()"
      ]
    },
    {
      "cell_type": "code",
      "execution_count": null,
      "metadata": {
        "colab": {
          "base_uri": "https://localhost:8080/"
        },
        "id": "UJFavD7LbGjM",
        "outputId": "11e44d61-751b-4b5a-bb7f-928fbd38f152"
      },
      "outputs": [
        {
          "output_type": "execute_result",
          "data": {
            "text/plain": [
              "<keras.src.callbacks.History at 0x7dc3964917b0>"
            ]
          },
          "metadata": {},
          "execution_count": 25
        }
      ],
      "source": [
        "model.fit(X_train, y_train, epochs = 100, verbose = 0)"
      ]
    },
    {
      "cell_type": "code",
      "execution_count": null,
      "metadata": {
        "colab": {
          "base_uri": "https://localhost:8080/",
          "height": 312
        },
        "id": "QSkze64SbROH",
        "outputId": "f2ce3a6b-a2ba-4c9b-c4c6-57640a48a452"
      },
      "outputs": [
        {
          "output_type": "execute_result",
          "data": {
            "image/png": "[encoded data removed]",
            "text/plain": [
              "<IPython.core.display.Image object>"
            ]
          },
          "metadata": {},
          "execution_count": 26
        }
      ],
      "source": [
        "plot_model(model = model,\n",
        "           show_shapes = True)"
      ]
    },
    {
      "cell_type": "code",
      "execution_count": null,
      "metadata": {
        "colab": {
          "base_uri": "https://localhost:8080/"
        },
        "id": "DNCI0TlrbVJQ",
        "outputId": "624bf0f8-e4e1-4b13-c6d3-c086341474ff"
      },
      "outputs": [
        {
          "output_type": "stream",
          "name": "stderr",
          "text": [
            "WARNING:tensorflow:5 out of the last 5 calls to <function Model.make_predict_function.<locals>.predict_function at 0x7dc396565fc0> triggered tf.function retracing. Tracing is expensive and the excessive number of tracings could be due to (1) creating @tf.function repeatedly in a loop, (2) passing tensors with different shapes, (3) passing Python objects instead of tensors. For (1), please define your @tf.function outside of the loop. For (2), @tf.function has reduce_retracing=True option that can avoid unnecessary retracing. For (3), please refer to https://www.tensorflow.org/guide/function#controlling_retracing and https://www.tensorflow.org/api_docs/python/tf/function for  more details.\n"
          ]
        },
        {
          "output_type": "stream",
          "name": "stdout",
          "text": [
            "1/1 [==============================] - 0s 87ms/step\n"
          ]
        },
        {
          "output_type": "execute_result",
          "data": {
            "text/plain": [
              "array([[-81.17067   ],\n",
              "       [ 77.651566  ],\n",
              "       [ 28.060123  ],\n",
              "       [110.71252   ],\n",
              "       [-53.91657   ],\n",
              "       [127.24299   ],\n",
              "       [  6.0194845 ],\n",
              "       [  0.50932574],\n",
              "       [ 39.08044   ],\n",
              "       [-40.289524  ]], dtype=float32)"
            ]
          },
          "metadata": {},
          "execution_count": 27
        }
      ],
      "source": [
        "# Visualizing the predictions\n",
        "# First we'll get the predictions\n",
        "y_pred = model.predict(X_test)\n",
        "y_pred"
      ]
    },
    {
      "cell_type": "code",
      "execution_count": null,
      "metadata": {
        "id": "qLdh5Lj2cBTC"
      },
      "outputs": [],
      "source": [
        "# Now we'll define a function that will plot the predictions\n",
        "def plot_predictions(train_data = X_train,\n",
        "                     train_label = y_train,\n",
        "                     test_data = X_test,\n",
        "                     test_label = y_test,\n",
        "                     predictions = y_pred):\n",
        "  plt.figure(figsize = (8,6))\n",
        "  # Plotting the train data\n",
        "  plt.scatter(train_data, train_label, c='b', label = \"Train Data\")\n",
        "  # Plotting the test data\n",
        "  plt.scatter(test_data, test_label, c = 'g', label = 'Test Data')\n",
        "  # Plotting the predictions against the test labels\n",
        "  plt.scatter(test_label, predictions, c = 'r', label = 'Predictions')\n",
        "  plt.legend();"
      ]
    },
    {
      "cell_type": "code",
      "execution_count": null,
      "metadata": {
        "colab": {
          "base_uri": "https://localhost:8080/",
          "height": 522
        },
        "id": "1OB4tdfvdR9q",
        "outputId": "8e250a32-d4a9-474e-a076-aedd9b370099"
      },
      "outputs": [
        {
          "output_type": "display_data",
          "data": {
            "text/plain": [
              "<Figure size 800x600 with 1 Axes>"
            ],
            "image/png": "[encoded data removed]"
          },
          "metadata": {}
        }
      ],
      "source": [
        "plot_predictions()"
      ]
    },
    {
      "cell_type": "markdown",
      "metadata": {
        "id": "m4-cfbRPekfI"
      },
      "source": [
        "##Evaluating the model with Evaluation Metrics"
      ]
    },
    {
      "cell_type": "markdown",
      "metadata": {
        "id": "kTucQ1WGfLpc"
      },
      "source": [
        "One of the most common ways to evaluate any model is by using evaluation metrics. Theses metrics quantify how wrong our model is, and help us decide whether we should improve our model or not.\n",
        "\n",
        "Depending on the type of problem we're trying to solve (either regression or classification), there are different metrics that can be used.\n",
        "\n",
        "Since we're working with a regression problem, here are some of the most common regreesion metrics:\n",
        "\n",
        "*   **Mean Absolute Error (MAE)** - The most basic regression metric.\n",
        "*   **Mean Squared Error (MSE)** - Punishes high error values.\n",
        "* **Root Mean Squared Error (RMSE)** - The square root of MSE. It is measured in the same units as the variables.\n",
        "* **Huber** - Calculate the Huber loss. A combination of MAE & MSE.\n",
        "* **$R^2$ Score** - coefficient of determination. It quantifies the percentage of variance of the dependant variables that is explained by the independant  variables. It is a useful statistic for evaluating the overall effectiveness and explanatory power of a regression model.\n",
        "\n",
        "In TensorFlow, these metrics can be accessed through `tensorflow.keras.losses`.\n",
        "\n",
        "\n",
        "\n"
      ]
    },
    {
      "cell_type": "code",
      "execution_count": null,
      "metadata": {
        "colab": {
          "base_uri": "https://localhost:8080/"
        },
        "id": "c_F3ZuqidTZb",
        "outputId": "b115164a-513a-41da-aafe-931d8a8eb551"
      },
      "outputs": [
        {
          "output_type": "stream",
          "name": "stdout",
          "text": [
            "1/1 [==============================] - 1s 522ms/step - loss: 17.9475 - mae: 17.9475\n"
          ]
        },
        {
          "output_type": "execute_result",
          "data": {
            "text/plain": [
              "[17.947534561157227, 17.947534561157227]"
            ]
          },
          "metadata": {},
          "execution_count": 30
        }
      ],
      "source": [
        "# Evaluating the model on the test set with the metric chosen during compilation (MAE)\n",
        "model.evaluate(X_test, y_test)"
      ]
    },
    {
      "cell_type": "code",
      "execution_count": null,
      "metadata": {
        "colab": {
          "base_uri": "https://localhost:8080/"
        },
        "id": "8pRm1vheh7Su",
        "outputId": "cde81b80-5020-4fb9-bcaf-d8fa94ed7d25"
      },
      "outputs": [
        {
          "output_type": "execute_result",
          "data": {
            "text/plain": [
              "<tf.Tensor: shape=(), dtype=float32, numpy=17.947535>"
            ]
          },
          "metadata": {},
          "execution_count": 31
        }
      ],
      "source": [
        "# Now let's use the regression metrics\n",
        "# Calculating MAE\n",
        "# We need to convert the preditions into a tensor from a numpy array\n",
        "# We also need to squeeze the prediction tensor since it has the shape of (10,1) while y_test has the shape of (10,)\n",
        "tf.keras.losses.MAE(y_test, tf.constant(y_pred.squeeze()))"
      ]
    },
    {
      "cell_type": "code",
      "execution_count": null,
      "metadata": {
        "colab": {
          "base_uri": "https://localhost:8080/"
        },
        "id": "B5jsOMDcinlj",
        "outputId": "5edeef93-5858-48ae-de9a-e68e329930fc"
      },
      "outputs": [
        {
          "output_type": "execute_result",
          "data": {
            "text/plain": [
              "<tf.Tensor: shape=(), dtype=float32, numpy=493.41812>"
            ]
          },
          "metadata": {},
          "execution_count": 32
        }
      ],
      "source": [
        "# Calculating MSE\n",
        "tf.keras.losses.mean_squared_error(y_test, tf.constant(y_pred.squeeze()))"
      ]
    },
    {
      "cell_type": "code",
      "execution_count": null,
      "metadata": {
        "colab": {
          "base_uri": "https://localhost:8080/"
        },
        "id": "P3fwazX3kZVZ",
        "outputId": "583b4378-b7e4-4662-b2d4-4d50a535b3af"
      },
      "outputs": [
        {
          "output_type": "execute_result",
          "data": {
            "text/plain": [
              "22.213016934623955"
            ]
          },
          "metadata": {},
          "execution_count": 33
        }
      ],
      "source": [
        "# Calculating RMSE\n",
        "import math\n",
        "math.sqrt(tf.keras.losses.mean_squared_error(y_test, tf.constant(y_pred.squeeze())))"
      ]
    },
    {
      "cell_type": "code",
      "execution_count": null,
      "metadata": {
        "id": "zPA9ZFYklOXD"
      },
      "outputs": [],
      "source": [
        "# Putting MAE, MSE, RMSE into a function\n",
        "def regression_metrics(y_true, y_pred):\n",
        "  metrics = {}\n",
        "  y_pred = tf.constant(y_pred.squeeze())\n",
        "  mae = tf.get_static_value(tf.keras.losses.mean_absolute_error(y_true, y_pred))\n",
        "  mse = tf.get_static_value(tf.keras.losses.mean_squared_error(y_true, y_pred))\n",
        "  rmse = math.sqrt(tf.keras.losses.mean_squared_error(y_true, y_pred))\n",
        "\n",
        "  metrics['MAE'] = mae\n",
        "  metrics['MSE'] = mse\n",
        "  metrics['RMSE'] = rmse\n",
        "\n",
        "  return metrics"
      ]
    },
    {
      "cell_type": "code",
      "execution_count": null,
      "metadata": {
        "colab": {
          "base_uri": "https://localhost:8080/"
        },
        "id": "zemTTxvWnbfm",
        "outputId": "b0e52c13-9574-471b-a7e7-eb0e386ea4ef"
      },
      "outputs": [
        {
          "output_type": "execute_result",
          "data": {
            "text/plain": [
              "{'MAE': 17.947535, 'MSE': 493.41812, 'RMSE': 22.213016934623955}"
            ]
          },
          "metadata": {},
          "execution_count": 35
        }
      ],
      "source": [
        "results = regression_metrics(y_test, y_pred)\n",
        "results"
      ]
    },
    {
      "cell_type": "markdown",
      "metadata": {
        "id": "RRa4GqUYFBBh"
      },
      "source": [
        "#Modeling Experiments"
      ]
    },
    {
      "cell_type": "markdown",
      "metadata": {
        "id": "_Vvbu0FYFEOw"
      },
      "source": [
        "Now that we evaluated our regression model, the next logical step is to try and improve it. This can be done with the steps outlined in **Improveing the Model** section among others.\n",
        "\n",
        "But improving a single model is not enough. A better paradigm is to run multiple experiments on the data, i.e. build multiple, slighlty different models, fit them and get predictions using said models.\n",
        "\n",
        "For example: using the X and y data above, we want to model multiple experiments with these models:\n",
        "\n",
        "1. `model_1` - consisting of a single hidden layer, trained for 100 epochs.\n",
        "2. `model_2` - consisting of two hidden layers, trained for 100 epochs.\n",
        "3. `model_3` - consisting of two hidden layers, trained for 500 epochs\n",
        "4. `model_4` - consisting of three hidden layers, trained for 100 epochs."
      ]
    },
    {
      "cell_type": "code",
      "execution_count": null,
      "metadata": {
        "colab": {
          "base_uri": "https://localhost:8080/"
        },
        "id": "LnqbXAqRoEPP",
        "outputId": "d7a6d108-5d29-4795-ed65-c6c38f594e70"
      },
      "outputs": [
        {
          "output_type": "stream",
          "name": "stdout",
          "text": [
            "Epoch 1/100\n",
            "2/2 [==============================] - 0s 8ms/step - loss: 13.3471 - mae: 13.3471 - mse: 246.5595\n",
            "Epoch 2/100\n",
            "2/2 [==============================] - 0s 8ms/step - loss: 10.2959 - mae: 10.2959 - mse: 120.2116\n",
            "Epoch 3/100\n",
            "2/2 [==============================] - 0s 6ms/step - loss: 12.6814 - mae: 12.6814 - mse: 240.0279\n",
            "Epoch 4/100\n",
            "2/2 [==============================] - 0s 7ms/step - loss: 9.2563 - mae: 9.2563 - mse: 122.0391\n",
            "Epoch 5/100\n",
            "2/2 [==============================] - 0s 8ms/step - loss: 10.7578 - mae: 10.7578 - mse: 176.4955\n",
            "Epoch 6/100\n",
            "2/2 [==============================] - 0s 7ms/step - loss: 13.5272 - mae: 13.5272 - mse: 273.8419\n",
            "Epoch 7/100\n",
            "2/2 [==============================] - 0s 7ms/step - loss: 12.2026 - mae: 12.2026 - mse: 237.4169\n",
            "Epoch 8/100\n",
            "2/2 [==============================] - 0s 11ms/step - loss: 9.8648 - mae: 9.8648 - mse: 98.1161\n",
            "Epoch 9/100\n",
            "2/2 [==============================] - 0s 12ms/step - loss: 14.6603 - mae: 14.6603 - mse: 295.2137\n",
            "Epoch 10/100\n",
            "2/2 [==============================] - 0s 10ms/step - loss: 9.7509 - mae: 9.7509 - mse: 106.4999\n",
            "Epoch 11/100\n",
            "2/2 [==============================] - 0s 9ms/step - loss: 11.4564 - mae: 11.4564 - mse: 180.5283\n",
            "Epoch 12/100\n",
            "2/2 [==============================] - 0s 8ms/step - loss: 10.5078 - mae: 10.5078 - mse: 113.8632\n",
            "Epoch 13/100\n",
            "2/2 [==============================] - 0s 9ms/step - loss: 22.7612 - mae: 22.7612 - mse: 723.8964\n",
            "Epoch 14/100\n",
            "2/2 [==============================] - 0s 8ms/step - loss: 9.5796 - mae: 9.5796 - mse: 93.8752\n",
            "Epoch 15/100\n",
            "2/2 [==============================] - 0s 8ms/step - loss: 15.0815 - mae: 15.0815 - mse: 316.2510\n",
            "Epoch 16/100\n",
            "2/2 [==============================] - 0s 7ms/step - loss: 15.8344 - mae: 15.8344 - mse: 354.6555\n",
            "Epoch 17/100\n",
            "2/2 [==============================] - 0s 7ms/step - loss: 14.5455 - mae: 14.5455 - mse: 304.6889\n",
            "Epoch 18/100\n",
            "2/2 [==============================] - 0s 9ms/step - loss: 10.4722 - mae: 10.4722 - mse: 134.7136\n",
            "Epoch 19/100\n",
            "2/2 [==============================] - 0s 10ms/step - loss: 9.7914 - mae: 9.7914 - mse: 98.3772\n",
            "Epoch 20/100\n",
            "2/2 [==============================] - 0s 10ms/step - loss: 12.5320 - mae: 12.5320 - mse: 247.7148\n",
            "Epoch 21/100\n",
            "2/2 [==============================] - 0s 7ms/step - loss: 10.8700 - mae: 10.8700 - mse: 192.1738\n",
            "Epoch 22/100\n",
            "2/2 [==============================] - 0s 7ms/step - loss: 9.3953 - mae: 9.3953 - mse: 117.8476\n",
            "Epoch 23/100\n",
            "2/2 [==============================] - 0s 7ms/step - loss: 16.6430 - mae: 16.6430 - mse: 405.0257\n",
            "Epoch 24/100\n",
            "2/2 [==============================] - 0s 7ms/step - loss: 10.9267 - mae: 10.9267 - mse: 180.9534\n",
            "Epoch 25/100\n",
            "2/2 [==============================] - 0s 7ms/step - loss: 9.8212 - mae: 9.8212 - mse: 143.5653\n",
            "Epoch 26/100\n",
            "2/2 [==============================] - 0s 12ms/step - loss: 9.3298 - mae: 9.3298 - mse: 118.5936\n",
            "Epoch 27/100\n",
            "2/2 [==============================] - 0s 8ms/step - loss: 19.2575 - mae: 19.2575 - mse: 530.3151\n",
            "Epoch 28/100\n",
            "2/2 [==============================] - 0s 8ms/step - loss: 10.0517 - mae: 10.0517 - mse: 123.0160\n",
            "Epoch 29/100\n",
            "2/2 [==============================] - 0s 7ms/step - loss: 9.5119 - mae: 9.5119 - mse: 126.5392\n",
            "Epoch 30/100\n",
            "2/2 [==============================] - 0s 9ms/step - loss: 10.7029 - mae: 10.7029 - mse: 167.7142\n",
            "Epoch 31/100\n",
            "2/2 [==============================] - 0s 8ms/step - loss: 15.5646 - mae: 15.5646 - mse: 318.2116\n",
            "Epoch 32/100\n",
            "2/2 [==============================] - 0s 7ms/step - loss: 10.7599 - mae: 10.7599 - mse: 175.8731\n",
            "Epoch 33/100\n",
            "2/2 [==============================] - 0s 8ms/step - loss: 11.2919 - mae: 11.2919 - mse: 195.7218\n",
            "Epoch 34/100\n",
            "2/2 [==============================] - 0s 8ms/step - loss: 14.5753 - mae: 14.5753 - mse: 306.8445\n",
            "Epoch 35/100\n",
            "2/2 [==============================] - 0s 9ms/step - loss: 9.2153 - mae: 9.2153 - mse: 91.4496\n",
            "Epoch 36/100\n",
            "2/2 [==============================] - 0s 8ms/step - loss: 11.6770 - mae: 11.6770 - mse: 208.4063\n",
            "Epoch 37/100\n",
            "2/2 [==============================] - 0s 10ms/step - loss: 12.3094 - mae: 12.3094 - mse: 215.0931\n",
            "Epoch 38/100\n",
            "2/2 [==============================] - 0s 7ms/step - loss: 16.1353 - mae: 16.1353 - mse: 367.3789\n",
            "Epoch 39/100\n",
            "2/2 [==============================] - 0s 7ms/step - loss: 9.3361 - mae: 9.3361 - mse: 96.0458\n",
            "Epoch 40/100\n",
            "2/2 [==============================] - 0s 7ms/step - loss: 9.3653 - mae: 9.3653 - mse: 126.4177\n",
            "Epoch 41/100\n",
            "2/2 [==============================] - 0s 7ms/step - loss: 18.4511 - mae: 18.4511 - mse: 440.9184\n",
            "Epoch 42/100\n",
            "2/2 [==============================] - 0s 8ms/step - loss: 18.4441 - mae: 18.4441 - mse: 454.6724\n",
            "Epoch 43/100\n",
            "2/2 [==============================] - 0s 7ms/step - loss: 14.2060 - mae: 14.2060 - mse: 290.4116\n",
            "Epoch 44/100\n",
            "2/2 [==============================] - 0s 7ms/step - loss: 15.7957 - mae: 15.7957 - mse: 343.5103\n",
            "Epoch 45/100\n",
            "2/2 [==============================] - 0s 7ms/step - loss: 14.5278 - mae: 14.5278 - mse: 294.3044\n",
            "Epoch 46/100\n",
            "2/2 [==============================] - 0s 7ms/step - loss: 16.8487 - mae: 16.8487 - mse: 394.1107\n",
            "Epoch 47/100\n",
            "2/2 [==============================] - 0s 6ms/step - loss: 12.2677 - mae: 12.2677 - mse: 218.1861\n",
            "Epoch 48/100\n",
            "2/2 [==============================] - 0s 7ms/step - loss: 15.9494 - mae: 15.9494 - mse: 349.9352\n",
            "Epoch 49/100\n",
            "2/2 [==============================] - 0s 8ms/step - loss: 12.1829 - mae: 12.1829 - mse: 236.4764\n",
            "Epoch 50/100\n",
            "2/2 [==============================] - 0s 10ms/step - loss: 9.1033 - mae: 9.1033 - mse: 102.8312\n",
            "Epoch 51/100\n",
            "2/2 [==============================] - 0s 8ms/step - loss: 8.8904 - mae: 8.8904 - mse: 108.3908\n",
            "Epoch 52/100\n",
            "2/2 [==============================] - 0s 7ms/step - loss: 17.3157 - mae: 17.3157 - mse: 388.7082\n",
            "Epoch 53/100\n",
            "2/2 [==============================] - 0s 7ms/step - loss: 18.0361 - mae: 18.0361 - mse: 452.6029\n",
            "Epoch 54/100\n",
            "2/2 [==============================] - 0s 10ms/step - loss: 9.3139 - mae: 9.3139 - mse: 88.0476\n",
            "Epoch 55/100\n",
            "2/2 [==============================] - 0s 10ms/step - loss: 12.4468 - mae: 12.4468 - mse: 227.1339\n",
            "Epoch 56/100\n",
            "2/2 [==============================] - 0s 10ms/step - loss: 21.4614 - mae: 21.4614 - mse: 632.6786\n",
            "Epoch 57/100\n",
            "2/2 [==============================] - 0s 8ms/step - loss: 9.7727 - mae: 9.7727 - mse: 119.9085\n",
            "Epoch 58/100\n",
            "2/2 [==============================] - 0s 6ms/step - loss: 8.8052 - mae: 8.8052 - mse: 107.8755\n",
            "Epoch 59/100\n",
            "2/2 [==============================] - 0s 6ms/step - loss: 11.2880 - mae: 11.2880 - mse: 202.4993\n",
            "Epoch 60/100\n",
            "2/2 [==============================] - 0s 10ms/step - loss: 9.3007 - mae: 9.3007 - mse: 89.4337\n",
            "Epoch 61/100\n",
            "2/2 [==============================] - 0s 10ms/step - loss: 9.1346 - mae: 9.1346 - mse: 129.0637\n",
            "Epoch 62/100\n",
            "2/2 [==============================] - 0s 7ms/step - loss: 12.7799 - mae: 12.7799 - mse: 245.2363\n",
            "Epoch 63/100\n",
            "2/2 [==============================] - 0s 7ms/step - loss: 12.8223 - mae: 12.8223 - mse: 242.4020\n",
            "Epoch 64/100\n",
            "2/2 [==============================] - 0s 7ms/step - loss: 15.2931 - mae: 15.2931 - mse: 352.3448\n",
            "Epoch 65/100\n",
            "2/2 [==============================] - 0s 8ms/step - loss: 9.1483 - mae: 9.1483 - mse: 87.6630\n",
            "Epoch 66/100\n",
            "2/2 [==============================] - 0s 8ms/step - loss: 10.1492 - mae: 10.1492 - mse: 145.0606\n",
            "Epoch 67/100\n",
            "2/2 [==============================] - 0s 7ms/step - loss: 19.3422 - mae: 19.3422 - mse: 486.8310\n",
            "Epoch 68/100\n",
            "2/2 [==============================] - 0s 7ms/step - loss: 9.5434 - mae: 9.5434 - mse: 147.5700\n",
            "Epoch 69/100\n",
            "2/2 [==============================] - 0s 8ms/step - loss: 9.9824 - mae: 9.9824 - mse: 160.8664\n",
            "Epoch 70/100\n",
            "2/2 [==============================] - 0s 7ms/step - loss: 9.2189 - mae: 9.2189 - mse: 87.4288\n",
            "Epoch 71/100\n",
            "2/2 [==============================] - 0s 7ms/step - loss: 14.5880 - mae: 14.5880 - mse: 303.5905\n",
            "Epoch 72/100\n",
            "2/2 [==============================] - 0s 8ms/step - loss: 11.5246 - mae: 11.5246 - mse: 185.7373\n",
            "Epoch 73/100\n",
            "2/2 [==============================] - 0s 8ms/step - loss: 22.2314 - mae: 22.2314 - mse: 720.2492\n",
            "Epoch 74/100\n",
            "2/2 [==============================] - 0s 8ms/step - loss: 8.3230 - mae: 8.3230 - mse: 116.7075\n",
            "Epoch 75/100\n",
            "2/2 [==============================] - 0s 8ms/step - loss: 9.7675 - mae: 9.7675 - mse: 145.1786\n",
            "Epoch 76/100\n",
            "2/2 [==============================] - 0s 7ms/step - loss: 12.7092 - mae: 12.7092 - mse: 242.3203\n",
            "Epoch 77/100\n",
            "2/2 [==============================] - 0s 10ms/step - loss: 21.2218 - mae: 21.2218 - mse: 609.5204\n",
            "Epoch 78/100\n",
            "2/2 [==============================] - 0s 7ms/step - loss: 9.1741 - mae: 9.1741 - mse: 104.9746\n",
            "Epoch 79/100\n",
            "2/2 [==============================] - 0s 9ms/step - loss: 17.3528 - mae: 17.3528 - mse: 419.3430\n",
            "Epoch 80/100\n",
            "2/2 [==============================] - 0s 8ms/step - loss: 15.9974 - mae: 15.9974 - mse: 360.9630\n",
            "Epoch 81/100\n",
            "2/2 [==============================] - 0s 7ms/step - loss: 19.3671 - mae: 19.3671 - mse: 552.9092\n",
            "Epoch 82/100\n",
            "2/2 [==============================] - 0s 9ms/step - loss: 14.7459 - mae: 14.7459 - mse: 284.1465\n",
            "Epoch 83/100\n",
            "2/2 [==============================] - 0s 12ms/step - loss: 10.0531 - mae: 10.0531 - mse: 160.1757\n",
            "Epoch 84/100\n",
            "2/2 [==============================] - 0s 9ms/step - loss: 9.1302 - mae: 9.1302 - mse: 87.6160\n",
            "Epoch 85/100\n",
            "2/2 [==============================] - 0s 8ms/step - loss: 8.4168 - mae: 8.4168 - mse: 91.7055\n",
            "Epoch 86/100\n",
            "2/2 [==============================] - 0s 7ms/step - loss: 12.4931 - mae: 12.4931 - mse: 237.4524\n",
            "Epoch 87/100\n",
            "2/2 [==============================] - 0s 7ms/step - loss: 20.1653 - mae: 20.1653 - mse: 571.4882\n",
            "Epoch 88/100\n",
            "2/2 [==============================] - 0s 7ms/step - loss: 12.1228 - mae: 12.1228 - mse: 216.2096\n",
            "Epoch 89/100\n",
            "2/2 [==============================] - 0s 7ms/step - loss: 15.2198 - mae: 15.2198 - mse: 352.6341\n",
            "Epoch 90/100\n",
            "2/2 [==============================] - 0s 7ms/step - loss: 7.2934 - mae: 7.2934 - mse: 88.7804\n",
            "Epoch 91/100\n",
            "2/2 [==============================] - 0s 7ms/step - loss: 11.6341 - mae: 11.6341 - mse: 206.0276\n",
            "Epoch 92/100\n",
            "2/2 [==============================] - 0s 7ms/step - loss: 14.2867 - mae: 14.2867 - mse: 304.8540\n",
            "Epoch 93/100\n",
            "2/2 [==============================] - 0s 8ms/step - loss: 13.4677 - mae: 13.4677 - mse: 246.6688\n",
            "Epoch 94/100\n",
            "2/2 [==============================] - 0s 11ms/step - loss: 17.2177 - mae: 17.2177 - mse: 478.7929\n",
            "Epoch 95/100\n",
            "2/2 [==============================] - 0s 10ms/step - loss: 17.8518 - mae: 17.8518 - mse: 478.3694\n",
            "Epoch 96/100\n",
            "2/2 [==============================] - 0s 12ms/step - loss: 10.7230 - mae: 10.7230 - mse: 185.2604\n",
            "Epoch 97/100\n",
            "2/2 [==============================] - 0s 12ms/step - loss: 9.3968 - mae: 9.3968 - mse: 112.3055\n",
            "Epoch 98/100\n",
            "2/2 [==============================] - 0s 7ms/step - loss: 9.3606 - mae: 9.3606 - mse: 105.8275\n",
            "Epoch 99/100\n",
            "2/2 [==============================] - 0s 7ms/step - loss: 20.6398 - mae: 20.6398 - mse: 633.0889\n",
            "Epoch 100/100\n",
            "2/2 [==============================] - 0s 7ms/step - loss: 9.3921 - mae: 9.3921 - mse: 104.0903\n"
          ]
        },
        {
          "output_type": "execute_result",
          "data": {
            "text/plain": [
              "<keras.src.callbacks.History at 0x7dc396466ec0>"
            ]
          },
          "metadata": {},
          "execution_count": 36
        }
      ],
      "source": [
        "# BUILDING model_1\n",
        "model_1 = tf.keras.Sequential([\n",
        "    tf.keras.layers.Dense(units = 1)\n",
        "])\n",
        "\n",
        "model_1.compile(loss = 'mae',\n",
        "                optimizer = tf.keras.optimizers.SGD(),\n",
        "                metrics = ['mae', 'mse'])\n",
        "\n",
        "model_1.fit(tf.expand_dims(X_train, axis = -1), y_train, epochs = 100)"
      ]
    },
    {
      "cell_type": "code",
      "execution_count": null,
      "metadata": {
        "colab": {
          "base_uri": "https://localhost:8080/",
          "height": 578
        },
        "id": "JTw-hdBiHGAK",
        "outputId": "22e32bde-039b-44df-ddb6-b03ff8c901b2"
      },
      "outputs": [
        {
          "output_type": "stream",
          "name": "stderr",
          "text": [
            "WARNING:tensorflow:6 out of the last 6 calls to <function Model.make_predict_function.<locals>.predict_function at 0x7dc3b00c5000> triggered tf.function retracing. Tracing is expensive and the excessive number of tracings could be due to (1) creating @tf.function repeatedly in a loop, (2) passing tensors with different shapes, (3) passing Python objects instead of tensors. For (1), please define your @tf.function outside of the loop. For (2), @tf.function has reduce_retracing=True option that can avoid unnecessary retracing. For (3), please refer to https://www.tensorflow.org/guide/function#controlling_retracing and https://www.tensorflow.org/api_docs/python/tf/function for  more details.\n"
          ]
        },
        {
          "output_type": "stream",
          "name": "stdout",
          "text": [
            "1/1 [==============================] - 0s 77ms/step\n"
          ]
        },
        {
          "output_type": "display_data",
          "data": {
            "text/plain": [
              "<Figure size 800x600 with 1 Axes>"
            ],
            "image/png": "[encoded data removed]"
          },
          "metadata": {}
        }
      ],
      "source": [
        "# Making predictions with model_1 and plotting them\n",
        "y_pred_1 = model_1.predict(X_test)\n",
        "plot_predictions(predictions = y_pred_1)"
      ]
    },
    {
      "cell_type": "code",
      "execution_count": null,
      "metadata": {
        "colab": {
          "base_uri": "https://localhost:8080/"
        },
        "id": "1_hi3PiIHr5W",
        "outputId": "8eccebf5-aa79-4db9-ff22-edc4c457f5f5"
      },
      "outputs": [
        {
          "output_type": "execute_result",
          "data": {
            "text/plain": [
              "{'MAE': 16.541035, 'MSE': 440.77744, 'RMSE': 20.994700171775122}"
            ]
          },
          "metadata": {},
          "execution_count": 38
        }
      ],
      "source": [
        "# Getting evaluation metrics for model_1\n",
        "model_1_results = regression_metrics(y_test, y_pred_1)\n",
        "model_1_results"
      ]
    },
    {
      "cell_type": "code",
      "execution_count": null,
      "metadata": {
        "colab": {
          "base_uri": "https://localhost:8080/"
        },
        "id": "NdV6UHbLIC4m",
        "outputId": "f3a1a343-456b-427d-e813-559ec447d68b"
      },
      "outputs": [
        {
          "output_type": "execute_result",
          "data": {
            "text/plain": [
              "{'model_1': {'MAE': 16.541035, 'MSE': 440.77744, 'RMSE': 20.994700171775122}}"
            ]
          },
          "metadata": {},
          "execution_count": 39
        }
      ],
      "source": [
        "# Adding model_1 results to a dictionary the will contain all the results for the four experiments\n",
        "experiments = {}\n",
        "experiments['model_1'] = model_1_results\n",
        "experiments"
      ]
    },
    {
      "cell_type": "code",
      "execution_count": null,
      "metadata": {
        "colab": {
          "base_uri": "https://localhost:8080/"
        },
        "id": "AJFXUNBoIizo",
        "outputId": "57c1bfba-8057-4c14-9ee7-1a03626653b2"
      },
      "outputs": [
        {
          "output_type": "stream",
          "name": "stdout",
          "text": [
            "Epoch 1/100\n",
            "2/2 [==============================] - 0s 11ms/step - loss: 39.7812 - mae: 39.7812 - mse: 2175.5376\n",
            "Epoch 2/100\n",
            "2/2 [==============================] - 0s 8ms/step - loss: 23.7285 - mae: 23.7285 - mse: 871.0008\n",
            "Epoch 3/100\n",
            "2/2 [==============================] - 0s 7ms/step - loss: 32.0508 - mae: 32.0508 - mse: 1344.4359\n",
            "Epoch 4/100\n",
            "2/2 [==============================] - 0s 7ms/step - loss: 24.2952 - mae: 24.2952 - mse: 779.3193\n",
            "Epoch 5/100\n",
            "2/2 [==============================] - 0s 6ms/step - loss: 25.4674 - mae: 25.4674 - mse: 947.8391\n",
            "Epoch 6/100\n",
            "2/2 [==============================] - 0s 7ms/step - loss: 10.2845 - mae: 10.2845 - mse: 119.5557\n",
            "Epoch 7/100\n",
            "2/2 [==============================] - 0s 10ms/step - loss: 41.4667 - mae: 41.4667 - mse: 2224.2505\n",
            "Epoch 8/100\n",
            "2/2 [==============================] - 0s 7ms/step - loss: 17.8390 - mae: 17.8390 - mse: 520.2903\n",
            "Epoch 9/100\n",
            "2/2 [==============================] - 0s 7ms/step - loss: 40.8780 - mae: 40.8780 - mse: 2283.5479\n",
            "Epoch 10/100\n",
            "2/2 [==============================] - 0s 7ms/step - loss: 12.5267 - mae: 12.5267 - mse: 271.1326\n",
            "Epoch 11/100\n",
            "2/2 [==============================] - 0s 7ms/step - loss: 39.0314 - mae: 39.0314 - mse: 2018.2610\n",
            "Epoch 12/100\n",
            "2/2 [==============================] - 0s 7ms/step - loss: 11.7744 - mae: 11.7744 - mse: 195.0904\n",
            "Epoch 13/100\n",
            "2/2 [==============================] - 0s 7ms/step - loss: 36.3029 - mae: 36.3029 - mse: 1785.5492\n",
            "Epoch 14/100\n",
            "2/2 [==============================] - 0s 6ms/step - loss: 16.0554 - mae: 16.0554 - mse: 386.3356\n",
            "Epoch 15/100\n",
            "2/2 [==============================] - 0s 8ms/step - loss: 14.2972 - mae: 14.2972 - mse: 349.8862\n",
            "Epoch 16/100\n",
            "2/2 [==============================] - 0s 6ms/step - loss: 15.9752 - mae: 15.9752 - mse: 401.5250\n",
            "Epoch 17/100\n",
            "2/2 [==============================] - 0s 6ms/step - loss: 13.5097 - mae: 13.5097 - mse: 286.3385\n",
            "Epoch 18/100\n",
            "2/2 [==============================] - 0s 6ms/step - loss: 19.1523 - mae: 19.1523 - mse: 528.4921\n",
            "Epoch 19/100\n",
            "2/2 [==============================] - 0s 6ms/step - loss: 33.9893 - mae: 33.9893 - mse: 1612.8834\n",
            "Epoch 20/100\n",
            "2/2 [==============================] - 0s 7ms/step - loss: 26.1682 - mae: 26.1682 - mse: 953.1887\n",
            "Epoch 21/100\n",
            "2/2 [==============================] - 0s 8ms/step - loss: 19.6853 - mae: 19.6853 - mse: 542.1284\n",
            "Epoch 22/100\n",
            "2/2 [==============================] - 0s 7ms/step - loss: 32.0655 - mae: 32.0655 - mse: 1463.3119\n",
            "Epoch 23/100\n",
            "2/2 [==============================] - 0s 7ms/step - loss: 22.3429 - mae: 22.3429 - mse: 777.1343\n",
            "Epoch 24/100\n",
            "2/2 [==============================] - 0s 6ms/step - loss: 16.3105 - mae: 16.3105 - mse: 479.7140\n",
            "Epoch 25/100\n",
            "2/2 [==============================] - 0s 10ms/step - loss: 33.7809 - mae: 33.7809 - mse: 1547.6681\n",
            "Epoch 26/100\n",
            "2/2 [==============================] - 0s 6ms/step - loss: 31.6567 - mae: 31.6567 - mse: 1373.8303\n",
            "Epoch 27/100\n",
            "2/2 [==============================] - 0s 6ms/step - loss: 9.2460 - mae: 9.2460 - mse: 107.7259\n",
            "Epoch 28/100\n",
            "2/2 [==============================] - 0s 6ms/step - loss: 21.9053 - mae: 21.9053 - mse: 675.1622\n",
            "Epoch 29/100\n",
            "2/2 [==============================] - 0s 7ms/step - loss: 26.2807 - mae: 26.2807 - mse: 981.4261\n",
            "Epoch 30/100\n",
            "2/2 [==============================] - 0s 10ms/step - loss: 19.2866 - mae: 19.2866 - mse: 540.1980\n",
            "Epoch 31/100\n",
            "2/2 [==============================] - 0s 7ms/step - loss: 42.1040 - mae: 42.1040 - mse: 2374.8655\n",
            "Epoch 32/100\n",
            "2/2 [==============================] - 0s 7ms/step - loss: 17.2156 - mae: 17.2156 - mse: 538.8336\n",
            "Epoch 33/100\n",
            "2/2 [==============================] - 0s 7ms/step - loss: 30.3839 - mae: 30.3839 - mse: 1225.0110\n",
            "Epoch 34/100\n",
            "2/2 [==============================] - 0s 6ms/step - loss: 47.6159 - mae: 47.6159 - mse: 3001.4180\n",
            "Epoch 35/100\n",
            "2/2 [==============================] - 0s 6ms/step - loss: 21.7647 - mae: 21.7647 - mse: 666.8435\n",
            "Epoch 36/100\n",
            "2/2 [==============================] - 0s 7ms/step - loss: 21.7959 - mae: 21.7959 - mse: 708.4354\n",
            "Epoch 37/100\n",
            "2/2 [==============================] - 0s 7ms/step - loss: 21.7100 - mae: 21.7100 - mse: 666.8547\n",
            "Epoch 38/100\n",
            "2/2 [==============================] - 0s 10ms/step - loss: 33.9718 - mae: 33.9718 - mse: 1632.4246\n",
            "Epoch 39/100\n",
            "2/2 [==============================] - 0s 7ms/step - loss: 21.1856 - mae: 21.1856 - mse: 672.8467\n",
            "Epoch 40/100\n",
            "2/2 [==============================] - 0s 7ms/step - loss: 18.7451 - mae: 18.7451 - mse: 596.6183\n",
            "Epoch 41/100\n",
            "2/2 [==============================] - 0s 9ms/step - loss: 31.9616 - mae: 31.9616 - mse: 1438.4066\n",
            "Epoch 42/100\n",
            "2/2 [==============================] - 0s 7ms/step - loss: 27.5160 - mae: 27.5160 - mse: 1057.8149\n",
            "Epoch 43/100\n",
            "2/2 [==============================] - 0s 7ms/step - loss: 18.2398 - mae: 18.2398 - mse: 468.5923\n",
            "Epoch 44/100\n",
            "2/2 [==============================] - 0s 7ms/step - loss: 35.5525 - mae: 35.5525 - mse: 1728.1985\n",
            "Epoch 45/100\n",
            "2/2 [==============================] - 0s 7ms/step - loss: 24.1022 - mae: 24.1022 - mse: 843.9928\n",
            "Epoch 46/100\n",
            "2/2 [==============================] - 0s 7ms/step - loss: 14.6131 - mae: 14.6131 - mse: 382.2925\n",
            "Epoch 47/100\n",
            "2/2 [==============================] - 0s 6ms/step - loss: 36.7152 - mae: 36.7152 - mse: 1813.4502\n",
            "Epoch 48/100\n",
            "2/2 [==============================] - 0s 6ms/step - loss: 14.2026 - mae: 14.2026 - mse: 347.2979\n",
            "Epoch 49/100\n",
            "2/2 [==============================] - 0s 6ms/step - loss: 9.3023 - mae: 9.3023 - mse: 89.0447\n",
            "Epoch 50/100\n",
            "2/2 [==============================] - 0s 7ms/step - loss: 20.8404 - mae: 20.8404 - mse: 580.5937\n",
            "Epoch 51/100\n",
            "2/2 [==============================] - 0s 7ms/step - loss: 10.3677 - mae: 10.3677 - mse: 153.9263\n",
            "Epoch 52/100\n",
            "2/2 [==============================] - 0s 7ms/step - loss: 26.2693 - mae: 26.2693 - mse: 1011.1996\n",
            "Epoch 53/100\n",
            "2/2 [==============================] - 0s 7ms/step - loss: 27.7825 - mae: 27.7825 - mse: 1142.4343\n",
            "Epoch 54/100\n",
            "2/2 [==============================] - 0s 7ms/step - loss: 35.4799 - mae: 35.4799 - mse: 1697.1055\n",
            "Epoch 55/100\n",
            "2/2 [==============================] - 0s 7ms/step - loss: 9.1836 - mae: 9.1836 - mse: 85.8780\n",
            "Epoch 56/100\n",
            "2/2 [==============================] - 0s 7ms/step - loss: 26.8829 - mae: 26.8829 - mse: 1004.5306\n",
            "Epoch 57/100\n",
            "2/2 [==============================] - 0s 7ms/step - loss: 9.2688 - mae: 9.2688 - mse: 92.8957\n",
            "Epoch 58/100\n",
            "2/2 [==============================] - 0s 6ms/step - loss: 18.8158 - mae: 18.8158 - mse: 554.3303\n",
            "Epoch 59/100\n",
            "2/2 [==============================] - 0s 7ms/step - loss: 29.1905 - mae: 29.1905 - mse: 1194.9197\n",
            "Epoch 60/100\n",
            "2/2 [==============================] - 0s 7ms/step - loss: 16.2615 - mae: 16.2615 - mse: 491.5588\n",
            "Epoch 61/100\n",
            "2/2 [==============================] - 0s 8ms/step - loss: 23.1341 - mae: 23.1341 - mse: 772.9725\n",
            "Epoch 62/100\n",
            "2/2 [==============================] - 0s 8ms/step - loss: 44.7094 - mae: 44.7094 - mse: 2697.7290\n",
            "Epoch 63/100\n",
            "2/2 [==============================] - 0s 7ms/step - loss: 9.8719 - mae: 9.8719 - mse: 135.7080\n",
            "Epoch 64/100\n",
            "2/2 [==============================] - 0s 7ms/step - loss: 36.6662 - mae: 36.6662 - mse: 1816.7480\n",
            "Epoch 65/100\n",
            "2/2 [==============================] - 0s 7ms/step - loss: 14.6729 - mae: 14.6729 - mse: 365.5607\n",
            "Epoch 66/100\n",
            "2/2 [==============================] - 0s 7ms/step - loss: 13.3457 - mae: 13.3457 - mse: 307.8210\n",
            "Epoch 67/100\n",
            "2/2 [==============================] - 0s 9ms/step - loss: 14.8685 - mae: 14.8685 - mse: 361.8649\n",
            "Epoch 68/100\n",
            "2/2 [==============================] - 0s 11ms/step - loss: 18.5694 - mae: 18.5694 - mse: 515.7282\n",
            "Epoch 69/100\n",
            "2/2 [==============================] - 0s 10ms/step - loss: 23.8295 - mae: 23.8295 - mse: 787.1997\n",
            "Epoch 70/100\n",
            "2/2 [==============================] - 0s 7ms/step - loss: 22.0503 - mae: 22.0503 - mse: 653.7596\n",
            "Epoch 71/100\n",
            "2/2 [==============================] - 0s 7ms/step - loss: 30.5879 - mae: 30.5879 - mse: 1337.0396\n",
            "Epoch 72/100\n",
            "2/2 [==============================] - 0s 7ms/step - loss: 32.7318 - mae: 32.7318 - mse: 1470.9612\n",
            "Epoch 73/100\n",
            "2/2 [==============================] - 0s 6ms/step - loss: 16.7486 - mae: 16.7486 - mse: 448.2794\n",
            "Epoch 74/100\n",
            "2/2 [==============================] - 0s 7ms/step - loss: 12.2920 - mae: 12.2920 - mse: 211.2432\n",
            "Epoch 75/100\n",
            "2/2 [==============================] - 0s 7ms/step - loss: 32.9951 - mae: 32.9951 - mse: 1437.6830\n",
            "Epoch 76/100\n",
            "2/2 [==============================] - 0s 7ms/step - loss: 19.2471 - mae: 19.2471 - mse: 600.8615\n",
            "Epoch 77/100\n",
            "2/2 [==============================] - 0s 6ms/step - loss: 39.8448 - mae: 39.8448 - mse: 2160.3289\n",
            "Epoch 78/100\n",
            "2/2 [==============================] - 0s 7ms/step - loss: 8.4709 - mae: 8.4709 - mse: 117.1566\n",
            "Epoch 79/100\n",
            "2/2 [==============================] - 0s 7ms/step - loss: 18.1981 - mae: 18.1981 - mse: 596.0974\n",
            "Epoch 80/100\n",
            "2/2 [==============================] - 0s 7ms/step - loss: 29.6054 - mae: 29.6054 - mse: 1225.7406\n",
            "Epoch 81/100\n",
            "2/2 [==============================] - 0s 8ms/step - loss: 45.6415 - mae: 45.6415 - mse: 2773.3713\n",
            "Epoch 82/100\n",
            "2/2 [==============================] - 0s 7ms/step - loss: 12.7425 - mae: 12.7425 - mse: 290.5651\n",
            "Epoch 83/100\n",
            "2/2 [==============================] - 0s 9ms/step - loss: 12.4747 - mae: 12.4747 - mse: 237.1282\n",
            "Epoch 84/100\n",
            "2/2 [==============================] - 0s 7ms/step - loss: 9.1544 - mae: 9.1544 - mse: 102.2048\n",
            "Epoch 85/100\n",
            "2/2 [==============================] - 0s 8ms/step - loss: 27.7212 - mae: 27.7212 - mse: 1050.5872\n",
            "Epoch 86/100\n",
            "2/2 [==============================] - 0s 7ms/step - loss: 9.5233 - mae: 9.5233 - mse: 113.1392\n",
            "Epoch 87/100\n",
            "2/2 [==============================] - 0s 10ms/step - loss: 48.3944 - mae: 48.3944 - mse: 3179.2295\n",
            "Epoch 88/100\n",
            "2/2 [==============================] - 0s 7ms/step - loss: 14.7500 - mae: 14.7500 - mse: 380.2035\n",
            "Epoch 89/100\n",
            "2/2 [==============================] - 0s 7ms/step - loss: 10.3973 - mae: 10.3973 - mse: 131.9775\n",
            "Epoch 90/100\n",
            "2/2 [==============================] - 0s 7ms/step - loss: 39.6599 - mae: 39.6599 - mse: 2161.7449\n",
            "Epoch 91/100\n",
            "2/2 [==============================] - 0s 7ms/step - loss: 9.1487 - mae: 9.1487 - mse: 107.0144\n",
            "Epoch 92/100\n",
            "2/2 [==============================] - 0s 7ms/step - loss: 20.1094 - mae: 20.1094 - mse: 524.8199\n",
            "Epoch 93/100\n",
            "2/2 [==============================] - 0s 7ms/step - loss: 30.2621 - mae: 30.2621 - mse: 1312.3083\n",
            "Epoch 94/100\n",
            "2/2 [==============================] - 0s 7ms/step - loss: 43.0807 - mae: 43.0807 - mse: 2528.7490\n",
            "Epoch 95/100\n",
            "2/2 [==============================] - 0s 7ms/step - loss: 13.2833 - mae: 13.2833 - mse: 268.4369\n",
            "Epoch 96/100\n",
            "2/2 [==============================] - 0s 7ms/step - loss: 16.8788 - mae: 16.8788 - mse: 503.3828\n",
            "Epoch 97/100\n",
            "2/2 [==============================] - 0s 7ms/step - loss: 14.5230 - mae: 14.5230 - mse: 392.8978\n",
            "Epoch 98/100\n",
            "2/2 [==============================] - 0s 7ms/step - loss: 18.8398 - mae: 18.8398 - mse: 472.8192\n",
            "Epoch 99/100\n",
            "2/2 [==============================] - 0s 6ms/step - loss: 38.1698 - mae: 38.1698 - mse: 1984.2830\n",
            "Epoch 100/100\n",
            "2/2 [==============================] - 0s 6ms/step - loss: 8.6796 - mae: 8.6796 - mse: 99.3382\n"
          ]
        },
        {
          "output_type": "execute_result",
          "data": {
            "text/plain": [
              "<keras.src.callbacks.History at 0x7dc398f5d690>"
            ]
          },
          "metadata": {},
          "execution_count": 40
        }
      ],
      "source": [
        "# BUILDING model_2\n",
        "model_2 = tf.keras.Sequential([\n",
        "    tf.keras.layers.Dense(units = 50),\n",
        "    tf.keras.layers.Dense(units = 1)\n",
        "])\n",
        "\n",
        "model_2.compile(loss = 'mae',\n",
        "                optimizer = tf.keras.optimizers.SGD(),\n",
        "                metrics = ['mae', 'mse'])\n",
        "\n",
        "model_2.fit(tf.expand_dims(X_train, axis = -1), y_train, epochs = 100)"
      ]
    },
    {
      "cell_type": "code",
      "execution_count": null,
      "metadata": {
        "colab": {
          "base_uri": "https://localhost:8080/",
          "height": 540
        },
        "id": "sEbPNLMFJtod",
        "outputId": "17d4d888-24a0-438f-d860-710f2240cebf"
      },
      "outputs": [
        {
          "output_type": "stream",
          "name": "stdout",
          "text": [
            "1/1 [==============================] - 0s 50ms/step\n"
          ]
        },
        {
          "output_type": "display_data",
          "data": {
            "text/plain": [
              "<Figure size 800x600 with 1 Axes>"
            ],
            "image/png": "[encoded data removed]"
          },
          "metadata": {}
        }
      ],
      "source": [
        "# Making predictions with model_1 and plotting them\n",
        "y_pred_2 = model_2.predict(X_test)\n",
        "plot_predictions(predictions = y_pred_2)"
      ]
    },
    {
      "cell_type": "code",
      "execution_count": null,
      "metadata": {
        "colab": {
          "base_uri": "https://localhost:8080/"
        },
        "id": "rQHPBM-ZJ3-H",
        "outputId": "84bbc152-b227-4be9-8df9-137bff7391ed"
      },
      "outputs": [
        {
          "output_type": "execute_result",
          "data": {
            "text/plain": [
              "{'MAE': 28.567383, 'MSE': 1263.4565, 'RMSE': 35.54513388593086}"
            ]
          },
          "metadata": {},
          "execution_count": 42
        }
      ],
      "source": [
        "# Getting evaluation metrics for model_2\n",
        "model_2_results = regression_metrics(y_test, y_pred_2)\n",
        "model_2_results"
      ]
    },
    {
      "cell_type": "code",
      "execution_count": null,
      "metadata": {
        "colab": {
          "base_uri": "https://localhost:8080/"
        },
        "id": "5fII_lltJ_Tn",
        "outputId": "85732416-a2e5-49f5-e8f9-61ba6f20f72d"
      },
      "outputs": [
        {
          "output_type": "execute_result",
          "data": {
            "text/plain": [
              "{'model_1': {'MAE': 16.541035, 'MSE': 440.77744, 'RMSE': 20.994700171775122},\n",
              " 'model_2': {'MAE': 28.567383, 'MSE': 1263.4565, 'RMSE': 35.54513388593086}}"
            ]
          },
          "metadata": {},
          "execution_count": 43
        }
      ],
      "source": [
        "# Adding model_2 results to a dictionary the will contain all the results for the four experiments\n",
        "experiments['model_2'] = model_2_results\n",
        "experiments"
      ]
    },
    {
      "cell_type": "code",
      "execution_count": null,
      "metadata": {
        "colab": {
          "base_uri": "https://localhost:8080/"
        },
        "id": "Rg_IGMH6KItG",
        "outputId": "aaa4bc64-34c5-48a8-b1c7-e749e04e8171"
      },
      "outputs": [
        {
          "output_type": "execute_result",
          "data": {
            "text/plain": [
              "<keras.src.callbacks.History at 0x7dc398d35300>"
            ]
          },
          "metadata": {},
          "execution_count": 44
        }
      ],
      "source": [
        "# BUILDING model_3\n",
        "model_3 = tf.keras.Sequential([\n",
        "    tf.keras.layers.Dense(units = 50),\n",
        "    tf.keras.layers.Dense(units = 1)\n",
        "])\n",
        "\n",
        "model_3.compile(loss = 'mae',\n",
        "                optimizer = tf.keras.optimizers.SGD(),\n",
        "                metrics = ['mae','mse'])\n",
        "\n",
        "model_3.fit(tf.expand_dims(X_train, axis = -1), y_train, epochs = 500, verbose = 0)"
      ]
    },
    {
      "cell_type": "code",
      "execution_count": null,
      "metadata": {
        "colab": {
          "base_uri": "https://localhost:8080/",
          "height": 540
        },
        "id": "nSastjoYKh--",
        "outputId": "de4abd0e-54e3-4130-ac4e-a20ceaecff02"
      },
      "outputs": [
        {
          "output_type": "stream",
          "name": "stdout",
          "text": [
            "1/1 [==============================] - 0s 47ms/step\n"
          ]
        },
        {
          "output_type": "display_data",
          "data": {
            "text/plain": [
              "<Figure size 800x600 with 1 Axes>"
            ],
            "image/png": "[encoded data removed]"
          },
          "metadata": {}
        }
      ],
      "source": [
        "y_pred_3 = model_3.predict(X_test)\n",
        "plot_predictions(predictions = y_pred_3)"
      ]
    },
    {
      "cell_type": "code",
      "execution_count": null,
      "metadata": {
        "colab": {
          "base_uri": "https://localhost:8080/"
        },
        "id": "sStNFx3zKuRK",
        "outputId": "61332ea0-987a-4eac-9b86-33e9beb1ab25"
      },
      "outputs": [
        {
          "output_type": "execute_result",
          "data": {
            "text/plain": [
              "{'MAE': 31.321415, 'MSE': 1505.6713, 'RMSE': 38.80298010009589}"
            ]
          },
          "metadata": {},
          "execution_count": 46
        }
      ],
      "source": [
        "model_3_results = regression_metrics(y_test, y_pred_3)\n",
        "model_3_results"
      ]
    },
    {
      "cell_type": "code",
      "execution_count": null,
      "metadata": {
        "colab": {
          "base_uri": "https://localhost:8080/"
        },
        "id": "jtNvsSK5K1E9",
        "outputId": "59991a18-fc90-480c-c4e9-be031eda922d"
      },
      "outputs": [
        {
          "output_type": "execute_result",
          "data": {
            "text/plain": [
              "{'model_1': {'MAE': 16.541035, 'MSE': 440.77744, 'RMSE': 20.994700171775122},\n",
              " 'model_2': {'MAE': 28.567383, 'MSE': 1263.4565, 'RMSE': 35.54513388593086},\n",
              " 'model_3': {'MAE': 31.321415, 'MSE': 1505.6713, 'RMSE': 38.80298010009589}}"
            ]
          },
          "metadata": {},
          "execution_count": 47
        }
      ],
      "source": [
        "experiments['model_3'] = model_3_results\n",
        "experiments"
      ]
    },
    {
      "cell_type": "code",
      "execution_count": null,
      "metadata": {
        "colab": {
          "base_uri": "https://localhost:8080/"
        },
        "id": "tmDPCOq_K77L",
        "outputId": "5c01279a-276a-4edf-98cb-4c1a93969ab2"
      },
      "outputs": [
        {
          "output_type": "execute_result",
          "data": {
            "text/plain": [
              "<keras.src.callbacks.History at 0x7dc398c42860>"
            ]
          },
          "metadata": {},
          "execution_count": 48
        }
      ],
      "source": [
        "# BUILDING model_4\n",
        "model_4 = tf.keras.Sequential([\n",
        "    tf.keras.layers.Dense(units = 100),\n",
        "    tf.keras.layers.Dense(units = 50),\n",
        "    tf.keras.layers.Dense(units = 1)\n",
        "])\n",
        "\n",
        "model_4.compile(loss = 'mae',\n",
        "                optimizer = tf.keras.optimizers.SGD())\n",
        "\n",
        "model_4.fit(tf.expand_dims(X_train, axis = -1), y_train, epochs = 100, verbose = 0)"
      ]
    },
    {
      "cell_type": "code",
      "execution_count": null,
      "metadata": {
        "colab": {
          "base_uri": "https://localhost:8080/",
          "height": 540
        },
        "id": "MJJypoQeLZrI",
        "outputId": "ee531fc8-5ed9-4f1e-928d-ffaf52b4bbd6"
      },
      "outputs": [
        {
          "output_type": "stream",
          "name": "stdout",
          "text": [
            "1/1 [==============================] - 0s 51ms/step\n"
          ]
        },
        {
          "output_type": "display_data",
          "data": {
            "text/plain": [
              "<Figure size 800x600 with 1 Axes>"
            ],
            "image/png": "[encoded data removed]"
          },
          "metadata": {}
        }
      ],
      "source": [
        "y_pred_4 = model_4.predict(X_test)\n",
        "plot_predictions(predictions = y_pred_4)"
      ]
    },
    {
      "cell_type": "code",
      "execution_count": null,
      "metadata": {
        "colab": {
          "base_uri": "https://localhost:8080/"
        },
        "id": "Cf6eMsHmLjb9",
        "outputId": "ba77b89b-69cf-49f0-b89c-5244efd68967"
      },
      "outputs": [
        {
          "output_type": "execute_result",
          "data": {
            "text/plain": [
              "{'MAE': 13.898544, 'MSE': 266.0324, 'RMSE': 16.310499982157776}"
            ]
          },
          "metadata": {},
          "execution_count": 50
        }
      ],
      "source": [
        "model_4_results = regression_metrics(y_test, y_pred_4)\n",
        "model_4_results"
      ]
    },
    {
      "cell_type": "code",
      "execution_count": null,
      "metadata": {
        "colab": {
          "base_uri": "https://localhost:8080/"
        },
        "id": "IqfWYNTMLq1N",
        "outputId": "972d9820-b28f-4bf2-9c7c-34c350e08139"
      },
      "outputs": [
        {
          "output_type": "execute_result",
          "data": {
            "text/plain": [
              "{'model_1': {'MAE': 16.541035, 'MSE': 440.77744, 'RMSE': 20.994700171775122},\n",
              " 'model_2': {'MAE': 28.567383, 'MSE': 1263.4565, 'RMSE': 35.54513388593086},\n",
              " 'model_3': {'MAE': 31.321415, 'MSE': 1505.6713, 'RMSE': 38.80298010009589},\n",
              " 'model_4': {'MAE': 13.898544, 'MSE': 266.0324, 'RMSE': 16.310499982157776}}"
            ]
          },
          "metadata": {},
          "execution_count": 51
        }
      ],
      "source": [
        "experiments['model_4'] = model_4_results\n",
        "experiments"
      ]
    },
    {
      "cell_type": "code",
      "execution_count": null,
      "metadata": {
        "colab": {
          "base_uri": "https://localhost:8080/",
          "height": 175
        },
        "id": "TyRXtEtvLw7Q",
        "outputId": "331077dd-0aa5-47d3-fde5-1489f26e2c84"
      },
      "outputs": [
        {
          "output_type": "execute_result",
          "data": {
            "text/plain": [
              "               MAE          MSE       RMSE\n",
              "model_1  16.541035   440.777435  20.994700\n",
              "model_2  28.567383  1263.456543  35.545134\n",
              "model_3  31.321415  1505.671265  38.802980\n",
              "model_4  13.898544   266.032410  16.310500"
            ],
            "text/html": [
              "\n",
              "  <div id=\"df-2e0330e1-56e5-4215-9b2b-d521d0e8c708\" class=\"colab-df-container\">\n",
              "    <div>\n",
              "<style scoped>\n",
              "    .dataframe tbody tr th:only-of-type {\n",
              "        vertical-align: middle;\n",
              "    }\n",
              "\n",
              "    .dataframe tbody tr th {\n",
              "        vertical-align: top;\n",
              "    }\n",
              "\n",
              "    .dataframe thead th {\n",
              "        text-align: right;\n",
              "    }\n",
              "</style>\n",
              "<table border=\"1\" class=\"dataframe\">\n",
              "  <thead>\n",
              "    <tr style=\"text-align: right;\">\n",
              "      <th></th>\n",
              "      <th>MAE</th>\n",
              "      <th>MSE</th>\n",
              "      <th>RMSE</th>\n",
              "    </tr>\n",
              "  </thead>\n",
              "  <tbody>\n",
              "    <tr>\n",
              "      <th>model_1</th>\n",
              "      <td>16.541035</td>\n",
              "      <td>440.777435</td>\n",
              "      <td>20.994700</td>\n",
              "    </tr>\n",
              "    <tr>\n",
              "      <th>model_2</th>\n",
              "      <td>28.567383</td>\n",
              "      <td>1263.456543</td>\n",
              "      <td>35.545134</td>\n",
              "    </tr>\n",
              "    <tr>\n",
              "      <th>model_3</th>\n",
              "      <td>31.321415</td>\n",
              "      <td>1505.671265</td>\n",
              "      <td>38.802980</td>\n",
              "    </tr>\n",
              "    <tr>\n",
              "      <th>model_4</th>\n",
              "      <td>13.898544</td>\n",
              "      <td>266.032410</td>\n",
              "      <td>16.310500</td>\n",
              "    </tr>\n",
              "  </tbody>\n",
              "</table>\n",
              "</div>\n",
              "    <div class=\"colab-df-buttons\">\n",
              "\n",
              "  <div class=\"colab-df-container\">\n",
              "    <button class=\"colab-df-convert\" onclick=\"convertToInteractive('df-2e0330e1-56e5-4215-9b2b-d521d0e8c708')\"\n",
              "            title=\"Convert this dataframe to an interactive table.\"\n",
              "            style=\"display:none;\">\n",
              "\n",
              "  <svg xmlns=\"http://www.w3.org/2000/svg\" height=\"24px\" viewBox=\"0 -960 960 960\">\n",
              "    <path d=\"M120-120v-720h720v720H120Zm60-500h600v-160H180v160Zm220 220h160v-160H400v160Zm0 220h160v-160H400v160ZM180-400h160v-160H180v160Zm440 0h160v-160H620v160ZM180-180h160v-160H180v160Zm440 0h160v-160H620v160Z\"/>\n",
              "  </svg>\n",
              "    </button>\n",
              "\n",
              "  <style>\n",
              "    .colab-df-container {\n",
              "      display:flex;\n",
              "      gap: 12px;\n",
              "    }\n",
              "\n",
              "    .colab-df-convert {\n",
              "      background-color: #E8F0FE;\n",
              "      border: none;\n",
              "      border-radius: 50%;\n",
              "      cursor: pointer;\n",
              "      display: none;\n",
              "      fill: #1967D2;\n",
              "      height: 32px;\n",
              "      padding: 0 0 0 0;\n",
              "      width: 32px;\n",
              "    }\n",
              "\n",
              "    .colab-df-convert:hover {\n",
              "      background-color: #E2EBFA;\n",
              "      box-shadow: 0px 1px 2px rgba(60, 64, 67, 0.3), 0px 1px 3px 1px rgba(60, 64, 67, 0.15);\n",
              "      fill: #174EA6;\n",
              "    }\n",
              "\n",
              "    .colab-df-buttons div {\n",
              "      margin-bottom: 4px;\n",
              "    }\n",
              "\n",
              "    [theme=dark] .colab-df-convert {\n",
              "      background-color: #3B4455;\n",
              "      fill: #D2E3FC;\n",
              "    }\n",
              "\n",
              "    [theme=dark] .colab-df-convert:hover {\n",
              "      background-color: #434B5C;\n",
              "      box-shadow: 0px 1px 3px 1px rgba(0, 0, 0, 0.15);\n",
              "      filter: drop-shadow(0px 1px 2px rgba(0, 0, 0, 0.3));\n",
              "      fill: #FFFFFF;\n",
              "    }\n",
              "  </style>\n",
              "\n",
              "    <script>\n",
              "      const buttonEl =\n",
              "        document.querySelector('#df-2e0330e1-56e5-4215-9b2b-d521d0e8c708 button.colab-df-convert');\n",
              "      buttonEl.style.display =\n",
              "        google.colab.kernel.accessAllowed ? 'block' : 'none';\n",
              "\n",
              "      async function convertToInteractive(key) {\n",
              "        const element = document.querySelector('#df-2e0330e1-56e5-4215-9b2b-d521d0e8c708');\n",
              "        const dataTable =\n",
              "          await google.colab.kernel.invokeFunction('convertToInteractive',\n",
              "                                                    [key], {});\n",
              "        if (!dataTable) return;\n",
              "\n",
              "        const docLinkHtml = 'Like what you see? Visit the ' +\n",
              "          '<a target=\"_blank\" href=https://colab.research.google.com/notebooks/data_table.ipynb>data table notebook</a>'\n",
              "          + ' to learn more about interactive tables.';\n",
              "        element.innerHTML = '';\n",
              "        dataTable['output_type'] = 'display_data';\n",
              "        await google.colab.output.renderOutput(dataTable, element);\n",
              "        const docLink = document.createElement('div');\n",
              "        docLink.innerHTML = docLinkHtml;\n",
              "        element.appendChild(docLink);\n",
              "      }\n",
              "    </script>\n",
              "  </div>\n",
              "\n",
              "\n",
              "<div id=\"df-544a77a9-ea95-47c5-8ff5-237b98b3445e\">\n",
              "  <button class=\"colab-df-quickchart\" onclick=\"quickchart('df-544a77a9-ea95-47c5-8ff5-237b98b3445e')\"\n",
              "            title=\"Suggest charts\"\n",
              "            style=\"display:none;\">\n",
              "\n",
              "<svg xmlns=\"http://www.w3.org/2000/svg\" height=\"24px\"viewBox=\"0 0 24 24\"\n",
              "     width=\"24px\">\n",
              "    <g>\n",
              "        <path d=\"M19 3H5c-1.1 0-2 .9-2 2v14c0 1.1.9 2 2 2h14c1.1 0 2-.9 2-2V5c0-1.1-.9-2-2-2zM9 17H7v-7h2v7zm4 0h-2V7h2v10zm4 0h-2v-4h2v4z\"/>\n",
              "    </g>\n",
              "</svg>\n",
              "  </button>\n",
              "\n",
              "<style>\n",
              "  .colab-df-quickchart {\n",
              "      --bg-color: #E8F0FE;\n",
              "      --fill-color: #1967D2;\n",
              "      --hover-bg-color: #E2EBFA;\n",
              "      --hover-fill-color: #174EA6;\n",
              "      --disabled-fill-color: #AAA;\n",
              "      --disabled-bg-color: #DDD;\n",
              "  }\n",
              "\n",
              "  [theme=dark] .colab-df-quickchart {\n",
              "      --bg-color: #3B4455;\n",
              "      --fill-color: #D2E3FC;\n",
              "      --hover-bg-color: #434B5C;\n",
              "      --hover-fill-color: #FFFFFF;\n",
              "      --disabled-bg-color: #3B4455;\n",
              "      --disabled-fill-color: #666;\n",
              "  }\n",
              "\n",
              "  .colab-df-quickchart {\n",
              "    background-color: var(--bg-color);\n",
              "    border: none;\n",
              "    border-radius: 50%;\n",
              "    cursor: pointer;\n",
              "    display: none;\n",
              "    fill: var(--fill-color);\n",
              "    height: 32px;\n",
              "    padding: 0;\n",
              "    width: 32px;\n",
              "  }\n",
              "\n",
              "  .colab-df-quickchart:hover {\n",
              "    background-color: var(--hover-bg-color);\n",
              "    box-shadow: 0 1px 2px rgba(60, 64, 67, 0.3), 0 1px 3px 1px rgba(60, 64, 67, 0.15);\n",
              "    fill: var(--button-hover-fill-color);\n",
              "  }\n",
              "\n",
              "  .colab-df-quickchart-complete:disabled,\n",
              "  .colab-df-quickchart-complete:disabled:hover {\n",
              "    background-color: var(--disabled-bg-color);\n",
              "    fill: var(--disabled-fill-color);\n",
              "    box-shadow: none;\n",
              "  }\n",
              "\n",
              "  .colab-df-spinner {\n",
              "    border: 2px solid var(--fill-color);\n",
              "    border-color: transparent;\n",
              "    border-bottom-color: var(--fill-color);\n",
              "    animation:\n",
              "      spin 1s steps(1) infinite;\n",
              "  }\n",
              "\n",
              "  @keyframes spin {\n",
              "    0% {\n",
              "      border-color: transparent;\n",
              "      border-bottom-color: var(--fill-color);\n",
              "      border-left-color: var(--fill-color);\n",
              "    }\n",
              "    20% {\n",
              "      border-color: transparent;\n",
              "      border-left-color: var(--fill-color);\n",
              "      border-top-color: var(--fill-color);\n",
              "    }\n",
              "    30% {\n",
              "      border-color: transparent;\n",
              "      border-left-color: var(--fill-color);\n",
              "      border-top-color: var(--fill-color);\n",
              "      border-right-color: var(--fill-color);\n",
              "    }\n",
              "    40% {\n",
              "      border-color: transparent;\n",
              "      border-right-color: var(--fill-color);\n",
              "      border-top-color: var(--fill-color);\n",
              "    }\n",
              "    60% {\n",
              "      border-color: transparent;\n",
              "      border-right-color: var(--fill-color);\n",
              "    }\n",
              "    80% {\n",
              "      border-color: transparent;\n",
              "      border-right-color: var(--fill-color);\n",
              "      border-bottom-color: var(--fill-color);\n",
              "    }\n",
              "    90% {\n",
              "      border-color: transparent;\n",
              "      border-bottom-color: var(--fill-color);\n",
              "    }\n",
              "  }\n",
              "</style>\n",
              "\n",
              "  <script>\n",
              "    async function quickchart(key) {\n",
              "      const quickchartButtonEl =\n",
              "        document.querySelector('#' + key + ' button');\n",
              "      quickchartButtonEl.disabled = true;  // To prevent multiple clicks.\n",
              "      quickchartButtonEl.classList.add('colab-df-spinner');\n",
              "      try {\n",
              "        const charts = await google.colab.kernel.invokeFunction(\n",
              "            'suggestCharts', [key], {});\n",
              "      } catch (error) {\n",
              "        console.error('Error during call to suggestCharts:', error);\n",
              "      }\n",
              "      quickchartButtonEl.classList.remove('colab-df-spinner');\n",
              "      quickchartButtonEl.classList.add('colab-df-quickchart-complete');\n",
              "    }\n",
              "    (() => {\n",
              "      let quickchartButtonEl =\n",
              "        document.querySelector('#df-544a77a9-ea95-47c5-8ff5-237b98b3445e button');\n",
              "      quickchartButtonEl.style.display =\n",
              "        google.colab.kernel.accessAllowed ? 'block' : 'none';\n",
              "    })();\n",
              "  </script>\n",
              "</div>\n",
              "    </div>\n",
              "  </div>\n"
            ],
            "application/vnd.google.colaboratory.intrinsic+json": {
              "type": "dataframe",
              "variable_name": "result_frame",
              "summary": "{\n  \"name\": \"result_frame\",\n  \"rows\": 4,\n  \"fields\": [\n    {\n      \"column\": \"MAE\",\n      \"properties\": {\n        \"dtype\": \"number\",\n        \"std\": 8.642874627292063,\n        \"min\": 13.898544311523438,\n        \"max\": 31.321414947509766,\n        \"num_unique_values\": 4,\n        \"samples\": [\n          28.5673828125,\n          13.898544311523438,\n          16.541034698486328\n        ],\n        \"semantic_type\": \"\",\n        \"description\": \"\"\n      }\n    },\n    {\n      \"column\": \"MSE\",\n      \"properties\": {\n        \"dtype\": \"number\",\n        \"std\": 607.6980452096304,\n        \"min\": 266.03240966796875,\n        \"max\": 1505.6712646484375,\n        \"num_unique_values\": 4,\n        \"samples\": [\n          1263.45654296875,\n          266.03240966796875,\n          440.7774353027344\n        ],\n        \"semantic_type\": \"\",\n        \"description\": \"\"\n      }\n    },\n    {\n      \"column\": \"RMSE\",\n      \"properties\": {\n        \"dtype\": \"number\",\n        \"std\": 10.944131044822802,\n        \"min\": 16.310499982157776,\n        \"max\": 38.80298010009589,\n        \"num_unique_values\": 4,\n        \"samples\": [\n          35.54513388593086,\n          16.310499982157776,\n          20.994700171775122\n        ],\n        \"semantic_type\": \"\",\n        \"description\": \"\"\n      }\n    }\n  ]\n}"
            }
          },
          "metadata": {},
          "execution_count": 52
        }
      ],
      "source": [
        "# Showing results as a pandas dataframe\n",
        "import pandas as pd\n",
        "result_frame = pd.DataFrame(experiments).T\n",
        "result_frame"
      ]
    },
    {
      "cell_type": "code",
      "execution_count": null,
      "metadata": {
        "colab": {
          "base_uri": "https://localhost:8080/"
        },
        "id": "kUKvdBKdJOps",
        "outputId": "838437ae-5078-4278-fcfa-714d07092a27"
      },
      "outputs": [
        {
          "output_type": "stream",
          "name": "stdout",
          "text": [
            "Model: \"sequential_8\"\n",
            "_________________________________________________________________\n",
            " Layer (type)                Output Shape              Param #   \n",
            "=================================================================\n",
            " dense_12 (Dense)            (None, 100)               200       \n",
            "                                                                 \n",
            " dense_13 (Dense)            (None, 50)                5050      \n",
            "                                                                 \n",
            " dense_14 (Dense)            (None, 1)                 51        \n",
            "                                                                 \n",
            "=================================================================\n",
            "Total params: 5301 (20.71 KB)\n",
            "Trainable params: 5301 (20.71 KB)\n",
            "Non-trainable params: 0 (0.00 Byte)\n",
            "_________________________________________________________________\n"
          ]
        }
      ],
      "source": [
        "# The best model we got is model_4 as evident by MAE and MSE.\n",
        "model_4.summary()"
      ]
    },
    {
      "cell_type": "markdown",
      "metadata": {
        "id": "ISVPuVzdLAby"
      },
      "source": [
        "#Saving & Loading the Model"
      ]
    },
    {
      "cell_type": "markdown",
      "metadata": {
        "id": "anviMdyeL2zX"
      },
      "source": [
        "Now that we got a well-performing model, it is a good idea to save it so that we can use it outside google colab in other applications.\n",
        "\n",
        "There are different formats in which we can save a TensorFlow model:\n",
        "\n",
        "1.   **SavedModel** format - A SavedModel contains a complete TensorFlow program, including trained parameters (i.e, tf.Variables) and computation. This format is not recommended as per the documentation.\n",
        "2.   **HDF5** format - a basic legacy high-level save format using the HDF5 standard. A model is saved as a .h5 file.\n",
        "3. **Keras** format - The new Keras v3 saving format, marked by the .keras extension, is a more simple, efficient format that implements name-based saving, ensuring what you load is exactly what you saved, from Python's perspective. This makes debugging much easier, and it is the recommended format for Keras.\n",
        "\n",
        "The first two are older formats and are not recommended as per the documentation. Hence, we will use the newer Keras format.\n",
        "\n"
      ]
    },
    {
      "cell_type": "code",
      "execution_count": null,
      "metadata": {
        "id": "736C6k-PJvsb"
      },
      "outputs": [],
      "source": [
        "# Saving model_4\n",
        "model_4.save('best_regress_model.keras')"
      ]
    },
    {
      "cell_type": "code",
      "execution_count": null,
      "metadata": {
        "colab": {
          "base_uri": "https://localhost:8080/"
        },
        "id": "MEBS092kNZNR",
        "outputId": "250c18d7-e95f-4897-deb5-3f63b4cdbbd9"
      },
      "outputs": [
        {
          "output_type": "stream",
          "name": "stdout",
          "text": [
            "Model: \"sequential_8\"\n",
            "_________________________________________________________________\n",
            " Layer (type)                Output Shape              Param #   \n",
            "=================================================================\n",
            " dense_12 (Dense)            (None, 100)               200       \n",
            "                                                                 \n",
            " dense_13 (Dense)            (None, 50)                5050      \n",
            "                                                                 \n",
            " dense_14 (Dense)            (None, 1)                 51        \n",
            "                                                                 \n",
            "=================================================================\n",
            "Total params: 5301 (20.71 KB)\n",
            "Trainable params: 5301 (20.71 KB)\n",
            "Non-trainable params: 0 (0.00 Byte)\n",
            "_________________________________________________________________\n"
          ]
        }
      ],
      "source": [
        "# Loading model_4\n",
        "model_4_loaded = tf.keras.models.load_model('best_regress_model.keras')\n",
        "model_4_loaded.summary()"
      ]
    },
    {
      "cell_type": "code",
      "execution_count": null,
      "metadata": {
        "colab": {
          "base_uri": "https://localhost:8080/"
        },
        "id": "qlH8PRCaOXrm",
        "outputId": "305f6ef0-d267-401a-bb69-a39868e7b8b0"
      },
      "outputs": [
        {
          "output_type": "stream",
          "name": "stdout",
          "text": [
            "1/1 [==============================] - 0s 62ms/step\n"
          ]
        },
        {
          "output_type": "execute_result",
          "data": {
            "text/plain": [
              "{'MAE': 13.898544, 'MSE': 266.0324, 'RMSE': 16.310499982157776}"
            ]
          },
          "metadata": {},
          "execution_count": 56
        }
      ],
      "source": [
        "# Checking if the model still performs well after loading\n",
        "y_pred = model_4_loaded.predict(X_test)\n",
        "\n",
        "regression_metrics(y_test, y_pred)"
      ]
    },
    {
      "cell_type": "markdown",
      "metadata": {
        "id": "5NHDwVIuUgH1"
      },
      "source": [
        "#TensorFlow Regression on a Real-World Dataset"
      ]
    },
    {
      "cell_type": "markdown",
      "metadata": {
        "id": "BXB5YwFSUnSC"
      },
      "source": [
        "Now that we've went through all the steps required to build, train, evaluate a tensorflow model on some basic manually generated dataset, it is time to perform what we've learned using a real-world dataset.\n",
        "\n",
        "More specifically, we'll leverage the pubically available [Medical Cost dataset](https://www.kaggle.com/datasets/mirichoi0218/insurance) available from Kaggle.\n",
        "\n",
        "In this dataset, We're going to try predict the cost of medical insurance (`charges`) for individuals based on a number of different parameters such as `age`, `sex`, `bmi` (body mass index), `children`, `smoking_status` and `residential_region`.\n",
        "\n"
      ]
    },
    {
      "cell_type": "code",
      "execution_count": null,
      "metadata": {
        "colab": {
          "base_uri": "https://localhost:8080/",
          "height": 206
        },
        "id": "Y-BM0RHxOomV",
        "outputId": "e2a5ba69-9046-4799-fce9-88c2b2f8df61"
      },
      "outputs": [
        {
          "output_type": "execute_result",
          "data": {
            "text/plain": [
              "   age     sex     bmi  children smoker     region      charges\n",
              "0   19  female  27.900         0    yes  southwest  16884.92400\n",
              "1   18    male  33.770         1     no  southeast   1725.55230\n",
              "2   28    male  33.000         3     no  southeast   4449.46200\n",
              "3   33    male  22.705         0     no  northwest  21984.47061\n",
              "4   32    male  28.880         0     no  northwest   3866.85520"
            ],
            "text/html": [
              "\n",
              "  <div id=\"df-c4050359-2a3f-4acf-8cd6-b3359816a4f5\" class=\"colab-df-container\">\n",
              "    <div>\n",
              "<style scoped>\n",
              "    .dataframe tbody tr th:only-of-type {\n",
              "        vertical-align: middle;\n",
              "    }\n",
              "\n",
              "    .dataframe tbody tr th {\n",
              "        vertical-align: top;\n",
              "    }\n",
              "\n",
              "    .dataframe thead th {\n",
              "        text-align: right;\n",
              "    }\n",
              "</style>\n",
              "<table border=\"1\" class=\"dataframe\">\n",
              "  <thead>\n",
              "    <tr style=\"text-align: right;\">\n",
              "      <th></th>\n",
              "      <th>age</th>\n",
              "      <th>sex</th>\n",
              "      <th>bmi</th>\n",
              "      <th>children</th>\n",
              "      <th>smoker</th>\n",
              "      <th>region</th>\n",
              "      <th>charges</th>\n",
              "    </tr>\n",
              "  </thead>\n",
              "  <tbody>\n",
              "    <tr>\n",
              "      <th>0</th>\n",
              "      <td>19</td>\n",
              "      <td>female</td>\n",
              "      <td>27.900</td>\n",
              "      <td>0</td>\n",
              "      <td>yes</td>\n",
              "      <td>southwest</td>\n",
              "      <td>16884.92400</td>\n",
              "    </tr>\n",
              "    <tr>\n",
              "      <th>1</th>\n",
              "      <td>18</td>\n",
              "      <td>male</td>\n",
              "      <td>33.770</td>\n",
              "      <td>1</td>\n",
              "      <td>no</td>\n",
              "      <td>southeast</td>\n",
              "      <td>1725.55230</td>\n",
              "    </tr>\n",
              "    <tr>\n",
              "      <th>2</th>\n",
              "      <td>28</td>\n",
              "      <td>male</td>\n",
              "      <td>33.000</td>\n",
              "      <td>3</td>\n",
              "      <td>no</td>\n",
              "      <td>southeast</td>\n",
              "      <td>4449.46200</td>\n",
              "    </tr>\n",
              "    <tr>\n",
              "      <th>3</th>\n",
              "      <td>33</td>\n",
              "      <td>male</td>\n",
              "      <td>22.705</td>\n",
              "      <td>0</td>\n",
              "      <td>no</td>\n",
              "      <td>northwest</td>\n",
              "      <td>21984.47061</td>\n",
              "    </tr>\n",
              "    <tr>\n",
              "      <th>4</th>\n",
              "      <td>32</td>\n",
              "      <td>male</td>\n",
              "      <td>28.880</td>\n",
              "      <td>0</td>\n",
              "      <td>no</td>\n",
              "      <td>northwest</td>\n",
              "      <td>3866.85520</td>\n",
              "    </tr>\n",
              "  </tbody>\n",
              "</table>\n",
              "</div>\n",
              "    <div class=\"colab-df-buttons\">\n",
              "\n",
              "  <div class=\"colab-df-container\">\n",
              "    <button class=\"colab-df-convert\" onclick=\"convertToInteractive('df-c4050359-2a3f-4acf-8cd6-b3359816a4f5')\"\n",
              "            title=\"Convert this dataframe to an interactive table.\"\n",
              "            style=\"display:none;\">\n",
              "\n",
              "  <svg xmlns=\"http://www.w3.org/2000/svg\" height=\"24px\" viewBox=\"0 -960 960 960\">\n",
              "    <path d=\"M120-120v-720h720v720H120Zm60-500h600v-160H180v160Zm220 220h160v-160H400v160Zm0 220h160v-160H400v160ZM180-400h160v-160H180v160Zm440 0h160v-160H620v160ZM180-180h160v-160H180v160Zm440 0h160v-160H620v160Z\"/>\n",
              "  </svg>\n",
              "    </button>\n",
              "\n",
              "  <style>\n",
              "    .colab-df-container {\n",
              "      display:flex;\n",
              "      gap: 12px;\n",
              "    }\n",
              "\n",
              "    .colab-df-convert {\n",
              "      background-color: #E8F0FE;\n",
              "      border: none;\n",
              "      border-radius: 50%;\n",
              "      cursor: pointer;\n",
              "      display: none;\n",
              "      fill: #1967D2;\n",
              "      height: 32px;\n",
              "      padding: 0 0 0 0;\n",
              "      width: 32px;\n",
              "    }\n",
              "\n",
              "    .colab-df-convert:hover {\n",
              "      background-color: #E2EBFA;\n",
              "      box-shadow: 0px 1px 2px rgba(60, 64, 67, 0.3), 0px 1px 3px 1px rgba(60, 64, 67, 0.15);\n",
              "      fill: #174EA6;\n",
              "    }\n",
              "\n",
              "    .colab-df-buttons div {\n",
              "      margin-bottom: 4px;\n",
              "    }\n",
              "\n",
              "    [theme=dark] .colab-df-convert {\n",
              "      background-color: #3B4455;\n",
              "      fill: #D2E3FC;\n",
              "    }\n",
              "\n",
              "    [theme=dark] .colab-df-convert:hover {\n",
              "      background-color: #434B5C;\n",
              "      box-shadow: 0px 1px 3px 1px rgba(0, 0, 0, 0.15);\n",
              "      filter: drop-shadow(0px 1px 2px rgba(0, 0, 0, 0.3));\n",
              "      fill: #FFFFFF;\n",
              "    }\n",
              "  </style>\n",
              "\n",
              "    <script>\n",
              "      const buttonEl =\n",
              "        document.querySelector('#df-c4050359-2a3f-4acf-8cd6-b3359816a4f5 button.colab-df-convert');\n",
              "      buttonEl.style.display =\n",
              "        google.colab.kernel.accessAllowed ? 'block' : 'none';\n",
              "\n",
              "      async function convertToInteractive(key) {\n",
              "        const element = document.querySelector('#df-c4050359-2a3f-4acf-8cd6-b3359816a4f5');\n",
              "        const dataTable =\n",
              "          await google.colab.kernel.invokeFunction('convertToInteractive',\n",
              "                                                    [key], {});\n",
              "        if (!dataTable) return;\n",
              "\n",
              "        const docLinkHtml = 'Like what you see? Visit the ' +\n",
              "          '<a target=\"_blank\" href=https://colab.research.google.com/notebooks/data_table.ipynb>data table notebook</a>'\n",
              "          + ' to learn more about interactive tables.';\n",
              "        element.innerHTML = '';\n",
              "        dataTable['output_type'] = 'display_data';\n",
              "        await google.colab.output.renderOutput(dataTable, element);\n",
              "        const docLink = document.createElement('div');\n",
              "        docLink.innerHTML = docLinkHtml;\n",
              "        element.appendChild(docLink);\n",
              "      }\n",
              "    </script>\n",
              "  </div>\n",
              "\n",
              "\n",
              "<div id=\"df-583b18b0-63a4-4ac6-a849-b880695660a1\">\n",
              "  <button class=\"colab-df-quickchart\" onclick=\"quickchart('df-583b18b0-63a4-4ac6-a849-b880695660a1')\"\n",
              "            title=\"Suggest charts\"\n",
              "            style=\"display:none;\">\n",
              "\n",
              "<svg xmlns=\"http://www.w3.org/2000/svg\" height=\"24px\"viewBox=\"0 0 24 24\"\n",
              "     width=\"24px\">\n",
              "    <g>\n",
              "        <path d=\"M19 3H5c-1.1 0-2 .9-2 2v14c0 1.1.9 2 2 2h14c1.1 0 2-.9 2-2V5c0-1.1-.9-2-2-2zM9 17H7v-7h2v7zm4 0h-2V7h2v10zm4 0h-2v-4h2v4z\"/>\n",
              "    </g>\n",
              "</svg>\n",
              "  </button>\n",
              "\n",
              "<style>\n",
              "  .colab-df-quickchart {\n",
              "      --bg-color: #E8F0FE;\n",
              "      --fill-color: #1967D2;\n",
              "      --hover-bg-color: #E2EBFA;\n",
              "      --hover-fill-color: #174EA6;\n",
              "      --disabled-fill-color: #AAA;\n",
              "      --disabled-bg-color: #DDD;\n",
              "  }\n",
              "\n",
              "  [theme=dark] .colab-df-quickchart {\n",
              "      --bg-color: #3B4455;\n",
              "      --fill-color: #D2E3FC;\n",
              "      --hover-bg-color: #434B5C;\n",
              "      --hover-fill-color: #FFFFFF;\n",
              "      --disabled-bg-color: #3B4455;\n",
              "      --disabled-fill-color: #666;\n",
              "  }\n",
              "\n",
              "  .colab-df-quickchart {\n",
              "    background-color: var(--bg-color);\n",
              "    border: none;\n",
              "    border-radius: 50%;\n",
              "    cursor: pointer;\n",
              "    display: none;\n",
              "    fill: var(--fill-color);\n",
              "    height: 32px;\n",
              "    padding: 0;\n",
              "    width: 32px;\n",
              "  }\n",
              "\n",
              "  .colab-df-quickchart:hover {\n",
              "    background-color: var(--hover-bg-color);\n",
              "    box-shadow: 0 1px 2px rgba(60, 64, 67, 0.3), 0 1px 3px 1px rgba(60, 64, 67, 0.15);\n",
              "    fill: var(--button-hover-fill-color);\n",
              "  }\n",
              "\n",
              "  .colab-df-quickchart-complete:disabled,\n",
              "  .colab-df-quickchart-complete:disabled:hover {\n",
              "    background-color: var(--disabled-bg-color);\n",
              "    fill: var(--disabled-fill-color);\n",
              "    box-shadow: none;\n",
              "  }\n",
              "\n",
              "  .colab-df-spinner {\n",
              "    border: 2px solid var(--fill-color);\n",
              "    border-color: transparent;\n",
              "    border-bottom-color: var(--fill-color);\n",
              "    animation:\n",
              "      spin 1s steps(1) infinite;\n",
              "  }\n",
              "\n",
              "  @keyframes spin {\n",
              "    0% {\n",
              "      border-color: transparent;\n",
              "      border-bottom-color: var(--fill-color);\n",
              "      border-left-color: var(--fill-color);\n",
              "    }\n",
              "    20% {\n",
              "      border-color: transparent;\n",
              "      border-left-color: var(--fill-color);\n",
              "      border-top-color: var(--fill-color);\n",
              "    }\n",
              "    30% {\n",
              "      border-color: transparent;\n",
              "      border-left-color: var(--fill-color);\n",
              "      border-top-color: var(--fill-color);\n",
              "      border-right-color: var(--fill-color);\n",
              "    }\n",
              "    40% {\n",
              "      border-color: transparent;\n",
              "      border-right-color: var(--fill-color);\n",
              "      border-top-color: var(--fill-color);\n",
              "    }\n",
              "    60% {\n",
              "      border-color: transparent;\n",
              "      border-right-color: var(--fill-color);\n",
              "    }\n",
              "    80% {\n",
              "      border-color: transparent;\n",
              "      border-right-color: var(--fill-color);\n",
              "      border-bottom-color: var(--fill-color);\n",
              "    }\n",
              "    90% {\n",
              "      border-color: transparent;\n",
              "      border-bottom-color: var(--fill-color);\n",
              "    }\n",
              "  }\n",
              "</style>\n",
              "\n",
              "  <script>\n",
              "    async function quickchart(key) {\n",
              "      const quickchartButtonEl =\n",
              "        document.querySelector('#' + key + ' button');\n",
              "      quickchartButtonEl.disabled = true;  // To prevent multiple clicks.\n",
              "      quickchartButtonEl.classList.add('colab-df-spinner');\n",
              "      try {\n",
              "        const charts = await google.colab.kernel.invokeFunction(\n",
              "            'suggestCharts', [key], {});\n",
              "      } catch (error) {\n",
              "        console.error('Error during call to suggestCharts:', error);\n",
              "      }\n",
              "      quickchartButtonEl.classList.remove('colab-df-spinner');\n",
              "      quickchartButtonEl.classList.add('colab-df-quickchart-complete');\n",
              "    }\n",
              "    (() => {\n",
              "      let quickchartButtonEl =\n",
              "        document.querySelector('#df-583b18b0-63a4-4ac6-a849-b880695660a1 button');\n",
              "      quickchartButtonEl.style.display =\n",
              "        google.colab.kernel.accessAllowed ? 'block' : 'none';\n",
              "    })();\n",
              "  </script>\n",
              "</div>\n",
              "    </div>\n",
              "  </div>\n"
            ],
            "application/vnd.google.colaboratory.intrinsic+json": {
              "type": "dataframe",
              "variable_name": "df",
              "summary": "{\n  \"name\": \"df\",\n  \"rows\": 1338,\n  \"fields\": [\n    {\n      \"column\": \"age\",\n      \"properties\": {\n        \"dtype\": \"number\",\n        \"std\": 14,\n        \"min\": 18,\n        \"max\": 64,\n        \"num_unique_values\": 47,\n        \"samples\": [\n          21,\n          45,\n          36\n        ],\n        \"semantic_type\": \"\",\n        \"description\": \"\"\n      }\n    },\n    {\n      \"column\": \"sex\",\n      \"properties\": {\n        \"dtype\": \"category\",\n        \"num_unique_values\": 2,\n        \"samples\": [\n          \"male\",\n          \"female\"\n        ],\n        \"semantic_type\": \"\",\n        \"description\": \"\"\n      }\n    },\n    {\n      \"column\": \"bmi\",\n      \"properties\": {\n        \"dtype\": \"number\",\n        \"std\": 6.098186911679014,\n        \"min\": 15.96,\n        \"max\": 53.13,\n        \"num_unique_values\": 548,\n        \"samples\": [\n          23.18,\n          26.885\n        ],\n        \"semantic_type\": \"\",\n        \"description\": \"\"\n      }\n    },\n    {\n      \"column\": \"children\",\n      \"properties\": {\n        \"dtype\": \"number\",\n        \"std\": 1,\n        \"min\": 0,\n        \"max\": 5,\n        \"num_unique_values\": 6,\n        \"samples\": [\n          0,\n          1\n        ],\n        \"semantic_type\": \"\",\n        \"description\": \"\"\n      }\n    },\n    {\n      \"column\": \"smoker\",\n      \"properties\": {\n        \"dtype\": \"category\",\n        \"num_unique_values\": 2,\n        \"samples\": [\n          \"no\",\n          \"yes\"\n        ],\n        \"semantic_type\": \"\",\n        \"description\": \"\"\n      }\n    },\n    {\n      \"column\": \"region\",\n      \"properties\": {\n        \"dtype\": \"category\",\n        \"num_unique_values\": 4,\n        \"samples\": [\n          \"southeast\",\n          \"northeast\"\n        ],\n        \"semantic_type\": \"\",\n        \"description\": \"\"\n      }\n    },\n    {\n      \"column\": \"charges\",\n      \"properties\": {\n        \"dtype\": \"number\",\n        \"std\": 12110.011236694001,\n        \"min\": 1121.8739,\n        \"max\": 63770.42801,\n        \"num_unique_values\": 1337,\n        \"samples\": [\n          8688.85885,\n          5708.867\n        ],\n        \"semantic_type\": \"\",\n        \"description\": \"\"\n      }\n    }\n  ]\n}"
            }
          },
          "metadata": {},
          "execution_count": 151
        }
      ],
      "source": [
        "import tensorflow as tf\n",
        "import pandas as pd\n",
        "import numpy as np\n",
        "import matplotlib.pyplot as plt\n",
        "\n",
        "df = pd.read_csv(\"https://raw.githubusercontent.com/stedy/Machine-Learning-with-R-datasets/master/insurance.csv\")\n",
        "df.head()"
      ]
    },
    {
      "cell_type": "code",
      "execution_count": null,
      "metadata": {
        "id": "T2xHR8zEWa-w",
        "colab": {
          "base_uri": "https://localhost:8080/"
        },
        "outputId": "4d9b06d5-ba89-4de3-a24b-8edc6e787ef7"
      },
      "outputs": [
        {
          "output_type": "execute_result",
          "data": {
            "text/plain": [
              "1338"
            ]
          },
          "metadata": {},
          "execution_count": 152
        }
      ],
      "source": [
        "# Checking the length of the dataset, we have 1338 entries and 7 columns\n",
        "len(df)"
      ]
    },
    {
      "cell_type": "code",
      "source": [
        "# Checking for missing values\n",
        "df.isnull().sum()"
      ],
      "metadata": {
        "colab": {
          "base_uri": "https://localhost:8080/"
        },
        "id": "dfjfPvXhW0UT",
        "outputId": "888da37d-20f9-472d-b441-1ae651205fbd"
      },
      "execution_count": null,
      "outputs": [
        {
          "output_type": "execute_result",
          "data": {
            "text/plain": [
              "age         0\n",
              "sex         0\n",
              "bmi         0\n",
              "children    0\n",
              "smoker      0\n",
              "region      0\n",
              "charges     0\n",
              "dtype: int64"
            ]
          },
          "metadata": {},
          "execution_count": 153
        }
      ]
    },
    {
      "cell_type": "markdown",
      "source": [
        "Since we have string data in the dataset, we must one-hot encode it before feeding it into a TensorFlow model."
      ],
      "metadata": {
        "id": "r657VlPyY6dF"
      }
    },
    {
      "cell_type": "code",
      "source": [
        "# One-hot encoding\n",
        "# It is important to define the dtype of the encoded features as int rather than boolean\n",
        "# So that the entire dataframe is numerical, otherwise errors could arise\n",
        "df_encoded = pd.get_dummies(df, dtype=int)\n",
        "df_encoded.head()"
      ],
      "metadata": {
        "colab": {
          "base_uri": "https://localhost:8080/",
          "height": 206
        },
        "id": "CdDfGEHLYta9",
        "outputId": "2d688501-a861-496b-a627-daf37bdc2775"
      },
      "execution_count": null,
      "outputs": [
        {
          "output_type": "execute_result",
          "data": {
            "text/plain": [
              "   age     bmi  children      charges  sex_female  sex_male  smoker_no  \\\n",
              "0   19  27.900         0  16884.92400           1         0          0   \n",
              "1   18  33.770         1   1725.55230           0         1          1   \n",
              "2   28  33.000         3   4449.46200           0         1          1   \n",
              "3   33  22.705         0  21984.47061           0         1          1   \n",
              "4   32  28.880         0   3866.85520           0         1          1   \n",
              "\n",
              "   smoker_yes  region_northeast  region_northwest  region_southeast  \\\n",
              "0           1                 0                 0                 0   \n",
              "1           0                 0                 0                 1   \n",
              "2           0                 0                 0                 1   \n",
              "3           0                 0                 1                 0   \n",
              "4           0                 0                 1                 0   \n",
              "\n",
              "   region_southwest  \n",
              "0                 1  \n",
              "1                 0  \n",
              "2                 0  \n",
              "3                 0  \n",
              "4                 0  "
            ],
            "text/html": [
              "\n",
              "  <div id=\"df-a100856a-bbca-4ed4-b638-363ae6f927cd\" class=\"colab-df-container\">\n",
              "    <div>\n",
              "<style scoped>\n",
              "    .dataframe tbody tr th:only-of-type {\n",
              "        vertical-align: middle;\n",
              "    }\n",
              "\n",
              "    .dataframe tbody tr th {\n",
              "        vertical-align: top;\n",
              "    }\n",
              "\n",
              "    .dataframe thead th {\n",
              "        text-align: right;\n",
              "    }\n",
              "</style>\n",
              "<table border=\"1\" class=\"dataframe\">\n",
              "  <thead>\n",
              "    <tr style=\"text-align: right;\">\n",
              "      <th></th>\n",
              "      <th>age</th>\n",
              "      <th>bmi</th>\n",
              "      <th>children</th>\n",
              "      <th>charges</th>\n",
              "      <th>sex_female</th>\n",
              "      <th>sex_male</th>\n",
              "      <th>smoker_no</th>\n",
              "      <th>smoker_yes</th>\n",
              "      <th>region_northeast</th>\n",
              "      <th>region_northwest</th>\n",
              "      <th>region_southeast</th>\n",
              "      <th>region_southwest</th>\n",
              "    </tr>\n",
              "  </thead>\n",
              "  <tbody>\n",
              "    <tr>\n",
              "      <th>0</th>\n",
              "      <td>19</td>\n",
              "      <td>27.900</td>\n",
              "      <td>0</td>\n",
              "      <td>16884.92400</td>\n",
              "      <td>1</td>\n",
              "      <td>0</td>\n",
              "      <td>0</td>\n",
              "      <td>1</td>\n",
              "      <td>0</td>\n",
              "      <td>0</td>\n",
              "      <td>0</td>\n",
              "      <td>1</td>\n",
              "    </tr>\n",
              "    <tr>\n",
              "      <th>1</th>\n",
              "      <td>18</td>\n",
              "      <td>33.770</td>\n",
              "      <td>1</td>\n",
              "      <td>1725.55230</td>\n",
              "      <td>0</td>\n",
              "      <td>1</td>\n",
              "      <td>1</td>\n",
              "      <td>0</td>\n",
              "      <td>0</td>\n",
              "      <td>0</td>\n",
              "      <td>1</td>\n",
              "      <td>0</td>\n",
              "    </tr>\n",
              "    <tr>\n",
              "      <th>2</th>\n",
              "      <td>28</td>\n",
              "      <td>33.000</td>\n",
              "      <td>3</td>\n",
              "      <td>4449.46200</td>\n",
              "      <td>0</td>\n",
              "      <td>1</td>\n",
              "      <td>1</td>\n",
              "      <td>0</td>\n",
              "      <td>0</td>\n",
              "      <td>0</td>\n",
              "      <td>1</td>\n",
              "      <td>0</td>\n",
              "    </tr>\n",
              "    <tr>\n",
              "      <th>3</th>\n",
              "      <td>33</td>\n",
              "      <td>22.705</td>\n",
              "      <td>0</td>\n",
              "      <td>21984.47061</td>\n",
              "      <td>0</td>\n",
              "      <td>1</td>\n",
              "      <td>1</td>\n",
              "      <td>0</td>\n",
              "      <td>0</td>\n",
              "      <td>1</td>\n",
              "      <td>0</td>\n",
              "      <td>0</td>\n",
              "    </tr>\n",
              "    <tr>\n",
              "      <th>4</th>\n",
              "      <td>32</td>\n",
              "      <td>28.880</td>\n",
              "      <td>0</td>\n",
              "      <td>3866.85520</td>\n",
              "      <td>0</td>\n",
              "      <td>1</td>\n",
              "      <td>1</td>\n",
              "      <td>0</td>\n",
              "      <td>0</td>\n",
              "      <td>1</td>\n",
              "      <td>0</td>\n",
              "      <td>0</td>\n",
              "    </tr>\n",
              "  </tbody>\n",
              "</table>\n",
              "</div>\n",
              "    <div class=\"colab-df-buttons\">\n",
              "\n",
              "  <div class=\"colab-df-container\">\n",
              "    <button class=\"colab-df-convert\" onclick=\"convertToInteractive('df-a100856a-bbca-4ed4-b638-363ae6f927cd')\"\n",
              "            title=\"Convert this dataframe to an interactive table.\"\n",
              "            style=\"display:none;\">\n",
              "\n",
              "  <svg xmlns=\"http://www.w3.org/2000/svg\" height=\"24px\" viewBox=\"0 -960 960 960\">\n",
              "    <path d=\"M120-120v-720h720v720H120Zm60-500h600v-160H180v160Zm220 220h160v-160H400v160Zm0 220h160v-160H400v160ZM180-400h160v-160H180v160Zm440 0h160v-160H620v160ZM180-180h160v-160H180v160Zm440 0h160v-160H620v160Z\"/>\n",
              "  </svg>\n",
              "    </button>\n",
              "\n",
              "  <style>\n",
              "    .colab-df-container {\n",
              "      display:flex;\n",
              "      gap: 12px;\n",
              "    }\n",
              "\n",
              "    .colab-df-convert {\n",
              "      background-color: #E8F0FE;\n",
              "      border: none;\n",
              "      border-radius: 50%;\n",
              "      cursor: pointer;\n",
              "      display: none;\n",
              "      fill: #1967D2;\n",
              "      height: 32px;\n",
              "      padding: 0 0 0 0;\n",
              "      width: 32px;\n",
              "    }\n",
              "\n",
              "    .colab-df-convert:hover {\n",
              "      background-color: #E2EBFA;\n",
              "      box-shadow: 0px 1px 2px rgba(60, 64, 67, 0.3), 0px 1px 3px 1px rgba(60, 64, 67, 0.15);\n",
              "      fill: #174EA6;\n",
              "    }\n",
              "\n",
              "    .colab-df-buttons div {\n",
              "      margin-bottom: 4px;\n",
              "    }\n",
              "\n",
              "    [theme=dark] .colab-df-convert {\n",
              "      background-color: #3B4455;\n",
              "      fill: #D2E3FC;\n",
              "    }\n",
              "\n",
              "    [theme=dark] .colab-df-convert:hover {\n",
              "      background-color: #434B5C;\n",
              "      box-shadow: 0px 1px 3px 1px rgba(0, 0, 0, 0.15);\n",
              "      filter: drop-shadow(0px 1px 2px rgba(0, 0, 0, 0.3));\n",
              "      fill: #FFFFFF;\n",
              "    }\n",
              "  </style>\n",
              "\n",
              "    <script>\n",
              "      const buttonEl =\n",
              "        document.querySelector('#df-a100856a-bbca-4ed4-b638-363ae6f927cd button.colab-df-convert');\n",
              "      buttonEl.style.display =\n",
              "        google.colab.kernel.accessAllowed ? 'block' : 'none';\n",
              "\n",
              "      async function convertToInteractive(key) {\n",
              "        const element = document.querySelector('#df-a100856a-bbca-4ed4-b638-363ae6f927cd');\n",
              "        const dataTable =\n",
              "          await google.colab.kernel.invokeFunction('convertToInteractive',\n",
              "                                                    [key], {});\n",
              "        if (!dataTable) return;\n",
              "\n",
              "        const docLinkHtml = 'Like what you see? Visit the ' +\n",
              "          '<a target=\"_blank\" href=https://colab.research.google.com/notebooks/data_table.ipynb>data table notebook</a>'\n",
              "          + ' to learn more about interactive tables.';\n",
              "        element.innerHTML = '';\n",
              "        dataTable['output_type'] = 'display_data';\n",
              "        await google.colab.output.renderOutput(dataTable, element);\n",
              "        const docLink = document.createElement('div');\n",
              "        docLink.innerHTML = docLinkHtml;\n",
              "        element.appendChild(docLink);\n",
              "      }\n",
              "    </script>\n",
              "  </div>\n",
              "\n",
              "\n",
              "<div id=\"df-daca8ac1-cb10-4caa-b1c5-8be64599301e\">\n",
              "  <button class=\"colab-df-quickchart\" onclick=\"quickchart('df-daca8ac1-cb10-4caa-b1c5-8be64599301e')\"\n",
              "            title=\"Suggest charts\"\n",
              "            style=\"display:none;\">\n",
              "\n",
              "<svg xmlns=\"http://www.w3.org/2000/svg\" height=\"24px\"viewBox=\"0 0 24 24\"\n",
              "     width=\"24px\">\n",
              "    <g>\n",
              "        <path d=\"M19 3H5c-1.1 0-2 .9-2 2v14c0 1.1.9 2 2 2h14c1.1 0 2-.9 2-2V5c0-1.1-.9-2-2-2zM9 17H7v-7h2v7zm4 0h-2V7h2v10zm4 0h-2v-4h2v4z\"/>\n",
              "    </g>\n",
              "</svg>\n",
              "  </button>\n",
              "\n",
              "<style>\n",
              "  .colab-df-quickchart {\n",
              "      --bg-color: #E8F0FE;\n",
              "      --fill-color: #1967D2;\n",
              "      --hover-bg-color: #E2EBFA;\n",
              "      --hover-fill-color: #174EA6;\n",
              "      --disabled-fill-color: #AAA;\n",
              "      --disabled-bg-color: #DDD;\n",
              "  }\n",
              "\n",
              "  [theme=dark] .colab-df-quickchart {\n",
              "      --bg-color: #3B4455;\n",
              "      --fill-color: #D2E3FC;\n",
              "      --hover-bg-color: #434B5C;\n",
              "      --hover-fill-color: #FFFFFF;\n",
              "      --disabled-bg-color: #3B4455;\n",
              "      --disabled-fill-color: #666;\n",
              "  }\n",
              "\n",
              "  .colab-df-quickchart {\n",
              "    background-color: var(--bg-color);\n",
              "    border: none;\n",
              "    border-radius: 50%;\n",
              "    cursor: pointer;\n",
              "    display: none;\n",
              "    fill: var(--fill-color);\n",
              "    height: 32px;\n",
              "    padding: 0;\n",
              "    width: 32px;\n",
              "  }\n",
              "\n",
              "  .colab-df-quickchart:hover {\n",
              "    background-color: var(--hover-bg-color);\n",
              "    box-shadow: 0 1px 2px rgba(60, 64, 67, 0.3), 0 1px 3px 1px rgba(60, 64, 67, 0.15);\n",
              "    fill: var(--button-hover-fill-color);\n",
              "  }\n",
              "\n",
              "  .colab-df-quickchart-complete:disabled,\n",
              "  .colab-df-quickchart-complete:disabled:hover {\n",
              "    background-color: var(--disabled-bg-color);\n",
              "    fill: var(--disabled-fill-color);\n",
              "    box-shadow: none;\n",
              "  }\n",
              "\n",
              "  .colab-df-spinner {\n",
              "    border: 2px solid var(--fill-color);\n",
              "    border-color: transparent;\n",
              "    border-bottom-color: var(--fill-color);\n",
              "    animation:\n",
              "      spin 1s steps(1) infinite;\n",
              "  }\n",
              "\n",
              "  @keyframes spin {\n",
              "    0% {\n",
              "      border-color: transparent;\n",
              "      border-bottom-color: var(--fill-color);\n",
              "      border-left-color: var(--fill-color);\n",
              "    }\n",
              "    20% {\n",
              "      border-color: transparent;\n",
              "      border-left-color: var(--fill-color);\n",
              "      border-top-color: var(--fill-color);\n",
              "    }\n",
              "    30% {\n",
              "      border-color: transparent;\n",
              "      border-left-color: var(--fill-color);\n",
              "      border-top-color: var(--fill-color);\n",
              "      border-right-color: var(--fill-color);\n",
              "    }\n",
              "    40% {\n",
              "      border-color: transparent;\n",
              "      border-right-color: var(--fill-color);\n",
              "      border-top-color: var(--fill-color);\n",
              "    }\n",
              "    60% {\n",
              "      border-color: transparent;\n",
              "      border-right-color: var(--fill-color);\n",
              "    }\n",
              "    80% {\n",
              "      border-color: transparent;\n",
              "      border-right-color: var(--fill-color);\n",
              "      border-bottom-color: var(--fill-color);\n",
              "    }\n",
              "    90% {\n",
              "      border-color: transparent;\n",
              "      border-bottom-color: var(--fill-color);\n",
              "    }\n",
              "  }\n",
              "</style>\n",
              "\n",
              "  <script>\n",
              "    async function quickchart(key) {\n",
              "      const quickchartButtonEl =\n",
              "        document.querySelector('#' + key + ' button');\n",
              "      quickchartButtonEl.disabled = true;  // To prevent multiple clicks.\n",
              "      quickchartButtonEl.classList.add('colab-df-spinner');\n",
              "      try {\n",
              "        const charts = await google.colab.kernel.invokeFunction(\n",
              "            'suggestCharts', [key], {});\n",
              "      } catch (error) {\n",
              "        console.error('Error during call to suggestCharts:', error);\n",
              "      }\n",
              "      quickchartButtonEl.classList.remove('colab-df-spinner');\n",
              "      quickchartButtonEl.classList.add('colab-df-quickchart-complete');\n",
              "    }\n",
              "    (() => {\n",
              "      let quickchartButtonEl =\n",
              "        document.querySelector('#df-daca8ac1-cb10-4caa-b1c5-8be64599301e button');\n",
              "      quickchartButtonEl.style.display =\n",
              "        google.colab.kernel.accessAllowed ? 'block' : 'none';\n",
              "    })();\n",
              "  </script>\n",
              "</div>\n",
              "    </div>\n",
              "  </div>\n"
            ],
            "application/vnd.google.colaboratory.intrinsic+json": {
              "type": "dataframe",
              "variable_name": "df_encoded",
              "summary": "{\n  \"name\": \"df_encoded\",\n  \"rows\": 1338,\n  \"fields\": [\n    {\n      \"column\": \"age\",\n      \"properties\": {\n        \"dtype\": \"number\",\n        \"std\": 14,\n        \"min\": 18,\n        \"max\": 64,\n        \"num_unique_values\": 47,\n        \"samples\": [\n          21,\n          45,\n          36\n        ],\n        \"semantic_type\": \"\",\n        \"description\": \"\"\n      }\n    },\n    {\n      \"column\": \"bmi\",\n      \"properties\": {\n        \"dtype\": \"number\",\n        \"std\": 6.098186911679014,\n        \"min\": 15.96,\n        \"max\": 53.13,\n        \"num_unique_values\": 548,\n        \"samples\": [\n          23.18,\n          26.885,\n          29.26\n        ],\n        \"semantic_type\": \"\",\n        \"description\": \"\"\n      }\n    },\n    {\n      \"column\": \"children\",\n      \"properties\": {\n        \"dtype\": \"number\",\n        \"std\": 1,\n        \"min\": 0,\n        \"max\": 5,\n        \"num_unique_values\": 6,\n        \"samples\": [\n          0,\n          1,\n          4\n        ],\n        \"semantic_type\": \"\",\n        \"description\": \"\"\n      }\n    },\n    {\n      \"column\": \"charges\",\n      \"properties\": {\n        \"dtype\": \"number\",\n        \"std\": 12110.011236694001,\n        \"min\": 1121.8739,\n        \"max\": 63770.42801,\n        \"num_unique_values\": 1337,\n        \"samples\": [\n          8688.85885,\n          5708.867,\n          11436.73815\n        ],\n        \"semantic_type\": \"\",\n        \"description\": \"\"\n      }\n    },\n    {\n      \"column\": \"sex_female\",\n      \"properties\": {\n        \"dtype\": \"number\",\n        \"std\": 0,\n        \"min\": 0,\n        \"max\": 1,\n        \"num_unique_values\": 2,\n        \"samples\": [\n          0,\n          1\n        ],\n        \"semantic_type\": \"\",\n        \"description\": \"\"\n      }\n    },\n    {\n      \"column\": \"sex_male\",\n      \"properties\": {\n        \"dtype\": \"number\",\n        \"std\": 0,\n        \"min\": 0,\n        \"max\": 1,\n        \"num_unique_values\": 2,\n        \"samples\": [\n          1,\n          0\n        ],\n        \"semantic_type\": \"\",\n        \"description\": \"\"\n      }\n    },\n    {\n      \"column\": \"smoker_no\",\n      \"properties\": {\n        \"dtype\": \"number\",\n        \"std\": 0,\n        \"min\": 0,\n        \"max\": 1,\n        \"num_unique_values\": 2,\n        \"samples\": [\n          1,\n          0\n        ],\n        \"semantic_type\": \"\",\n        \"description\": \"\"\n      }\n    },\n    {\n      \"column\": \"smoker_yes\",\n      \"properties\": {\n        \"dtype\": \"number\",\n        \"std\": 0,\n        \"min\": 0,\n        \"max\": 1,\n        \"num_unique_values\": 2,\n        \"samples\": [\n          0,\n          1\n        ],\n        \"semantic_type\": \"\",\n        \"description\": \"\"\n      }\n    },\n    {\n      \"column\": \"region_northeast\",\n      \"properties\": {\n        \"dtype\": \"number\",\n        \"std\": 0,\n        \"min\": 0,\n        \"max\": 1,\n        \"num_unique_values\": 2,\n        \"samples\": [\n          1,\n          0\n        ],\n        \"semantic_type\": \"\",\n        \"description\": \"\"\n      }\n    },\n    {\n      \"column\": \"region_northwest\",\n      \"properties\": {\n        \"dtype\": \"number\",\n        \"std\": 0,\n        \"min\": 0,\n        \"max\": 1,\n        \"num_unique_values\": 2,\n        \"samples\": [\n          1,\n          0\n        ],\n        \"semantic_type\": \"\",\n        \"description\": \"\"\n      }\n    },\n    {\n      \"column\": \"region_southeast\",\n      \"properties\": {\n        \"dtype\": \"number\",\n        \"std\": 0,\n        \"min\": 0,\n        \"max\": 1,\n        \"num_unique_values\": 2,\n        \"samples\": [\n          1,\n          0\n        ],\n        \"semantic_type\": \"\",\n        \"description\": \"\"\n      }\n    },\n    {\n      \"column\": \"region_southwest\",\n      \"properties\": {\n        \"dtype\": \"number\",\n        \"std\": 0,\n        \"min\": 0,\n        \"max\": 1,\n        \"num_unique_values\": 2,\n        \"samples\": [\n          0,\n          1\n        ],\n        \"semantic_type\": \"\",\n        \"description\": \"\"\n      }\n    }\n  ]\n}"
            }
          },
          "metadata": {},
          "execution_count": 157
        }
      ]
    },
    {
      "cell_type": "code",
      "source": [
        "# Defining the features and the label\n",
        "X = df_encoded.drop(\"charges\", axis=1)\n",
        "y = df_encoded[\"charges\"]"
      ],
      "metadata": {
        "id": "7C77CLnbZMCJ"
      },
      "execution_count": null,
      "outputs": []
    },
    {
      "cell_type": "code",
      "source": [
        "X.head()"
      ],
      "metadata": {
        "colab": {
          "base_uri": "https://localhost:8080/",
          "height": 206
        },
        "id": "wCsN6tCoaQhI",
        "outputId": "f05b7d3f-a6b7-436e-9751-6de49f39b4a0"
      },
      "execution_count": null,
      "outputs": [
        {
          "output_type": "execute_result",
          "data": {
            "text/plain": [
              "   age     bmi  children  sex_female  sex_male  smoker_no  smoker_yes  \\\n",
              "0   19  27.900         0           1         0          0           1   \n",
              "1   18  33.770         1           0         1          1           0   \n",
              "2   28  33.000         3           0         1          1           0   \n",
              "3   33  22.705         0           0         1          1           0   \n",
              "4   32  28.880         0           0         1          1           0   \n",
              "\n",
              "   region_northeast  region_northwest  region_southeast  region_southwest  \n",
              "0                 0                 0                 0                 1  \n",
              "1                 0                 0                 1                 0  \n",
              "2                 0                 0                 1                 0  \n",
              "3                 0                 1                 0                 0  \n",
              "4                 0                 1                 0                 0  "
            ],
            "text/html": [
              "\n",
              "  <div id=\"df-f104c93c-c402-4d70-ae5a-fde4bcefea38\" class=\"colab-df-container\">\n",
              "    <div>\n",
              "<style scoped>\n",
              "    .dataframe tbody tr th:only-of-type {\n",
              "        vertical-align: middle;\n",
              "    }\n",
              "\n",
              "    .dataframe tbody tr th {\n",
              "        vertical-align: top;\n",
              "    }\n",
              "\n",
              "    .dataframe thead th {\n",
              "        text-align: right;\n",
              "    }\n",
              "</style>\n",
              "<table border=\"1\" class=\"dataframe\">\n",
              "  <thead>\n",
              "    <tr style=\"text-align: right;\">\n",
              "      <th></th>\n",
              "      <th>age</th>\n",
              "      <th>bmi</th>\n",
              "      <th>children</th>\n",
              "      <th>sex_female</th>\n",
              "      <th>sex_male</th>\n",
              "      <th>smoker_no</th>\n",
              "      <th>smoker_yes</th>\n",
              "      <th>region_northeast</th>\n",
              "      <th>region_northwest</th>\n",
              "      <th>region_southeast</th>\n",
              "      <th>region_southwest</th>\n",
              "    </tr>\n",
              "  </thead>\n",
              "  <tbody>\n",
              "    <tr>\n",
              "      <th>0</th>\n",
              "      <td>19</td>\n",
              "      <td>27.900</td>\n",
              "      <td>0</td>\n",
              "      <td>1</td>\n",
              "      <td>0</td>\n",
              "      <td>0</td>\n",
              "      <td>1</td>\n",
              "      <td>0</td>\n",
              "      <td>0</td>\n",
              "      <td>0</td>\n",
              "      <td>1</td>\n",
              "    </tr>\n",
              "    <tr>\n",
              "      <th>1</th>\n",
              "      <td>18</td>\n",
              "      <td>33.770</td>\n",
              "      <td>1</td>\n",
              "      <td>0</td>\n",
              "      <td>1</td>\n",
              "      <td>1</td>\n",
              "      <td>0</td>\n",
              "      <td>0</td>\n",
              "      <td>0</td>\n",
              "      <td>1</td>\n",
              "      <td>0</td>\n",
              "    </tr>\n",
              "    <tr>\n",
              "      <th>2</th>\n",
              "      <td>28</td>\n",
              "      <td>33.000</td>\n",
              "      <td>3</td>\n",
              "      <td>0</td>\n",
              "      <td>1</td>\n",
              "      <td>1</td>\n",
              "      <td>0</td>\n",
              "      <td>0</td>\n",
              "      <td>0</td>\n",
              "      <td>1</td>\n",
              "      <td>0</td>\n",
              "    </tr>\n",
              "    <tr>\n",
              "      <th>3</th>\n",
              "      <td>33</td>\n",
              "      <td>22.705</td>\n",
              "      <td>0</td>\n",
              "      <td>0</td>\n",
              "      <td>1</td>\n",
              "      <td>1</td>\n",
              "      <td>0</td>\n",
              "      <td>0</td>\n",
              "      <td>1</td>\n",
              "      <td>0</td>\n",
              "      <td>0</td>\n",
              "    </tr>\n",
              "    <tr>\n",
              "      <th>4</th>\n",
              "      <td>32</td>\n",
              "      <td>28.880</td>\n",
              "      <td>0</td>\n",
              "      <td>0</td>\n",
              "      <td>1</td>\n",
              "      <td>1</td>\n",
              "      <td>0</td>\n",
              "      <td>0</td>\n",
              "      <td>1</td>\n",
              "      <td>0</td>\n",
              "      <td>0</td>\n",
              "    </tr>\n",
              "  </tbody>\n",
              "</table>\n",
              "</div>\n",
              "    <div class=\"colab-df-buttons\">\n",
              "\n",
              "  <div class=\"colab-df-container\">\n",
              "    <button class=\"colab-df-convert\" onclick=\"convertToInteractive('df-f104c93c-c402-4d70-ae5a-fde4bcefea38')\"\n",
              "            title=\"Convert this dataframe to an interactive table.\"\n",
              "            style=\"display:none;\">\n",
              "\n",
              "  <svg xmlns=\"http://www.w3.org/2000/svg\" height=\"24px\" viewBox=\"0 -960 960 960\">\n",
              "    <path d=\"M120-120v-720h720v720H120Zm60-500h600v-160H180v160Zm220 220h160v-160H400v160Zm0 220h160v-160H400v160ZM180-400h160v-160H180v160Zm440 0h160v-160H620v160ZM180-180h160v-160H180v160Zm440 0h160v-160H620v160Z\"/>\n",
              "  </svg>\n",
              "    </button>\n",
              "\n",
              "  <style>\n",
              "    .colab-df-container {\n",
              "      display:flex;\n",
              "      gap: 12px;\n",
              "    }\n",
              "\n",
              "    .colab-df-convert {\n",
              "      background-color: #E8F0FE;\n",
              "      border: none;\n",
              "      border-radius: 50%;\n",
              "      cursor: pointer;\n",
              "      display: none;\n",
              "      fill: #1967D2;\n",
              "      height: 32px;\n",
              "      padding: 0 0 0 0;\n",
              "      width: 32px;\n",
              "    }\n",
              "\n",
              "    .colab-df-convert:hover {\n",
              "      background-color: #E2EBFA;\n",
              "      box-shadow: 0px 1px 2px rgba(60, 64, 67, 0.3), 0px 1px 3px 1px rgba(60, 64, 67, 0.15);\n",
              "      fill: #174EA6;\n",
              "    }\n",
              "\n",
              "    .colab-df-buttons div {\n",
              "      margin-bottom: 4px;\n",
              "    }\n",
              "\n",
              "    [theme=dark] .colab-df-convert {\n",
              "      background-color: #3B4455;\n",
              "      fill: #D2E3FC;\n",
              "    }\n",
              "\n",
              "    [theme=dark] .colab-df-convert:hover {\n",
              "      background-color: #434B5C;\n",
              "      box-shadow: 0px 1px 3px 1px rgba(0, 0, 0, 0.15);\n",
              "      filter: drop-shadow(0px 1px 2px rgba(0, 0, 0, 0.3));\n",
              "      fill: #FFFFFF;\n",
              "    }\n",
              "  </style>\n",
              "\n",
              "    <script>\n",
              "      const buttonEl =\n",
              "        document.querySelector('#df-f104c93c-c402-4d70-ae5a-fde4bcefea38 button.colab-df-convert');\n",
              "      buttonEl.style.display =\n",
              "        google.colab.kernel.accessAllowed ? 'block' : 'none';\n",
              "\n",
              "      async function convertToInteractive(key) {\n",
              "        const element = document.querySelector('#df-f104c93c-c402-4d70-ae5a-fde4bcefea38');\n",
              "        const dataTable =\n",
              "          await google.colab.kernel.invokeFunction('convertToInteractive',\n",
              "                                                    [key], {});\n",
              "        if (!dataTable) return;\n",
              "\n",
              "        const docLinkHtml = 'Like what you see? Visit the ' +\n",
              "          '<a target=\"_blank\" href=https://colab.research.google.com/notebooks/data_table.ipynb>data table notebook</a>'\n",
              "          + ' to learn more about interactive tables.';\n",
              "        element.innerHTML = '';\n",
              "        dataTable['output_type'] = 'display_data';\n",
              "        await google.colab.output.renderOutput(dataTable, element);\n",
              "        const docLink = document.createElement('div');\n",
              "        docLink.innerHTML = docLinkHtml;\n",
              "        element.appendChild(docLink);\n",
              "      }\n",
              "    </script>\n",
              "  </div>\n",
              "\n",
              "\n",
              "<div id=\"df-b721dbe2-500b-4205-9809-daa739f416ba\">\n",
              "  <button class=\"colab-df-quickchart\" onclick=\"quickchart('df-b721dbe2-500b-4205-9809-daa739f416ba')\"\n",
              "            title=\"Suggest charts\"\n",
              "            style=\"display:none;\">\n",
              "\n",
              "<svg xmlns=\"http://www.w3.org/2000/svg\" height=\"24px\"viewBox=\"0 0 24 24\"\n",
              "     width=\"24px\">\n",
              "    <g>\n",
              "        <path d=\"M19 3H5c-1.1 0-2 .9-2 2v14c0 1.1.9 2 2 2h14c1.1 0 2-.9 2-2V5c0-1.1-.9-2-2-2zM9 17H7v-7h2v7zm4 0h-2V7h2v10zm4 0h-2v-4h2v4z\"/>\n",
              "    </g>\n",
              "</svg>\n",
              "  </button>\n",
              "\n",
              "<style>\n",
              "  .colab-df-quickchart {\n",
              "      --bg-color: #E8F0FE;\n",
              "      --fill-color: #1967D2;\n",
              "      --hover-bg-color: #E2EBFA;\n",
              "      --hover-fill-color: #174EA6;\n",
              "      --disabled-fill-color: #AAA;\n",
              "      --disabled-bg-color: #DDD;\n",
              "  }\n",
              "\n",
              "  [theme=dark] .colab-df-quickchart {\n",
              "      --bg-color: #3B4455;\n",
              "      --fill-color: #D2E3FC;\n",
              "      --hover-bg-color: #434B5C;\n",
              "      --hover-fill-color: #FFFFFF;\n",
              "      --disabled-bg-color: #3B4455;\n",
              "      --disabled-fill-color: #666;\n",
              "  }\n",
              "\n",
              "  .colab-df-quickchart {\n",
              "    background-color: var(--bg-color);\n",
              "    border: none;\n",
              "    border-radius: 50%;\n",
              "    cursor: pointer;\n",
              "    display: none;\n",
              "    fill: var(--fill-color);\n",
              "    height: 32px;\n",
              "    padding: 0;\n",
              "    width: 32px;\n",
              "  }\n",
              "\n",
              "  .colab-df-quickchart:hover {\n",
              "    background-color: var(--hover-bg-color);\n",
              "    box-shadow: 0 1px 2px rgba(60, 64, 67, 0.3), 0 1px 3px 1px rgba(60, 64, 67, 0.15);\n",
              "    fill: var(--button-hover-fill-color);\n",
              "  }\n",
              "\n",
              "  .colab-df-quickchart-complete:disabled,\n",
              "  .colab-df-quickchart-complete:disabled:hover {\n",
              "    background-color: var(--disabled-bg-color);\n",
              "    fill: var(--disabled-fill-color);\n",
              "    box-shadow: none;\n",
              "  }\n",
              "\n",
              "  .colab-df-spinner {\n",
              "    border: 2px solid var(--fill-color);\n",
              "    border-color: transparent;\n",
              "    border-bottom-color: var(--fill-color);\n",
              "    animation:\n",
              "      spin 1s steps(1) infinite;\n",
              "  }\n",
              "\n",
              "  @keyframes spin {\n",
              "    0% {\n",
              "      border-color: transparent;\n",
              "      border-bottom-color: var(--fill-color);\n",
              "      border-left-color: var(--fill-color);\n",
              "    }\n",
              "    20% {\n",
              "      border-color: transparent;\n",
              "      border-left-color: var(--fill-color);\n",
              "      border-top-color: var(--fill-color);\n",
              "    }\n",
              "    30% {\n",
              "      border-color: transparent;\n",
              "      border-left-color: var(--fill-color);\n",
              "      border-top-color: var(--fill-color);\n",
              "      border-right-color: var(--fill-color);\n",
              "    }\n",
              "    40% {\n",
              "      border-color: transparent;\n",
              "      border-right-color: var(--fill-color);\n",
              "      border-top-color: var(--fill-color);\n",
              "    }\n",
              "    60% {\n",
              "      border-color: transparent;\n",
              "      border-right-color: var(--fill-color);\n",
              "    }\n",
              "    80% {\n",
              "      border-color: transparent;\n",
              "      border-right-color: var(--fill-color);\n",
              "      border-bottom-color: var(--fill-color);\n",
              "    }\n",
              "    90% {\n",
              "      border-color: transparent;\n",
              "      border-bottom-color: var(--fill-color);\n",
              "    }\n",
              "  }\n",
              "</style>\n",
              "\n",
              "  <script>\n",
              "    async function quickchart(key) {\n",
              "      const quickchartButtonEl =\n",
              "        document.querySelector('#' + key + ' button');\n",
              "      quickchartButtonEl.disabled = true;  // To prevent multiple clicks.\n",
              "      quickchartButtonEl.classList.add('colab-df-spinner');\n",
              "      try {\n",
              "        const charts = await google.colab.kernel.invokeFunction(\n",
              "            'suggestCharts', [key], {});\n",
              "      } catch (error) {\n",
              "        console.error('Error during call to suggestCharts:', error);\n",
              "      }\n",
              "      quickchartButtonEl.classList.remove('colab-df-spinner');\n",
              "      quickchartButtonEl.classList.add('colab-df-quickchart-complete');\n",
              "    }\n",
              "    (() => {\n",
              "      let quickchartButtonEl =\n",
              "        document.querySelector('#df-b721dbe2-500b-4205-9809-daa739f416ba button');\n",
              "      quickchartButtonEl.style.display =\n",
              "        google.colab.kernel.accessAllowed ? 'block' : 'none';\n",
              "    })();\n",
              "  </script>\n",
              "</div>\n",
              "    </div>\n",
              "  </div>\n"
            ],
            "application/vnd.google.colaboratory.intrinsic+json": {
              "type": "dataframe",
              "variable_name": "X",
              "summary": "{\n  \"name\": \"X\",\n  \"rows\": 1338,\n  \"fields\": [\n    {\n      \"column\": \"age\",\n      \"properties\": {\n        \"dtype\": \"number\",\n        \"std\": 14,\n        \"min\": 18,\n        \"max\": 64,\n        \"num_unique_values\": 47,\n        \"samples\": [\n          21,\n          45,\n          36\n        ],\n        \"semantic_type\": \"\",\n        \"description\": \"\"\n      }\n    },\n    {\n      \"column\": \"bmi\",\n      \"properties\": {\n        \"dtype\": \"number\",\n        \"std\": 6.098186911679014,\n        \"min\": 15.96,\n        \"max\": 53.13,\n        \"num_unique_values\": 548,\n        \"samples\": [\n          23.18,\n          26.885,\n          29.26\n        ],\n        \"semantic_type\": \"\",\n        \"description\": \"\"\n      }\n    },\n    {\n      \"column\": \"children\",\n      \"properties\": {\n        \"dtype\": \"number\",\n        \"std\": 1,\n        \"min\": 0,\n        \"max\": 5,\n        \"num_unique_values\": 6,\n        \"samples\": [\n          0,\n          1,\n          4\n        ],\n        \"semantic_type\": \"\",\n        \"description\": \"\"\n      }\n    },\n    {\n      \"column\": \"sex_female\",\n      \"properties\": {\n        \"dtype\": \"number\",\n        \"std\": 0,\n        \"min\": 0,\n        \"max\": 1,\n        \"num_unique_values\": 2,\n        \"samples\": [\n          0,\n          1\n        ],\n        \"semantic_type\": \"\",\n        \"description\": \"\"\n      }\n    },\n    {\n      \"column\": \"sex_male\",\n      \"properties\": {\n        \"dtype\": \"number\",\n        \"std\": 0,\n        \"min\": 0,\n        \"max\": 1,\n        \"num_unique_values\": 2,\n        \"samples\": [\n          1,\n          0\n        ],\n        \"semantic_type\": \"\",\n        \"description\": \"\"\n      }\n    },\n    {\n      \"column\": \"smoker_no\",\n      \"properties\": {\n        \"dtype\": \"number\",\n        \"std\": 0,\n        \"min\": 0,\n        \"max\": 1,\n        \"num_unique_values\": 2,\n        \"samples\": [\n          1,\n          0\n        ],\n        \"semantic_type\": \"\",\n        \"description\": \"\"\n      }\n    },\n    {\n      \"column\": \"smoker_yes\",\n      \"properties\": {\n        \"dtype\": \"number\",\n        \"std\": 0,\n        \"min\": 0,\n        \"max\": 1,\n        \"num_unique_values\": 2,\n        \"samples\": [\n          0,\n          1\n        ],\n        \"semantic_type\": \"\",\n        \"description\": \"\"\n      }\n    },\n    {\n      \"column\": \"region_northeast\",\n      \"properties\": {\n        \"dtype\": \"number\",\n        \"std\": 0,\n        \"min\": 0,\n        \"max\": 1,\n        \"num_unique_values\": 2,\n        \"samples\": [\n          1,\n          0\n        ],\n        \"semantic_type\": \"\",\n        \"description\": \"\"\n      }\n    },\n    {\n      \"column\": \"region_northwest\",\n      \"properties\": {\n        \"dtype\": \"number\",\n        \"std\": 0,\n        \"min\": 0,\n        \"max\": 1,\n        \"num_unique_values\": 2,\n        \"samples\": [\n          1,\n          0\n        ],\n        \"semantic_type\": \"\",\n        \"description\": \"\"\n      }\n    },\n    {\n      \"column\": \"region_southeast\",\n      \"properties\": {\n        \"dtype\": \"number\",\n        \"std\": 0,\n        \"min\": 0,\n        \"max\": 1,\n        \"num_unique_values\": 2,\n        \"samples\": [\n          1,\n          0\n        ],\n        \"semantic_type\": \"\",\n        \"description\": \"\"\n      }\n    },\n    {\n      \"column\": \"region_southwest\",\n      \"properties\": {\n        \"dtype\": \"number\",\n        \"std\": 0,\n        \"min\": 0,\n        \"max\": 1,\n        \"num_unique_values\": 2,\n        \"samples\": [\n          0,\n          1\n        ],\n        \"semantic_type\": \"\",\n        \"description\": \"\"\n      }\n    }\n  ]\n}"
            }
          },
          "metadata": {},
          "execution_count": 159
        }
      ]
    },
    {
      "cell_type": "code",
      "source": [
        "y.head()"
      ],
      "metadata": {
        "colab": {
          "base_uri": "https://localhost:8080/"
        },
        "id": "ayqq4lGfaSwQ",
        "outputId": "2bbafd4b-2182-4a88-ef66-b9e7f083e5ea"
      },
      "execution_count": null,
      "outputs": [
        {
          "output_type": "execute_result",
          "data": {
            "text/plain": [
              "0    16884.92400\n",
              "1     1725.55230\n",
              "2     4449.46200\n",
              "3    21984.47061\n",
              "4     3866.85520\n",
              "Name: charges, dtype: float64"
            ]
          },
          "metadata": {},
          "execution_count": 160
        }
      ]
    },
    {
      "cell_type": "code",
      "source": [
        "# Creating the train-test split\n",
        "from sklearn.model_selection import train_test_split\n",
        "X_train, X_test, y_train, y_test = train_test_split(X,\n",
        "                                                    y,\n",
        "                                                    test_size = 0.2,\n",
        "                                                    random_state = 42)"
      ],
      "metadata": {
        "id": "96XbheTQaqg_"
      },
      "execution_count": null,
      "outputs": []
    },
    {
      "cell_type": "code",
      "source": [
        "len(X_train), len(X_test)"
      ],
      "metadata": {
        "colab": {
          "base_uri": "https://localhost:8080/"
        },
        "id": "GHLcqtSga3IT",
        "outputId": "e821e14a-cd10-4193-828b-b3532c5d3e90"
      },
      "execution_count": null,
      "outputs": [
        {
          "output_type": "execute_result",
          "data": {
            "text/plain": [
              "(1070, 268)"
            ]
          },
          "metadata": {},
          "execution_count": 162
        }
      ]
    },
    {
      "cell_type": "code",
      "source": [
        "# Building the model\n",
        "tf.random.set_seed(42)\n",
        "\n",
        "model = tf.keras.Sequential([\n",
        "  tf.keras.layers.Dense(100),\n",
        "  tf.keras.layers.Dense(1)\n",
        "])\n",
        "\n",
        "# Compile the model\n",
        "model.compile(loss = tf.keras.losses.mae,\n",
        "              optimizer = tf.keras.optimizers.SGD(),\n",
        "              metrics = ['mae'])\n",
        "\n",
        "# Fit the model\n",
        "model.fit(X_train, y_train, epochs=100)"
      ],
      "metadata": {
        "colab": {
          "base_uri": "https://localhost:8080/"
        },
        "id": "5Xyayv3NC4Jq",
        "outputId": "03bfa9c2-a9d3-4636-ca7e-bbdedacb5e80"
      },
      "execution_count": null,
      "outputs": [
        {
          "output_type": "stream",
          "name": "stdout",
          "text": [
            "Epoch 1/100\n",
            "34/34 [==============================] - 1s 3ms/step - loss: 8579.3076 - mae: 8579.3076\n",
            "Epoch 2/100\n",
            "34/34 [==============================] - 0s 2ms/step - loss: 7766.7251 - mae: 7766.7251\n",
            "Epoch 3/100\n",
            "34/34 [==============================] - 0s 2ms/step - loss: 7617.1270 - mae: 7617.1270\n",
            "Epoch 4/100\n",
            "34/34 [==============================] - 0s 2ms/step - loss: 7774.2109 - mae: 7774.2109\n",
            "Epoch 5/100\n",
            "34/34 [==============================] - 0s 2ms/step - loss: 7646.1143 - mae: 7646.1143\n",
            "Epoch 6/100\n",
            "34/34 [==============================] - 0s 2ms/step - loss: 7660.6875 - mae: 7660.6875\n",
            "Epoch 7/100\n",
            "34/34 [==============================] - 0s 2ms/step - loss: 7574.5801 - mae: 7574.5801\n",
            "Epoch 8/100\n",
            "34/34 [==============================] - 0s 2ms/step - loss: 7759.5693 - mae: 7759.5693\n",
            "Epoch 9/100\n",
            "34/34 [==============================] - 0s 2ms/step - loss: 7525.5146 - mae: 7525.5146\n",
            "Epoch 10/100\n",
            "34/34 [==============================] - 0s 2ms/step - loss: 7664.0103 - mae: 7664.0103\n",
            "Epoch 11/100\n",
            "34/34 [==============================] - 0s 2ms/step - loss: 7503.8765 - mae: 7503.8765\n",
            "Epoch 12/100\n",
            "34/34 [==============================] - 0s 2ms/step - loss: 7572.6377 - mae: 7572.6377\n",
            "Epoch 13/100\n",
            "34/34 [==============================] - 0s 2ms/step - loss: 7671.8423 - mae: 7671.8423\n",
            "Epoch 14/100\n",
            "34/34 [==============================] - 0s 2ms/step - loss: 7794.3418 - mae: 7794.3418\n",
            "Epoch 15/100\n",
            "34/34 [==============================] - 0s 2ms/step - loss: 7422.4302 - mae: 7422.4302\n",
            "Epoch 16/100\n",
            "34/34 [==============================] - 0s 2ms/step - loss: 7784.5669 - mae: 7784.5669\n",
            "Epoch 17/100\n",
            "34/34 [==============================] - 0s 3ms/step - loss: 7544.3789 - mae: 7544.3789\n",
            "Epoch 18/100\n",
            "34/34 [==============================] - 0s 2ms/step - loss: 7821.2812 - mae: 7821.2812\n",
            "Epoch 19/100\n",
            "34/34 [==============================] - 0s 2ms/step - loss: 7759.7930 - mae: 7759.7930\n",
            "Epoch 20/100\n",
            "34/34 [==============================] - 0s 2ms/step - loss: 7956.4727 - mae: 7956.4727\n",
            "Epoch 21/100\n",
            "34/34 [==============================] - 0s 2ms/step - loss: 7535.6650 - mae: 7535.6650\n",
            "Epoch 22/100\n",
            "34/34 [==============================] - 0s 2ms/step - loss: 7882.8149 - mae: 7882.8149\n",
            "Epoch 23/100\n",
            "34/34 [==============================] - 0s 2ms/step - loss: 7653.4565 - mae: 7653.4565\n",
            "Epoch 24/100\n",
            "34/34 [==============================] - 0s 2ms/step - loss: 7527.1006 - mae: 7527.1006\n",
            "Epoch 25/100\n",
            "34/34 [==============================] - 0s 3ms/step - loss: 7493.4546 - mae: 7493.4546\n",
            "Epoch 26/100\n",
            "34/34 [==============================] - 0s 2ms/step - loss: 7682.9355 - mae: 7682.9355\n",
            "Epoch 27/100\n",
            "34/34 [==============================] - 0s 2ms/step - loss: 7688.8237 - mae: 7688.8237\n",
            "Epoch 28/100\n",
            "34/34 [==============================] - 0s 3ms/step - loss: 7364.4990 - mae: 7364.4990\n",
            "Epoch 29/100\n",
            "34/34 [==============================] - 0s 2ms/step - loss: 7657.8423 - mae: 7657.8423\n",
            "Epoch 30/100\n",
            "34/34 [==============================] - 0s 3ms/step - loss: 7571.9023 - mae: 7571.9023\n",
            "Epoch 31/100\n",
            "34/34 [==============================] - 0s 3ms/step - loss: 7720.9839 - mae: 7720.9839\n",
            "Epoch 32/100\n",
            "34/34 [==============================] - 0s 2ms/step - loss: 7484.4517 - mae: 7484.4517\n",
            "Epoch 33/100\n",
            "34/34 [==============================] - 0s 2ms/step - loss: 7500.1499 - mae: 7500.1499\n",
            "Epoch 34/100\n",
            "34/34 [==============================] - 0s 2ms/step - loss: 7324.9629 - mae: 7324.9629\n",
            "Epoch 35/100\n",
            "34/34 [==============================] - 0s 2ms/step - loss: 7454.1641 - mae: 7454.1641\n",
            "Epoch 36/100\n",
            "34/34 [==============================] - 0s 2ms/step - loss: 7613.0557 - mae: 7613.0557\n",
            "Epoch 37/100\n",
            "34/34 [==============================] - 0s 2ms/step - loss: 7674.3354 - mae: 7674.3354\n",
            "Epoch 38/100\n",
            "34/34 [==============================] - 0s 2ms/step - loss: 7312.6670 - mae: 7312.6670\n",
            "Epoch 39/100\n",
            "34/34 [==============================] - 0s 2ms/step - loss: 7510.4448 - mae: 7510.4448\n",
            "Epoch 40/100\n",
            "34/34 [==============================] - 0s 2ms/step - loss: 7412.9502 - mae: 7412.9502\n",
            "Epoch 41/100\n",
            "34/34 [==============================] - 0s 2ms/step - loss: 7758.5190 - mae: 7758.5190\n",
            "Epoch 42/100\n",
            "34/34 [==============================] - 0s 3ms/step - loss: 7392.9307 - mae: 7392.9307\n",
            "Epoch 43/100\n",
            "34/34 [==============================] - 0s 3ms/step - loss: 7606.6816 - mae: 7606.6816\n",
            "Epoch 44/100\n",
            "34/34 [==============================] - 0s 2ms/step - loss: 7466.3774 - mae: 7466.3774\n",
            "Epoch 45/100\n",
            "34/34 [==============================] - 0s 2ms/step - loss: 7501.6885 - mae: 7501.6885\n",
            "Epoch 46/100\n",
            "34/34 [==============================] - 0s 2ms/step - loss: 7307.9922 - mae: 7307.9922\n",
            "Epoch 47/100\n",
            "34/34 [==============================] - 0s 2ms/step - loss: 7395.2759 - mae: 7395.2759\n",
            "Epoch 48/100\n",
            "34/34 [==============================] - 0s 2ms/step - loss: 7493.7061 - mae: 7493.7061\n",
            "Epoch 49/100\n",
            "34/34 [==============================] - 0s 2ms/step - loss: 7535.6885 - mae: 7535.6885\n",
            "Epoch 50/100\n",
            "34/34 [==============================] - 0s 2ms/step - loss: 7485.2837 - mae: 7485.2837\n",
            "Epoch 51/100\n",
            "34/34 [==============================] - 0s 2ms/step - loss: 7405.7524 - mae: 7405.7524\n",
            "Epoch 52/100\n",
            "34/34 [==============================] - 0s 2ms/step - loss: 7522.2837 - mae: 7522.2837\n",
            "Epoch 53/100\n",
            "34/34 [==============================] - 0s 1ms/step - loss: 7624.1665 - mae: 7624.1665\n",
            "Epoch 54/100\n",
            "34/34 [==============================] - 0s 1ms/step - loss: 7230.9307 - mae: 7230.9307\n",
            "Epoch 55/100\n",
            "34/34 [==============================] - 0s 1ms/step - loss: 7319.0591 - mae: 7319.0591\n",
            "Epoch 56/100\n",
            "34/34 [==============================] - 0s 2ms/step - loss: 7286.8232 - mae: 7286.8232\n",
            "Epoch 57/100\n",
            "34/34 [==============================] - 0s 2ms/step - loss: 7239.3398 - mae: 7239.3398\n",
            "Epoch 58/100\n",
            "34/34 [==============================] - 0s 1ms/step - loss: 7510.8394 - mae: 7510.8394\n",
            "Epoch 59/100\n",
            "34/34 [==============================] - 0s 1ms/step - loss: 7505.3057 - mae: 7505.3057\n",
            "Epoch 60/100\n",
            "34/34 [==============================] - 0s 2ms/step - loss: 7423.3247 - mae: 7423.3247\n",
            "Epoch 61/100\n",
            "34/34 [==============================] - 0s 1ms/step - loss: 7326.0913 - mae: 7326.0913\n",
            "Epoch 62/100\n",
            "34/34 [==============================] - 0s 1ms/step - loss: 7382.8140 - mae: 7382.8140\n",
            "Epoch 63/100\n",
            "34/34 [==============================] - 0s 1ms/step - loss: 7390.5239 - mae: 7390.5239\n",
            "Epoch 64/100\n",
            "34/34 [==============================] - 0s 2ms/step - loss: 7283.6016 - mae: 7283.6016\n",
            "Epoch 65/100\n",
            "34/34 [==============================] - 0s 1ms/step - loss: 7518.2832 - mae: 7518.2832\n",
            "Epoch 66/100\n",
            "34/34 [==============================] - 0s 1ms/step - loss: 7164.0161 - mae: 7164.0161\n",
            "Epoch 67/100\n",
            "34/34 [==============================] - 0s 1ms/step - loss: 7283.4170 - mae: 7283.4170\n",
            "Epoch 68/100\n",
            "34/34 [==============================] - 0s 1ms/step - loss: 7534.5776 - mae: 7534.5776\n",
            "Epoch 69/100\n",
            "34/34 [==============================] - 0s 2ms/step - loss: 7533.8970 - mae: 7533.8970\n",
            "Epoch 70/100\n",
            "34/34 [==============================] - 0s 1ms/step - loss: 7506.3970 - mae: 7506.3970\n",
            "Epoch 71/100\n",
            "34/34 [==============================] - 0s 1ms/step - loss: 7233.5273 - mae: 7233.5273\n",
            "Epoch 72/100\n",
            "34/34 [==============================] - 0s 1ms/step - loss: 7238.7612 - mae: 7238.7612\n",
            "Epoch 73/100\n",
            "34/34 [==============================] - 0s 2ms/step - loss: 7371.8286 - mae: 7371.8286\n",
            "Epoch 74/100\n",
            "34/34 [==============================] - 0s 2ms/step - loss: 7327.6011 - mae: 7327.6011\n",
            "Epoch 75/100\n",
            "34/34 [==============================] - 0s 1ms/step - loss: 7253.0547 - mae: 7253.0547\n",
            "Epoch 76/100\n",
            "34/34 [==============================] - 0s 1ms/step - loss: 7180.3413 - mae: 7180.3413\n",
            "Epoch 77/100\n",
            "34/34 [==============================] - 0s 1ms/step - loss: 7462.0830 - mae: 7462.0830\n",
            "Epoch 78/100\n",
            "34/34 [==============================] - 0s 2ms/step - loss: 7148.3530 - mae: 7148.3530\n",
            "Epoch 79/100\n",
            "34/34 [==============================] - 0s 2ms/step - loss: 7512.7461 - mae: 7512.7461\n",
            "Epoch 80/100\n",
            "34/34 [==============================] - 0s 1ms/step - loss: 7121.5718 - mae: 7121.5718\n",
            "Epoch 81/100\n",
            "34/34 [==============================] - 0s 2ms/step - loss: 7253.3198 - mae: 7253.3198\n",
            "Epoch 82/100\n",
            "34/34 [==============================] - 0s 1ms/step - loss: 7292.3701 - mae: 7292.3701\n",
            "Epoch 83/100\n",
            "34/34 [==============================] - 0s 1ms/step - loss: 7398.1870 - mae: 7398.1870\n",
            "Epoch 84/100\n",
            "34/34 [==============================] - 0s 2ms/step - loss: 7404.9663 - mae: 7404.9663\n",
            "Epoch 85/100\n",
            "34/34 [==============================] - 0s 1ms/step - loss: 7317.8784 - mae: 7317.8784\n",
            "Epoch 86/100\n",
            "34/34 [==============================] - 0s 1ms/step - loss: 7253.4175 - mae: 7253.4175\n",
            "Epoch 87/100\n",
            "34/34 [==============================] - 0s 1ms/step - loss: 7214.9614 - mae: 7214.9614\n",
            "Epoch 88/100\n",
            "34/34 [==============================] - 0s 1ms/step - loss: 7326.8682 - mae: 7326.8682\n",
            "Epoch 89/100\n",
            "34/34 [==============================] - 0s 2ms/step - loss: 7506.3384 - mae: 7506.3384\n",
            "Epoch 90/100\n",
            "34/34 [==============================] - 0s 2ms/step - loss: 6964.7983 - mae: 6964.7983\n",
            "Epoch 91/100\n",
            "34/34 [==============================] - 0s 2ms/step - loss: 7234.9990 - mae: 7234.9990\n",
            "Epoch 92/100\n",
            "34/34 [==============================] - 0s 2ms/step - loss: 7380.1587 - mae: 7380.1587\n",
            "Epoch 93/100\n",
            "34/34 [==============================] - 0s 1ms/step - loss: 7483.7988 - mae: 7483.7988\n",
            "Epoch 94/100\n",
            "34/34 [==============================] - 0s 1ms/step - loss: 7243.7446 - mae: 7243.7446\n",
            "Epoch 95/100\n",
            "34/34 [==============================] - 0s 1ms/step - loss: 7479.0405 - mae: 7479.0405\n",
            "Epoch 96/100\n",
            "34/34 [==============================] - 0s 1ms/step - loss: 7073.6885 - mae: 7073.6885\n",
            "Epoch 97/100\n",
            "34/34 [==============================] - 0s 1ms/step - loss: 7203.1562 - mae: 7203.1562\n",
            "Epoch 98/100\n",
            "34/34 [==============================] - 0s 1ms/step - loss: 7335.8862 - mae: 7335.8862\n",
            "Epoch 99/100\n",
            "34/34 [==============================] - 0s 1ms/step - loss: 7111.2017 - mae: 7111.2017\n",
            "Epoch 100/100\n",
            "34/34 [==============================] - 0s 2ms/step - loss: 7213.4302 - mae: 7213.4302\n"
          ]
        },
        {
          "output_type": "execute_result",
          "data": {
            "text/plain": [
              "<keras.src.callbacks.History at 0x7dc3aa742b30>"
            ]
          },
          "metadata": {},
          "execution_count": 170
        }
      ]
    },
    {
      "cell_type": "code",
      "source": [
        "# Evaluating on the test data\n",
        "model.evaluate(X_test, y_test)"
      ],
      "metadata": {
        "colab": {
          "base_uri": "https://localhost:8080/"
        },
        "id": "Ey0aKcdrF0QP",
        "outputId": "6d650b47-0b79-41c8-877d-2f3eeab88fb9"
      },
      "execution_count": null,
      "outputs": [
        {
          "output_type": "stream",
          "name": "stdout",
          "text": [
            "9/9 [==============================] - 0s 3ms/step - loss: 7409.4414 - mae: 7409.4414\n"
          ]
        },
        {
          "output_type": "execute_result",
          "data": {
            "text/plain": [
              "[7409.44140625, 7409.44140625]"
            ]
          },
          "metadata": {},
          "execution_count": 171
        }
      ]
    },
    {
      "cell_type": "code",
      "source": [
        "# The mean value for charges in the train data is +13k\n",
        "y_train.mean()"
      ],
      "metadata": {
        "colab": {
          "base_uri": "https://localhost:8080/"
        },
        "id": "gdPIC8VaKxPT",
        "outputId": "86e03772-78dc-4f30-bb42-1dbd70ece5df"
      },
      "execution_count": null,
      "outputs": [
        {
          "output_type": "execute_result",
          "data": {
            "text/plain": [
              "13346.089736364485"
            ]
          },
          "metadata": {},
          "execution_count": 172
        }
      ]
    },
    {
      "cell_type": "markdown",
      "source": [
        "It's clear that the model is not performing well. Evaluating on the test data, it seems that model will be off by almost 7000 from the actual values! Which is quite high, especially taken into account that the mean value for charges is 13000. Hence, we need to improve the model."
      ],
      "metadata": {
        "id": "OToZLCY2KZcB"
      }
    },
    {
      "cell_type": "code",
      "source": [
        "# Building a second larger model\n",
        "model_2 = tf.keras.Sequential([\n",
        "    tf.keras.layers.Dense(units = 100), # New hidden layer with 100 neurons\n",
        "    tf.keras.layers.Dense(units = 10),\n",
        "    tf.keras.layers.Dense(units = 1)\n",
        "])\n",
        "\n",
        "model_2.compile(loss = tf.keras.losses.mae,\n",
        "                optimizer = tf.keras.optimizers.Adam()) # We will be using the Adam() optimizer\n",
        "\n",
        "model_2.fit(X_train, y_train, epochs = 100)"
      ],
      "metadata": {
        "colab": {
          "base_uri": "https://localhost:8080/"
        },
        "id": "ocuCBNbsGSPB",
        "outputId": "e0e93b58-570d-4cde-9f7c-67ff8f4b640b"
      },
      "execution_count": null,
      "outputs": [
        {
          "output_type": "stream",
          "name": "stdout",
          "text": [
            "Epoch 1/100\n",
            "34/34 [==============================] - 1s 3ms/step - loss: 13319.7715\n",
            "Epoch 2/100\n",
            "34/34 [==============================] - 0s 3ms/step - loss: 13202.3672\n",
            "Epoch 3/100\n",
            "34/34 [==============================] - 0s 6ms/step - loss: 12950.2266\n",
            "Epoch 4/100\n",
            "34/34 [==============================] - 0s 3ms/step - loss: 12429.8369\n",
            "Epoch 5/100\n",
            "34/34 [==============================] - 0s 3ms/step - loss: 11488.7939\n",
            "Epoch 6/100\n",
            "34/34 [==============================] - 0s 3ms/step - loss: 10111.3789\n",
            "Epoch 7/100\n",
            "34/34 [==============================] - 0s 3ms/step - loss: 8638.9180\n",
            "Epoch 8/100\n",
            "34/34 [==============================] - 0s 3ms/step - loss: 7682.3599\n",
            "Epoch 9/100\n",
            "34/34 [==============================] - 0s 4ms/step - loss: 7448.7793\n",
            "Epoch 10/100\n",
            "34/34 [==============================] - 0s 3ms/step - loss: 7422.0825\n",
            "Epoch 11/100\n",
            "34/34 [==============================] - 0s 3ms/step - loss: 7403.4067\n",
            "Epoch 12/100\n",
            "34/34 [==============================] - 0s 3ms/step - loss: 7382.0342\n",
            "Epoch 13/100\n",
            "34/34 [==============================] - 0s 3ms/step - loss: 7362.4253\n",
            "Epoch 14/100\n",
            "34/34 [==============================] - 0s 3ms/step - loss: 7340.6040\n",
            "Epoch 15/100\n",
            "34/34 [==============================] - 0s 3ms/step - loss: 7322.3335\n",
            "Epoch 16/100\n",
            "34/34 [==============================] - 0s 3ms/step - loss: 7300.9902\n",
            "Epoch 17/100\n",
            "34/34 [==============================] - 0s 3ms/step - loss: 7280.7661\n",
            "Epoch 18/100\n",
            "34/34 [==============================] - 0s 2ms/step - loss: 7258.6001\n",
            "Epoch 19/100\n",
            "34/34 [==============================] - 0s 2ms/step - loss: 7236.8647\n",
            "Epoch 20/100\n",
            "34/34 [==============================] - 0s 2ms/step - loss: 7214.4790\n",
            "Epoch 21/100\n",
            "34/34 [==============================] - 0s 2ms/step - loss: 7196.2441\n",
            "Epoch 22/100\n",
            "34/34 [==============================] - 0s 2ms/step - loss: 7169.5713\n",
            "Epoch 23/100\n",
            "34/34 [==============================] - 0s 2ms/step - loss: 7145.5625\n",
            "Epoch 24/100\n",
            "34/34 [==============================] - 0s 2ms/step - loss: 7121.5723\n",
            "Epoch 25/100\n",
            "34/34 [==============================] - 0s 1ms/step - loss: 7103.7754\n",
            "Epoch 26/100\n",
            "34/34 [==============================] - 0s 2ms/step - loss: 7073.6367\n",
            "Epoch 27/100\n",
            "34/34 [==============================] - 0s 2ms/step - loss: 7045.6143\n",
            "Epoch 28/100\n",
            "34/34 [==============================] - 0s 2ms/step - loss: 7018.3486\n",
            "Epoch 29/100\n",
            "34/34 [==============================] - 0s 2ms/step - loss: 6991.6909\n",
            "Epoch 30/100\n",
            "34/34 [==============================] - 0s 3ms/step - loss: 6964.2476\n",
            "Epoch 31/100\n",
            "34/34 [==============================] - 0s 3ms/step - loss: 6933.9858\n",
            "Epoch 32/100\n",
            "34/34 [==============================] - 0s 3ms/step - loss: 6906.5278\n",
            "Epoch 33/100\n",
            "34/34 [==============================] - 0s 2ms/step - loss: 6876.0210\n",
            "Epoch 34/100\n",
            "34/34 [==============================] - 0s 2ms/step - loss: 6844.7397\n",
            "Epoch 35/100\n",
            "34/34 [==============================] - 0s 2ms/step - loss: 6812.2041\n",
            "Epoch 36/100\n",
            "34/34 [==============================] - 0s 2ms/step - loss: 6778.4790\n",
            "Epoch 37/100\n",
            "34/34 [==============================] - 0s 2ms/step - loss: 6742.9829\n",
            "Epoch 38/100\n",
            "34/34 [==============================] - 0s 2ms/step - loss: 6710.3081\n",
            "Epoch 39/100\n",
            "34/34 [==============================] - 0s 2ms/step - loss: 6672.2319\n",
            "Epoch 40/100\n",
            "34/34 [==============================] - 0s 2ms/step - loss: 6637.3247\n",
            "Epoch 41/100\n",
            "34/34 [==============================] - 0s 2ms/step - loss: 6603.1724\n",
            "Epoch 42/100\n",
            "34/34 [==============================] - 0s 2ms/step - loss: 6574.8281\n",
            "Epoch 43/100\n",
            "34/34 [==============================] - 0s 2ms/step - loss: 6544.4404\n",
            "Epoch 44/100\n",
            "34/34 [==============================] - 0s 3ms/step - loss: 6520.2334\n",
            "Epoch 45/100\n",
            "34/34 [==============================] - 0s 3ms/step - loss: 6504.7300\n",
            "Epoch 46/100\n",
            "34/34 [==============================] - 0s 2ms/step - loss: 6486.7935\n",
            "Epoch 47/100\n",
            "34/34 [==============================] - 0s 2ms/step - loss: 6470.1235\n",
            "Epoch 48/100\n",
            "34/34 [==============================] - 0s 2ms/step - loss: 6455.5645\n",
            "Epoch 49/100\n",
            "34/34 [==============================] - 0s 2ms/step - loss: 6443.2617\n",
            "Epoch 50/100\n",
            "34/34 [==============================] - 0s 3ms/step - loss: 6429.1812\n",
            "Epoch 51/100\n",
            "34/34 [==============================] - 0s 2ms/step - loss: 6415.8472\n",
            "Epoch 52/100\n",
            "34/34 [==============================] - 0s 2ms/step - loss: 6404.8208\n",
            "Epoch 53/100\n",
            "34/34 [==============================] - 0s 2ms/step - loss: 6391.5254\n",
            "Epoch 54/100\n",
            "34/34 [==============================] - 0s 2ms/step - loss: 6378.2432\n",
            "Epoch 55/100\n",
            "34/34 [==============================] - 0s 2ms/step - loss: 6365.2935\n",
            "Epoch 56/100\n",
            "34/34 [==============================] - 0s 2ms/step - loss: 6351.3989\n",
            "Epoch 57/100\n",
            "34/34 [==============================] - 0s 3ms/step - loss: 6339.7119\n",
            "Epoch 58/100\n",
            "34/34 [==============================] - 0s 2ms/step - loss: 6325.3638\n",
            "Epoch 59/100\n",
            "34/34 [==============================] - 0s 2ms/step - loss: 6311.2285\n",
            "Epoch 60/100\n",
            "34/34 [==============================] - 0s 2ms/step - loss: 6301.6265\n",
            "Epoch 61/100\n",
            "34/34 [==============================] - 0s 2ms/step - loss: 6283.4688\n",
            "Epoch 62/100\n",
            "34/34 [==============================] - 0s 2ms/step - loss: 6271.0391\n",
            "Epoch 63/100\n",
            "34/34 [==============================] - 0s 2ms/step - loss: 6252.8911\n",
            "Epoch 64/100\n",
            "34/34 [==============================] - 0s 2ms/step - loss: 6238.3354\n",
            "Epoch 65/100\n",
            "34/34 [==============================] - 0s 3ms/step - loss: 6221.9106\n",
            "Epoch 66/100\n",
            "34/34 [==============================] - 0s 2ms/step - loss: 6205.7109\n",
            "Epoch 67/100\n",
            "34/34 [==============================] - 0s 3ms/step - loss: 6193.9946\n",
            "Epoch 68/100\n",
            "34/34 [==============================] - 0s 3ms/step - loss: 6172.9448\n",
            "Epoch 69/100\n",
            "34/34 [==============================] - 0s 3ms/step - loss: 6157.5850\n",
            "Epoch 70/100\n",
            "34/34 [==============================] - 0s 3ms/step - loss: 6138.2480\n",
            "Epoch 71/100\n",
            "34/34 [==============================] - 0s 3ms/step - loss: 6120.0903\n",
            "Epoch 72/100\n",
            "34/34 [==============================] - 0s 2ms/step - loss: 6102.6309\n",
            "Epoch 73/100\n",
            "34/34 [==============================] - 0s 2ms/step - loss: 6089.6577\n",
            "Epoch 74/100\n",
            "34/34 [==============================] - 0s 2ms/step - loss: 6063.6650\n",
            "Epoch 75/100\n",
            "34/34 [==============================] - 0s 2ms/step - loss: 6044.3413\n",
            "Epoch 76/100\n",
            "34/34 [==============================] - 0s 2ms/step - loss: 6030.2983\n",
            "Epoch 77/100\n",
            "34/34 [==============================] - 0s 3ms/step - loss: 5999.5293\n",
            "Epoch 78/100\n",
            "34/34 [==============================] - 0s 3ms/step - loss: 5978.7231\n",
            "Epoch 79/100\n",
            "34/34 [==============================] - 0s 2ms/step - loss: 5956.3799\n",
            "Epoch 80/100\n",
            "34/34 [==============================] - 0s 3ms/step - loss: 5931.0444\n",
            "Epoch 81/100\n",
            "34/34 [==============================] - 0s 3ms/step - loss: 5907.5596\n",
            "Epoch 82/100\n",
            "34/34 [==============================] - 0s 3ms/step - loss: 5881.4971\n",
            "Epoch 83/100\n",
            "34/34 [==============================] - 0s 2ms/step - loss: 5856.1108\n",
            "Epoch 84/100\n",
            "34/34 [==============================] - 0s 2ms/step - loss: 5824.5195\n",
            "Epoch 85/100\n",
            "34/34 [==============================] - 0s 2ms/step - loss: 5802.4058\n",
            "Epoch 86/100\n",
            "34/34 [==============================] - 0s 2ms/step - loss: 5769.3726\n",
            "Epoch 87/100\n",
            "34/34 [==============================] - 0s 2ms/step - loss: 5736.5264\n",
            "Epoch 88/100\n",
            "34/34 [==============================] - 0s 2ms/step - loss: 5706.6030\n",
            "Epoch 89/100\n",
            "34/34 [==============================] - 0s 2ms/step - loss: 5670.3335\n",
            "Epoch 90/100\n",
            "34/34 [==============================] - 0s 2ms/step - loss: 5633.2334\n",
            "Epoch 91/100\n",
            "34/34 [==============================] - 0s 1ms/step - loss: 5601.7964\n",
            "Epoch 92/100\n",
            "34/34 [==============================] - 0s 2ms/step - loss: 5556.3804\n",
            "Epoch 93/100\n",
            "34/34 [==============================] - 0s 2ms/step - loss: 5520.2808\n",
            "Epoch 94/100\n",
            "34/34 [==============================] - 0s 2ms/step - loss: 5483.4512\n",
            "Epoch 95/100\n",
            "34/34 [==============================] - 0s 2ms/step - loss: 5433.1108\n",
            "Epoch 96/100\n",
            "34/34 [==============================] - 0s 2ms/step - loss: 5393.8857\n",
            "Epoch 97/100\n",
            "34/34 [==============================] - 0s 2ms/step - loss: 5345.7495\n",
            "Epoch 98/100\n",
            "34/34 [==============================] - 0s 2ms/step - loss: 5290.3911\n",
            "Epoch 99/100\n",
            "34/34 [==============================] - 0s 2ms/step - loss: 5236.8599\n",
            "Epoch 100/100\n",
            "34/34 [==============================] - 0s 2ms/step - loss: 5185.0161\n"
          ]
        },
        {
          "output_type": "execute_result",
          "data": {
            "text/plain": [
              "<keras.src.callbacks.History at 0x7dc3aa4a2740>"
            ]
          },
          "metadata": {},
          "execution_count": 174
        }
      ]
    },
    {
      "cell_type": "code",
      "source": [
        "# Evaluating the model on the test data\n",
        "model_2.evaluate(X_test, y_test)"
      ],
      "metadata": {
        "colab": {
          "base_uri": "https://localhost:8080/"
        },
        "id": "dK8aKtlIMl9v",
        "outputId": "2324a20a-a0dc-4c21-e863-d6f36bc7c542"
      },
      "execution_count": null,
      "outputs": [
        {
          "output_type": "stream",
          "name": "stdout",
          "text": [
            "9/9 [==============================] - 0s 3ms/step - loss: 5053.2598\n"
          ]
        },
        {
          "output_type": "execute_result",
          "data": {
            "text/plain": [
              "5053.259765625"
            ]
          },
          "metadata": {},
          "execution_count": 175
        }
      ]
    },
    {
      "cell_type": "markdown",
      "source": [
        "We can see an immediate improvement in the model.\n",
        "\n",
        "**Note:** using SGD with the larger model didn't yield any results whatsoever, as the loss was displayed as NaN. This can be due to many different reasons, for example the model is not learning anything with this optimizer, or the learning rate being too high, etc.\n",
        "\n",
        "To solve this, we used Adam optimizer with the default learning rate."
      ],
      "metadata": {
        "id": "udqZZqWvM1lh"
      }
    },
    {
      "cell_type": "code",
      "source": [
        "# # Building a third model that is similar to the second but will be trained for 200 epochs\n",
        "model_3 = tf.keras.Sequential([\n",
        "    tf.keras.layers.Dense(units = 100), # New hidden layer with 100 neurons\n",
        "    tf.keras.layers.Dense(units = 10),\n",
        "    tf.keras.layers.Dense(units = 1)\n",
        "])\n",
        "\n",
        "model_3.compile(loss = tf.keras.losses.mae,\n",
        "                optimizer = tf.keras.optimizers.Adam()) # We will be using the Adam() optimizer\n",
        "\n",
        "# We introduce the history variable that will be used going forward\n",
        "# It will be used to plot loss curves\n",
        "history = model_3.fit(X_train, y_train, epochs = 200, verbose = 0)"
      ],
      "metadata": {
        "id": "WQf59_0sMybg"
      },
      "execution_count": null,
      "outputs": []
    },
    {
      "cell_type": "code",
      "source": [
        "model_3.evaluate(X_train, y_train)"
      ],
      "metadata": {
        "colab": {
          "base_uri": "https://localhost:8080/"
        },
        "id": "a8aV_BfqOFHO",
        "outputId": "5285830a-483a-4f57-8692-dfce4cf2b0c1"
      },
      "execution_count": null,
      "outputs": [
        {
          "output_type": "stream",
          "name": "stdout",
          "text": [
            "34/34 [==============================] - 0s 1ms/step - loss: 3671.3665\n"
          ]
        },
        {
          "output_type": "execute_result",
          "data": {
            "text/plain": [
              "3671.366455078125"
            ]
          },
          "metadata": {},
          "execution_count": 185
        }
      ]
    },
    {
      "cell_type": "markdown",
      "source": [
        "An even further decrease in the test loss, which is great!"
      ],
      "metadata": {
        "id": "-xeR4o_POW2T"
      }
    },
    {
      "cell_type": "code",
      "source": [
        "# Plotting the loss curve using the history variable\n",
        "pd.DataFrame(history.history).plot()\n",
        "plt.ylabel('Loss')\n",
        "plt.xlabel('Epochs');"
      ],
      "metadata": {
        "colab": {
          "base_uri": "https://localhost:8080/",
          "height": 449
        },
        "id": "toaSvl_dOTWv",
        "outputId": "48f4b87d-ec97-4256-a721-84a89d6109f1"
      },
      "execution_count": null,
      "outputs": [
        {
          "output_type": "display_data",
          "data": {
            "text/plain": [
              "<Figure size 640x480 with 1 Axes>"
            ],
            "image/png": "[encoded data removed]"
          },
          "metadata": {}
        }
      ]
    },
    {
      "cell_type": "markdown",
      "source": [
        "Using the elbow method we can see that the loss function starts to decrease very slowly at around 115 epochs, which means that training for 200 epochs was not needed, and training for more than 115 epochs does not yield any improvements.\n",
        "\n",
        "There are other way to control how many epochs the model trains for, like Early Stopping among others, which we will cover later."
      ],
      "metadata": {
        "id": "_Wgr-upMREFn"
      }
    },
    {
      "cell_type": "markdown",
      "source": [
        "#Data Normalization and Standardisation"
      ],
      "metadata": {
        "id": "VKzxNfmNTRZE"
      }
    },
    {
      "cell_type": "markdown",
      "source": [
        "An important part of data preparation and feature engineering in ML and DL is **data scaling**. Scaling ensures that features have values in the same range, and improves the performance and training stability of the model by mitigating the influence of varying scales on ML and DL models. Two of the most prevelant scaling techniques are normalization and standardisation.\n",
        "\n",
        "**Normalization** (also called  Min-Max scaling) is a feature scaling technique often applied as part of data preparation for machine and deep learning. The goal of normalization is to change the values of numeric columns in a dataset to a similar scale without distorting differences in the ranges of values.\n",
        "\n",
        "Typically, normalization converts all the numerical values to be between 0 and 1, while preserving the original distribution of data. Normalization is what typically used with deep learning, and is useful when the distribution of the data is unknown or not Gaussian\n",
        "\n",
        "$X' = (X - Xmin) / (Xmax - Xmin)$, where:\n",
        "*   $X'$ = Value of Normalization\n",
        "*   $Xmin$ = Minimum value of a feature\n",
        "* $Xmax$ =  Maximum value of a feature\n",
        "\n",
        "In Scikit-Learn normalization can be applied with `MinMaxScaler`\n",
        "\n",
        "---------------\n",
        "**Standardisation** (also known as Z-score normalization) is another feature scaling method where the values are centered around the mean with a unit standard deviation. This means that the mean of the attribute becomes zero, and the resultant distribution has a unit standard deviation.\n",
        "\n",
        "Standardisation is less sensetive to outliers, but it changes the distribution of the data. It Centers data around the mean and scales to a standard deviation of 1. And as with the case of normalization (and scaling in general) help machine learning and deep learning models to converge faster.\n",
        "\n",
        "It is useful when the distribution of the data is Gaussian or unknown\n",
        "\n",
        "$X' = (X - μ) / σ$, where:\n",
        "*   $μ$ is the mean of the feature values and Feature scaling.\n",
        "*   $σ$ is the standard deviation of the feature values.\n",
        "\n",
        "In Scikit-Learn standardisation can be applied with `StandardScaler`\n",
        "\n",
        "Each of them has its use-cases. More info [here](https://www.analyticsvidhya.com/blog/2020/04/feature-scaling-machine-learning-normalization-standardization/#:~:text=0%20and%201-,What%20is%20Standardization%3F,has%20a%20unit%20standard%20deviation.)\n",
        "\n",
        "\n",
        "\n",
        "\n",
        "\n",
        "\n"
      ],
      "metadata": {
        "id": "k0y1X-qSTYDv"
      }
    },
    {
      "cell_type": "code",
      "source": [
        "# We'll redo everything from the previous section but additionally normalize the numerical data\n",
        "import tensorflow as tf\n",
        "import pandas as pd\n",
        "import numpy as np\n",
        "import matplotlib.pyplot as plt\n",
        "\n",
        "df = pd.read_csv(\"https://raw.githubusercontent.com/stedy/Machine-Learning-with-R-datasets/master/insurance.csv\")\n",
        "df.head()"
      ],
      "metadata": {
        "colab": {
          "base_uri": "https://localhost:8080/",
          "height": 206
        },
        "id": "0I1vfUQMYs9h",
        "outputId": "f9f17009-db96-49da-e388-7292720c7d90"
      },
      "execution_count": null,
      "outputs": [
        {
          "output_type": "execute_result",
          "data": {
            "text/plain": [
              "   age     sex     bmi  children smoker     region      charges\n",
              "0   19  female  27.900         0    yes  southwest  16884.92400\n",
              "1   18    male  33.770         1     no  southeast   1725.55230\n",
              "2   28    male  33.000         3     no  southeast   4449.46200\n",
              "3   33    male  22.705         0     no  northwest  21984.47061\n",
              "4   32    male  28.880         0     no  northwest   3866.85520"
            ],
            "text/html": [
              "\n",
              "  <div id=\"df-9af1e142-b6f9-441a-86e8-e28f39222dde\" class=\"colab-df-container\">\n",
              "    <div>\n",
              "<style scoped>\n",
              "    .dataframe tbody tr th:only-of-type {\n",
              "        vertical-align: middle;\n",
              "    }\n",
              "\n",
              "    .dataframe tbody tr th {\n",
              "        vertical-align: top;\n",
              "    }\n",
              "\n",
              "    .dataframe thead th {\n",
              "        text-align: right;\n",
              "    }\n",
              "</style>\n",
              "<table border=\"1\" class=\"dataframe\">\n",
              "  <thead>\n",
              "    <tr style=\"text-align: right;\">\n",
              "      <th></th>\n",
              "      <th>age</th>\n",
              "      <th>sex</th>\n",
              "      <th>bmi</th>\n",
              "      <th>children</th>\n",
              "      <th>smoker</th>\n",
              "      <th>region</th>\n",
              "      <th>charges</th>\n",
              "    </tr>\n",
              "  </thead>\n",
              "  <tbody>\n",
              "    <tr>\n",
              "      <th>0</th>\n",
              "      <td>19</td>\n",
              "      <td>female</td>\n",
              "      <td>27.900</td>\n",
              "      <td>0</td>\n",
              "      <td>yes</td>\n",
              "      <td>southwest</td>\n",
              "      <td>16884.92400</td>\n",
              "    </tr>\n",
              "    <tr>\n",
              "      <th>1</th>\n",
              "      <td>18</td>\n",
              "      <td>male</td>\n",
              "      <td>33.770</td>\n",
              "      <td>1</td>\n",
              "      <td>no</td>\n",
              "      <td>southeast</td>\n",
              "      <td>1725.55230</td>\n",
              "    </tr>\n",
              "    <tr>\n",
              "      <th>2</th>\n",
              "      <td>28</td>\n",
              "      <td>male</td>\n",
              "      <td>33.000</td>\n",
              "      <td>3</td>\n",
              "      <td>no</td>\n",
              "      <td>southeast</td>\n",
              "      <td>4449.46200</td>\n",
              "    </tr>\n",
              "    <tr>\n",
              "      <th>3</th>\n",
              "      <td>33</td>\n",
              "      <td>male</td>\n",
              "      <td>22.705</td>\n",
              "      <td>0</td>\n",
              "      <td>no</td>\n",
              "      <td>northwest</td>\n",
              "      <td>21984.47061</td>\n",
              "    </tr>\n",
              "    <tr>\n",
              "      <th>4</th>\n",
              "      <td>32</td>\n",
              "      <td>male</td>\n",
              "      <td>28.880</td>\n",
              "      <td>0</td>\n",
              "      <td>no</td>\n",
              "      <td>northwest</td>\n",
              "      <td>3866.85520</td>\n",
              "    </tr>\n",
              "  </tbody>\n",
              "</table>\n",
              "</div>\n",
              "    <div class=\"colab-df-buttons\">\n",
              "\n",
              "  <div class=\"colab-df-container\">\n",
              "    <button class=\"colab-df-convert\" onclick=\"convertToInteractive('df-9af1e142-b6f9-441a-86e8-e28f39222dde')\"\n",
              "            title=\"Convert this dataframe to an interactive table.\"\n",
              "            style=\"display:none;\">\n",
              "\n",
              "  <svg xmlns=\"http://www.w3.org/2000/svg\" height=\"24px\" viewBox=\"0 -960 960 960\">\n",
              "    <path d=\"M120-120v-720h720v720H120Zm60-500h600v-160H180v160Zm220 220h160v-160H400v160Zm0 220h160v-160H400v160ZM180-400h160v-160H180v160Zm440 0h160v-160H620v160ZM180-180h160v-160H180v160Zm440 0h160v-160H620v160Z\"/>\n",
              "  </svg>\n",
              "    </button>\n",
              "\n",
              "  <style>\n",
              "    .colab-df-container {\n",
              "      display:flex;\n",
              "      gap: 12px;\n",
              "    }\n",
              "\n",
              "    .colab-df-convert {\n",
              "      background-color: #E8F0FE;\n",
              "      border: none;\n",
              "      border-radius: 50%;\n",
              "      cursor: pointer;\n",
              "      display: none;\n",
              "      fill: #1967D2;\n",
              "      height: 32px;\n",
              "      padding: 0 0 0 0;\n",
              "      width: 32px;\n",
              "    }\n",
              "\n",
              "    .colab-df-convert:hover {\n",
              "      background-color: #E2EBFA;\n",
              "      box-shadow: 0px 1px 2px rgba(60, 64, 67, 0.3), 0px 1px 3px 1px rgba(60, 64, 67, 0.15);\n",
              "      fill: #174EA6;\n",
              "    }\n",
              "\n",
              "    .colab-df-buttons div {\n",
              "      margin-bottom: 4px;\n",
              "    }\n",
              "\n",
              "    [theme=dark] .colab-df-convert {\n",
              "      background-color: #3B4455;\n",
              "      fill: #D2E3FC;\n",
              "    }\n",
              "\n",
              "    [theme=dark] .colab-df-convert:hover {\n",
              "      background-color: #434B5C;\n",
              "      box-shadow: 0px 1px 3px 1px rgba(0, 0, 0, 0.15);\n",
              "      filter: drop-shadow(0px 1px 2px rgba(0, 0, 0, 0.3));\n",
              "      fill: #FFFFFF;\n",
              "    }\n",
              "  </style>\n",
              "\n",
              "    <script>\n",
              "      const buttonEl =\n",
              "        document.querySelector('#df-9af1e142-b6f9-441a-86e8-e28f39222dde button.colab-df-convert');\n",
              "      buttonEl.style.display =\n",
              "        google.colab.kernel.accessAllowed ? 'block' : 'none';\n",
              "\n",
              "      async function convertToInteractive(key) {\n",
              "        const element = document.querySelector('#df-9af1e142-b6f9-441a-86e8-e28f39222dde');\n",
              "        const dataTable =\n",
              "          await google.colab.kernel.invokeFunction('convertToInteractive',\n",
              "                                                    [key], {});\n",
              "        if (!dataTable) return;\n",
              "\n",
              "        const docLinkHtml = 'Like what you see? Visit the ' +\n",
              "          '<a target=\"_blank\" href=https://colab.research.google.com/notebooks/data_table.ipynb>data table notebook</a>'\n",
              "          + ' to learn more about interactive tables.';\n",
              "        element.innerHTML = '';\n",
              "        dataTable['output_type'] = 'display_data';\n",
              "        await google.colab.output.renderOutput(dataTable, element);\n",
              "        const docLink = document.createElement('div');\n",
              "        docLink.innerHTML = docLinkHtml;\n",
              "        element.appendChild(docLink);\n",
              "      }\n",
              "    </script>\n",
              "  </div>\n",
              "\n",
              "\n",
              "<div id=\"df-f5266972-c03a-4e8c-86e9-c6eeaba1e8ba\">\n",
              "  <button class=\"colab-df-quickchart\" onclick=\"quickchart('df-f5266972-c03a-4e8c-86e9-c6eeaba1e8ba')\"\n",
              "            title=\"Suggest charts\"\n",
              "            style=\"display:none;\">\n",
              "\n",
              "<svg xmlns=\"http://www.w3.org/2000/svg\" height=\"24px\"viewBox=\"0 0 24 24\"\n",
              "     width=\"24px\">\n",
              "    <g>\n",
              "        <path d=\"M19 3H5c-1.1 0-2 .9-2 2v14c0 1.1.9 2 2 2h14c1.1 0 2-.9 2-2V5c0-1.1-.9-2-2-2zM9 17H7v-7h2v7zm4 0h-2V7h2v10zm4 0h-2v-4h2v4z\"/>\n",
              "    </g>\n",
              "</svg>\n",
              "  </button>\n",
              "\n",
              "<style>\n",
              "  .colab-df-quickchart {\n",
              "      --bg-color: #E8F0FE;\n",
              "      --fill-color: #1967D2;\n",
              "      --hover-bg-color: #E2EBFA;\n",
              "      --hover-fill-color: #174EA6;\n",
              "      --disabled-fill-color: #AAA;\n",
              "      --disabled-bg-color: #DDD;\n",
              "  }\n",
              "\n",
              "  [theme=dark] .colab-df-quickchart {\n",
              "      --bg-color: #3B4455;\n",
              "      --fill-color: #D2E3FC;\n",
              "      --hover-bg-color: #434B5C;\n",
              "      --hover-fill-color: #FFFFFF;\n",
              "      --disabled-bg-color: #3B4455;\n",
              "      --disabled-fill-color: #666;\n",
              "  }\n",
              "\n",
              "  .colab-df-quickchart {\n",
              "    background-color: var(--bg-color);\n",
              "    border: none;\n",
              "    border-radius: 50%;\n",
              "    cursor: pointer;\n",
              "    display: none;\n",
              "    fill: var(--fill-color);\n",
              "    height: 32px;\n",
              "    padding: 0;\n",
              "    width: 32px;\n",
              "  }\n",
              "\n",
              "  .colab-df-quickchart:hover {\n",
              "    background-color: var(--hover-bg-color);\n",
              "    box-shadow: 0 1px 2px rgba(60, 64, 67, 0.3), 0 1px 3px 1px rgba(60, 64, 67, 0.15);\n",
              "    fill: var(--button-hover-fill-color);\n",
              "  }\n",
              "\n",
              "  .colab-df-quickchart-complete:disabled,\n",
              "  .colab-df-quickchart-complete:disabled:hover {\n",
              "    background-color: var(--disabled-bg-color);\n",
              "    fill: var(--disabled-fill-color);\n",
              "    box-shadow: none;\n",
              "  }\n",
              "\n",
              "  .colab-df-spinner {\n",
              "    border: 2px solid var(--fill-color);\n",
              "    border-color: transparent;\n",
              "    border-bottom-color: var(--fill-color);\n",
              "    animation:\n",
              "      spin 1s steps(1) infinite;\n",
              "  }\n",
              "\n",
              "  @keyframes spin {\n",
              "    0% {\n",
              "      border-color: transparent;\n",
              "      border-bottom-color: var(--fill-color);\n",
              "      border-left-color: var(--fill-color);\n",
              "    }\n",
              "    20% {\n",
              "      border-color: transparent;\n",
              "      border-left-color: var(--fill-color);\n",
              "      border-top-color: var(--fill-color);\n",
              "    }\n",
              "    30% {\n",
              "      border-color: transparent;\n",
              "      border-left-color: var(--fill-color);\n",
              "      border-top-color: var(--fill-color);\n",
              "      border-right-color: var(--fill-color);\n",
              "    }\n",
              "    40% {\n",
              "      border-color: transparent;\n",
              "      border-right-color: var(--fill-color);\n",
              "      border-top-color: var(--fill-color);\n",
              "    }\n",
              "    60% {\n",
              "      border-color: transparent;\n",
              "      border-right-color: var(--fill-color);\n",
              "    }\n",
              "    80% {\n",
              "      border-color: transparent;\n",
              "      border-right-color: var(--fill-color);\n",
              "      border-bottom-color: var(--fill-color);\n",
              "    }\n",
              "    90% {\n",
              "      border-color: transparent;\n",
              "      border-bottom-color: var(--fill-color);\n",
              "    }\n",
              "  }\n",
              "</style>\n",
              "\n",
              "  <script>\n",
              "    async function quickchart(key) {\n",
              "      const quickchartButtonEl =\n",
              "        document.querySelector('#' + key + ' button');\n",
              "      quickchartButtonEl.disabled = true;  // To prevent multiple clicks.\n",
              "      quickchartButtonEl.classList.add('colab-df-spinner');\n",
              "      try {\n",
              "        const charts = await google.colab.kernel.invokeFunction(\n",
              "            'suggestCharts', [key], {});\n",
              "      } catch (error) {\n",
              "        console.error('Error during call to suggestCharts:', error);\n",
              "      }\n",
              "      quickchartButtonEl.classList.remove('colab-df-spinner');\n",
              "      quickchartButtonEl.classList.add('colab-df-quickchart-complete');\n",
              "    }\n",
              "    (() => {\n",
              "      let quickchartButtonEl =\n",
              "        document.querySelector('#df-f5266972-c03a-4e8c-86e9-c6eeaba1e8ba button');\n",
              "      quickchartButtonEl.style.display =\n",
              "        google.colab.kernel.accessAllowed ? 'block' : 'none';\n",
              "    })();\n",
              "  </script>\n",
              "</div>\n",
              "    </div>\n",
              "  </div>\n"
            ],
            "application/vnd.google.colaboratory.intrinsic+json": {
              "type": "dataframe",
              "variable_name": "df",
              "summary": "{\n  \"name\": \"df\",\n  \"rows\": 1338,\n  \"fields\": [\n    {\n      \"column\": \"age\",\n      \"properties\": {\n        \"dtype\": \"number\",\n        \"std\": 14,\n        \"min\": 18,\n        \"max\": 64,\n        \"num_unique_values\": 47,\n        \"samples\": [\n          21,\n          45,\n          36\n        ],\n        \"semantic_type\": \"\",\n        \"description\": \"\"\n      }\n    },\n    {\n      \"column\": \"sex\",\n      \"properties\": {\n        \"dtype\": \"category\",\n        \"num_unique_values\": 2,\n        \"samples\": [\n          \"male\",\n          \"female\"\n        ],\n        \"semantic_type\": \"\",\n        \"description\": \"\"\n      }\n    },\n    {\n      \"column\": \"bmi\",\n      \"properties\": {\n        \"dtype\": \"number\",\n        \"std\": 6.098186911679014,\n        \"min\": 15.96,\n        \"max\": 53.13,\n        \"num_unique_values\": 548,\n        \"samples\": [\n          23.18,\n          26.885\n        ],\n        \"semantic_type\": \"\",\n        \"description\": \"\"\n      }\n    },\n    {\n      \"column\": \"children\",\n      \"properties\": {\n        \"dtype\": \"number\",\n        \"std\": 1,\n        \"min\": 0,\n        \"max\": 5,\n        \"num_unique_values\": 6,\n        \"samples\": [\n          0,\n          1\n        ],\n        \"semantic_type\": \"\",\n        \"description\": \"\"\n      }\n    },\n    {\n      \"column\": \"smoker\",\n      \"properties\": {\n        \"dtype\": \"category\",\n        \"num_unique_values\": 2,\n        \"samples\": [\n          \"no\",\n          \"yes\"\n        ],\n        \"semantic_type\": \"\",\n        \"description\": \"\"\n      }\n    },\n    {\n      \"column\": \"region\",\n      \"properties\": {\n        \"dtype\": \"category\",\n        \"num_unique_values\": 4,\n        \"samples\": [\n          \"southeast\",\n          \"northeast\"\n        ],\n        \"semantic_type\": \"\",\n        \"description\": \"\"\n      }\n    },\n    {\n      \"column\": \"charges\",\n      \"properties\": {\n        \"dtype\": \"number\",\n        \"std\": 12110.011236694001,\n        \"min\": 1121.8739,\n        \"max\": 63770.42801,\n        \"num_unique_values\": 1337,\n        \"samples\": [\n          8688.85885,\n          5708.867\n        ],\n        \"semantic_type\": \"\",\n        \"description\": \"\"\n      }\n    }\n  ]\n}"
            }
          },
          "metadata": {},
          "execution_count": 22
        }
      ]
    },
    {
      "cell_type": "code",
      "source": [
        "# We need to one-hot encode the string data AND normalize the numerical data\n",
        "# Hence we'll compose a transformer that will perform both of these operations\n",
        "from sklearn.compose import make_column_transformer\n",
        "from sklearn.preprocessing import MinMaxScaler, OneHotEncoder\n",
        "from sklearn.model_selection import train_test_split\n",
        "\n",
        "# Creating the transformer pipline\n",
        "ct = make_column_transformer(\n",
        "    (MinMaxScaler(), ['age', 'bmi', 'children']),\n",
        "    (OneHotEncoder(handle_unknown = 'ignore'), ['sex', 'region', 'smoker'])\n",
        ")\n",
        "\n",
        "# Creating X and y\n",
        "X = df.drop('charges', axis = 1)\n",
        "y = df['charges']\n",
        "\n",
        "# Creating the splits\n",
        "X_train, X_test, y_train, y_test = train_test_split(X, y, test_size = 0.2, random_state = 42)\n",
        "\n",
        "# Fitting the transformer to the X_train data\n",
        "ct.fit(X_train)\n",
        "\n",
        "# Transforming the train data with the transformer we created above\n",
        "X_train_normal = ct.transform(X_train)\n",
        "X_test_normal = ct.transform(X_test)"
      ],
      "metadata": {
        "id": "iTEvMNW6PS69"
      },
      "execution_count": null,
      "outputs": []
    },
    {
      "cell_type": "code",
      "source": [
        "# Now we have our data normalized and one-hot encoded\n",
        "X_train_normal[0]"
      ],
      "metadata": {
        "colab": {
          "base_uri": "https://localhost:8080/"
        },
        "id": "4dDvIv2EeSU-",
        "outputId": "e000bfee-0d41-44c9-d8dd-530cff3df334"
      },
      "execution_count": null,
      "outputs": [
        {
          "output_type": "execute_result",
          "data": {
            "text/plain": [
              "array([0.60869565, 0.10734463, 0.4       , 1.        , 0.        ,\n",
              "       0.        , 1.        , 0.        , 0.        , 1.        ,\n",
              "       0.        ])"
            ]
          },
          "metadata": {},
          "execution_count": 25
        }
      ]
    },
    {
      "cell_type": "code",
      "source": [
        "# Now that we have the data ready, let's build a model\n",
        "tf.random.set_seed(42)\n",
        "\n",
        "model = tf.keras.Sequential([\n",
        "    tf.keras.layers.Dense(100),\n",
        "    tf.keras.layers.Dense(10),\n",
        "    tf.keras.layers.Dense(1)\n",
        "])\n",
        "\n",
        "model.compile(loss = tf.keras.losses.mae,\n",
        "              optimizer = tf.keras.optimizers.Adam())\n",
        "\n",
        "history = model.fit(X_train_normal, y_train, epochs = 100)"
      ],
      "metadata": {
        "colab": {
          "base_uri": "https://localhost:8080/"
        },
        "id": "L52e8D3zeYDF",
        "outputId": "9bbde91e-db6c-4995-dda5-002b29dc64eb"
      },
      "execution_count": null,
      "outputs": [
        {
          "output_type": "stream",
          "name": "stdout",
          "text": [
            "Epoch 1/100\n",
            "34/34 [==============================] - 2s 4ms/step - loss: 13344.5781\n",
            "Epoch 2/100\n",
            "34/34 [==============================] - 0s 4ms/step - loss: 13337.4473\n",
            "Epoch 3/100\n",
            "34/34 [==============================] - 0s 3ms/step - loss: 13318.7402\n",
            "Epoch 4/100\n",
            "34/34 [==============================] - 0s 5ms/step - loss: 13277.9248\n",
            "Epoch 5/100\n",
            "34/34 [==============================] - 0s 4ms/step - loss: 13203.5605\n",
            "Epoch 6/100\n",
            "34/34 [==============================] - 0s 5ms/step - loss: 13084.6455\n",
            "Epoch 7/100\n",
            "34/34 [==============================] - 0s 4ms/step - loss: 12910.8242\n",
            "Epoch 8/100\n",
            "34/34 [==============================] - 0s 5ms/step - loss: 12671.9102\n",
            "Epoch 9/100\n",
            "34/34 [==============================] - 0s 4ms/step - loss: 12357.6553\n",
            "Epoch 10/100\n",
            "34/34 [==============================] - 0s 4ms/step - loss: 11962.7549\n",
            "Epoch 11/100\n",
            "34/34 [==============================] - 0s 5ms/step - loss: 11494.6846\n",
            "Epoch 12/100\n",
            "34/34 [==============================] - 0s 5ms/step - loss: 10990.7002\n",
            "Epoch 13/100\n",
            "34/34 [==============================] - 0s 5ms/step - loss: 10490.4619\n",
            "Epoch 14/100\n",
            "34/34 [==============================] - 0s 6ms/step - loss: 9991.8760\n",
            "Epoch 15/100\n",
            "34/34 [==============================] - 0s 4ms/step - loss: 9520.4814\n",
            "Epoch 16/100\n",
            "34/34 [==============================] - 0s 3ms/step - loss: 9099.7627\n",
            "Epoch 17/100\n",
            "34/34 [==============================] - 0s 3ms/step - loss: 8749.8945\n",
            "Epoch 18/100\n",
            "34/34 [==============================] - 0s 3ms/step - loss: 8468.2568\n",
            "Epoch 19/100\n",
            "34/34 [==============================] - 0s 3ms/step - loss: 8250.8398\n",
            "Epoch 20/100\n",
            "34/34 [==============================] - 0s 4ms/step - loss: 8102.7803\n",
            "Epoch 21/100\n",
            "34/34 [==============================] - 0s 3ms/step - loss: 7992.5806\n",
            "Epoch 22/100\n",
            "34/34 [==============================] - 0s 3ms/step - loss: 7917.5039\n",
            "Epoch 23/100\n",
            "34/34 [==============================] - 0s 3ms/step - loss: 7858.7446\n",
            "Epoch 24/100\n",
            "34/34 [==============================] - 0s 2ms/step - loss: 7806.5630\n",
            "Epoch 25/100\n",
            "34/34 [==============================] - 0s 2ms/step - loss: 7768.4092\n",
            "Epoch 26/100\n",
            "34/34 [==============================] - 0s 2ms/step - loss: 7717.0171\n",
            "Epoch 27/100\n",
            "34/34 [==============================] - 0s 2ms/step - loss: 7675.2129\n",
            "Epoch 28/100\n",
            "34/34 [==============================] - 0s 2ms/step - loss: 7633.1758\n",
            "Epoch 29/100\n",
            "34/34 [==============================] - 0s 2ms/step - loss: 7591.1108\n",
            "Epoch 30/100\n",
            "34/34 [==============================] - 0s 2ms/step - loss: 7548.3008\n",
            "Epoch 31/100\n",
            "34/34 [==============================] - 0s 2ms/step - loss: 7505.1484\n",
            "Epoch 32/100\n",
            "34/34 [==============================] - 0s 2ms/step - loss: 7461.7617\n",
            "Epoch 33/100\n",
            "34/34 [==============================] - 0s 2ms/step - loss: 7418.1406\n",
            "Epoch 34/100\n",
            "34/34 [==============================] - 0s 2ms/step - loss: 7370.7397\n",
            "Epoch 35/100\n",
            "34/34 [==============================] - 0s 2ms/step - loss: 7324.9390\n",
            "Epoch 36/100\n",
            "34/34 [==============================] - 0s 2ms/step - loss: 7275.7446\n",
            "Epoch 37/100\n",
            "34/34 [==============================] - 0s 2ms/step - loss: 7226.4736\n",
            "Epoch 38/100\n",
            "34/34 [==============================] - 0s 2ms/step - loss: 7176.5815\n",
            "Epoch 39/100\n",
            "34/34 [==============================] - 0s 2ms/step - loss: 7123.0059\n",
            "Epoch 40/100\n",
            "34/34 [==============================] - 0s 2ms/step - loss: 7068.7456\n",
            "Epoch 41/100\n",
            "34/34 [==============================] - 0s 2ms/step - loss: 7013.4443\n",
            "Epoch 42/100\n",
            "34/34 [==============================] - 0s 2ms/step - loss: 6955.9736\n",
            "Epoch 43/100\n",
            "34/34 [==============================] - 0s 2ms/step - loss: 6894.7871\n",
            "Epoch 44/100\n",
            "34/34 [==============================] - 0s 2ms/step - loss: 6830.2407\n",
            "Epoch 45/100\n",
            "34/34 [==============================] - 0s 2ms/step - loss: 6764.8193\n",
            "Epoch 46/100\n",
            "34/34 [==============================] - 0s 2ms/step - loss: 6697.2437\n",
            "Epoch 47/100\n",
            "34/34 [==============================] - 0s 2ms/step - loss: 6628.1567\n",
            "Epoch 48/100\n",
            "34/34 [==============================] - 0s 2ms/step - loss: 6551.5391\n",
            "Epoch 49/100\n",
            "34/34 [==============================] - 0s 2ms/step - loss: 6474.7070\n",
            "Epoch 50/100\n",
            "34/34 [==============================] - 0s 2ms/step - loss: 6391.5396\n",
            "Epoch 51/100\n",
            "34/34 [==============================] - 0s 2ms/step - loss: 6309.6567\n",
            "Epoch 52/100\n",
            "34/34 [==============================] - 0s 2ms/step - loss: 6219.0215\n",
            "Epoch 53/100\n",
            "34/34 [==============================] - 0s 2ms/step - loss: 6125.9790\n",
            "Epoch 54/100\n",
            "34/34 [==============================] - 0s 2ms/step - loss: 6030.3506\n",
            "Epoch 55/100\n",
            "34/34 [==============================] - 0s 2ms/step - loss: 5926.1592\n",
            "Epoch 56/100\n",
            "34/34 [==============================] - 0s 2ms/step - loss: 5821.2046\n",
            "Epoch 57/100\n",
            "34/34 [==============================] - 0s 2ms/step - loss: 5708.9727\n",
            "Epoch 58/100\n",
            "34/34 [==============================] - 0s 2ms/step - loss: 5592.6797\n",
            "Epoch 59/100\n",
            "34/34 [==============================] - 0s 2ms/step - loss: 5478.0054\n",
            "Epoch 60/100\n",
            "34/34 [==============================] - 0s 2ms/step - loss: 5358.7056\n",
            "Epoch 61/100\n",
            "34/34 [==============================] - 0s 2ms/step - loss: 5233.1875\n",
            "Epoch 62/100\n",
            "34/34 [==============================] - 0s 2ms/step - loss: 5107.1357\n",
            "Epoch 63/100\n",
            "34/34 [==============================] - 0s 2ms/step - loss: 4980.0522\n",
            "Epoch 64/100\n",
            "34/34 [==============================] - 0s 2ms/step - loss: 4849.6567\n",
            "Epoch 65/100\n",
            "34/34 [==============================] - 0s 2ms/step - loss: 4722.0630\n",
            "Epoch 66/100\n",
            "34/34 [==============================] - 0s 2ms/step - loss: 4592.2939\n",
            "Epoch 67/100\n",
            "34/34 [==============================] - 0s 2ms/step - loss: 4476.8174\n",
            "Epoch 68/100\n",
            "34/34 [==============================] - 0s 2ms/step - loss: 4366.9946\n",
            "Epoch 69/100\n",
            "34/34 [==============================] - 0s 2ms/step - loss: 4262.4839\n",
            "Epoch 70/100\n",
            "34/34 [==============================] - 0s 2ms/step - loss: 4165.0479\n",
            "Epoch 71/100\n",
            "34/34 [==============================] - 0s 2ms/step - loss: 4073.4438\n",
            "Epoch 72/100\n",
            "34/34 [==============================] - 0s 2ms/step - loss: 3991.3594\n",
            "Epoch 73/100\n",
            "34/34 [==============================] - 0s 2ms/step - loss: 3918.5940\n",
            "Epoch 74/100\n",
            "34/34 [==============================] - 0s 2ms/step - loss: 3857.3125\n",
            "Epoch 75/100\n",
            "34/34 [==============================] - 0s 2ms/step - loss: 3809.0071\n",
            "Epoch 76/100\n",
            "34/34 [==============================] - 0s 2ms/step - loss: 3770.0669\n",
            "Epoch 77/100\n",
            "34/34 [==============================] - 0s 2ms/step - loss: 3739.7637\n",
            "Epoch 78/100\n",
            "34/34 [==============================] - 0s 2ms/step - loss: 3717.9656\n",
            "Epoch 79/100\n",
            "34/34 [==============================] - 0s 2ms/step - loss: 3701.1997\n",
            "Epoch 80/100\n",
            "34/34 [==============================] - 0s 2ms/step - loss: 3689.6392\n",
            "Epoch 81/100\n",
            "34/34 [==============================] - 0s 2ms/step - loss: 3681.4265\n",
            "Epoch 82/100\n",
            "34/34 [==============================] - 0s 2ms/step - loss: 3676.8281\n",
            "Epoch 83/100\n",
            "34/34 [==============================] - 0s 2ms/step - loss: 3669.7146\n",
            "Epoch 84/100\n",
            "34/34 [==============================] - 0s 2ms/step - loss: 3666.0303\n",
            "Epoch 85/100\n",
            "34/34 [==============================] - 0s 2ms/step - loss: 3663.3723\n",
            "Epoch 86/100\n",
            "34/34 [==============================] - 0s 2ms/step - loss: 3661.1963\n",
            "Epoch 87/100\n",
            "34/34 [==============================] - 0s 2ms/step - loss: 3658.2012\n",
            "Epoch 88/100\n",
            "34/34 [==============================] - 0s 2ms/step - loss: 3655.4561\n",
            "Epoch 89/100\n",
            "34/34 [==============================] - 0s 2ms/step - loss: 3653.8645\n",
            "Epoch 90/100\n",
            "34/34 [==============================] - 0s 2ms/step - loss: 3652.1855\n",
            "Epoch 91/100\n",
            "34/34 [==============================] - 0s 2ms/step - loss: 3649.0608\n",
            "Epoch 92/100\n",
            "34/34 [==============================] - 0s 2ms/step - loss: 3648.4180\n",
            "Epoch 93/100\n",
            "34/34 [==============================] - 0s 2ms/step - loss: 3646.3203\n",
            "Epoch 94/100\n",
            "34/34 [==============================] - 0s 2ms/step - loss: 3644.4771\n",
            "Epoch 95/100\n",
            "34/34 [==============================] - 0s 2ms/step - loss: 3645.3611\n",
            "Epoch 96/100\n",
            "34/34 [==============================] - 0s 2ms/step - loss: 3642.5137\n",
            "Epoch 97/100\n",
            "34/34 [==============================] - 0s 2ms/step - loss: 3639.9678\n",
            "Epoch 98/100\n",
            "34/34 [==============================] - 0s 2ms/step - loss: 3638.0532\n",
            "Epoch 99/100\n",
            "34/34 [==============================] - 0s 2ms/step - loss: 3637.0911\n",
            "Epoch 100/100\n",
            "34/34 [==============================] - 0s 2ms/step - loss: 3635.9475\n"
          ]
        }
      ]
    },
    {
      "cell_type": "code",
      "source": [
        "# Evaluating on the test data\n",
        "model.evaluate(X_test_normal, y_test)"
      ],
      "metadata": {
        "colab": {
          "base_uri": "https://localhost:8080/"
        },
        "id": "jn94fvsFfOWa",
        "outputId": "1b7f9b3f-8d1d-4eb3-8c96-f43a500259ee"
      },
      "execution_count": null,
      "outputs": [
        {
          "output_type": "stream",
          "name": "stdout",
          "text": [
            "9/9 [==============================] - 0s 2ms/step - loss: 3439.7761\n"
          ]
        },
        {
          "output_type": "execute_result",
          "data": {
            "text/plain": [
              "3439.776123046875"
            ]
          },
          "metadata": {},
          "execution_count": 43
        }
      ]
    },
    {
      "cell_type": "markdown",
      "source": [
        "Great! The loss was reduced from around 5000 to around 3400 which is about 32%."
      ],
      "metadata": {
        "id": "O4QTSfw6gNzK"
      }
    },
    {
      "cell_type": "code",
      "source": [
        "# Plotting the loss curve\n",
        "pd.DataFrame(history.history).plot()\n",
        "plt.xlabel('Epochs')\n",
        "plt.ylabel('Loss');"
      ],
      "metadata": {
        "colab": {
          "base_uri": "https://localhost:8080/",
          "height": 449
        },
        "id": "3n1vz2tSfbyS",
        "outputId": "52f405ef-d0ac-4935-c52a-d802d66cedae"
      },
      "execution_count": null,
      "outputs": [
        {
          "output_type": "display_data",
          "data": {
            "text/plain": [
              "<Figure size 640x480 with 1 Axes>"
            ],
            "image/png": "[encoded data removed]"
          },
          "metadata": {}
        }
      ]
    }
  ],
  "metadata": {
    "colab": {
      "provenance": [],
      "mount_file_id": "15lK5FJAIGGUJztZWosQIuR9zwNeoAzfl",
      "authorship_tag": "ABX9TyNitXJD4D3nFzAt/pOYDjHT",
      "include_colab_link": true
    },
    "kernelspec": {
      "display_name": "Python 3",
      "name": "python3"
    },
    "language_info": {
      "name": "python"
    }
  },
  "nbformat": 4,
  "nbformat_minor": 0
}