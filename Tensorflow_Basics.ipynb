{
  "nbformat": 4,
  "nbformat_minor": 0,
  "metadata": {
    "colab": {
      "provenance": [],
      "gpuType": "T4",
      "authorship_tag": "ABX9TyNp/lN3itEnddLApXV39w2c",
      "include_colab_link": true
    },
    "kernelspec": {
      "name": "python3",
      "display_name": "Python 3"
    },
    "language_info": {
      "name": "python"
    },
    "accelerator": "GPU"
  },
  "cells": [
    {
      "cell_type": "markdown",
      "metadata": {
        "id": "view-in-github",
        "colab_type": "text"
      },
      "source": [
        "<a href=\"https://colab.research.google.com/github/waleedGeorgy/deep-learning/blob/main/Tensorflow_Basics.ipynb\" target=\"_parent\"><img src=\"https://colab.research.google.com/assets/colab-badge.svg\" alt=\"Open In Colab\"/></a>"
      ]
    },
    {
      "cell_type": "markdown",
      "source": [
        "# Creating basic Constant Tensors"
      ],
      "metadata": {
        "id": "wwgAaobalNt9"
      }
    },
    {
      "cell_type": "markdown",
      "source": [
        "First we'll get familiar with some tensorflow basics"
      ],
      "metadata": {
        "id": "KyoCN1Psf7t6"
      }
    },
    {
      "cell_type": "code",
      "source": [
        "# Importing TensorFlow\n",
        "import tensorflow as tf\n",
        "\n",
        "print(tf.__version__)"
      ],
      "metadata": {
        "colab": {
          "base_uri": "https://localhost:8080/"
        },
        "id": "vJe_np1Qfk-N",
        "outputId": "76f58a7f-43c4-4fe2-dcc3-62de1885536b"
      },
      "execution_count": null,
      "outputs": [
        {
          "output_type": "stream",
          "name": "stdout",
          "text": [
            "2.15.0\n"
          ]
        }
      ]
    },
    {
      "cell_type": "code",
      "source": [
        "# Creating scalars\n",
        "scalar = tf.constant(7)\n",
        "scalar"
      ],
      "metadata": {
        "colab": {
          "base_uri": "https://localhost:8080/"
        },
        "id": "3sGFHj1If5Kr",
        "outputId": "c40efb92-c698-4a7e-91b7-a2a21b6c025d"
      },
      "execution_count": null,
      "outputs": [
        {
          "output_type": "execute_result",
          "data": {
            "text/plain": [
              "<tf.Tensor: shape=(), dtype=int32, numpy=7>"
            ]
          },
          "metadata": {},
          "execution_count": 2
        }
      ]
    },
    {
      "cell_type": "code",
      "source": [
        "# Checking the num of dimensions in the scalar\n",
        "scalar.ndim # Got 0 dims"
      ],
      "metadata": {
        "colab": {
          "base_uri": "https://localhost:8080/"
        },
        "id": "XDsSJPqRgV5i",
        "outputId": "4005e3d9-2e29-45c0-e6a6-530bb97522c2"
      },
      "execution_count": null,
      "outputs": [
        {
          "output_type": "execute_result",
          "data": {
            "text/plain": [
              "0"
            ]
          },
          "metadata": {},
          "execution_count": 3
        }
      ]
    },
    {
      "cell_type": "code",
      "source": [
        "# Creating a vector\n",
        "vector = tf.constant([10, 10])\n",
        "vector"
      ],
      "metadata": {
        "colab": {
          "base_uri": "https://localhost:8080/"
        },
        "id": "uor6FB9sgqr7",
        "outputId": "286153f1-4457-4b06-a5ac-5fc6e0c08540"
      },
      "execution_count": null,
      "outputs": [
        {
          "output_type": "execute_result",
          "data": {
            "text/plain": [
              "<tf.Tensor: shape=(2,), dtype=int32, numpy=array([10, 10], dtype=int32)>"
            ]
          },
          "metadata": {},
          "execution_count": 4
        }
      ]
    },
    {
      "cell_type": "code",
      "source": [
        "vector.ndim # Got 1 dim"
      ],
      "metadata": {
        "colab": {
          "base_uri": "https://localhost:8080/"
        },
        "id": "jfRmGvQTgxU9",
        "outputId": "87880878-ed5e-4cf5-b2d8-24a6036e73eb"
      },
      "execution_count": null,
      "outputs": [
        {
          "output_type": "execute_result",
          "data": {
            "text/plain": [
              "1"
            ]
          },
          "metadata": {},
          "execution_count": 5
        }
      ]
    },
    {
      "cell_type": "code",
      "source": [
        "# Creating a matrix\n",
        "matrix = tf.constant([[10,7],\n",
        "                      [5,9]])\n",
        "matrix"
      ],
      "metadata": {
        "colab": {
          "base_uri": "https://localhost:8080/"
        },
        "id": "TGLFU21Sg69E",
        "outputId": "c6f8811b-8b4c-4032-fbd5-d2364e0e4e23"
      },
      "execution_count": null,
      "outputs": [
        {
          "output_type": "execute_result",
          "data": {
            "text/plain": [
              "<tf.Tensor: shape=(2, 2), dtype=int32, numpy=\n",
              "array([[10,  7],\n",
              "       [ 5,  9]], dtype=int32)>"
            ]
          },
          "metadata": {},
          "execution_count": 6
        }
      ]
    },
    {
      "cell_type": "code",
      "source": [
        "matrix.ndim # Got 2 dim"
      ],
      "metadata": {
        "colab": {
          "base_uri": "https://localhost:8080/"
        },
        "id": "wKr1R4o6hGvB",
        "outputId": "d4c4f722-1fe3-4507-cbf9-0ae5cd4c2d78"
      },
      "execution_count": null,
      "outputs": [
        {
          "output_type": "execute_result",
          "data": {
            "text/plain": [
              "2"
            ]
          },
          "metadata": {},
          "execution_count": 7
        }
      ]
    },
    {
      "cell_type": "code",
      "source": [
        "# Creating a matrix with a specific data type\n",
        "matrix = tf.constant([[1.5,2.],\n",
        "                      [5.,4.6],\n",
        "                      [9.3,3.]], dtype = tf.float16)\n",
        "matrix"
      ],
      "metadata": {
        "colab": {
          "base_uri": "https://localhost:8080/"
        },
        "id": "hsCHXgcbhKK4",
        "outputId": "ea7be4df-4ceb-4ffb-a0bb-37e6a5aedb6a"
      },
      "execution_count": null,
      "outputs": [
        {
          "output_type": "execute_result",
          "data": {
            "text/plain": [
              "<tf.Tensor: shape=(3, 2), dtype=float16, numpy=\n",
              "array([[1.5, 2. ],\n",
              "       [5. , 4.6],\n",
              "       [9.3, 3. ]], dtype=float16)>"
            ]
          },
          "metadata": {},
          "execution_count": 8
        }
      ]
    },
    {
      "cell_type": "code",
      "source": [
        "# Creating a tensor\n",
        "tensor = tf.constant([[[1,2,3],[2,3,4]],\n",
        "                      [[5,4,3],[2,3,5]]])\n",
        "tensor"
      ],
      "metadata": {
        "colab": {
          "base_uri": "https://localhost:8080/"
        },
        "id": "nBH_Za6DhsdT",
        "outputId": "8a677638-d8ed-4ac2-f9f8-a0e81ca2bb90"
      },
      "execution_count": null,
      "outputs": [
        {
          "output_type": "execute_result",
          "data": {
            "text/plain": [
              "<tf.Tensor: shape=(2, 2, 3), dtype=int32, numpy=\n",
              "array([[[1, 2, 3],\n",
              "        [2, 3, 4]],\n",
              "\n",
              "       [[5, 4, 3],\n",
              "        [2, 3, 5]]], dtype=int32)>"
            ]
          },
          "metadata": {},
          "execution_count": 9
        }
      ]
    },
    {
      "cell_type": "code",
      "source": [
        "tensor.ndim"
      ],
      "metadata": {
        "colab": {
          "base_uri": "https://localhost:8080/"
        },
        "id": "rPWWvjGmiWu_",
        "outputId": "2f379f29-1737-4fe4-f817-ed9a68f0a3a7"
      },
      "execution_count": null,
      "outputs": [
        {
          "output_type": "execute_result",
          "data": {
            "text/plain": [
              "3"
            ]
          },
          "metadata": {},
          "execution_count": 10
        }
      ]
    },
    {
      "cell_type": "markdown",
      "source": [
        "A **Tensor** is a numerical representation of data that acts as the input and output of a deep learning model.\n",
        "\n",
        "A Tensor is a n-dimensional array. When:\n",
        "*   n = 0 we get a scalar;\n",
        "*   n = 1 we get a vector;\n",
        "*   n = 2 we get a matrix;\n",
        "* n > 2 we get a tensor.\n",
        "\n",
        "The number of dimensions in a tensor can be determined by the number of opening and closing square brackets. For example, if a tensor has 3 opening and 3 closing brackets, it means that we are looking at a 3-dimensional tensor.\n",
        "\n",
        "For scalars and vectors, parentheses are used, where 2 empty parentheses distinguish a scalar, and 2 paranthses with a number (that defines the number of elements in the vector) distinguish a vector.\n",
        "\n",
        "\n"
      ],
      "metadata": {
        "id": "oTwLV03YijWQ"
      }
    },
    {
      "cell_type": "markdown",
      "source": [
        "# Creating basic variable Tensors"
      ],
      "metadata": {
        "id": "rue4sJN8lSzo"
      }
    },
    {
      "cell_type": "markdown",
      "source": [
        "Tensors created using .constant() can't have their elements changed. Attempting to change a value here will raise an error.\n",
        "\n",
        "Tensors that are created using .Variable() can have their elements changed, i.e. we can assign new values to tensor elements."
      ],
      "metadata": {
        "id": "WeiTFPYYlmCh"
      }
    },
    {
      "cell_type": "code",
      "source": [
        "# We can't reaasign values in constant tensors\n",
        "const_tensor = tf.constant([10, 5, 3])\n",
        "# These 2 lines won't work and will raise errors\n",
        "const_tensor[0] = 7\n",
        "const_tensor[0].assign(7)"
      ],
      "metadata": {
        "id": "HTrqb8KfihJW",
        "colab": {
          "base_uri": "https://localhost:8080/",
          "height": 200
        },
        "outputId": "7d3a23d8-f9e0-4597-f396-e3261a8edf15"
      },
      "execution_count": null,
      "outputs": [
        {
          "output_type": "error",
          "ename": "TypeError",
          "evalue": "'tensorflow.python.framework.ops.EagerTensor' object does not support item assignment",
          "traceback": [
            "\u001b[0;31m---------------------------------------------------------------------------\u001b[0m",
            "\u001b[0;31mTypeError\u001b[0m                                 Traceback (most recent call last)",
            "\u001b[0;32m<ipython-input-11-bd7c9a8574c5>\u001b[0m in \u001b[0;36m<cell line: 4>\u001b[0;34m()\u001b[0m\n\u001b[1;32m      2\u001b[0m \u001b[0mconst_tensor\u001b[0m \u001b[0;34m=\u001b[0m \u001b[0mtf\u001b[0m\u001b[0;34m.\u001b[0m\u001b[0mconstant\u001b[0m\u001b[0;34m(\u001b[0m\u001b[0;34m[\u001b[0m\u001b[0;36m10\u001b[0m\u001b[0;34m,\u001b[0m \u001b[0;36m5\u001b[0m\u001b[0;34m,\u001b[0m \u001b[0;36m3\u001b[0m\u001b[0;34m]\u001b[0m\u001b[0;34m)\u001b[0m\u001b[0;34m\u001b[0m\u001b[0;34m\u001b[0m\u001b[0m\n\u001b[1;32m      3\u001b[0m \u001b[0;31m# These 2 lines won't work and will raise errors\u001b[0m\u001b[0;34m\u001b[0m\u001b[0;34m\u001b[0m\u001b[0m\n\u001b[0;32m----> 4\u001b[0;31m \u001b[0mconst_tensor\u001b[0m\u001b[0;34m[\u001b[0m\u001b[0;36m0\u001b[0m\u001b[0;34m]\u001b[0m \u001b[0;34m=\u001b[0m \u001b[0;36m7\u001b[0m\u001b[0;34m\u001b[0m\u001b[0;34m\u001b[0m\u001b[0m\n\u001b[0m\u001b[1;32m      5\u001b[0m \u001b[0mconst_tensor\u001b[0m\u001b[0;34m[\u001b[0m\u001b[0;36m0\u001b[0m\u001b[0;34m]\u001b[0m\u001b[0;34m.\u001b[0m\u001b[0massign\u001b[0m\u001b[0;34m(\u001b[0m\u001b[0;36m7\u001b[0m\u001b[0;34m)\u001b[0m\u001b[0;34m\u001b[0m\u001b[0;34m\u001b[0m\u001b[0m\n",
            "\u001b[0;31mTypeError\u001b[0m: 'tensorflow.python.framework.ops.EagerTensor' object does not support item assignment"
          ]
        }
      ]
    },
    {
      "cell_type": "code",
      "source": [
        "# Here we were able to reassign the first value of the variable tensor\n",
        "var_tensor = tf.Variable([10, 5, 3])\n",
        "var_tensor[0].assign(7)"
      ],
      "metadata": {
        "colab": {
          "base_uri": "https://localhost:8080/"
        },
        "id": "DGPiubWUksDn",
        "outputId": "05d4c4ff-90b3-4677-ce37-06c540292932"
      },
      "execution_count": null,
      "outputs": [
        {
          "output_type": "execute_result",
          "data": {
            "text/plain": [
              "<tf.Variable 'UnreadVariable' shape=(3,) dtype=int32, numpy=array([7, 5, 3], dtype=int32)>"
            ]
          },
          "metadata": {},
          "execution_count": 11
        }
      ]
    },
    {
      "cell_type": "markdown",
      "source": [
        "# Creating Random Tensors"
      ],
      "metadata": {
        "id": "VJWyDO66nBBX"
      }
    },
    {
      "cell_type": "code",
      "source": [
        "# Creating a random tensor with normal distribution\n",
        "random_1 = tf.random.Generator.from_seed(42) # Setting an operation specifi random seed\n",
        "random_1 = random_1.normal(shape=(3,2)) # Creating a random tensor from above seed with shape of 3x2\n",
        "random_1"
      ],
      "metadata": {
        "id": "QkRCZdJWmiPE",
        "colab": {
          "base_uri": "https://localhost:8080/"
        },
        "outputId": "0941633b-611e-48f0-e3cf-bab7e913e3ec"
      },
      "execution_count": null,
      "outputs": [
        {
          "output_type": "execute_result",
          "data": {
            "text/plain": [
              "<tf.Tensor: shape=(3, 2), dtype=float32, numpy=\n",
              "array([[-0.7565803 , -0.06854702],\n",
              "       [ 0.07595026, -1.2573844 ],\n",
              "       [-0.23193763, -1.8107855 ]], dtype=float32)>"
            ]
          },
          "metadata": {},
          "execution_count": 12
        }
      ]
    },
    {
      "cell_type": "code",
      "source": [
        "# Creating a random tensor with uniform distribution\n",
        "random_2 = tf.random.Generator.from_seed(42)\n",
        "random_2 = random_2.uniform(shape=(3,2))\n",
        "random_2"
      ],
      "metadata": {
        "colab": {
          "base_uri": "https://localhost:8080/"
        },
        "id": "FB4HSG8FpSc0",
        "outputId": "32f30ec7-4764-4eff-c291-0f8ec35f6e34"
      },
      "execution_count": null,
      "outputs": [
        {
          "output_type": "execute_result",
          "data": {
            "text/plain": [
              "<tf.Tensor: shape=(3, 2), dtype=float32, numpy=\n",
              "array([[0.7493447 , 0.73561966],\n",
              "       [0.45230794, 0.49039817],\n",
              "       [0.1889317 , 0.52027524]], dtype=float32)>"
            ]
          },
          "metadata": {},
          "execution_count": 13
        }
      ]
    },
    {
      "cell_type": "code",
      "source": [
        "tf.random.set_seed(42) # Sets a global random seed\n",
        "random_4 = tf.random.normal(shape = (3,2))\n",
        "random_4"
      ],
      "metadata": {
        "id": "z9xSsnbIqP8E",
        "colab": {
          "base_uri": "https://localhost:8080/"
        },
        "outputId": "b3350f0c-3463-4d59-c5f3-8bb1b4c92775"
      },
      "execution_count": null,
      "outputs": [
        {
          "output_type": "execute_result",
          "data": {
            "text/plain": [
              "<tf.Tensor: shape=(3, 2), dtype=float32, numpy=\n",
              "array([[ 0.3274685, -0.8426258],\n",
              "       [ 0.3194337, -1.4075519],\n",
              "       [-2.3880599, -1.0392479]], dtype=float32)>"
            ]
          },
          "metadata": {},
          "execution_count": 14
        }
      ]
    },
    {
      "cell_type": "markdown",
      "source": [
        "TensorFlow operates on two levels of random seeds: **global level** seeds and **operation level** seeds.\n",
        "\n",
        "Due to that, random seeds in Tensorflow follow a certain behaviour, which is explained [here](https://www.tensorflow.org/api_docs/python/tf/random/set_seed)"
      ],
      "metadata": {
        "id": "adob0JO9vXiF"
      }
    },
    {
      "cell_type": "markdown",
      "source": [
        "# Shuffling Tensors"
      ],
      "metadata": {
        "id": "35k1eMMWt0Bs"
      }
    },
    {
      "cell_type": "markdown",
      "source": [
        "Shuffling is needed to get rid of the inherit order that could be present in the tensors, so this order does not affect the learning process of the model."
      ],
      "metadata": {
        "id": "WsUZPkDTt2pa"
      }
    },
    {
      "cell_type": "code",
      "source": [
        "not_shuffled = tf.constant([[2,5],\n",
        "                            [6,10],\n",
        "                            [1,9]])\n",
        "not_shuffled"
      ],
      "metadata": {
        "colab": {
          "base_uri": "https://localhost:8080/"
        },
        "id": "_18PlWdcsU4K",
        "outputId": "bc34b5e5-6bd3-4937-fd70-ea455821df15"
      },
      "execution_count": null,
      "outputs": [
        {
          "output_type": "execute_result",
          "data": {
            "text/plain": [
              "<tf.Tensor: shape=(3, 2), dtype=int32, numpy=\n",
              "array([[ 2,  5],\n",
              "       [ 6, 10],\n",
              "       [ 1,  9]], dtype=int32)>"
            ]
          },
          "metadata": {},
          "execution_count": 15
        }
      ]
    },
    {
      "cell_type": "code",
      "source": [
        "# .random.shuffle() randomly shuffles the tensor along the first dimension\n",
        "# Here we're shuffling along the rows\n",
        "tf.random.shuffle(not_shuffled)"
      ],
      "metadata": {
        "colab": {
          "base_uri": "https://localhost:8080/"
        },
        "id": "Q_l9xV-euPGJ",
        "outputId": "8d5c1b84-beb5-4f71-946d-de99504efa36"
      },
      "execution_count": null,
      "outputs": [
        {
          "output_type": "execute_result",
          "data": {
            "text/plain": [
              "<tf.Tensor: shape=(3, 2), dtype=int32, numpy=\n",
              "array([[ 1,  9],\n",
              "       [ 2,  5],\n",
              "       [ 6, 10]], dtype=int32)>"
            ]
          },
          "metadata": {},
          "execution_count": 16
        }
      ]
    },
    {
      "cell_type": "code",
      "source": [
        "# We can set a global seed for the shuffing\n",
        "tf.random.set_seed(42)\n",
        "tf.random.shuffle(not_shuffled)"
      ],
      "metadata": {
        "colab": {
          "base_uri": "https://localhost:8080/"
        },
        "id": "jL8VWomjuYkS",
        "outputId": "eb1d3e0e-3f52-45e2-f87b-4aa34aa51745"
      },
      "execution_count": null,
      "outputs": [
        {
          "output_type": "execute_result",
          "data": {
            "text/plain": [
              "<tf.Tensor: shape=(3, 2), dtype=int32, numpy=\n",
              "array([[ 6, 10],\n",
              "       [ 1,  9],\n",
              "       [ 2,  5]], dtype=int32)>"
            ]
          },
          "metadata": {},
          "execution_count": 17
        }
      ]
    },
    {
      "cell_type": "markdown",
      "source": [
        "# Other ways to create tensors"
      ],
      "metadata": {
        "id": "F2T6q2newvug"
      }
    },
    {
      "cell_type": "code",
      "source": [
        "# Creating a tensor on ones\n",
        "ones = tf.ones((3,4))\n",
        "ones"
      ],
      "metadata": {
        "colab": {
          "base_uri": "https://localhost:8080/"
        },
        "id": "R20yWUkfvDXP",
        "outputId": "e151edba-2db6-4396-bf70-17a33dbf186f"
      },
      "execution_count": null,
      "outputs": [
        {
          "output_type": "execute_result",
          "data": {
            "text/plain": [
              "<tf.Tensor: shape=(3, 4), dtype=float32, numpy=\n",
              "array([[1., 1., 1., 1.],\n",
              "       [1., 1., 1., 1.],\n",
              "       [1., 1., 1., 1.]], dtype=float32)>"
            ]
          },
          "metadata": {},
          "execution_count": 18
        }
      ]
    },
    {
      "cell_type": "code",
      "source": [
        "# Creating a tensor on zeros\n",
        "zeros = tf.zeros((3,4))\n",
        "zeros"
      ],
      "metadata": {
        "colab": {
          "base_uri": "https://localhost:8080/"
        },
        "id": "AehhylBTw3SN",
        "outputId": "0f1e66f5-0654-4b8d-fcb4-3146d00ba184"
      },
      "execution_count": null,
      "outputs": [
        {
          "output_type": "execute_result",
          "data": {
            "text/plain": [
              "<tf.Tensor: shape=(3, 4), dtype=float32, numpy=\n",
              "array([[0., 0., 0., 0.],\n",
              "       [0., 0., 0., 0.],\n",
              "       [0., 0., 0., 0.]], dtype=float32)>"
            ]
          },
          "metadata": {},
          "execution_count": 19
        }
      ]
    },
    {
      "cell_type": "code",
      "source": [
        "# Creating tensors from numpy arrays\n",
        "import numpy as np\n",
        "numpy_A = np.arange(1,25, dtype = np.int32)\n",
        "print(numpy_A)\n",
        "\n",
        "numpy_tensor = tf.constant(numpy_A)\n",
        "print(numpy_tensor)"
      ],
      "metadata": {
        "colab": {
          "base_uri": "https://localhost:8080/"
        },
        "id": "kvBi0LS7w-G4",
        "outputId": "fcba6188-fe27-4ded-9985-86134310e739"
      },
      "execution_count": null,
      "outputs": [
        {
          "output_type": "stream",
          "name": "stdout",
          "text": [
            "[ 1  2  3  4  5  6  7  8  9 10 11 12 13 14 15 16 17 18 19 20 21 22 23 24]\n",
            "tf.Tensor([ 1  2  3  4  5  6  7  8  9 10 11 12 13 14 15 16 17 18 19 20 21 22 23 24], shape=(24,), dtype=int32)\n"
          ]
        }
      ]
    },
    {
      "cell_type": "code",
      "source": [
        "# Turning the same numpy array into a tensor of different shape\n",
        "# Important to note that the length of the np array must be equal to the number of elements in the dimensions\n",
        "numpy_tensor_new = tf.constant(numpy_A, shape = (2,3,4))\n",
        "numpy_tensor_new"
      ],
      "metadata": {
        "colab": {
          "base_uri": "https://localhost:8080/"
        },
        "id": "e_amF7EBxSJO",
        "outputId": "02ba53cc-8b4c-4003-c370-378ec2593c22"
      },
      "execution_count": null,
      "outputs": [
        {
          "output_type": "execute_result",
          "data": {
            "text/plain": [
              "<tf.Tensor: shape=(2, 3, 4), dtype=int32, numpy=\n",
              "array([[[ 1,  2,  3,  4],\n",
              "        [ 5,  6,  7,  8],\n",
              "        [ 9, 10, 11, 12]],\n",
              "\n",
              "       [[13, 14, 15, 16],\n",
              "        [17, 18, 19, 20],\n",
              "        [21, 22, 23, 24]]], dtype=int32)>"
            ]
          },
          "metadata": {},
          "execution_count": 21
        }
      ]
    },
    {
      "cell_type": "code",
      "source": [
        "np_array = np.random.rand(3,4)\n",
        "np_array"
      ],
      "metadata": {
        "colab": {
          "base_uri": "https://localhost:8080/"
        },
        "id": "IIievurex32J",
        "outputId": "fd168eca-7185-412b-90e4-dbf31a62cbe1"
      },
      "execution_count": null,
      "outputs": [
        {
          "output_type": "execute_result",
          "data": {
            "text/plain": [
              "array([[0.83105201, 0.04801692, 0.05508163, 0.85325359],\n",
              "       [0.41820138, 0.27181043, 0.32839905, 0.75375637],\n",
              "       [0.10986109, 0.95479774, 0.14876413, 0.5736886 ]])"
            ]
          },
          "metadata": {},
          "execution_count": 22
        }
      ]
    },
    {
      "cell_type": "code",
      "source": [
        "rand_tensor = tf.constant(np_array, shape = (6,2))\n",
        "rand_tensor"
      ],
      "metadata": {
        "colab": {
          "base_uri": "https://localhost:8080/"
        },
        "id": "GshdfwFkyfjj",
        "outputId": "66222a03-f99a-410e-a856-3594ffc04800"
      },
      "execution_count": null,
      "outputs": [
        {
          "output_type": "execute_result",
          "data": {
            "text/plain": [
              "<tf.Tensor: shape=(6, 2), dtype=float64, numpy=\n",
              "array([[0.83105201, 0.04801692],\n",
              "       [0.05508163, 0.85325359],\n",
              "       [0.41820138, 0.27181043],\n",
              "       [0.32839905, 0.75375637],\n",
              "       [0.10986109, 0.95479774],\n",
              "       [0.14876413, 0.5736886 ]])>"
            ]
          },
          "metadata": {},
          "execution_count": 23
        }
      ]
    },
    {
      "cell_type": "markdown",
      "source": [
        "# Getting information from tensors"
      ],
      "metadata": {
        "id": "bg0jHMuTzyOy"
      }
    },
    {
      "cell_type": "code",
      "source": [
        "# Shape of the tensor\n",
        "tensor = tf.zeros(shape = (2,3,4,5))\n",
        "tensor"
      ],
      "metadata": {
        "colab": {
          "base_uri": "https://localhost:8080/"
        },
        "id": "XtfG9D9bzBZs",
        "outputId": "d7ec42c3-c036-4c07-e540-9ecefd7e0a7c"
      },
      "execution_count": null,
      "outputs": [
        {
          "output_type": "execute_result",
          "data": {
            "text/plain": [
              "<tf.Tensor: shape=(2, 3, 4, 5), dtype=float32, numpy=\n",
              "array([[[[0., 0., 0., 0., 0.],\n",
              "         [0., 0., 0., 0., 0.],\n",
              "         [0., 0., 0., 0., 0.],\n",
              "         [0., 0., 0., 0., 0.]],\n",
              "\n",
              "        [[0., 0., 0., 0., 0.],\n",
              "         [0., 0., 0., 0., 0.],\n",
              "         [0., 0., 0., 0., 0.],\n",
              "         [0., 0., 0., 0., 0.]],\n",
              "\n",
              "        [[0., 0., 0., 0., 0.],\n",
              "         [0., 0., 0., 0., 0.],\n",
              "         [0., 0., 0., 0., 0.],\n",
              "         [0., 0., 0., 0., 0.]]],\n",
              "\n",
              "\n",
              "       [[[0., 0., 0., 0., 0.],\n",
              "         [0., 0., 0., 0., 0.],\n",
              "         [0., 0., 0., 0., 0.],\n",
              "         [0., 0., 0., 0., 0.]],\n",
              "\n",
              "        [[0., 0., 0., 0., 0.],\n",
              "         [0., 0., 0., 0., 0.],\n",
              "         [0., 0., 0., 0., 0.],\n",
              "         [0., 0., 0., 0., 0.]],\n",
              "\n",
              "        [[0., 0., 0., 0., 0.],\n",
              "         [0., 0., 0., 0., 0.],\n",
              "         [0., 0., 0., 0., 0.],\n",
              "         [0., 0., 0., 0., 0.]]]], dtype=float32)>"
            ]
          },
          "metadata": {},
          "execution_count": 24
        }
      ]
    },
    {
      "cell_type": "code",
      "source": [
        "tensor.shape"
      ],
      "metadata": {
        "colab": {
          "base_uri": "https://localhost:8080/"
        },
        "id": "9FnEa6ew0EzU",
        "outputId": "9e6d8111-d1ba-4835-81d5-53f9b85a39ff"
      },
      "execution_count": null,
      "outputs": [
        {
          "output_type": "execute_result",
          "data": {
            "text/plain": [
              "TensorShape([2, 3, 4, 5])"
            ]
          },
          "metadata": {},
          "execution_count": 25
        }
      ]
    },
    {
      "cell_type": "code",
      "source": [
        "# Indexing dimension (indexing on the zeroth axis)\n",
        "tensor[0]"
      ],
      "metadata": {
        "colab": {
          "base_uri": "https://localhost:8080/"
        },
        "id": "mBPfCvi406b6",
        "outputId": "b882595c-ca3b-4317-89a0-51205f3a6c01"
      },
      "execution_count": null,
      "outputs": [
        {
          "output_type": "execute_result",
          "data": {
            "text/plain": [
              "<tf.Tensor: shape=(3, 4, 5), dtype=float32, numpy=\n",
              "array([[[0., 0., 0., 0., 0.],\n",
              "        [0., 0., 0., 0., 0.],\n",
              "        [0., 0., 0., 0., 0.],\n",
              "        [0., 0., 0., 0., 0.]],\n",
              "\n",
              "       [[0., 0., 0., 0., 0.],\n",
              "        [0., 0., 0., 0., 0.],\n",
              "        [0., 0., 0., 0., 0.],\n",
              "        [0., 0., 0., 0., 0.]],\n",
              "\n",
              "       [[0., 0., 0., 0., 0.],\n",
              "        [0., 0., 0., 0., 0.],\n",
              "        [0., 0., 0., 0., 0.],\n",
              "        [0., 0., 0., 0., 0.]]], dtype=float32)>"
            ]
          },
          "metadata": {},
          "execution_count": 26
        }
      ]
    },
    {
      "cell_type": "code",
      "source": [
        "# Number of dimensions on the tensor (rank of tensor)\n",
        "tensor.ndim"
      ],
      "metadata": {
        "colab": {
          "base_uri": "https://localhost:8080/"
        },
        "id": "7oKIfB-h1CT5",
        "outputId": "f5164aad-73e2-4add-956c-3b7604435d3c"
      },
      "execution_count": null,
      "outputs": [
        {
          "output_type": "execute_result",
          "data": {
            "text/plain": [
              "4"
            ]
          },
          "metadata": {},
          "execution_count": 27
        }
      ]
    },
    {
      "cell_type": "code",
      "source": [
        "# Size of the tensor\n",
        "tf.size(tensor)"
      ],
      "metadata": {
        "colab": {
          "base_uri": "https://localhost:8080/"
        },
        "id": "cyaM9tI01Li4",
        "outputId": "f3a04937-4282-4aeb-983c-9da9ae6ab795"
      },
      "execution_count": null,
      "outputs": [
        {
          "output_type": "execute_result",
          "data": {
            "text/plain": [
              "<tf.Tensor: shape=(), dtype=int32, numpy=120>"
            ]
          },
          "metadata": {},
          "execution_count": 28
        }
      ]
    },
    {
      "cell_type": "code",
      "source": [
        "# Tensor datatype\n",
        "tensor.dtype"
      ],
      "metadata": {
        "colab": {
          "base_uri": "https://localhost:8080/"
        },
        "id": "A5dyY2n61Nz4",
        "outputId": "5ca526b5-8d39-4986-b6eb-48a8189f9d08"
      },
      "execution_count": null,
      "outputs": [
        {
          "output_type": "execute_result",
          "data": {
            "text/plain": [
              "tf.float32"
            ]
          },
          "metadata": {},
          "execution_count": 29
        }
      ]
    },
    {
      "cell_type": "code",
      "source": [
        "# Indexing tensors (first 2 elements from each dim)\n",
        "tensor[:2,:2,:2,:2]"
      ],
      "metadata": {
        "colab": {
          "base_uri": "https://localhost:8080/"
        },
        "id": "Pjs2QbiT1lm_",
        "outputId": "90e18752-d496-4b24-b56c-33371e1d2bc5"
      },
      "execution_count": null,
      "outputs": [
        {
          "output_type": "execute_result",
          "data": {
            "text/plain": [
              "<tf.Tensor: shape=(2, 2, 2, 2), dtype=float32, numpy=\n",
              "array([[[[0., 0.],\n",
              "         [0., 0.]],\n",
              "\n",
              "        [[0., 0.],\n",
              "         [0., 0.]]],\n",
              "\n",
              "\n",
              "       [[[0., 0.],\n",
              "         [0., 0.]],\n",
              "\n",
              "        [[0., 0.],\n",
              "         [0., 0.]]]], dtype=float32)>"
            ]
          },
          "metadata": {},
          "execution_count": 30
        }
      ]
    },
    {
      "cell_type": "code",
      "source": [
        "# First element from each dim except for the third dim\n",
        "tensor[:1, :1, :, :1]"
      ],
      "metadata": {
        "colab": {
          "base_uri": "https://localhost:8080/"
        },
        "id": "HCRWGUOn2_e6",
        "outputId": "b8859cab-1ee1-4893-ac90-acdc09b67246"
      },
      "execution_count": null,
      "outputs": [
        {
          "output_type": "execute_result",
          "data": {
            "text/plain": [
              "<tf.Tensor: shape=(1, 1, 4, 1), dtype=float32, numpy=\n",
              "array([[[[0.],\n",
              "         [0.],\n",
              "         [0.],\n",
              "         [0.]]]], dtype=float32)>"
            ]
          },
          "metadata": {},
          "execution_count": 31
        }
      ]
    },
    {
      "cell_type": "markdown",
      "source": [
        "# Adding dimensions to tensors"
      ],
      "metadata": {
        "id": "neiu1Am54Ut1"
      }
    },
    {
      "cell_type": "markdown",
      "source": [
        "There are two way to add extra dimensions to tensors:\n",
        "* Using tf.newaxis\n",
        "* Using tf.expand_dims()"
      ],
      "metadata": {
        "id": "MXKvfEU64W0m"
      }
    },
    {
      "cell_type": "code",
      "source": [
        "# Using .newaxis\n",
        "tensor = tf.constant([[4,5],[1,3]])\n",
        "tensor"
      ],
      "metadata": {
        "colab": {
          "base_uri": "https://localhost:8080/"
        },
        "id": "O-yBmkuY3awg",
        "outputId": "9751eb4a-f9fb-4831-f302-a1ff9c0fb1a5"
      },
      "execution_count": null,
      "outputs": [
        {
          "output_type": "execute_result",
          "data": {
            "text/plain": [
              "<tf.Tensor: shape=(2, 2), dtype=int32, numpy=\n",
              "array([[4, 5],\n",
              "       [1, 3]], dtype=int32)>"
            ]
          },
          "metadata": {},
          "execution_count": 32
        }
      ]
    },
    {
      "cell_type": "code",
      "source": [
        "new_tensor = tensor[:, :, tf.newaxis]\n",
        "new_tensor, new_tensor.ndim"
      ],
      "metadata": {
        "colab": {
          "base_uri": "https://localhost:8080/"
        },
        "id": "4jmwdWgJ4muW",
        "outputId": "62a6eb42-e6f9-4494-f0b9-f1033a6e4f19"
      },
      "execution_count": null,
      "outputs": [
        {
          "output_type": "execute_result",
          "data": {
            "text/plain": [
              "(<tf.Tensor: shape=(2, 2, 1), dtype=int32, numpy=\n",
              " array([[[4],\n",
              "         [5]],\n",
              " \n",
              "        [[1],\n",
              "         [3]]], dtype=int32)>,\n",
              " 3)"
            ]
          },
          "metadata": {},
          "execution_count": 33
        }
      ]
    },
    {
      "cell_type": "code",
      "source": [
        "# Using tf.expand_dims()\n",
        "tf.expand_dims(tensor, axis = -1)"
      ],
      "metadata": {
        "colab": {
          "base_uri": "https://localhost:8080/"
        },
        "id": "Kfhh1cDz4xhB",
        "outputId": "95e2bd0d-d863-48cd-de5b-52c718226ff8"
      },
      "execution_count": null,
      "outputs": [
        {
          "output_type": "execute_result",
          "data": {
            "text/plain": [
              "<tf.Tensor: shape=(2, 2, 1), dtype=int32, numpy=\n",
              "array([[[4],\n",
              "        [5]],\n",
              "\n",
              "       [[1],\n",
              "        [3]]], dtype=int32)>"
            ]
          },
          "metadata": {},
          "execution_count": 34
        }
      ]
    },
    {
      "cell_type": "markdown",
      "source": [
        "# Manipulating Tensors (Tensor Operations)"
      ],
      "metadata": {
        "id": "M3pDWEQ46pye"
      }
    },
    {
      "cell_type": "code",
      "source": [
        "# Adding values to tensor elements\n",
        "tensor = tf.constant([[10,4],[1,3]])\n",
        "tensor + 10"
      ],
      "metadata": {
        "colab": {
          "base_uri": "https://localhost:8080/"
        },
        "id": "0CMwz2-65E4N",
        "outputId": "451245ce-d9fd-4742-81ed-2dfb0b5ea701"
      },
      "execution_count": null,
      "outputs": [
        {
          "output_type": "execute_result",
          "data": {
            "text/plain": [
              "<tf.Tensor: shape=(2, 2), dtype=int32, numpy=\n",
              "array([[20, 14],\n",
              "       [11, 13]], dtype=int32)>"
            ]
          },
          "metadata": {},
          "execution_count": 12
        }
      ]
    },
    {
      "cell_type": "code",
      "source": [
        "# Substracting values from tensor elements\n",
        "tensor - 10"
      ],
      "metadata": {
        "colab": {
          "base_uri": "https://localhost:8080/"
        },
        "id": "FAqtE2NF60n3",
        "outputId": "11b93e91-dcdc-4fac-c614-5f294d60108a"
      },
      "execution_count": null,
      "outputs": [
        {
          "output_type": "execute_result",
          "data": {
            "text/plain": [
              "<tf.Tensor: shape=(2, 2), dtype=int32, numpy=\n",
              "array([[ 0, -6],\n",
              "       [-9, -7]], dtype=int32)>"
            ]
          },
          "metadata": {},
          "execution_count": 36
        }
      ]
    },
    {
      "cell_type": "code",
      "source": [
        "# Operations can be done with built-in tf functions\n",
        "# Manipulating tensors using these functions is faster\n",
        "tf.multiply(tensor, 5)"
      ],
      "metadata": {
        "colab": {
          "base_uri": "https://localhost:8080/"
        },
        "id": "eqS4Lwya7MrP",
        "outputId": "275fa120-24df-495f-896a-49c5cab7bb9a"
      },
      "execution_count": null,
      "outputs": [
        {
          "output_type": "execute_result",
          "data": {
            "text/plain": [
              "<tf.Tensor: shape=(2, 2), dtype=int32, numpy=\n",
              "array([[50, 20],\n",
              "       [ 5, 15]], dtype=int32)>"
            ]
          },
          "metadata": {},
          "execution_count": 37
        }
      ]
    },
    {
      "cell_type": "code",
      "source": [
        "# Squaring the tensor\n",
        "tensor = tf.range(1,10)\n",
        "print(tensor)\n",
        "\n",
        "tf.square(tensor)"
      ],
      "metadata": {
        "colab": {
          "base_uri": "https://localhost:8080/"
        },
        "id": "1F-BgtlwUyQI",
        "outputId": "c6e1c4a1-2864-4011-dfdc-e5abdee56cf8"
      },
      "execution_count": null,
      "outputs": [
        {
          "output_type": "stream",
          "name": "stdout",
          "text": [
            "tf.Tensor([1 2 3 4 5 6 7 8 9], shape=(9,), dtype=int32)\n"
          ]
        },
        {
          "output_type": "execute_result",
          "data": {
            "text/plain": [
              "<tf.Tensor: shape=(9,), dtype=int32, numpy=array([ 1,  4,  9, 16, 25, 36, 49, 64, 81], dtype=int32)>"
            ]
          },
          "metadata": {},
          "execution_count": 15
        }
      ]
    },
    {
      "cell_type": "code",
      "source": [
        "# Square root of tensor\n",
        "tf.sqrt(tf.cast(tensor, dtype = tf.float32))"
      ],
      "metadata": {
        "colab": {
          "base_uri": "https://localhost:8080/"
        },
        "id": "mgBNAeqSVS6E",
        "outputId": "29d00730-68e7-430a-9ba1-089e76044b6a"
      },
      "execution_count": null,
      "outputs": [
        {
          "output_type": "execute_result",
          "data": {
            "text/plain": [
              "<tf.Tensor: shape=(9,), dtype=float32, numpy=\n",
              "array([1.       , 1.4142135, 1.7320508, 2.       , 2.236068 , 2.4494898,\n",
              "       2.6457512, 2.828427 , 3.       ], dtype=float32)>"
            ]
          },
          "metadata": {},
          "execution_count": 18
        }
      ]
    },
    {
      "cell_type": "code",
      "source": [
        "# Log of tensor\n",
        "tf.math.log(tf.cast(tensor, dtype = tf.float32))"
      ],
      "metadata": {
        "colab": {
          "base_uri": "https://localhost:8080/"
        },
        "id": "Mvo2ndC3VhuG",
        "outputId": "330d5b8e-0266-4f7e-fd56-e117d7d9e604"
      },
      "execution_count": null,
      "outputs": [
        {
          "output_type": "execute_result",
          "data": {
            "text/plain": [
              "<tf.Tensor: shape=(9,), dtype=float32, numpy=\n",
              "array([0.       , 0.6931472, 1.0986123, 1.3862944, 1.609438 , 1.7917595,\n",
              "       1.9459102, 2.0794415, 2.1972246], dtype=float32)>"
            ]
          },
          "metadata": {},
          "execution_count": 20
        }
      ]
    },
    {
      "cell_type": "markdown",
      "source": [
        "## Matrix Multiplication"
      ],
      "metadata": {
        "id": "uTTwIPp7BC-2"
      }
    },
    {
      "cell_type": "markdown",
      "source": [
        "Matrix multiplication is one of the most important and common operations in deep learning. It is how models learn, update their weights and give outputs etc.\n",
        "\n",
        "Matrix multiplication is the same as the dot product of two tensor, and is not the element wise product of two tensors.\n",
        "\n",
        "To Matmul two tensors the inner dimensions need to match."
      ],
      "metadata": {
        "id": "MtGsC4-2BFyp"
      }
    },
    {
      "cell_type": "code",
      "source": [
        "print(tensor)"
      ],
      "metadata": {
        "colab": {
          "base_uri": "https://localhost:8080/"
        },
        "id": "xAzQUDjx7XoQ",
        "outputId": "523fb8ea-6e05-471d-c81e-d8d8fbd8ca3b"
      },
      "execution_count": null,
      "outputs": [
        {
          "output_type": "stream",
          "name": "stdout",
          "text": [
            "tf.Tensor(\n",
            "[[10  4]\n",
            " [ 1  3]], shape=(2, 2), dtype=int32)\n"
          ]
        }
      ]
    },
    {
      "cell_type": "code",
      "source": [
        "# Dot product\n",
        "tf.matmul(tensor, tensor)"
      ],
      "metadata": {
        "colab": {
          "base_uri": "https://localhost:8080/"
        },
        "id": "TmV2dDh4Bt4H",
        "outputId": "eb2a7ec0-875a-4369-d0d6-18a9960ff586"
      },
      "execution_count": null,
      "outputs": [
        {
          "output_type": "execute_result",
          "data": {
            "text/plain": [
              "<tf.Tensor: shape=(2, 2), dtype=int32, numpy=\n",
              "array([[104,  52],\n",
              "       [ 13,  13]], dtype=int32)>"
            ]
          },
          "metadata": {},
          "execution_count": 39
        }
      ]
    },
    {
      "cell_type": "code",
      "source": [
        "# Element-wise product\n",
        "tensor * tensor"
      ],
      "metadata": {
        "colab": {
          "base_uri": "https://localhost:8080/"
        },
        "id": "upy_Klc6Bv-0",
        "outputId": "33c30ece-1409-430e-f74d-9ef567c5b947"
      },
      "execution_count": null,
      "outputs": [
        {
          "output_type": "execute_result",
          "data": {
            "text/plain": [
              "<tf.Tensor: shape=(2, 2), dtype=int32, numpy=\n",
              "array([[100,  16],\n",
              "       [  1,   9]], dtype=int32)>"
            ]
          },
          "metadata": {},
          "execution_count": 40
        }
      ]
    },
    {
      "cell_type": "code",
      "source": [
        "tens_1 = tf.constant([[1,2,2,4],[3,4,5,10]])\n",
        "tens_1"
      ],
      "metadata": {
        "colab": {
          "base_uri": "https://localhost:8080/"
        },
        "id": "sqpb_uGuB7Ke",
        "outputId": "0ef25cf6-c577-4758-80fa-eaa6e285cfcb"
      },
      "execution_count": null,
      "outputs": [
        {
          "output_type": "execute_result",
          "data": {
            "text/plain": [
              "<tf.Tensor: shape=(2, 4), dtype=int32, numpy=\n",
              "array([[ 1,  2,  2,  4],\n",
              "       [ 3,  4,  5, 10]], dtype=int32)>"
            ]
          },
          "metadata": {},
          "execution_count": 41
        }
      ]
    },
    {
      "cell_type": "code",
      "source": [
        "tens_2 = tf.constant([[2,4],[3,7],[1,2],[10,5]])\n",
        "tens_2"
      ],
      "metadata": {
        "colab": {
          "base_uri": "https://localhost:8080/"
        },
        "id": "VitTaDR_CII8",
        "outputId": "50e5bbfc-5e5a-4dd2-d258-082b22a15385"
      },
      "execution_count": null,
      "outputs": [
        {
          "output_type": "execute_result",
          "data": {
            "text/plain": [
              "<tf.Tensor: shape=(4, 2), dtype=int32, numpy=\n",
              "array([[ 2,  4],\n",
              "       [ 3,  7],\n",
              "       [ 1,  2],\n",
              "       [10,  5]], dtype=int32)>"
            ]
          },
          "metadata": {},
          "execution_count": 42
        }
      ]
    },
    {
      "cell_type": "code",
      "source": [
        "tf.matmul(tens_1, tens_2)"
      ],
      "metadata": {
        "colab": {
          "base_uri": "https://localhost:8080/"
        },
        "id": "jrP6yDRMClrk",
        "outputId": "f5a96800-004b-4e59-df12-137d9dcf6443"
      },
      "execution_count": null,
      "outputs": [
        {
          "output_type": "execute_result",
          "data": {
            "text/plain": [
              "<tf.Tensor: shape=(2, 2), dtype=int32, numpy=\n",
              "array([[ 50,  42],\n",
              "       [123, 100]], dtype=int32)>"
            ]
          },
          "metadata": {},
          "execution_count": 43
        }
      ]
    },
    {
      "cell_type": "code",
      "source": [
        "tens_3 = tf.constant([[7,5,2,4],[3,8,9,10]])\n",
        "tens_3"
      ],
      "metadata": {
        "colab": {
          "base_uri": "https://localhost:8080/"
        },
        "id": "Lm2mk694C3Sk",
        "outputId": "296c08f3-21c2-4242-a757-4319ecc0b10f"
      },
      "execution_count": null,
      "outputs": [
        {
          "output_type": "execute_result",
          "data": {
            "text/plain": [
              "<tf.Tensor: shape=(2, 4), dtype=int32, numpy=\n",
              "array([[ 7,  5,  2,  4],\n",
              "       [ 3,  8,  9, 10]], dtype=int32)>"
            ]
          },
          "metadata": {},
          "execution_count": 44
        }
      ]
    },
    {
      "cell_type": "code",
      "source": [
        "# Inner dims must match\n",
        "tf.matmul(tens_1, tens_3)"
      ],
      "metadata": {
        "colab": {
          "base_uri": "https://localhost:8080/"
        },
        "id": "X9selIpbCqC3",
        "outputId": "763beacb-2d53-40ec-f0e9-035cdcea794b"
      },
      "execution_count": null,
      "outputs": [
        {
          "output_type": "execute_result",
          "data": {
            "text/plain": [
              "<tf.Tensor: shape=(2, 2), dtype=int32, numpy=\n",
              "array([[ 53,  69],\n",
              "       [134, 171]], dtype=int32)>"
            ]
          },
          "metadata": {},
          "execution_count": 51
        }
      ]
    },
    {
      "cell_type": "code",
      "source": [
        "# We can reshape one of the two tensors\n",
        "tens_3 = tf.reshape(tens_3, shape = (4,2))\n",
        "tens_3"
      ],
      "metadata": {
        "colab": {
          "base_uri": "https://localhost:8080/"
        },
        "id": "7h6kJ_prC_BC",
        "outputId": "18123651-7e3d-4710-cc2e-9340b3a6c681"
      },
      "execution_count": null,
      "outputs": [
        {
          "output_type": "execute_result",
          "data": {
            "text/plain": [
              "<tf.Tensor: shape=(4, 2), dtype=int32, numpy=\n",
              "array([[ 7,  5],\n",
              "       [ 2,  4],\n",
              "       [ 3,  8],\n",
              "       [ 9, 10]], dtype=int32)>"
            ]
          },
          "metadata": {},
          "execution_count": 55
        }
      ]
    },
    {
      "cell_type": "code",
      "source": [
        "tf.matmul(tens_1, tens_3)"
      ],
      "metadata": {
        "colab": {
          "base_uri": "https://localhost:8080/"
        },
        "id": "LI0gEQTMDkZS",
        "outputId": "cc0454db-54ca-47dc-9fd8-65798a313367"
      },
      "execution_count": null,
      "outputs": [
        {
          "output_type": "execute_result",
          "data": {
            "text/plain": [
              "<tf.Tensor: shape=(2, 2), dtype=int32, numpy=\n",
              "array([[ 53,  69],\n",
              "       [134, 171]], dtype=int32)>"
            ]
          },
          "metadata": {},
          "execution_count": 56
        }
      ]
    },
    {
      "cell_type": "code",
      "source": [
        "# We can also transpose the second matrix and perform multiplication\n",
        "# Transposing is not the same as reshaping\n",
        "tf.transpose(tens_3)"
      ],
      "metadata": {
        "colab": {
          "base_uri": "https://localhost:8080/"
        },
        "id": "pqNClNMKDnxn",
        "outputId": "2e050c36-e141-41da-cf25-1798bdea5136"
      },
      "execution_count": null,
      "outputs": [
        {
          "output_type": "execute_result",
          "data": {
            "text/plain": [
              "<tf.Tensor: shape=(2, 4), dtype=int32, numpy=\n",
              "array([[ 7,  2,  3,  9],\n",
              "       [ 5,  4,  8, 10]], dtype=int32)>"
            ]
          },
          "metadata": {},
          "execution_count": 57
        }
      ]
    },
    {
      "cell_type": "code",
      "source": [
        "tens_1 = tf.constant([[1,2,2,4],[3,4,5,10]])\n",
        "tf.matmul(tf.transpose(tens_1), tf.transpose(tens_3))"
      ],
      "metadata": {
        "colab": {
          "base_uri": "https://localhost:8080/"
        },
        "id": "jVeiiMluEPuw",
        "outputId": "30bb3a18-825e-4f3e-cea4-42d8c154a65d"
      },
      "execution_count": null,
      "outputs": [
        {
          "output_type": "execute_result",
          "data": {
            "text/plain": [
              "<tf.Tensor: shape=(4, 4), dtype=int32, numpy=\n",
              "array([[ 22,  14,  27,  39],\n",
              "       [ 34,  20,  38,  58],\n",
              "       [ 39,  24,  46,  68],\n",
              "       [ 78,  48,  92, 136]], dtype=int32)>"
            ]
          },
          "metadata": {},
          "execution_count": 64
        }
      ]
    },
    {
      "cell_type": "code",
      "source": [
        "# Dot product can be performed using .tensordot() (tensor contraction)\n",
        "# In this case, when performing tensordot along axis 1, we get the normal dot product\n",
        "tf.tensordot(tens_1, tens_2, axes = 1)"
      ],
      "metadata": {
        "colab": {
          "base_uri": "https://localhost:8080/"
        },
        "id": "bf84WfL4AjPE",
        "outputId": "120567c2-2d92-472e-e1df-997592824927"
      },
      "execution_count": null,
      "outputs": [
        {
          "output_type": "execute_result",
          "data": {
            "text/plain": [
              "<tf.Tensor: shape=(2, 2), dtype=int32, numpy=\n",
              "array([[ 50,  42],\n",
              "       [123, 100]], dtype=int32)>"
            ]
          },
          "metadata": {},
          "execution_count": 74
        }
      ]
    },
    {
      "cell_type": "code",
      "source": [
        "tens_1"
      ],
      "metadata": {
        "colab": {
          "base_uri": "https://localhost:8080/"
        },
        "id": "UM9oqXnKCNVw",
        "outputId": "139b99da-8c1a-4100-c4ae-229953e5117c"
      },
      "execution_count": null,
      "outputs": [
        {
          "output_type": "execute_result",
          "data": {
            "text/plain": [
              "<tf.Tensor: shape=(2, 4), dtype=int32, numpy=\n",
              "array([[ 1,  2,  2,  4],\n",
              "       [ 3,  4,  5, 10]], dtype=int32)>"
            ]
          },
          "metadata": {},
          "execution_count": 76
        }
      ]
    },
    {
      "cell_type": "code",
      "source": [
        "tens_2"
      ],
      "metadata": {
        "colab": {
          "base_uri": "https://localhost:8080/"
        },
        "id": "9CB-ZU2dCPXZ",
        "outputId": "015e91d1-ff6e-4c94-a1b0-465c251a9ca3"
      },
      "execution_count": null,
      "outputs": [
        {
          "output_type": "execute_result",
          "data": {
            "text/plain": [
              "<tf.Tensor: shape=(4, 2), dtype=int32, numpy=\n",
              "array([[ 2,  4],\n",
              "       [ 3,  7],\n",
              "       [ 1,  2],\n",
              "       [10,  5]], dtype=int32)>"
            ]
          },
          "metadata": {},
          "execution_count": 77
        }
      ]
    },
    {
      "cell_type": "code",
      "source": [
        "# When performed along the 0 axis, we get dofferent results\n",
        "# Tensor elements get changed and the dimensions get concatenated\n",
        "tf.tensordot(tens_1, tens_2, axes = 0)"
      ],
      "metadata": {
        "colab": {
          "base_uri": "https://localhost:8080/"
        },
        "id": "GNBWNpY4BfmX",
        "outputId": "ff53b21d-dc2d-47c6-804d-7f260c94f470"
      },
      "execution_count": null,
      "outputs": [
        {
          "output_type": "execute_result",
          "data": {
            "text/plain": [
              "<tf.Tensor: shape=(2, 4, 4, 2), dtype=int32, numpy=\n",
              "array([[[[  2,   4],\n",
              "         [  3,   7],\n",
              "         [  1,   2],\n",
              "         [ 10,   5]],\n",
              "\n",
              "        [[  4,   8],\n",
              "         [  6,  14],\n",
              "         [  2,   4],\n",
              "         [ 20,  10]],\n",
              "\n",
              "        [[  4,   8],\n",
              "         [  6,  14],\n",
              "         [  2,   4],\n",
              "         [ 20,  10]],\n",
              "\n",
              "        [[  8,  16],\n",
              "         [ 12,  28],\n",
              "         [  4,   8],\n",
              "         [ 40,  20]]],\n",
              "\n",
              "\n",
              "       [[[  6,  12],\n",
              "         [  9,  21],\n",
              "         [  3,   6],\n",
              "         [ 30,  15]],\n",
              "\n",
              "        [[  8,  16],\n",
              "         [ 12,  28],\n",
              "         [  4,   8],\n",
              "         [ 40,  20]],\n",
              "\n",
              "        [[ 10,  20],\n",
              "         [ 15,  35],\n",
              "         [  5,  10],\n",
              "         [ 50,  25]],\n",
              "\n",
              "        [[ 20,  40],\n",
              "         [ 30,  70],\n",
              "         [ 10,  20],\n",
              "         [100,  50]]]], dtype=int32)>"
            ]
          },
          "metadata": {},
          "execution_count": 75
        }
      ]
    },
    {
      "cell_type": "markdown",
      "source": [
        "# Changing Tensors' Data Type"
      ],
      "metadata": {
        "id": "KjzJCoAFDoKO"
      }
    },
    {
      "cell_type": "markdown",
      "source": [
        "In TensorFlow, tensors can have different precisions (e.g. float32 tensor vs. float16 tensor). This **mixed precision** can affect the performance and accuracy of the models.\n",
        "\n",
        "**Mixed precision** is the use of both 16-bit and 32-bit floating-point types in a model during training to make it run faster and use less memory. By keeping certain parts of the model in the 32-bit types for numeric stability, the model will have a lower step time and train equally as well in terms of the evaluation metrics such as accuracy.\n",
        "\n",
        "More info [here](https://www.tensorflow.org/guide/mixed_precision)."
      ],
      "metadata": {
        "id": "dVb8BaolEihs"
      }
    },
    {
      "cell_type": "code",
      "source": [
        "# The default precision is 32\n",
        "A = tf.constant([[1.6, 5.2],[1.1, 6.0]])\n",
        "A.dtype"
      ],
      "metadata": {
        "colab": {
          "base_uri": "https://localhost:8080/"
        },
        "id": "l0fhZ3_LCLcT",
        "outputId": "6443ecbc-4db7-4357-8aa1-b392c4ecd87e"
      },
      "execution_count": null,
      "outputs": [
        {
          "output_type": "execute_result",
          "data": {
            "text/plain": [
              "tf.float32"
            ]
          },
          "metadata": {},
          "execution_count": 81
        }
      ]
    },
    {
      "cell_type": "code",
      "source": [
        "B = tf.constant([[5, 4],[7, 9]])\n",
        "B.dtype"
      ],
      "metadata": {
        "colab": {
          "base_uri": "https://localhost:8080/"
        },
        "id": "v8E2Fge1D8FO",
        "outputId": "476b3697-9bfa-4149-d2b7-415919a0e6df"
      },
      "execution_count": null,
      "outputs": [
        {
          "output_type": "execute_result",
          "data": {
            "text/plain": [
              "tf.int32"
            ]
          },
          "metadata": {},
          "execution_count": 82
        }
      ]
    },
    {
      "cell_type": "code",
      "source": [
        "# Precision can reduced using .cast()\n",
        "C = tf.cast(B, dtype = tf.float16)\n",
        "C.dtype"
      ],
      "metadata": {
        "colab": {
          "base_uri": "https://localhost:8080/"
        },
        "id": "hO76tb26ESM9",
        "outputId": "e32fbf5a-258f-454d-d065-722ec0708aa0"
      },
      "execution_count": null,
      "outputs": [
        {
          "output_type": "execute_result",
          "data": {
            "text/plain": [
              "tf.float16"
            ]
          },
          "metadata": {},
          "execution_count": 87
        }
      ]
    },
    {
      "cell_type": "code",
      "source": [
        "# Data type can also be changed\n",
        "D = tf.cast(B, dtype = tf.float16)\n",
        "D.dtype"
      ],
      "metadata": {
        "colab": {
          "base_uri": "https://localhost:8080/"
        },
        "id": "KC6dT0C-Fixb",
        "outputId": "685fd429-c9b9-4454-bea6-12cadc3416bc"
      },
      "execution_count": null,
      "outputs": [
        {
          "output_type": "execute_result",
          "data": {
            "text/plain": [
              "tf.float16"
            ]
          },
          "metadata": {},
          "execution_count": 88
        }
      ]
    },
    {
      "cell_type": "markdown",
      "source": [
        "# Tensor Aggregation (Reduction)"
      ],
      "metadata": {
        "id": "FWh_g2YSG2v7"
      }
    },
    {
      "cell_type": "markdown",
      "source": [
        "Aggregating tensors means condensing them from their original values to a smaller amount of values. For example: minimum of tensor, maximum, mean, absolute, sum, etc..."
      ],
      "metadata": {
        "id": "yFiHqQmqHUJg"
      }
    },
    {
      "cell_type": "code",
      "source": [
        "# Absolute of tensor\n",
        "A = tf.constant([[-5,1],[-2,-7]])\n",
        "tf.abs(A)"
      ],
      "metadata": {
        "colab": {
          "base_uri": "https://localhost:8080/"
        },
        "id": "Qhkgh3DEG4tP",
        "outputId": "890fcb96-cd4d-414e-aac8-314db7e21339"
      },
      "execution_count": null,
      "outputs": [
        {
          "output_type": "execute_result",
          "data": {
            "text/plain": [
              "<tf.Tensor: shape=(2, 2), dtype=int32, numpy=\n",
              "array([[5, 1],\n",
              "       [2, 7]], dtype=int32)>"
            ]
          },
          "metadata": {},
          "execution_count": 89
        }
      ]
    },
    {
      "cell_type": "code",
      "source": [
        "# For other operations we will create a new bigger tensor\n",
        "ten = tf.constant(np.random.randint(1, 100, size = 50))\n",
        "ten"
      ],
      "metadata": {
        "colab": {
          "base_uri": "https://localhost:8080/"
        },
        "id": "V4ftLJlXH5-3",
        "outputId": "7d468fe7-999e-4c65-e9d6-d3b9807049c3"
      },
      "execution_count": null,
      "outputs": [
        {
          "output_type": "execute_result",
          "data": {
            "text/plain": [
              "<tf.Tensor: shape=(50,), dtype=int64, numpy=\n",
              "array([89, 25, 64, 16, 47,  9, 79,  7, 13, 89, 25, 49, 71,  4, 41,  3, 42,\n",
              "       65, 88,  6, 84, 29, 71, 61,  4, 51, 52, 43, 48,  6, 71,  9, 72, 17,\n",
              "       18, 72, 34, 29, 66,  5, 38, 88, 23, 26,  3, 27,  4, 62, 24, 91])>"
            ]
          },
          "metadata": {},
          "execution_count": 94
        }
      ]
    },
    {
      "cell_type": "code",
      "source": [
        "# Minimum of tensor\n",
        "tf.reduce_min(ten)"
      ],
      "metadata": {
        "colab": {
          "base_uri": "https://localhost:8080/"
        },
        "id": "mkI6O6SCH8Zw",
        "outputId": "9a437bd9-d1c2-41d0-d69a-69484c17edec"
      },
      "execution_count": null,
      "outputs": [
        {
          "output_type": "execute_result",
          "data": {
            "text/plain": [
              "<tf.Tensor: shape=(), dtype=int64, numpy=3>"
            ]
          },
          "metadata": {},
          "execution_count": 95
        }
      ]
    },
    {
      "cell_type": "code",
      "source": [
        "# Maximum of tensor\n",
        "tf.reduce_max(ten)"
      ],
      "metadata": {
        "colab": {
          "base_uri": "https://localhost:8080/"
        },
        "id": "jBC9IjvsIfWa",
        "outputId": "cacdc348-5ac6-4106-fccc-78d919cccba7"
      },
      "execution_count": null,
      "outputs": [
        {
          "output_type": "execute_result",
          "data": {
            "text/plain": [
              "<tf.Tensor: shape=(), dtype=int64, numpy=91>"
            ]
          },
          "metadata": {},
          "execution_count": 96
        }
      ]
    },
    {
      "cell_type": "code",
      "source": [
        "# Mean of tensor\n",
        "tf.reduce_mean(ten)"
      ],
      "metadata": {
        "colab": {
          "base_uri": "https://localhost:8080/"
        },
        "id": "OhnlhIUdIniS",
        "outputId": "207aae0f-6a49-421b-b7be-00151d1411ad"
      },
      "execution_count": null,
      "outputs": [
        {
          "output_type": "execute_result",
          "data": {
            "text/plain": [
              "<tf.Tensor: shape=(), dtype=int64, numpy=41>"
            ]
          },
          "metadata": {},
          "execution_count": 97
        }
      ]
    },
    {
      "cell_type": "code",
      "source": [
        "# Sum of tensor\n",
        "tf.reduce_sum(ten)"
      ],
      "metadata": {
        "colab": {
          "base_uri": "https://localhost:8080/"
        },
        "id": "FvZr6GWRIpvE",
        "outputId": "2c15d5ce-046b-40a9-88c9-598eab66cb17"
      },
      "execution_count": null,
      "outputs": [
        {
          "output_type": "execute_result",
          "data": {
            "text/plain": [
              "<tf.Tensor: shape=(), dtype=int64, numpy=2060>"
            ]
          },
          "metadata": {},
          "execution_count": 98
        }
      ]
    },
    {
      "cell_type": "code",
      "source": [
        "# Variance of tensor\n",
        "# For variance (and standard deviation) the tensor must be real or complex type, so we change its type to float32\n",
        "tf.math.reduce_variance(tf.cast(ten, dtype = tf.float32))"
      ],
      "metadata": {
        "colab": {
          "base_uri": "https://localhost:8080/"
        },
        "id": "E7zEu-eaJGXN",
        "outputId": "462c1b99-91a9-4d03-e675-8c8046c38882"
      },
      "execution_count": null,
      "outputs": [
        {
          "output_type": "execute_result",
          "data": {
            "text/plain": [
              "<tf.Tensor: shape=(), dtype=float32, numpy=814.7199>"
            ]
          },
          "metadata": {},
          "execution_count": 103
        }
      ]
    },
    {
      "cell_type": "code",
      "source": [
        "# Variance of tensor\n",
        "tf.math.reduce_std(tf.cast(ten, dtype = tf.float32))"
      ],
      "metadata": {
        "colab": {
          "base_uri": "https://localhost:8080/"
        },
        "id": "k6aIFsDNJOBD",
        "outputId": "3016ca09-2e6e-4a96-9daa-5e453fa9474d"
      },
      "execution_count": null,
      "outputs": [
        {
          "output_type": "execute_result",
          "data": {
            "text/plain": [
              "<tf.Tensor: shape=(), dtype=float32, numpy=28.543299>"
            ]
          },
          "metadata": {},
          "execution_count": 104
        }
      ]
    },
    {
      "cell_type": "code",
      "source": [
        "# Variance and STD can be computed using tensorflow_probability module\n",
        "import tensorflow_probability as tfp\n",
        "print(tfp.stats.variance(ten))\n",
        "print(tfp.stats.stddev(tf.cast(ten, dtype = tf.float32)))"
      ],
      "metadata": {
        "colab": {
          "base_uri": "https://localhost:8080/"
        },
        "id": "ZQw8aLdDOwA0",
        "outputId": "8a62e543-a664-4c75-825b-70e038541e50"
      },
      "execution_count": null,
      "outputs": [
        {
          "output_type": "stream",
          "name": "stdout",
          "text": [
            "tf.Tensor(814, shape=(), dtype=int64)\n",
            "tf.Tensor(28.543299, shape=(), dtype=float32)\n"
          ]
        }
      ]
    },
    {
      "cell_type": "markdown",
      "source": [
        "# Max and min Index of a Tensor"
      ],
      "metadata": {
        "id": "5EwCZRugQwzC"
      }
    },
    {
      "cell_type": "code",
      "source": [
        "tf.random.set_seed(42)\n",
        "A = tf.random.uniform(shape = [50])\n",
        "A"
      ],
      "metadata": {
        "colab": {
          "base_uri": "https://localhost:8080/"
        },
        "id": "GnZIn6aOPlcS",
        "outputId": "da13c7fb-a51d-4592-a77d-ada8c12a0ab9"
      },
      "execution_count": null,
      "outputs": [
        {
          "output_type": "execute_result",
          "data": {
            "text/plain": [
              "<tf.Tensor: shape=(50,), dtype=float32, numpy=\n",
              "array([0.6645621 , 0.44100678, 0.3528825 , 0.46448255, 0.03366041,\n",
              "       0.68467236, 0.74011743, 0.8724445 , 0.22632635, 0.22319686,\n",
              "       0.3103881 , 0.7223358 , 0.13318717, 0.5480639 , 0.5746088 ,\n",
              "       0.8996835 , 0.00946367, 0.5212307 , 0.6345445 , 0.1993283 ,\n",
              "       0.72942245, 0.54583454, 0.10756552, 0.6767061 , 0.6602763 ,\n",
              "       0.33695042, 0.60141766, 0.21062577, 0.8527372 , 0.44062173,\n",
              "       0.9485276 , 0.23752594, 0.81179297, 0.5263394 , 0.494308  ,\n",
              "       0.21612847, 0.8457197 , 0.8718841 , 0.3083862 , 0.6868038 ,\n",
              "       0.23764038, 0.7817228 , 0.9671384 , 0.06870162, 0.79873943,\n",
              "       0.66028714, 0.5871513 , 0.16461694, 0.7381023 , 0.32054043],\n",
              "      dtype=float32)>"
            ]
          },
          "metadata": {},
          "execution_count": 112
        }
      ]
    },
    {
      "cell_type": "code",
      "source": [
        "# Positional maximum\n",
        "# The max value is at index 42\n",
        "tf.argmax(A)"
      ],
      "metadata": {
        "colab": {
          "base_uri": "https://localhost:8080/"
        },
        "id": "pqTibv0URcA0",
        "outputId": "bf2b57d1-44c7-4fa5-f395-7c64e87c1386"
      },
      "execution_count": null,
      "outputs": [
        {
          "output_type": "execute_result",
          "data": {
            "text/plain": [
              "<tf.Tensor: shape=(), dtype=int64, numpy=42>"
            ]
          },
          "metadata": {},
          "execution_count": 114
        }
      ]
    },
    {
      "cell_type": "code",
      "source": [
        "# Indexing the tensor on the max index gives us its value\n",
        "A[tf.argmax(A)]"
      ],
      "metadata": {
        "colab": {
          "base_uri": "https://localhost:8080/"
        },
        "id": "ka2KFd1yRhOo",
        "outputId": "bbca150c-546f-419d-dd4d-b566aac4a126"
      },
      "execution_count": null,
      "outputs": [
        {
          "output_type": "execute_result",
          "data": {
            "text/plain": [
              "<tf.Tensor: shape=(), dtype=float32, numpy=0.9671384>"
            ]
          },
          "metadata": {},
          "execution_count": 115
        }
      ]
    },
    {
      "cell_type": "code",
      "source": [
        "# Positional minimum\n",
        "# The min value is at index 16\n",
        "tf.argmin(A)"
      ],
      "metadata": {
        "colab": {
          "base_uri": "https://localhost:8080/"
        },
        "id": "1aCSTPPtRwch",
        "outputId": "f4bf9982-edfe-49f2-87a0-3a06b14cb19d"
      },
      "execution_count": null,
      "outputs": [
        {
          "output_type": "execute_result",
          "data": {
            "text/plain": [
              "<tf.Tensor: shape=(), dtype=int64, numpy=16>"
            ]
          },
          "metadata": {},
          "execution_count": 116
        }
      ]
    },
    {
      "cell_type": "code",
      "source": [
        "# Indexing the tensor on the min index gives us its value\n",
        "A[tf.argmin(A)]"
      ],
      "metadata": {
        "colab": {
          "base_uri": "https://localhost:8080/"
        },
        "id": "q6OZpRmkSG79",
        "outputId": "c61539bd-c416-49bc-8663-82f30f097448"
      },
      "execution_count": null,
      "outputs": [
        {
          "output_type": "execute_result",
          "data": {
            "text/plain": [
              "<tf.Tensor: shape=(), dtype=float32, numpy=0.009463668>"
            ]
          },
          "metadata": {},
          "execution_count": 117
        }
      ]
    },
    {
      "cell_type": "markdown",
      "source": [
        "# Squeezing a Tensor"
      ],
      "metadata": {
        "id": "zGfx6T4cTHyw"
      }
    },
    {
      "cell_type": "markdown",
      "source": [
        "Squeezing a tensor means removing all size 1 dimensions from said tensor. This, alongside .expand_dims(), allow us to manipulate the number of dimensions in a tensor, which is prevelant in deep learning models"
      ],
      "metadata": {
        "id": "PgQK5Y5TTKF3"
      }
    },
    {
      "cell_type": "code",
      "source": [
        "tf.random.set_seed(42)\n",
        "G = tf.random.uniform(shape = (1,5,1,6,1))\n",
        "G"
      ],
      "metadata": {
        "id": "fzESlCYTSObP",
        "colab": {
          "base_uri": "https://localhost:8080/"
        },
        "outputId": "ca125bbd-c22c-46eb-c32b-3870400fbede"
      },
      "execution_count": null,
      "outputs": [
        {
          "output_type": "execute_result",
          "data": {
            "text/plain": [
              "<tf.Tensor: shape=(1, 5, 1, 6, 1), dtype=float32, numpy=\n",
              "array([[[[[0.6645621 ],\n",
              "          [0.44100678],\n",
              "          [0.3528825 ],\n",
              "          [0.46448255],\n",
              "          [0.03366041],\n",
              "          [0.68467236]]],\n",
              "\n",
              "\n",
              "        [[[0.74011743],\n",
              "          [0.8724445 ],\n",
              "          [0.22632635],\n",
              "          [0.22319686],\n",
              "          [0.3103881 ],\n",
              "          [0.7223358 ]]],\n",
              "\n",
              "\n",
              "        [[[0.13318717],\n",
              "          [0.5480639 ],\n",
              "          [0.5746088 ],\n",
              "          [0.8996835 ],\n",
              "          [0.00946367],\n",
              "          [0.5212307 ]]],\n",
              "\n",
              "\n",
              "        [[[0.6345445 ],\n",
              "          [0.1993283 ],\n",
              "          [0.72942245],\n",
              "          [0.54583454],\n",
              "          [0.10756552],\n",
              "          [0.6767061 ]]],\n",
              "\n",
              "\n",
              "        [[[0.6602763 ],\n",
              "          [0.33695042],\n",
              "          [0.60141766],\n",
              "          [0.21062577],\n",
              "          [0.8527372 ],\n",
              "          [0.44062173]]]]], dtype=float32)>"
            ]
          },
          "metadata": {},
          "execution_count": 119
        }
      ]
    },
    {
      "cell_type": "code",
      "source": [
        "# Squeezing the tensor\n",
        "# This will turn the tensor from 1x5x1x6x1 to 5x6\n",
        "tf.squeeze(G)"
      ],
      "metadata": {
        "colab": {
          "base_uri": "https://localhost:8080/"
        },
        "id": "-NblGHDrTtHM",
        "outputId": "884473d9-e0c7-4a55-8530-fe4839efcebf"
      },
      "execution_count": null,
      "outputs": [
        {
          "output_type": "execute_result",
          "data": {
            "text/plain": [
              "<tf.Tensor: shape=(5, 6), dtype=float32, numpy=\n",
              "array([[0.6645621 , 0.44100678, 0.3528825 , 0.46448255, 0.03366041,\n",
              "        0.68467236],\n",
              "       [0.74011743, 0.8724445 , 0.22632635, 0.22319686, 0.3103881 ,\n",
              "        0.7223358 ],\n",
              "       [0.13318717, 0.5480639 , 0.5746088 , 0.8996835 , 0.00946367,\n",
              "        0.5212307 ],\n",
              "       [0.6345445 , 0.1993283 , 0.72942245, 0.54583454, 0.10756552,\n",
              "        0.6767061 ],\n",
              "       [0.6602763 , 0.33695042, 0.60141766, 0.21062577, 0.8527372 ,\n",
              "        0.44062173]], dtype=float32)>"
            ]
          },
          "metadata": {},
          "execution_count": 121
        }
      ]
    },
    {
      "cell_type": "markdown",
      "source": [
        "# One-hot Encoding Tensors"
      ],
      "metadata": {
        "id": "2MeACsgIPTVb"
      }
    },
    {
      "cell_type": "markdown",
      "source": [
        "**One-hot encoding** is a technique in machine learning that turns categorical data, like colors (red, green, blue), into numerical data. It creates new binary columns for each category, with a 1 marking the presence of that category and 0s elsewhere.\n",
        "\n",
        "One-hot encoding is one of the main concepts in machine learning, and is one of the most basic methods of turning categorical text data into numerical representations that computers can work with.\n",
        "\n",
        "Today, one-hot enconding is less used, and other methods, like text vectorization are better."
      ],
      "metadata": {
        "id": "bzn0-DAXPvjL"
      }
    },
    {
      "cell_type": "code",
      "source": [
        "colors = [0,1,2,3] # For example for colors\n",
        "tf.one_hot(colors, depth = 4)"
      ],
      "metadata": {
        "id": "aTnSsspvTyEj",
        "colab": {
          "base_uri": "https://localhost:8080/"
        },
        "outputId": "2e47d799-ecf4-4e70-e1b2-ee98852bea38"
      },
      "execution_count": null,
      "outputs": [
        {
          "output_type": "execute_result",
          "data": {
            "text/plain": [
              "<tf.Tensor: shape=(4, 4), dtype=float32, numpy=\n",
              "array([[1., 0., 0., 0.],\n",
              "       [0., 1., 0., 0.],\n",
              "       [0., 0., 1., 0.],\n",
              "       [0., 0., 0., 1.]], dtype=float32)>"
            ]
          },
          "metadata": {},
          "execution_count": 6
        }
      ]
    },
    {
      "cell_type": "markdown",
      "source": [
        "#Tensors & NumPy"
      ],
      "metadata": {
        "id": "8GGus4CiWLx-"
      }
    },
    {
      "cell_type": "markdown",
      "source": [
        "TensorFlow and NumPy are two very compatible libraries, and we can easily and seemlessly covert from one type to the other.\n",
        "\n",
        "One must be aware that when converting from tensors to np arrays or vice versa, the data type can change.\n",
        "\n",
        "The main difference between the two, is that tensors can harness the power of **GPUs** and **TPUs**.\n",
        "\n",
        "**Tensor Processing Unit (TPU)** is an AI accelerator application-specific integrated circuit (ASIC) developed by Google for neural network machine learning, using Google's own TensorFlow software. More info [here](https://cloud.google.com/tpu)."
      ],
      "metadata": {
        "id": "IDZY7bD1WRl7"
      }
    },
    {
      "cell_type": "code",
      "source": [
        "# Creating a tensor from a numpy array\n",
        "import numpy as np\n",
        "\n",
        "tensor = tf.constant(np.arange(1.,6.))\n",
        "tensor"
      ],
      "metadata": {
        "colab": {
          "base_uri": "https://localhost:8080/"
        },
        "id": "Qi_fNVizUVLz",
        "outputId": "f21303cd-7e53-4c93-f29f-3eb98d76efa5"
      },
      "execution_count": null,
      "outputs": [
        {
          "output_type": "execute_result",
          "data": {
            "text/plain": [
              "<tf.Tensor: shape=(5,), dtype=float64, numpy=array([1., 2., 3., 4., 5.])>"
            ]
          },
          "metadata": {},
          "execution_count": 26
        }
      ]
    },
    {
      "cell_type": "code",
      "source": [
        "# Turning the tensor back into a numpy array\n",
        "n_arr = np.array(tensor)\n",
        "n_arr, n_arr.dtype"
      ],
      "metadata": {
        "colab": {
          "base_uri": "https://localhost:8080/"
        },
        "id": "jQtY3KUAWmVG",
        "outputId": "9216ace3-1c91-4738-9e31-8b98af29ba43"
      },
      "execution_count": null,
      "outputs": [
        {
          "output_type": "execute_result",
          "data": {
            "text/plain": [
              "(array([1., 2., 3., 4., 5.]), dtype('float64'))"
            ]
          },
          "metadata": {},
          "execution_count": 27
        }
      ]
    },
    {
      "cell_type": "markdown",
      "source": [
        "#Extra: Checking for GPU / TPU"
      ],
      "metadata": {
        "id": "k_7lTeZ3YojA"
      }
    },
    {
      "cell_type": "code",
      "source": [
        "# Checking the list devices currently available in the runtime\n",
        "# Here we can see that a CPU is available\n",
        "tf.config.list_physical_devices()"
      ],
      "metadata": {
        "colab": {
          "base_uri": "https://localhost:8080/"
        },
        "id": "LfZRSNtSW0fi",
        "outputId": "c86001f4-0e8f-482b-8bbc-0d76c0e109f9"
      },
      "execution_count": null,
      "outputs": [
        {
          "output_type": "execute_result",
          "data": {
            "text/plain": [
              "[PhysicalDevice(name='/physical_device:CPU:0', device_type='CPU')]"
            ]
          },
          "metadata": {},
          "execution_count": 28
        }
      ]
    },
    {
      "cell_type": "code",
      "source": [
        "# After switching to a GPU, we can see it listed below\n",
        "tf.config.list_physical_devices()"
      ],
      "metadata": {
        "colab": {
          "base_uri": "https://localhost:8080/"
        },
        "id": "a5h6Rwk0Y3s3",
        "outputId": "92a26533-d318-40f1-bc57-d5283fd8336d"
      },
      "execution_count": null,
      "outputs": [
        {
          "output_type": "execute_result",
          "data": {
            "text/plain": [
              "[PhysicalDevice(name='/physical_device:CPU:0', device_type='CPU'),\n",
              " PhysicalDevice(name='/physical_device:GPU:0', device_type='GPU')]"
            ]
          },
          "metadata": {},
          "execution_count": 2
        }
      ]
    },
    {
      "cell_type": "markdown",
      "source": [
        "The good thing is that TensorFlow doesn't need any additional configuration to run on a GPU. If a CUDA-enabled device is available, TensorFlow will use it automatically.\n",
        "\n",
        "**CUDA (Compute Unified Device Architecture)** is a parallel computing platform and programming model developed by NVIDIA. It enables developers to harness the power of NVIDIA GPUs to accelerate their applications. CUDA provides a set of programming tools and libraries that allow developers to write high-performance applications that can leverage the parallel processing capabilities of GPUs."
      ],
      "metadata": {
        "id": "vFtCGUC6ZiN8"
      }
    },
    {
      "cell_type": "code",
      "source": [],
      "metadata": {
        "id": "k71PurBKZDxA"
      },
      "execution_count": null,
      "outputs": []
    }
  ]
}