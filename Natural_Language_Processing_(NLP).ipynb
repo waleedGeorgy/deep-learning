{
  "cells": [
    {
      "cell_type": "markdown",
      "metadata": {
        "id": "view-in-github",
        "colab_type": "text"
      },
      "source": [
        "<a href=\"https://colab.research.google.com/github/waleedGeorgy/deep-learning/blob/main/Natural_Language_Processing_(NLP).ipynb\" target=\"_parent\"><img src=\"https://colab.research.google.com/assets/colab-badge.svg\" alt=\"Open In Colab\"/></a>"
      ]
    },
    {
      "cell_type": "markdown",
      "metadata": {
        "id": "GYp6_Fzvigmx"
      },
      "source": [
        "# spaCy basics"
      ]
    },
    {
      "cell_type": "markdown",
      "metadata": {
        "id": "E3AXO0wIUGD_"
      },
      "source": [
        "[spaCy](https://spacy.io/) is an open-source software library for advanced natural language processing, written in Python."
      ]
    },
    {
      "cell_type": "code",
      "execution_count": null,
      "metadata": {
        "colab": {
          "background_save": true
        },
        "id": "Cmm0922GwNpO"
      },
      "outputs": [],
      "source": [
        "# importing spacy\n",
        "import spacy"
      ]
    },
    {
      "cell_type": "code",
      "execution_count": null,
      "metadata": {
        "colab": {
          "background_save": true
        },
        "id": "GGLeov85b0HB"
      },
      "outputs": [],
      "source": [
        "# Loading the NLP model\n",
        "nlp = spacy.load('en_core_web_sm')"
      ]
    },
    {
      "cell_type": "code",
      "execution_count": null,
      "metadata": {
        "colab": {
          "background_save": true
        },
        "id": "StGkKs57cAf8"
      },
      "outputs": [],
      "source": [
        "# Creating a doc object by applying our loaded model to the string\n",
        "doc = nlp('There are almost 8 billion people in the world!')"
      ]
    },
    {
      "cell_type": "code",
      "execution_count": null,
      "metadata": {
        "colab": {
          "background_save": true,
          "base_uri": "https://localhost:8080/"
        },
        "id": "4caa_allcNzQ",
        "outputId": "46712c86-5d05-4b6e-f587-6c8037fa81b4"
      },
      "outputs": [
        {
          "name": "stdout",
          "output_type": "stream",
          "text": [
            "There ----- PRON ----- expl\n",
            "are ----- VERB ----- ROOT\n",
            "almost ----- ADV ----- advmod\n",
            "8 ----- NUM ----- compound\n",
            "billion ----- NUM ----- nummod\n",
            "people ----- NOUN ----- attr\n",
            "in ----- ADP ----- prep\n",
            "the ----- DET ----- det\n",
            "world ----- NOUN ----- pobj\n",
            "! ----- PUNCT ----- punct\n"
          ]
        }
      ],
      "source": [
        "# Getting the tokens (words) from the string, and printing additional info\n",
        "# token.pos_ shows parts-of-speech\n",
        "# token.dep_ shows the syntactic dependancy\n",
        "for token in doc:\n",
        "  print(token.text, '-'*5, token.pos_, '-'*5, token.dep_)"
      ]
    },
    {
      "cell_type": "code",
      "execution_count": null,
      "metadata": {
        "colab": {
          "background_save": true,
          "base_uri": "https://localhost:8080/"
        },
        "id": "bWLkZoMHcRYs",
        "outputId": "d1e00846-4ad3-4222-f6f7-11e92a90e7be"
      },
      "outputs": [
        {
          "data": {
            "text/plain": [
              "[('tok2vec', <spacy.pipeline.tok2vec.Tok2Vec at 0x7a9b3dc9ea40>),\n",
              " ('tagger', <spacy.pipeline.tagger.Tagger at 0x7a9b3dc9ff40>),\n",
              " ('parser', <spacy.pipeline.dep_parser.DependencyParser at 0x7a9b3c2eb1b0>),\n",
              " ('attribute_ruler',\n",
              "  <spacy.pipeline.attributeruler.AttributeRuler at 0x7a9b3da88300>),\n",
              " ('lemmatizer',\n",
              "  <spacy.lang.en.lemmatizer.EnglishLemmatizer at 0x7a9b3dac2940>),\n",
              " ('ner', <spacy.pipeline.ner.EntityRecognizer at 0x7a9b3c2ebae0>)]"
            ]
          },
          "execution_count": 34,
          "metadata": {},
          "output_type": "execute_result"
        }
      ],
      "source": [
        "# Checking the loaded nlp pipeline\n",
        "nlp.pipeline"
      ]
    },
    {
      "cell_type": "markdown",
      "metadata": {
        "id": "yN63VtxFhGu_"
      },
      "source": [
        "More details about spaCy pipeline - https://spacy.io/usage/processing-pipelines"
      ]
    },
    {
      "cell_type": "code",
      "execution_count": null,
      "metadata": {
        "colab": {
          "background_save": true,
          "base_uri": "https://localhost:8080/"
        },
        "id": "U_hgDWvsdnNs",
        "outputId": "5cc018fd-55db-4cce-e30a-3bb9b788c12b"
      },
      "outputs": [
        {
          "data": {
            "text/plain": [
              "['tok2vec', 'tagger', 'parser', 'attribute_ruler', 'lemmatizer', 'ner']"
            ]
          },
          "execution_count": 35,
          "metadata": {},
          "output_type": "execute_result"
        }
      ],
      "source": [
        "# Getting only the names of the processes inside the pipeline\n",
        "nlp.pipe_names"
      ]
    },
    {
      "cell_type": "markdown",
      "metadata": {
        "id": "U1okCJcagb1N"
      },
      "source": [
        "Working with larger docs can be hard. So it's a good idea to take a span from the doc and work with it seperatly"
      ]
    },
    {
      "cell_type": "code",
      "execution_count": null,
      "metadata": {
        "colab": {
          "background_save": true
        },
        "id": "PEwBwvBPePAX"
      },
      "outputs": [],
      "source": [
        "doc2 = nlp('The fish listened intently to what the frogs had to say. We have young kids who often walk into our room at night for various reasons including clowns in the closet. I caught my squirrel rustling through my gym bag. Happiness can be found in the depths of chocolate pudding. The golden retriever loved the fireworks each Fourth of July.')"
      ]
    },
    {
      "cell_type": "code",
      "execution_count": null,
      "metadata": {
        "colab": {
          "background_save": true,
          "base_uri": "https://localhost:8080/"
        },
        "id": "w1Tz3FlVgPlv",
        "outputId": "294768dc-46dd-4c87-cf58-0a83079e9d62"
      },
      "outputs": [
        {
          "data": {
            "text/plain": [
              "say. We have young kids who often walk into"
            ]
          },
          "execution_count": 37,
          "metadata": {},
          "output_type": "execute_result"
        }
      ],
      "source": [
        "random_span = doc2[10:20]\n",
        "random_span"
      ]
    },
    {
      "cell_type": "code",
      "execution_count": null,
      "metadata": {
        "colab": {
          "background_save": true,
          "base_uri": "https://localhost:8080/"
        },
        "id": "HjpH6Olvhj2h",
        "outputId": "bac64a1e-26eb-446e-c48a-bd26ad9cc5a6"
      },
      "outputs": [
        {
          "data": {
            "text/plain": [
              "spacy.tokens.doc.Doc"
            ]
          },
          "execution_count": 38,
          "metadata": {},
          "output_type": "execute_result"
        }
      ],
      "source": [
        "type(doc2)"
      ]
    },
    {
      "cell_type": "code",
      "execution_count": null,
      "metadata": {
        "colab": {
          "background_save": true,
          "base_uri": "https://localhost:8080/"
        },
        "id": "73oQIG6MhmZX",
        "outputId": "83795ef0-9811-436c-d707-d1a054739fbe"
      },
      "outputs": [
        {
          "data": {
            "text/plain": [
              "spacy.tokens.span.Span"
            ]
          },
          "execution_count": 39,
          "metadata": {},
          "output_type": "execute_result"
        }
      ],
      "source": [
        "type(random_span)"
      ]
    },
    {
      "cell_type": "code",
      "execution_count": null,
      "metadata": {
        "colab": {
          "background_save": true,
          "base_uri": "https://localhost:8080/"
        },
        "id": "9uKj0-EhhoHd",
        "outputId": "85586029-6082-4c00-fb18-6a1c53a05379"
      },
      "outputs": [
        {
          "name": "stdout",
          "output_type": "stream",
          "text": [
            "The fish listened intently to what the frogs had to say.\n",
            "We have young kids who often walk into our room at night for various reasons including clowns in the closet.\n",
            "I caught my squirrel rustling through my gym bag.\n",
            "Happiness can be found in the depths of chocolate pudding.\n",
            "The golden retriever loved the fireworks each Fourth of July.\n"
          ]
        }
      ],
      "source": [
        "# Dissecting the document into sentences\n",
        "for sentence in doc2.sents:\n",
        "  print(sentence)"
      ]
    },
    {
      "cell_type": "code",
      "execution_count": null,
      "metadata": {
        "colab": {
          "base_uri": "https://localhost:8080/"
        },
        "id": "llJNosCcia-Z",
        "outputId": "e84925e4-2eb7-4983-aac7-3ca17c2a8de1"
      },
      "outputs": [
        {
          "data": {
            "text/plain": [
              "True"
            ]
          },
          "execution_count": 12,
          "metadata": {},
          "output_type": "execute_result"
        }
      ],
      "source": [
        "# Checking if token at position 12 is a start of the sentence\n",
        "doc2[12].is_sent_start"
      ]
    },
    {
      "cell_type": "code",
      "execution_count": null,
      "metadata": {
        "colab": {
          "background_save": true,
          "base_uri": "https://localhost:8080/"
        },
        "id": "yyl-aGjpiqEv",
        "outputId": "3f264418-7b88-4ff4-ee4a-723cd1e90d4a"
      },
      "outputs": [
        {
          "data": {
            "text/plain": [
              "False"
            ]
          },
          "execution_count": 42,
          "metadata": {},
          "output_type": "execute_result"
        }
      ],
      "source": [
        "doc2[13].is_sent_start"
      ]
    },
    {
      "cell_type": "markdown",
      "metadata": {
        "id": "4ocZ-xFIjNKc"
      },
      "source": [
        "## Tokenization"
      ]
    },
    {
      "cell_type": "markdown",
      "metadata": {
        "id": "8zKaGsjwjrFA"
      },
      "source": [
        "Tokenization is the process of breaking-up the original text into components (tokens).\n",
        "Tokens are the basic building blocks of the doc object that helps us and the machine understand the meaning of the text and the relationship between words."
      ]
    },
    {
      "cell_type": "code",
      "execution_count": null,
      "metadata": {
        "colab": {
          "base_uri": "https://localhost:8080/"
        },
        "id": "TbbdepFMiuEN",
        "outputId": "f8e55c12-f0ac-4ac3-e7bb-59e3eeaa7f5d"
      },
      "outputs": [
        {
          "name": "stdout",
          "output_type": "stream",
          "text": [
            "\"We're here to help! Please e-mail us at support@company.com, or visit our site: https://www.ourcompany.com!\"\n"
          ]
        }
      ],
      "source": [
        "mystring = '\"We\\'re here to help! Please e-mail us at support@company.com, or visit our site: https://www.ourcompany.com!\"'\n",
        "print(mystring)"
      ]
    },
    {
      "cell_type": "code",
      "execution_count": null,
      "metadata": {
        "colab": {
          "base_uri": "https://localhost:8080/"
        },
        "id": "7gKSFPT5iwA6",
        "outputId": "59b4df0b-2052-46c9-d5cc-cd5626861c3f"
      },
      "outputs": [
        {
          "name": "stdout",
          "output_type": "stream",
          "text": [
            "\"\n",
            "We\n",
            "'re\n",
            "here\n",
            "to\n",
            "help\n",
            "!\n",
            "Please\n",
            "e\n",
            "-\n",
            "mail\n",
            "us\n",
            "at\n",
            "support@company.com\n",
            ",\n",
            "or\n",
            "visit\n",
            "our\n",
            "site\n",
            ":\n",
            "https://www.ourcompany.com\n",
            "!\n",
            "\"\n"
          ]
        }
      ],
      "source": [
        "doc_mystring = nlp(mystring)\n",
        "\n",
        "for t in doc_mystring:\n",
        "  print(t)"
      ]
    },
    {
      "cell_type": "code",
      "execution_count": null,
      "metadata": {
        "colab": {
          "base_uri": "https://localhost:8080/"
        },
        "id": "8hLdNO51i7M4",
        "outputId": "25fa15ab-a644-41a0-e975-6b9db3b377e4"
      },
      "outputs": [
        {
          "data": {
            "text/plain": [
              "help"
            ]
          },
          "execution_count": 45,
          "metadata": {},
          "output_type": "execute_result"
        }
      ],
      "source": [
        "# Token indexing\n",
        "doc_mystring[5]"
      ]
    },
    {
      "cell_type": "code",
      "execution_count": null,
      "metadata": {
        "colab": {
          "base_uri": "https://localhost:8080/"
        },
        "id": "3tNWV4ZdkSHG",
        "outputId": "9ad8e359-5d85-4c52-c853-6ddb46eb556e"
      },
      "outputs": [
        {
          "data": {
            "text/plain": [
              "'re here to help! Please e-"
            ]
          },
          "execution_count": 17,
          "metadata": {},
          "output_type": "execute_result"
        }
      ],
      "source": [
        "# Token span\n",
        "doc_mystring[2:10]"
      ]
    },
    {
      "cell_type": "code",
      "execution_count": null,
      "metadata": {
        "colab": {
          "base_uri": "https://localhost:8080/"
        },
        "id": "Hj8x6zZWkUbz",
        "outputId": "f5942989-dc00-494b-8169-dddd7fed5d1d"
      },
      "outputs": [
        {
          "name": "stdout",
          "output_type": "stream",
          "text": [
            "Apple | will | build | a | Moscow | factory | for | $ | 9.5 | millions | . | "
          ]
        }
      ],
      "source": [
        "# Spacy can recognize named entities\n",
        "my_string2 = nlp(u'Apple will build a Moscow factory for $9.5 millions.')\n",
        "\n",
        "for token in my_string2:\n",
        "  print(token, end = ' | ')"
      ]
    },
    {
      "cell_type": "code",
      "execution_count": null,
      "metadata": {
        "colab": {
          "base_uri": "https://localhost:8080/"
        },
        "id": "35oiL9IllRqo",
        "outputId": "349d8ae5-2016-4f9e-d2e5-80c54c7210a1"
      },
      "outputs": [
        {
          "name": "stdout",
          "output_type": "stream",
          "text": [
            "Apple\n",
            "ORG\n",
            "Companies, agencies, institutions, etc.\n",
            "\n",
            "\n",
            "Moscow\n",
            "GPE\n",
            "Countries, cities, states\n",
            "\n",
            "\n",
            "$9.5 millions\n",
            "MONEY\n",
            "Monetary values, including unit\n",
            "\n",
            "\n"
          ]
        }
      ],
      "source": [
        "for entity in my_string2.ents:\n",
        "  print(entity)\n",
        "  print(entity.label_)\n",
        "  print(spacy.explain(entity.label_))\n",
        "  print('\\n')"
      ]
    },
    {
      "cell_type": "code",
      "execution_count": null,
      "metadata": {
        "colab": {
          "base_uri": "https://localhost:8080/"
        },
        "id": "188HY_GAlcXl",
        "outputId": "36a90019-b47c-426a-a6a8-a18ab37da132"
      },
      "outputs": [
        {
          "name": "stdout",
          "output_type": "stream",
          "text": [
            "Black cars\n",
            "the busy highway\n",
            "a cloudy night\n"
          ]
        }
      ],
      "source": [
        "# spaCy can recognize noun chunks\n",
        "my_string3 = nlp('Black cars drive on the busy highway on a cloudy night')\n",
        "\n",
        "for chunck in my_string3.noun_chunks:\n",
        "  print(chunck)"
      ]
    },
    {
      "cell_type": "markdown",
      "metadata": {
        "id": "5Dyab3sdnHX5"
      },
      "source": [
        "### Token Visualization"
      ]
    },
    {
      "cell_type": "markdown",
      "metadata": {
        "id": "FqPPvMIQX5gd"
      },
      "source": [
        "Everything done previously can be done visually using displacy"
      ]
    },
    {
      "cell_type": "code",
      "execution_count": null,
      "metadata": {
        "id": "XtV5uzBPmbFe"
      },
      "outputs": [],
      "source": [
        "from spacy import displacy"
      ]
    },
    {
      "cell_type": "code",
      "execution_count": null,
      "metadata": {
        "id": "x0gCd_qanL6N"
      },
      "outputs": [],
      "source": [
        "dis_string = nlp(u'Apple will build a Moscow factory for $9.5 millions.')"
      ]
    },
    {
      "cell_type": "code",
      "execution_count": null,
      "metadata": {
        "colab": {
          "base_uri": "https://localhost:8080/",
          "height": 358
        },
        "id": "0ROY1UlYnRf3",
        "outputId": "f88a7868-aec4-4180-f606-08b125267daa"
      },
      "outputs": [
        {
          "data": {
            "text/html": [
              "<span class=\"tex2jax_ignore\"><svg xmlns=\"http://www.w3.org/2000/svg\" xmlns:xlink=\"http://www.w3.org/1999/xlink\" xml:lang=\"en\" id=\"ec3cb6d26d7345d78e453cb190f9de15-0\" class=\"displacy\" width=\"1050\" height=\"337.0\" direction=\"ltr\" style=\"max-width: none; height: 337.0px; color: #000000; background: #ffffff; font-family: Arial; direction: ltr\">\n",
              "<text class=\"displacy-token\" fill=\"currentColor\" text-anchor=\"middle\" y=\"247.0\">\n",
              "    <tspan class=\"displacy-word\" fill=\"currentColor\" x=\"50\">Apple</tspan>\n",
              "    <tspan class=\"displacy-tag\" dy=\"2em\" fill=\"currentColor\" x=\"50\">PROPN</tspan>\n",
              "</text>\n",
              "\n",
              "<text class=\"displacy-token\" fill=\"currentColor\" text-anchor=\"middle\" y=\"247.0\">\n",
              "    <tspan class=\"displacy-word\" fill=\"currentColor\" x=\"150\">will</tspan>\n",
              "    <tspan class=\"displacy-tag\" dy=\"2em\" fill=\"currentColor\" x=\"150\">AUX</tspan>\n",
              "</text>\n",
              "\n",
              "<text class=\"displacy-token\" fill=\"currentColor\" text-anchor=\"middle\" y=\"247.0\">\n",
              "    <tspan class=\"displacy-word\" fill=\"currentColor\" x=\"250\">build</tspan>\n",
              "    <tspan class=\"displacy-tag\" dy=\"2em\" fill=\"currentColor\" x=\"250\">VERB</tspan>\n",
              "</text>\n",
              "\n",
              "<text class=\"displacy-token\" fill=\"currentColor\" text-anchor=\"middle\" y=\"247.0\">\n",
              "    <tspan class=\"displacy-word\" fill=\"currentColor\" x=\"350\">a</tspan>\n",
              "    <tspan class=\"displacy-tag\" dy=\"2em\" fill=\"currentColor\" x=\"350\">DET</tspan>\n",
              "</text>\n",
              "\n",
              "<text class=\"displacy-token\" fill=\"currentColor\" text-anchor=\"middle\" y=\"247.0\">\n",
              "    <tspan class=\"displacy-word\" fill=\"currentColor\" x=\"450\">Moscow</tspan>\n",
              "    <tspan class=\"displacy-tag\" dy=\"2em\" fill=\"currentColor\" x=\"450\">PROPN</tspan>\n",
              "</text>\n",
              "\n",
              "<text class=\"displacy-token\" fill=\"currentColor\" text-anchor=\"middle\" y=\"247.0\">\n",
              "    <tspan class=\"displacy-word\" fill=\"currentColor\" x=\"550\">factory</tspan>\n",
              "    <tspan class=\"displacy-tag\" dy=\"2em\" fill=\"currentColor\" x=\"550\">NOUN</tspan>\n",
              "</text>\n",
              "\n",
              "<text class=\"displacy-token\" fill=\"currentColor\" text-anchor=\"middle\" y=\"247.0\">\n",
              "    <tspan class=\"displacy-word\" fill=\"currentColor\" x=\"650\">for</tspan>\n",
              "    <tspan class=\"displacy-tag\" dy=\"2em\" fill=\"currentColor\" x=\"650\">ADP</tspan>\n",
              "</text>\n",
              "\n",
              "<text class=\"displacy-token\" fill=\"currentColor\" text-anchor=\"middle\" y=\"247.0\">\n",
              "    <tspan class=\"displacy-word\" fill=\"currentColor\" x=\"750\">$</tspan>\n",
              "    <tspan class=\"displacy-tag\" dy=\"2em\" fill=\"currentColor\" x=\"750\">SYM</tspan>\n",
              "</text>\n",
              "\n",
              "<text class=\"displacy-token\" fill=\"currentColor\" text-anchor=\"middle\" y=\"247.0\">\n",
              "    <tspan class=\"displacy-word\" fill=\"currentColor\" x=\"850\">9.5</tspan>\n",
              "    <tspan class=\"displacy-tag\" dy=\"2em\" fill=\"currentColor\" x=\"850\">NUM</tspan>\n",
              "</text>\n",
              "\n",
              "<text class=\"displacy-token\" fill=\"currentColor\" text-anchor=\"middle\" y=\"247.0\">\n",
              "    <tspan class=\"displacy-word\" fill=\"currentColor\" x=\"950\">millions.</tspan>\n",
              "    <tspan class=\"displacy-tag\" dy=\"2em\" fill=\"currentColor\" x=\"950\">NOUN</tspan>\n",
              "</text>\n",
              "\n",
              "<g class=\"displacy-arrow\">\n",
              "    <path class=\"displacy-arc\" id=\"arrow-ec3cb6d26d7345d78e453cb190f9de15-0-0\" stroke-width=\"2px\" d=\"M70,202.0 C70,102.0 240.0,102.0 240.0,202.0\" fill=\"none\" stroke=\"currentColor\"/>\n",
              "    <text dy=\"1.25em\" style=\"font-size: 0.8em; letter-spacing: 1px\">\n",
              "        <textPath xlink:href=\"#arrow-ec3cb6d26d7345d78e453cb190f9de15-0-0\" class=\"displacy-label\" startOffset=\"50%\" side=\"left\" fill=\"currentColor\" text-anchor=\"middle\">nsubj</textPath>\n",
              "    </text>\n",
              "    <path class=\"displacy-arrowhead\" d=\"M70,204.0 L62,192.0 78,192.0\" fill=\"currentColor\"/>\n",
              "</g>\n",
              "\n",
              "<g class=\"displacy-arrow\">\n",
              "    <path class=\"displacy-arc\" id=\"arrow-ec3cb6d26d7345d78e453cb190f9de15-0-1\" stroke-width=\"2px\" d=\"M170,202.0 C170,152.0 235.0,152.0 235.0,202.0\" fill=\"none\" stroke=\"currentColor\"/>\n",
              "    <text dy=\"1.25em\" style=\"font-size: 0.8em; letter-spacing: 1px\">\n",
              "        <textPath xlink:href=\"#arrow-ec3cb6d26d7345d78e453cb190f9de15-0-1\" class=\"displacy-label\" startOffset=\"50%\" side=\"left\" fill=\"currentColor\" text-anchor=\"middle\">aux</textPath>\n",
              "    </text>\n",
              "    <path class=\"displacy-arrowhead\" d=\"M170,204.0 L162,192.0 178,192.0\" fill=\"currentColor\"/>\n",
              "</g>\n",
              "\n",
              "<g class=\"displacy-arrow\">\n",
              "    <path class=\"displacy-arc\" id=\"arrow-ec3cb6d26d7345d78e453cb190f9de15-0-2\" stroke-width=\"2px\" d=\"M370,202.0 C370,102.0 540.0,102.0 540.0,202.0\" fill=\"none\" stroke=\"currentColor\"/>\n",
              "    <text dy=\"1.25em\" style=\"font-size: 0.8em; letter-spacing: 1px\">\n",
              "        <textPath xlink:href=\"#arrow-ec3cb6d26d7345d78e453cb190f9de15-0-2\" class=\"displacy-label\" startOffset=\"50%\" side=\"left\" fill=\"currentColor\" text-anchor=\"middle\">det</textPath>\n",
              "    </text>\n",
              "    <path class=\"displacy-arrowhead\" d=\"M370,204.0 L362,192.0 378,192.0\" fill=\"currentColor\"/>\n",
              "</g>\n",
              "\n",
              "<g class=\"displacy-arrow\">\n",
              "    <path class=\"displacy-arc\" id=\"arrow-ec3cb6d26d7345d78e453cb190f9de15-0-3\" stroke-width=\"2px\" d=\"M470,202.0 C470,152.0 535.0,152.0 535.0,202.0\" fill=\"none\" stroke=\"currentColor\"/>\n",
              "    <text dy=\"1.25em\" style=\"font-size: 0.8em; letter-spacing: 1px\">\n",
              "        <textPath xlink:href=\"#arrow-ec3cb6d26d7345d78e453cb190f9de15-0-3\" class=\"displacy-label\" startOffset=\"50%\" side=\"left\" fill=\"currentColor\" text-anchor=\"middle\">compound</textPath>\n",
              "    </text>\n",
              "    <path class=\"displacy-arrowhead\" d=\"M470,204.0 L462,192.0 478,192.0\" fill=\"currentColor\"/>\n",
              "</g>\n",
              "\n",
              "<g class=\"displacy-arrow\">\n",
              "    <path class=\"displacy-arc\" id=\"arrow-ec3cb6d26d7345d78e453cb190f9de15-0-4\" stroke-width=\"2px\" d=\"M270,202.0 C270,52.0 545.0,52.0 545.0,202.0\" fill=\"none\" stroke=\"currentColor\"/>\n",
              "    <text dy=\"1.25em\" style=\"font-size: 0.8em; letter-spacing: 1px\">\n",
              "        <textPath xlink:href=\"#arrow-ec3cb6d26d7345d78e453cb190f9de15-0-4\" class=\"displacy-label\" startOffset=\"50%\" side=\"left\" fill=\"currentColor\" text-anchor=\"middle\">dobj</textPath>\n",
              "    </text>\n",
              "    <path class=\"displacy-arrowhead\" d=\"M545.0,204.0 L553.0,192.0 537.0,192.0\" fill=\"currentColor\"/>\n",
              "</g>\n",
              "\n",
              "<g class=\"displacy-arrow\">\n",
              "    <path class=\"displacy-arc\" id=\"arrow-ec3cb6d26d7345d78e453cb190f9de15-0-5\" stroke-width=\"2px\" d=\"M270,202.0 C270,2.0 650.0,2.0 650.0,202.0\" fill=\"none\" stroke=\"currentColor\"/>\n",
              "    <text dy=\"1.25em\" style=\"font-size: 0.8em; letter-spacing: 1px\">\n",
              "        <textPath xlink:href=\"#arrow-ec3cb6d26d7345d78e453cb190f9de15-0-5\" class=\"displacy-label\" startOffset=\"50%\" side=\"left\" fill=\"currentColor\" text-anchor=\"middle\">prep</textPath>\n",
              "    </text>\n",
              "    <path class=\"displacy-arrowhead\" d=\"M650.0,204.0 L658.0,192.0 642.0,192.0\" fill=\"currentColor\"/>\n",
              "</g>\n",
              "\n",
              "<g class=\"displacy-arrow\">\n",
              "    <path class=\"displacy-arc\" id=\"arrow-ec3cb6d26d7345d78e453cb190f9de15-0-6\" stroke-width=\"2px\" d=\"M770,202.0 C770,102.0 940.0,102.0 940.0,202.0\" fill=\"none\" stroke=\"currentColor\"/>\n",
              "    <text dy=\"1.25em\" style=\"font-size: 0.8em; letter-spacing: 1px\">\n",
              "        <textPath xlink:href=\"#arrow-ec3cb6d26d7345d78e453cb190f9de15-0-6\" class=\"displacy-label\" startOffset=\"50%\" side=\"left\" fill=\"currentColor\" text-anchor=\"middle\">quantmod</textPath>\n",
              "    </text>\n",
              "    <path class=\"displacy-arrowhead\" d=\"M770,204.0 L762,192.0 778,192.0\" fill=\"currentColor\"/>\n",
              "</g>\n",
              "\n",
              "<g class=\"displacy-arrow\">\n",
              "    <path class=\"displacy-arc\" id=\"arrow-ec3cb6d26d7345d78e453cb190f9de15-0-7\" stroke-width=\"2px\" d=\"M870,202.0 C870,152.0 935.0,152.0 935.0,202.0\" fill=\"none\" stroke=\"currentColor\"/>\n",
              "    <text dy=\"1.25em\" style=\"font-size: 0.8em; letter-spacing: 1px\">\n",
              "        <textPath xlink:href=\"#arrow-ec3cb6d26d7345d78e453cb190f9de15-0-7\" class=\"displacy-label\" startOffset=\"50%\" side=\"left\" fill=\"currentColor\" text-anchor=\"middle\">compound</textPath>\n",
              "    </text>\n",
              "    <path class=\"displacy-arrowhead\" d=\"M870,204.0 L862,192.0 878,192.0\" fill=\"currentColor\"/>\n",
              "</g>\n",
              "\n",
              "<g class=\"displacy-arrow\">\n",
              "    <path class=\"displacy-arc\" id=\"arrow-ec3cb6d26d7345d78e453cb190f9de15-0-8\" stroke-width=\"2px\" d=\"M670,202.0 C670,52.0 945.0,52.0 945.0,202.0\" fill=\"none\" stroke=\"currentColor\"/>\n",
              "    <text dy=\"1.25em\" style=\"font-size: 0.8em; letter-spacing: 1px\">\n",
              "        <textPath xlink:href=\"#arrow-ec3cb6d26d7345d78e453cb190f9de15-0-8\" class=\"displacy-label\" startOffset=\"50%\" side=\"left\" fill=\"currentColor\" text-anchor=\"middle\">pobj</textPath>\n",
              "    </text>\n",
              "    <path class=\"displacy-arrowhead\" d=\"M945.0,204.0 L953.0,192.0 937.0,192.0\" fill=\"currentColor\"/>\n",
              "</g>\n",
              "</svg></span>"
            ],
            "text/plain": [
              "<IPython.core.display.HTML object>"
            ]
          },
          "metadata": {},
          "output_type": "display_data"
        }
      ],
      "source": [
        "# Showing the syntactic dependency between tokens in the doc\n",
        "displacy.render(dis_string, style = 'dep', jupyter = True, options = {'distance': 100}) # style = 'dep' means we want to see the syntactic dependency"
      ]
    },
    {
      "cell_type": "code",
      "execution_count": null,
      "metadata": {
        "colab": {
          "base_uri": "https://localhost:8080/",
          "height": 52
        },
        "id": "vVmHI2Qlnhsc",
        "outputId": "64b2d7c8-fde6-42ba-cc67-f0ce4b0926a3"
      },
      "outputs": [
        {
          "data": {
            "text/html": [
              "<span class=\"tex2jax_ignore\"><div class=\"entities\" style=\"line-height: 2.5; direction: ltr\">\n",
              "<mark class=\"entity\" style=\"background: #7aecec; padding: 0.45em 0.6em; margin: 0 0.25em; line-height: 1; border-radius: 0.35em;\">\n",
              "    Apple\n",
              "    <span style=\"font-size: 0.8em; font-weight: bold; line-height: 1; border-radius: 0.35em; vertical-align: middle; margin-left: 0.5rem\">ORG</span>\n",
              "</mark>\n",
              " will build a \n",
              "<mark class=\"entity\" style=\"background: #feca74; padding: 0.45em 0.6em; margin: 0 0.25em; line-height: 1; border-radius: 0.35em;\">\n",
              "    Moscow\n",
              "    <span style=\"font-size: 0.8em; font-weight: bold; line-height: 1; border-radius: 0.35em; vertical-align: middle; margin-left: 0.5rem\">GPE</span>\n",
              "</mark>\n",
              " factory for \n",
              "<mark class=\"entity\" style=\"background: #e4e7d2; padding: 0.45em 0.6em; margin: 0 0.25em; line-height: 1; border-radius: 0.35em;\">\n",
              "    $9.5 millions\n",
              "    <span style=\"font-size: 0.8em; font-weight: bold; line-height: 1; border-radius: 0.35em; vertical-align: middle; margin-left: 0.5rem\">MONEY</span>\n",
              "</mark>\n",
              ".</div></span>"
            ],
            "text/plain": [
              "<IPython.core.display.HTML object>"
            ]
          },
          "metadata": {},
          "output_type": "display_data"
        }
      ],
      "source": [
        "# Showing the entity of tokens in the doc\n",
        "displacy.render(dis_string, style = 'ent', jupyter = True, options = {'distance': 100}) # style = 'ent' means we want to see the entities"
      ]
    },
    {
      "cell_type": "markdown",
      "metadata": {
        "id": "fruXHgHJpC9T"
      },
      "source": [
        "All of the above can be shown in a browser for example using .serve instead of .render.\n",
        "\n",
        "options, as the name suggests allow us to customize our visualizations, from the distance between tokens, to zooming capabilities, and coloring, etc."
      ]
    },
    {
      "cell_type": "markdown",
      "metadata": {
        "id": "YCBLFhKnNkNF"
      },
      "source": [
        "## Stemming"
      ]
    },
    {
      "cell_type": "markdown",
      "metadata": {
        "id": "4kYNF6NsNmo-"
      },
      "source": [
        "**Stemming** is the process of cataloging variations of a word, for example: run is the stem for runner, runs, running etc...\n",
        "\n",
        "The main 2 alogirthms for stemming are the Porter Stemmer, and the Snowball Stemmer, both of which reduce a word to its base form.\n",
        "\n",
        "spaCy doesn't use a stemmer, only lemmatization, hence we'll use the NLTK library to implement stemming."
      ]
    },
    {
      "cell_type": "code",
      "execution_count": null,
      "metadata": {
        "id": "HnnecmhZopMC"
      },
      "outputs": [],
      "source": [
        "# Using the Porter Stemmer\n",
        "import nltk\n",
        "from nltk.stem.porter import PorterStemmer"
      ]
    },
    {
      "cell_type": "code",
      "execution_count": null,
      "metadata": {
        "id": "CUTzbm4kPR63"
      },
      "outputs": [],
      "source": [
        "# Creating instance of the Porter stemmer\n",
        "p_stemmer = PorterStemmer()"
      ]
    },
    {
      "cell_type": "code",
      "execution_count": null,
      "metadata": {
        "id": "259UcMwbPVfU"
      },
      "outputs": [],
      "source": [
        "words = ['run', 'runner', 'runs', 'ran', 'running', 'fairly', 'fairness', 'sophisticated', 'easily']"
      ]
    },
    {
      "cell_type": "code",
      "execution_count": null,
      "metadata": {
        "colab": {
          "base_uri": "https://localhost:8080/"
        },
        "id": "KYMnLOphPg0O",
        "outputId": "05efadb2-b449-4188-b51f-7fa00c9b1c11"
      },
      "outputs": [
        {
          "name": "stdout",
          "output_type": "stream",
          "text": [
            "run ------> run\n",
            "runner ------> runner\n",
            "runs ------> run\n",
            "ran ------> ran\n",
            "running ------> run\n",
            "fairly ------> fairli\n",
            "fairness ------> fair\n",
            "sophisticated ------> sophist\n",
            "easily ------> easili\n"
          ]
        }
      ],
      "source": [
        "for word in words:\n",
        "  print(word + ' ------> ' + p_stemmer.stem(word))"
      ]
    },
    {
      "cell_type": "code",
      "execution_count": null,
      "metadata": {
        "id": "CRm5YmSOPpUH"
      },
      "outputs": [],
      "source": [
        "# Using the Snowball Stemmer\n",
        "from nltk.stem.snowball import SnowballStemmer"
      ]
    },
    {
      "cell_type": "code",
      "execution_count": null,
      "metadata": {
        "id": "t-DDFUiJQAzm"
      },
      "outputs": [],
      "source": [
        "# Creating instance of the Snowball stemmer\n",
        "s_stemmer = SnowballStemmer(language='english')"
      ]
    },
    {
      "cell_type": "code",
      "execution_count": null,
      "metadata": {
        "colab": {
          "base_uri": "https://localhost:8080/"
        },
        "id": "PK3fz6pMQFjx",
        "outputId": "fbff502d-aac1-4de5-9f8a-9e1dcfa86494"
      },
      "outputs": [
        {
          "name": "stdout",
          "output_type": "stream",
          "text": [
            "run ------> run\n",
            "runner ------> runner\n",
            "runs ------> run\n",
            "ran ------> ran\n",
            "running ------> run\n",
            "fairly ------> fair\n",
            "fairness ------> fair\n",
            "sophisticated ------> sophist\n",
            "easily ------> easili\n"
          ]
        }
      ],
      "source": [
        "for word in words:\n",
        "  print(word + ' ------> ' + s_stemmer.stem(word))"
      ]
    },
    {
      "cell_type": "markdown",
      "metadata": {
        "id": "4BXACDlFQ53Q"
      },
      "source": [
        "##Lemmatization"
      ]
    },
    {
      "cell_type": "markdown",
      "metadata": {
        "id": "GN_w8dKFR7Om"
      },
      "source": [
        "**Lemmatization** is the process of grouping together the inflected forms of a word so they can be analysed as a single item, identified by the word's lemma, or dictionary form.\n",
        "\n",
        "Lemmatization is more sophisticated than stemming in that it looks at a word's part of speech and context in order to group it with other similar words, instead of just reducing it.\n",
        "\n",
        "For example: mice and mouse, meet and meeting, etc..."
      ]
    },
    {
      "cell_type": "code",
      "execution_count": null,
      "metadata": {
        "id": "crrMfZ_TQJlG"
      },
      "outputs": [],
      "source": [
        "import spacy\n",
        "\n",
        "nlp = spacy.load('en_core_web_sm')"
      ]
    },
    {
      "cell_type": "code",
      "execution_count": null,
      "metadata": {
        "colab": {
          "base_uri": "https://localhost:8080/"
        },
        "id": "GQTqwWSaSbua",
        "outputId": "eea5cad5-3b29-4cc1-ff1c-a2779829563d"
      },
      "outputs": [
        {
          "name": "stdout",
          "output_type": "stream",
          "text": [
            "I            PRON   4690420944186131903    I\n",
            "'m           AUX    10382539506755952630   be\n",
            "a            DET    11901859001352538922   a\n",
            "runner       NOUN   12640964157389618806   runner\n",
            "running      VERB   12767647472892411841   run\n",
            "a            DET    11901859001352538922   a\n",
            "race         NOUN   8048469955494714898    race\n",
            "because      SCONJ  16950148841647037698   because\n",
            "I            PRON   4690420944186131903    I\n",
            "love         VERB   3702023516439754181    love\n",
            "to           PART   3791531372978436496    to\n",
            "run          VERB   12767647472892411841   run\n",
            "since        SCONJ  10066841407251338481   since\n",
            "I            PRON   4690420944186131903    I\n",
            "ran          VERB   12767647472892411841   run\n",
            "today        NOUN   11042482332948150395   today\n",
            "...          PUNCT  10875615029400813363   ...\n"
          ]
        }
      ],
      "source": [
        "doc1 = nlp(u\"I'm a runner running a race because I love to run since I ran today...\")\n",
        "\n",
        "for token in doc1:\n",
        "  print(f'{token.text:{12}} {token.pos_:{6}} {token.lemma:<{22}} {token.lemma_}')"
      ]
    },
    {
      "cell_type": "markdown",
      "metadata": {
        "id": "5aef8NIMVMj9"
      },
      "source": [
        "##Stop Words"
      ]
    },
    {
      "cell_type": "markdown",
      "metadata": {
        "id": "iLwN0RxSVOfZ"
      },
      "source": [
        "**Stop words** are a set of commonly used words in a language, for examples “a” “the” “is” “are” etc.\n",
        "Stop words are commonly used in Text Mining and NLP to eliminate words that are so widely used that they carry very little useful information.\n",
        "The inclusion of such words can potentially harm your NLP research / application."
      ]
    },
    {
      "cell_type": "code",
      "execution_count": null,
      "metadata": {
        "id": "zhRLN9YyUWD9"
      },
      "outputs": [],
      "source": [
        "import spacy\n",
        "\n",
        "nlp = spacy.load('en_core_web_sm')"
      ]
    },
    {
      "cell_type": "code",
      "execution_count": null,
      "metadata": {
        "id": "t8u57eb5VoZE"
      },
      "outputs": [],
      "source": [
        "# Get all the stop words\n",
        "stop_words = nlp.Defaults.stop_words"
      ]
    },
    {
      "cell_type": "code",
      "execution_count": null,
      "metadata": {
        "colab": {
          "base_uri": "https://localhost:8080/"
        },
        "id": "Y4CkJ_t7Vthx",
        "outputId": "efcb6451-31b6-464b-9567-79120ef6dcf4"
      },
      "outputs": [
        {
          "name": "stdout",
          "output_type": "stream",
          "text": [
            "326 {'beyond', 'it', 'anyone', 'only', 'others', 'when', 'even', 'whenever', 'go', 'above', 'had', 'keep', 'were', 'as', 'along', 'throughout', 'forty', 'thence', 'further', '’m', 'did', 'yourselves', 'someone', 'many', 'below', 'full', '‘ve', 'during', 'towards', 'that', 'move', 'third', 'by', '‘m', 'much', 'which', 'fifteen', 'see', \"'m\", 'however', 'using', 'this', 'while', 'yourself', 'any', 'thus', 'whereas', 'otherwise', 'whither', 'himself', '‘re', 'one', 'perhaps', 'whereby', 'without', 'ours', 'together', 'already', \"'ll\", 'for', 'always', 'between', 're', 'doing', 'from', 'afterwards', 'her', 'another', 'quite', 'anywhere', 'name', 'itself', 'next', '‘s', 'empty', 'seemed', 'via', 'anything', 'except', 'of', 'its', \"'ve\", 'none', 'within', 'six', 'unless', 'every', 'so', 'do', 'side', 'down', 'three', 'has', 'bottom', 'he', 'ca', 'used', 'just', 'becoming', 'off', 'they', \"'re\", 'enough', 'my', 'really', 'amount', 'than', 'am', 'seems', 'take', 'hereafter', 'own', 'latter', 'eleven', 'regarding', 'these', 'wherever', 'will', 'then', 'myself', 'meanwhile', 'across', 'whose', 'besides', 'hence', '‘ll', 'nor', 'seem', 'too', 'but', 'alone', 'other', 'everyone', 'part', 'formerly', 'an', 'is', 'either', 'the', 'twenty', 'hereupon', 'various', 'each', 'no', 'over', 'put', 'thereupon', 'sixty', 'mine', 'five', 'hereby', 'well', 'anyhow', 'get', 'two', 'n‘t', 'ten', 'could', 'whatever', 'not', 'us', '’ll', 'beside', 'indeed', 'say', 'being', 'mostly', 'amongst', 'twelve', 'nevertheless', 'almost', 'against', 'after', 'else', 'does', 'you', 'toward', 'she', 'are', 'nine', 'same', 'been', 'whereafter', 'though', 'whereupon', 'be', 'our', 'done', 'how', 'onto', 'seeming', 'to', 'into', 'top', 'them', 'until', 'neither', 'behind', 'would', 'made', 'on', 'or', 'where', 'therefore', 'wherein', 'cannot', 'here', '’re', 'back', 'most', 'show', 'rather', 'whether', 'whence', 'herein', 'few', 'still', 'although', '’d', 'sometimes', 'who', '‘d', 'thru', '’s', 'in', 'thereafter', 'before', 'latterly', \"'s\", 'at', 'front', 'about', 'last', 'me', 'have', '’ve', 'can', 'among', 'him', 'upon', 'through', 'four', 'became', 'all', 'please', 'both', 'such', 'least', 'somewhere', 'once', 'become', 'there', 'may', 'call', 'around', \"n't\", 'themselves', 'nowhere', 'somehow', 'fifty', 'was', 'whole', 'with', 'what', 'hundred', 'if', 'since', 'your', 'everything', 'also', 'former', 'anyway', 'moreover', 'a', 'very', 'several', 'whoever', 'beforehand', 'yet', 'i', 'out', 'up', 'hers', 'and', 'whom', 'must', 'never', 'becomes', 'more', 'nobody', 'serious', 'herself', 'n’t', 'ever', 'sometime', 'less', \"'d\", 'give', 'make', 'might', 'often', 'why', 'because', 'noone', 'eight', 'nothing', 'should', 'elsewhere', 'due', 'yours', 'those', 'something', 'again', 'first', 'his', 'some', 'therein', 'namely', 'per', 'we', 'under', 'now', 'their', 'everywhere', 'ourselves', 'thereby'}\n"
          ]
        }
      ],
      "source": [
        "print(len(stop_words), stop_words)"
      ]
    },
    {
      "cell_type": "code",
      "execution_count": null,
      "metadata": {
        "colab": {
          "base_uri": "https://localhost:8080/"
        },
        "id": "qnVASi42Vucg",
        "outputId": "11e1046f-d316-4fc1-dff2-6a4562bb7306"
      },
      "outputs": [
        {
          "name": "stdout",
          "output_type": "stream",
          "text": [
            "<spacy.lexeme.Lexeme object at 0x7a9b29a86f40>\n",
            "True\n",
            "False\n"
          ]
        }
      ],
      "source": [
        "# Checking if a word is a stop word\n",
        "print(nlp.vocab['is'])\n",
        "print(nlp.vocab['is'].is_stop)\n",
        "print(nlp.vocab['stop'].is_stop)"
      ]
    },
    {
      "cell_type": "code",
      "execution_count": null,
      "metadata": {
        "colab": {
          "base_uri": "https://localhost:8080/"
        },
        "id": "H6TTvQg7Wa8A",
        "outputId": "38eab259-0761-4b80-d872-bea7652c7cf2"
      },
      "outputs": [
        {
          "name": "stdout",
          "output_type": "stream",
          "text": [
            "True\n"
          ]
        }
      ],
      "source": [
        "# Adding a custom stop word\n",
        "nlp.Defaults.stop_words.add('btw')\n",
        "print(nlp.vocab['btw'].is_stop)"
      ]
    },
    {
      "cell_type": "code",
      "execution_count": null,
      "metadata": {
        "colab": {
          "base_uri": "https://localhost:8080/"
        },
        "id": "KJRlTmixW-Gj",
        "outputId": "844c6669-97ac-4c63-8a35-4078caca20fd"
      },
      "outputs": [
        {
          "data": {
            "text/plain": [
              "327"
            ]
          },
          "execution_count": 68,
          "metadata": {},
          "output_type": "execute_result"
        }
      ],
      "source": [
        "len(stop_words)"
      ]
    },
    {
      "cell_type": "code",
      "execution_count": null,
      "metadata": {
        "colab": {
          "base_uri": "https://localhost:8080/"
        },
        "id": "Vg7-ZcyvXCXk",
        "outputId": "d17997e6-6b89-4862-ede4-bc2dea26712f"
      },
      "outputs": [
        {
          "data": {
            "text/plain": [
              "False"
            ]
          },
          "execution_count": 69,
          "metadata": {},
          "output_type": "execute_result"
        }
      ],
      "source": [
        "# Removing a custom stop word\n",
        "nlp.Defaults.stop_words.remove('via')\n",
        "nlp.vocab['via'].is_stop"
      ]
    },
    {
      "cell_type": "markdown",
      "metadata": {
        "id": "P4eGwyTTaMVK"
      },
      "source": [
        "##Token and phrase matching"
      ]
    },
    {
      "cell_type": "markdown",
      "metadata": {
        "id": "TFZMCPGeaqxk"
      },
      "source": [
        "spaCy offers a way to find words or phrases using custom-made patterns defined by the user.\n",
        "\n",
        "Compared to using regular expressions on raw text, spaCy’s rule-based matcher engines and components not only let you find the words and phrases you’re looking for – they also give you access to the tokens within the document and their relationships. This means you can easily access and analyze the surrounding tokens, merge spans into single tokens or add entries to the named entities"
      ]
    },
    {
      "cell_type": "code",
      "execution_count": null,
      "metadata": {
        "id": "ojIgx0_BXXRv"
      },
      "outputs": [],
      "source": [
        "import spacy\n",
        "from spacy.matcher import Matcher\n",
        "\n",
        "nlp = spacy.load('en_core_web_sm')"
      ]
    },
    {
      "cell_type": "code",
      "execution_count": null,
      "metadata": {
        "id": "bUpfxRb0baRT"
      },
      "outputs": [],
      "source": [
        "# Creating the matcher object\n",
        "matcher = Matcher(nlp.vocab)"
      ]
    },
    {
      "cell_type": "code",
      "execution_count": null,
      "metadata": {
        "id": "1COXMYJ_cCSb"
      },
      "outputs": [],
      "source": [
        "# Defining some patterns\n",
        "# match on solarpower\n",
        "pattern1 = [{'LOWER': 'solarpower'}]\n",
        "# match on solar{any punctuation}power\n",
        "pattern2 = [{'LOWER': 'solar'}, {'IS_PUNCT': True}, {'LOWER': 'power'}]\n",
        "# match on solar power\n",
        "pattern3 = [{'LOWER': 'solar'}, {'LOWER': 'power'}]"
      ]
    },
    {
      "cell_type": "code",
      "execution_count": null,
      "metadata": {
        "id": "g3YsAuJscaXB"
      },
      "outputs": [],
      "source": [
        "# Adding the patterns to the matcher\n",
        "matcher.add('SolarPower', [pattern1, pattern2, pattern3])"
      ]
    },
    {
      "cell_type": "code",
      "execution_count": null,
      "metadata": {
        "id": "0P5KMrtacict"
      },
      "outputs": [],
      "source": [
        "doc = nlp(u'The solar power industry continues to grow as solarpower increases. Solar-power is great!')"
      ]
    },
    {
      "cell_type": "code",
      "execution_count": null,
      "metadata": {
        "colab": {
          "base_uri": "https://localhost:8080/"
        },
        "id": "K1LE0cAVdHL0",
        "outputId": "8d89899e-fe77-412b-ba29-947300889321"
      },
      "outputs": [
        {
          "data": {
            "text/plain": [
              "[(8656102463236116519, 1, 3),\n",
              " (8656102463236116519, 8, 9),\n",
              " (8656102463236116519, 11, 14)]"
            ]
          },
          "execution_count": 75,
          "metadata": {},
          "output_type": "execute_result"
        }
      ],
      "source": [
        "# Finding matcher using the defined matcher\n",
        "found_matches = matcher(doc)\n",
        "found_matches"
      ]
    },
    {
      "cell_type": "code",
      "execution_count": null,
      "metadata": {
        "id": "lO8yZW_xdJgw"
      },
      "outputs": [],
      "source": [
        "# Removing the patterns from the matcher\n",
        "matcher.remove('SolarPower')"
      ]
    },
    {
      "cell_type": "code",
      "execution_count": null,
      "metadata": {
        "id": "fiOKaln3e0wi"
      },
      "outputs": [],
      "source": [
        "# Defining some new patterns\n",
        "pattern1 = [{'LOWER': 'solarpower'}]\n",
        "# Match using OP - Operator or quantifier to determine how often to match a token pattern\n",
        "# * means to allow the pattern to match zero or more times.\n",
        "pattern2 = [{'LOWER': 'solar'}, {'IS_PUNCT': True, 'OP':'*'}, {'LOWER': 'power'}]"
      ]
    },
    {
      "cell_type": "code",
      "execution_count": null,
      "metadata": {
        "id": "ACNKpg5Ze8kM"
      },
      "outputs": [],
      "source": [
        "matcher.add('SolarPower', [pattern1, pattern2])"
      ]
    },
    {
      "cell_type": "code",
      "execution_count": null,
      "metadata": {
        "id": "7YW63NL2fBND"
      },
      "outputs": [],
      "source": [
        "doc_new = nlp(u'Solar--power is used more as solarpower increases!')"
      ]
    },
    {
      "cell_type": "code",
      "execution_count": null,
      "metadata": {
        "colab": {
          "base_uri": "https://localhost:8080/"
        },
        "id": "qY2cl3eNfKO7",
        "outputId": "9cf6c8f2-2018-4d2c-ee83-21042c482eaf"
      },
      "outputs": [
        {
          "data": {
            "text/plain": [
              "[(8656102463236116519, 0, 3), (8656102463236116519, 7, 8)]"
            ]
          },
          "execution_count": 80,
          "metadata": {},
          "output_type": "execute_result"
        }
      ],
      "source": [
        "found_matches = matcher(doc_new)\n",
        "found_matches"
      ]
    },
    {
      "cell_type": "markdown",
      "metadata": {
        "id": "98WdrqyYiRJm"
      },
      "source": [
        "The above can be done with phrases also in a similar fashion"
      ]
    },
    {
      "cell_type": "code",
      "execution_count": null,
      "metadata": {
        "id": "LgxbiyeCfOrQ"
      },
      "outputs": [],
      "source": [
        "# importing phrase matcher\n",
        "from spacy.matcher import PhraseMatcher"
      ]
    },
    {
      "cell_type": "code",
      "execution_count": null,
      "metadata": {
        "id": "QPt_qfJ3iaVn"
      },
      "outputs": [],
      "source": [
        "# Creating phrase matcher object\n",
        "phrase_matcher = PhraseMatcher(nlp.vocab)"
      ]
    },
    {
      "cell_type": "code",
      "execution_count": null,
      "metadata": {
        "colab": {
          "base_uri": "https://localhost:8080/",
          "height": 182
        },
        "id": "tbV6Jbjgieei",
        "outputId": "1be45193-036a-48f3-e6fe-0ad5161f0275"
      },
      "outputs": [
        {
          "ename": "FileNotFoundError",
          "evalue": "[Errno 2] No such file or directory: 'reaganomics.txt'",
          "output_type": "error",
          "traceback": [
            "\u001b[0;31m---------------------------------------------------------------------------\u001b[0m",
            "\u001b[0;31mFileNotFoundError\u001b[0m                         Traceback (most recent call last)",
            "\u001b[0;32m<ipython-input-83-8acb4bb18a6b>\u001b[0m in \u001b[0;36m<cell line: 2>\u001b[0;34m()\u001b[0m\n\u001b[1;32m      1\u001b[0m \u001b[0;31m# Opening the text that we want to find matches in\u001b[0m\u001b[0;34m\u001b[0m\u001b[0;34m\u001b[0m\u001b[0m\n\u001b[0;32m----> 2\u001b[0;31m \u001b[0;32mwith\u001b[0m \u001b[0mopen\u001b[0m\u001b[0;34m(\u001b[0m\u001b[0;34m'reaganomics.txt'\u001b[0m\u001b[0;34m)\u001b[0m \u001b[0;32mas\u001b[0m \u001b[0mf\u001b[0m\u001b[0;34m:\u001b[0m\u001b[0;34m\u001b[0m\u001b[0;34m\u001b[0m\u001b[0m\n\u001b[0m\u001b[1;32m      3\u001b[0m   \u001b[0mtext_doc\u001b[0m \u001b[0;34m=\u001b[0m \u001b[0mnlp\u001b[0m\u001b[0;34m(\u001b[0m\u001b[0mf\u001b[0m\u001b[0;34m.\u001b[0m\u001b[0mread\u001b[0m\u001b[0;34m(\u001b[0m\u001b[0;34m)\u001b[0m\u001b[0;34m)\u001b[0m\u001b[0;34m\u001b[0m\u001b[0;34m\u001b[0m\u001b[0m\n",
            "\u001b[0;31mFileNotFoundError\u001b[0m: [Errno 2] No such file or directory: 'reaganomics.txt'"
          ]
        }
      ],
      "source": [
        "# Opening the text that we want to find matches in\n",
        "with open('reaganomics.txt') as f:\n",
        "  text_doc = nlp(f.read())"
      ]
    },
    {
      "cell_type": "code",
      "execution_count": null,
      "metadata": {
        "id": "lJXOjerKksO7"
      },
      "outputs": [],
      "source": [
        "# Creating a list of matches\n",
        "phrase_list = ['voodoo economics', 'supply-side economics', 'trickle-down economics', 'free-market economics']"
      ]
    },
    {
      "cell_type": "code",
      "execution_count": null,
      "metadata": {
        "id": "BfaMAdFBlA-Y"
      },
      "outputs": [],
      "source": [
        "# Turning them into patterns\n",
        "phrase_patterns = [nlp(text) for text in phrase_list]\n",
        "phrase_patterns"
      ]
    },
    {
      "cell_type": "code",
      "execution_count": null,
      "metadata": {
        "id": "-V7GsxWemSjS"
      },
      "outputs": [],
      "source": [
        "type(phrase_patterns[0])"
      ]
    },
    {
      "cell_type": "code",
      "execution_count": null,
      "metadata": {
        "id": "Z148Rod2lHfr"
      },
      "outputs": [],
      "source": [
        "# Adding the patterns to the phrase matcher\n",
        "phrase_matcher.add('EconomicsMatcher', phrase_patterns)"
      ]
    },
    {
      "cell_type": "code",
      "execution_count": null,
      "metadata": {
        "id": "M1y-TaJGlQmS"
      },
      "outputs": [],
      "source": [
        "# Getting the matches\n",
        "found_matches = phrase_matcher(text_doc)"
      ]
    },
    {
      "cell_type": "code",
      "execution_count": null,
      "metadata": {
        "id": "RRSmVuVXn5G6"
      },
      "outputs": [],
      "source": [
        "# Outputing information\n",
        "for match_id, start, end in found_matches:\n",
        "  string_id = nlp.vocab.strings[match_id] # Name of the matcher\n",
        "  matched_txt = text_doc[start:end] # Matched text in the doc\n",
        "  print(match_id, string_id, start, end, matched_txt)"
      ]
    },
    {
      "cell_type": "markdown",
      "metadata": {
        "id": "Jtdt3588e3a9"
      },
      "source": [
        "##Parts of Speech"
      ]
    },
    {
      "cell_type": "code",
      "execution_count": null,
      "metadata": {
        "id": "F8d_2hXb11ws"
      },
      "outputs": [],
      "source": [
        "import spacy\n",
        "\n",
        "nlp = spacy.load('en_core_web_sm')"
      ]
    },
    {
      "cell_type": "code",
      "execution_count": null,
      "metadata": {
        "id": "hfILIblLfm1t"
      },
      "outputs": [],
      "source": [
        "doc = nlp(u'The quick brown fox jumped over the lazy dog\\'s back.')"
      ]
    },
    {
      "cell_type": "code",
      "execution_count": null,
      "metadata": {
        "id": "2S3F92EufwNi"
      },
      "outputs": [],
      "source": [
        "# With spacy we can get not only each token's part of speach, but also its fine-grained POS\n",
        "# Meaning of each string code can be found in the documentation\n",
        "for t in doc:\n",
        "  print(f'{t.text:{10}} {t.pos_:{10}} {t.tag_:{10}} {spacy.explain(t.tag_)}')"
      ]
    },
    {
      "cell_type": "code",
      "execution_count": null,
      "metadata": {
        "id": "2klLqRkwf-3R"
      },
      "outputs": [],
      "source": [
        "# spacy can easily recognize differences in verbs\n",
        "doc = nlp(u'I read books on NLP.')\n",
        "doc1 = nlp(u'I read a book on NLP.')\n",
        "\n",
        "doc_word = doc[1]\n",
        "doc1_word = doc1[1]\n",
        "\n",
        "print(doc_word.tag_, spacy.explain(doc_word.tag_))\n",
        "print(doc1_word.tag_, spacy.explain(doc1_word.tag_))"
      ]
    },
    {
      "cell_type": "code",
      "execution_count": null,
      "metadata": {
        "id": "-ay6MPNMgvXM"
      },
      "outputs": [],
      "source": [
        "# We can count the parts of speech in a doc (as well as tags, depndencies, etc..)\n",
        "doc = nlp(u'The quick brown fox jumped over the lazy dog\\'s back.')\n",
        "\n",
        "POS_counts = doc.count_by(spacy.attrs.POS)\n",
        "for k, v in sorted(POS_counts.items()):\n",
        "  print(f'{k}. {doc.vocab[k].text:{5}} {v}')"
      ]
    },
    {
      "cell_type": "code",
      "execution_count": null,
      "metadata": {
        "id": "Ze7cRu6NhVmW"
      },
      "outputs": [],
      "source": [
        "# Now to visualize with displacy\n",
        "from spacy import displacy"
      ]
    },
    {
      "cell_type": "code",
      "execution_count": null,
      "metadata": {
        "id": "2wBiTRTSiu4a"
      },
      "outputs": [],
      "source": [
        "# This will show us the POS and the SD\n",
        "displacy.render(doc, style = 'dep', jupyter = True)"
      ]
    },
    {
      "cell_type": "code",
      "execution_count": null,
      "metadata": {
        "id": "4fWCDQUFi2y6"
      },
      "outputs": [],
      "source": [
        "# We can edit our displacy renders with an options dictionary\n",
        "options = {'distance': 110, 'compact': True, 'color':'yellow', 'bg':'#09a3d5'}"
      ]
    },
    {
      "cell_type": "code",
      "execution_count": null,
      "metadata": {
        "id": "IE9O1GehjXTN"
      },
      "outputs": [],
      "source": [
        "displacy.render(doc, style = 'dep', jupyter = True, options=options)"
      ]
    },
    {
      "cell_type": "markdown",
      "metadata": {
        "id": "20YZ_OM6lPKb"
      },
      "source": [
        "##Named Entity Recognition (NER)"
      ]
    },
    {
      "cell_type": "markdown",
      "metadata": {
        "id": "_83e1n2AlqSx"
      },
      "source": [
        "**Named Entity Recognition (NER)** is a sub-task of information extraction in NLP that classifies named entities into predefined categories such as person names, organizations, locations, medical codes, time expressions, quantities, monetary values, and more."
      ]
    },
    {
      "cell_type": "code",
      "execution_count": null,
      "metadata": {
        "id": "w8olH9L0jbGH"
      },
      "outputs": [],
      "source": [
        "import spacy\n",
        "\n",
        "nlp = spacy.load('en_core_web_sm')"
      ]
    },
    {
      "cell_type": "code",
      "execution_count": null,
      "metadata": {
        "id": "_qo0UFIWlZRc"
      },
      "outputs": [],
      "source": [
        "# A function to display any named entities found in a doc\n",
        "def show_ents(doc):\n",
        "  if doc.ents:\n",
        "    for ent in doc.ents:\n",
        "      print(f'{ent.text:{15}} {ent.label_:{10}} {spacy.explain(ent.label_)}')\n",
        "  else:\n",
        "    print('No entities were found.')"
      ]
    },
    {
      "cell_type": "code",
      "execution_count": null,
      "metadata": {
        "id": "0FYSwbxZnOOC"
      },
      "outputs": [],
      "source": [
        "doc = nlp(u'Hello darkness my old friend!')\n",
        "\n",
        "show_ents(doc)"
      ]
    },
    {
      "cell_type": "code",
      "execution_count": null,
      "metadata": {
        "id": "io2-X9tvnULS"
      },
      "outputs": [],
      "source": [
        "doc = nlp(u'I\\'m visiting the Kremlin in Moscow next summer.')\n",
        "\n",
        "show_ents(doc)"
      ]
    },
    {
      "cell_type": "code",
      "execution_count": null,
      "metadata": {
        "id": "UeyvyH1Mnfx8"
      },
      "outputs": [],
      "source": [
        "# Adding custom named entities\n",
        "doc = nlp(u'SpookyScarySkeletons is a company for 5 million dollars.')\n",
        "\n",
        "show_ents(doc)"
      ]
    },
    {
      "cell_type": "code",
      "execution_count": null,
      "metadata": {
        "id": "WTZCYjHNqNqk"
      },
      "outputs": [],
      "source": [
        "from spacy.tokens import Span"
      ]
    },
    {
      "cell_type": "code",
      "execution_count": null,
      "metadata": {
        "id": "zOIe83ysqZFf"
      },
      "outputs": [],
      "source": [
        "# Getting the ORG tag from the vocabulary\n",
        "ORG = doc.vocab.strings[u\"ORG\"]\n",
        "\n",
        "# Getting the string we want to turn into a named entity and labling it with the ORG tag\n",
        "new_entity = Span(doc, 0, 1, label = ORG)\n",
        "\n",
        "# Adding this new named entity to the doc's vocab\n",
        "doc.ents = list(doc.ents) + [new_entity]"
      ]
    },
    {
      "cell_type": "code",
      "execution_count": null,
      "metadata": {
        "id": "f3RwoK1Qqtxk"
      },
      "outputs": [],
      "source": [
        "show_ents(doc)"
      ]
    },
    {
      "cell_type": "code",
      "execution_count": null,
      "metadata": {
        "id": "-x0mtcAyV7RW"
      },
      "outputs": [],
      "source": [
        "# Adding different variations of the same NERs\n",
        "doc = nlp(u\"Our company created a brand new vacuum cleaner.\"\n",
        "          u\"This new vacuum-cleaner os the best in show\")"
      ]
    },
    {
      "cell_type": "code",
      "execution_count": null,
      "metadata": {
        "id": "0Sjj5n5KXFIW"
      },
      "outputs": [],
      "source": [
        "from spacy.matcher import PhraseMatcher\n",
        "matcher = PhraseMatcher(nlp.vocab)"
      ]
    },
    {
      "cell_type": "code",
      "execution_count": null,
      "metadata": {
        "id": "mqaDLeclXJB5"
      },
      "outputs": [],
      "source": [
        "phrase_list = [\"vacuum cleaner\", 'vacuum-cleaner']"
      ]
    },
    {
      "cell_type": "code",
      "execution_count": null,
      "metadata": {
        "id": "NtIobdNeXS4K"
      },
      "outputs": [],
      "source": [
        "phrase_patterns = [nlp(text) for text in phrase_list]\n",
        "phrase_patterns"
      ]
    },
    {
      "cell_type": "code",
      "execution_count": null,
      "metadata": {
        "id": "EgktAa9wXaqf"
      },
      "outputs": [],
      "source": [
        "matcher.add(\"new_prod\", phrase_patterns)"
      ]
    },
    {
      "cell_type": "code",
      "execution_count": null,
      "metadata": {
        "id": "aT_VMIbEXjBJ"
      },
      "outputs": [],
      "source": [
        "found_matches = matcher(doc)\n",
        "found_matches"
      ]
    },
    {
      "cell_type": "code",
      "execution_count": null,
      "metadata": {
        "id": "hExZwNZBXrKX"
      },
      "outputs": [],
      "source": [
        "from spacy.tokens import Span\n",
        "prod = doc.vocab.strings[u\"PRODUCT\"]\n",
        "prod"
      ]
    },
    {
      "cell_type": "code",
      "execution_count": null,
      "metadata": {
        "id": "ZAzy1RdhX0-W"
      },
      "outputs": [],
      "source": [
        "new_ents = [Span(doc, match[1], match[2], label = prod) for match in found_matches]\n",
        "new_ents"
      ]
    },
    {
      "cell_type": "code",
      "execution_count": null,
      "metadata": {
        "id": "DyOV7ADYYMVK"
      },
      "outputs": [],
      "source": [
        "doc.ents = list(doc.ents) + new_ents"
      ]
    },
    {
      "cell_type": "code",
      "execution_count": null,
      "metadata": {
        "id": "gZj2auoMYbOJ"
      },
      "outputs": [],
      "source": [
        "show_ents(doc)"
      ]
    },
    {
      "cell_type": "code",
      "execution_count": null,
      "metadata": {
        "id": "VAoWvs1yYfsZ"
      },
      "outputs": [],
      "source": [
        "# Counting the NERs in a doc\n",
        "doc = nlp(u\"Originally I paid $350 for a jacket, but now it is marked down by 30.5 dollars.\")"
      ]
    },
    {
      "cell_type": "code",
      "execution_count": null,
      "metadata": {
        "id": "KnPHovFDZRwr"
      },
      "outputs": [],
      "source": [
        "print([ent for ent in doc.ents if ent.label_ == 'MONEY'])\n",
        "print(len([ent for ent in doc.ents if ent.label_ == 'MONEY']))"
      ]
    },
    {
      "cell_type": "markdown",
      "metadata": {
        "id": "AW_8b4MlZ3MH"
      },
      "source": [
        "###NER visualization"
      ]
    },
    {
      "cell_type": "code",
      "execution_count": null,
      "metadata": {
        "id": "4NJLFRNwZYeB"
      },
      "outputs": [],
      "source": [
        "import spacy\n",
        "from spacy import displacy\n",
        "\n",
        "nlp = spacy.load('en_core_web_sm')"
      ]
    },
    {
      "cell_type": "code",
      "execution_count": null,
      "metadata": {
        "id": "SKzCm_meZ-S1"
      },
      "outputs": [],
      "source": [
        "doc = nlp(u\"Over the last quarter, Apple sold nearly 20 thousand iPods for a profit of $500 thousand.\"\n",
        "          u\"By contrast Sony sold only 8 thousand Walkman music players.\")"
      ]
    },
    {
      "cell_type": "code",
      "execution_count": null,
      "metadata": {
        "id": "JTwhsdeYaJxI"
      },
      "outputs": [],
      "source": [
        "displacy.render(doc, style = 'ent', jupyter = True)"
      ]
    },
    {
      "cell_type": "code",
      "execution_count": null,
      "metadata": {
        "id": "M4v-1pdIaQTK"
      },
      "outputs": [],
      "source": [
        "# Showing NERs for individual sentences\n",
        "for sent in doc.sents:\n",
        "  displacy.render(sent, style = 'ent', jupyter = True)"
      ]
    },
    {
      "cell_type": "code",
      "execution_count": null,
      "metadata": {
        "id": "4r0SueLAar0O"
      },
      "outputs": [],
      "source": [
        "# Styling the visualization\n",
        "colors = {'ORG':'#aa9cfc', 'PRODUCT':'linear-gradient(90deg, orange, red)'}\n",
        "options = {'ents':[\"PRODUCT\",\"ORG\"], 'colors':colors}\n",
        "\n",
        "displacy.render(doc, style = 'ent', jupyter = True, options = options)"
      ]
    },
    {
      "cell_type": "markdown",
      "metadata": {
        "id": "uC_QKGwPf_Tl"
      },
      "source": [
        "##Sentence Segmentation"
      ]
    },
    {
      "cell_type": "code",
      "execution_count": null,
      "metadata": {
        "id": "AgN0u0yCa_I_"
      },
      "outputs": [],
      "source": [
        "import spacy\n",
        "\n",
        "nlp = spacy.load('en_core_web_sm')"
      ]
    },
    {
      "cell_type": "code",
      "execution_count": null,
      "metadata": {
        "id": "fHugNBKggE4g"
      },
      "outputs": [],
      "source": [
        "doc = nlp(u\"This is the first sentence. This is another sentence. This is the last sentence.\")"
      ]
    },
    {
      "cell_type": "code",
      "execution_count": null,
      "metadata": {
        "id": "lGXkfsCcgP8c"
      },
      "outputs": [],
      "source": [
        "for sent in doc.sents:\n",
        "  print(sent)"
      ]
    },
    {
      "cell_type": "code",
      "execution_count": null,
      "metadata": {
        "id": "tSoiZ4A6gST8"
      },
      "outputs": [],
      "source": [
        "# Defining custom sentence segmentation rules\n",
        "doc = nlp(u'\"Management is doing the right things; leadership is doing the right things.\" -Peter Drucker')\n",
        "doc"
      ]
    },
    {
      "cell_type": "code",
      "execution_count": null,
      "metadata": {
        "id": "FgpHphj7g-g6"
      },
      "outputs": [],
      "source": [
        "for sent in doc.sents:\n",
        "  print(sent)\n",
        "  print()"
      ]
    },
    {
      "cell_type": "markdown",
      "metadata": {
        "id": "jqZEmdpShOXp"
      },
      "source": [
        "We can add new segmentation rules, or change the entire segmentation set of rules"
      ]
    },
    {
      "cell_type": "code",
      "execution_count": null,
      "metadata": {
        "id": "bgRJEJruhFDq"
      },
      "outputs": [],
      "source": [
        "from spacy.language import Language\n",
        "\n",
        "# Adding segmentation rules\n",
        "@Language.component(\"custom_boundaries\")\n",
        "def set_custom_boundaries(doc):\n",
        "    for token in doc[:-1]:\n",
        "        if token.text == ';':\n",
        "            doc[token.i+1].is_sent_start = True\n",
        "    return doc\n",
        "\n",
        "nlp.add_pipe(\"custom_boundaries\", before='parser')"
      ]
    },
    {
      "cell_type": "code",
      "execution_count": null,
      "metadata": {
        "id": "33d5D_W9iY1_"
      },
      "outputs": [],
      "source": [
        "nlp.pipe_names"
      ]
    },
    {
      "cell_type": "code",
      "execution_count": null,
      "metadata": {
        "id": "dA2W_D9CmFrv"
      },
      "outputs": [],
      "source": [
        "doc_new = nlp(u'\"Management is doing the right things; leadership is doing the right things.\" -Peter Drucker')\n",
        "# Now the spacy pipeline segments the doc on our custom defined segmentation rule\n",
        "for sent in doc_new.sents:\n",
        "  print(sent)\n",
        "  print()"
      ]
    },
    {
      "cell_type": "code",
      "execution_count": null,
      "metadata": {
        "id": "deGOvfV9mJIi"
      },
      "outputs": [],
      "source": [
        "# Changing the segmentation rules\n",
        "nlp = spacy.load('en_core_web_sm')"
      ]
    },
    {
      "cell_type": "code",
      "execution_count": null,
      "metadata": {
        "id": "mHwfxYGimxav"
      },
      "outputs": [],
      "source": [
        "doc = nlp(u\"This is a sentence. This is another.\\n\\nThis is a \\nthird sentence.\")\n",
        "\n",
        "for sent in doc.sents:\n",
        "    print(sent)"
      ]
    },
    {
      "cell_type": "code",
      "execution_count": null,
      "metadata": {
        "id": "0fNF0L1XoGUU"
      },
      "outputs": [],
      "source": [
        "config = {\"punct_chars\": [\"\\n\", \"\\n\\n\"]}\n",
        "nlp.add_pipe(\"sentencizer\", config=config, first=True)"
      ]
    },
    {
      "cell_type": "code",
      "execution_count": null,
      "metadata": {
        "id": "Q2qrgi6ishAE"
      },
      "outputs": [],
      "source": [
        "nlp.pipe_names"
      ]
    },
    {
      "cell_type": "code",
      "execution_count": null,
      "metadata": {
        "id": "y2vyJArHrf4x"
      },
      "outputs": [],
      "source": [
        "doc = nlp(u\"This is a sentence. This is another.\\n\\nThis is a \\nthird sentence.\")\n",
        "\n",
        "for sent in doc.sents:\n",
        "    print(sent)"
      ]
    },
    {
      "cell_type": "markdown",
      "metadata": {
        "id": "nUWU_7dY6n3v"
      },
      "source": [
        "#Text Feature Extraction"
      ]
    },
    {
      "cell_type": "markdown",
      "metadata": {
        "id": "0p2GpBAc6uXT"
      },
      "source": [
        "Machine and deep learning models can't work with raw text data, so it is important that any text data is transformed into a suitable format.\n",
        "\n",
        "Hence, in NLP applications, **text vectorization** is used. which is an approach of converting input data from its raw text format into vectors of real numbers.\n",
        "\n",
        "Text vectorizatrion can be achieved with a **bag of words**, **TD-IDF**, **text embedding**, etc..."
      ]
    },
    {
      "cell_type": "code",
      "execution_count": null,
      "metadata": {
        "id": "M4o0yBlAxXhB"
      },
      "outputs": [],
      "source": [
        "import numpy as np\n",
        "import pandas as pd"
      ]
    },
    {
      "cell_type": "code",
      "execution_count": null,
      "metadata": {
        "id": "bhA5kVFR8Br4"
      },
      "outputs": [],
      "source": [
        "# Spam vs Ham messages dataset\n",
        "df = pd.read_csv('smsspamcollection.tsv', sep ='\\t')\n",
        "\n",
        "df.head()"
      ]
    },
    {
      "cell_type": "code",
      "execution_count": null,
      "metadata": {
        "id": "o0jf5Tbh8Lcf"
      },
      "outputs": [],
      "source": [
        "# Checking for missing values\n",
        "df.isnull().sum()"
      ]
    },
    {
      "cell_type": "code",
      "execution_count": null,
      "metadata": {
        "id": "Wyb8hV9L8L1I"
      },
      "outputs": [],
      "source": [
        "# Checking the values of the labels\n",
        "df['label'].value_counts()"
      ]
    },
    {
      "cell_type": "code",
      "execution_count": null,
      "metadata": {
        "id": "wlNKgTRL8M9T"
      },
      "outputs": [],
      "source": [
        "# Getting the features and labels\n",
        "X = df['message']\n",
        "y = df['label']"
      ]
    },
    {
      "cell_type": "code",
      "execution_count": null,
      "metadata": {
        "id": "pL2zvENr8VOg"
      },
      "outputs": [],
      "source": [
        "# Splitting data in to train and test sets\n",
        "from sklearn.model_selection import train_test_split\n",
        "\n",
        "X_train, X_test, y_train, y_test = train_test_split(X, y, test_size = 0.33, random_state = 42)"
      ]
    },
    {
      "cell_type": "markdown",
      "metadata": {
        "id": "YqPuhtMa-nrf"
      },
      "source": [
        "**CountVectorizer** is a text preprocessing technique commonly used in NLP tasks for converting a collection of text documents into a numerical representation."
      ]
    },
    {
      "cell_type": "code",
      "execution_count": null,
      "metadata": {
        "id": "kkE37lI98XP_"
      },
      "outputs": [],
      "source": [
        "# Importing CountVectorizer (Bag of Words) and creating an instance of it\n",
        "from sklearn.feature_extraction.text import CountVectorizer\n",
        "\n",
        "vectorizer = CountVectorizer()"
      ]
    },
    {
      "cell_type": "code",
      "execution_count": null,
      "metadata": {
        "id": "tdPOxIBg8Yjq"
      },
      "outputs": [],
      "source": [
        "# Vectorizing the X_train text data\n",
        "X_train_counts = vectorizer.fit_transform(X_train)\n",
        "\n",
        "X_train_counts"
      ]
    },
    {
      "cell_type": "code",
      "execution_count": null,
      "metadata": {
        "id": "4BPvAUKf8bj4"
      },
      "outputs": [],
      "source": [
        "X_train.shape, X_train_counts.shape"
      ]
    },
    {
      "cell_type": "markdown",
      "metadata": {
        "id": "fUMRoQxx__Ee"
      },
      "source": [
        "Now that we have vectorized our raw text data, we will use TF-IDF.\n",
        "\n",
        "**Term Frequency - Inverse Document Frequency (TF-IDF)** is a widely used statistical method in NLP and information retrieval. It measures how important a term is within a document relative to a collection of documents (i.e., relative to a corpus).\n",
        "\n",
        "We use TF-IDF to reduce the importance of the common words giving more attention to words that are less frequent in the texts."
      ]
    },
    {
      "cell_type": "code",
      "execution_count": null,
      "metadata": {
        "id": "Z9iStHqg9og5"
      },
      "outputs": [],
      "source": [
        "from sklearn.feature_extraction.text import TfidfTransformer\n",
        "\n",
        "tf_idf_transformer = TfidfTransformer()"
      ]
    },
    {
      "cell_type": "code",
      "execution_count": null,
      "metadata": {
        "id": "XP_kh8dp-6WE"
      },
      "outputs": [],
      "source": [
        "X_train_tfidf = tf_idf_transformer.fit_transform(X_train_counts)"
      ]
    },
    {
      "cell_type": "code",
      "execution_count": null,
      "metadata": {
        "id": "Bw3E6ZnW_CJ5"
      },
      "outputs": [],
      "source": [
        "X_train_tfidf.shape"
      ]
    },
    {
      "cell_type": "markdown",
      "metadata": {
        "id": "lmRO4e49AuGo"
      },
      "source": [
        "Using CountVectorization with TF-IDF is so common, that there exists the TfidfVectorizer which performs both of those steps in one go."
      ]
    },
    {
      "cell_type": "markdown",
      "metadata": {
        "id": "9L61D7HZBGBz"
      },
      "source": [
        "Now that we have the raw text data in the appropriate format, we use a SVM classifier LinearSVC"
      ]
    },
    {
      "cell_type": "code",
      "execution_count": null,
      "metadata": {
        "id": "_SsQUgb5_DE4"
      },
      "outputs": [],
      "source": [
        "from sklearn.svm import LinearSVC\n",
        "\n",
        "clf = LinearSVC()\n",
        "\n",
        "clf.fit(X_train_tfidf, y_train)"
      ]
    },
    {
      "cell_type": "markdown",
      "metadata": {
        "id": "RlxOImZvCaeu"
      },
      "source": [
        "Since we want to test our model on the test data we naturally need to also transform it using the steps performed above, but this process could be tiresome, especially if said process is too long, or we constantly recieve new data.\n",
        "\n",
        "In NLP, it is very common to build a pipeline that will handle all the steps required for the NLP application with a single call."
      ]
    },
    {
      "cell_type": "code",
      "execution_count": null,
      "metadata": {
        "id": "eXXqGD_pBuGb"
      },
      "outputs": [],
      "source": [
        "from sklearn.pipeline import Pipeline\n",
        "from sklearn.feature_extraction.text import TfidfVectorizer\n",
        "\n",
        "text_clf = Pipeline([('tfidf', TfidfVectorizer()),('clf', LinearSVC())])"
      ]
    },
    {
      "cell_type": "code",
      "execution_count": null,
      "metadata": {
        "id": "6s7uiOCyDQav"
      },
      "outputs": [],
      "source": [
        "text_clf.fit(X_train, y_train)"
      ]
    },
    {
      "cell_type": "code",
      "execution_count": null,
      "metadata": {
        "id": "gLoDXyxmDTtG"
      },
      "outputs": [],
      "source": [
        "# Testing our model on the test data and making predictions\n",
        "preds = text_clf.predict(X_test)"
      ]
    },
    {
      "cell_type": "code",
      "execution_count": null,
      "metadata": {
        "id": "OR8SVjuREaMq"
      },
      "outputs": [],
      "source": [
        "# Evaluating our model\n",
        "from sklearn.metrics import classification_report, confusion_matrix, ConfusionMatrixDisplay\n",
        "\n",
        "# Displaying the confusion matrix\n",
        "cm = confusion_matrix(y_test, preds)\n",
        "disp = ConfusionMatrixDisplay(confusion_matrix=cm, display_labels = text_clf.classes_)\n",
        "\n",
        "disp.plot();"
      ]
    },
    {
      "cell_type": "code",
      "execution_count": null,
      "metadata": {
        "id": "1MMDmyfyEfDd"
      },
      "outputs": [],
      "source": [
        "# Printing a classification report\n",
        "print(classification_report(y_test, preds))"
      ]
    },
    {
      "cell_type": "code",
      "execution_count": null,
      "metadata": {
        "id": "B2e3g80fElF0"
      },
      "outputs": [],
      "source": [
        "# Reporting the accuracy of the model\n",
        "from sklearn import metrics\n",
        "metrics.accuracy_score(y_test, preds)"
      ]
    },
    {
      "cell_type": "code",
      "execution_count": null,
      "metadata": {
        "id": "K1H3p5RnEqFf"
      },
      "outputs": [],
      "source": [
        "# Let's test our model on some new custom data\n",
        "text_clf.predict([\"Hi there! How are you doing today?\"])"
      ]
    },
    {
      "cell_type": "code",
      "execution_count": null,
      "metadata": {
        "id": "pz0WtI0RFz_P"
      },
      "outputs": [],
      "source": [
        "text_clf.predict([\"Congratulation! You have won $10,000! Please contact us to recieve your prize money!\"])"
      ]
    },
    {
      "cell_type": "markdown",
      "metadata": {
        "id": "Qb7SjpCVG7YL"
      },
      "source": [
        "## End-to-end text classification project"
      ]
    },
    {
      "cell_type": "code",
      "execution_count": null,
      "metadata": {
        "id": "Sd0cQvZ-F-gB"
      },
      "outputs": [],
      "source": [
        "import numpy as np\n",
        "import pandas as pd\n",
        "\n",
        "df = pd.read_csv('moviereviews.tsv', sep = '\\t')\n",
        "\n",
        "df.head()"
      ]
    },
    {
      "cell_type": "code",
      "execution_count": null,
      "metadata": {
        "id": "ova_v1iOIA0a"
      },
      "outputs": [],
      "source": [
        "# Checking for missing values\n",
        "df.isnull().sum()"
      ]
    },
    {
      "cell_type": "code",
      "execution_count": null,
      "metadata": {
        "id": "WlLY6KJZIMVh"
      },
      "outputs": [],
      "source": [
        "# Dropping the missing values\n",
        "df.dropna(inplace = True)"
      ]
    },
    {
      "cell_type": "code",
      "execution_count": null,
      "metadata": {
        "id": "_uQlfqUiJfv8"
      },
      "outputs": [],
      "source": [
        "df.isnull().sum()"
      ]
    },
    {
      "cell_type": "markdown",
      "metadata": {
        "id": "RC0PVEeFJnf5"
      },
      "source": [
        "Somtimes, in real-world datasets, missing values will be replaced with empty spaces, so we need to account for these too."
      ]
    },
    {
      "cell_type": "code",
      "execution_count": null,
      "metadata": {
        "id": "temRGLiVJhIU"
      },
      "outputs": [],
      "source": [
        "blanks = []\n",
        "\n",
        "for i, label, review in df.itertuples():\n",
        "  if review.isspace():\n",
        "    blanks.append(i)\n",
        "\n",
        "blanks"
      ]
    },
    {
      "cell_type": "code",
      "execution_count": null,
      "metadata": {
        "id": "t5Wx4i8DJ_7e"
      },
      "outputs": [],
      "source": [
        "# Now let's drop the empty entries\n",
        "df.drop(blanks, inplace = True)"
      ]
    },
    {
      "cell_type": "code",
      "execution_count": null,
      "metadata": {
        "id": "ISv51cQuKI21"
      },
      "outputs": [],
      "source": [
        "df.shape"
      ]
    },
    {
      "cell_type": "code",
      "execution_count": null,
      "metadata": {
        "id": "HVSgsogoKKUt"
      },
      "outputs": [],
      "source": [
        "# Getting the features and labels from our dataset and creating a train-test split\n",
        "from sklearn.model_selection import train_test_split\n",
        "\n",
        "X = df['review']\n",
        "y = df['label']\n",
        "\n",
        "X_train, X_test, y_train, y_test = train_test_split(X, y, test_size = 0.3, random_state = 42)"
      ]
    },
    {
      "cell_type": "code",
      "execution_count": null,
      "metadata": {
        "id": "O6VohXl5KYAY"
      },
      "outputs": [],
      "source": [
        "# Creating the NLP pipeline and training the model\n",
        "from sklearn.pipeline import Pipeline\n",
        "from sklearn.feature_extraction.text import TfidfVectorizer\n",
        "from sklearn.svm import LinearSVC\n",
        "\n",
        "text_clf = Pipeline([('tfidf', TfidfVectorizer()),('clf', LinearSVC())])\n",
        "\n",
        "text_clf.fit(X_train, y_train)\n",
        "\n",
        "y_preds = text_clf.predict(X_test)"
      ]
    },
    {
      "cell_type": "code",
      "execution_count": null,
      "metadata": {
        "id": "0vm68yf5KzcL"
      },
      "outputs": [],
      "source": [
        "from sklearn.metrics import classification_report, confusion_matrix, ConfusionMatrixDisplay, accuracy_score\n",
        "\n",
        "print(classification_report(y_test, y_preds))"
      ]
    },
    {
      "cell_type": "code",
      "execution_count": null,
      "metadata": {
        "id": "xe6MDN6LK9j2"
      },
      "outputs": [],
      "source": [
        "cm = confusion_matrix(y_test, y_preds)\n",
        "disp = ConfusionMatrixDisplay(confusion_matrix=cm, display_labels = text_clf.classes_)\n",
        "\n",
        "disp.plot();"
      ]
    },
    {
      "cell_type": "code",
      "execution_count": null,
      "metadata": {
        "id": "TLM1En4HLEmf"
      },
      "outputs": [],
      "source": [
        "accuracy_score(y_test, y_preds)"
      ]
    },
    {
      "cell_type": "code",
      "execution_count": null,
      "metadata": {
        "id": "xuYWC9AZLM8I"
      },
      "outputs": [],
      "source": [
        "text_clf.predict(['This movie was good! I had great time watching it with my family'])"
      ]
    },
    {
      "cell_type": "code",
      "execution_count": null,
      "metadata": {
        "id": "IfpvJR4TR_eU"
      },
      "outputs": [],
      "source": [
        "text_clf.predict(['This movie could\\'ve been better. I was expecting more to be honest after the initial trailer hype.'])"
      ]
    },
    {
      "cell_type": "markdown",
      "metadata": {
        "id": "vmyTEIVXCIvh"
      },
      "source": [
        "# Semantics Analysis"
      ]
    },
    {
      "cell_type": "markdown",
      "metadata": {
        "id": "GQlyzKO4CO1D"
      },
      "source": [
        "In order to analyse semantics and capture context in text, word embeddings are used.\n",
        "\n",
        "**Word embeddings** are a way of representing words as vectors in a multi-dimensional space, where the distance and direction between vectors reflect the similarity and relationships among the corresponding words. One of the most popular and efficient algorithms for word embeddings is **Word2Vec**\n",
        "\n",
        "**Word2Vec** is a neural network-based algorithm that learns word embeddings, which are numerical representations of words that capture their semantic and syntactic relationships.\n",
        "\n",
        "There are **two methods** for learning representations of words:\n",
        "\n",
        "*   **Continuous bag-of-words model (CBOW)**\n",
        "*   **Continuous skip-gram model**\n",
        "\n",
        "For example, ChatGPT was initially trained using Word2Vec-style continuous bag-of-words word embeddings.\n",
        "\n",
        "Note: Word2Vec embedding is outdated. Today, context dependent embeddings are used which are today's SOTA standard.\n",
        "\n",
        "More info [here](https://towardsdatascience.com/introduction-to-word-embedding-and-word2vec-652d0c2060fa).\n",
        "\n"
      ]
    },
    {
      "cell_type": "code",
      "execution_count": null,
      "metadata": {
        "id": "Ys_EIVakSI34"
      },
      "outputs": [],
      "source": [
        "# Downloading and installing the large english language model that contains word vectors\n",
        "import spacy\n",
        "\n",
        "try:\n",
        "  nlp = spacy.load('en_core_web_lg')\n",
        "except:\n",
        "  !python -m spacy download en_core_web_lg\n",
        "  nlp = spacy.load('en_core_web_lg')"
      ]
    },
    {
      "cell_type": "code",
      "execution_count": null,
      "metadata": {
        "id": "INIzyimiFh_E"
      },
      "outputs": [],
      "source": [
        "# Testing out download nlp model by getting the vector of a word\n",
        "cat_vector = nlp(u\"Cat\").vector\n",
        "cat_vector"
      ]
    },
    {
      "cell_type": "code",
      "execution_count": null,
      "metadata": {
        "id": "9mDsdjRSHGRG"
      },
      "outputs": [],
      "source": [
        "# Word vectors in spacy are 300-dimensional\n",
        "cat_vector.shape"
      ]
    },
    {
      "cell_type": "code",
      "execution_count": null,
      "metadata": {
        "id": "4oIbOx4kHLKy"
      },
      "outputs": [],
      "source": [
        "# Spans and docs also have their own vector which is derived from the average of all the tokens in the span or doc\n",
        "nlp(u\"Hello darkness my old friend\").vector"
      ]
    },
    {
      "cell_type": "code",
      "execution_count": null,
      "metadata": {
        "id": "2aZ7V_4y9roz"
      },
      "outputs": [],
      "source": [
        "nlp(u\"Hello darkness my old friend\").vector.shape"
      ]
    },
    {
      "cell_type": "code",
      "execution_count": null,
      "metadata": {
        "id": "GmgvVCBa9wb4"
      },
      "outputs": [],
      "source": [
        "# Let's see how embeddings reflect the similarity between tokens\n",
        "doc = nlp(u\"lion cat pet\")\n",
        "\n",
        "for t1 in doc:\n",
        "  for t2 in doc:\n",
        "    print(f\"{t1.text:{10}} {t2.text:{10}} {t1.similarity(t2)}\")"
      ]
    },
    {
      "cell_type": "code",
      "execution_count": null,
      "metadata": {
        "id": "aMz5tivr-P_b"
      },
      "outputs": [],
      "source": [
        "doc = nlp(u\"like love hate\")\n",
        "\n",
        "for t1 in doc:\n",
        "  for t2 in doc:\n",
        "    print(f\"{t1.text:{10}} {t2.text:{10}} {t1.similarity(t2)}\")"
      ]
    },
    {
      "cell_type": "markdown",
      "metadata": {
        "id": "znHHzseW-s3R"
      },
      "source": [
        "Here we can see that even if words have opposite meaning, they still have a certain correlation. It is because words like \"love\" \"like\" \"hate\" are used in similar contexts, which is the deciding factor when it comes to word similarity."
      ]
    },
    {
      "cell_type": "markdown",
      "metadata": {
        "id": "Lc_8swEwA1uf"
      },
      "source": [
        "We can check if a token has a vector in the vocabulary (or whether it does not).\n",
        "\n",
        "We can also check the normalized vector of each word, which is a single value (scalar) that equals the L2 Norm (square root of sum of squared vectors) of all the dimensions for the embedding of the word (all the dimension squished into a single value)."
      ]
    },
    {
      "cell_type": "code",
      "execution_count": null,
      "metadata": {
        "id": "BuXtTZ4D-kdM"
      },
      "outputs": [],
      "source": [
        "doc = nlp(u\"cat dog nargle\")\n",
        "for t in doc:\n",
        "  print(t.text, t.has_vector, t.vector_norm, t.is_oov)"
      ]
    },
    {
      "cell_type": "markdown",
      "metadata": {
        "id": "RXgdFWqtBr5r"
      },
      "source": [
        "Using vectors we can calculate arithmatically a new vector that represesents a new word using the cosine similarity between vectors.\n",
        "\n",
        "For example: Queen = King - Man + Woman"
      ]
    },
    {
      "cell_type": "code",
      "execution_count": null,
      "metadata": {
        "id": "UNNBjfOuAi2j"
      },
      "outputs": [],
      "source": [
        "# importing spatial from scipy to calculate the cosine similarity\n",
        "from scipy import spatial\n",
        "\n",
        "cosine_similarity = lambda v1, v2: 1 - spatial.distance.cosine(v1,v2)"
      ]
    },
    {
      "cell_type": "code",
      "execution_count": null,
      "metadata": {
        "id": "DVg1hDYACHFX"
      },
      "outputs": [],
      "source": [
        "# Getting the vectors of needed tokens\n",
        "king = nlp.vocab['king'].vector\n",
        "man = nlp.vocab['man'].vector\n",
        "woman = nlp.vocab['woman'].vector\n",
        "\n",
        "new_vector = king - man + woman"
      ]
    },
    {
      "cell_type": "code",
      "execution_count": null,
      "metadata": {
        "id": "STXEgp7XCcyT"
      },
      "outputs": [],
      "source": [
        "computed_similarities = []\n",
        "\n",
        "for word in nlp.vocab:\n",
        "    if word.has_vector:\n",
        "        if word.is_lower:\n",
        "            if word.is_alpha:\n",
        "                similarity = cosine_similarity(new_vector, word.vector)\n",
        "                computed_similarities.append((word, similarity))"
      ]
    },
    {
      "cell_type": "code",
      "execution_count": null,
      "metadata": {
        "colab": {
          "background_save": true
        },
        "id": "Tyb3IabhDemP"
      },
      "outputs": [],
      "source": [
        "computed_similarities = sorted(computed_similarities, key=lambda item: -item[1])"
      ]
    },
    {
      "cell_type": "code",
      "execution_count": null,
      "metadata": {
        "colab": {
          "background_save": true
        },
        "id": "OamZPme7DvT5"
      },
      "outputs": [],
      "source": [
        "for w, s in computed_similarities[:10]:\n",
        "  print(f\"{w.text:{10}} {s:.4f}\")"
      ]
    },
    {
      "cell_type": "markdown",
      "metadata": {
        "id": "wSTrJglHH2hj"
      },
      "source": [
        "# Sentiment Analysis"
      ]
    },
    {
      "cell_type": "markdown",
      "metadata": {
        "id": "btKC5nbxH4R9"
      },
      "source": [
        "**Sentiment analysis** is the process of computationally determining whether a piece of writing is positive, negative or neutral. It's also known as opinion mining, deriving the opinion or attitude of a speaker.\n",
        "\n",
        "Sentiment analysis focuses on the polarity of a text (positive, negative, neutral) but it also goes beyond polarity to detect specific feelings and emotions (angry, happy, sad, etc), urgency (urgent, not urgent) and even intentions (interested v. not interested).\n",
        "\n",
        "Sentiment analysis can be performed using the VADER model.\n",
        "\n",
        "**VADER (Valence Aware Dictionary for Sentiment Reasoning)** is an NLTK module that provides sentiment scores based on the words used. It is a rule-based sentiment analyzer in which the terms are generally labeled as per their semantic orientation as either positive or negative. VADER not only tells about the Positivity and Negativity score but also tells us about how positive or negative a sentiment is."
      ]
    },
    {
      "cell_type": "code",
      "execution_count": null,
      "metadata": {
        "colab": {
          "background_save": true
        },
        "id": "_sro8sEDEDUf"
      },
      "outputs": [],
      "source": [
        "import nltk"
      ]
    },
    {
      "cell_type": "code",
      "execution_count": null,
      "metadata": {
        "colab": {
          "background_save": true
        },
        "id": "ic17i9G3JLfX"
      },
      "outputs": [],
      "source": [
        "# Downloading VADER\n",
        "nltk.download('vader_lexicon')"
      ]
    },
    {
      "cell_type": "code",
      "execution_count": null,
      "metadata": {
        "colab": {
          "background_save": true
        },
        "id": "qK-gxUgGJPTx"
      },
      "outputs": [],
      "source": [
        "# Importing the sentiment analyzer and creating an instance of it\n",
        "from nltk.sentiment.vader import SentimentIntensityAnalyzer\n",
        "\n",
        "sid = SentimentIntensityAnalyzer()"
      ]
    },
    {
      "cell_type": "code",
      "execution_count": null,
      "metadata": {
        "colab": {
          "background_save": true
        },
        "id": "qJchijzLJbKk"
      },
      "outputs": [],
      "source": [
        "# getting the polarity scores of a simple text\n",
        "# the function call returns a list of negative, neutral, positive and compound (general sentiment) scores\n",
        "string = 'This is a good movie'\n",
        "\n",
        "sid.polarity_scores(string)"
      ]
    },
    {
      "cell_type": "code",
      "execution_count": null,
      "metadata": {
        "colab": {
          "background_save": true
        },
        "id": "H-f2z-hvJgSR"
      },
      "outputs": [],
      "source": [
        "# VADER can detect the strength of the sentiment\n",
        "string = 'This was the best, most awesome movie EVER MADE!!!'\n",
        "\n",
        "sid.polarity_scores(string)"
      ]
    },
    {
      "cell_type": "code",
      "execution_count": null,
      "metadata": {
        "colab": {
          "background_save": true
        },
        "id": "n5vGo4BpKMKO"
      },
      "outputs": [],
      "source": [
        "# VADER for negative sentiment\n",
        "string = 'This has to be the worst movie ever made!'\n",
        "\n",
        "sid.polarity_scores(string)"
      ]
    },
    {
      "cell_type": "code",
      "execution_count": null,
      "metadata": {
        "colab": {
          "background_save": true
        },
        "id": "ZgpFxdOiKdPZ"
      },
      "outputs": [],
      "source": [
        "# Let's test VADER on actual reviews\n",
        "import pandas as pd\n",
        "\n",
        "df = pd.read_csv('amazonreviews.tsv', sep = '\\t')\n",
        "\n",
        "df.head()"
      ]
    },
    {
      "cell_type": "code",
      "execution_count": null,
      "metadata": {
        "colab": {
          "background_save": true
        },
        "id": "lNSzfyQcLE9W"
      },
      "outputs": [],
      "source": [
        "df['label'].value_counts()"
      ]
    },
    {
      "cell_type": "code",
      "execution_count": null,
      "metadata": {
        "colab": {
          "background_save": true
        },
        "id": "OAbmgUylLKDr"
      },
      "outputs": [],
      "source": [
        "# Dropping NAN reviews\n",
        "df.dropna(inplace = True)"
      ]
    },
    {
      "cell_type": "code",
      "execution_count": null,
      "metadata": {
        "colab": {
          "background_save": true
        },
        "id": "BZRcMe8MLxKC"
      },
      "outputs": [],
      "source": [
        "df['review'][0]"
      ]
    },
    {
      "cell_type": "code",
      "execution_count": null,
      "metadata": {
        "colab": {
          "background_save": true
        },
        "id": "-qQkRE_-LO8w"
      },
      "outputs": [],
      "source": [
        "# Dropping empty reviews\n",
        "blanks = []\n",
        "for i, lb, rev in df.itertuples():\n",
        "  if type(rev) == str:\n",
        "    if rev.isspace():\n",
        "      blanks.append(i)\n",
        "\n",
        "blanks"
      ]
    },
    {
      "cell_type": "code",
      "execution_count": null,
      "metadata": {
        "colab": {
          "background_save": true
        },
        "id": "NmuTh7IlLiQP"
      },
      "outputs": [],
      "source": [
        "# Checking the sentiment of the first review (it is mostly positive)\n",
        "sid.polarity_scores(df['review'][0])"
      ]
    },
    {
      "cell_type": "code",
      "execution_count": null,
      "metadata": {
        "colab": {
          "background_save": true
        },
        "id": "ckSAZqR6L3l6"
      },
      "outputs": [],
      "source": [
        "# Adding a scores column to the dataframe\n",
        "df['scores'] = df['review'].apply(lambda review: sid.polarity_scores(review))"
      ]
    },
    {
      "cell_type": "code",
      "execution_count": null,
      "metadata": {
        "colab": {
          "background_save": true
        },
        "id": "Th73-KWcMTf2"
      },
      "outputs": [],
      "source": [
        "df.head()"
      ]
    },
    {
      "cell_type": "code",
      "execution_count": null,
      "metadata": {
        "colab": {
          "background_save": true
        },
        "id": "1EWTx43aMYc_"
      },
      "outputs": [],
      "source": [
        "# adding only the compound score\n",
        "df['compound'] = df['scores'].apply(lambda scores: scores['compound'])\n",
        "\n",
        "df.head()"
      ]
    },
    {
      "cell_type": "code",
      "execution_count": null,
      "metadata": {
        "colab": {
          "background_save": true
        },
        "id": "2Jl_latVMmin"
      },
      "outputs": [],
      "source": [
        "# Now let's add a compound label based off the compound score\n",
        "df['comp_label'] = df['compound'].apply(lambda s:'pos' if s>=0 else 'neg')\n",
        "df.head()"
      ]
    },
    {
      "cell_type": "code",
      "execution_count": null,
      "metadata": {
        "colab": {
          "background_save": true
        },
        "id": "j7Yp7x6eNY4Z"
      },
      "outputs": [],
      "source": [
        "# Finally let's check the accuracy and confusion matrix for VADER scores vs labeled scores\n",
        "from sklearn.metrics import classification_report, confusion_matrix, ConfusionMatrixDisplay\n",
        "\n",
        "print(classification_report(df['label'], df['comp_label']))"
      ]
    },
    {
      "cell_type": "code",
      "execution_count": null,
      "metadata": {
        "colab": {
          "background_save": true
        },
        "id": "XhZYJUysOnf-"
      },
      "outputs": [],
      "source": [
        "# It looks like VADER had problems with negative reviews\n",
        "cm = confusion_matrix(df['label'], df['comp_label'])\n",
        "disp = ConfusionMatrixDisplay(confusion_matrix=cm)\n",
        "\n",
        "disp.plot();"
      ]
    },
    {
      "cell_type": "markdown",
      "metadata": {
        "id": "GS8--JcHOEVl"
      },
      "source": [
        "The performance is good enough, since VADER can't detect the true sentiment if it contains sarcasm for example.\n",
        "\n",
        "The performance is not bad since we applied it using only one line of code, but it still underperforms compared to other SOTA models."
      ]
    },
    {
      "cell_type": "markdown",
      "metadata": {
        "id": "rauH4TorQaD_"
      },
      "source": [
        "## End-to-end sentiment analysis project"
      ]
    },
    {
      "cell_type": "code",
      "execution_count": null,
      "metadata": {
        "colab": {
          "background_save": true
        },
        "id": "DTKkZcTAN4F1"
      },
      "outputs": [],
      "source": [
        "import numpy as np\n",
        "import pandas as pd"
      ]
    },
    {
      "cell_type": "code",
      "execution_count": null,
      "metadata": {
        "colab": {
          "background_save": true
        },
        "id": "FovVamV1QsKp"
      },
      "outputs": [],
      "source": [
        "df = pd.read_csv('moviereviews.tsv', sep = '\\t')\n",
        "df.head()"
      ]
    },
    {
      "cell_type": "code",
      "execution_count": null,
      "metadata": {
        "colab": {
          "background_save": true
        },
        "id": "z-J7KvDgQxPx"
      },
      "outputs": [],
      "source": [
        "df.isnull().sum()"
      ]
    },
    {
      "cell_type": "code",
      "execution_count": null,
      "metadata": {
        "colab": {
          "background_save": true
        },
        "id": "b3FwV3urQ2tK"
      },
      "outputs": [],
      "source": [
        "df.dropna(inplace = True)"
      ]
    },
    {
      "cell_type": "code",
      "execution_count": null,
      "metadata": {
        "colab": {
          "background_save": true
        },
        "id": "yO-IzZtaQ6VN"
      },
      "outputs": [],
      "source": [
        "blanks = []\n",
        "for i, lb, rev in df.itertuples():\n",
        "  if type(rev) == str:\n",
        "    if rev.isspace():\n",
        "      blanks.append(i)\n",
        "\n",
        "blanks"
      ]
    },
    {
      "cell_type": "code",
      "execution_count": null,
      "metadata": {
        "colab": {
          "background_save": true
        },
        "id": "af_gWSeCRLWf"
      },
      "outputs": [],
      "source": [
        "df.drop(blanks, inplace = True)"
      ]
    },
    {
      "cell_type": "code",
      "execution_count": null,
      "metadata": {
        "colab": {
          "background_save": true
        },
        "id": "nGRmjim2RQmi"
      },
      "outputs": [],
      "source": [
        "df.shape"
      ]
    },
    {
      "cell_type": "code",
      "execution_count": null,
      "metadata": {
        "colab": {
          "background_save": true
        },
        "id": "fP89H7aBRRXp"
      },
      "outputs": [],
      "source": [
        "from nltk.sentiment.vader import SentimentIntensityAnalyzer\n",
        "\n",
        "sid = SentimentIntensityAnalyzer()"
      ]
    },
    {
      "cell_type": "code",
      "execution_count": null,
      "metadata": {
        "colab": {
          "background_save": true
        },
        "id": "1XWQd1CzRZr6"
      },
      "outputs": [],
      "source": [
        "df['scores'] = df['review'].apply(lambda s:sid.polarity_scores(s))\n",
        "df.head()"
      ]
    },
    {
      "cell_type": "code",
      "execution_count": null,
      "metadata": {
        "colab": {
          "background_save": true
        },
        "id": "y6XFDIFcRiNL"
      },
      "outputs": [],
      "source": [
        "df['compound'] = df['scores'].apply(lambda d:d['compound'])\n",
        "df.head()"
      ]
    },
    {
      "cell_type": "code",
      "execution_count": null,
      "metadata": {
        "colab": {
          "background_save": true
        },
        "id": "iZJrTs4ARrrV"
      },
      "outputs": [],
      "source": [
        "df['comp_label'] = df['compound'].apply(lambda score: 'pos' if score >= 0 else 'neg')\n",
        "df.head()"
      ]
    },
    {
      "cell_type": "code",
      "execution_count": null,
      "metadata": {
        "colab": {
          "background_save": true
        },
        "id": "AfNiFNXIR4Pn"
      },
      "outputs": [],
      "source": [
        "from sklearn.metrics import classification_report, confusion_matrix, ConfusionMatrixDisplay\n",
        "\n",
        "print(classification_report(df['label'], df['comp_label']))"
      ]
    },
    {
      "cell_type": "code",
      "execution_count": null,
      "metadata": {
        "colab": {
          "background_save": true
        },
        "id": "pXidilIISENY"
      },
      "outputs": [],
      "source": [
        "cm = confusion_matrix(df['label'], df['comp_label'])\n",
        "\n",
        "disp = ConfusionMatrixDisplay(confusion_matrix=cm)\n",
        "\n",
        "disp.plot();"
      ]
    },
    {
      "cell_type": "markdown",
      "metadata": {
        "id": "cjI91YLmSY06"
      },
      "source": [
        "As we can see, VADER did not perform as good as the TD-IDF Vectorizer model.\n",
        "\n",
        "*   **TF-IDF Vectorizer**: 84.87% accuracy\n",
        "*   **VADER**: 64% accuracy\n",
        "\n",
        "VADER was easier and faster to implement since we are not training any model, but simply scoring texts based off words, ponctuations, context etc...\n",
        "\n",
        "Generally, sentiment analysis is hard, since the model needs to understand the complexity of the human language, and things like sarcasm can easily throw off sentiment analysis models."
      ]
    },
    {
      "cell_type": "markdown",
      "metadata": {
        "id": "E8SFw2YTcopz"
      },
      "source": [
        "# Topic Modeling"
      ]
    },
    {
      "cell_type": "markdown",
      "metadata": {
        "id": "BSe4iD4-crG-"
      },
      "source": [
        "**Topic modeling** is a type of statistical modeling that uses unsupervised Machine Learning to identify clusters or groups of similar words within a body of text. This text mining method uses semantic structures in text to understand unstructured data without predefined tags or training data. It allows to efficiently analyze large volumes of text data by clustering documents into topics."
      ]
    },
    {
      "cell_type": "markdown",
      "metadata": {
        "id": "hNSm5arsqDvj"
      },
      "source": [
        "## Latent Dirichles Allocation"
      ]
    },
    {
      "cell_type": "markdown",
      "metadata": {
        "id": "XClN49KPqKnW"
      },
      "source": [
        "Topic modeling can be done using Latent Dirichlet Allocation (LDA).\n",
        "\n",
        "In NLP, **latent Dirichlet allocation (LDA)** is a Bayesian network for modeling automatically extracted topics in textual corpora. In LDA, word are collected into documents, and each word's presence is attributable to one of the document's topics. Each document will contain a small number of topics.\n",
        "\n",
        "More info [here](https://towardsdatascience.com/latent-dirichlet-allocation-lda-9d1cd064ffa2)"
      ]
    },
    {
      "cell_type": "code",
      "execution_count": null,
      "metadata": {
        "colab": {
          "background_save": true
        },
        "id": "qZrjGK-OSOkd"
      },
      "outputs": [],
      "source": [
        "# Let's apply topic modeling to dataset containing articles\n",
        "import numpy as np\n",
        "import pandas as pd\n",
        "\n",
        "df = pd.read_csv('npr.csv')\n",
        "df.head()"
      ]
    },
    {
      "cell_type": "code",
      "execution_count": null,
      "metadata": {
        "colab": {
          "background_save": true
        },
        "id": "0FPr7QGgddgk"
      },
      "outputs": [],
      "source": [
        "df['Article'][0]"
      ]
    },
    {
      "cell_type": "code",
      "execution_count": null,
      "metadata": {
        "colab": {
          "background_save": true
        },
        "id": "ZcoeLX3xeRBP"
      },
      "outputs": [],
      "source": [
        "len(df)"
      ]
    },
    {
      "cell_type": "code",
      "execution_count": null,
      "metadata": {
        "colab": {
          "background_save": true
        },
        "id": "6Si9BZsIeQ65"
      },
      "outputs": [],
      "source": [
        "# First we'll vectorize the articles in the dataset\n",
        "from sklearn.feature_extraction.text import CountVectorizer\n",
        "\n",
        "cv = CountVectorizer(max_df = 0.9,\n",
        "                     min_df = 2,\n",
        "                     stop_words = 'english')\n",
        "\n",
        "dtm = cv.fit_transform(df['Article'])"
      ]
    },
    {
      "cell_type": "code",
      "execution_count": null,
      "metadata": {
        "colab": {
          "background_save": true
        },
        "id": "mtpsuj-YfKE5"
      },
      "outputs": [],
      "source": [
        "# 11k+ articles x 54k+ sized vector of words for each article\n",
        "dtm"
      ]
    },
    {
      "cell_type": "code",
      "execution_count": null,
      "metadata": {
        "colab": {
          "background_save": true
        },
        "id": "QB8ow4R0fRv5"
      },
      "outputs": [],
      "source": [
        "# Now let's apply LDA to the doc. term matrix\n",
        "from sklearn.decomposition import LatentDirichletAllocation\n",
        "\n",
        "LDA = LatentDirichletAllocation(n_components = 7,\n",
        "                                random_state = 42)"
      ]
    },
    {
      "cell_type": "code",
      "execution_count": null,
      "metadata": {
        "colab": {
          "background_save": true
        },
        "id": "iJXgZNFQftVO"
      },
      "outputs": [],
      "source": [
        "# Fitting the LDA model to the DTM\n",
        "LDA.fit(dtm)"
      ]
    },
    {
      "cell_type": "markdown",
      "metadata": {
        "id": "jUyvkbn_jMuD"
      },
      "source": [
        "Now that the LDA model is trained, let's grab the words with the highest probability per topic and try to label each topic."
      ]
    },
    {
      "cell_type": "code",
      "execution_count": null,
      "metadata": {
        "colab": {
          "background_save": true
        },
        "id": "xNFSn3gli98K"
      },
      "outputs": [],
      "source": [
        "# We have 7 topics and 54k+ words per topic\n",
        "LDA.components_.shape"
      ]
    },
    {
      "cell_type": "code",
      "execution_count": null,
      "metadata": {
        "colab": {
          "background_save": true
        },
        "id": "Ef96bgNMjBGv"
      },
      "outputs": [],
      "source": [
        "# Let's first try grabbing the top 10 words with the highest probability in the first topic\n",
        "# using CountVectorizer's get_feature_names_out() we can get the words that are associated with the indeces found by LDA\n",
        "top_ten_words = LDA.components_[0].argsort()[-10:]\n",
        "\n",
        "for index in top_ten_words:\n",
        "  print(cv.get_feature_names_out()[index])"
      ]
    },
    {
      "cell_type": "markdown",
      "metadata": {
        "id": "PH2Q5uaykULn"
      },
      "source": [
        "It seems that the words point to the topic being related to goverement, finances or health.\n",
        "\n",
        "We can get more words to get a better idea of what each topic is about."
      ]
    },
    {
      "cell_type": "code",
      "execution_count": null,
      "metadata": {
        "colab": {
          "background_save": true
        },
        "id": "Vam73shvjlZ6"
      },
      "outputs": [],
      "source": [
        "top_twenty_words = LDA.components_[0].argsort()[-20:]\n",
        "\n",
        "for index in top_twenty_words:\n",
        "  print(cv.get_feature_names_out()[index])"
      ]
    },
    {
      "cell_type": "markdown",
      "metadata": {
        "id": "MRdcFw88knS4"
      },
      "source": [
        "It seems that the first topic is more related to goverment and finances."
      ]
    },
    {
      "cell_type": "code",
      "execution_count": null,
      "metadata": {
        "colab": {
          "background_save": true
        },
        "id": "baGuq63fkju8"
      },
      "outputs": [],
      "source": [
        "# Let's get the top 15 words for each topic\n",
        "for i, topic in enumerate(LDA.components_):\n",
        "  print(f'Top 15 words for topic #{i}')\n",
        "  print([cv.get_feature_names_out()[index] for index in topic.argsort()[-15:]])\n",
        "  print('==============')"
      ]
    },
    {
      "cell_type": "markdown",
      "metadata": {
        "id": "5FmKl9XvCFQ_"
      },
      "source": [
        "By fitting the LDA model to the articles, it assigns a topic for each word and keeps updating the weights of these words topics until they level out and best represent the data.\n",
        "\n",
        "Transforming the model on the data gives the probabilities of each article belonging to a certain topic (Dirichlet probability distribution)."
      ]
    },
    {
      "cell_type": "code",
      "execution_count": null,
      "metadata": {
        "colab": {
          "background_save": true
        },
        "id": "O5RrwK1YldXs"
      },
      "outputs": [],
      "source": [
        "# Now let's append a topic to each article in the original dataframe\n",
        "topic_results = LDA.transform(dtm)"
      ]
    },
    {
      "cell_type": "code",
      "execution_count": null,
      "metadata": {
        "colab": {
          "background_save": true
        },
        "id": "L6SjaeaomPO3"
      },
      "outputs": [],
      "source": [
        "# 11k+ articles, each article has 7 probabilities of belonging to a certain topic\n",
        "topic_results.shape"
      ]
    },
    {
      "cell_type": "code",
      "execution_count": null,
      "metadata": {
        "colab": {
          "background_save": true
        },
        "id": "2htmjR0NmT1i"
      },
      "outputs": [],
      "source": [
        "topic_results[0]"
      ]
    },
    {
      "cell_type": "code",
      "execution_count": null,
      "metadata": {
        "colab": {
          "background_save": true
        },
        "id": "1bE7wu1amupG"
      },
      "outputs": [],
      "source": [
        "# the first articles belongs to the second topic\n",
        "topic_results[0].argmax()"
      ]
    },
    {
      "cell_type": "code",
      "execution_count": null,
      "metadata": {
        "colab": {
          "background_save": true
        },
        "id": "9Cu-RpGomxAe"
      },
      "outputs": [],
      "source": [
        "# Adding the topic column to the original DF\n",
        "df['Topic'] = topic_results.argmax(axis = 1)"
      ]
    },
    {
      "cell_type": "code",
      "execution_count": null,
      "metadata": {
        "colab": {
          "background_save": true
        },
        "id": "dTEwVoSQm6-4"
      },
      "outputs": [],
      "source": [
        "df.head(n = 20)"
      ]
    },
    {
      "cell_type": "markdown",
      "metadata": {
        "id": "U1aqB1deqPsi"
      },
      "source": [
        "## Non-negative Matrix Factorization"
      ]
    },
    {
      "cell_type": "markdown",
      "metadata": {
        "id": "AMjiN_tzq4AK"
      },
      "source": [
        "**Non-negativa Matrix Factorization (NMF)** is an unsupervised algorithm that simultaneously performs dimensionality reduction and clustering. It belongs to the family of linear algebra algorithms that are used to identify the latent or hidden structure present in the data.\n",
        "\n",
        "It can also be applied for topic modelling, where the input is the term-document matrix, typically TF-IDF normalized.\n",
        "\n",
        "More info [here](https://medium.com/voice-tech-podcast/topic-modelling-using-nmf-2f510d962b6e) and [here](https://www.freecodecamp.org/news/advanced-topic-modeling-how-to-use-svd-nmf-in-python/)\n",
        "\n",
        "![pic.jpg](data:image/jpeg;base64,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)"
      ]
    },
    {
      "cell_type": "code",
      "execution_count": null,
      "metadata": {
        "colab": {
          "background_save": true
        },
        "id": "EF-nxRGzm72y"
      },
      "outputs": [],
      "source": [
        "# Let's apply NMF to a dataset containing some articles\n",
        "import numpy as np\n",
        "import pandas as pd\n",
        "\n",
        "df = pd.read_csv('npr.csv')\n",
        "df.head()"
      ]
    },
    {
      "cell_type": "code",
      "execution_count": null,
      "metadata": {
        "colab": {
          "background_save": true
        },
        "id": "bNgbm66K3hJ8"
      },
      "outputs": [],
      "source": [
        "# For NVM we first need to vectorize and TF-IDF our text data\n",
        "from sklearn.feature_extraction.text import TfidfVectorizer\n",
        "\n",
        "tfidf = TfidfVectorizer(max_df = 0.9,\n",
        "                        min_df = 2,\n",
        "                        stop_words = 'english')"
      ]
    },
    {
      "cell_type": "code",
      "execution_count": null,
      "metadata": {
        "colab": {
          "background_save": true
        },
        "id": "tu99AnBn4Edr"
      },
      "outputs": [],
      "source": [
        "# Applying TF-IDF Vect. to the articles\n",
        "dtm = tfidf.fit_transform(df['Article'])\n",
        "\n",
        "dtm"
      ]
    },
    {
      "cell_type": "code",
      "execution_count": null,
      "metadata": {
        "colab": {
          "background_save": true
        },
        "id": "vidA0Bnt4QWm"
      },
      "outputs": [],
      "source": [
        "# Creating the NMF model and fitting to the data\n",
        "from sklearn.decomposition import NMF\n",
        "\n",
        "nmf_model = NMF(n_components = 7,\n",
        "                random_state = 42)\n",
        "\n",
        "nmf_model.fit(dtm)"
      ]
    },
    {
      "cell_type": "code",
      "execution_count": null,
      "metadata": {
        "colab": {
          "background_save": true
        },
        "id": "QAtkITS04hk9"
      },
      "outputs": [],
      "source": [
        "# Getting the words with the highest coefficients for each topic\n",
        "for i, topic in enumerate(nmf_model.components_):\n",
        "  print(f\"Top 15 words for topic #{i}\")\n",
        "  print([tfidf.get_feature_names_out()[i] for i in topic.argsort()[-15:]])\n",
        "  print(\"=============================\")"
      ]
    },
    {
      "cell_type": "code",
      "execution_count": null,
      "metadata": {
        "colab": {
          "background_save": true
        },
        "id": "OsUfSJha47bl"
      },
      "outputs": [],
      "source": [
        "# Fitting the NMF model to the TF-IDF vectors to get topic coeffs. for each doc.\n",
        "topic_results = nmf_model.transform(dtm)"
      ]
    },
    {
      "cell_type": "code",
      "execution_count": null,
      "metadata": {
        "colab": {
          "background_save": true
        },
        "id": "vZpl2HYp5SEF"
      },
      "outputs": [],
      "source": [
        "# Adding the topic column with the highest coefficient topic for each doc.\n",
        "df['Topic'] = topic_results.argmax(axis = 1)\n",
        "\n",
        "df.head(n = 20)"
      ]
    },
    {
      "cell_type": "code",
      "execution_count": null,
      "metadata": {
        "colab": {
          "background_save": true
        },
        "id": "YQL5h1D65fN-"
      },
      "outputs": [],
      "source": [
        "# Adding a name for each topic\n",
        "# Topic names were infered by checking the words with the highest coeffs. for each topic\n",
        "# The topic names are user-defined and there is no right or wrong answer when it comes to naming\n",
        "topic_dict = {0:'Health',1:'Election',2:\"Legislation\",3:\"Politics\",4:\"Election\",5:\"Music\",6:\"Education\"}\n",
        "df['Topic Label'] = df['Topic'].map(topic_dict)\n",
        "\n",
        "df.head(n = 20)"
      ]
    },
    {
      "cell_type": "markdown",
      "metadata": {
        "id": "WjJqIcQyb25E"
      },
      "source": [
        "# NLP with Deep Learning"
      ]
    },
    {
      "cell_type": "markdown",
      "metadata": {
        "id": "GbrhAwnZkvCd"
      },
      "source": [
        "Now we'll try to use NN for NLP.\n",
        "\n",
        "But first, we'll explore some Keras basics using the Iris dataset."
      ]
    },
    {
      "cell_type": "code",
      "execution_count": null,
      "metadata": {
        "id": "f8tTW48k6WOI"
      },
      "outputs": [],
      "source": [
        "import numpy as np\n",
        "import pandas as pd\n",
        "\n",
        "from sklearn.datasets import load_iris"
      ]
    },
    {
      "cell_type": "code",
      "execution_count": null,
      "metadata": {
        "id": "v3EqEW2VlER2"
      },
      "outputs": [],
      "source": [
        "iris = load_iris()"
      ]
    },
    {
      "cell_type": "code",
      "source": [
        "print(iris.feature_names)\n",
        "print()\n",
        "print(iris.target_names)"
      ],
      "metadata": {
        "colab": {
          "base_uri": "https://localhost:8080/"
        },
        "id": "rORLEedjzfSV",
        "outputId": "645629de-d06d-48c9-d57f-149002fe7a40"
      },
      "execution_count": null,
      "outputs": [
        {
          "output_type": "stream",
          "name": "stdout",
          "text": [
            "['sepal length (cm)', 'sepal width (cm)', 'petal length (cm)', 'petal width (cm)']\n",
            "\n",
            "['setosa' 'versicolor' 'virginica']\n"
          ]
        }
      ]
    },
    {
      "cell_type": "code",
      "source": [],
      "metadata": {
        "colab": {
          "base_uri": "https://localhost:8080/"
        },
        "id": "iu1pbWaQzMtQ",
        "outputId": "17d607b7-d57d-4ea8-ab2a-22b9a8a4688f"
      },
      "execution_count": null,
      "outputs": [
        {
          "output_type": "execute_result",
          "data": {
            "text/plain": [
              "array(['setosa', 'versicolor', 'virginica'], dtype='<U10')"
            ]
          },
          "metadata": {},
          "execution_count": 17
        }
      ]
    },
    {
      "cell_type": "code",
      "execution_count": null,
      "metadata": {
        "id": "VfaYOYpqlkVI"
      },
      "outputs": [],
      "source": [
        "# Creating features and labels\n",
        "X = iris.data\n",
        "y = iris.target"
      ]
    },
    {
      "cell_type": "code",
      "execution_count": null,
      "metadata": {
        "colab": {
          "base_uri": "https://localhost:8080/"
        },
        "id": "xRvcmxAYlojq",
        "outputId": "e4977649-d7b8-4628-ef31-9b64819abc19"
      },
      "outputs": [
        {
          "output_type": "execute_result",
          "data": {
            "text/plain": [
              "(150, 3)"
            ]
          },
          "metadata": {},
          "execution_count": 4
        }
      ],
      "source": [
        "# One-hot encoding the labels\n",
        "from keras.utils import to_categorical\n",
        "\n",
        "y = to_categorical(y)\n",
        "\n",
        "y.shape"
      ]
    },
    {
      "cell_type": "code",
      "execution_count": null,
      "metadata": {
        "id": "fzCr--mXl57a"
      },
      "outputs": [],
      "source": [
        "# Performing the train-test split\n",
        "from sklearn.model_selection import train_test_split\n",
        "\n",
        "X_train, X_test, y_train, y_test = train_test_split(X,\n",
        "                                                    y,\n",
        "                                                    test_size = 0.33,\n",
        "                                                    random_state = 42)"
      ]
    },
    {
      "cell_type": "code",
      "execution_count": null,
      "metadata": {
        "id": "zQVe6dihmNqW"
      },
      "outputs": [],
      "source": [
        "# Normalizing the data\n",
        "# Not needed but won't hurt the application\n",
        "from sklearn.preprocessing import MinMaxScaler\n",
        "\n",
        "scaler = MinMaxScaler()\n",
        "\n",
        "scaler.fit(X_train)\n",
        "\n",
        "scaled_X_train = scaler.transform(X_train)\n",
        "scaled_X_test = scaler.transform(X_test)"
      ]
    },
    {
      "cell_type": "code",
      "execution_count": null,
      "metadata": {
        "id": "P-FGd3Yemt77"
      },
      "outputs": [],
      "source": [
        "# Now to build a simple NN model\n",
        "from keras.models import Sequential\n",
        "from keras.layers import Dense\n",
        "\n",
        "model = Sequential() # building a sequential NN model the contains:\n",
        "model.add(Dense(units = 8, input_dim = 4, activation = 'relu')) # one dense hidden layer with 8 perceptrons, 4 input dimensions (since we have 4 features in the dataset), with ReLU activation\n",
        "model.add(Dense(units = 8, activation = 'relu')) # another dense hidden layer same as before\n",
        "model.add(Dense(units = 3, activation = 'softmax')) # last layer as output layer with 3 perceptrons (3 categories) and softmax activation\n",
        "\n",
        "# Adding a loss function and optimizer to the model, specifying accuracy as the metric\n",
        "model.compile(loss = 'categorical_crossentropy',\n",
        "              optimizer = 'adam',\n",
        "              metrics = ['accuracy'])"
      ]
    },
    {
      "cell_type": "code",
      "execution_count": null,
      "metadata": {
        "colab": {
          "base_uri": "https://localhost:8080/"
        },
        "id": "VPJ9lSzSoAr6",
        "outputId": "41580749-361a-4089-abfd-6548a853a3ac"
      },
      "outputs": [
        {
          "output_type": "stream",
          "name": "stdout",
          "text": [
            "Model: \"sequential\"\n",
            "_________________________________________________________________\n",
            " Layer (type)                Output Shape              Param #   \n",
            "=================================================================\n",
            " dense (Dense)               (None, 8)                 40        \n",
            "                                                                 \n",
            " dense_1 (Dense)             (None, 8)                 72        \n",
            "                                                                 \n",
            " dense_2 (Dense)             (None, 3)                 27        \n",
            "                                                                 \n",
            "=================================================================\n",
            "Total params: 139 (556.00 Byte)\n",
            "Trainable params: 139 (556.00 Byte)\n",
            "Non-trainable params: 0 (0.00 Byte)\n",
            "_________________________________________________________________\n"
          ]
        }
      ],
      "source": [
        "# Getting a summary of the model\n",
        "model.summary()"
      ]
    },
    {
      "cell_type": "code",
      "execution_count": null,
      "metadata": {
        "colab": {
          "base_uri": "https://localhost:8080/"
        },
        "id": "STIfq6KZoCCj",
        "outputId": "dc8e29f0-f280-4ca0-af48-af090ebf5aff"
      },
      "outputs": [
        {
          "output_type": "stream",
          "name": "stdout",
          "text": [
            "Epoch 1/100\n",
            "4/4 - 1s - loss: 1.1529 - accuracy: 0.1600 - 1s/epoch - 254ms/step\n",
            "Epoch 2/100\n",
            "4/4 - 0s - loss: 1.1463 - accuracy: 0.2700 - 13ms/epoch - 3ms/step\n",
            "Epoch 3/100\n",
            "4/4 - 0s - loss: 1.1410 - accuracy: 0.3400 - 12ms/epoch - 3ms/step\n",
            "Epoch 4/100\n",
            "4/4 - 0s - loss: 1.1365 - accuracy: 0.3500 - 10ms/epoch - 2ms/step\n",
            "Epoch 5/100\n",
            "4/4 - 0s - loss: 1.1314 - accuracy: 0.4000 - 10ms/epoch - 2ms/step\n",
            "Epoch 6/100\n",
            "4/4 - 0s - loss: 1.1267 - accuracy: 0.4500 - 11ms/epoch - 3ms/step\n",
            "Epoch 7/100\n",
            "4/4 - 0s - loss: 1.1221 - accuracy: 0.4700 - 12ms/epoch - 3ms/step\n",
            "Epoch 8/100\n",
            "4/4 - 0s - loss: 1.1178 - accuracy: 0.4700 - 10ms/epoch - 3ms/step\n",
            "Epoch 9/100\n",
            "4/4 - 0s - loss: 1.1134 - accuracy: 0.4800 - 12ms/epoch - 3ms/step\n",
            "Epoch 10/100\n",
            "4/4 - 0s - loss: 1.1092 - accuracy: 0.5000 - 12ms/epoch - 3ms/step\n",
            "Epoch 11/100\n",
            "4/4 - 0s - loss: 1.1051 - accuracy: 0.4800 - 12ms/epoch - 3ms/step\n",
            "Epoch 12/100\n",
            "4/4 - 0s - loss: 1.1009 - accuracy: 0.4800 - 11ms/epoch - 3ms/step\n",
            "Epoch 13/100\n",
            "4/4 - 0s - loss: 1.0969 - accuracy: 0.4900 - 10ms/epoch - 3ms/step\n",
            "Epoch 14/100\n",
            "4/4 - 0s - loss: 1.0928 - accuracy: 0.5000 - 13ms/epoch - 3ms/step\n",
            "Epoch 15/100\n",
            "4/4 - 0s - loss: 1.0884 - accuracy: 0.5000 - 13ms/epoch - 3ms/step\n",
            "Epoch 16/100\n",
            "4/4 - 0s - loss: 1.0842 - accuracy: 0.4900 - 9ms/epoch - 2ms/step\n",
            "Epoch 17/100\n",
            "4/4 - 0s - loss: 1.0799 - accuracy: 0.4900 - 9ms/epoch - 2ms/step\n",
            "Epoch 18/100\n",
            "4/4 - 0s - loss: 1.0758 - accuracy: 0.5200 - 11ms/epoch - 3ms/step\n",
            "Epoch 19/100\n",
            "4/4 - 0s - loss: 1.0717 - accuracy: 0.5300 - 11ms/epoch - 3ms/step\n",
            "Epoch 20/100\n",
            "4/4 - 0s - loss: 1.0680 - accuracy: 0.5200 - 11ms/epoch - 3ms/step\n",
            "Epoch 21/100\n",
            "4/4 - 0s - loss: 1.0650 - accuracy: 0.5100 - 17ms/epoch - 4ms/step\n",
            "Epoch 22/100\n",
            "4/4 - 0s - loss: 1.0620 - accuracy: 0.5000 - 14ms/epoch - 3ms/step\n",
            "Epoch 23/100\n",
            "4/4 - 0s - loss: 1.0587 - accuracy: 0.5100 - 13ms/epoch - 3ms/step\n",
            "Epoch 24/100\n",
            "4/4 - 0s - loss: 1.0546 - accuracy: 0.5100 - 9ms/epoch - 2ms/step\n",
            "Epoch 25/100\n",
            "4/4 - 0s - loss: 1.0504 - accuracy: 0.5200 - 12ms/epoch - 3ms/step\n",
            "Epoch 26/100\n",
            "4/4 - 0s - loss: 1.0459 - accuracy: 0.5300 - 14ms/epoch - 4ms/step\n",
            "Epoch 27/100\n",
            "4/4 - 0s - loss: 1.0411 - accuracy: 0.5500 - 9ms/epoch - 2ms/step\n",
            "Epoch 28/100\n",
            "4/4 - 0s - loss: 1.0362 - accuracy: 0.5500 - 9ms/epoch - 2ms/step\n",
            "Epoch 29/100\n",
            "4/4 - 0s - loss: 1.0315 - accuracy: 0.5200 - 9ms/epoch - 2ms/step\n",
            "Epoch 30/100\n",
            "4/4 - 0s - loss: 1.0261 - accuracy: 0.4900 - 13ms/epoch - 3ms/step\n",
            "Epoch 31/100\n",
            "4/4 - 0s - loss: 1.0206 - accuracy: 0.4700 - 9ms/epoch - 2ms/step\n",
            "Epoch 32/100\n",
            "4/4 - 0s - loss: 1.0144 - accuracy: 0.4600 - 9ms/epoch - 2ms/step\n",
            "Epoch 33/100\n",
            "4/4 - 0s - loss: 1.0090 - accuracy: 0.4300 - 10ms/epoch - 2ms/step\n",
            "Epoch 34/100\n",
            "4/4 - 0s - loss: 1.0015 - accuracy: 0.4200 - 9ms/epoch - 2ms/step\n",
            "Epoch 35/100\n",
            "4/4 - 0s - loss: 0.9946 - accuracy: 0.4200 - 10ms/epoch - 2ms/step\n",
            "Epoch 36/100\n",
            "4/4 - 0s - loss: 0.9873 - accuracy: 0.4100 - 12ms/epoch - 3ms/step\n",
            "Epoch 37/100\n",
            "4/4 - 0s - loss: 0.9792 - accuracy: 0.3900 - 13ms/epoch - 3ms/step\n",
            "Epoch 38/100\n",
            "4/4 - 0s - loss: 0.9703 - accuracy: 0.4100 - 13ms/epoch - 3ms/step\n",
            "Epoch 39/100\n",
            "4/4 - 0s - loss: 0.9599 - accuracy: 0.4400 - 13ms/epoch - 3ms/step\n",
            "Epoch 40/100\n",
            "4/4 - 0s - loss: 0.9502 - accuracy: 0.4700 - 10ms/epoch - 3ms/step\n",
            "Epoch 41/100\n",
            "4/4 - 0s - loss: 0.9412 - accuracy: 0.4900 - 11ms/epoch - 3ms/step\n",
            "Epoch 42/100\n",
            "4/4 - 0s - loss: 0.9335 - accuracy: 0.5300 - 17ms/epoch - 4ms/step\n",
            "Epoch 43/100\n",
            "4/4 - 0s - loss: 0.9246 - accuracy: 0.5200 - 20ms/epoch - 5ms/step\n",
            "Epoch 44/100\n",
            "4/4 - 0s - loss: 0.9159 - accuracy: 0.4700 - 30ms/epoch - 7ms/step\n",
            "Epoch 45/100\n",
            "4/4 - 0s - loss: 0.9061 - accuracy: 0.4600 - 15ms/epoch - 4ms/step\n",
            "Epoch 46/100\n",
            "4/4 - 0s - loss: 0.8972 - accuracy: 0.4400 - 12ms/epoch - 3ms/step\n",
            "Epoch 47/100\n",
            "4/4 - 0s - loss: 0.8888 - accuracy: 0.4100 - 11ms/epoch - 3ms/step\n",
            "Epoch 48/100\n",
            "4/4 - 0s - loss: 0.8791 - accuracy: 0.4000 - 10ms/epoch - 3ms/step\n",
            "Epoch 49/100\n",
            "4/4 - 0s - loss: 0.8701 - accuracy: 0.4900 - 13ms/epoch - 3ms/step\n",
            "Epoch 50/100\n",
            "4/4 - 0s - loss: 0.8602 - accuracy: 0.5900 - 13ms/epoch - 3ms/step\n",
            "Epoch 51/100\n",
            "4/4 - 0s - loss: 0.8502 - accuracy: 0.6700 - 11ms/epoch - 3ms/step\n",
            "Epoch 52/100\n",
            "4/4 - 0s - loss: 0.8408 - accuracy: 0.7000 - 11ms/epoch - 3ms/step\n",
            "Epoch 53/100\n",
            "4/4 - 0s - loss: 0.8319 - accuracy: 0.7500 - 11ms/epoch - 3ms/step\n",
            "Epoch 54/100\n",
            "4/4 - 0s - loss: 0.8234 - accuracy: 0.7800 - 11ms/epoch - 3ms/step\n",
            "Epoch 55/100\n",
            "4/4 - 0s - loss: 0.8138 - accuracy: 0.7800 - 12ms/epoch - 3ms/step\n",
            "Epoch 56/100\n",
            "4/4 - 0s - loss: 0.8052 - accuracy: 0.7500 - 13ms/epoch - 3ms/step\n",
            "Epoch 57/100\n",
            "4/4 - 0s - loss: 0.7963 - accuracy: 0.7300 - 13ms/epoch - 3ms/step\n",
            "Epoch 58/100\n",
            "4/4 - 0s - loss: 0.7874 - accuracy: 0.7200 - 13ms/epoch - 3ms/step\n",
            "Epoch 59/100\n",
            "4/4 - 0s - loss: 0.7790 - accuracy: 0.7200 - 10ms/epoch - 3ms/step\n",
            "Epoch 60/100\n",
            "4/4 - 0s - loss: 0.7707 - accuracy: 0.7200 - 11ms/epoch - 3ms/step\n",
            "Epoch 61/100\n",
            "4/4 - 0s - loss: 0.7630 - accuracy: 0.7200 - 16ms/epoch - 4ms/step\n",
            "Epoch 62/100\n",
            "4/4 - 0s - loss: 0.7545 - accuracy: 0.7000 - 15ms/epoch - 4ms/step\n",
            "Epoch 63/100\n",
            "4/4 - 0s - loss: 0.7465 - accuracy: 0.7200 - 14ms/epoch - 3ms/step\n",
            "Epoch 64/100\n",
            "4/4 - 0s - loss: 0.7383 - accuracy: 0.7000 - 10ms/epoch - 2ms/step\n",
            "Epoch 65/100\n",
            "4/4 - 0s - loss: 0.7307 - accuracy: 0.7000 - 9ms/epoch - 2ms/step\n",
            "Epoch 66/100\n",
            "4/4 - 0s - loss: 0.7235 - accuracy: 0.6900 - 9ms/epoch - 2ms/step\n",
            "Epoch 67/100\n",
            "4/4 - 0s - loss: 0.7169 - accuracy: 0.6700 - 10ms/epoch - 2ms/step\n",
            "Epoch 68/100\n",
            "4/4 - 0s - loss: 0.7104 - accuracy: 0.6700 - 10ms/epoch - 2ms/step\n",
            "Epoch 69/100\n",
            "4/4 - 0s - loss: 0.7038 - accuracy: 0.6700 - 12ms/epoch - 3ms/step\n",
            "Epoch 70/100\n",
            "4/4 - 0s - loss: 0.6964 - accuracy: 0.6800 - 10ms/epoch - 2ms/step\n",
            "Epoch 71/100\n",
            "4/4 - 0s - loss: 0.6889 - accuracy: 0.7200 - 10ms/epoch - 2ms/step\n",
            "Epoch 72/100\n",
            "4/4 - 0s - loss: 0.6809 - accuracy: 0.7300 - 10ms/epoch - 3ms/step\n",
            "Epoch 73/100\n",
            "4/4 - 0s - loss: 0.6738 - accuracy: 0.7500 - 11ms/epoch - 3ms/step\n",
            "Epoch 74/100\n",
            "4/4 - 0s - loss: 0.6667 - accuracy: 0.7800 - 15ms/epoch - 4ms/step\n",
            "Epoch 75/100\n",
            "4/4 - 0s - loss: 0.6603 - accuracy: 0.8000 - 10ms/epoch - 3ms/step\n",
            "Epoch 76/100\n",
            "4/4 - 0s - loss: 0.6534 - accuracy: 0.8100 - 11ms/epoch - 3ms/step\n",
            "Epoch 77/100\n",
            "4/4 - 0s - loss: 0.6468 - accuracy: 0.8100 - 11ms/epoch - 3ms/step\n",
            "Epoch 78/100\n",
            "4/4 - 0s - loss: 0.6404 - accuracy: 0.8100 - 10ms/epoch - 2ms/step\n",
            "Epoch 79/100\n",
            "4/4 - 0s - loss: 0.6340 - accuracy: 0.8100 - 9ms/epoch - 2ms/step\n",
            "Epoch 80/100\n",
            "4/4 - 0s - loss: 0.6275 - accuracy: 0.8100 - 9ms/epoch - 2ms/step\n",
            "Epoch 81/100\n",
            "4/4 - 0s - loss: 0.6213 - accuracy: 0.8100 - 10ms/epoch - 2ms/step\n",
            "Epoch 82/100\n",
            "4/4 - 0s - loss: 0.6156 - accuracy: 0.7900 - 11ms/epoch - 3ms/step\n",
            "Epoch 83/100\n",
            "4/4 - 0s - loss: 0.6096 - accuracy: 0.7900 - 10ms/epoch - 2ms/step\n",
            "Epoch 84/100\n",
            "4/4 - 0s - loss: 0.6036 - accuracy: 0.8100 - 10ms/epoch - 2ms/step\n",
            "Epoch 85/100\n",
            "4/4 - 0s - loss: 0.5971 - accuracy: 0.8300 - 12ms/epoch - 3ms/step\n",
            "Epoch 86/100\n",
            "4/4 - 0s - loss: 0.5911 - accuracy: 0.8600 - 13ms/epoch - 3ms/step\n",
            "Epoch 87/100\n",
            "4/4 - 0s - loss: 0.5863 - accuracy: 0.8900 - 11ms/epoch - 3ms/step\n",
            "Epoch 88/100\n",
            "4/4 - 0s - loss: 0.5811 - accuracy: 0.9000 - 16ms/epoch - 4ms/step\n",
            "Epoch 89/100\n",
            "4/4 - 0s - loss: 0.5753 - accuracy: 0.9000 - 12ms/epoch - 3ms/step\n",
            "Epoch 90/100\n",
            "4/4 - 0s - loss: 0.5696 - accuracy: 0.9000 - 11ms/epoch - 3ms/step\n",
            "Epoch 91/100\n",
            "4/4 - 0s - loss: 0.5661 - accuracy: 0.8900 - 9ms/epoch - 2ms/step\n",
            "Epoch 92/100\n",
            "4/4 - 0s - loss: 0.5596 - accuracy: 0.8600 - 11ms/epoch - 3ms/step\n",
            "Epoch 93/100\n",
            "4/4 - 0s - loss: 0.5539 - accuracy: 0.8600 - 10ms/epoch - 3ms/step\n",
            "Epoch 94/100\n",
            "4/4 - 0s - loss: 0.5490 - accuracy: 0.8900 - 13ms/epoch - 3ms/step\n",
            "Epoch 95/100\n",
            "4/4 - 0s - loss: 0.5433 - accuracy: 0.8900 - 11ms/epoch - 3ms/step\n",
            "Epoch 96/100\n",
            "4/4 - 0s - loss: 0.5382 - accuracy: 0.8900 - 10ms/epoch - 2ms/step\n",
            "Epoch 97/100\n",
            "4/4 - 0s - loss: 0.5335 - accuracy: 0.8700 - 10ms/epoch - 2ms/step\n",
            "Epoch 98/100\n",
            "4/4 - 0s - loss: 0.5283 - accuracy: 0.8900 - 11ms/epoch - 3ms/step\n",
            "Epoch 99/100\n",
            "4/4 - 0s - loss: 0.5242 - accuracy: 0.9000 - 11ms/epoch - 3ms/step\n",
            "Epoch 100/100\n",
            "4/4 - 0s - loss: 0.5208 - accuracy: 0.9200 - 10ms/epoch - 3ms/step\n"
          ]
        },
        {
          "output_type": "execute_result",
          "data": {
            "text/plain": [
              "<keras.src.callbacks.History at 0x781d9669a620>"
            ]
          },
          "metadata": {},
          "execution_count": 9
        }
      ],
      "source": [
        "# training the model on the training data for 50 epochs\n",
        "model.fit(scaled_X_train,\n",
        "          y_train,\n",
        "          epochs = 100,\n",
        "          verbose = 2)"
      ]
    },
    {
      "cell_type": "code",
      "execution_count": null,
      "metadata": {
        "colab": {
          "base_uri": "https://localhost:8080/"
        },
        "id": "XSlspHufoWvT",
        "outputId": "0731721f-8577-4140-f0cb-1b4df236883c"
      },
      "outputs": [
        {
          "output_type": "stream",
          "name": "stdout",
          "text": [
            "2/2 [==============================] - 0s 4ms/step\n"
          ]
        },
        {
          "output_type": "execute_result",
          "data": {
            "text/plain": [
              "array([1, 0, 2, 1, 2, 0, 1, 2, 2, 1, 2, 0, 0, 0, 0, 1, 2, 1, 1, 2, 0, 2,\n",
              "       0, 2, 2, 2, 2, 2, 0, 0, 0, 0, 1, 0, 0, 2, 1, 0, 0, 0, 2, 1, 1, 0,\n",
              "       0, 1, 2, 2, 1, 2])"
            ]
          },
          "metadata": {},
          "execution_count": 10
        }
      ],
      "source": [
        "# Now let's test test our model on the test data\n",
        "# the test data needs to be scaled (we already done that)\n",
        "preds = model.predict(scaled_X_test).argmax(axis = 1)\n",
        "\n",
        "preds"
      ]
    },
    {
      "cell_type": "code",
      "execution_count": null,
      "metadata": {
        "colab": {
          "base_uri": "https://localhost:8080/"
        },
        "id": "gLPM8_lbtAKL",
        "outputId": "9c92f639-ff38-44c0-fee2-5b4f2c763e6d"
      },
      "outputs": [
        {
          "output_type": "execute_result",
          "data": {
            "text/plain": [
              "array([1, 0, 2, 1, 1, 0, 1, 2, 1, 1, 2, 0, 0, 0, 0, 1, 2, 1, 1, 2, 0, 2,\n",
              "       0, 2, 2, 2, 2, 2, 0, 0, 0, 0, 1, 0, 0, 2, 1, 0, 0, 0, 2, 1, 1, 0,\n",
              "       0, 1, 2, 2, 1, 2])"
            ]
          },
          "metadata": {},
          "execution_count": 11
        }
      ],
      "source": [
        "# Turning y_test from one-hot encoded format back to standart format\n",
        "y_test.argmax(axis = 1)"
      ]
    },
    {
      "cell_type": "code",
      "execution_count": null,
      "metadata": {
        "colab": {
          "base_uri": "https://localhost:8080/"
        },
        "id": "noYtuNbDtO_T",
        "outputId": "a882129d-8d33-4a99-8baf-619bf9c9a014"
      },
      "outputs": [
        {
          "output_type": "stream",
          "name": "stdout",
          "text": [
            "              precision    recall  f1-score   support\n",
            "\n",
            "           0       1.00      1.00      1.00        19\n",
            "           1       1.00      0.87      0.93        15\n",
            "           2       0.89      1.00      0.94        16\n",
            "\n",
            "    accuracy                           0.96        50\n",
            "   macro avg       0.96      0.96      0.96        50\n",
            "weighted avg       0.96      0.96      0.96        50\n",
            "\n"
          ]
        }
      ],
      "source": [
        "# Now to evaluate the model\n",
        "from sklearn.metrics import classification_report, confusion_matrix, ConfusionMatrixDisplay\n",
        "\n",
        "print(classification_report(y_test.argmax(axis = 1), preds))"
      ]
    },
    {
      "cell_type": "code",
      "execution_count": null,
      "metadata": {
        "colab": {
          "base_uri": "https://localhost:8080/"
        },
        "id": "RTA09C-9tb1q",
        "outputId": "238e426d-ab01-4474-dcfe-745ea95fb348"
      },
      "outputs": [
        {
          "output_type": "stream",
          "name": "stdout",
          "text": [
            "[[19  0  0]\n",
            " [ 0 13  2]\n",
            " [ 0  0 16]]\n"
          ]
        }
      ],
      "source": [
        "print(confusion_matrix(y_test.argmax(axis = 1), preds))"
      ]
    },
    {
      "cell_type": "code",
      "execution_count": null,
      "metadata": {
        "colab": {
          "base_uri": "https://localhost:8080/",
          "height": 449
        },
        "id": "ZB9lnzDUt4zl",
        "outputId": "73028757-4382-42b8-a0df-5c9eb7f5f77a"
      },
      "outputs": [
        {
          "output_type": "display_data",
          "data": {
            "text/plain": [
              "<Figure size 640x480 with 2 Axes>"
            ],
            "image/png": "[encoded data removed]"
          },
          "metadata": {}
        }
      ],
      "source": [
        "conf_mat = ConfusionMatrixDisplay(confusion_matrix(y_test.argmax(axis = 1), preds), display_labels = iris.target_names)\n",
        "conf_mat.plot();"
      ]
    },
    {
      "cell_type": "code",
      "execution_count": null,
      "metadata": {
        "id": "Fzk0tsR5u654"
      },
      "outputs": [],
      "source": [
        "# Saving the model\n",
        "model.save('first_model.keras')"
      ]
    },
    {
      "cell_type": "code",
      "execution_count": null,
      "metadata": {
        "id": "26QBJjvavKOs"
      },
      "outputs": [],
      "source": [
        "# Loading the model\n",
        "from keras.models import load_model\n",
        "\n",
        "new_model = load_model('first_model.keras')"
      ]
    },
    {
      "cell_type": "code",
      "execution_count": null,
      "metadata": {
        "colab": {
          "base_uri": "https://localhost:8080/"
        },
        "id": "2gKissD-vVrR",
        "outputId": "e5fbf29d-9a7f-45d5-b4b2-432018278831"
      },
      "outputs": [
        {
          "output_type": "stream",
          "name": "stdout",
          "text": [
            "2/2 [==============================] - 0s 4ms/step\n"
          ]
        },
        {
          "output_type": "execute_result",
          "data": {
            "text/plain": [
              "array([1, 0, 2, 1, 2, 0, 1, 2, 2, 1, 2, 0, 0, 0, 0, 1, 2, 1, 1, 2, 0, 2,\n",
              "       0, 2, 2, 2, 2, 2, 0, 0, 0, 0, 1, 0, 0, 2, 1, 0, 0, 0, 2, 1, 1, 0,\n",
              "       0, 1, 2, 2, 1, 2])"
            ]
          },
          "metadata": {},
          "execution_count": 23
        }
      ],
      "source": [
        "# Testing the loaded model\n",
        "new_model.predict(scaled_X_test).argmax(axis = 1)"
      ]
    },
    {
      "cell_type": "markdown",
      "metadata": {
        "id": "Cj46Po7BvncM"
      },
      "source": [
        "## Recurrent Neural Networks (RNNs) for NLP"
      ]
    },
    {
      "cell_type": "markdown",
      "metadata": {
        "id": "-jfUV5ktyLWi"
      },
      "source": [
        "A **recurrent neural network (RNN)** is a type of neural networks which uses sequential data or time series data. These deep learning algorithms are commonly used for ordinal or temporal problems, such as language translation, natural language processing, speech recognition, and image captioning; they are incorporated into popular applications such as Siri, voice search, and Google Translate.\n",
        "\n",
        "**RNNs** are distinguished by their “memory” as they take information from prior inputs to influence the current input and output. While traditional deep neural networks assume that inputs and outputs are independent of each other, the output of recurrent neural networks depend on the prior elements within the sequence. While future events would also be helpful in determining the output of a given sequence, unidirectional recurrent neural networks cannot account for these events in their predictions. More info [here](https://www.geeksforgeeks.org/introduction-to-recurrent-neural-network/).\n",
        "\n",
        "One of the main problems that RNNs face, is that the more we train the network the more it begins to forget earilier information and representation learned. The solution for this is the Long Short-Term Memory (LSTM) networks.\n",
        "\n",
        "[**Long Short-Term Memory (LSTM) network**](https://www.analyticsvidhya.com/blog/2021/03/introduction-to-long-short-term-memory-lstm/) -  is a deep learning, sequential neural network that allows information to persist. It is a special type of Recurrent Neural Network which is capable of handling the vanishing gradient problem faced by RNNs.\n",
        "\n",
        "For NLP, RNNs and LSTM can be used for **text generation**, and that what are we going to accomplish next."
      ]
    },
    {
      "cell_type": "code",
      "execution_count": null,
      "metadata": {
        "id": "bcYaR-iMvc5e"
      },
      "outputs": [],
      "source": [
        "# file reading function\n",
        "def read_file(filepath):\n",
        "  with open(filepath, 'r') as f:\n",
        "    str_text = f.read()\n",
        "  return str_text"
      ]
    },
    {
      "cell_type": "code",
      "execution_count": null,
      "metadata": {
        "id": "XzN64MO4-PJq"
      },
      "outputs": [],
      "source": [
        "# Tokenizing and cleaning the text\n",
        "import spacy\n",
        "\n",
        "# We want spacy only to get the tokens from the text, hence we'll disable everything except the tokenizer\n",
        "nlp = spacy.load('en_core_web_sm', disable=['parser', 'tagger', 'ner','attribute_ruler', 'lemmatizer'])"
      ]
    },
    {
      "cell_type": "code",
      "execution_count": null,
      "metadata": {
        "colab": {
          "base_uri": "https://localhost:8080/"
        },
        "id": "jNHCOPg_A_g8",
        "outputId": "a6f02c92-203a-4e4b-897f-e9873db01c2e"
      },
      "outputs": [
        {
          "output_type": "execute_result",
          "data": {
            "text/plain": [
              "[('tok2vec', <spacy.pipeline.tok2vec.Tok2Vec at 0x781d8770dea0>)]"
            ]
          },
          "metadata": {},
          "execution_count": 61
        }
      ],
      "source": [
        "nlp.pipeline"
      ]
    },
    {
      "cell_type": "code",
      "execution_count": null,
      "metadata": {
        "id": "JYh0B5LN_IM0"
      },
      "outputs": [],
      "source": [
        "# Now we need to get rid of the punctiuations and new lines in our text so that the network doesn't overfit on them during training\n",
        "def seperate_func(doc_text):\n",
        "  return [token.text.lower() for token in nlp(doc_text) if token.text not in '\\n\\n \\n\\n\\n!\"-#$%&()--.*+,-/:;<=>?@[\\\\]^_`{|}~\\t\\n ']"
      ]
    },
    {
      "cell_type": "code",
      "execution_count": null,
      "metadata": {
        "id": "tjXBD8XZAkm4"
      },
      "outputs": [],
      "source": [
        "text = read_file('moby_dick_four_chapters.txt')"
      ]
    },
    {
      "cell_type": "code",
      "execution_count": null,
      "metadata": {
        "id": "0Tcg0jqqAzaQ"
      },
      "outputs": [],
      "source": [
        "tokens = seperate_func(text)"
      ]
    },
    {
      "cell_type": "code",
      "execution_count": null,
      "metadata": {
        "colab": {
          "base_uri": "https://localhost:8080/"
        },
        "id": "gv1nob9mA3Pt",
        "outputId": "21396d4d-22f1-42d0-e6a6-24817c2ad2eb"
      },
      "outputs": [
        {
          "output_type": "execute_result",
          "data": {
            "text/plain": [
              "11338"
            ]
          },
          "metadata": {},
          "execution_count": 65
        }
      ],
      "source": [
        "len(tokens)"
      ]
    },
    {
      "cell_type": "markdown",
      "metadata": {
        "id": "oN3jf62UBjMc"
      },
      "source": [
        "For text generation, in our application, we will train the model on 25 words from each sentence, and let the network predict the 26th\n",
        "\n",
        "25 words --> network predicts 26th"
      ]
    },
    {
      "cell_type": "code",
      "execution_count": null,
      "metadata": {
        "id": "9-CGqvSMA9Ae"
      },
      "outputs": [],
      "source": [
        "# For that, we will create a list of sentences (sequences) of length 25 words\n",
        "# where every next sentence is shifted one work to the right\n",
        "train_len = 26\n",
        "\n",
        "text_seqs = []\n",
        "\n",
        "for i in range(train_len, len(tokens)):\n",
        "  seq = tokens[i-train_len: i]\n",
        "  text_seqs.append(seq)"
      ]
    },
    {
      "cell_type": "code",
      "execution_count": null,
      "metadata": {
        "colab": {
          "base_uri": "https://localhost:8080/"
        },
        "id": "NrBCctD5C3jI",
        "outputId": "afee4d55-5599-4728-c9ff-2f17a8c3fa83"
      },
      "outputs": [
        {
          "output_type": "execute_result",
          "data": {
            "text/plain": [
              "11312"
            ]
          },
          "metadata": {},
          "execution_count": 67
        }
      ],
      "source": [
        "len(text_seqs)"
      ]
    },
    {
      "cell_type": "code",
      "execution_count": null,
      "metadata": {
        "colab": {
          "base_uri": "https://localhost:8080/"
        },
        "id": "nnvQ98IzC59e",
        "outputId": "2073df59-b94c-4b39-f22d-719cd87b4517"
      },
      "outputs": [
        {
          "output_type": "stream",
          "name": "stdout",
          "text": [
            "call me ishmael some years ago never mind how long precisely having little or no money in my purse and nothing particular to interest me on\n"
          ]
        }
      ],
      "source": [
        "print(' '.join(text_seqs[0]))"
      ]
    },
    {
      "cell_type": "code",
      "execution_count": null,
      "metadata": {
        "colab": {
          "base_uri": "https://localhost:8080/"
        },
        "id": "X8hZcdWRDPkQ",
        "outputId": "524abf39-a598-419b-cd6f-e1beac3caac8"
      },
      "outputs": [
        {
          "output_type": "stream",
          "name": "stdout",
          "text": [
            "me ishmael some years ago never mind how long precisely having little or no money in my purse and nothing particular to interest me on shore\n"
          ]
        }
      ],
      "source": [
        "print(' '.join(text_seqs[1]))"
      ]
    },
    {
      "cell_type": "code",
      "execution_count": null,
      "metadata": {
        "id": "S10Zx9_iDVT6"
      },
      "outputs": [],
      "source": [
        "# Now for the training process\n",
        "# In order for our network to understand the text data, we will use Keras' tokenizer\n",
        "from keras.preprocessing.text import Tokenizer\n",
        "\n",
        "tokenizer = Tokenizer()\n",
        "\n",
        "tokenizer.fit_on_texts(text_seqs)"
      ]
    },
    {
      "cell_type": "code",
      "execution_count": null,
      "metadata": {
        "colab": {
          "base_uri": "https://localhost:8080/"
        },
        "id": "AGR9JOtWEja4",
        "outputId": "615d1e07-448c-4de8-ac86-cf2bf41eed83"
      },
      "outputs": [
        {
          "output_type": "stream",
          "name": "stdout",
          "text": [
            "[956, 14, 263, 51, 261, 408, 87, 219, 129, 111, 954, 260, 50, 43, 38, 314, 7, 23, 546, 3, 150, 259, 6, 2713, 14, 24]\n"
          ]
        }
      ],
      "source": [
        "# Now every word in tokenized, and every number is the ID of the word\n",
        "sequences = tokenizer.texts_to_sequences(text_seqs)\n",
        "\n",
        "print(sequences[0])"
      ]
    },
    {
      "cell_type": "code",
      "execution_count": null,
      "metadata": {
        "colab": {
          "base_uri": "https://localhost:8080/"
        },
        "id": "Wj4MSzwOEqp7",
        "outputId": "166b4d9e-deb7-4f6c-9d03-0eb7c7174a9d"
      },
      "outputs": [
        {
          "output_type": "execute_result",
          "data": {
            "text/plain": [
              "{1: 'the',\n",
              " 2: 'a',\n",
              " 3: 'and',\n",
              " 4: 'of',\n",
              " 5: 'i',\n",
              " 6: 'to',\n",
              " 7: 'in',\n",
              " 8: 'it',\n",
              " 9: 'that',\n",
              " 10: 'he',\n",
              " 11: 'his',\n",
              " 12: 'was',\n",
              " 13: 'but',\n",
              " 14: 'me',\n",
              " 15: 'with',\n",
              " 16: 'as',\n",
              " 17: 'at',\n",
              " 18: 'this',\n",
              " 19: 'you',\n",
              " 20: 'is',\n",
              " 21: 'all',\n",
              " 22: 'for',\n",
              " 23: 'my',\n",
              " 24: 'on',\n",
              " 25: 'be',\n",
              " 26: \"'s\",\n",
              " 27: 'not',\n",
              " 28: 'from',\n",
              " 29: 'there',\n",
              " 30: 'one',\n",
              " 31: 'up',\n",
              " 32: 'what',\n",
              " 33: 'him',\n",
              " 34: 'so',\n",
              " 35: 'bed',\n",
              " 36: 'now',\n",
              " 37: 'about',\n",
              " 38: 'no',\n",
              " 39: 'into',\n",
              " 40: 'by',\n",
              " 41: 'were',\n",
              " 42: 'out',\n",
              " 43: 'or',\n",
              " 44: 'harpooneer',\n",
              " 45: 'had',\n",
              " 46: 'then',\n",
              " 47: 'have',\n",
              " 48: 'an',\n",
              " 49: 'upon',\n",
              " 50: 'little',\n",
              " 51: 'some',\n",
              " 52: 'old',\n",
              " 53: 'like',\n",
              " 54: 'if',\n",
              " 55: 'they',\n",
              " 56: 'would',\n",
              " 57: 'do',\n",
              " 58: 'over',\n",
              " 59: 'landlord',\n",
              " 60: 'thought',\n",
              " 61: 'room',\n",
              " 62: 'when',\n",
              " 63: 'could',\n",
              " 64: \"n't\",\n",
              " 65: 'night',\n",
              " 66: 'here',\n",
              " 67: 'head',\n",
              " 68: 'such',\n",
              " 69: 'which',\n",
              " 70: 'man',\n",
              " 71: 'did',\n",
              " 72: 'sea',\n",
              " 73: 'time',\n",
              " 74: 'other',\n",
              " 75: 'very',\n",
              " 76: 'go',\n",
              " 77: 'these',\n",
              " 78: 'more',\n",
              " 79: 'though',\n",
              " 80: 'first',\n",
              " 81: 'sort',\n",
              " 82: 'said',\n",
              " 83: 'last',\n",
              " 84: 'down',\n",
              " 85: 'most',\n",
              " 86: 'been',\n",
              " 87: 'never',\n",
              " 88: 'your',\n",
              " 89: 'them',\n",
              " 90: 'must',\n",
              " 91: 'tell',\n",
              " 92: 'much',\n",
              " 93: 'good',\n",
              " 94: 'see',\n",
              " 95: 'off',\n",
              " 96: 'myself',\n",
              " 97: 'are',\n",
              " 98: 'yet',\n",
              " 99: 'sleep',\n",
              " 100: 'who',\n",
              " 101: 'seemed',\n",
              " 102: 'light',\n",
              " 103: 'way',\n",
              " 104: 'their',\n",
              " 105: 'just',\n",
              " 106: 'being',\n",
              " 107: 'than',\n",
              " 108: 'place',\n",
              " 109: 'queequeg',\n",
              " 110: 'great',\n",
              " 111: 'long',\n",
              " 112: 'before',\n",
              " 113: 'get',\n",
              " 114: 'round',\n",
              " 115: 'where',\n",
              " 116: 'still',\n",
              " 117: 'any',\n",
              " 118: 'too',\n",
              " 119: 'only',\n",
              " 120: 'door',\n",
              " 121: 'can',\n",
              " 122: 'himself',\n",
              " 123: 'heads',\n",
              " 124: 'come',\n",
              " 125: 'ever',\n",
              " 126: 'two',\n",
              " 127: 'enough',\n",
              " 128: 'made',\n",
              " 129: 'how',\n",
              " 130: 'hand',\n",
              " 131: 'same',\n",
              " 132: 'looking',\n",
              " 133: 'something',\n",
              " 134: 'may',\n",
              " 135: \"'\",\n",
              " 136: 'almost',\n",
              " 137: 'say',\n",
              " 138: 'should',\n",
              " 139: 'side',\n",
              " 140: 'why',\n",
              " 141: 'own',\n",
              " 142: 'we',\n",
              " 143: 'new',\n",
              " 144: 'again',\n",
              " 145: 'came',\n",
              " 146: 'arm',\n",
              " 147: 'house',\n",
              " 148: 'away',\n",
              " 149: 'might',\n",
              " 150: 'nothing',\n",
              " 151: 'take',\n",
              " 152: 'towards',\n",
              " 153: 'will',\n",
              " 154: 'under',\n",
              " 155: 'going',\n",
              " 156: 'make',\n",
              " 157: 'whale',\n",
              " 158: 'stood',\n",
              " 159: 'boots',\n",
              " 160: 'ye',\n",
              " 161: 'back',\n",
              " 162: \"'ll\",\n",
              " 163: 'tomahawk',\n",
              " 164: 'part',\n",
              " 165: 'world',\n",
              " 166: 'soon',\n",
              " 167: 'water',\n",
              " 168: 'against',\n",
              " 169: 'those',\n",
              " 170: 'between',\n",
              " 171: 'after',\n",
              " 172: 'whaling',\n",
              " 173: 'lay',\n",
              " 174: 'took',\n",
              " 175: 'half',\n",
              " 176: 'began',\n",
              " 177: 'face',\n",
              " 178: 'streets',\n",
              " 179: 'land',\n",
              " 180: 'better',\n",
              " 181: 'once',\n",
              " 182: 'voyage',\n",
              " 183: 'give',\n",
              " 184: 'rather',\n",
              " 185: 'well',\n",
              " 186: 'however',\n",
              " 187: 'else',\n",
              " 188: 'heard',\n",
              " 189: 'put',\n",
              " 190: 'stop',\n",
              " 191: 'dark',\n",
              " 192: 'went',\n",
              " 193: 'black',\n",
              " 194: 'window',\n",
              " 195: 'cannibal',\n",
              " 196: 'fire',\n",
              " 197: 'every',\n",
              " 198: 'ship',\n",
              " 199: 'stand',\n",
              " 200: 'strange',\n",
              " 201: 'without',\n",
              " 202: 'feet',\n",
              " 203: 'whether',\n",
              " 204: 'because',\n",
              " 205: 'eyes',\n",
              " 206: 'think',\n",
              " 207: 'thinks',\n",
              " 208: 'idea',\n",
              " 209: 'bag',\n",
              " 210: 'nantucket',\n",
              " 211: 'late',\n",
              " 212: 'cold',\n",
              " 213: 'our',\n",
              " 214: 'found',\n",
              " 215: 'full',\n",
              " 216: 'morning',\n",
              " 217: 'sleeping',\n",
              " 218: 'got',\n",
              " 219: 'mind',\n",
              " 220: 'her',\n",
              " 221: 'right',\n",
              " 222: 'its',\n",
              " 223: 'look',\n",
              " 224: 'town',\n",
              " 225: 'south',\n",
              " 226: 'does',\n",
              " 227: 'let',\n",
              " 228: 'set',\n",
              " 229: 'yourself',\n",
              " 230: 'image',\n",
              " 231: 'saw',\n",
              " 232: 'am',\n",
              " 233: 'besides',\n",
              " 234: 'sailor',\n",
              " 235: 'seas',\n",
              " 236: 'rolled',\n",
              " 237: 'till',\n",
              " 238: 'day',\n",
              " 239: 'sign',\n",
              " 240: 'looked',\n",
              " 241: 'hard',\n",
              " 242: 'moment',\n",
              " 243: 'corner',\n",
              " 244: 'entry',\n",
              " 245: 'four',\n",
              " 246: 'wall',\n",
              " 247: 'savage',\n",
              " 248: 'table',\n",
              " 249: 'indeed',\n",
              " 250: 'bench',\n",
              " 251: 'chest',\n",
              " 252: 'while',\n",
              " 253: 'stranger',\n",
              " 254: 'possible',\n",
              " 255: 'feeling',\n",
              " 256: 'floor',\n",
              " 257: 'squares',\n",
              " 258: 'hat',\n",
              " 259: 'particular',\n",
              " 260: 'having',\n",
              " 261: 'years',\n",
              " 262: 'harpoon',\n",
              " 263: 'ishmael',\n",
              " 264: 'whenever',\n",
              " 265: 'mouth',\n",
              " 266: 'high',\n",
              " 267: 'knew',\n",
              " 268: 'men',\n",
              " 269: 'hours',\n",
              " 270: 'green',\n",
              " 271: 'bit',\n",
              " 272: 'within',\n",
              " 273: 'picture',\n",
              " 274: 'told',\n",
              " 275: 'story',\n",
              " 276: 'mean',\n",
              " 277: 'speak',\n",
              " 278: 'order',\n",
              " 279: 'making',\n",
              " 280: 'even',\n",
              " 281: 'perhaps',\n",
              " 282: 'things',\n",
              " 283: 'answer',\n",
              " 284: 'parts',\n",
              " 285: 'wild',\n",
              " 286: 'reason',\n",
              " 287: 'young',\n",
              " 288: 'craft',\n",
              " 289: 'business',\n",
              " 290: 'dead',\n",
              " 291: 'another',\n",
              " 292: 'middle',\n",
              " 293: 'sure',\n",
              " 294: 'candle',\n",
              " 295: 'presently',\n",
              " 296: 'low',\n",
              " 297: 'turned',\n",
              " 298: 'teeth',\n",
              " 299: 'dim',\n",
              " 300: 'euroclydon',\n",
              " 301: 'kept',\n",
              " 302: 'glass',\n",
              " 303: 'afterwards',\n",
              " 304: 'large',\n",
              " 305: 'three',\n",
              " 306: 'telling',\n",
              " 307: 'getting',\n",
              " 308: 'small',\n",
              " 309: 'next',\n",
              " 310: 'seeing',\n",
              " 311: 'sell',\n",
              " 312: 'felt',\n",
              " 313: 'sun',\n",
              " 314: 'money',\n",
              " 315: 'sail',\n",
              " 316: 'coffin',\n",
              " 317: 'especially',\n",
              " 318: 'street',\n",
              " 319: 'city',\n",
              " 320: 'few',\n",
              " 321: 'previous',\n",
              " 322: 'sight',\n",
              " 323: 'days',\n",
              " 324: 'straight',\n",
              " 325: 'nigh',\n",
              " 326: 'legs',\n",
              " 327: 'try',\n",
              " 328: 'yes',\n",
              " 329: 'unless',\n",
              " 330: 'poor',\n",
              " 331: 'coat',\n",
              " 332: 'passenger',\n",
              " 333: 'taking',\n",
              " 334: 'true',\n",
              " 335: 'thing',\n",
              " 336: 'ai',\n",
              " 337: 'always',\n",
              " 338: 'us',\n",
              " 339: 'really',\n",
              " 340: 'marvellous',\n",
              " 341: 'heaven',\n",
              " 342: 'air',\n",
              " 343: 'far',\n",
              " 344: 'second',\n",
              " 345: 'many',\n",
              " 346: 'has',\n",
              " 347: 'unaccountable',\n",
              " 348: 'grand',\n",
              " 349: 'jolly',\n",
              " 350: 'open',\n",
              " 351: 'shirt',\n",
              " 352: 'cape',\n",
              " 353: 'bedford',\n",
              " 354: 'fine',\n",
              " 355: 'further',\n",
              " 356: 'ice',\n",
              " 357: 'frost',\n",
              " 358: 'foot',\n",
              " 359: 'wide',\n",
              " 360: 'white',\n",
              " 361: 'tall',\n",
              " 362: 'i.',\n",
              " 363: 'wooden',\n",
              " 364: 'worse',\n",
              " 365: 'death',\n",
              " 366: 'mine',\n",
              " 367: 'lazarus',\n",
              " 368: 'keep',\n",
              " 369: 'along',\n",
              " 370: 'hung',\n",
              " 371: 'throwing',\n",
              " 372: 'centre',\n",
              " 373: 'rest',\n",
              " 374: 'fact',\n",
              " 375: 'hair',\n",
              " 376: 'broken',\n",
              " 377: 'kill',\n",
              " 378: 'through',\n",
              " 379: 'chimney',\n",
              " 380: 'fancy',\n",
              " 381: 'bar',\n",
              " 382: 'trying',\n",
              " 383: 'dumplings',\n",
              " 384: 'heavens',\n",
              " 385: 'manner',\n",
              " 386: 'devil',\n",
              " 387: 'together',\n",
              " 388: 'seen',\n",
              " 389: 'deal',\n",
              " 390: 'know',\n",
              " 391: 'skin',\n",
              " 392: 'ca',\n",
              " 393: 'shavings',\n",
              " 394: 'peddling',\n",
              " 395: 'sunday',\n",
              " 396: 'counterpane',\n",
              " 397: 'mat',\n",
              " 398: 'christian',\n",
              " 399: 'commenced',\n",
              " 400: 'thinking',\n",
              " 401: 'similar',\n",
              " 402: 'afraid',\n",
              " 403: 'length',\n",
              " 404: 'idol',\n",
              " 405: 'e',\n",
              " 406: 'sabbee',\n",
              " 407: 'waking',\n",
              " 408: 'ago',\n",
              " 409: 'find',\n",
              " 410: 'damp',\n",
              " 411: 'soul',\n",
              " 412: 'strong',\n",
              " 413: 'account',\n",
              " 414: 'sword',\n",
              " 415: 'quietly',\n",
              " 416: 'degree',\n",
              " 417: 'left',\n",
              " 418: 'around',\n",
              " 419: 'fixed',\n",
              " 420: 'ships',\n",
              " 421: 'miles',\n",
              " 422: 'country',\n",
              " 423: 'stream',\n",
              " 424: 'lead',\n",
              " 425: 'american',\n",
              " 426: 'artist',\n",
              " 427: 'each',\n",
              " 428: 'goes',\n",
              " 429: 'deep',\n",
              " 430: 'distant',\n",
              " 431: 'winds',\n",
              " 432: 'blue',\n",
              " 433: 'among',\n",
              " 434: 'suddenly',\n",
              " 435: 'feel',\n",
              " 436: 'meaning',\n",
              " 437: 'phantom',\n",
              " 438: 'life',\n",
              " 439: 'passengers',\n",
              " 440: 'nor',\n",
              " 441: 'kind',\n",
              " 442: 'quite',\n",
              " 443: 'care',\n",
              " 444: 'board',\n",
              " 445: 'somehow',\n",
              " 446: 'broiled',\n",
              " 447: 'mast',\n",
              " 448: 'sense',\n",
              " 449: 'knowing',\n",
              " 450: 'either',\n",
              " 451: 'passed',\n",
              " 452: 'hands',\n",
              " 453: 'paying',\n",
              " 454: 'pay',\n",
              " 455: 'penny',\n",
              " 456: 'sailors',\n",
              " 457: 'exactly',\n",
              " 458: 'short',\n",
              " 459: 'easy',\n",
              " 460: 'portentous',\n",
              " 461: 'island',\n",
              " 462: 'nameless',\n",
              " 463: 'sounds',\n",
              " 464: 'since',\n",
              " 465: 'snow',\n",
              " 466: 'saturday',\n",
              " 467: 'matter',\n",
              " 468: 'red',\n",
              " 469: 'partly',\n",
              " 470: 'ere',\n",
              " 471: 'became',\n",
              " 472: 'meanwhile',\n",
              " 473: 'pocket',\n",
              " 474: 'darkness',\n",
              " 475: 'fish',\n",
              " 476: 'inn',\n",
              " 477: 'watch',\n",
              " 478: 'broad',\n",
              " 479: 'entering',\n",
              " 480: 'ha',\n",
              " 481: 'ashes',\n",
              " 482: 'opened',\n",
              " 483: 'spouter',\n",
              " 484: 'name',\n",
              " 485: 'suppose',\n",
              " 486: 'quiet',\n",
              " 487: 'best',\n",
              " 488: 'tempestuous',\n",
              " 489: 'says',\n",
              " 490: 'thou',\n",
              " 491: 'both',\n",
              " 492: 'occurred',\n",
              " 493: 'dives',\n",
              " 494: 'holding',\n",
              " 495: 'frozen',\n",
              " 496: 'altogether',\n",
              " 497: 'plain',\n",
              " 498: 'whom',\n",
              " 499: 'clean',\n",
              " 500: 'human',\n",
              " 501: 'entered',\n",
              " 502: 'wrinkled',\n",
              " 503: 'shelf',\n",
              " 504: 'jonah',\n",
              " 505: 'blanket',\n",
              " 506: \"goin'\",\n",
              " 507: 'bitter',\n",
              " 508: 'supper',\n",
              " 509: 'sat',\n",
              " 510: 'settle',\n",
              " 511: 'chap',\n",
              " 512: 'help',\n",
              " 513: 'spend',\n",
              " 514: 'landed',\n",
              " 515: 'standing',\n",
              " 516: 'held',\n",
              " 517: 'somewhat',\n",
              " 518: 'sober',\n",
              " 519: 'whole',\n",
              " 520: 'dam',\n",
              " 521: 'brown',\n",
              " 522: 'bulkington',\n",
              " 523: \"o'clock\",\n",
              " 524: 'none',\n",
              " 525: 'coming',\n",
              " 526: \"'ve\",\n",
              " 527: 'wait',\n",
              " 528: 'plane',\n",
              " 529: 'saying',\n",
              " 530: 'grinning',\n",
              " 531: 'placed',\n",
              " 532: 'shouted',\n",
              " 533: 'bedfellow',\n",
              " 534: 'zealand',\n",
              " 535: 'sal',\n",
              " 536: 'wash',\n",
              " 537: 'thrown',\n",
              " 538: 'purplish',\n",
              " 539: 'turn',\n",
              " 540: 'completely',\n",
              " 541: 'fear',\n",
              " 542: 'grego',\n",
              " 543: 'baby',\n",
              " 544: 'slowly',\n",
              " 545: 'civilized',\n",
              " 546: 'purse',\n",
              " 547: 'monkey',\n",
              " 548: 'involuntarily',\n",
              " 549: 'pausing',\n",
              " 550: 'warehouses',\n",
              " 551: 'requires',\n",
              " 552: 'people',\n",
              " 553: 'nearly',\n",
              " 554: 'ocean',\n",
              " 555: 'indian',\n",
              " 556: 'waterward',\n",
              " 557: 'battery',\n",
              " 558: 'noble',\n",
              " 559: 'washed',\n",
              " 560: 'crowds',\n",
              " 561: 'sabbath',\n",
              " 562: 'afternoon',\n",
              " 563: 'thence',\n",
              " 564: 'silent',\n",
              " 565: 'thousands',\n",
              " 566: 'reveries',\n",
              " 567: 'leaning',\n",
              " 568: 'seated',\n",
              " 569: 'bulwarks',\n",
              " 570: 'aloft',\n",
              " 571: 'week',\n",
              " 572: 'plaster',\n",
              " 573: 'gone',\n",
              " 574: 'bound',\n",
              " 575: 'content',\n",
              " 576: 'yonder',\n",
              " 577: 'falling',\n",
              " 578: 'north',\n",
              " 579: 'please',\n",
              " 580: 'ten',\n",
              " 581: 'leaves',\n",
              " 582: 'magic',\n",
              " 583: 'plunged',\n",
              " 584: 'metaphysical',\n",
              " 585: 'chief',\n",
              " 586: 'trunk',\n",
              " 587: 'meadow',\n",
              " 588: 'smoke',\n",
              " 589: 'reaching',\n",
              " 590: 'hill',\n",
              " 591: 'thus',\n",
              " 592: 'pine',\n",
              " 593: 'sighs',\n",
              " 594: 'shepherd',\n",
              " 595: 'june',\n",
              " 596: 'scores',\n",
              " 597: 'thousand',\n",
              " 598: 'sadly',\n",
              " 599: 'robust',\n",
              " 600: 'healthy',\n",
              " 601: 'boy',\n",
              " 602: 'crazy',\n",
              " 603: 'hold',\n",
              " 604: 'holy',\n",
              " 605: 'brother',\n",
              " 606: 'ourselves',\n",
              " 607: 'begin',\n",
              " 608: 'grow',\n",
              " 609: 'inferred',\n",
              " 610: 'needs',\n",
              " 611: \"don't\",\n",
              " 612: 'themselves',\n",
              " 613: 'commodore',\n",
              " 614: 'captain',\n",
              " 615: 'cook',\n",
              " 616: 'glory',\n",
              " 617: 'whatsoever',\n",
              " 618: 'confess',\n",
              " 619: 'officer',\n",
              " 620: 'respectfully',\n",
              " 621: 'horse',\n",
              " 622: 'huge',\n",
              " 623: 'houses',\n",
              " 624: 'forecastle',\n",
              " 625: 'jump',\n",
              " 626: 'spar',\n",
              " 627: 'particularly',\n",
              " 628: 'putting',\n",
              " 629: 'tar',\n",
              " 630: 'schoolmaster',\n",
              " 631: 'boys',\n",
              " 632: 'transition',\n",
              " 633: 'grin',\n",
              " 634: 'bear',\n",
              " 635: 'hunks',\n",
              " 636: 'sweep',\n",
              " 637: 'weighed',\n",
              " 638: 'anything',\n",
              " 639: 'less',\n",
              " 640: 'thump',\n",
              " 641: 'point',\n",
              " 642: 'view',\n",
              " 643: 'single',\n",
              " 644: 'difference',\n",
              " 645: 'act',\n",
              " 646: 'uncomfortable',\n",
              " 647: 'compare',\n",
              " 648: 'earthly',\n",
              " 649: 'enter',\n",
              " 650: 'deck',\n",
              " 651: 'quarter',\n",
              " 652: 'leaders',\n",
              " 653: 'smelt',\n",
              " 654: 'fates',\n",
              " 655: 'doubtless',\n",
              " 656: 'formed',\n",
              " 657: 'run',\n",
              " 658: 'stage',\n",
              " 659: 'shabby',\n",
              " 660: 'others',\n",
              " 661: 'circumstances',\n",
              " 662: 'motives',\n",
              " 663: 'various',\n",
              " 664: 'mysterious',\n",
              " 665: 'curiosity',\n",
              " 666: 'tormented',\n",
              " 667: 'everlasting',\n",
              " 668: 'wonder',\n",
              " 669: 'purpose',\n",
              " 670: 'floated',\n",
              " 671: 'stuffed',\n",
              " 672: 'horn',\n",
              " 673: 'arrived',\n",
              " 674: 'offer',\n",
              " 675: 'following',\n",
              " 676: 'embark',\n",
              " 677: 'pleased',\n",
              " 678: 'original',\n",
              " 679: 'stranded',\n",
              " 680: 'leviathan',\n",
              " 681: 'whales',\n",
              " 682: 'nay',\n",
              " 683: 'dismal',\n",
              " 684: 'wherever',\n",
              " 685: 'dreary',\n",
              " 686: 'crossed',\n",
              " 687: 'expensive',\n",
              " 688: 'bright',\n",
              " 689: 'windows',\n",
              " 690: 'packed',\n",
              " 691: 'inches',\n",
              " 692: 'thick',\n",
              " 693: 'hear',\n",
              " 694: 'tinkling',\n",
              " 695: 'glasses',\n",
              " 696: 'blackness',\n",
              " 697: 'moving',\n",
              " 698: 'hour',\n",
              " 699: 'proved',\n",
              " 700: 'meant',\n",
              " 701: 'public',\n",
              " 702: 'box',\n",
              " 703: 'flying',\n",
              " 704: 'harpoons',\n",
              " 705: 'trap',\n",
              " 706: 'loud',\n",
              " 707: 'voice',\n",
              " 708: 'sitting',\n",
              " 709: 'beyond',\n",
              " 710: 'negro',\n",
              " 711: 'creaking',\n",
              " 712: 'swinging',\n",
              " 713: 'painting',\n",
              " 714: 'representing',\n",
              " 715: 'connexion',\n",
              " 716: 'peter',\n",
              " 717: 'itself',\n",
              " 718: 'carted',\n",
              " 719: 'burnt',\n",
              " 720: 'spot',\n",
              " 721: 'queer',\n",
              " 722: 'gable',\n",
              " 723: 'ended',\n",
              " 724: 'sharp',\n",
              " 725: 'wind',\n",
              " 726: 'howling',\n",
              " 727: 'nevertheless',\n",
              " 728: 'called',\n",
              " 729: 'outside',\n",
              " 730: 'passage',\n",
              " 731: 'body',\n",
              " 732: 'curbstone',\n",
              " 733: 'corn',\n",
              " 734: 'pooh',\n",
              " 735: 'northern',\n",
              " 736: 'lights',\n",
              " 737: 'summer',\n",
              " 738: 'lengthwise',\n",
              " 739: 'gods',\n",
              " 740: 'lie',\n",
              " 741: 'plenty',\n",
              " 742: 'study',\n",
              " 743: 'series',\n",
              " 744: 'arrive',\n",
              " 745: 'shadows',\n",
              " 746: 'dint',\n",
              " 747: 'conclusion',\n",
              " 748: 'confounded',\n",
              " 749: 'limber',\n",
              " 750: 'truly',\n",
              " 751: 'drive',\n",
              " 752: 'unimaginable',\n",
              " 753: 'midnight',\n",
              " 754: 'unnatural',\n",
              " 755: 'breaking',\n",
              " 756: 'design',\n",
              " 757: 'opposite',\n",
              " 758: 'monstrous',\n",
              " 759: 'knots',\n",
              " 760: 'vast',\n",
              " 761: 'handle',\n",
              " 762: 'wondered',\n",
              " 763: 'mixed',\n",
              " 764: 'deformed',\n",
              " 765: 'flung',\n",
              " 766: 'iron',\n",
              " 767: 'arched',\n",
              " 768: 'cut',\n",
              " 769: 'times',\n",
              " 770: 'beneath',\n",
              " 771: 'covered',\n",
              " 772: 'gathered',\n",
              " 773: 'stands',\n",
              " 774: 'rude',\n",
              " 775: 'bone',\n",
              " 776: 'abominable',\n",
              " 777: 'measure',\n",
              " 778: 'seamen',\n",
              " 779: 'skrimshander',\n",
              " 780: 'sought',\n",
              " 781: 'added',\n",
              " 782: 'forehead',\n",
              " 783: 'objections',\n",
              " 784: \"'d\",\n",
              " 785: 'used',\n",
              " 786: 'depend',\n",
              " 787: 'decent',\n",
              " 788: 'want',\n",
              " 789: 'ready',\n",
              " 790: 'working',\n",
              " 791: 'space',\n",
              " 792: 'lips',\n",
              " 793: 'fingers',\n",
              " 794: 'fare',\n",
              " 795: 'fellow',\n",
              " 796: 'nightmare',\n",
              " 797: 'nt',\n",
              " 798: 'complexioned',\n",
              " 799: 'eats',\n",
              " 800: \"'em\",\n",
              " 801: 'afore',\n",
              " 802: 'resolved',\n",
              " 803: 'noise',\n",
              " 804: 'offing',\n",
              " 805: 'shaggy',\n",
              " 806: 'woollen',\n",
              " 807: 'stiff',\n",
              " 808: 'labrador',\n",
              " 809: 'wake',\n",
              " 810: 'bad',\n",
              " 811: 'mounted',\n",
              " 812: 'generally',\n",
              " 813: 'shipmates',\n",
              " 814: 'become',\n",
              " 815: 'height',\n",
              " 816: 'seem',\n",
              " 817: 'plan',\n",
              " 818: 'private',\n",
              " 819: 'unknown',\n",
              " 820: 'apartment',\n",
              " 821: 'hammock',\n",
              " 822: 'linen',\n",
              " 823: 'home',\n",
              " 824: 'hole',\n",
              " 825: 'mattress',\n",
              " 826: 'planing',\n",
              " 827: 'knot',\n",
              " 828: 'near',\n",
              " 829: 'sake',\n",
              " 830: 'chair',\n",
              " 831: 'narrow',\n",
              " 832: 'leaving',\n",
              " 833: 'interval',\n",
              " 834: 'met',\n",
              " 835: 'inside',\n",
              " 836: 'violent',\n",
              " 837: 'ones',\n",
              " 838: 'comprehension',\n",
              " 839: 'bird',\n",
              " 840: 'airley',\n",
              " 841: 'airth',\n",
              " 842: 'engaged',\n",
              " 843: 'whittling',\n",
              " 844: 'guess',\n",
              " 845: 'done',\n",
              " 846: 'break',\n",
              " 847: 'broke',\n",
              " 848: 'understand',\n",
              " 849: 'certain',\n",
              " 850: 'demand',\n",
              " 851: 'selling',\n",
              " 852: 'sir',\n",
              " 853: 'string',\n",
              " 854: 'mystery',\n",
              " 855: 'showed',\n",
              " 856: 'dangerous',\n",
              " 857: 'flukes',\n",
              " 858: 'slept',\n",
              " 859: 'big',\n",
              " 860: 'sam',\n",
              " 861: 'lighted',\n",
              " 862: 'wo',\n",
              " 863: 'stairs',\n",
              " 864: 'placing',\n",
              " 865: 'double',\n",
              " 866: 'eyeing',\n",
              " 867: 'belonging',\n",
              " 868: 'papered',\n",
              " 869: 'parcel',\n",
              " 870: 'tried',\n",
              " 871: 'satisfactory',\n",
              " 872: 'concerning',\n",
              " 873: 'edges',\n",
              " 874: 'stuck',\n",
              " 875: 'gave',\n",
              " 876: 'neck',\n",
              " 877: 'sleeves',\n",
              " 878: 'undressed',\n",
              " 879: 'remembering',\n",
              " 880: 'jumped',\n",
              " 881: 'pantaloons',\n",
              " 882: 'blowing',\n",
              " 883: 'doze',\n",
              " 884: 'pretty',\n",
              " 885: 'heavy',\n",
              " 886: 'save',\n",
              " 887: 'infernal',\n",
              " 888: 'peddler',\n",
              " 889: 'yellow',\n",
              " 890: 'colour',\n",
              " 891: 'dreadfully',\n",
              " 892: 'sticking',\n",
              " 893: 'cheeks',\n",
              " 894: 'truth',\n",
              " 895: 'remembered',\n",
              " 896: 'whaleman',\n",
              " 897: 'tattooed',\n",
              " 898: 'concluded',\n",
              " 899: 'lying',\n",
              " 900: 'tanning',\n",
              " 901: 'hot',\n",
              " 902: 'produced',\n",
              " 903: 'beaver',\n",
              " 904: 'singing',\n",
              " 905: 'bolted',\n",
              " 906: 'arms',\n",
              " 907: 'running',\n",
              " 908: 'curious',\n",
              " 909: 'hunch',\n",
              " 910: 'congo',\n",
              " 911: 'ill',\n",
              " 912: 'takes',\n",
              " 913: 'biscuit',\n",
              " 914: 'top',\n",
              " 915: 'lamp',\n",
              " 916: 'succeeded',\n",
              " 917: 'polite',\n",
              " 918: 'guttural',\n",
              " 919: 'pagan',\n",
              " 920: 'spell',\n",
              " 921: 'tobacco',\n",
              " 922: 'grunt',\n",
              " 923: 'whatever',\n",
              " 924: 'ee',\n",
              " 925: 'horrid',\n",
              " 926: 'pipe',\n",
              " 927: 'smoking',\n",
              " 928: 'complied',\n",
              " 929: 'patchwork',\n",
              " 930: 'figure',\n",
              " 931: 'shade',\n",
              " 932: 'quilt',\n",
              " 933: 'hugging',\n",
              " 934: 'sensations',\n",
              " 935: 'explain',\n",
              " 936: 'remember',\n",
              " 937: 'circumstance',\n",
              " 938: 'reality',\n",
              " 939: 'stepmother',\n",
              " 940: 'sixteen',\n",
              " 941: 'abed',\n",
              " 942: 'troubled',\n",
              " 943: 'supernatural',\n",
              " 944: 'ages',\n",
              " 945: 'awful',\n",
              " 946: 'consciousness',\n",
              " 947: 'observing',\n",
              " 948: 'creature',\n",
              " 949: 'dress',\n",
              " 950: 'watching',\n",
              " 951: 'probably',\n",
              " 952: 'toilet',\n",
              " 953: 'wrapped',\n",
              " 954: 'precisely',\n",
              " 955: 'jacket',\n",
              " 956: 'call',\n",
              " 957: 'shore',\n",
              " 958: 'watery',\n",
              " 959: 'driving',\n",
              " 960: 'spleen',\n",
              " 961: 'regulating',\n",
              " 962: 'circulation',\n",
              " 963: 'growing',\n",
              " 964: 'grim',\n",
              " 965: 'drizzly',\n",
              " 966: 'november',\n",
              " 967: 'bringing',\n",
              " 968: 'rear',\n",
              " 969: 'funeral',\n",
              " 970: 'meet',\n",
              " 971: 'hypos',\n",
              " 972: 'upper',\n",
              " 973: 'moral',\n",
              " 974: 'principle',\n",
              " 975: 'prevent',\n",
              " 976: 'deliberately',\n",
              " 977: 'stepping',\n",
              " 978: 'methodically',\n",
              " 979: 'knocking',\n",
              " 980: 'hats',\n",
              " 981: 'substitute',\n",
              " 982: 'pistol',\n",
              " 983: 'ball',\n",
              " 984: 'philosophical',\n",
              " 985: 'flourish',\n",
              " 986: 'cato',\n",
              " 987: 'throws',\n",
              " 988: 'surprising',\n",
              " 989: 'cherish',\n",
              " 990: 'feelings',\n",
              " 991: 'insular',\n",
              " 992: 'manhattoes',\n",
              " 993: 'belted',\n",
              " 994: 'wharves',\n",
              " 995: 'isles',\n",
              " 996: 'coral',\n",
              " 997: 'reefs',\n",
              " 998: 'commerce',\n",
              " 999: 'surrounds',\n",
              " 1000: 'surf',\n",
              " ...}"
            ]
          },
          "metadata": {},
          "execution_count": 72
        }
      ],
      "source": [
        "# We can access a dictionary of ID: word\n",
        "tokenizer.index_word"
      ]
    },
    {
      "cell_type": "code",
      "execution_count": null,
      "metadata": {
        "colab": {
          "base_uri": "https://localhost:8080/"
        },
        "id": "NqTvKlLME2W7",
        "outputId": "f406930d-8989-4133-9da7-66a08dafbe19"
      },
      "outputs": [
        {
          "output_type": "execute_result",
          "data": {
            "text/plain": [
              "OrderedDict([('call', 27),\n",
              "             ('me', 2471),\n",
              "             ('ishmael', 133),\n",
              "             ('some', 758),\n",
              "             ('years', 135),\n",
              "             ('ago', 84),\n",
              "             ('never', 449),\n",
              "             ('mind', 164),\n",
              "             ('how', 321),\n",
              "             ('long', 374),\n",
              "             ('precisely', 37),\n",
              "             ('having', 142),\n",
              "             ('little', 767),\n",
              "             ('or', 950),\n",
              "             ('no', 1003),\n",
              "             ('money', 120),\n",
              "             ('in', 5647),\n",
              "             ('my', 1786),\n",
              "             ('purse', 71),\n",
              "             ('and', 9646),\n",
              "             ('nothing', 281),\n",
              "             ('particular', 152),\n",
              "             ('to', 6497),\n",
              "             ('interest', 24),\n",
              "             ('on', 1716),\n",
              "             ('shore', 26),\n",
              "             ('i', 7150),\n",
              "             ('thought', 676),\n",
              "             ('would', 702),\n",
              "             ('sail', 104),\n",
              "             ('about', 1014),\n",
              "             ('a', 10377),\n",
              "             ('see', 416),\n",
              "             ('the', 15540),\n",
              "             ('watery', 26),\n",
              "             ('part', 234),\n",
              "             ('of', 8287),\n",
              "             ('world', 234),\n",
              "             ('it', 4238),\n",
              "             ('is', 1950),\n",
              "             ('way', 390),\n",
              "             ('have', 806),\n",
              "             ('driving', 26),\n",
              "             ('off', 416),\n",
              "             ('spleen', 26),\n",
              "             ('regulating', 26),\n",
              "             ('circulation', 26),\n",
              "             ('whenever', 130),\n",
              "             ('find', 78),\n",
              "             ('myself', 416),\n",
              "             ('growing', 26),\n",
              "             ('grim', 26),\n",
              "             ('mouth', 130),\n",
              "             ('damp', 78),\n",
              "             ('drizzly', 26),\n",
              "             ('november', 26),\n",
              "             ('soul', 78),\n",
              "             ('involuntarily', 52),\n",
              "             ('pausing', 52),\n",
              "             ('before', 364),\n",
              "             ('coffin', 104),\n",
              "             ('warehouses', 52),\n",
              "             ('bringing', 26),\n",
              "             ('up', 1237),\n",
              "             ('rear', 26),\n",
              "             ('every', 182),\n",
              "             ('funeral', 26),\n",
              "             ('meet', 26),\n",
              "             ('especially', 104),\n",
              "             ('hypos', 26),\n",
              "             ('get', 364),\n",
              "             ('such', 572),\n",
              "             ('an', 806),\n",
              "             ('upper', 26),\n",
              "             ('hand', 312),\n",
              "             ('that', 3770),\n",
              "             ('requires', 52),\n",
              "             ('strong', 78),\n",
              "             ('moral', 26),\n",
              "             ('principle', 26),\n",
              "             ('prevent', 26),\n",
              "             ('from', 1508),\n",
              "             ('deliberately', 26),\n",
              "             ('stepping', 26),\n",
              "             ('into', 988),\n",
              "             ('street', 104),\n",
              "             ('methodically', 26),\n",
              "             ('knocking', 26),\n",
              "             ('people', 52),\n",
              "             (\"'s\", 1691),\n",
              "             ('hats', 26),\n",
              "             ('then', 832),\n",
              "             ('account', 78),\n",
              "             ('high', 130),\n",
              "             ('time', 520),\n",
              "             ('sea', 546),\n",
              "             ('as', 2366),\n",
              "             ('soon', 234),\n",
              "             ('can', 338),\n",
              "             ('this', 2158),\n",
              "             ('substitute', 26),\n",
              "             ('for', 1820),\n",
              "             ('pistol', 26),\n",
              "             ('ball', 26),\n",
              "             ('with', 2392),\n",
              "             ('philosophical', 26),\n",
              "             ('flourish', 26),\n",
              "             ('cato', 26),\n",
              "             ('throws', 26),\n",
              "             ('himself', 338),\n",
              "             ('upon', 780),\n",
              "             ('his', 3139),\n",
              "             ('sword', 78),\n",
              "             ('quietly', 78),\n",
              "             ('take', 260),\n",
              "             ('ship', 182),\n",
              "             ('there', 1456),\n",
              "             ('surprising', 26),\n",
              "             ('if', 728),\n",
              "             ('they', 728),\n",
              "             ('but', 2652),\n",
              "             ('knew', 130),\n",
              "             ('almost', 286),\n",
              "             ('all', 1872),\n",
              "             ('men', 130),\n",
              "             ('their', 390),\n",
              "             ('degree', 78),\n",
              "             ('other', 494),\n",
              "             ('cherish', 26),\n",
              "             ('very', 494),\n",
              "             ('nearly', 52),\n",
              "             ('same', 312),\n",
              "             ('feelings', 26),\n",
              "             ('towards', 260),\n",
              "             ('ocean', 52),\n",
              "             ('now', 1040),\n",
              "             ('your', 442),\n",
              "             ('insular', 26),\n",
              "             ('city', 104),\n",
              "             ('manhattoes', 26),\n",
              "             ('belted', 26),\n",
              "             ('round', 364),\n",
              "             ('by', 962),\n",
              "             ('wharves', 26),\n",
              "             ('indian', 52),\n",
              "             ('isles', 26),\n",
              "             ('coral', 26),\n",
              "             ('reefs', 26),\n",
              "             ('commerce', 26),\n",
              "             ('surrounds', 26),\n",
              "             ('her', 156),\n",
              "             ('surf', 26),\n",
              "             ('right', 156),\n",
              "             ('left', 78),\n",
              "             ('streets', 208),\n",
              "             ('you', 2158),\n",
              "             ('waterward', 52),\n",
              "             ('its', 156),\n",
              "             ('extreme', 26),\n",
              "             ('downtown', 26),\n",
              "             ('battery', 52),\n",
              "             ('where', 364),\n",
              "             ('noble', 52),\n",
              "             ('mole', 26),\n",
              "             ('washed', 52),\n",
              "             ('waves', 26),\n",
              "             ('cooled', 26),\n",
              "             ('breezes', 26),\n",
              "             ('which', 572),\n",
              "             ('few', 104),\n",
              "             ('hours', 130),\n",
              "             ('previous', 104),\n",
              "             ('were', 962),\n",
              "             ('out', 956),\n",
              "             ('sight', 104),\n",
              "             ('land', 208),\n",
              "             ('look', 156),\n",
              "             ('at', 2184),\n",
              "             ('crowds', 52),\n",
              "             ('water', 234),\n",
              "             ('gazers', 26),\n",
              "             ('circumambulate', 26),\n",
              "             ('dreamy', 26),\n",
              "             ('sabbath', 52),\n",
              "             ('afternoon', 52),\n",
              "             ('go', 494),\n",
              "             ('corlears', 26),\n",
              "             ('hook', 26),\n",
              "             ('coenties', 26),\n",
              "             ('slip', 26),\n",
              "             ('thence', 52),\n",
              "             ('whitehall', 26),\n",
              "             ('northward', 26),\n",
              "             ('what', 1118),\n",
              "             ('do', 702),\n",
              "             ('see?--posted', 26),\n",
              "             ('like', 732),\n",
              "             ('silent', 52),\n",
              "             ('sentinels', 26),\n",
              "             ('around', 78),\n",
              "             ('town', 156),\n",
              "             ('stand', 182),\n",
              "             ('thousands', 52),\n",
              "             ('mortal', 26),\n",
              "             ('fixed', 78),\n",
              "             ('reveries', 52),\n",
              "             ('leaning', 52),\n",
              "             ('against', 234),\n",
              "             ('spiles', 26),\n",
              "             ('seated', 52),\n",
              "             ('pier', 26),\n",
              "             ('heads', 338),\n",
              "             ('looking', 312),\n",
              "             ('over', 702),\n",
              "             ('bulwarks', 52),\n",
              "             ('ships', 78),\n",
              "             ('china', 26),\n",
              "             ('aloft', 52),\n",
              "             ('rigging', 26),\n",
              "             ('striving', 26),\n",
              "             ('still', 364),\n",
              "             ('better', 208),\n",
              "             ('seaward', 26),\n",
              "             ('peep', 26),\n",
              "             ('these', 494),\n",
              "             ('are', 416),\n",
              "             ('landsmen', 26),\n",
              "             ('week', 52),\n",
              "             ('days', 104),\n",
              "             ('pent', 26),\n",
              "             ('lath', 26),\n",
              "             ('plaster', 52),\n",
              "             ('tied', 26),\n",
              "             ('counters', 26),\n",
              "             ('nailed', 26),\n",
              "             ('benches', 26),\n",
              "             ('clinched', 26),\n",
              "             ('desks', 26),\n",
              "             ('green', 130),\n",
              "             ('fields', 26),\n",
              "             ('gone', 52),\n",
              "             ('here', 598),\n",
              "             ('come', 338),\n",
              "             ('more', 494),\n",
              "             ('pacing', 26),\n",
              "             ('straight', 104),\n",
              "             ('seemingly', 26),\n",
              "             ('bound', 52),\n",
              "             ('dive', 26),\n",
              "             ('strange', 182),\n",
              "             ('will', 260),\n",
              "             ('content', 52),\n",
              "             ('them', 442),\n",
              "             ('extremest', 26),\n",
              "             ('limit', 26),\n",
              "             ('loitering', 26),\n",
              "             ('under', 260),\n",
              "             ('shady', 26),\n",
              "             ('lee', 26),\n",
              "             ('yonder', 52),\n",
              "             ('not', 1534),\n",
              "             ('suffice', 26),\n",
              "             ('must', 442),\n",
              "             ('just', 390),\n",
              "             ('nigh', 104),\n",
              "             ('possibly', 26),\n",
              "             ('without', 182),\n",
              "             ('falling', 52),\n",
              "             ('miles', 78),\n",
              "             ('leagues', 26),\n",
              "             ('inlanders', 26),\n",
              "             ('lanes', 26),\n",
              "             ('alleys', 26),\n",
              "             ('avenues', 26),\n",
              "             ('north', 52),\n",
              "             ('east', 26),\n",
              "             ('south', 156),\n",
              "             ('west', 26),\n",
              "             ('yet', 416),\n",
              "             ('unite', 26),\n",
              "             ('tell', 442),\n",
              "             ('does', 156),\n",
              "             ('magnetic', 26),\n",
              "             ('virtue', 26),\n",
              "             ('needles', 26),\n",
              "             ('compasses', 26),\n",
              "             ('those', 234),\n",
              "             ('attract', 26),\n",
              "             ('thither', 26),\n",
              "             ('once', 208),\n",
              "             ('say', 286),\n",
              "             ('country', 78),\n",
              "             ('lakes', 26),\n",
              "             ('any', 364),\n",
              "             ('path', 26),\n",
              "             ('please', 52),\n",
              "             ('ten', 52),\n",
              "             ('one', 1300),\n",
              "             ('carries', 26),\n",
              "             ('down', 468),\n",
              "             ('dale', 26),\n",
              "             ('leaves', 52),\n",
              "             ('pool', 26),\n",
              "             ('stream', 78),\n",
              "             ('magic', 52),\n",
              "             ('let', 156),\n",
              "             ('most', 468),\n",
              "             ('absent', 26),\n",
              "             ('minded', 26),\n",
              "             ('be', 1716),\n",
              "             ('plunged', 52),\n",
              "             ('deepest', 26),\n",
              "             ('man', 572),\n",
              "             ('legs', 104),\n",
              "             ('set', 156),\n",
              "             ('feet', 182),\n",
              "             ('going', 260),\n",
              "             ('he', 3247),\n",
              "             ('infallibly', 26),\n",
              "             ('lead', 78),\n",
              "             ('region', 26),\n",
              "             ('should', 286),\n",
              "             ('ever', 338),\n",
              "             ('athirst', 26),\n",
              "             ('great', 376),\n",
              "             ('american', 78),\n",
              "             ('desert', 26),\n",
              "             ('try', 104),\n",
              "             ('experiment', 26),\n",
              "             ('caravan', 26),\n",
              "             ('happen', 26),\n",
              "             ('supplied', 26),\n",
              "             ('metaphysical', 52),\n",
              "             ('professor', 26),\n",
              "             ('yes', 104),\n",
              "             ('knows', 26),\n",
              "             ('meditation', 26),\n",
              "             ('wedded', 26),\n",
              "             ('artist', 78),\n",
              "             ('desires', 26),\n",
              "             ('paint', 26),\n",
              "             ('dreamiest', 26),\n",
              "             ('shadiest', 26),\n",
              "             ('quietest', 26),\n",
              "             ('enchanting', 26),\n",
              "             ('bit', 130),\n",
              "             ('romantic', 26),\n",
              "             ('landscape', 26),\n",
              "             ('valley', 26),\n",
              "             ('saco', 26),\n",
              "             ('chief', 52),\n",
              "             ('element', 26),\n",
              "             ('employs', 26),\n",
              "             ('trees', 26),\n",
              "             ('each', 78),\n",
              "             ('hollow', 26),\n",
              "             ('trunk', 52),\n",
              "             ('hermit', 26),\n",
              "             ('crucifix', 26),\n",
              "             ('within', 130),\n",
              "             ('sleeps', 26),\n",
              "             ('meadow', 52),\n",
              "             ('sleep', 416),\n",
              "             ('cattle', 26),\n",
              "             ('cottage', 26),\n",
              "             ('goes', 78),\n",
              "             ('sleepy', 26),\n",
              "             ('smoke', 52),\n",
              "             ('deep', 78),\n",
              "             ('distant', 78),\n",
              "             ('woodlands', 26),\n",
              "             ('winds', 78),\n",
              "             ('mazy', 26),\n",
              "             ('reaching', 52),\n",
              "             ('overlapping', 26),\n",
              "             ('spurs', 26),\n",
              "             ('mountains', 26),\n",
              "             ('bathed', 26),\n",
              "             ('hill', 52),\n",
              "             ('side', 286),\n",
              "             ('blue', 78),\n",
              "             ('though', 494),\n",
              "             ('picture', 130),\n",
              "             ('lies', 26),\n",
              "             ('thus', 52),\n",
              "             ('tranced', 26),\n",
              "             ('pine', 52),\n",
              "             ('tree', 26),\n",
              "             ('shakes', 26),\n",
              "             ('sighs', 52),\n",
              "             ('shepherd', 52),\n",
              "             ('head', 598),\n",
              "             ('vain', 26),\n",
              "             ('unless', 104),\n",
              "             ('eye', 26),\n",
              "             ('him', 1092),\n",
              "             ('visit', 26),\n",
              "             ('prairies', 26),\n",
              "             ('june', 52),\n",
              "             ('when', 650),\n",
              "             ('scores', 52),\n",
              "             ('wade', 26),\n",
              "             ('knee', 26),\n",
              "             ('among', 78),\n",
              "             ('tiger', 26),\n",
              "             ('lilies', 26),\n",
              "             ('charm', 26),\n",
              "             ('wanting?--water', 26),\n",
              "             ('drop', 26),\n",
              "             ('niagara', 26),\n",
              "             ('cataract', 26),\n",
              "             ('sand', 26),\n",
              "             ('travel', 26),\n",
              "             ('thousand', 52),\n",
              "             ('why', 286),\n",
              "             ('did', 572),\n",
              "             ('poor', 104),\n",
              "             ('poet', 26),\n",
              "             ('tennessee', 26),\n",
              "             ('suddenly', 78),\n",
              "             ('receiving', 26),\n",
              "             ('two', 338),\n",
              "             ('handfuls', 26),\n",
              "             ('silver', 26),\n",
              "             ('deliberate', 26),\n",
              "             ('whether', 182),\n",
              "             ('buy', 26),\n",
              "             ('coat', 104),\n",
              "             ('sadly', 52),\n",
              "             ('needed', 26),\n",
              "             ('invest', 26),\n",
              "             ('pedestrian', 26),\n",
              "             ('trip', 26),\n",
              "             ('rockaway', 26),\n",
              "             ('beach', 26),\n",
              "             ('robust', 52),\n",
              "             ('healthy', 52),\n",
              "             ('boy', 52),\n",
              "             ('crazy', 52),\n",
              "             ('first', 494),\n",
              "             ('voyage', 208),\n",
              "             ('passenger', 104),\n",
              "             ('yourself', 156),\n",
              "             ('feel', 78),\n",
              "             ('mystical', 26),\n",
              "             ('vibration', 26),\n",
              "             ('told', 130),\n",
              "             ('old', 754),\n",
              "             ('persians', 26),\n",
              "             ('hold', 52),\n",
              "             ('holy', 52),\n",
              "             ('greeks', 26),\n",
              "             ('give', 208),\n",
              "             ('separate', 26),\n",
              "             ('deity', 26),\n",
              "             ('own', 286),\n",
              "             ('brother', 52),\n",
              "             ('jove', 26),\n",
              "             ('surely', 26),\n",
              "             ('meaning', 78),\n",
              "             ('deeper', 26),\n",
              "             ('story', 130),\n",
              "             ('narcissus', 26),\n",
              "             ('who', 416),\n",
              "             ('because', 182),\n",
              "             ('could', 650),\n",
              "             ('grasp', 26),\n",
              "             ('tormenting', 26),\n",
              "             ('mild', 26),\n",
              "             ('image', 156),\n",
              "             ('saw', 156),\n",
              "             ('fountain', 26),\n",
              "             ('was', 2886),\n",
              "             ('drowned', 26),\n",
              "             ('we', 286),\n",
              "             ('ourselves', 52),\n",
              "             ('rivers', 26),\n",
              "             ('oceans', 26),\n",
              "             ('ungraspable', 26),\n",
              "             ('phantom', 78),\n",
              "             ('life', 78),\n",
              "             ('key', 26),\n",
              "             ('am', 156),\n",
              "             ('habit', 26),\n",
              "             ('begin', 52),\n",
              "             ('grow', 52),\n",
              "             ('hazy', 26),\n",
              "             ('eyes', 182),\n",
              "             ('conscious', 26),\n",
              "             ('lungs', 26),\n",
              "             ('mean', 130),\n",
              "             ('inferred', 52),\n",
              "             ('needs', 52),\n",
              "             ('rag', 26),\n",
              "             ('something', 312),\n",
              "             ('besides', 156),\n",
              "             ('passengers', 78),\n",
              "             ('sick', 26),\n",
              "             ('quarrelsome', 26),\n",
              "             (\"don't\", 52),\n",
              "             ('nights', 26),\n",
              "             ('enjoy', 26),\n",
              "             ('themselves', 52),\n",
              "             ('much', 442),\n",
              "             ('general', 26),\n",
              "             ('thing;--no', 26),\n",
              "             ('nor', 78),\n",
              "             ('salt', 26),\n",
              "             ('commodore', 52),\n",
              "             ('captain', 52),\n",
              "             ('cook', 52),\n",
              "             ('abandon', 26),\n",
              "             ('glory', 52),\n",
              "             ('distinction', 26),\n",
              "             ('offices', 26),\n",
              "             ('abominate', 26),\n",
              "             ('honourable', 26),\n",
              "             ('respectable', 26),\n",
              "             ('toils', 26),\n",
              "             ('trials', 26),\n",
              "             ('tribulations', 26),\n",
              "             ('kind', 78),\n",
              "             ('whatsoever', 52),\n",
              "             ('quite', 78),\n",
              "             ('care', 78),\n",
              "             ('taking', 104),\n",
              "             ('barques', 26),\n",
              "             ('brigs', 26),\n",
              "             ('schooners', 26),\n",
              "             ('cook,--though', 26),\n",
              "             ('confess', 52),\n",
              "             ('considerable', 26),\n",
              "             ('being', 390),\n",
              "             ('sort', 494),\n",
              "             ('officer', 52),\n",
              "             ('board', 78),\n",
              "             ('somehow', 78),\n",
              "             ('fancied', 26),\n",
              "             ('broiling', 26),\n",
              "             ('fowls;--though', 26),\n",
              "             ('broiled', 78),\n",
              "             ('judiciously', 26),\n",
              "             ('buttered', 26),\n",
              "             ('judgmatically', 26),\n",
              "             ('salted', 26),\n",
              "             ('peppered', 26),\n",
              "             ('speak', 130),\n",
              "             ('respectfully', 52),\n",
              "             ('reverentially', 26),\n",
              "             ('fowl', 26),\n",
              "             ('than', 390),\n",
              "             ('idolatrous', 26),\n",
              "             ('dotings', 26),\n",
              "             ('egyptians', 26),\n",
              "             ('ibis', 26),\n",
              "             ('roasted', 26),\n",
              "             ('river', 26),\n",
              "             ('horse', 52),\n",
              "             ('mummies', 26),\n",
              "             ('creatures', 26),\n",
              "             ('huge', 52),\n",
              "             ('bake', 26),\n",
              "             ('houses', 52),\n",
              "             ('pyramids', 26),\n",
              "             ('simple', 26),\n",
              "             ('sailor', 156),\n",
              "             ('mast', 78),\n",
              "             ('plumb', 26),\n",
              "             ('forecastle', 52),\n",
              "             ('royal', 26),\n",
              "             ('true', 104),\n",
              "             ('rather', 208),\n",
              "             ('order', 130),\n",
              "             ('make', 260),\n",
              "             ('jump', 52),\n",
              "             ('spar', 52),\n",
              "             ('grasshopper', 26),\n",
              "             ('may', 312),\n",
              "             ('thing', 104),\n",
              "             ('unpleasant', 26),\n",
              "             ('enough', 338),\n",
              "             ('touches', 26),\n",
              "             ('sense', 78),\n",
              "             ('honour', 26),\n",
              "             ('particularly', 52),\n",
              "             ('established', 26),\n",
              "             ('family', 26),\n",
              "             ('van', 26),\n",
              "             ('rensselaers', 26),\n",
              "             ('randolphs', 26),\n",
              "             ('hardicanutes', 26),\n",
              "             ('putting', 52),\n",
              "             ('tar', 52),\n",
              "             ('pot', 26),\n",
              "             ('been', 468),\n",
              "             ('lording', 26),\n",
              "             ('schoolmaster', 52),\n",
              "             ('making', 130),\n",
              "             ('tallest', 26),\n",
              "             ('boys', 52),\n",
              "             ('awe', 26),\n",
              "             ('transition', 52),\n",
              "             ('keen', 26),\n",
              "             ('assure', 26),\n",
              "             ('decoction', 26),\n",
              "             ('seneca', 26),\n",
              "             ('stoics', 26),\n",
              "             ('enable', 26),\n",
              "             ('grin', 52),\n",
              "             ('bear', 52),\n",
              "             ('even', 130),\n",
              "             ('wears', 26),\n",
              "             ('hunks', 52),\n",
              "             ('orders', 26),\n",
              "             ('broom', 26),\n",
              "             ('sweep', 52),\n",
              "             ('decks', 26),\n",
              "             ('indignity', 26),\n",
              "             ('amount', 26),\n",
              "             ('weighed', 52),\n",
              "             ('scales', 26),\n",
              "             ('new', 286),\n",
              "             ('testament', 26),\n",
              "             ('think', 182),\n",
              "             ('archangel', 26),\n",
              "             ('gabriel', 26),\n",
              "             ('thinks', 182),\n",
              "             ('anything', 52),\n",
              "             ('less', 52),\n",
              "             ('promptly', 26),\n",
              "             ('obey', 26),\n",
              "             ('instance', 26),\n",
              "             ('ai', 104),\n",
              "             (\"n't\", 624),\n",
              "             ('slave', 26),\n",
              "             ('well', 208),\n",
              "             ('however', 208),\n",
              "             ('captains', 26),\n",
              "             ('thump', 52),\n",
              "             ('punch', 26),\n",
              "             ('satisfaction', 26),\n",
              "             ('knowing', 78),\n",
              "             ('everybody', 26),\n",
              "             ('else', 208),\n",
              "             ('served', 26),\n",
              "             ('either', 78),\n",
              "             ('physical', 26),\n",
              "             ('point', 52),\n",
              "             ('view', 52),\n",
              "             ('so', 1066),\n",
              "             ('universal', 26),\n",
              "             ('passed', 78),\n",
              "             ('hands', 78),\n",
              "             ('rub', 26),\n",
              "             ('shoulder', 26),\n",
              "             ('blades', 26),\n",
              "             ('again', 286),\n",
              "             ('always', 104),\n",
              "             ('paying', 78),\n",
              "             ('trouble', 26),\n",
              "             ('whereas', 26),\n",
              "             ('pay', 78),\n",
              "             ('single', 52),\n",
              "             ('penny', 78),\n",
              "             ('heard', 208),\n",
              "             ('contrary', 26),\n",
              "             ('difference', 52),\n",
              "             ('between', 234),\n",
              "             ('paid', 26),\n",
              "             ('act', 52),\n",
              "             ('perhaps', 130),\n",
              "             ('uncomfortable', 52),\n",
              "             ('infliction', 26),\n",
              "             ('orchard', 26),\n",
              "             ('thieves', 26),\n",
              "             ('entailed', 26),\n",
              "             ('us', 104),\n",
              "             ('paid,--what', 26),\n",
              "             ('compare', 52),\n",
              "             ('urbane', 26),\n",
              "             ('activity', 26),\n",
              "             ('receives', 26),\n",
              "             ('really', 104),\n",
              "             ('marvellous', 104),\n",
              "             ('considering', 26),\n",
              "             ('earnestly', 26),\n",
              "             ('believe', 26),\n",
              "             ('root', 26),\n",
              "             ('earthly', 52),\n",
              "             ('ills', 26),\n",
              "             ('monied', 26),\n",
              "             ('enter', 52),\n",
              "             ('heaven', 104),\n",
              "             ('ah', 26),\n",
              "             ('cheerfully', 26),\n",
              "             ('consign', 26),\n",
              "             ('perdition', 26),\n",
              "             ('finally', 26),\n",
              "             ('wholesome', 26),\n",
              "             ('exercise', 26),\n",
              "             ('pure', 26),\n",
              "             ('air', 104),\n",
              "             ('fore', 26),\n",
              "             ('castle', 26),\n",
              "             ('deck', 52),\n",
              "             ('far', 104),\n",
              "             ('prevalent', 26),\n",
              "             ('astern', 26),\n",
              "             ('violate', 26),\n",
              "             ('pythagorean', 26),\n",
              "             ('maxim', 26),\n",
              "             ('quarter', 52),\n",
              "             ('gets', 26),\n",
              "             ('atmosphere', 26),\n",
              "             ('second', 104),\n",
              "             ('sailors', 78),\n",
              "             ('breathes', 26),\n",
              "             ('commonalty', 26),\n",
              "             ('leaders', 52),\n",
              "             ('many', 104),\n",
              "             ('things', 130),\n",
              "             ('suspect', 26),\n",
              "             ('wherefore', 26),\n",
              "             ('after', 234),\n",
              "             ('repeatedly', 26),\n",
              "             ('smelt', 52),\n",
              "             ('merchant', 26),\n",
              "             ('whaling', 234),\n",
              "             ('invisible', 26),\n",
              "             ('police', 26),\n",
              "             ('fates', 52),\n",
              "             ('has', 104),\n",
              "             ('constant', 26),\n",
              "             ('surveillance', 26),\n",
              "             ('secretly', 26),\n",
              "             ('dogs', 26),\n",
              "             ('influences', 26),\n",
              "             ('unaccountable', 104),\n",
              "             ('answer', 130),\n",
              "             ('doubtless', 52),\n",
              "             ('formed', 52),\n",
              "             ('grand', 104),\n",
              "             ('programme', 26),\n",
              "             ('providence', 26),\n",
              "             ('drawn', 26),\n",
              "             ('came', 286),\n",
              "             ('brief', 26),\n",
              "             ('interlude', 26),\n",
              "             ('solo', 26),\n",
              "             ('extensive', 26),\n",
              "             ('performances', 26),\n",
              "             ('bill', 26),\n",
              "             ('run', 52),\n",
              "             ('contested', 26),\n",
              "             ('election', 26),\n",
              "             ('presidency', 26),\n",
              "             ('united', 26),\n",
              "             ('states', 26),\n",
              "             ('bloody', 26),\n",
              "             ('battle', 26),\n",
              "             ('affghanistan', 26),\n",
              "             ('exactly', 78),\n",
              "             ('stage', 52),\n",
              "             ('managers', 26),\n",
              "             ('put', 208),\n",
              "             ('shabby', 52),\n",
              "             ('others', 52),\n",
              "             ('magnificent', 26),\n",
              "             ('parts', 130),\n",
              "             ('tragedies', 26),\n",
              "             ('short', 78),\n",
              "             ('easy', 78),\n",
              "             ('genteel', 26),\n",
              "             ('comedies', 26),\n",
              "             ('jolly', 104),\n",
              "             ('farces', 26),\n",
              "             ('recall', 26),\n",
              "             ('circumstances', 52),\n",
              "             ('springs', 26),\n",
              "             ('motives', 52),\n",
              "             ('cunningly', 26),\n",
              "             ('presented', 26),\n",
              "             ('various', 52),\n",
              "             ('disguises', 26),\n",
              "             ('induced', 26),\n",
              "             ('performing', 26),\n",
              "             ('cajoling', 26),\n",
              "             ('delusion', 26),\n",
              "             ('choice', 26),\n",
              "             ('resulting', 26),\n",
              "             ('unbiased', 26),\n",
              "             ('freewill', 26),\n",
              "             ('discriminating', 26),\n",
              "             ('judgment', 26),\n",
              "             ('overwhelming', 26),\n",
              "             ('idea', 182),\n",
              "             ('whale', 260),\n",
              "             ('portentous', 78),\n",
              "             ('mysterious', 52),\n",
              "             ('monster', 26),\n",
              "             ('roused', 26),\n",
              "             ('curiosity', 52),\n",
              "             ('wild', 130),\n",
              "             ('seas', 156),\n",
              "             ('rolled', 156),\n",
              "             ('island', 78),\n",
              "             ('bulk', 26),\n",
              "             ('undeliverable', 26),\n",
              "             ('nameless', 78),\n",
              "             ('perils', 26),\n",
              "             ('attending', 26),\n",
              "             ('marvels', 26),\n",
              "             ('patagonian', 26),\n",
              "             ('sights', 26),\n",
              "             ('sounds', 78),\n",
              "             ('helped', 26),\n",
              "             ('sway', 26),\n",
              "             ('wish', 26),\n",
              "             ('inducements', 26),\n",
              "             ('tormented', 52),\n",
              "             ('everlasting', 52),\n",
              "             ('itch', 26),\n",
              "             ('remote', 26),\n",
              "             ('love', 26),\n",
              "             ('forbidden', 26),\n",
              "             ('barbarous', 26),\n",
              "             ('coasts', 26),\n",
              "             ('ignoring', 26),\n",
              "             ('good', 442),\n",
              "             ('quick', 26),\n",
              "             ('perceive', 26),\n",
              "             ('horror', 26),\n",
              "             ('social', 26),\n",
              "             ('since', 78),\n",
              "             ('friendly', 26),\n",
              "             ('terms', 26),\n",
              "             ('inmates', 26),\n",
              "             ('place', 390),\n",
              "             ('lodges', 26),\n",
              "             ('reason', 130),\n",
              "             ('welcome', 26),\n",
              "             ('flood', 26),\n",
              "             ('gates', 26),\n",
              "             ('wonder', 52),\n",
              "             ('swung', 26),\n",
              "             ('open', 104),\n",
              "             ('conceits', 26),\n",
              "             ('swayed', 26),\n",
              "             ('purpose', 52),\n",
              "             ('floated', 52),\n",
              "             ('inmost', 26),\n",
              "             ('endless', 26),\n",
              "             ('processions', 26),\n",
              "             ('mid', 26),\n",
              "             ('hooded', 26),\n",
              "             ('snow', 78),\n",
              "             ('stuffed', 52),\n",
              "             ('shirt', 104),\n",
              "             ('carpet', 26),\n",
              "             ('bag', 182),\n",
              "             ('tucked', 26),\n",
              "             ('arm', 286),\n",
              "             ('started', 26),\n",
              "             ('cape', 104),\n",
              "             ('horn', 52),\n",
              "             ('pacific', 26),\n",
              "             ('quitting', 26),\n",
              "             ('manhatto', 26),\n",
              "             ('duly', 26),\n",
              "             ('arrived', 52),\n",
              "             ('bedford', 104),\n",
              "             ('saturday', 78),\n",
              "             ('night', 624),\n",
              "             ('december', 26),\n",
              "             ('disappointed', 26),\n",
              "             ('learning', 26),\n",
              "             ('packet', 26),\n",
              "             ('nantucket', 182),\n",
              "             ('had', 858),\n",
              "             ('already', 26),\n",
              "             ('sailed', 26),\n",
              "             ('offer', 52),\n",
              "             ('till', 156),\n",
              "             ('following', 52),\n",
              "             ('monday', 26),\n",
              "             ('young', 130),\n",
              "             ('candidates', 26),\n",
              "             ('pains', 26),\n",
              "             ('penalties', 26),\n",
              "             ('stop', 208),\n",
              "             ('embark', 52),\n",
              "             ('related', 26),\n",
              "             ('doing', 26),\n",
              "             ('made', 338),\n",
              "             ('craft', 130),\n",
              "             ('fine', 104),\n",
              "             ('boisterous', 26),\n",
              "             ('everything', 26),\n",
              "             ('connected', 26),\n",
              "             ('famous', 26),\n",
              "             ('amazingly', 26),\n",
              "             ('pleased', 52),\n",
              "             ('late', 182),\n",
              "             ('gradually', 26),\n",
              "             ('monopolising', 26),\n",
              "             ('business', 130),\n",
              "             ('matter', 78),\n",
              "             ('behind', 26),\n",
              "             ('original', 52),\n",
              "             ('tyre', 26),\n",
              "             ('carthage;--the', 26),\n",
              "             ('dead', 130),\n",
              "             ('stranded', 52),\n",
              "             ('aboriginal', 26),\n",
              "             ('whalemen', 26),\n",
              "             ('red', 78),\n",
              "             ('sally', 26),\n",
              "             ('canoes', 26),\n",
              "             ('chase', 26),\n",
              "             ('leviathan', 52),\n",
              "             ('too', 364),\n",
              "             ('adventurous', 26),\n",
              "             ('sloop', 26),\n",
              "             ('forth', 26),\n",
              "             ('partly', 78),\n",
              "             ('laden', 26),\n",
              "             ('imported', 26),\n",
              "             ('cobblestones', 26),\n",
              "             ('throw', 26),\n",
              "             ('whales', 52),\n",
              "             ('discover', 26),\n",
              "             ('risk', 26),\n",
              "             ('harpoon', 135),\n",
              "             ('bowsprit', 26),\n",
              "             ('day', 156),\n",
              "             ('another', 130),\n",
              "             ('ere', 78),\n",
              "             ('destined', 26),\n",
              "             ('port', 26),\n",
              "             ('became', 78),\n",
              "             ('concernment', 26),\n",
              "             ('eat', 26),\n",
              "             ('meanwhile', 78),\n",
              "             ('dubious', 26),\n",
              "             ('nay', 52),\n",
              "             ('dark', 208),\n",
              "             ('dismal', 52),\n",
              "             ('bitingly', 26),\n",
              "             ('cold', 182),\n",
              "             ('cheerless', 26),\n",
              "             ('anxious', 26),\n",
              "             ('grapnels', 26),\n",
              "             ('sounded', 26),\n",
              "             ('pocket', 78),\n",
              "             ('only', 364),\n",
              "             ('brought', 26),\n",
              "             ('pieces', 26),\n",
              "             ('silver,--so', 26),\n",
              "             ('wherever', 52),\n",
              "             ('said', 494),\n",
              "             ('stood', 260),\n",
              "             ('middle', 130),\n",
              "             ('dreary', 52),\n",
              "             ('shouldering', 26),\n",
              "             ('comparing', 26),\n",
              "             ('gloom', 26),\n",
              "             ('darkness', 78),\n",
              "             ('wisdom', 26),\n",
              "             ('conclude', 26),\n",
              "             ('lodge', 26),\n",
              "             ('dear', 26),\n",
              "             ('sure', 130),\n",
              "             ('inquire', 26),\n",
              "             ('price', 26),\n",
              "             ('halting', 26),\n",
              "             ('steps', 26),\n",
              "             ('paced', 26),\n",
              "             ('sign', 156),\n",
              "             ('crossed', 52),\n",
              "             ('harpoons\"--but', 26),\n",
              "             ('looked', 156),\n",
              "             ('expensive', 52),\n",
              "             ('further', 104),\n",
              "             ('bright', 52),\n",
              "             ('windows', 52),\n",
              "             ('fish', 78),\n",
              "             ('inn', 78),\n",
              "             ('fervent', 26),\n",
              "             ('rays', 26),\n",
              "             ('seemed', 416),\n",
              "             ('melted', 26),\n",
              "             ('packed', 52),\n",
              "             ('ice', 104),\n",
              "             ('house', 286),\n",
              "             ('everywhere', 26),\n",
              "             ('congealed', 26),\n",
              "             ('frost', 104),\n",
              "             ('lay', 234),\n",
              "             ('inches', 52),\n",
              "             ('thick', 52),\n",
              "             ...])"
            ]
          },
          "metadata": {},
          "execution_count": 73
        }
      ],
      "source": [
        "# we can get the word counts\n",
        "tokenizer.word_counts"
      ]
    },
    {
      "cell_type": "code",
      "execution_count": null,
      "metadata": {
        "colab": {
          "base_uri": "https://localhost:8080/"
        },
        "id": "PQcVqTGmFKfL",
        "outputId": "8b1111f7-6e7b-4458-d533-34f274aead75"
      },
      "outputs": [
        {
          "output_type": "execute_result",
          "data": {
            "text/plain": [
              "2718"
            ]
          },
          "metadata": {},
          "execution_count": 74
        }
      ],
      "source": [
        "# The size of our vocabulary\n",
        "vocab_size = len(tokenizer.word_counts)\n",
        "vocab_size"
      ]
    },
    {
      "cell_type": "code",
      "execution_count": null,
      "metadata": {
        "colab": {
          "base_uri": "https://localhost:8080/"
        },
        "id": "Pr-2LYIaFXc9",
        "outputId": "aa4207ac-8f1f-4c37-9ae4-aedbdb36335e"
      },
      "outputs": [
        {
          "output_type": "execute_result",
          "data": {
            "text/plain": [
              "array([[ 956,   14,  263, ..., 2713,   14,   24],\n",
              "       [  14,  263,   51, ...,   14,   24,  957],\n",
              "       [ 263,   51,  261, ...,   24,  957,    5],\n",
              "       ...,\n",
              "       [ 952,   12,  166, ...,  262,   53,    2],\n",
              "       [  12,  166, 2712, ...,   53,    2, 2718],\n",
              "       [ 166, 2712,    3, ...,    2, 2718,   26]])"
            ]
          },
          "metadata": {},
          "execution_count": 75
        }
      ],
      "source": [
        "# Formatting our data with numpy\n",
        "import numpy as np\n",
        "\n",
        "sequences = np.array(sequences)\n",
        "sequences"
      ]
    },
    {
      "cell_type": "code",
      "execution_count": null,
      "metadata": {
        "colab": {
          "base_uri": "https://localhost:8080/"
        },
        "id": "kBjeLM09G7UZ",
        "outputId": "e1448876-d752-4dfc-8188-e341be13506d"
      },
      "outputs": [
        {
          "output_type": "execute_result",
          "data": {
            "text/plain": [
              "array([[ 956,   14,  263, ...,    6, 2713,   14],\n",
              "       [  14,  263,   51, ..., 2713,   14,   24],\n",
              "       [ 263,   51,  261, ...,   14,   24,  957],\n",
              "       ...,\n",
              "       [ 952,   12,  166, ...,   11,  262,   53],\n",
              "       [  12,  166, 2712, ...,  262,   53,    2],\n",
              "       [ 166, 2712,    3, ...,   53,    2, 2718]])"
            ]
          },
          "metadata": {},
          "execution_count": 76
        }
      ],
      "source": [
        "# Now that we have the tokenized data, we need to split it into features and labels\n",
        "# For each row (sentence) the features will be the first 25 tokens, and the 26th will be the label\n",
        "X = sequences[:,:-1]\n",
        "X"
      ]
    },
    {
      "cell_type": "code",
      "execution_count": null,
      "metadata": {
        "colab": {
          "base_uri": "https://localhost:8080/"
        },
        "id": "iAN4o5gfqswx",
        "outputId": "df2a9ade-8a00-4dae-a32f-c97ce13a29f1"
      },
      "outputs": [
        {
          "output_type": "execute_result",
          "data": {
            "text/plain": [
              "array([  24,  957,    5, ...,    2, 2718,   26])"
            ]
          },
          "metadata": {},
          "execution_count": 77
        }
      ],
      "source": [
        "y = sequences[:,-1]\n",
        "y"
      ]
    },
    {
      "cell_type": "code",
      "execution_count": null,
      "metadata": {
        "id": "OWB6hS7wqyZu"
      },
      "outputs": [],
      "source": [
        "# Now we need to one-hot encode the labels\n",
        "from keras.utils import to_categorical\n",
        "# Number of classes will be the size of the vocabulary (all the words) + 1 padding for Keras\n",
        "# This +1 is to capture the length of the labels, since later we'll be using pad_sequences which uses a 0 as a placeholder for padding\n",
        "y = to_categorical(y, num_classes = vocab_size + 1)"
      ]
    },
    {
      "cell_type": "code",
      "execution_count": null,
      "metadata": {
        "colab": {
          "base_uri": "https://localhost:8080/"
        },
        "id": "iHHGUSrxrKNX",
        "outputId": "9cb7527e-fb77-414f-adc8-676108fc1577"
      },
      "outputs": [
        {
          "output_type": "execute_result",
          "data": {
            "text/plain": [
              "25"
            ]
          },
          "metadata": {},
          "execution_count": 79
        }
      ],
      "source": [
        "# Getting the length of the sequence\n",
        "seq_len = X.shape[1]\n",
        "seq_len"
      ]
    },
    {
      "cell_type": "code",
      "execution_count": null,
      "metadata": {
        "id": "SNoPRcwEsEcn"
      },
      "outputs": [],
      "source": [
        "# Creating the model\n",
        "from keras.models import Sequential\n",
        "from keras.layers import Dense, LSTM, Embedding\n",
        "\n",
        "def create_model(vocabulary_size, seq_len):\n",
        "  model = Sequential()\n",
        "\n",
        "  model.add(Embedding(input_dim = vocabulary_size,\n",
        "                      output_dim = seq_len,\n",
        "                      input_length = seq_len))\n",
        "  model.add(LSTM(units = 64,\n",
        "                 return_sequences = True))\n",
        "  model.add(LSTM(units = 64))\n",
        "  model.add(Dense(units = 64,\n",
        "                  activation = 'relu'))\n",
        "  model.add(Dense(units = vocabulary_size,\n",
        "                  activation = 'softmax'))\n",
        "\n",
        "  model.compile(loss = 'categorical_crossentropy',\n",
        "                optimizer = 'adam',\n",
        "                metrics = ['accuracy'])\n",
        "  model.summary()\n",
        "\n",
        "  return model"
      ]
    },
    {
      "cell_type": "code",
      "execution_count": null,
      "metadata": {
        "colab": {
          "base_uri": "https://localhost:8080/"
        },
        "id": "Oq0jnGV7tbds",
        "outputId": "22cfa9c3-2e84-42ee-d3be-ba0695d02749"
      },
      "outputs": [
        {
          "output_type": "stream",
          "name": "stdout",
          "text": [
            "Model: \"sequential_3\"\n",
            "_________________________________________________________________\n",
            " Layer (type)                Output Shape              Param #   \n",
            "=================================================================\n",
            " embedding_2 (Embedding)     (None, 25, 25)            67975     \n",
            "                                                                 \n",
            " lstm_4 (LSTM)               (None, 25, 64)            23040     \n",
            "                                                                 \n",
            " lstm_5 (LSTM)               (None, 64)                33024     \n",
            "                                                                 \n",
            " dense_7 (Dense)             (None, 64)                4160      \n",
            "                                                                 \n",
            " dense_8 (Dense)             (None, 2719)              176735    \n",
            "                                                                 \n",
            "=================================================================\n",
            "Total params: 304934 (1.16 MB)\n",
            "Trainable params: 304934 (1.16 MB)\n",
            "Non-trainable params: 0 (0.00 Byte)\n",
            "_________________________________________________________________\n"
          ]
        }
      ],
      "source": [
        "model = create_model(vocab_size+1, seq_len)"
      ]
    },
    {
      "cell_type": "code",
      "execution_count": null,
      "metadata": {
        "colab": {
          "base_uri": "https://localhost:8080/"
        },
        "id": "6bN7uoVwtjJy",
        "outputId": "76c7b82a-5147-46d2-8232-f557c0a3ed37"
      },
      "outputs": [
        {
          "output_type": "stream",
          "name": "stdout",
          "text": [
            "Epoch 1/300\n",
            "89/89 [==============================] - 10s 65ms/step - loss: 6.9120 - accuracy: 0.0381\n",
            "Epoch 2/300\n",
            "89/89 [==============================] - 6s 69ms/step - loss: 6.3809 - accuracy: 0.0529\n",
            "Epoch 3/300\n",
            "89/89 [==============================] - 6s 69ms/step - loss: 6.3448 - accuracy: 0.0529\n",
            "Epoch 4/300\n",
            "89/89 [==============================] - 5s 59ms/step - loss: 6.2623 - accuracy: 0.0529\n",
            "Epoch 5/300\n",
            "89/89 [==============================] - 6s 72ms/step - loss: 6.1586 - accuracy: 0.0529\n",
            "Epoch 6/300\n",
            "89/89 [==============================] - 6s 63ms/step - loss: 6.1011 - accuracy: 0.0530\n",
            "Epoch 7/300\n",
            "89/89 [==============================] - 7s 77ms/step - loss: 6.0618 - accuracy: 0.0554\n",
            "Epoch 8/300\n",
            "89/89 [==============================] - 5s 62ms/step - loss: 5.9953 - accuracy: 0.0598\n",
            "Epoch 9/300\n",
            "89/89 [==============================] - 7s 74ms/step - loss: 5.9157 - accuracy: 0.0644\n",
            "Epoch 10/300\n",
            "89/89 [==============================] - 5s 56ms/step - loss: 5.8394 - accuracy: 0.0676\n",
            "Epoch 11/300\n",
            "89/89 [==============================] - 6s 72ms/step - loss: 5.7755 - accuracy: 0.0685\n",
            "Epoch 12/300\n",
            "89/89 [==============================] - 5s 54ms/step - loss: 5.7037 - accuracy: 0.0704\n",
            "Epoch 13/300\n",
            "89/89 [==============================] - 6s 64ms/step - loss: 5.6382 - accuracy: 0.0732\n",
            "Epoch 14/300\n",
            "89/89 [==============================] - 6s 62ms/step - loss: 5.5827 - accuracy: 0.0744\n",
            "Epoch 15/300\n",
            "89/89 [==============================] - 5s 53ms/step - loss: 5.5336 - accuracy: 0.0772\n",
            "Epoch 16/300\n",
            "89/89 [==============================] - 6s 67ms/step - loss: 5.4974 - accuracy: 0.0751\n",
            "Epoch 17/300\n",
            "89/89 [==============================] - 5s 61ms/step - loss: 5.4573 - accuracy: 0.0779\n",
            "Epoch 18/300\n",
            "89/89 [==============================] - 6s 73ms/step - loss: 5.4229 - accuracy: 0.0788\n",
            "Epoch 19/300\n",
            "89/89 [==============================] - 5s 57ms/step - loss: 5.3913 - accuracy: 0.0778\n",
            "Epoch 20/300\n",
            "89/89 [==============================] - 6s 72ms/step - loss: 5.3588 - accuracy: 0.0791\n",
            "Epoch 21/300\n",
            "89/89 [==============================] - 5s 56ms/step - loss: 5.3326 - accuracy: 0.0812\n",
            "Epoch 22/300\n",
            "89/89 [==============================] - 5s 58ms/step - loss: 5.3010 - accuracy: 0.0821\n",
            "Epoch 23/300\n",
            "89/89 [==============================] - 6s 67ms/step - loss: 5.2698 - accuracy: 0.0839\n",
            "Epoch 24/300\n",
            "89/89 [==============================] - 5s 60ms/step - loss: 5.2334 - accuracy: 0.0827\n",
            "Epoch 25/300\n",
            "89/89 [==============================] - 6s 66ms/step - loss: 5.1954 - accuracy: 0.0832\n",
            "Epoch 26/300\n",
            "89/89 [==============================] - 5s 55ms/step - loss: 5.1570 - accuracy: 0.0849\n",
            "Epoch 27/300\n",
            "89/89 [==============================] - 6s 69ms/step - loss: 5.1146 - accuracy: 0.0859\n",
            "Epoch 28/300\n",
            "89/89 [==============================] - 6s 62ms/step - loss: 5.0715 - accuracy: 0.0883\n",
            "Epoch 29/300\n",
            "89/89 [==============================] - 7s 74ms/step - loss: 5.0292 - accuracy: 0.0887\n",
            "Epoch 30/300\n",
            "89/89 [==============================] - 5s 55ms/step - loss: 4.9911 - accuracy: 0.0897\n",
            "Epoch 31/300\n",
            "89/89 [==============================] - 6s 65ms/step - loss: 4.9541 - accuracy: 0.0918\n",
            "Epoch 32/300\n",
            "89/89 [==============================] - 6s 64ms/step - loss: 4.9166 - accuracy: 0.0944\n",
            "Epoch 33/300\n",
            "89/89 [==============================] - 6s 69ms/step - loss: 4.8777 - accuracy: 0.0949\n",
            "Epoch 34/300\n",
            "89/89 [==============================] - 6s 63ms/step - loss: 4.8437 - accuracy: 0.0986\n",
            "Epoch 35/300\n",
            "89/89 [==============================] - 7s 77ms/step - loss: 4.8340 - accuracy: 0.0973\n",
            "Epoch 36/300\n",
            "89/89 [==============================] - 6s 61ms/step - loss: 4.7715 - accuracy: 0.1017\n",
            "Epoch 37/300\n",
            "89/89 [==============================] - 6s 69ms/step - loss: 4.7247 - accuracy: 0.1031\n",
            "Epoch 38/300\n",
            "89/89 [==============================] - 6s 62ms/step - loss: 4.6827 - accuracy: 0.1052\n",
            "Epoch 39/300\n",
            "89/89 [==============================] - 5s 54ms/step - loss: 4.6403 - accuracy: 0.1084\n",
            "Epoch 40/300\n",
            "89/89 [==============================] - 6s 72ms/step - loss: 4.5979 - accuracy: 0.1089\n",
            "Epoch 41/300\n",
            "89/89 [==============================] - 6s 68ms/step - loss: 4.5550 - accuracy: 0.1134\n",
            "Epoch 42/300\n",
            "89/89 [==============================] - 7s 74ms/step - loss: 4.5121 - accuracy: 0.1175\n",
            "Epoch 43/300\n",
            "89/89 [==============================] - 5s 60ms/step - loss: 4.4711 - accuracy: 0.1203\n",
            "Epoch 44/300\n",
            "89/89 [==============================] - 7s 74ms/step - loss: 4.4377 - accuracy: 0.1210\n",
            "Epoch 45/300\n",
            "89/89 [==============================] - 6s 65ms/step - loss: 4.4003 - accuracy: 0.1259\n",
            "Epoch 46/300\n",
            "89/89 [==============================] - 7s 77ms/step - loss: 4.3561 - accuracy: 0.1267\n",
            "Epoch 47/300\n",
            "89/89 [==============================] - 5s 60ms/step - loss: 4.3160 - accuracy: 0.1271\n",
            "Epoch 48/300\n",
            "89/89 [==============================] - 7s 77ms/step - loss: 4.2811 - accuracy: 0.1338\n",
            "Epoch 49/300\n",
            "89/89 [==============================] - 5s 57ms/step - loss: 4.2454 - accuracy: 0.1376\n",
            "Epoch 50/300\n",
            "89/89 [==============================] - 7s 79ms/step - loss: 4.2048 - accuracy: 0.1406\n",
            "Epoch 51/300\n",
            "89/89 [==============================] - 6s 63ms/step - loss: 4.1674 - accuracy: 0.1406\n",
            "Epoch 52/300\n",
            "89/89 [==============================] - 7s 78ms/step - loss: 4.1316 - accuracy: 0.1437\n",
            "Epoch 53/300\n",
            "89/89 [==============================] - 6s 69ms/step - loss: 4.0976 - accuracy: 0.1501\n",
            "Epoch 54/300\n",
            "89/89 [==============================] - 7s 77ms/step - loss: 4.0649 - accuracy: 0.1508\n",
            "Epoch 55/300\n",
            "89/89 [==============================] - 6s 64ms/step - loss: 4.0243 - accuracy: 0.1573\n",
            "Epoch 56/300\n",
            "89/89 [==============================] - 6s 73ms/step - loss: 3.9991 - accuracy: 0.1604\n",
            "Epoch 57/300\n",
            "89/89 [==============================] - 5s 60ms/step - loss: 3.9599 - accuracy: 0.1641\n",
            "Epoch 58/300\n",
            "89/89 [==============================] - 6s 64ms/step - loss: 3.9302 - accuracy: 0.1681\n",
            "Epoch 59/300\n",
            "89/89 [==============================] - 6s 62ms/step - loss: 3.8985 - accuracy: 0.1690\n",
            "Epoch 60/300\n",
            "89/89 [==============================] - 5s 55ms/step - loss: 3.8634 - accuracy: 0.1721\n",
            "Epoch 61/300\n",
            "89/89 [==============================] - 6s 68ms/step - loss: 3.8419 - accuracy: 0.1757\n",
            "Epoch 62/300\n",
            "89/89 [==============================] - 5s 56ms/step - loss: 3.8115 - accuracy: 0.1779\n",
            "Epoch 63/300\n",
            "89/89 [==============================] - 6s 68ms/step - loss: 3.7750 - accuracy: 0.1846\n",
            "Epoch 64/300\n",
            "89/89 [==============================] - 5s 57ms/step - loss: 3.7296 - accuracy: 0.1901\n",
            "Epoch 65/300\n",
            "89/89 [==============================] - 6s 66ms/step - loss: 3.7084 - accuracy: 0.1955\n",
            "Epoch 66/300\n",
            "89/89 [==============================] - 5s 57ms/step - loss: 3.6801 - accuracy: 0.1952\n",
            "Epoch 67/300\n",
            "89/89 [==============================] - 7s 75ms/step - loss: 3.6446 - accuracy: 0.2004\n",
            "Epoch 68/300\n",
            "89/89 [==============================] - 6s 64ms/step - loss: 3.6171 - accuracy: 0.2045\n",
            "Epoch 69/300\n",
            "89/89 [==============================] - 5s 56ms/step - loss: 3.5917 - accuracy: 0.2046\n",
            "Epoch 70/300\n",
            "89/89 [==============================] - 6s 67ms/step - loss: 3.5574 - accuracy: 0.2122\n",
            "Epoch 71/300\n",
            "89/89 [==============================] - 6s 65ms/step - loss: 3.5287 - accuracy: 0.2208\n",
            "Epoch 72/300\n",
            "89/89 [==============================] - 6s 71ms/step - loss: 3.4991 - accuracy: 0.2203\n",
            "Epoch 73/300\n",
            "89/89 [==============================] - 5s 55ms/step - loss: 3.4749 - accuracy: 0.2274\n",
            "Epoch 74/300\n",
            "89/89 [==============================] - 7s 81ms/step - loss: 3.4433 - accuracy: 0.2329\n",
            "Epoch 75/300\n",
            "89/89 [==============================] - 5s 60ms/step - loss: 3.4160 - accuracy: 0.2337\n",
            "Epoch 76/300\n",
            "89/89 [==============================] - 6s 72ms/step - loss: 3.3880 - accuracy: 0.2401\n",
            "Epoch 77/300\n",
            "89/89 [==============================] - 5s 60ms/step - loss: 3.3691 - accuracy: 0.2418\n",
            "Epoch 78/300\n",
            "89/89 [==============================] - 7s 81ms/step - loss: 3.3406 - accuracy: 0.2447\n",
            "Epoch 79/300\n",
            "89/89 [==============================] - 5s 60ms/step - loss: 3.3105 - accuracy: 0.2521\n",
            "Epoch 80/300\n",
            "89/89 [==============================] - 6s 67ms/step - loss: 3.2869 - accuracy: 0.2539\n",
            "Epoch 81/300\n",
            "89/89 [==============================] - 5s 59ms/step - loss: 3.2620 - accuracy: 0.2564\n",
            "Epoch 82/300\n",
            "89/89 [==============================] - 5s 61ms/step - loss: 3.2332 - accuracy: 0.2651\n",
            "Epoch 83/300\n",
            "89/89 [==============================] - 6s 72ms/step - loss: 3.2065 - accuracy: 0.2680\n",
            "Epoch 84/300\n",
            "89/89 [==============================] - 6s 67ms/step - loss: 3.1887 - accuracy: 0.2697\n",
            "Epoch 85/300\n",
            "89/89 [==============================] - 6s 72ms/step - loss: 3.1664 - accuracy: 0.2792\n",
            "Epoch 86/300\n",
            "89/89 [==============================] - 5s 60ms/step - loss: 3.1339 - accuracy: 0.2793\n",
            "Epoch 87/300\n",
            "89/89 [==============================] - 6s 69ms/step - loss: 3.1122 - accuracy: 0.2866\n",
            "Epoch 88/300\n",
            "89/89 [==============================] - 6s 67ms/step - loss: 3.0874 - accuracy: 0.2893\n",
            "Epoch 89/300\n",
            "89/89 [==============================] - 7s 78ms/step - loss: 3.0721 - accuracy: 0.2938\n",
            "Epoch 90/300\n",
            "89/89 [==============================] - 6s 68ms/step - loss: 3.0418 - accuracy: 0.2976\n",
            "Epoch 91/300\n",
            "89/89 [==============================] - 7s 75ms/step - loss: 3.0236 - accuracy: 0.3013\n",
            "Epoch 92/300\n",
            "89/89 [==============================] - 5s 58ms/step - loss: 3.0048 - accuracy: 0.3025\n",
            "Epoch 93/300\n",
            "89/89 [==============================] - 6s 69ms/step - loss: 2.9835 - accuracy: 0.3087\n",
            "Epoch 94/300\n",
            "89/89 [==============================] - 5s 57ms/step - loss: 2.9611 - accuracy: 0.3112\n",
            "Epoch 95/300\n",
            "89/89 [==============================] - 6s 71ms/step - loss: 2.9404 - accuracy: 0.3088\n",
            "Epoch 96/300\n",
            "89/89 [==============================] - 5s 60ms/step - loss: 2.9170 - accuracy: 0.3191\n",
            "Epoch 97/300\n",
            "89/89 [==============================] - 6s 64ms/step - loss: 2.8894 - accuracy: 0.3249\n",
            "Epoch 98/300\n",
            "89/89 [==============================] - 6s 63ms/step - loss: 2.8728 - accuracy: 0.3293\n",
            "Epoch 99/300\n",
            "89/89 [==============================] - 5s 60ms/step - loss: 2.8564 - accuracy: 0.3327\n",
            "Epoch 100/300\n",
            "89/89 [==============================] - 7s 73ms/step - loss: 2.8362 - accuracy: 0.3333\n",
            "Epoch 101/300\n",
            "89/89 [==============================] - 5s 61ms/step - loss: 2.8124 - accuracy: 0.3431\n",
            "Epoch 102/300\n",
            "89/89 [==============================] - 6s 72ms/step - loss: 2.7949 - accuracy: 0.3440\n",
            "Epoch 103/300\n",
            "89/89 [==============================] - 5s 58ms/step - loss: 2.7726 - accuracy: 0.3485\n",
            "Epoch 104/300\n",
            "89/89 [==============================] - 6s 72ms/step - loss: 2.7569 - accuracy: 0.3513\n",
            "Epoch 105/300\n",
            "89/89 [==============================] - 5s 59ms/step - loss: 2.7365 - accuracy: 0.3526\n",
            "Epoch 106/300\n",
            "89/89 [==============================] - 6s 68ms/step - loss: 2.7163 - accuracy: 0.3567\n",
            "Epoch 107/300\n",
            "89/89 [==============================] - 5s 60ms/step - loss: 2.6991 - accuracy: 0.3625\n",
            "Epoch 108/300\n",
            "89/89 [==============================] - 7s 75ms/step - loss: 2.6795 - accuracy: 0.3668\n",
            "Epoch 109/300\n",
            "89/89 [==============================] - 5s 57ms/step - loss: 2.6631 - accuracy: 0.3676\n",
            "Epoch 110/300\n",
            "89/89 [==============================] - 7s 80ms/step - loss: 2.6433 - accuracy: 0.3747\n",
            "Epoch 111/300\n",
            "89/89 [==============================] - 6s 67ms/step - loss: 2.6234 - accuracy: 0.3753\n",
            "Epoch 112/300\n",
            "89/89 [==============================] - 7s 80ms/step - loss: 2.6202 - accuracy: 0.3712\n",
            "Epoch 113/300\n",
            "89/89 [==============================] - 6s 65ms/step - loss: 2.5874 - accuracy: 0.3831\n",
            "Epoch 114/300\n",
            "89/89 [==============================] - 7s 83ms/step - loss: 2.5698 - accuracy: 0.3891\n",
            "Epoch 115/300\n",
            "89/89 [==============================] - 6s 65ms/step - loss: 2.5602 - accuracy: 0.3894\n",
            "Epoch 116/300\n",
            "89/89 [==============================] - 7s 81ms/step - loss: 2.5442 - accuracy: 0.3961\n",
            "Epoch 117/300\n",
            "89/89 [==============================] - 6s 64ms/step - loss: 2.5255 - accuracy: 0.3950\n",
            "Epoch 118/300\n",
            "89/89 [==============================] - 7s 76ms/step - loss: 2.5040 - accuracy: 0.4008\n",
            "Epoch 119/300\n",
            "89/89 [==============================] - 6s 66ms/step - loss: 2.4877 - accuracy: 0.4025\n",
            "Epoch 120/300\n",
            "89/89 [==============================] - 7s 76ms/step - loss: 2.4806 - accuracy: 0.4043\n",
            "Epoch 121/300\n",
            "89/89 [==============================] - 6s 65ms/step - loss: 2.4585 - accuracy: 0.4025\n",
            "Epoch 122/300\n",
            "89/89 [==============================] - 7s 79ms/step - loss: 2.4395 - accuracy: 0.4124\n",
            "Epoch 123/300\n",
            "89/89 [==============================] - 6s 65ms/step - loss: 2.4248 - accuracy: 0.4156\n",
            "Epoch 124/300\n",
            "89/89 [==============================] - 8s 91ms/step - loss: 2.4065 - accuracy: 0.4188\n",
            "Epoch 125/300\n",
            "89/89 [==============================] - 6s 67ms/step - loss: 2.3961 - accuracy: 0.4201\n",
            "Epoch 126/300\n",
            "89/89 [==============================] - 8s 87ms/step - loss: 2.3764 - accuracy: 0.4247\n",
            "Epoch 127/300\n",
            "89/89 [==============================] - 5s 55ms/step - loss: 2.3657 - accuracy: 0.4288\n",
            "Epoch 128/300\n",
            "89/89 [==============================] - 6s 71ms/step - loss: 2.3420 - accuracy: 0.4325\n",
            "Epoch 129/300\n",
            "89/89 [==============================] - 6s 67ms/step - loss: 2.3250 - accuracy: 0.4363\n",
            "Epoch 130/300\n",
            "89/89 [==============================] - 6s 72ms/step - loss: 2.3164 - accuracy: 0.4423\n",
            "Epoch 131/300\n",
            "89/89 [==============================] - 6s 68ms/step - loss: 2.3011 - accuracy: 0.4424\n",
            "Epoch 132/300\n",
            "89/89 [==============================] - 7s 78ms/step - loss: 2.2904 - accuracy: 0.4433\n",
            "Epoch 133/300\n",
            "89/89 [==============================] - 6s 65ms/step - loss: 2.2744 - accuracy: 0.4477\n",
            "Epoch 134/300\n",
            "89/89 [==============================] - 7s 78ms/step - loss: 2.2672 - accuracy: 0.4469\n",
            "Epoch 135/300\n",
            "89/89 [==============================] - 6s 63ms/step - loss: 2.2442 - accuracy: 0.4527\n",
            "Epoch 136/300\n",
            "89/89 [==============================] - 7s 75ms/step - loss: 2.2273 - accuracy: 0.4569\n",
            "Epoch 137/300\n",
            "89/89 [==============================] - 5s 61ms/step - loss: 2.2114 - accuracy: 0.4653\n",
            "Epoch 138/300\n",
            "89/89 [==============================] - 7s 77ms/step - loss: 2.2054 - accuracy: 0.4584\n",
            "Epoch 139/300\n",
            "89/89 [==============================] - 6s 67ms/step - loss: 2.1910 - accuracy: 0.4637\n",
            "Epoch 140/300\n",
            "89/89 [==============================] - 7s 80ms/step - loss: 2.1805 - accuracy: 0.4670\n",
            "Epoch 141/300\n",
            "89/89 [==============================] - 6s 67ms/step - loss: 2.1612 - accuracy: 0.4724\n",
            "Epoch 142/300\n",
            "89/89 [==============================] - 6s 72ms/step - loss: 2.1502 - accuracy: 0.4764\n",
            "Epoch 143/300\n",
            "89/89 [==============================] - 6s 64ms/step - loss: 2.1306 - accuracy: 0.4836\n",
            "Epoch 144/300\n",
            "89/89 [==============================] - 7s 78ms/step - loss: 2.1170 - accuracy: 0.4834\n",
            "Epoch 145/300\n",
            "89/89 [==============================] - 5s 59ms/step - loss: 2.1063 - accuracy: 0.4809\n",
            "Epoch 146/300\n",
            "89/89 [==============================] - 7s 75ms/step - loss: 2.0933 - accuracy: 0.4866\n",
            "Epoch 147/300\n",
            "89/89 [==============================] - 6s 65ms/step - loss: 2.0825 - accuracy: 0.4897\n",
            "Epoch 148/300\n",
            "89/89 [==============================] - 7s 80ms/step - loss: 2.0696 - accuracy: 0.4935\n",
            "Epoch 149/300\n",
            "89/89 [==============================] - 6s 66ms/step - loss: 2.0594 - accuracy: 0.4954\n",
            "Epoch 150/300\n",
            "89/89 [==============================] - 7s 84ms/step - loss: 2.0430 - accuracy: 0.4985\n",
            "Epoch 151/300\n",
            "89/89 [==============================] - 6s 64ms/step - loss: 2.0327 - accuracy: 0.4984\n",
            "Epoch 152/300\n",
            "89/89 [==============================] - 7s 84ms/step - loss: 2.0239 - accuracy: 0.5022\n",
            "Epoch 153/300\n",
            "89/89 [==============================] - 6s 67ms/step - loss: 2.0047 - accuracy: 0.5043\n",
            "Epoch 154/300\n",
            "89/89 [==============================] - 7s 82ms/step - loss: 1.9838 - accuracy: 0.5131\n",
            "Epoch 155/300\n",
            "89/89 [==============================] - 6s 67ms/step - loss: 1.9823 - accuracy: 0.5093\n",
            "Epoch 156/300\n",
            "89/89 [==============================] - 7s 80ms/step - loss: 1.9748 - accuracy: 0.5121\n",
            "Epoch 157/300\n",
            "89/89 [==============================] - 6s 68ms/step - loss: 1.9780 - accuracy: 0.5109\n",
            "Epoch 158/300\n",
            "89/89 [==============================] - 7s 84ms/step - loss: 1.9501 - accuracy: 0.5187\n",
            "Epoch 159/300\n",
            "89/89 [==============================] - 6s 66ms/step - loss: 1.9382 - accuracy: 0.5210\n",
            "Epoch 160/300\n",
            "89/89 [==============================] - 7s 78ms/step - loss: 1.9181 - accuracy: 0.5252\n",
            "Epoch 161/300\n",
            "89/89 [==============================] - 6s 66ms/step - loss: 1.9187 - accuracy: 0.5255\n",
            "Epoch 162/300\n",
            "89/89 [==============================] - 7s 77ms/step - loss: 1.9156 - accuracy: 0.5259\n",
            "Epoch 163/300\n",
            "89/89 [==============================] - 6s 65ms/step - loss: 1.8946 - accuracy: 0.5288\n",
            "Epoch 164/300\n",
            "89/89 [==============================] - 7s 79ms/step - loss: 1.8798 - accuracy: 0.5370\n",
            "Epoch 165/300\n",
            "89/89 [==============================] - 6s 63ms/step - loss: 1.8627 - accuracy: 0.5394\n",
            "Epoch 166/300\n",
            "89/89 [==============================] - 7s 82ms/step - loss: 1.8642 - accuracy: 0.5378\n",
            "Epoch 167/300\n",
            "89/89 [==============================] - 7s 81ms/step - loss: 1.8498 - accuracy: 0.5384\n",
            "Epoch 168/300\n",
            "89/89 [==============================] - 7s 76ms/step - loss: 1.8407 - accuracy: 0.5436\n",
            "Epoch 169/300\n",
            "89/89 [==============================] - 7s 78ms/step - loss: 1.8208 - accuracy: 0.5499\n",
            "Epoch 170/300\n",
            "89/89 [==============================] - 6s 68ms/step - loss: 1.8075 - accuracy: 0.5491\n",
            "Epoch 171/300\n",
            "89/89 [==============================] - 7s 82ms/step - loss: 1.7928 - accuracy: 0.5573\n",
            "Epoch 172/300\n",
            "89/89 [==============================] - 6s 70ms/step - loss: 1.7768 - accuracy: 0.5587\n",
            "Epoch 173/300\n",
            "89/89 [==============================] - 7s 80ms/step - loss: 1.7660 - accuracy: 0.5595\n",
            "Epoch 174/300\n",
            "89/89 [==============================] - 6s 68ms/step - loss: 1.7651 - accuracy: 0.5606\n",
            "Epoch 175/300\n",
            "89/89 [==============================] - 7s 79ms/step - loss: 1.7537 - accuracy: 0.5657\n",
            "Epoch 176/300\n",
            "89/89 [==============================] - 6s 63ms/step - loss: 1.7388 - accuracy: 0.5617\n",
            "Epoch 177/300\n",
            "89/89 [==============================] - 7s 78ms/step - loss: 1.7273 - accuracy: 0.5686\n",
            "Epoch 178/300\n",
            "89/89 [==============================] - 6s 65ms/step - loss: 1.7168 - accuracy: 0.5747\n",
            "Epoch 179/300\n",
            "89/89 [==============================] - 7s 77ms/step - loss: 1.7131 - accuracy: 0.5690\n",
            "Epoch 180/300\n",
            "89/89 [==============================] - 6s 66ms/step - loss: 1.7144 - accuracy: 0.5687\n",
            "Epoch 181/300\n",
            "89/89 [==============================] - 7s 81ms/step - loss: 1.6913 - accuracy: 0.5784\n",
            "Epoch 182/300\n",
            "89/89 [==============================] - 6s 68ms/step - loss: 1.6864 - accuracy: 0.5804\n",
            "Epoch 183/300\n",
            "89/89 [==============================] - 7s 82ms/step - loss: 1.6884 - accuracy: 0.5764\n",
            "Epoch 184/300\n",
            "89/89 [==============================] - 6s 65ms/step - loss: 1.6778 - accuracy: 0.5793\n",
            "Epoch 185/300\n",
            "89/89 [==============================] - 7s 84ms/step - loss: 1.6486 - accuracy: 0.5870\n",
            "Epoch 186/300\n",
            "89/89 [==============================] - 6s 67ms/step - loss: 1.6366 - accuracy: 0.5906\n",
            "Epoch 187/300\n",
            "89/89 [==============================] - 7s 77ms/step - loss: 1.6223 - accuracy: 0.5941\n",
            "Epoch 188/300\n",
            "89/89 [==============================] - 6s 66ms/step - loss: 1.6235 - accuracy: 0.5934\n",
            "Epoch 189/300\n",
            "89/89 [==============================] - 8s 85ms/step - loss: 1.6150 - accuracy: 0.5957\n",
            "Epoch 190/300\n",
            "89/89 [==============================] - 6s 70ms/step - loss: 1.6148 - accuracy: 0.5954\n",
            "Epoch 191/300\n",
            "89/89 [==============================] - 7s 81ms/step - loss: 1.5911 - accuracy: 0.6010\n",
            "Epoch 192/300\n",
            "89/89 [==============================] - 7s 75ms/step - loss: 1.5874 - accuracy: 0.6010\n",
            "Epoch 193/300\n",
            "89/89 [==============================] - 7s 84ms/step - loss: 1.5698 - accuracy: 0.6116\n",
            "Epoch 194/300\n",
            "89/89 [==============================] - 7s 76ms/step - loss: 1.5603 - accuracy: 0.6094\n",
            "Epoch 195/300\n",
            "89/89 [==============================] - 7s 75ms/step - loss: 1.5496 - accuracy: 0.6084\n",
            "Epoch 196/300\n",
            "89/89 [==============================] - 7s 78ms/step - loss: 1.5387 - accuracy: 0.6128\n",
            "Epoch 197/300\n",
            "89/89 [==============================] - 6s 71ms/step - loss: 1.5210 - accuracy: 0.6206\n",
            "Epoch 198/300\n",
            "89/89 [==============================] - 8s 85ms/step - loss: 1.5219 - accuracy: 0.6147\n",
            "Epoch 199/300\n",
            "89/89 [==============================] - 7s 74ms/step - loss: 1.5174 - accuracy: 0.6160\n",
            "Epoch 200/300\n",
            "89/89 [==============================] - 7s 80ms/step - loss: 1.5186 - accuracy: 0.6212\n",
            "Epoch 201/300\n",
            "89/89 [==============================] - 6s 69ms/step - loss: 1.5224 - accuracy: 0.6161\n",
            "Epoch 202/300\n",
            "89/89 [==============================] - 8s 87ms/step - loss: 1.5075 - accuracy: 0.6190\n",
            "Epoch 203/300\n",
            "89/89 [==============================] - 6s 72ms/step - loss: 1.4912 - accuracy: 0.6220\n",
            "Epoch 204/300\n",
            "89/89 [==============================] - 7s 77ms/step - loss: 1.4865 - accuracy: 0.6232\n",
            "Epoch 205/300\n",
            "89/89 [==============================] - 9s 97ms/step - loss: 1.4526 - accuracy: 0.6366\n",
            "Epoch 206/300\n",
            "89/89 [==============================] - 7s 74ms/step - loss: 1.4461 - accuracy: 0.6350\n",
            "Epoch 207/300\n",
            "89/89 [==============================] - 7s 81ms/step - loss: 1.4294 - accuracy: 0.6444\n",
            "Epoch 208/300\n",
            "89/89 [==============================] - 7s 78ms/step - loss: 1.4250 - accuracy: 0.6396\n",
            "Epoch 209/300\n",
            "89/89 [==============================] - 8s 85ms/step - loss: 1.4150 - accuracy: 0.6481\n",
            "Epoch 210/300\n",
            "89/89 [==============================] - 6s 70ms/step - loss: 1.4097 - accuracy: 0.6438\n",
            "Epoch 211/300\n",
            "89/89 [==============================] - 7s 78ms/step - loss: 1.4107 - accuracy: 0.6429\n",
            "Epoch 212/300\n",
            "89/89 [==============================] - 6s 67ms/step - loss: 1.3965 - accuracy: 0.6522\n",
            "Epoch 213/300\n",
            "89/89 [==============================] - 7s 82ms/step - loss: 1.3925 - accuracy: 0.6511\n",
            "Epoch 214/300\n",
            "89/89 [==============================] - 6s 68ms/step - loss: 1.3790 - accuracy: 0.6509\n",
            "Epoch 215/300\n",
            "89/89 [==============================] - 7s 78ms/step - loss: 1.3714 - accuracy: 0.6533\n",
            "Epoch 216/300\n",
            "89/89 [==============================] - 6s 63ms/step - loss: 1.3611 - accuracy: 0.6552\n",
            "Epoch 217/300\n",
            "89/89 [==============================] - 7s 76ms/step - loss: 1.3476 - accuracy: 0.6597\n",
            "Epoch 218/300\n",
            "89/89 [==============================] - 6s 68ms/step - loss: 1.3409 - accuracy: 0.6620\n",
            "Epoch 219/300\n",
            "89/89 [==============================] - 7s 80ms/step - loss: 1.3287 - accuracy: 0.6652\n",
            "Epoch 220/300\n",
            "89/89 [==============================] - 6s 67ms/step - loss: 1.3313 - accuracy: 0.6620\n",
            "Epoch 221/300\n",
            "89/89 [==============================] - 8s 86ms/step - loss: 1.3082 - accuracy: 0.6727\n",
            "Epoch 222/300\n",
            "89/89 [==============================] - 9s 104ms/step - loss: 1.3049 - accuracy: 0.6704\n",
            "Epoch 223/300\n",
            "89/89 [==============================] - 6s 71ms/step - loss: 1.2901 - accuracy: 0.6761\n",
            "Epoch 224/300\n",
            "89/89 [==============================] - 8s 87ms/step - loss: 1.2813 - accuracy: 0.6775\n",
            "Epoch 225/300\n",
            "89/89 [==============================] - 6s 70ms/step - loss: 1.2732 - accuracy: 0.6761\n",
            "Epoch 226/300\n",
            "89/89 [==============================] - 7s 78ms/step - loss: 1.2742 - accuracy: 0.6805\n",
            "Epoch 227/300\n",
            "89/89 [==============================] - 5s 61ms/step - loss: 1.2700 - accuracy: 0.6794\n",
            "Epoch 228/300\n",
            "89/89 [==============================] - 7s 80ms/step - loss: 1.2732 - accuracy: 0.6780\n",
            "Epoch 229/300\n",
            "89/89 [==============================] - 6s 62ms/step - loss: 1.2601 - accuracy: 0.6819\n",
            "Epoch 230/300\n",
            "89/89 [==============================] - 7s 79ms/step - loss: 1.2420 - accuracy: 0.6839\n",
            "Epoch 231/300\n",
            "89/89 [==============================] - 6s 63ms/step - loss: 1.2214 - accuracy: 0.6960\n",
            "Epoch 232/300\n",
            "89/89 [==============================] - 7s 79ms/step - loss: 1.2174 - accuracy: 0.6927\n",
            "Epoch 233/300\n",
            "89/89 [==============================] - 6s 63ms/step - loss: 1.2212 - accuracy: 0.6927\n",
            "Epoch 234/300\n",
            "89/89 [==============================] - 7s 82ms/step - loss: 1.2174 - accuracy: 0.6884\n",
            "Epoch 235/300\n",
            "89/89 [==============================] - 6s 71ms/step - loss: 1.2084 - accuracy: 0.6937\n",
            "Epoch 236/300\n",
            "89/89 [==============================] - 8s 86ms/step - loss: 1.2162 - accuracy: 0.6908\n",
            "Epoch 237/300\n",
            "89/89 [==============================] - 7s 74ms/step - loss: 1.1952 - accuracy: 0.7017\n",
            "Epoch 238/300\n",
            "89/89 [==============================] - 7s 83ms/step - loss: 1.1813 - accuracy: 0.7015\n",
            "Epoch 239/300\n",
            "89/89 [==============================] - 8s 91ms/step - loss: 1.1586 - accuracy: 0.7062\n",
            "Epoch 240/300\n",
            "89/89 [==============================] - 7s 78ms/step - loss: 1.1519 - accuracy: 0.7117\n",
            "Epoch 241/300\n",
            "89/89 [==============================] - 8s 90ms/step - loss: 1.1318 - accuracy: 0.7173\n",
            "Epoch 242/300\n",
            "89/89 [==============================] - 9s 97ms/step - loss: 1.1220 - accuracy: 0.7173\n",
            "Epoch 243/300\n",
            "89/89 [==============================] - 7s 83ms/step - loss: 1.1505 - accuracy: 0.7099\n",
            "Epoch 244/300\n",
            "89/89 [==============================] - 8s 86ms/step - loss: 1.1567 - accuracy: 0.7046\n",
            "Epoch 245/300\n",
            "89/89 [==============================] - 7s 74ms/step - loss: 1.1359 - accuracy: 0.7116\n",
            "Epoch 246/300\n",
            "89/89 [==============================] - 8s 85ms/step - loss: 1.1128 - accuracy: 0.7207\n",
            "Epoch 247/300\n",
            "89/89 [==============================] - 6s 66ms/step - loss: 1.0859 - accuracy: 0.7274\n",
            "Epoch 248/300\n",
            "89/89 [==============================] - 6s 69ms/step - loss: 1.0847 - accuracy: 0.7259\n",
            "Epoch 249/300\n",
            "89/89 [==============================] - 5s 59ms/step - loss: 1.0865 - accuracy: 0.7246\n",
            "Epoch 250/300\n",
            "89/89 [==============================] - 7s 83ms/step - loss: 1.0785 - accuracy: 0.7282\n",
            "Epoch 251/300\n",
            "89/89 [==============================] - 5s 58ms/step - loss: 1.0665 - accuracy: 0.7308\n",
            "Epoch 252/300\n",
            "89/89 [==============================] - 7s 79ms/step - loss: 1.0565 - accuracy: 0.7333\n",
            "Epoch 253/300\n",
            "89/89 [==============================] - 7s 80ms/step - loss: 1.0571 - accuracy: 0.7344\n",
            "Epoch 254/300\n",
            "89/89 [==============================] - 8s 88ms/step - loss: 1.0558 - accuracy: 0.7304\n",
            "Epoch 255/300\n",
            "89/89 [==============================] - 6s 73ms/step - loss: 1.0553 - accuracy: 0.7308\n",
            "Epoch 256/300\n",
            "89/89 [==============================] - 8s 92ms/step - loss: 1.0940 - accuracy: 0.7209\n",
            "Epoch 257/300\n",
            "89/89 [==============================] - 6s 73ms/step - loss: 1.0499 - accuracy: 0.7330\n",
            "Epoch 258/300\n",
            "89/89 [==============================] - 7s 80ms/step - loss: 1.0349 - accuracy: 0.7373\n",
            "Epoch 259/300\n",
            "89/89 [==============================] - 8s 85ms/step - loss: 1.0043 - accuracy: 0.7476\n",
            "Epoch 260/300\n",
            "89/89 [==============================] - 7s 78ms/step - loss: 0.9972 - accuracy: 0.7484\n",
            "Epoch 261/300\n",
            "89/89 [==============================] - 8s 87ms/step - loss: 0.9927 - accuracy: 0.7457\n",
            "Epoch 262/300\n",
            "89/89 [==============================] - 6s 72ms/step - loss: 0.9914 - accuracy: 0.7503\n",
            "Epoch 263/300\n",
            "89/89 [==============================] - 7s 81ms/step - loss: 0.9808 - accuracy: 0.7529\n",
            "Epoch 264/300\n",
            "89/89 [==============================] - 6s 69ms/step - loss: 0.9651 - accuracy: 0.7566\n",
            "Epoch 265/300\n",
            "89/89 [==============================] - 8s 89ms/step - loss: 0.9661 - accuracy: 0.7600\n",
            "Epoch 266/300\n",
            "89/89 [==============================] - 6s 66ms/step - loss: 0.9525 - accuracy: 0.7633\n",
            "Epoch 267/300\n",
            "89/89 [==============================] - 6s 73ms/step - loss: 0.9529 - accuracy: 0.7605\n",
            "Epoch 268/300\n",
            "89/89 [==============================] - 5s 56ms/step - loss: 0.9399 - accuracy: 0.7633\n",
            "Epoch 269/300\n",
            "89/89 [==============================] - 6s 68ms/step - loss: 0.9300 - accuracy: 0.7657\n",
            "Epoch 270/300\n",
            "89/89 [==============================] - 5s 58ms/step - loss: 0.9366 - accuracy: 0.7640\n",
            "Epoch 271/300\n",
            "89/89 [==============================] - 6s 69ms/step - loss: 0.9375 - accuracy: 0.7644\n",
            "Epoch 272/300\n",
            "89/89 [==============================] - 5s 60ms/step - loss: 0.9487 - accuracy: 0.7572\n",
            "Epoch 273/300\n",
            "89/89 [==============================] - 7s 74ms/step - loss: 0.9214 - accuracy: 0.7669\n",
            "Epoch 274/300\n",
            "89/89 [==============================] - 6s 65ms/step - loss: 0.9162 - accuracy: 0.7664\n",
            "Epoch 275/300\n",
            "89/89 [==============================] - 7s 76ms/step - loss: 0.9080 - accuracy: 0.7728\n",
            "Epoch 276/300\n",
            "89/89 [==============================] - 6s 67ms/step - loss: 0.8851 - accuracy: 0.7753\n",
            "Epoch 277/300\n",
            "89/89 [==============================] - 7s 78ms/step - loss: 0.8733 - accuracy: 0.7811\n",
            "Epoch 278/300\n",
            "89/89 [==============================] - 5s 61ms/step - loss: 0.8714 - accuracy: 0.7836\n",
            "Epoch 279/300\n",
            "89/89 [==============================] - 6s 72ms/step - loss: 0.8592 - accuracy: 0.7890\n",
            "Epoch 280/300\n",
            "89/89 [==============================] - 7s 73ms/step - loss: 0.8474 - accuracy: 0.7873\n",
            "Epoch 281/300\n",
            "89/89 [==============================] - 7s 79ms/step - loss: 0.8585 - accuracy: 0.7813\n",
            "Epoch 282/300\n",
            "89/89 [==============================] - 5s 60ms/step - loss: 0.8607 - accuracy: 0.7846\n",
            "Epoch 283/300\n",
            "89/89 [==============================] - 7s 75ms/step - loss: 0.8650 - accuracy: 0.7841\n",
            "Epoch 284/300\n",
            "89/89 [==============================] - 6s 64ms/step - loss: 0.8494 - accuracy: 0.7870\n",
            "Epoch 285/300\n",
            "89/89 [==============================] - 6s 69ms/step - loss: 0.8282 - accuracy: 0.7947\n",
            "Epoch 286/300\n",
            "89/89 [==============================] - 6s 65ms/step - loss: 0.8257 - accuracy: 0.7955\n",
            "Epoch 287/300\n",
            "89/89 [==============================] - 6s 67ms/step - loss: 0.8196 - accuracy: 0.7977\n",
            "Epoch 288/300\n",
            "89/89 [==============================] - 5s 60ms/step - loss: 0.8200 - accuracy: 0.7958\n",
            "Epoch 289/300\n",
            "89/89 [==============================] - 5s 58ms/step - loss: 0.8250 - accuracy: 0.7931\n",
            "Epoch 290/300\n",
            "89/89 [==============================] - 6s 66ms/step - loss: 0.8042 - accuracy: 0.7996\n",
            "Epoch 291/300\n",
            "89/89 [==============================] - 5s 56ms/step - loss: 0.8056 - accuracy: 0.7970\n",
            "Epoch 292/300\n",
            "89/89 [==============================] - 6s 65ms/step - loss: 0.8080 - accuracy: 0.7997\n",
            "Epoch 293/300\n",
            "89/89 [==============================] - 5s 54ms/step - loss: 0.7844 - accuracy: 0.8063\n",
            "Epoch 294/300\n",
            "89/89 [==============================] - 6s 63ms/step - loss: 0.7629 - accuracy: 0.8104\n",
            "Epoch 295/300\n",
            "89/89 [==============================] - 5s 60ms/step - loss: 0.7707 - accuracy: 0.8090\n",
            "Epoch 296/300\n",
            "89/89 [==============================] - 5s 56ms/step - loss: 0.7544 - accuracy: 0.8140\n",
            "Epoch 297/300\n",
            "89/89 [==============================] - 6s 67ms/step - loss: 0.7610 - accuracy: 0.8109\n",
            "Epoch 298/300\n",
            "89/89 [==============================] - 5s 55ms/step - loss: 0.7363 - accuracy: 0.8213\n",
            "Epoch 299/300\n",
            "89/89 [==============================] - 6s 68ms/step - loss: 0.7410 - accuracy: 0.8131\n",
            "Epoch 300/300\n",
            "89/89 [==============================] - 6s 70ms/step - loss: 0.7556 - accuracy: 0.8091\n",
            "[INFO] Training time = 1886.9252 s.\n"
          ]
        }
      ],
      "source": [
        "# Dummy training for the model (to see if everything works correctly)\n",
        "from timeit import default_timer as timer\n",
        "\n",
        "start_time = timer()\n",
        "\n",
        "model.fit(X,\n",
        "          y,\n",
        "          batch_size = 128,\n",
        "          epochs = 300,\n",
        "          verbose = 1)\n",
        "\n",
        "end_time = timer()\n",
        "print(f\"[INFO] Training time = {end_time - start_time:.4f} s.\")"
      ]
    },
    {
      "cell_type": "code",
      "execution_count": null,
      "metadata": {
        "id": "-45_1pGfuIGe"
      },
      "outputs": [],
      "source": [
        "# Saving the model and the tokenizer (the tokenizer contains tons of useful info for our application)\n",
        "from pickle import dump, load\n",
        "\n",
        "model.save('moby_dick_model.keras')\n",
        "\n",
        "dump(tokenizer, open('my_tokenizer', 'wb'))"
      ]
    },
    {
      "cell_type": "code",
      "execution_count": null,
      "metadata": {
        "id": "Kb_iBwvHuvlU"
      },
      "outputs": [],
      "source": [
        "# Creating a function for text generation\n",
        "from keras.preprocessing.sequence import pad_sequences\n",
        "\n",
        "def generate_text(model, tokenizer, seq_len, seed_text, num_gen_words):\n",
        "    '''\n",
        "    INPUTS:\n",
        "    model : model that was trained on text data\n",
        "    tokenizer : tokenizer that was fit on text data\n",
        "    seq_len : length of training sequence\n",
        "    seed_text : raw string text to serve as the seed\n",
        "    num_gen_words : number of words to be generated by model\n",
        "    '''\n",
        "    # Final Output\n",
        "    output_text = []\n",
        "\n",
        "    # Intial Seed Sequence\n",
        "    input_text = seed_text\n",
        "\n",
        "    # For every word to be generated\n",
        "    for i in range(num_gen_words):\n",
        "\n",
        "        # Take the input text string and encode it to a sequence\n",
        "        encoded_text = tokenizer.texts_to_sequences([input_text])[0]\n",
        "\n",
        "        # Pad sequences to our trained rate (If the seed_text in shorted or longer than the default text size of 25)\n",
        "        pad_encoded = pad_sequences([encoded_text], maxlen=seq_len, truncating='pre')\n",
        "\n",
        "        # Predict Class Probabilities for each word\n",
        "        pred_word_ind = model(pad_encoded)[0]\n",
        "        pred_word_ind = np.argmax(pred_word_ind)\n",
        "\n",
        "        # Grab the word based off its index\n",
        "        pred_word = tokenizer.index_word[pred_word_ind]\n",
        "\n",
        "        # Update the sequence of input text (shifting one over with the new word)\n",
        "        input_text += ' ' + pred_word\n",
        "\n",
        "        # Appending the predicted word to the final output\n",
        "        output_text.append(pred_word)\n",
        "\n",
        "    # Outputting the text and making it look like a sentence.\n",
        "    return ' '.join(output_text)"
      ]
    },
    {
      "cell_type": "code",
      "source": [
        "# Testing text generation on the first sequence\n",
        "seed_text = text_seqs[0]\n",
        "seed_text = ' '.join(seed_text)\n",
        "seed_text"
      ],
      "metadata": {
        "colab": {
          "base_uri": "https://localhost:8080/",
          "height": 36
        },
        "id": "mIzdS4Ze8HQC",
        "outputId": "8525e7a0-55de-4771-b9b7-219bdf8906e0"
      },
      "execution_count": null,
      "outputs": [
        {
          "output_type": "execute_result",
          "data": {
            "text/plain": [
              "'call me ishmael some years ago never mind how long precisely having little or no money in my purse and nothing particular to interest me on'"
            ],
            "application/vnd.google.colaboratory.intrinsic+json": {
              "type": "string"
            }
          },
          "metadata": {},
          "execution_count": 85
        }
      ]
    },
    {
      "cell_type": "code",
      "source": [
        "# Generating text\n",
        "generate_text(model = model,\n",
        "              tokenizer = tokenizer,\n",
        "              seq_len = seq_len,\n",
        "              seed_text = seed_text,\n",
        "              num_gen_words = 25)"
      ],
      "metadata": {
        "colab": {
          "base_uri": "https://localhost:8080/",
          "height": 36
        },
        "id": "GMXOH-Wq8QLp",
        "outputId": "df834a99-f7b9-4333-d892-5064e0f8d85a"
      },
      "execution_count": null,
      "outputs": [
        {
          "output_type": "execute_result",
          "data": {
            "text/plain": [
              "'shore i thought i would sail now i may stumble and death make a dreaming and confounded you raised a straight wake for the own'"
            ],
            "application/vnd.google.colaboratory.intrinsic+json": {
              "type": "string"
            }
          },
          "metadata": {},
          "execution_count": 86
        }
      ]
    },
    {
      "cell_type": "markdown",
      "source": [
        "Our model's accuracy was pretty poor, since we did not train it for enough epochs and on enough text.\n",
        "\n",
        "Naturally, model's performance can be imporved by training for longer, on more data, and maybe by increasing model's complexity by adding more layers."
      ],
      "metadata": {
        "id": "diL22fJo-wpc"
      }
    },
    {
      "cell_type": "code",
      "source": [
        "# Text generation on some dummy text\n",
        "test_text = 'Hello Lama! My name is Waleed, and I wanted to pass to you some info regarding'\n",
        "generate_text(model,tokenizer,seq_len,seed_text=test_text,num_gen_words=20)"
      ],
      "metadata": {
        "colab": {
          "base_uri": "https://localhost:8080/",
          "height": 36
        },
        "id": "wudeE098-b4E",
        "outputId": "ec74afe5-1116-4e11-b2e2-62617713af00"
      },
      "execution_count": null,
      "outputs": [
        {
          "output_type": "execute_result",
          "data": {
            "text/plain": [
              "'even i am took to the town and began creaking and limping with the matter he takes the seat over'"
            ],
            "application/vnd.google.colaboratory.intrinsic+json": {
              "type": "string"
            }
          },
          "metadata": {},
          "execution_count": 87
        }
      ]
    },
    {
      "cell_type": "markdown",
      "source": [
        "## Building a QA Chatbot"
      ],
      "metadata": {
        "id": "qg4WN2GfNkjB"
      }
    },
    {
      "cell_type": "markdown",
      "source": [
        "Here, we will try to create a QA chatbot that is based on the model presented in the [**End-To-End Memory Networks**](https://arxiv.org/pdf/1503.08895) paper.\n",
        "\n",
        "Using this model, the chatbot will be able to answer questions based on stories fed to it.\n",
        "\n",
        "The model will be trained on the **bAbI dataset**. It is essentially a dataset for testing text understanding and reasoning of models and for testing of end-to-end dialog systems\n",
        "\n",
        "The Facebook bAbI dataset is a synthetic dataset of 20 toy question-answering tasks. Each task targets\n",
        "a specific skill that a general reasoning agent would be expected to have, such as answering yes/no\n",
        "questions or performing deduction over multiple sentences.\n",
        "Each of the 20 tasks consists of 1,000 training examples and 1,000 test examples. The tasks are\n",
        "generated from a simulation of characters and objects interacting in a small, closed world, which produces\n",
        "ground text describing the scene and question/answer pairs. Supervision is provided in the form of\n",
        "answers for each of the questions and the location of relevant sentences in the input required to answer\n",
        "the question.\n",
        "\n",
        "The dataset was presented in the paper \"[**Towards AI-Complete Question Answering: A Set of Prerequisite Toy Tasks**](https://arxiv.org/pdf/1502.05698)\"\n",
        "\n",
        "The dataset contains sets of stories, questions and answers, for example:\n",
        "- **Story**: Jane went to the store. Mike ran to the living room.\n",
        "- **Question**: Is Mike in the store?\n",
        "- **Answer**: No."
      ],
      "metadata": {
        "id": "8qFZVx7aNozT"
      }
    },
    {
      "cell_type": "code",
      "source": [
        "# Creating the train and test bAbI datasets\n",
        "import pickle\n",
        "import numpy as np\n",
        "import pandas as pd\n",
        "\n",
        "with open('train_qa.txt', 'rb') as f:\n",
        "  train_data = pickle.load(f)\n",
        "\n",
        "with open('test_qa.txt', 'rb') as f:\n",
        "  test_data = pickle.load(f)"
      ],
      "metadata": {
        "id": "yArpdbtUCPlT"
      },
      "execution_count": 1,
      "outputs": []
    },
    {
      "cell_type": "code",
      "source": [
        "# the train data is a list of tuples\n",
        "type(train_data)"
      ],
      "metadata": {
        "colab": {
          "base_uri": "https://localhost:8080/"
        },
        "id": "gdLLkpepUK4_",
        "outputId": "d47d1baf-168e-4c8e-ed1b-0dde2b7595d4"
      },
      "execution_count": 2,
      "outputs": [
        {
          "output_type": "execute_result",
          "data": {
            "text/plain": [
              "list"
            ]
          },
          "metadata": {},
          "execution_count": 2
        }
      ]
    },
    {
      "cell_type": "code",
      "source": [
        "len(train_data), len(test_data)"
      ],
      "metadata": {
        "colab": {
          "base_uri": "https://localhost:8080/"
        },
        "id": "VkLwC7rJUM0g",
        "outputId": "f70183e6-a4f4-4c35-809e-2d345e0e9e19"
      },
      "execution_count": 3,
      "outputs": [
        {
          "output_type": "execute_result",
          "data": {
            "text/plain": [
              "(10000, 1000)"
            ]
          },
          "metadata": {},
          "execution_count": 3
        }
      ]
    },
    {
      "cell_type": "code",
      "source": [
        "# Example of single entry from the train data\n",
        "# Each entry contains the story, a question and the right answer\n",
        "print(train_data[0])"
      ],
      "metadata": {
        "colab": {
          "base_uri": "https://localhost:8080/"
        },
        "id": "F9LSgKGDUPg5",
        "outputId": "7888b803-aa4b-466c-e075-17df78dc5e86"
      },
      "execution_count": 4,
      "outputs": [
        {
          "output_type": "stream",
          "name": "stdout",
          "text": [
            "(['Mary', 'moved', 'to', 'the', 'bathroom', '.', 'Sandra', 'journeyed', 'to', 'the', 'bedroom', '.'], ['Is', 'Sandra', 'in', 'the', 'hallway', '?'], 'no')\n"
          ]
        }
      ]
    },
    {
      "cell_type": "code",
      "source": [
        "print(test_data[0])"
      ],
      "metadata": {
        "colab": {
          "base_uri": "https://localhost:8080/"
        },
        "id": "E6Ad4qSHJG0Z",
        "outputId": "3f543463-1630-41d6-9863-24729dfe230c"
      },
      "execution_count": 5,
      "outputs": [
        {
          "output_type": "stream",
          "name": "stdout",
          "text": [
            "(['Mary', 'got', 'the', 'milk', 'there', '.', 'John', 'moved', 'to', 'the', 'bedroom', '.'], ['Is', 'John', 'in', 'the', 'kitchen', '?'], 'no')\n"
          ]
        }
      ]
    },
    {
      "cell_type": "code",
      "source": [
        "# Creating the vocabulary\n",
        "all_data = test_data + train_data\n",
        "\n",
        "vocab = set()\n",
        "\n",
        "for story, question, answer in all_data:\n",
        "  vocab = vocab.union(set(story))\n",
        "  vocab = vocab.union(set(question))\n",
        "\n",
        "vocab.add('no')\n",
        "vocab.add('yes')"
      ],
      "metadata": {
        "id": "wNxVHI3NVFSk"
      },
      "execution_count": 6,
      "outputs": []
    },
    {
      "cell_type": "code",
      "source": [
        "vocab"
      ],
      "metadata": {
        "colab": {
          "base_uri": "https://localhost:8080/"
        },
        "id": "5qKTShQmWt-d",
        "outputId": "ad7a4a3d-25a7-4d59-f534-ad3ba6ca546f"
      },
      "execution_count": 7,
      "outputs": [
        {
          "output_type": "execute_result",
          "data": {
            "text/plain": [
              "{'.',\n",
              " '?',\n",
              " 'Daniel',\n",
              " 'Is',\n",
              " 'John',\n",
              " 'Mary',\n",
              " 'Sandra',\n",
              " 'apple',\n",
              " 'back',\n",
              " 'bathroom',\n",
              " 'bedroom',\n",
              " 'discarded',\n",
              " 'down',\n",
              " 'dropped',\n",
              " 'football',\n",
              " 'garden',\n",
              " 'got',\n",
              " 'grabbed',\n",
              " 'hallway',\n",
              " 'in',\n",
              " 'journeyed',\n",
              " 'kitchen',\n",
              " 'left',\n",
              " 'milk',\n",
              " 'moved',\n",
              " 'no',\n",
              " 'office',\n",
              " 'picked',\n",
              " 'put',\n",
              " 'the',\n",
              " 'there',\n",
              " 'to',\n",
              " 'took',\n",
              " 'travelled',\n",
              " 'up',\n",
              " 'went',\n",
              " 'yes'}"
            ]
          },
          "metadata": {},
          "execution_count": 7
        }
      ]
    },
    {
      "cell_type": "code",
      "source": [
        "# Same as before we need to add 1 to the length to account for keras padding in pad_sequences\n",
        "vocab_len = len(vocab) + 1\n",
        "vocab_len"
      ],
      "metadata": {
        "colab": {
          "base_uri": "https://localhost:8080/"
        },
        "id": "Fvdefj7FWyGT",
        "outputId": "511d3177-27b2-4ac3-868c-94df2745d06e"
      },
      "execution_count": 8,
      "outputs": [
        {
          "output_type": "execute_result",
          "data": {
            "text/plain": [
              "38"
            ]
          },
          "metadata": {},
          "execution_count": 8
        }
      ]
    },
    {
      "cell_type": "code",
      "source": [
        "# Also for padding purposes we need to get the longest story in our dataset\n",
        "all_story_len = [len(data[0]) for data in all_data]\n",
        "\n",
        "max_story_len = max(all_story_len)\n",
        "print(max_story_len)\n",
        "\n",
        "# And the longest question in the dataset\n",
        "all_question_len = [len(data[1]) for data in all_data]\n",
        "\n",
        "max_question_len = max(all_question_len)\n",
        "print(max_question_len)"
      ],
      "metadata": {
        "colab": {
          "base_uri": "https://localhost:8080/"
        },
        "id": "Y5BdBo0dXiid",
        "outputId": "9d9b3169-5a2f-4eed-9295-ea7225e83c34"
      },
      "execution_count": 9,
      "outputs": [
        {
          "output_type": "stream",
          "name": "stdout",
          "text": [
            "156\n",
            "6\n"
          ]
        }
      ]
    },
    {
      "cell_type": "code",
      "source": [
        "# Vectorizing, and turning the vocabulary into padded sequences\n",
        "# First, tokenizing the vocabulary\n",
        "from keras.preprocessing.sequence import pad_sequences\n",
        "from keras.preprocessing.text import Tokenizer\n",
        "\n",
        "tokenizer = Tokenizer(filters=[])\n",
        "tokenizer.fit_on_texts(vocab)\n",
        "\n",
        "tokenizer.word_index"
      ],
      "metadata": {
        "id": "TZnsIyO3YUAM",
        "colab": {
          "base_uri": "https://localhost:8080/"
        },
        "outputId": "23fa6a50-3e9b-4a2f-8900-af060ff6a576"
      },
      "execution_count": 10,
      "outputs": [
        {
          "output_type": "execute_result",
          "data": {
            "text/plain": [
              "{'is': 1,\n",
              " 'left': 2,\n",
              " 'bathroom': 3,\n",
              " 'bedroom': 4,\n",
              " 'garden': 5,\n",
              " 'mary': 6,\n",
              " 'yes': 7,\n",
              " 'picked': 8,\n",
              " 'sandra': 9,\n",
              " 'kitchen': 10,\n",
              " 'there': 11,\n",
              " 'dropped': 12,\n",
              " 'down': 13,\n",
              " 'in': 14,\n",
              " '?': 15,\n",
              " 'daniel': 16,\n",
              " 'no': 17,\n",
              " 'office': 18,\n",
              " 'apple': 19,\n",
              " 'up': 20,\n",
              " 'grabbed': 21,\n",
              " 'travelled': 22,\n",
              " 'hallway': 23,\n",
              " 'got': 24,\n",
              " 'football': 25,\n",
              " '.': 26,\n",
              " 'went': 27,\n",
              " 'took': 28,\n",
              " 'to': 29,\n",
              " 'discarded': 30,\n",
              " 'moved': 31,\n",
              " 'journeyed': 32,\n",
              " 'the': 33,\n",
              " 'milk': 34,\n",
              " 'put': 35,\n",
              " 'john': 36,\n",
              " 'back': 37}"
            ]
          },
          "metadata": {},
          "execution_count": 10
        }
      ]
    },
    {
      "cell_type": "code",
      "source": [
        "# Second, creating seperate lists for stories, questions and answers\n",
        "# train_story_text = []\n",
        "# train_question_text = []\n",
        "# train_answer_text = []\n",
        "\n",
        "# for s, q, a in train_data:\n",
        "#   train_story_text.append(s)\n",
        "#   train_question_text.append(q)\n",
        "#   train_answer_text.append(a)"
      ],
      "metadata": {
        "id": "4it4VFpUQkp9"
      },
      "execution_count": 11,
      "outputs": []
    },
    {
      "cell_type": "code",
      "source": [
        "# print(train_story_text[0])\n",
        "# print(train_question_text[0])\n",
        "# print(train_answer_text[0])"
      ],
      "metadata": {
        "id": "eCmh4a10aeT8"
      },
      "execution_count": 12,
      "outputs": []
    },
    {
      "cell_type": "code",
      "source": [
        "# Third, turning the lists into sequences\n",
        "def vectorize_stories(data,\n",
        "                      word_index=tokenizer.word_index,\n",
        "                      max_story_len=max_story_len,\n",
        "                      max_question_len=max_question_len):\n",
        "  '''\n",
        "  data: lists of data containing stories, questions and answers (bAbI dataset)\n",
        "  word_index: word indexes created by the Keras tokenizer\n",
        "  max_story_length: longest story in the data (for padding purposes)\n",
        "  max_question_len: longest question in the data (for padding purposes)\n",
        "  '''\n",
        "  X = [] # Stories\n",
        "  Xq = [] # Questions\n",
        "  Y = [] # Answers\n",
        "  # For each story, question, answer in the data\n",
        "  for story, query, answer in data:\n",
        "    x = [word_index[word.lower()] for word in story] # Get every word from each story and turn it into its index defined by the tokenizer\n",
        "    xq = [word_index[word.lower()] for word in query] # Get every word from each question and turn it into its index defined by the tokenizer\n",
        "    y = np.zeros(len(word_index) + 1) # numpy array of length = length of the word indexes +1 because 0 is reserved for keras padding\n",
        "    y[word_index[answer]] = 1 # Set the indexes of the answers to 1 in the zeroes array\n",
        "\n",
        "    # Appending the words above to the main lists\n",
        "    X.append(x)\n",
        "    Xq.append(xq)\n",
        "    Y.append(y)\n",
        "\n",
        "  # Returning padded versions of the stories and questions lists\n",
        "  # Returning the answers lists as a numpy array\n",
        "  return (pad_sequences(X, maxlen=max_story_len),\n",
        "          pad_sequences(Xq, maxlen=max_question_len),\n",
        "          np.array(Y))"
      ],
      "metadata": {
        "id": "-xGWHj5fRTFw"
      },
      "execution_count": 13,
      "outputs": []
    },
    {
      "cell_type": "code",
      "source": [
        "# Creating train stories, questions, answers sequences\n",
        "inputs_train, queries_train, answers_train = vectorize_stories(train_data)"
      ],
      "metadata": {
        "id": "9g6QGnN9W5T8"
      },
      "execution_count": 14,
      "outputs": []
    },
    {
      "cell_type": "code",
      "source": [
        "print(inputs_train)\n",
        "print(\"============\")\n",
        "print(queries_train)\n",
        "print(\"============\")\n",
        "print(answers_train)"
      ],
      "metadata": {
        "colab": {
          "base_uri": "https://localhost:8080/"
        },
        "id": "qrHYTanEbMbh",
        "outputId": "75ec823e-1cba-4535-e399-48616b62d22c"
      },
      "execution_count": 15,
      "outputs": [
        {
          "output_type": "stream",
          "name": "stdout",
          "text": [
            "[[ 0  0  0 ... 33  4 26]\n",
            " [ 0  0  0 ... 33 23 26]\n",
            " [ 0  0  0 ... 33  3 26]\n",
            " ...\n",
            " [ 0  0  0 ... 33  4 26]\n",
            " [ 0  0  0 ... 34 11 26]\n",
            " [ 0  0  0 ... 19 11 26]]\n",
            "============\n",
            "[[ 1  9 14 33 23 15]\n",
            " [ 1 16 14 33  3 15]\n",
            " [ 1 16 14 33 18 15]\n",
            " ...\n",
            " [ 1  9 14 33 23 15]\n",
            " [ 1  6 14 33 10 15]\n",
            " [ 1  6 14 33  4 15]]\n",
            "============\n",
            "[[0. 0. 0. ... 0. 0. 0.]\n",
            " [0. 0. 0. ... 0. 0. 0.]\n",
            " [0. 0. 0. ... 0. 0. 0.]\n",
            " ...\n",
            " [0. 0. 0. ... 0. 0. 0.]\n",
            " [0. 0. 0. ... 0. 0. 0.]\n",
            " [0. 0. 0. ... 0. 0. 0.]]\n"
          ]
        }
      ]
    },
    {
      "cell_type": "code",
      "source": [
        "# Creating test stories, questions, answers sequences\n",
        "inputs_test, queries_test, answers_test = vectorize_stories(test_data)"
      ],
      "metadata": {
        "id": "YX1Dix2tXKnD"
      },
      "execution_count": 16,
      "outputs": []
    },
    {
      "cell_type": "code",
      "source": [
        "# We have 497 yes answers vs. 503 no answers\n",
        "print(f\"Index of word 'yes': {tokenizer.word_index['yes']}\")\n",
        "print(f\"Index of word 'no': {tokenizer.word_index['no']}\")\n",
        "print(sum(answers_test))"
      ],
      "metadata": {
        "colab": {
          "base_uri": "https://localhost:8080/"
        },
        "id": "Qy8Yus89bz2m",
        "outputId": "fa10d72d-217a-41ed-ad4d-f791853f9d8e"
      },
      "execution_count": 17,
      "outputs": [
        {
          "output_type": "stream",
          "name": "stdout",
          "text": [
            "Index of word 'yes': 7\n",
            "Index of word 'no': 17\n",
            "[  0.   0.   0.   0.   0.   0.   0. 497.   0.   0.   0.   0.   0.   0.\n",
            "   0.   0.   0. 503.   0.   0.   0.   0.   0.   0.   0.   0.   0.   0.\n",
            "   0.   0.   0.   0.   0.   0.   0.   0.   0.   0.]\n"
          ]
        }
      ]
    },
    {
      "cell_type": "markdown",
      "source": [
        "![wws.jpg](data:image/jpeg;base64,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)"
      ],
      "metadata": {
        "id": "p0Xh29kSdbpC"
      }
    },
    {
      "cell_type": "markdown",
      "source": [
        "Now that we have our data ready, we will procede to building the network described in the paper.\n",
        "\n",
        "The image above is the blueprint of the model taken from the research paper."
      ],
      "metadata": {
        "id": "PJxRVX6RdsnW"
      }
    },
    {
      "cell_type": "code",
      "source": [
        "from keras.models import Sequential, Model\n",
        "from keras.layers import Embedding, Input, Activation, Dense, Permute, Dropout, LSTM, add, dot, concatenate"
      ],
      "metadata": {
        "id": "P_PTphWSb4Xp"
      },
      "execution_count": 18,
      "outputs": []
    },
    {
      "cell_type": "markdown",
      "source": [
        "**[keras.Input](https://keras.io/api/layers/core_layers/input/)** - is used to instantiate a keras tensor. In our model, since we have two inputs (stories and questions), we need to create placeholders for them.\n",
        "\n",
        "**[keras.Embedding](https://keras.io/api/layers/core_layers/embedding/)** - Turns positive integers (indexes) into dense vectors of fixed size. Creates word embedding (vectors) using their tokenizer indexes.\n",
        "\n",
        "**[keras.Dropout](https://keras.io/api/layers/regularization_layers/dropout/)** - Turns off random neurons during training, which makes other neurons learn better representations, which in turn helps reduce overfitting.\n",
        "\n",
        "**[keras.dot](https://keras.io/api/layers/merging_layers/dot/)** - Computes element-wise dot product of two tensors.\n",
        "\n",
        "**[keras.Activation](https://keras.io/api/layers/core_layers/activation/)** - Defines and applies an activation function to an output.\n",
        "\n",
        "**[keras.add](https://keras.io/api/layers/merging_layers/add/)** - Performs elementwise addition operation.\n",
        "\n",
        "**[keras.concatenate](https://keras.io/api/layers/merging_layers/concatenate/)** - Concatenates a list of inputs. It takes as input a list of tensors, all of the same shape except for the concatenation axis, and returns a single tensor that is the concatenation of all inputs.\n",
        "\n",
        "**[keras.Permute](https://keras.io/api/layers/reshaping_layers/permute/)** - Permutes the dimensions of the input according to a given pattern.\n",
        "\n",
        "**[keras.Model](https://keras.io/api/models/model/)** - A model grouping layers into an object with training/inference features."
      ],
      "metadata": {
        "id": "ikHn0jAOfAM4"
      }
    },
    {
      "cell_type": "code",
      "source": [
        "# Creating input tensor placeholders using Input\n",
        "# Shape = (max_story_len, batch_size)\n",
        "input_sequence = Input((max_story_len,)) # the second dimension will be the batch dim.\n",
        "question = Input((max_question_len,))"
      ],
      "metadata": {
        "id": "5KIStrmLedHw"
      },
      "execution_count": 19,
      "outputs": []
    },
    {
      "cell_type": "code",
      "source": [
        "# Creating the input encoders M\n",
        "input_encoder_M = Sequential()\n",
        "input_encoder_M.add(Embedding(input_dim = vocab_len, # Size of the vocabulary + 1\n",
        "                              output_dim = 64)) # Dimension of the dense embedding (64 defined in the paper)\n",
        "input_encoder_M.add(Dropout(0.3))\n",
        "# OUTPUT = (samples, story_maxlen, embedding_dim)\n",
        "\n",
        "# Creating the input encoders C\n",
        "input_encoder_C = Sequential()\n",
        "input_encoder_C.add(Embedding(input_dim = vocab_len, # Size of the vocabulary + 1\n",
        "                              output_dim = max_question_len)) # Dimension of the dense embedding\n",
        "input_encoder_C.add(Dropout(0.3))\n",
        "# OUTPUT = (samples, story_maxlen, question_len)"
      ],
      "metadata": {
        "id": "6XaW0ZVyg2s3"
      },
      "execution_count": 20,
      "outputs": []
    },
    {
      "cell_type": "code",
      "source": [
        "# Creating the question encoder\n",
        "question_encoder = Sequential()\n",
        "question_encoder.add(Embedding(input_dim = vocab_len, # Size of the vocabulary + 1\n",
        "                              output_dim = 64, # Must match the dim of the encoder M\n",
        "                              input_length = max_question_len)) # Defining the input length\n",
        "question_encoder.add(Dropout(0.3))\n",
        "# OUTPUT = (samples, question_maxlen, embedding_dim)"
      ],
      "metadata": {
        "id": "pS4bx0c-ila_"
      },
      "execution_count": 21,
      "outputs": []
    },
    {
      "cell_type": "code",
      "source": [
        "# Now that we have the encoders and the input placeholders\n",
        "# We will encode our input tensors\n",
        "input_encoded_M = input_encoder_M(input_sequence)\n",
        "input_encoded_C = input_encoder_C(input_sequence)\n",
        "question_encoded = question_encoder(question)"
      ],
      "metadata": {
        "id": "UGb12d01kCw8"
      },
      "execution_count": 22,
      "outputs": []
    },
    {
      "cell_type": "code",
      "source": [
        "# Now we need to find matches by softmaxing the dot product between the encoded question and encoded input M\n",
        "mat = dot([input_encoded_M, question_encoded], axes = (2,2)) # axes: Integer or tuple of integers, axis or axes along which to take the dot product.\n",
        "mat = Activation('softmax')(mat)"
      ],
      "metadata": {
        "id": "Ju7HpM9JlTAO"
      },
      "execution_count": 23,
      "outputs": []
    },
    {
      "cell_type": "code",
      "source": [
        "# Next we need to add the matches to the encoded input C and get the responses\n",
        "response = add([mat, input_encoded_C])\n",
        "response = Permute((2,1))(response) # Rearranging the dimensions of the responses to be (query_maxlen, story_maxlen)"
      ],
      "metadata": {
        "id": "GyJYbRp7lz-N"
      },
      "execution_count": 24,
      "outputs": []
    },
    {
      "cell_type": "code",
      "source": [
        "# Getting the final answer by concatenating the response and the initial encoded questions\n",
        "answer = concatenate([response, question_encoded])\n",
        "answer"
      ],
      "metadata": {
        "colab": {
          "base_uri": "https://localhost:8080/"
        },
        "id": "I9eKtkoSnOoQ",
        "outputId": "62e4caeb-e191-45af-b4d8-0ae0f92cd90f"
      },
      "execution_count": 25,
      "outputs": [
        {
          "output_type": "execute_result",
          "data": {
            "text/plain": [
              "<KerasTensor: shape=(None, 6, 220) dtype=float32 (created by layer 'concatenate')>"
            ]
          },
          "metadata": {},
          "execution_count": 25
        }
      ]
    },
    {
      "cell_type": "code",
      "source": [
        "# Now we need to deduce the answer using a RNN with LSTM\n",
        "answer = LSTM(32)(answer)\n",
        "# Applying dropout reguralization\n",
        "answer = Dropout(0.5)(answer)\n",
        "# The final dense layer. OUTPUTS (samples, vocab_size)\n",
        "answer = Dense(vocab_len)(answer)\n",
        "# The output is a probability distribution over the vocabulary\n",
        "answer = Activation('softmax')(answer)"
      ],
      "metadata": {
        "id": "_5Ry1Cs0oB97"
      },
      "execution_count": 26,
      "outputs": []
    },
    {
      "cell_type": "markdown",
      "source": [
        "The expected output of the model is going to be an array of length = vocabulaty length, with a bunch of zeroes (or quantities close to zero) and ones that will appear at the indexes of the answers 'yes' and 'no'.\n",
        "\n",
        "Keep in mind, the model CAN potentially output the answer as any other word in the vocabulary (for e.g. 'sarah'), but generally the highest answers probabilities will hopefully be the probabilities for 'yes' and 'no'"
      ],
      "metadata": {
        "id": "7QHA4VDQCIa7"
      }
    },
    {
      "cell_type": "markdown",
      "source": [
        "We will be using the RMSProp optimizer. Documentation [here](https://keras.io/api/optimizers/rmsprop/).\n",
        "\n",
        "More info on RMSProp [here](https://deepai.org/machine-learning-glossary-and-terms/rmsprop#:~:text=RMSProp%2C%20which%20stands%20for%20Root,in%20training%20deep%20neural%20networks.)."
      ],
      "metadata": {
        "id": "emZffuA8DhDd"
      }
    },
    {
      "cell_type": "code",
      "source": [
        "# Building the final model ([X,Xq], Y)\n",
        "model = Model([input_sequence, question], answer)\n",
        "\n",
        "# Compiling the model with RMSProp optimizer and CrossEntropy loss function\n",
        "model.compile(optimizer = 'rmsprop',\n",
        "              loss = 'categorical_crossentropy',\n",
        "              metrics = ['accuracy'])"
      ],
      "metadata": {
        "id": "ilP72d5PqWfU"
      },
      "execution_count": 27,
      "outputs": []
    },
    {
      "cell_type": "code",
      "source": [
        "# Getting a summary of the final model\n",
        "model.summary()"
      ],
      "metadata": {
        "colab": {
          "base_uri": "https://localhost:8080/"
        },
        "id": "_guR4ItjEi2x",
        "outputId": "5fb449e1-d435-4f30-c0c1-d5d7df36beba"
      },
      "execution_count": 28,
      "outputs": [
        {
          "output_type": "stream",
          "name": "stdout",
          "text": [
            "Model: \"model\"\n",
            "__________________________________________________________________________________________________\n",
            " Layer (type)                Output Shape                 Param #   Connected to                  \n",
            "==================================================================================================\n",
            " input_1 (InputLayer)        [(None, 156)]                0         []                            \n",
            "                                                                                                  \n",
            " input_2 (InputLayer)        [(None, 6)]                  0         []                            \n",
            "                                                                                                  \n",
            " sequential (Sequential)     (None, None, 64)             2432      ['input_1[0][0]']             \n",
            "                                                                                                  \n",
            " sequential_2 (Sequential)   (None, 6, 64)                2432      ['input_2[0][0]']             \n",
            "                                                                                                  \n",
            " dot (Dot)                   (None, 156, 6)               0         ['sequential[0][0]',          \n",
            "                                                                     'sequential_2[0][0]']        \n",
            "                                                                                                  \n",
            " activation (Activation)     (None, 156, 6)               0         ['dot[0][0]']                 \n",
            "                                                                                                  \n",
            " sequential_1 (Sequential)   (None, None, 6)              228       ['input_1[0][0]']             \n",
            "                                                                                                  \n",
            " add (Add)                   (None, 156, 6)               0         ['activation[0][0]',          \n",
            "                                                                     'sequential_1[0][0]']        \n",
            "                                                                                                  \n",
            " permute (Permute)           (None, 6, 156)               0         ['add[0][0]']                 \n",
            "                                                                                                  \n",
            " concatenate (Concatenate)   (None, 6, 220)               0         ['permute[0][0]',             \n",
            "                                                                     'sequential_2[0][0]']        \n",
            "                                                                                                  \n",
            " lstm (LSTM)                 (None, 32)                   32384     ['concatenate[0][0]']         \n",
            "                                                                                                  \n",
            " dropout_3 (Dropout)         (None, 32)                   0         ['lstm[0][0]']                \n",
            "                                                                                                  \n",
            " dense (Dense)               (None, 38)                   1254      ['dropout_3[0][0]']           \n",
            "                                                                                                  \n",
            " activation_1 (Activation)   (None, 38)                   0         ['dense[0][0]']               \n",
            "                                                                                                  \n",
            "==================================================================================================\n",
            "Total params: 38730 (151.29 KB)\n",
            "Trainable params: 38730 (151.29 KB)\n",
            "Non-trainable params: 0 (0.00 Byte)\n",
            "__________________________________________________________________________________________________\n"
          ]
        }
      ]
    },
    {
      "cell_type": "code",
      "source": [
        "# Fitting the model to the training data\n",
        "results = model.fit(x = [inputs_train, queries_train],\n",
        "                    y = answers_train,\n",
        "                    batch_size = 32,\n",
        "                    epochs = 100,\n",
        "                    validation_data = ([inputs_test, queries_test], answers_test))"
      ],
      "metadata": {
        "colab": {
          "base_uri": "https://localhost:8080/"
        },
        "id": "_If3Ogs1EkaE",
        "outputId": "fdaaf1f2-b680-49ae-cd76-f3745335f36f"
      },
      "execution_count": 29,
      "outputs": [
        {
          "output_type": "stream",
          "name": "stdout",
          "text": [
            "Epoch 1/100\n",
            "313/313 [==============================] - 11s 12ms/step - loss: 0.9329 - accuracy: 0.4903 - val_loss: 0.6946 - val_accuracy: 0.5000\n",
            "Epoch 2/100\n",
            "313/313 [==============================] - 2s 6ms/step - loss: 0.7050 - accuracy: 0.5055 - val_loss: 0.6936 - val_accuracy: 0.5030\n",
            "Epoch 3/100\n",
            "313/313 [==============================] - 2s 6ms/step - loss: 0.6983 - accuracy: 0.4948 - val_loss: 0.6933 - val_accuracy: 0.5030\n",
            "Epoch 4/100\n",
            "313/313 [==============================] - 2s 6ms/step - loss: 0.6958 - accuracy: 0.5068 - val_loss: 0.6932 - val_accuracy: 0.5030\n",
            "Epoch 5/100\n",
            "313/313 [==============================] - 2s 7ms/step - loss: 0.6960 - accuracy: 0.4959 - val_loss: 0.6942 - val_accuracy: 0.4970\n",
            "Epoch 6/100\n",
            "313/313 [==============================] - 2s 6ms/step - loss: 0.6956 - accuracy: 0.4941 - val_loss: 0.6932 - val_accuracy: 0.5030\n",
            "Epoch 7/100\n",
            "313/313 [==============================] - 2s 8ms/step - loss: 0.6962 - accuracy: 0.4866 - val_loss: 0.6942 - val_accuracy: 0.4970\n",
            "Epoch 8/100\n",
            "313/313 [==============================] - 2s 7ms/step - loss: 0.6946 - accuracy: 0.5089 - val_loss: 0.6945 - val_accuracy: 0.4970\n",
            "Epoch 9/100\n",
            "313/313 [==============================] - 2s 6ms/step - loss: 0.6951 - accuracy: 0.5061 - val_loss: 0.6945 - val_accuracy: 0.4970\n",
            "Epoch 10/100\n",
            "313/313 [==============================] - 2s 6ms/step - loss: 0.6957 - accuracy: 0.4858 - val_loss: 0.6943 - val_accuracy: 0.4970\n",
            "Epoch 11/100\n",
            "313/313 [==============================] - 2s 6ms/step - loss: 0.6960 - accuracy: 0.4863 - val_loss: 0.6937 - val_accuracy: 0.4970\n",
            "Epoch 12/100\n",
            "313/313 [==============================] - 2s 6ms/step - loss: 0.6951 - accuracy: 0.4968 - val_loss: 0.6941 - val_accuracy: 0.5030\n",
            "Epoch 13/100\n",
            "313/313 [==============================] - 2s 7ms/step - loss: 0.6950 - accuracy: 0.4962 - val_loss: 0.6932 - val_accuracy: 0.5030\n",
            "Epoch 14/100\n",
            "313/313 [==============================] - 2s 7ms/step - loss: 0.6956 - accuracy: 0.4950 - val_loss: 0.6934 - val_accuracy: 0.5030\n",
            "Epoch 15/100\n",
            "313/313 [==============================] - 2s 6ms/step - loss: 0.6957 - accuracy: 0.4951 - val_loss: 0.6934 - val_accuracy: 0.4970\n",
            "Epoch 16/100\n",
            "313/313 [==============================] - 2s 6ms/step - loss: 0.6953 - accuracy: 0.4988 - val_loss: 0.6945 - val_accuracy: 0.4970\n",
            "Epoch 17/100\n",
            "313/313 [==============================] - 2s 6ms/step - loss: 0.6952 - accuracy: 0.4928 - val_loss: 0.6933 - val_accuracy: 0.4970\n",
            "Epoch 18/100\n",
            "313/313 [==============================] - 2s 6ms/step - loss: 0.6946 - accuracy: 0.5056 - val_loss: 0.6935 - val_accuracy: 0.4970\n",
            "Epoch 19/100\n",
            "313/313 [==============================] - 2s 6ms/step - loss: 0.6949 - accuracy: 0.5029 - val_loss: 0.6931 - val_accuracy: 0.5030\n",
            "Epoch 20/100\n",
            "313/313 [==============================] - 3s 8ms/step - loss: 0.6951 - accuracy: 0.4989 - val_loss: 0.6939 - val_accuracy: 0.5030\n",
            "Epoch 21/100\n",
            "313/313 [==============================] - 2s 6ms/step - loss: 0.6950 - accuracy: 0.5023 - val_loss: 0.6937 - val_accuracy: 0.5030\n",
            "Epoch 22/100\n",
            "313/313 [==============================] - 2s 6ms/step - loss: 0.6956 - accuracy: 0.4948 - val_loss: 0.6944 - val_accuracy: 0.4970\n",
            "Epoch 23/100\n",
            "313/313 [==============================] - 2s 6ms/step - loss: 0.6952 - accuracy: 0.4977 - val_loss: 0.6933 - val_accuracy: 0.5030\n",
            "Epoch 24/100\n",
            "313/313 [==============================] - 2s 6ms/step - loss: 0.6947 - accuracy: 0.5008 - val_loss: 0.6934 - val_accuracy: 0.5030\n",
            "Epoch 25/100\n",
            "313/313 [==============================] - 2s 6ms/step - loss: 0.6949 - accuracy: 0.5047 - val_loss: 0.6931 - val_accuracy: 0.5030\n",
            "Epoch 26/100\n",
            "313/313 [==============================] - 2s 8ms/step - loss: 0.6953 - accuracy: 0.4956 - val_loss: 0.6934 - val_accuracy: 0.5030\n",
            "Epoch 27/100\n",
            "313/313 [==============================] - 2s 7ms/step - loss: 0.6952 - accuracy: 0.4907 - val_loss: 0.6950 - val_accuracy: 0.4970\n",
            "Epoch 28/100\n",
            "313/313 [==============================] - 2s 6ms/step - loss: 0.6950 - accuracy: 0.4953 - val_loss: 0.6932 - val_accuracy: 0.5030\n",
            "Epoch 29/100\n",
            "313/313 [==============================] - 2s 6ms/step - loss: 0.6950 - accuracy: 0.5000 - val_loss: 0.6932 - val_accuracy: 0.4970\n",
            "Epoch 30/100\n",
            "313/313 [==============================] - 2s 6ms/step - loss: 0.6950 - accuracy: 0.4954 - val_loss: 0.6932 - val_accuracy: 0.5030\n",
            "Epoch 31/100\n",
            "313/313 [==============================] - 2s 7ms/step - loss: 0.6945 - accuracy: 0.5076 - val_loss: 0.6937 - val_accuracy: 0.4970\n",
            "Epoch 32/100\n",
            "313/313 [==============================] - 2s 7ms/step - loss: 0.6946 - accuracy: 0.5079 - val_loss: 0.6935 - val_accuracy: 0.4970\n",
            "Epoch 33/100\n",
            "313/313 [==============================] - 2s 8ms/step - loss: 0.6953 - accuracy: 0.4981 - val_loss: 0.6936 - val_accuracy: 0.5030\n",
            "Epoch 34/100\n",
            "313/313 [==============================] - 2s 6ms/step - loss: 0.6945 - accuracy: 0.5011 - val_loss: 0.6954 - val_accuracy: 0.5030\n",
            "Epoch 35/100\n",
            "313/313 [==============================] - 2s 6ms/step - loss: 0.6949 - accuracy: 0.4977 - val_loss: 0.6932 - val_accuracy: 0.4970\n",
            "Epoch 36/100\n",
            "313/313 [==============================] - 2s 6ms/step - loss: 0.6949 - accuracy: 0.5004 - val_loss: 0.6931 - val_accuracy: 0.5030\n",
            "Epoch 37/100\n",
            "313/313 [==============================] - 2s 6ms/step - loss: 0.6951 - accuracy: 0.5001 - val_loss: 0.6931 - val_accuracy: 0.5030\n",
            "Epoch 38/100\n",
            "313/313 [==============================] - 2s 7ms/step - loss: 0.6947 - accuracy: 0.5050 - val_loss: 0.6944 - val_accuracy: 0.4970\n",
            "Epoch 39/100\n",
            "313/313 [==============================] - 2s 8ms/step - loss: 0.6950 - accuracy: 0.5005 - val_loss: 0.6953 - val_accuracy: 0.5030\n",
            "Epoch 40/100\n",
            "313/313 [==============================] - 2s 6ms/step - loss: 0.6952 - accuracy: 0.4970 - val_loss: 0.6932 - val_accuracy: 0.5030\n",
            "Epoch 41/100\n",
            "313/313 [==============================] - 2s 6ms/step - loss: 0.6948 - accuracy: 0.4962 - val_loss: 0.6936 - val_accuracy: 0.5030\n",
            "Epoch 42/100\n",
            "313/313 [==============================] - 2s 6ms/step - loss: 0.6943 - accuracy: 0.5077 - val_loss: 0.6932 - val_accuracy: 0.4970\n",
            "Epoch 43/100\n",
            "313/313 [==============================] - 2s 6ms/step - loss: 0.6946 - accuracy: 0.4998 - val_loss: 0.6945 - val_accuracy: 0.4970\n",
            "Epoch 44/100\n",
            "313/313 [==============================] - 2s 6ms/step - loss: 0.6947 - accuracy: 0.5023 - val_loss: 0.6935 - val_accuracy: 0.4970\n",
            "Epoch 45/100\n",
            "313/313 [==============================] - 3s 8ms/step - loss: 0.6940 - accuracy: 0.5110 - val_loss: 0.6932 - val_accuracy: 0.4910\n",
            "Epoch 46/100\n",
            "313/313 [==============================] - 2s 6ms/step - loss: 0.6947 - accuracy: 0.4978 - val_loss: 0.6931 - val_accuracy: 0.5030\n",
            "Epoch 47/100\n",
            "313/313 [==============================] - 2s 7ms/step - loss: 0.6943 - accuracy: 0.5096 - val_loss: 0.6963 - val_accuracy: 0.5030\n",
            "Epoch 48/100\n",
            "313/313 [==============================] - 2s 6ms/step - loss: 0.6951 - accuracy: 0.4951 - val_loss: 0.6964 - val_accuracy: 0.4970\n",
            "Epoch 49/100\n",
            "313/313 [==============================] - 2s 6ms/step - loss: 0.6949 - accuracy: 0.4919 - val_loss: 0.6931 - val_accuracy: 0.5030\n",
            "Epoch 50/100\n",
            "313/313 [==============================] - 2s 6ms/step - loss: 0.6951 - accuracy: 0.4931 - val_loss: 0.6932 - val_accuracy: 0.5030\n",
            "Epoch 51/100\n",
            "313/313 [==============================] - 3s 8ms/step - loss: 0.6949 - accuracy: 0.4949 - val_loss: 0.6953 - val_accuracy: 0.5030\n",
            "Epoch 52/100\n",
            "313/313 [==============================] - 2s 6ms/step - loss: 0.6948 - accuracy: 0.4929 - val_loss: 0.6939 - val_accuracy: 0.4970\n",
            "Epoch 53/100\n",
            "313/313 [==============================] - 2s 6ms/step - loss: 0.6946 - accuracy: 0.5001 - val_loss: 0.6948 - val_accuracy: 0.4970\n",
            "Epoch 54/100\n",
            "313/313 [==============================] - 2s 6ms/step - loss: 0.6951 - accuracy: 0.4937 - val_loss: 0.6932 - val_accuracy: 0.5030\n",
            "Epoch 55/100\n",
            "313/313 [==============================] - 2s 6ms/step - loss: 0.6947 - accuracy: 0.5023 - val_loss: 0.6937 - val_accuracy: 0.5030\n",
            "Epoch 56/100\n",
            "313/313 [==============================] - 2s 6ms/step - loss: 0.6945 - accuracy: 0.5033 - val_loss: 0.6945 - val_accuracy: 0.4970\n",
            "Epoch 57/100\n",
            "313/313 [==============================] - 3s 9ms/step - loss: 0.6947 - accuracy: 0.5032 - val_loss: 0.6937 - val_accuracy: 0.5030\n",
            "Epoch 58/100\n",
            "313/313 [==============================] - 2s 6ms/step - loss: 0.6943 - accuracy: 0.5053 - val_loss: 0.6932 - val_accuracy: 0.5030\n",
            "Epoch 59/100\n",
            "313/313 [==============================] - 2s 6ms/step - loss: 0.6944 - accuracy: 0.5038 - val_loss: 0.6933 - val_accuracy: 0.4950\n",
            "Epoch 60/100\n",
            "313/313 [==============================] - 2s 6ms/step - loss: 0.6948 - accuracy: 0.5066 - val_loss: 0.6940 - val_accuracy: 0.4970\n",
            "Epoch 61/100\n",
            "313/313 [==============================] - 2s 6ms/step - loss: 0.6944 - accuracy: 0.5016 - val_loss: 0.6937 - val_accuracy: 0.5000\n",
            "Epoch 62/100\n",
            "313/313 [==============================] - 2s 6ms/step - loss: 0.6944 - accuracy: 0.5024 - val_loss: 0.6934 - val_accuracy: 0.5060\n",
            "Epoch 63/100\n",
            "313/313 [==============================] - 3s 8ms/step - loss: 0.6941 - accuracy: 0.5076 - val_loss: 0.6965 - val_accuracy: 0.4990\n",
            "Epoch 64/100\n",
            "313/313 [==============================] - 2s 6ms/step - loss: 0.6948 - accuracy: 0.4975 - val_loss: 0.6957 - val_accuracy: 0.4980\n",
            "Epoch 65/100\n",
            "313/313 [==============================] - 2s 6ms/step - loss: 0.6939 - accuracy: 0.5031 - val_loss: 0.6949 - val_accuracy: 0.5000\n",
            "Epoch 66/100\n",
            "313/313 [==============================] - 2s 6ms/step - loss: 0.6935 - accuracy: 0.5106 - val_loss: 0.6970 - val_accuracy: 0.4950\n",
            "Epoch 67/100\n",
            "313/313 [==============================] - 2s 6ms/step - loss: 0.6920 - accuracy: 0.5227 - val_loss: 0.7074 - val_accuracy: 0.4970\n",
            "Epoch 68/100\n",
            "313/313 [==============================] - 2s 8ms/step - loss: 0.6912 - accuracy: 0.5193 - val_loss: 0.6933 - val_accuracy: 0.5210\n",
            "Epoch 69/100\n",
            "313/313 [==============================] - 3s 11ms/step - loss: 0.6892 - accuracy: 0.5363 - val_loss: 0.6917 - val_accuracy: 0.5170\n",
            "Epoch 70/100\n",
            "313/313 [==============================] - 2s 6ms/step - loss: 0.6846 - accuracy: 0.5366 - val_loss: 0.6847 - val_accuracy: 0.5280\n",
            "Epoch 71/100\n",
            "313/313 [==============================] - 2s 6ms/step - loss: 0.6780 - accuracy: 0.5562 - val_loss: 0.6771 - val_accuracy: 0.5510\n",
            "Epoch 72/100\n",
            "313/313 [==============================] - 2s 6ms/step - loss: 0.6700 - accuracy: 0.5678 - val_loss: 0.6703 - val_accuracy: 0.5490\n",
            "Epoch 73/100\n",
            "313/313 [==============================] - 2s 6ms/step - loss: 0.6655 - accuracy: 0.5813 - val_loss: 0.6632 - val_accuracy: 0.5990\n",
            "Epoch 74/100\n",
            "313/313 [==============================] - 2s 6ms/step - loss: 0.6587 - accuracy: 0.5951 - val_loss: 0.6492 - val_accuracy: 0.6310\n",
            "Epoch 75/100\n",
            "313/313 [==============================] - 3s 8ms/step - loss: 0.6466 - accuracy: 0.6259 - val_loss: 0.6390 - val_accuracy: 0.6360\n",
            "Epoch 76/100\n",
            "313/313 [==============================] - 2s 6ms/step - loss: 0.6369 - accuracy: 0.6395 - val_loss: 0.6404 - val_accuracy: 0.6370\n",
            "Epoch 77/100\n",
            "313/313 [==============================] - 2s 6ms/step - loss: 0.6305 - accuracy: 0.6474 - val_loss: 0.6221 - val_accuracy: 0.6610\n",
            "Epoch 78/100\n",
            "313/313 [==============================] - 2s 6ms/step - loss: 0.6248 - accuracy: 0.6518 - val_loss: 0.6188 - val_accuracy: 0.6640\n",
            "Epoch 79/100\n",
            "313/313 [==============================] - 2s 6ms/step - loss: 0.6188 - accuracy: 0.6638 - val_loss: 0.6175 - val_accuracy: 0.6500\n",
            "Epoch 80/100\n",
            "313/313 [==============================] - 2s 6ms/step - loss: 0.6070 - accuracy: 0.6774 - val_loss: 0.6041 - val_accuracy: 0.6820\n",
            "Epoch 81/100\n",
            "313/313 [==============================] - 2s 7ms/step - loss: 0.6033 - accuracy: 0.6761 - val_loss: 0.5959 - val_accuracy: 0.6970\n",
            "Epoch 82/100\n",
            "313/313 [==============================] - 2s 7ms/step - loss: 0.5948 - accuracy: 0.6862 - val_loss: 0.5861 - val_accuracy: 0.6980\n",
            "Epoch 83/100\n",
            "313/313 [==============================] - 2s 6ms/step - loss: 0.5880 - accuracy: 0.6981 - val_loss: 0.5847 - val_accuracy: 0.6950\n",
            "Epoch 84/100\n",
            "313/313 [==============================] - 2s 6ms/step - loss: 0.5771 - accuracy: 0.7019 - val_loss: 0.5741 - val_accuracy: 0.6980\n",
            "Epoch 85/100\n",
            "313/313 [==============================] - 2s 6ms/step - loss: 0.5589 - accuracy: 0.7245 - val_loss: 0.5415 - val_accuracy: 0.7180\n",
            "Epoch 86/100\n",
            "313/313 [==============================] - 2s 6ms/step - loss: 0.5484 - accuracy: 0.7312 - val_loss: 0.5237 - val_accuracy: 0.7390\n",
            "Epoch 87/100\n",
            "313/313 [==============================] - 2s 7ms/step - loss: 0.5288 - accuracy: 0.7459 - val_loss: 0.5005 - val_accuracy: 0.7750\n",
            "Epoch 88/100\n",
            "313/313 [==============================] - 3s 8ms/step - loss: 0.5084 - accuracy: 0.7605 - val_loss: 0.5114 - val_accuracy: 0.7860\n",
            "Epoch 89/100\n",
            "313/313 [==============================] - 2s 6ms/step - loss: 0.4978 - accuracy: 0.7683 - val_loss: 0.4816 - val_accuracy: 0.7710\n",
            "Epoch 90/100\n",
            "313/313 [==============================] - 2s 6ms/step - loss: 0.4863 - accuracy: 0.7781 - val_loss: 0.4773 - val_accuracy: 0.7640\n",
            "Epoch 91/100\n",
            "313/313 [==============================] - 2s 6ms/step - loss: 0.4804 - accuracy: 0.7799 - val_loss: 0.4518 - val_accuracy: 0.7980\n",
            "Epoch 92/100\n",
            "313/313 [==============================] - 2s 6ms/step - loss: 0.4668 - accuracy: 0.7960 - val_loss: 0.4742 - val_accuracy: 0.7650\n",
            "Epoch 93/100\n",
            "313/313 [==============================] - 2s 7ms/step - loss: 0.4465 - accuracy: 0.8061 - val_loss: 0.4491 - val_accuracy: 0.7870\n",
            "Epoch 94/100\n",
            "313/313 [==============================] - 3s 9ms/step - loss: 0.4422 - accuracy: 0.8051 - val_loss: 0.4472 - val_accuracy: 0.8160\n",
            "Epoch 95/100\n",
            "313/313 [==============================] - 2s 8ms/step - loss: 0.4246 - accuracy: 0.8169 - val_loss: 0.4118 - val_accuracy: 0.8290\n",
            "Epoch 96/100\n",
            "313/313 [==============================] - 2s 6ms/step - loss: 0.4190 - accuracy: 0.8188 - val_loss: 0.4295 - val_accuracy: 0.8170\n",
            "Epoch 97/100\n",
            "313/313 [==============================] - 2s 6ms/step - loss: 0.4072 - accuracy: 0.8265 - val_loss: 0.3976 - val_accuracy: 0.8210\n",
            "Epoch 98/100\n",
            "313/313 [==============================] - 2s 6ms/step - loss: 0.3949 - accuracy: 0.8320 - val_loss: 0.3953 - val_accuracy: 0.8220\n",
            "Epoch 99/100\n",
            "313/313 [==============================] - 2s 7ms/step - loss: 0.3870 - accuracy: 0.8377 - val_loss: 0.3934 - val_accuracy: 0.8240\n",
            "Epoch 100/100\n",
            "313/313 [==============================] - 2s 8ms/step - loss: 0.3852 - accuracy: 0.8378 - val_loss: 0.3828 - val_accuracy: 0.8290\n"
          ]
        }
      ]
    },
    {
      "cell_type": "code",
      "source": [
        "# Plotting model's train and validation accuracy\n",
        "import matplotlib.pyplot as plt\n",
        "plt.figure(figsize = (8,5))\n",
        "plt.plot(results.history['accuracy'])\n",
        "plt.plot(results.history['val_accuracy'])\n",
        "plt.xlabel('Epochs')\n",
        "plt.ylabel('Accuracy')\n",
        "plt.legend(['Train', 'Test'], loc = 'upper left');"
      ],
      "metadata": {
        "colab": {
          "base_uri": "https://localhost:8080/",
          "height": 465
        },
        "id": "5fNpkkXsKxNj",
        "outputId": "8889c359-72fd-4d7c-be1a-72f5bd211a44"
      },
      "execution_count": 41,
      "outputs": [
        {
          "output_type": "display_data",
          "data": {
            "text/plain": [
              "<Figure size 800x500 with 1 Axes>"
            ],
            "image/png": "[encoded data removed]"
          },
          "metadata": {}
        }
      ]
    },
    {
      "cell_type": "markdown",
      "source": [
        "As we can clearly see, the model starts learning at around the 65th epoch, before that it operated on randomly guessing the answer."
      ],
      "metadata": {
        "id": "vVJBIGpUMukQ"
      }
    },
    {
      "cell_type": "code",
      "source": [
        "# Saving the model\n",
        "model.save('babi_model.keras')"
      ],
      "metadata": {
        "id": "xgnyOwJoL5Av"
      },
      "execution_count": 42,
      "outputs": []
    },
    {
      "cell_type": "code",
      "source": [
        "# Evaluating the model on the test data\n",
        "# We should not pass the answers since we want to evaluate the model\n",
        "eval_results = model.predict([inputs_test, queries_test])"
      ],
      "metadata": {
        "colab": {
          "base_uri": "https://localhost:8080/"
        },
        "id": "poJOz1NmNIAs",
        "outputId": "5203a062-9ba1-4fae-99cc-79beb659ed01"
      },
      "execution_count": 43,
      "outputs": [
        {
          "output_type": "stream",
          "name": "stdout",
          "text": [
            "32/32 [==============================] - 1s 3ms/step\n"
          ]
        }
      ]
    },
    {
      "cell_type": "code",
      "source": [
        "# This will output a probability for every single word in the vocabulary for every test story, question pairs\n",
        "eval_results"
      ],
      "metadata": {
        "colab": {
          "base_uri": "https://localhost:8080/"
        },
        "id": "F6uP1nr4Nh_I",
        "outputId": "040b7c57-3468-4abc-ae2d-4692683832bc"
      },
      "execution_count": 44,
      "outputs": [
        {
          "output_type": "execute_result",
          "data": {
            "text/plain": [
              "array([[1.1372571e-08, 9.3592654e-09, 1.2707775e-08, ..., 1.0772222e-08,\n",
              "        1.3447581e-08, 9.2175219e-09],\n",
              "       [1.7123430e-08, 1.4733923e-08, 1.9568333e-08, ..., 1.6996204e-08,\n",
              "        1.8745459e-08, 1.6058875e-08],\n",
              "       [8.4480419e-08, 7.3581340e-08, 7.7213983e-08, ..., 7.1325232e-08,\n",
              "        8.6859735e-08, 8.5327038e-08],\n",
              "       ...,\n",
              "       [3.9305242e-08, 3.3497429e-08, 4.0466077e-08, ..., 3.7702204e-08,\n",
              "        3.8825689e-08, 3.1529922e-08],\n",
              "       [5.2082651e-08, 3.9507235e-08, 4.0899245e-08, ..., 4.0911733e-08,\n",
              "        5.4354530e-08, 5.1338112e-08],\n",
              "       [1.4276155e-07, 1.1661375e-07, 1.1730060e-07, ..., 1.2298484e-07,\n",
              "        1.4609465e-07, 1.3598985e-07]], dtype=float32)"
            ]
          },
          "metadata": {},
          "execution_count": 44
        }
      ]
    },
    {
      "cell_type": "code",
      "source": [
        "# Thousand test stories, 37 + 1 vocabulary size\n",
        "eval_results.shape"
      ],
      "metadata": {
        "colab": {
          "base_uri": "https://localhost:8080/"
        },
        "id": "OsvgrXHoNo1s",
        "outputId": "8cd6b0a3-9555-4097-bfce-ee13b3ce39f0"
      },
      "execution_count": 48,
      "outputs": [
        {
          "output_type": "execute_result",
          "data": {
            "text/plain": [
              "(1000, 38)"
            ]
          },
          "metadata": {},
          "execution_count": 48
        }
      ]
    },
    {
      "cell_type": "code",
      "source": [
        "# Getting the index with maximum probability in the vocabulary\n",
        "max_pred = eval_results[0].argmax(axis = 0)\n",
        "max_pred"
      ],
      "metadata": {
        "colab": {
          "base_uri": "https://localhost:8080/"
        },
        "id": "JFduYsYyOM-Q",
        "outputId": "23e7db2a-0ac2-4696-9121-58ad251067ef"
      },
      "execution_count": 64,
      "outputs": [
        {
          "output_type": "execute_result",
          "data": {
            "text/plain": [
              "17"
            ]
          },
          "metadata": {},
          "execution_count": 64
        }
      ]
    },
    {
      "cell_type": "code",
      "source": [
        "test_data[0]"
      ],
      "metadata": {
        "colab": {
          "base_uri": "https://localhost:8080/"
        },
        "id": "0ACL4ws-a2om",
        "outputId": "d1d70983-cc37-49c8-c916-1e2cbf72cf35"
      },
      "execution_count": 109,
      "outputs": [
        {
          "output_type": "execute_result",
          "data": {
            "text/plain": [
              "(['Mary',\n",
              "  'got',\n",
              "  'the',\n",
              "  'milk',\n",
              "  'there',\n",
              "  '.',\n",
              "  'John',\n",
              "  'moved',\n",
              "  'to',\n",
              "  'the',\n",
              "  'bedroom',\n",
              "  '.'],\n",
              " ['Is', 'John', 'in', 'the', 'kitchen', '?'],\n",
              " 'no')"
            ]
          },
          "metadata": {},
          "execution_count": 109
        }
      ]
    },
    {
      "cell_type": "code",
      "source": [
        "# Saving the answers indexes into variables\n",
        "no_index = tokenizer.word_index['no']\n",
        "yes_index = tokenizer.word_index['yes']"
      ],
      "metadata": {
        "id": "qbPL6NAYP9P-"
      },
      "execution_count": 65,
      "outputs": []
    },
    {
      "cell_type": "code",
      "source": [
        "# Comparing the max index of the result with the indexes of the answers\n",
        "if max_pred == no_index:\n",
        "  print('No')\n",
        "else:\n",
        "  print(\"Yes\")\n",
        "\n",
        "# The model was 99.6% sure that the correct answer is 'no'\n",
        "print()\n",
        "print(f\"Correct answer probability is: {eval_results[0][max_pred] * 100:.2f}%\")"
      ],
      "metadata": {
        "colab": {
          "base_uri": "https://localhost:8080/"
        },
        "id": "DZzZtj4nOoZw",
        "outputId": "c20f2414-dfaa-4301-f783-ab2459095ba4"
      },
      "execution_count": 129,
      "outputs": [
        {
          "output_type": "stream",
          "name": "stdout",
          "text": [
            "No\n",
            "\n",
            "Correct answer probability is: 99.68%\n"
          ]
        }
      ]
    },
    {
      "cell_type": "markdown",
      "source": [
        "It seems we got the correct answer regarding the first story and question that also had 'no' as the answer\n",
        "\n",
        "Now we're going to test our model on some new, neven before seen stories and questions.\n",
        "\n",
        "Keep in mind that since the model is trained on a limited vocabulay, we can only construct the stories and questions using words from said vocabulary."
      ],
      "metadata": {
        "id": "0_6Des5nRDsP"
      }
    },
    {
      "cell_type": "code",
      "source": [
        "vocab"
      ],
      "metadata": {
        "colab": {
          "base_uri": "https://localhost:8080/"
        },
        "id": "dMuD5xjIQyix",
        "outputId": "345b7efd-3bf2-4964-eb88-656367ee3877"
      },
      "execution_count": 77,
      "outputs": [
        {
          "output_type": "execute_result",
          "data": {
            "text/plain": [
              "{'.',\n",
              " '?',\n",
              " 'Daniel',\n",
              " 'Is',\n",
              " 'John',\n",
              " 'Mary',\n",
              " 'Sandra',\n",
              " 'apple',\n",
              " 'back',\n",
              " 'bathroom',\n",
              " 'bedroom',\n",
              " 'discarded',\n",
              " 'down',\n",
              " 'dropped',\n",
              " 'football',\n",
              " 'garden',\n",
              " 'got',\n",
              " 'grabbed',\n",
              " 'hallway',\n",
              " 'in',\n",
              " 'journeyed',\n",
              " 'kitchen',\n",
              " 'left',\n",
              " 'milk',\n",
              " 'moved',\n",
              " 'no',\n",
              " 'office',\n",
              " 'picked',\n",
              " 'put',\n",
              " 'the',\n",
              " 'there',\n",
              " 'to',\n",
              " 'took',\n",
              " 'travelled',\n",
              " 'up',\n",
              " 'went',\n",
              " 'yes'}"
            ]
          },
          "metadata": {},
          "execution_count": 77
        }
      ]
    },
    {
      "cell_type": "code",
      "source": [
        "# Creating a custom story and question\n",
        "# We need to leave a space before and after each punctiuation, becuase they're seen as seperate tokens by the vocabulary\n",
        "my_story = 'John left the kitchen . Sandra dropped the football in the garden .'\n",
        "my_question = 'Is the football in the garden ?'\n",
        "\n",
        "# Packing our custom data into a single list of single tuple (What the models expects)\n",
        "# We need to pass each sentence as a list\n",
        "# The predicted answer (logically) is 'no'\n",
        "my_data = [(my_story.split(),\n",
        "            my_question.split(),\n",
        "            'yes')]"
      ],
      "metadata": {
        "id": "AqHuvezUReUv"
      },
      "execution_count": 99,
      "outputs": []
    },
    {
      "cell_type": "code",
      "source": [
        "# Now we have to vectorize the data using the vectorizer function we created above\n",
        "my_story, my_question, my_answer = vectorize_stories(my_data)"
      ],
      "metadata": {
        "id": "_V2v0aOnUEcW"
      },
      "execution_count": 100,
      "outputs": []
    },
    {
      "cell_type": "code",
      "source": [
        "my_story"
      ],
      "metadata": {
        "colab": {
          "base_uri": "https://localhost:8080/"
        },
        "id": "kXsO48MqUT8W",
        "outputId": "3ff96a1e-f9c5-43f7-9420-635802dd842e"
      },
      "execution_count": 101,
      "outputs": [
        {
          "output_type": "execute_result",
          "data": {
            "text/plain": [
              "array([[ 0,  0,  0,  0,  0,  0,  0,  0,  0,  0,  0,  0,  0,  0,  0,  0,\n",
              "         0,  0,  0,  0,  0,  0,  0,  0,  0,  0,  0,  0,  0,  0,  0,  0,\n",
              "         0,  0,  0,  0,  0,  0,  0,  0,  0,  0,  0,  0,  0,  0,  0,  0,\n",
              "         0,  0,  0,  0,  0,  0,  0,  0,  0,  0,  0,  0,  0,  0,  0,  0,\n",
              "         0,  0,  0,  0,  0,  0,  0,  0,  0,  0,  0,  0,  0,  0,  0,  0,\n",
              "         0,  0,  0,  0,  0,  0,  0,  0,  0,  0,  0,  0,  0,  0,  0,  0,\n",
              "         0,  0,  0,  0,  0,  0,  0,  0,  0,  0,  0,  0,  0,  0,  0,  0,\n",
              "         0,  0,  0,  0,  0,  0,  0,  0,  0,  0,  0,  0,  0,  0,  0,  0,\n",
              "         0,  0,  0,  0,  0,  0,  0,  0,  0,  0,  0,  0,  0,  0,  0, 36,\n",
              "         2, 33, 10, 26,  9, 12, 33, 25, 14, 33,  5, 26]], dtype=int32)"
            ]
          },
          "metadata": {},
          "execution_count": 101
        }
      ]
    },
    {
      "cell_type": "code",
      "source": [
        "# Using the model to predict the correct answer of story and question\n",
        "custom_pred_res = model.predict(([my_story, my_question]))"
      ],
      "metadata": {
        "colab": {
          "base_uri": "https://localhost:8080/"
        },
        "id": "bd_Rzsm0UVCW",
        "outputId": "ba0d02a6-a8f6-42e3-8ad6-e7d7d19c8136"
      },
      "execution_count": 102,
      "outputs": [
        {
          "output_type": "stream",
          "name": "stdout",
          "text": [
            "1/1 [==============================] - 0s 29ms/step\n"
          ]
        }
      ]
    },
    {
      "cell_type": "code",
      "source": [
        "custom_max_pred = custom_pred_res.argmax(axis = 1)\n",
        "custom_max_pred"
      ],
      "metadata": {
        "colab": {
          "base_uri": "https://localhost:8080/"
        },
        "id": "QmQDTaZ_Ujip",
        "outputId": "9b695c72-0566-4eca-f674-64d4b6a0b775"
      },
      "execution_count": 103,
      "outputs": [
        {
          "output_type": "execute_result",
          "data": {
            "text/plain": [
              "array([7])"
            ]
          },
          "metadata": {},
          "execution_count": 103
        }
      ]
    },
    {
      "cell_type": "code",
      "source": [
        "# As we can see the model predicted 'yes' the same as the logical answer to the question\n",
        "if custom_max_pred == no_index:\n",
        "  print('No')\n",
        "else:\n",
        "  print(\"Yes\")"
      ],
      "metadata": {
        "colab": {
          "base_uri": "https://localhost:8080/"
        },
        "id": "fCjSwyq_Up5M",
        "outputId": "faa2aae2-89ce-4986-d18f-247a1592287b"
      },
      "execution_count": 104,
      "outputs": [
        {
          "output_type": "stream",
          "name": "stdout",
          "text": [
            "Yes\n"
          ]
        }
      ]
    },
    {
      "cell_type": "code",
      "source": [
        "# The correct answer probability\n",
        "custom_pred_res[0][custom_max_pred].item() * 100"
      ],
      "metadata": {
        "colab": {
          "base_uri": "https://localhost:8080/"
        },
        "id": "gX3ALf_WUu3-",
        "outputId": "1cb22905-3cd5-4db0-d686-b9248fff20d5"
      },
      "execution_count": 105,
      "outputs": [
        {
          "output_type": "execute_result",
          "data": {
            "text/plain": [
              "97.08059430122375"
            ]
          },
          "metadata": {},
          "execution_count": 105
        }
      ]
    },
    {
      "cell_type": "code",
      "source": [],
      "metadata": {
        "id": "72kQQfGadOSD"
      },
      "execution_count": null,
      "outputs": []
    }
  ],
  "metadata": {
    "colab": {
      "provenance": [],
      "gpuType": "T4",
      "authorship_tag": "ABX9TyNtFAk9YemDQ0efpl9L9L02",
      "include_colab_link": true
    },
    "kernelspec": {
      "display_name": "Python 3",
      "name": "python3"
    },
    "language_info": {
      "name": "python"
    },
    "accelerator": "GPU"
  },
  "nbformat": 4,
  "nbformat_minor": 0
}