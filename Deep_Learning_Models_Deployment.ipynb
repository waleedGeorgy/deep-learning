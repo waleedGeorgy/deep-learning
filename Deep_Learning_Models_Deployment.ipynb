{
  "nbformat": 4,
  "nbformat_minor": 0,
  "metadata": {
    "colab": {
      "provenance": [],
      "gpuType": "T4",
      "authorship_tag": "ABX9TyOquQ+l8ngKecqJDpPZbOk+",
      "include_colab_link": true
    },
    "kernelspec": {
      "name": "python3",
      "display_name": "Python 3"
    },
    "language_info": {
      "name": "python"
    },
    "widgets": {
      "application/vnd.jupyter.widget-state+json": {
        "d18ad8be43734f59ae1b314a885bedb8": {
          "model_module": "@jupyter-widgets/controls",
          "model_name": "HBoxModel",
          "model_module_version": "1.5.0",
          "state": {
            "_dom_classes": [],
            "_model_module": "@jupyter-widgets/controls",
            "_model_module_version": "1.5.0",
            "_model_name": "HBoxModel",
            "_view_count": null,
            "_view_module": "@jupyter-widgets/controls",
            "_view_module_version": "1.5.0",
            "_view_name": "HBoxView",
            "box_style": "",
            "children": [
              "IPY_MODEL_0d6c35ee816441c98f7799aee059d9a4",
              "IPY_MODEL_654ec6fa58714f7e8e635740290b0f20",
              "IPY_MODEL_d186dfc81be641a480adbe7fff830acc"
            ],
            "layout": "IPY_MODEL_ddc52ceae8fd44bdaedf13120721c121"
          }
        },
        "0d6c35ee816441c98f7799aee059d9a4": {
          "model_module": "@jupyter-widgets/controls",
          "model_name": "HTMLModel",
          "model_module_version": "1.5.0",
          "state": {
            "_dom_classes": [],
            "_model_module": "@jupyter-widgets/controls",
            "_model_module_version": "1.5.0",
            "_model_name": "HTMLModel",
            "_view_count": null,
            "_view_module": "@jupyter-widgets/controls",
            "_view_module_version": "1.5.0",
            "_view_name": "HTMLView",
            "description": "",
            "description_tooltip": null,
            "layout": "IPY_MODEL_74d6b88714ae40c99b2be42a481df6f6",
            "placeholder": "​",
            "style": "IPY_MODEL_d93e140561d4408da1e1616ebb427a5d",
            "value": "100%"
          }
        },
        "654ec6fa58714f7e8e635740290b0f20": {
          "model_module": "@jupyter-widgets/controls",
          "model_name": "FloatProgressModel",
          "model_module_version": "1.5.0",
          "state": {
            "_dom_classes": [],
            "_model_module": "@jupyter-widgets/controls",
            "_model_module_version": "1.5.0",
            "_model_name": "FloatProgressModel",
            "_view_count": null,
            "_view_module": "@jupyter-widgets/controls",
            "_view_module_version": "1.5.0",
            "_view_name": "ProgressView",
            "bar_style": "success",
            "description": "",
            "description_tooltip": null,
            "layout": "IPY_MODEL_1a23145f785f4df2a80e46b32d0e4338",
            "max": 10,
            "min": 0,
            "orientation": "horizontal",
            "style": "IPY_MODEL_a3ced161d4d245b6920461d6ab1a07a8",
            "value": 10
          }
        },
        "d186dfc81be641a480adbe7fff830acc": {
          "model_module": "@jupyter-widgets/controls",
          "model_name": "HTMLModel",
          "model_module_version": "1.5.0",
          "state": {
            "_dom_classes": [],
            "_model_module": "@jupyter-widgets/controls",
            "_model_module_version": "1.5.0",
            "_model_name": "HTMLModel",
            "_view_count": null,
            "_view_module": "@jupyter-widgets/controls",
            "_view_module_version": "1.5.0",
            "_view_name": "HTMLView",
            "description": "",
            "description_tooltip": null,
            "layout": "IPY_MODEL_109c170eac254a8d970e023e1f615e99",
            "placeholder": "​",
            "style": "IPY_MODEL_11fc9e06e1f14dfd82aab7c1af85d48e",
            "value": " 10/10 [01:25&lt;00:00,  8.63s/it]"
          }
        },
        "ddc52ceae8fd44bdaedf13120721c121": {
          "model_module": "@jupyter-widgets/base",
          "model_name": "LayoutModel",
          "model_module_version": "1.2.0",
          "state": {
            "_model_module": "@jupyter-widgets/base",
            "_model_module_version": "1.2.0",
            "_model_name": "LayoutModel",
            "_view_count": null,
            "_view_module": "@jupyter-widgets/base",
            "_view_module_version": "1.2.0",
            "_view_name": "LayoutView",
            "align_content": null,
            "align_items": null,
            "align_self": null,
            "border": null,
            "bottom": null,
            "display": null,
            "flex": null,
            "flex_flow": null,
            "grid_area": null,
            "grid_auto_columns": null,
            "grid_auto_flow": null,
            "grid_auto_rows": null,
            "grid_column": null,
            "grid_gap": null,
            "grid_row": null,
            "grid_template_areas": null,
            "grid_template_columns": null,
            "grid_template_rows": null,
            "height": null,
            "justify_content": null,
            "justify_items": null,
            "left": null,
            "margin": null,
            "max_height": null,
            "max_width": null,
            "min_height": null,
            "min_width": null,
            "object_fit": null,
            "object_position": null,
            "order": null,
            "overflow": null,
            "overflow_x": null,
            "overflow_y": null,
            "padding": null,
            "right": null,
            "top": null,
            "visibility": null,
            "width": null
          }
        },
        "74d6b88714ae40c99b2be42a481df6f6": {
          "model_module": "@jupyter-widgets/base",
          "model_name": "LayoutModel",
          "model_module_version": "1.2.0",
          "state": {
            "_model_module": "@jupyter-widgets/base",
            "_model_module_version": "1.2.0",
            "_model_name": "LayoutModel",
            "_view_count": null,
            "_view_module": "@jupyter-widgets/base",
            "_view_module_version": "1.2.0",
            "_view_name": "LayoutView",
            "align_content": null,
            "align_items": null,
            "align_self": null,
            "border": null,
            "bottom": null,
            "display": null,
            "flex": null,
            "flex_flow": null,
            "grid_area": null,
            "grid_auto_columns": null,
            "grid_auto_flow": null,
            "grid_auto_rows": null,
            "grid_column": null,
            "grid_gap": null,
            "grid_row": null,
            "grid_template_areas": null,
            "grid_template_columns": null,
            "grid_template_rows": null,
            "height": null,
            "justify_content": null,
            "justify_items": null,
            "left": null,
            "margin": null,
            "max_height": null,
            "max_width": null,
            "min_height": null,
            "min_width": null,
            "object_fit": null,
            "object_position": null,
            "order": null,
            "overflow": null,
            "overflow_x": null,
            "overflow_y": null,
            "padding": null,
            "right": null,
            "top": null,
            "visibility": null,
            "width": null
          }
        },
        "d93e140561d4408da1e1616ebb427a5d": {
          "model_module": "@jupyter-widgets/controls",
          "model_name": "DescriptionStyleModel",
          "model_module_version": "1.5.0",
          "state": {
            "_model_module": "@jupyter-widgets/controls",
            "_model_module_version": "1.5.0",
            "_model_name": "DescriptionStyleModel",
            "_view_count": null,
            "_view_module": "@jupyter-widgets/base",
            "_view_module_version": "1.2.0",
            "_view_name": "StyleView",
            "description_width": ""
          }
        },
        "1a23145f785f4df2a80e46b32d0e4338": {
          "model_module": "@jupyter-widgets/base",
          "model_name": "LayoutModel",
          "model_module_version": "1.2.0",
          "state": {
            "_model_module": "@jupyter-widgets/base",
            "_model_module_version": "1.2.0",
            "_model_name": "LayoutModel",
            "_view_count": null,
            "_view_module": "@jupyter-widgets/base",
            "_view_module_version": "1.2.0",
            "_view_name": "LayoutView",
            "align_content": null,
            "align_items": null,
            "align_self": null,
            "border": null,
            "bottom": null,
            "display": null,
            "flex": null,
            "flex_flow": null,
            "grid_area": null,
            "grid_auto_columns": null,
            "grid_auto_flow": null,
            "grid_auto_rows": null,
            "grid_column": null,
            "grid_gap": null,
            "grid_row": null,
            "grid_template_areas": null,
            "grid_template_columns": null,
            "grid_template_rows": null,
            "height": null,
            "justify_content": null,
            "justify_items": null,
            "left": null,
            "margin": null,
            "max_height": null,
            "max_width": null,
            "min_height": null,
            "min_width": null,
            "object_fit": null,
            "object_position": null,
            "order": null,
            "overflow": null,
            "overflow_x": null,
            "overflow_y": null,
            "padding": null,
            "right": null,
            "top": null,
            "visibility": null,
            "width": null
          }
        },
        "a3ced161d4d245b6920461d6ab1a07a8": {
          "model_module": "@jupyter-widgets/controls",
          "model_name": "ProgressStyleModel",
          "model_module_version": "1.5.0",
          "state": {
            "_model_module": "@jupyter-widgets/controls",
            "_model_module_version": "1.5.0",
            "_model_name": "ProgressStyleModel",
            "_view_count": null,
            "_view_module": "@jupyter-widgets/base",
            "_view_module_version": "1.2.0",
            "_view_name": "StyleView",
            "bar_color": null,
            "description_width": ""
          }
        },
        "109c170eac254a8d970e023e1f615e99": {
          "model_module": "@jupyter-widgets/base",
          "model_name": "LayoutModel",
          "model_module_version": "1.2.0",
          "state": {
            "_model_module": "@jupyter-widgets/base",
            "_model_module_version": "1.2.0",
            "_model_name": "LayoutModel",
            "_view_count": null,
            "_view_module": "@jupyter-widgets/base",
            "_view_module_version": "1.2.0",
            "_view_name": "LayoutView",
            "align_content": null,
            "align_items": null,
            "align_self": null,
            "border": null,
            "bottom": null,
            "display": null,
            "flex": null,
            "flex_flow": null,
            "grid_area": null,
            "grid_auto_columns": null,
            "grid_auto_flow": null,
            "grid_auto_rows": null,
            "grid_column": null,
            "grid_gap": null,
            "grid_row": null,
            "grid_template_areas": null,
            "grid_template_columns": null,
            "grid_template_rows": null,
            "height": null,
            "justify_content": null,
            "justify_items": null,
            "left": null,
            "margin": null,
            "max_height": null,
            "max_width": null,
            "min_height": null,
            "min_width": null,
            "object_fit": null,
            "object_position": null,
            "order": null,
            "overflow": null,
            "overflow_x": null,
            "overflow_y": null,
            "padding": null,
            "right": null,
            "top": null,
            "visibility": null,
            "width": null
          }
        },
        "11fc9e06e1f14dfd82aab7c1af85d48e": {
          "model_module": "@jupyter-widgets/controls",
          "model_name": "DescriptionStyleModel",
          "model_module_version": "1.5.0",
          "state": {
            "_model_module": "@jupyter-widgets/controls",
            "_model_module_version": "1.5.0",
            "_model_name": "DescriptionStyleModel",
            "_view_count": null,
            "_view_module": "@jupyter-widgets/base",
            "_view_module_version": "1.2.0",
            "_view_name": "StyleView",
            "description_width": ""
          }
        },
        "5d16161f141d467a93c990dc9e367fba": {
          "model_module": "@jupyter-widgets/controls",
          "model_name": "HBoxModel",
          "model_module_version": "1.5.0",
          "state": {
            "_dom_classes": [],
            "_model_module": "@jupyter-widgets/controls",
            "_model_module_version": "1.5.0",
            "_model_name": "HBoxModel",
            "_view_count": null,
            "_view_module": "@jupyter-widgets/controls",
            "_view_module_version": "1.5.0",
            "_view_name": "HBoxView",
            "box_style": "",
            "children": [
              "IPY_MODEL_72f4ed34fac44d30a653b97d9f90b61c",
              "IPY_MODEL_d0f6b62e662441aeab55baa1cfdc0981",
              "IPY_MODEL_e228b0b4d3ac46e0af4a86f252c3bfec"
            ],
            "layout": "IPY_MODEL_aa459727b9e0413198eeb4d4d283ad40"
          }
        },
        "72f4ed34fac44d30a653b97d9f90b61c": {
          "model_module": "@jupyter-widgets/controls",
          "model_name": "HTMLModel",
          "model_module_version": "1.5.0",
          "state": {
            "_dom_classes": [],
            "_model_module": "@jupyter-widgets/controls",
            "_model_module_version": "1.5.0",
            "_model_name": "HTMLModel",
            "_view_count": null,
            "_view_module": "@jupyter-widgets/controls",
            "_view_module_version": "1.5.0",
            "_view_name": "HTMLView",
            "description": "",
            "description_tooltip": null,
            "layout": "IPY_MODEL_c0dfe83c49444d9788c44f7796b51a22",
            "placeholder": "​",
            "style": "IPY_MODEL_e0fa5eecb23442f78a6350c84af7dde2",
            "value": "100%"
          }
        },
        "d0f6b62e662441aeab55baa1cfdc0981": {
          "model_module": "@jupyter-widgets/controls",
          "model_name": "FloatProgressModel",
          "model_module_version": "1.5.0",
          "state": {
            "_dom_classes": [],
            "_model_module": "@jupyter-widgets/controls",
            "_model_module_version": "1.5.0",
            "_model_name": "FloatProgressModel",
            "_view_count": null,
            "_view_module": "@jupyter-widgets/controls",
            "_view_module_version": "1.5.0",
            "_view_name": "ProgressView",
            "bar_style": "success",
            "description": "",
            "description_tooltip": null,
            "layout": "IPY_MODEL_ca29247ff6cc4bdeaa7010642a2ec9b4",
            "max": 10,
            "min": 0,
            "orientation": "horizontal",
            "style": "IPY_MODEL_63e7bcd017b14c75bd75237e1aff542b",
            "value": 10
          }
        },
        "e228b0b4d3ac46e0af4a86f252c3bfec": {
          "model_module": "@jupyter-widgets/controls",
          "model_name": "HTMLModel",
          "model_module_version": "1.5.0",
          "state": {
            "_dom_classes": [],
            "_model_module": "@jupyter-widgets/controls",
            "_model_module_version": "1.5.0",
            "_model_name": "HTMLModel",
            "_view_count": null,
            "_view_module": "@jupyter-widgets/controls",
            "_view_module_version": "1.5.0",
            "_view_name": "HTMLView",
            "description": "",
            "description_tooltip": null,
            "layout": "IPY_MODEL_8afb718096704ccd9f7174132aaa16ae",
            "placeholder": "​",
            "style": "IPY_MODEL_443c723bfb75476d93aa4eba8c8d72d5",
            "value": " 10/10 [29:25&lt;00:00, 179.64s/it]"
          }
        },
        "aa459727b9e0413198eeb4d4d283ad40": {
          "model_module": "@jupyter-widgets/base",
          "model_name": "LayoutModel",
          "model_module_version": "1.2.0",
          "state": {
            "_model_module": "@jupyter-widgets/base",
            "_model_module_version": "1.2.0",
            "_model_name": "LayoutModel",
            "_view_count": null,
            "_view_module": "@jupyter-widgets/base",
            "_view_module_version": "1.2.0",
            "_view_name": "LayoutView",
            "align_content": null,
            "align_items": null,
            "align_self": null,
            "border": null,
            "bottom": null,
            "display": null,
            "flex": null,
            "flex_flow": null,
            "grid_area": null,
            "grid_auto_columns": null,
            "grid_auto_flow": null,
            "grid_auto_rows": null,
            "grid_column": null,
            "grid_gap": null,
            "grid_row": null,
            "grid_template_areas": null,
            "grid_template_columns": null,
            "grid_template_rows": null,
            "height": null,
            "justify_content": null,
            "justify_items": null,
            "left": null,
            "margin": null,
            "max_height": null,
            "max_width": null,
            "min_height": null,
            "min_width": null,
            "object_fit": null,
            "object_position": null,
            "order": null,
            "overflow": null,
            "overflow_x": null,
            "overflow_y": null,
            "padding": null,
            "right": null,
            "top": null,
            "visibility": null,
            "width": null
          }
        },
        "c0dfe83c49444d9788c44f7796b51a22": {
          "model_module": "@jupyter-widgets/base",
          "model_name": "LayoutModel",
          "model_module_version": "1.2.0",
          "state": {
            "_model_module": "@jupyter-widgets/base",
            "_model_module_version": "1.2.0",
            "_model_name": "LayoutModel",
            "_view_count": null,
            "_view_module": "@jupyter-widgets/base",
            "_view_module_version": "1.2.0",
            "_view_name": "LayoutView",
            "align_content": null,
            "align_items": null,
            "align_self": null,
            "border": null,
            "bottom": null,
            "display": null,
            "flex": null,
            "flex_flow": null,
            "grid_area": null,
            "grid_auto_columns": null,
            "grid_auto_flow": null,
            "grid_auto_rows": null,
            "grid_column": null,
            "grid_gap": null,
            "grid_row": null,
            "grid_template_areas": null,
            "grid_template_columns": null,
            "grid_template_rows": null,
            "height": null,
            "justify_content": null,
            "justify_items": null,
            "left": null,
            "margin": null,
            "max_height": null,
            "max_width": null,
            "min_height": null,
            "min_width": null,
            "object_fit": null,
            "object_position": null,
            "order": null,
            "overflow": null,
            "overflow_x": null,
            "overflow_y": null,
            "padding": null,
            "right": null,
            "top": null,
            "visibility": null,
            "width": null
          }
        },
        "e0fa5eecb23442f78a6350c84af7dde2": {
          "model_module": "@jupyter-widgets/controls",
          "model_name": "DescriptionStyleModel",
          "model_module_version": "1.5.0",
          "state": {
            "_model_module": "@jupyter-widgets/controls",
            "_model_module_version": "1.5.0",
            "_model_name": "DescriptionStyleModel",
            "_view_count": null,
            "_view_module": "@jupyter-widgets/base",
            "_view_module_version": "1.2.0",
            "_view_name": "StyleView",
            "description_width": ""
          }
        },
        "ca29247ff6cc4bdeaa7010642a2ec9b4": {
          "model_module": "@jupyter-widgets/base",
          "model_name": "LayoutModel",
          "model_module_version": "1.2.0",
          "state": {
            "_model_module": "@jupyter-widgets/base",
            "_model_module_version": "1.2.0",
            "_model_name": "LayoutModel",
            "_view_count": null,
            "_view_module": "@jupyter-widgets/base",
            "_view_module_version": "1.2.0",
            "_view_name": "LayoutView",
            "align_content": null,
            "align_items": null,
            "align_self": null,
            "border": null,
            "bottom": null,
            "display": null,
            "flex": null,
            "flex_flow": null,
            "grid_area": null,
            "grid_auto_columns": null,
            "grid_auto_flow": null,
            "grid_auto_rows": null,
            "grid_column": null,
            "grid_gap": null,
            "grid_row": null,
            "grid_template_areas": null,
            "grid_template_columns": null,
            "grid_template_rows": null,
            "height": null,
            "justify_content": null,
            "justify_items": null,
            "left": null,
            "margin": null,
            "max_height": null,
            "max_width": null,
            "min_height": null,
            "min_width": null,
            "object_fit": null,
            "object_position": null,
            "order": null,
            "overflow": null,
            "overflow_x": null,
            "overflow_y": null,
            "padding": null,
            "right": null,
            "top": null,
            "visibility": null,
            "width": null
          }
        },
        "63e7bcd017b14c75bd75237e1aff542b": {
          "model_module": "@jupyter-widgets/controls",
          "model_name": "ProgressStyleModel",
          "model_module_version": "1.5.0",
          "state": {
            "_model_module": "@jupyter-widgets/controls",
            "_model_module_version": "1.5.0",
            "_model_name": "ProgressStyleModel",
            "_view_count": null,
            "_view_module": "@jupyter-widgets/base",
            "_view_module_version": "1.2.0",
            "_view_name": "StyleView",
            "bar_color": null,
            "description_width": ""
          }
        },
        "8afb718096704ccd9f7174132aaa16ae": {
          "model_module": "@jupyter-widgets/base",
          "model_name": "LayoutModel",
          "model_module_version": "1.2.0",
          "state": {
            "_model_module": "@jupyter-widgets/base",
            "_model_module_version": "1.2.0",
            "_model_name": "LayoutModel",
            "_view_count": null,
            "_view_module": "@jupyter-widgets/base",
            "_view_module_version": "1.2.0",
            "_view_name": "LayoutView",
            "align_content": null,
            "align_items": null,
            "align_self": null,
            "border": null,
            "bottom": null,
            "display": null,
            "flex": null,
            "flex_flow": null,
            "grid_area": null,
            "grid_auto_columns": null,
            "grid_auto_flow": null,
            "grid_auto_rows": null,
            "grid_column": null,
            "grid_gap": null,
            "grid_row": null,
            "grid_template_areas": null,
            "grid_template_columns": null,
            "grid_template_rows": null,
            "height": null,
            "justify_content": null,
            "justify_items": null,
            "left": null,
            "margin": null,
            "max_height": null,
            "max_width": null,
            "min_height": null,
            "min_width": null,
            "object_fit": null,
            "object_position": null,
            "order": null,
            "overflow": null,
            "overflow_x": null,
            "overflow_y": null,
            "padding": null,
            "right": null,
            "top": null,
            "visibility": null,
            "width": null
          }
        },
        "443c723bfb75476d93aa4eba8c8d72d5": {
          "model_module": "@jupyter-widgets/controls",
          "model_name": "DescriptionStyleModel",
          "model_module_version": "1.5.0",
          "state": {
            "_model_module": "@jupyter-widgets/controls",
            "_model_module_version": "1.5.0",
            "_model_name": "DescriptionStyleModel",
            "_view_count": null,
            "_view_module": "@jupyter-widgets/base",
            "_view_module_version": "1.2.0",
            "_view_name": "StyleView",
            "description_width": ""
          }
        }
      }
    }
  },
  "cells": [
    {
      "cell_type": "markdown",
      "metadata": {
        "id": "view-in-github",
        "colab_type": "text"
      },
      "source": [
        "<a href=\"https://colab.research.google.com/github/waleedGeorgy/deep-learning/blob/main/Deep_Learning_Models_Deployment.ipynb\" target=\"_parent\"><img src=\"https://colab.research.google.com/assets/colab-badge.svg\" alt=\"Open In Colab\"/></a>"
      ]
    },
    {
      "cell_type": "markdown",
      "source": [
        "# Getting set up"
      ],
      "metadata": {
        "id": "6fBuLQTLBTXG"
      }
    },
    {
      "cell_type": "code",
      "execution_count": 1,
      "metadata": {
        "id": "vy8FCV0krcNV",
        "colab": {
          "base_uri": "https://localhost:8080/"
        },
        "outputId": "cd11f84b-9d8e-4f6b-f259-8d5411851140"
      },
      "outputs": [
        {
          "output_type": "stream",
          "name": "stdout",
          "text": [
            "[INFO] Couldn't find torchinfo... installing it.\n",
            "[INFO] Couldn't find going_modular or helper_functions scripts... downloading them from GitHub.\n",
            "Cloning into 'pytorch-deep-learning'...\n",
            "remote: Enumerating objects: 4056, done.\u001b[K\n",
            "remote: Total 4056 (delta 0), reused 0 (delta 0), pack-reused 4056\u001b[K\n",
            "Receiving objects: 100% (4056/4056), 646.90 MiB | 33.04 MiB/s, done.\n",
            "Resolving deltas: 100% (2371/2371), done.\n",
            "Updating files: 100% (248/248), done.\n"
          ]
        }
      ],
      "source": [
        "import matplotlib.pyplot as plt\n",
        "import torch\n",
        "import torchvision\n",
        "from torch import nn\n",
        "from torchvision import transforms\n",
        "\n",
        "# Try to get torchinfo, install it if it doesn't work\n",
        "try:\n",
        "    from torchinfo import summary\n",
        "except:\n",
        "    print(\"[INFO] Couldn't find torchinfo... installing it.\")\n",
        "    !pip install -q torchinfo\n",
        "    from torchinfo import summary\n",
        "\n",
        "# Try to import the going_modular directory, download it from GitHub if it doesn't work\n",
        "try:\n",
        "    from going_modular.going_modular import data_setup, engine\n",
        "    from helper_functions import download_data, set_seeds, plot_loss_curves\n",
        "except:\n",
        "    # Get the going_modular scripts\n",
        "    print(\"[INFO] Couldn't find going_modular or helper_functions scripts... downloading them from GitHub.\")\n",
        "    !git clone https://github.com/mrdbourke/pytorch-deep-learning\n",
        "    !mv pytorch-deep-learning/going_modular .\n",
        "    !mv pytorch-deep-learning/helper_functions.py .\n",
        "    !rm -rf pytorch-deep-learning\n",
        "    from going_modular.going_modular import data_setup, engine\n",
        "    from helper_functions import download_data, set_seeds, plot_loss_curves"
      ]
    },
    {
      "cell_type": "code",
      "source": [
        "device = \"cuda\" if torch.cuda.is_available() else \"cpu\"\n",
        "device"
      ],
      "metadata": {
        "colab": {
          "base_uri": "https://localhost:8080/",
          "height": 36
        },
        "id": "eIToKiVABb9h",
        "outputId": "91f32dde-1e2b-47ca-c556-40bf4a3c4d2d"
      },
      "execution_count": 2,
      "outputs": [
        {
          "output_type": "execute_result",
          "data": {
            "text/plain": [
              "'cpu'"
            ],
            "application/vnd.google.colaboratory.intrinsic+json": {
              "type": "string"
            }
          },
          "metadata": {},
          "execution_count": 2
        }
      ]
    },
    {
      "cell_type": "code",
      "source": [
        "# Download pizza, steak, sushi images from GitHub\n",
        "data_20_percent_path = download_data(source=\"https://github.com/mrdbourke/pytorch-deep-learning/raw/main/data/pizza_steak_sushi_20_percent.zip\",\n",
        "                                     destination=\"pizza_steak_sushi_20_percent\")\n",
        "\n",
        "data_20_percent_path"
      ],
      "metadata": {
        "colab": {
          "base_uri": "https://localhost:8080/"
        },
        "id": "lsPWzkGxBdrp",
        "outputId": "1436c643-f8fd-4d0b-8458-46ae0d23aee2"
      },
      "execution_count": 3,
      "outputs": [
        {
          "output_type": "stream",
          "name": "stdout",
          "text": [
            "[INFO] Did not find data/pizza_steak_sushi_20_percent directory, creating one...\n",
            "[INFO] Downloading pizza_steak_sushi_20_percent.zip from https://github.com/mrdbourke/pytorch-deep-learning/raw/main/data/pizza_steak_sushi_20_percent.zip...\n",
            "[INFO] Unzipping pizza_steak_sushi_20_percent.zip data...\n"
          ]
        },
        {
          "output_type": "execute_result",
          "data": {
            "text/plain": [
              "PosixPath('data/pizza_steak_sushi_20_percent')"
            ]
          },
          "metadata": {},
          "execution_count": 3
        }
      ]
    },
    {
      "cell_type": "code",
      "source": [
        "train_dir = data_20_percent_path / 'train'\n",
        "test_dir = data_20_percent_path / 'test'\n",
        "\n",
        "train_dir, test_dir"
      ],
      "metadata": {
        "colab": {
          "base_uri": "https://localhost:8080/"
        },
        "id": "KD-v8Vg0Bg5e",
        "outputId": "7574af9d-0264-4e7f-aa1d-115f91063e7c"
      },
      "execution_count": 4,
      "outputs": [
        {
          "output_type": "execute_result",
          "data": {
            "text/plain": [
              "(PosixPath('data/pizza_steak_sushi_20_percent/train'),\n",
              " PosixPath('data/pizza_steak_sushi_20_percent/test'))"
            ]
          },
          "metadata": {},
          "execution_count": 4
        }
      ]
    },
    {
      "cell_type": "markdown",
      "source": [
        "# Training the model we will deploy"
      ],
      "metadata": {
        "id": "lYPrvWbiEwsL"
      }
    },
    {
      "cell_type": "markdown",
      "source": [
        "The model we'll deploy will be trained on the \"pizza steak sushi 20%\" dataset.\n",
        "\n",
        "Using this dataset, we will train two models that previously showed great results for our use-case. These models are: **EfficientNetB2** and the **ViT-B/16** feature extractors.\n",
        "\n",
        "Our goal is get a model that is accurate (e.g. +95% accuracy) and almost instantaneous (when making predictions)."
      ],
      "metadata": {
        "id": "rYDIiUQiE-ru"
      }
    },
    {
      "cell_type": "markdown",
      "source": [
        "## EfficientNetB2 feature extractor"
      ],
      "metadata": {
        "id": "Mcy00PXuc7Xx"
      }
    },
    {
      "cell_type": "code",
      "source": [
        "# A class to creat an EffnetB2 model and transforms\n",
        "def create_effnetb2(num_class: int,\n",
        "                    seed: int = 42):\n",
        "  \"\"\"\n",
        "  A class to create an EfficientNetB2 feature extractor with DEFAULT weights\n",
        "\n",
        "  Args:\n",
        "    num_class (int): number of classes in the classifier head (int).\n",
        "    seed (int): random seed values (int, default = 42)\n",
        "\n",
        "  Returns:\n",
        "    model (torch.nn.Module): an instance of the EfficientNetB2 feature extractor with DEFAULT weights.\n",
        "    transforms (torchvision.transforms): an instant of the EfficientNetB2 transforms\n",
        "  \"\"\"\n",
        "  weights = torchvision.models.EfficientNet_B2_Weights.DEFAULT\n",
        "  transforms = weights.transforms()\n",
        "  model = torchvision.models.efficientnet_b2(weights = weights)\n",
        "\n",
        "  for param in model.features.parameters():\n",
        "    param.requires_grad = False\n",
        "\n",
        "  torch.manual_seed(seed)\n",
        "  torch.cuda.manual_seed(seed)\n",
        "\n",
        "  model.classifier = nn.Sequential(\n",
        "      nn.Dropout(p = 0.3, inplace = True),\n",
        "      nn.Linear(in_features = 1408, out_features = num_class, bias = True)\n",
        "  )\n",
        "\n",
        "  return model, transforms"
      ],
      "metadata": {
        "id": "J6QNCleBJH56"
      },
      "execution_count": 5,
      "outputs": []
    },
    {
      "cell_type": "code",
      "source": [
        "effnetb2, effnetb2_transforms = create_effnetb2(num_class=3,\n",
        "                                                seed = 42)"
      ],
      "metadata": {
        "id": "Y064Z3hlNamJ",
        "colab": {
          "base_uri": "https://localhost:8080/"
        },
        "outputId": "5dcf2882-83f9-41d3-cef0-8ab126225fde"
      },
      "execution_count": 6,
      "outputs": [
        {
          "output_type": "stream",
          "name": "stderr",
          "text": [
            "Downloading: \"https://download.pytorch.org/models/efficientnet_b2_rwightman-c35c1473.pth\" to /root/.cache/torch/hub/checkpoints/efficientnet_b2_rwightman-c35c1473.pth\n",
            "100%|██████████| 35.2M/35.2M [00:00<00:00, 49.1MB/s]\n"
          ]
        }
      ]
    },
    {
      "cell_type": "code",
      "source": [
        "effnetb2_transforms"
      ],
      "metadata": {
        "colab": {
          "base_uri": "https://localhost:8080/"
        },
        "id": "_OhvFEHiN_xe",
        "outputId": "058e819b-c463-4b37-f35c-8fa260b889fa"
      },
      "execution_count": 7,
      "outputs": [
        {
          "output_type": "execute_result",
          "data": {
            "text/plain": [
              "ImageClassification(\n",
              "    crop_size=[288]\n",
              "    resize_size=[288]\n",
              "    mean=[0.485, 0.456, 0.406]\n",
              "    std=[0.229, 0.224, 0.225]\n",
              "    interpolation=InterpolationMode.BICUBIC\n",
              ")"
            ]
          },
          "metadata": {},
          "execution_count": 7
        }
      ]
    },
    {
      "cell_type": "code",
      "source": [
        "summary(model = effnetb2,\n",
        "        input_size = (32,3,288,288),\n",
        "        col_names=[\"input_size\", \"output_size\", \"num_params\", \"trainable\"],\n",
        "        col_width=20,\n",
        "        row_settings=[\"var_names\"])"
      ],
      "metadata": {
        "colab": {
          "base_uri": "https://localhost:8080/"
        },
        "id": "rfza7MkkOaof",
        "outputId": "2d6070c7-d7fa-47ab-d661-800f2c8cffcf"
      },
      "execution_count": 8,
      "outputs": [
        {
          "output_type": "execute_result",
          "data": {
            "text/plain": [
              "============================================================================================================================================\n",
              "Layer (type (var_name))                                      Input Shape          Output Shape         Param #              Trainable\n",
              "============================================================================================================================================\n",
              "EfficientNet (EfficientNet)                                  [32, 3, 288, 288]    [32, 3]              --                   Partial\n",
              "├─Sequential (features)                                      [32, 3, 288, 288]    [32, 1408, 9, 9]     --                   False\n",
              "│    └─Conv2dNormActivation (0)                              [32, 3, 288, 288]    [32, 32, 144, 144]   --                   False\n",
              "│    │    └─Conv2d (0)                                       [32, 3, 288, 288]    [32, 32, 144, 144]   (864)                False\n",
              "│    │    └─BatchNorm2d (1)                                  [32, 32, 144, 144]   [32, 32, 144, 144]   (64)                 False\n",
              "│    │    └─SiLU (2)                                         [32, 32, 144, 144]   [32, 32, 144, 144]   --                   --\n",
              "│    └─Sequential (1)                                        [32, 32, 144, 144]   [32, 16, 144, 144]   --                   False\n",
              "│    │    └─MBConv (0)                                       [32, 32, 144, 144]   [32, 16, 144, 144]   (1,448)              False\n",
              "│    │    └─MBConv (1)                                       [32, 16, 144, 144]   [32, 16, 144, 144]   (612)                False\n",
              "│    └─Sequential (2)                                        [32, 16, 144, 144]   [32, 24, 72, 72]     --                   False\n",
              "│    │    └─MBConv (0)                                       [32, 16, 144, 144]   [32, 24, 72, 72]     (6,004)              False\n",
              "│    │    └─MBConv (1)                                       [32, 24, 72, 72]     [32, 24, 72, 72]     (10,710)             False\n",
              "│    │    └─MBConv (2)                                       [32, 24, 72, 72]     [32, 24, 72, 72]     (10,710)             False\n",
              "│    └─Sequential (3)                                        [32, 24, 72, 72]     [32, 48, 36, 36]     --                   False\n",
              "│    │    └─MBConv (0)                                       [32, 24, 72, 72]     [32, 48, 36, 36]     (16,518)             False\n",
              "│    │    └─MBConv (1)                                       [32, 48, 36, 36]     [32, 48, 36, 36]     (43,308)             False\n",
              "│    │    └─MBConv (2)                                       [32, 48, 36, 36]     [32, 48, 36, 36]     (43,308)             False\n",
              "│    └─Sequential (4)                                        [32, 48, 36, 36]     [32, 88, 18, 18]     --                   False\n",
              "│    │    └─MBConv (0)                                       [32, 48, 36, 36]     [32, 88, 18, 18]     (50,300)             False\n",
              "│    │    └─MBConv (1)                                       [32, 88, 18, 18]     [32, 88, 18, 18]     (123,750)            False\n",
              "│    │    └─MBConv (2)                                       [32, 88, 18, 18]     [32, 88, 18, 18]     (123,750)            False\n",
              "│    │    └─MBConv (3)                                       [32, 88, 18, 18]     [32, 88, 18, 18]     (123,750)            False\n",
              "│    └─Sequential (5)                                        [32, 88, 18, 18]     [32, 120, 18, 18]    --                   False\n",
              "│    │    └─MBConv (0)                                       [32, 88, 18, 18]     [32, 120, 18, 18]    (149,158)            False\n",
              "│    │    └─MBConv (1)                                       [32, 120, 18, 18]    [32, 120, 18, 18]    (237,870)            False\n",
              "│    │    └─MBConv (2)                                       [32, 120, 18, 18]    [32, 120, 18, 18]    (237,870)            False\n",
              "│    │    └─MBConv (3)                                       [32, 120, 18, 18]    [32, 120, 18, 18]    (237,870)            False\n",
              "│    └─Sequential (6)                                        [32, 120, 18, 18]    [32, 208, 9, 9]      --                   False\n",
              "│    │    └─MBConv (0)                                       [32, 120, 18, 18]    [32, 208, 9, 9]      (301,406)            False\n",
              "│    │    └─MBConv (1)                                       [32, 208, 9, 9]      [32, 208, 9, 9]      (686,868)            False\n",
              "│    │    └─MBConv (2)                                       [32, 208, 9, 9]      [32, 208, 9, 9]      (686,868)            False\n",
              "│    │    └─MBConv (3)                                       [32, 208, 9, 9]      [32, 208, 9, 9]      (686,868)            False\n",
              "│    │    └─MBConv (4)                                       [32, 208, 9, 9]      [32, 208, 9, 9]      (686,868)            False\n",
              "│    └─Sequential (7)                                        [32, 208, 9, 9]      [32, 352, 9, 9]      --                   False\n",
              "│    │    └─MBConv (0)                                       [32, 208, 9, 9]      [32, 352, 9, 9]      (846,900)            False\n",
              "│    │    └─MBConv (1)                                       [32, 352, 9, 9]      [32, 352, 9, 9]      (1,888,920)          False\n",
              "│    └─Conv2dNormActivation (8)                              [32, 352, 9, 9]      [32, 1408, 9, 9]     --                   False\n",
              "│    │    └─Conv2d (0)                                       [32, 352, 9, 9]      [32, 1408, 9, 9]     (495,616)            False\n",
              "│    │    └─BatchNorm2d (1)                                  [32, 1408, 9, 9]     [32, 1408, 9, 9]     (2,816)              False\n",
              "│    │    └─SiLU (2)                                         [32, 1408, 9, 9]     [32, 1408, 9, 9]     --                   --\n",
              "├─AdaptiveAvgPool2d (avgpool)                                [32, 1408, 9, 9]     [32, 1408, 1, 1]     --                   --\n",
              "├─Sequential (classifier)                                    [32, 1408]           [32, 3]              --                   True\n",
              "│    └─Dropout (0)                                           [32, 1408]           [32, 1408]           --                   --\n",
              "│    └─Linear (1)                                            [32, 1408]           [32, 3]              4,227                True\n",
              "============================================================================================================================================\n",
              "Total params: 7,705,221\n",
              "Trainable params: 4,227\n",
              "Non-trainable params: 7,700,994\n",
              "Total mult-adds (G): 34.76\n",
              "============================================================================================================================================\n",
              "Input size (MB): 31.85\n",
              "Forward/backward pass size (MB): 8291.71\n",
              "Params size (MB): 30.82\n",
              "Estimated Total Size (MB): 8354.38\n",
              "============================================================================================================================================"
            ]
          },
          "metadata": {},
          "execution_count": 8
        }
      ]
    },
    {
      "cell_type": "code",
      "source": [
        "# Setup DataLoaders\n",
        "from going_modular.going_modular import data_setup\n",
        "\n",
        "train_dataloader_effnetb2, test_dataloader_effnetb2, class_names = data_setup.create_dataloaders(train_dir=train_dir,\n",
        "                                                                                                 test_dir=test_dir,\n",
        "                                                                                                 transform=effnetb2_transforms,\n",
        "                                                                                                 batch_size=32)\n",
        "\n",
        "class_names"
      ],
      "metadata": {
        "colab": {
          "base_uri": "https://localhost:8080/"
        },
        "id": "k_DNnFPLPU6l",
        "outputId": "d25662b4-ddde-4eb3-e3ca-ef04451530e4"
      },
      "execution_count": 9,
      "outputs": [
        {
          "output_type": "execute_result",
          "data": {
            "text/plain": [
              "['pizza', 'steak', 'sushi']"
            ]
          },
          "metadata": {},
          "execution_count": 9
        }
      ]
    },
    {
      "cell_type": "code",
      "source": [
        "# Setting up the training\n",
        "from going_modular.going_modular import engine\n",
        "from timeit import default_timer as timer\n",
        "\n",
        "optimizer = torch.optim.Adam(params=effnetb2.parameters(),\n",
        "                             lr=1e-3)\n",
        "\n",
        "loss_fn = torch.nn.CrossEntropyLoss()\n",
        "\n",
        "set_seeds()\n",
        "effnetb2_start = timer()\n",
        "effnetb2_results = engine.train(model=effnetb2,\n",
        "                                train_dataloader=train_dataloader_effnetb2,\n",
        "                                test_dataloader=test_dataloader_effnetb2,\n",
        "                                epochs=10,\n",
        "                                optimizer=optimizer,\n",
        "                                loss_fn=loss_fn,\n",
        "                                device=device)\n",
        "effnetb2_end = timer()\n",
        "effnetb2_train_time = effnetb2_end - effnetb2_start\n",
        "print(f'[INFO] Total training time: {effnetb2_train_time:.2f} seconds')"
      ],
      "metadata": {
        "colab": {
          "base_uri": "https://localhost:8080/",
          "height": 249,
          "referenced_widgets": [
            "5d16161f141d467a93c990dc9e367fba",
            "72f4ed34fac44d30a653b97d9f90b61c",
            "d0f6b62e662441aeab55baa1cfdc0981",
            "e228b0b4d3ac46e0af4a86f252c3bfec",
            "aa459727b9e0413198eeb4d4d283ad40",
            "c0dfe83c49444d9788c44f7796b51a22",
            "e0fa5eecb23442f78a6350c84af7dde2",
            "ca29247ff6cc4bdeaa7010642a2ec9b4",
            "63e7bcd017b14c75bd75237e1aff542b",
            "8afb718096704ccd9f7174132aaa16ae",
            "443c723bfb75476d93aa4eba8c8d72d5"
          ]
        },
        "id": "gBSBrbSHPeOr",
        "outputId": "a6c01f8b-7f24-4908-ee06-9f8dfb908244"
      },
      "execution_count": 10,
      "outputs": [
        {
          "output_type": "display_data",
          "data": {
            "text/plain": [
              "  0%|          | 0/10 [00:00<?, ?it/s]"
            ],
            "application/vnd.jupyter.widget-view+json": {
              "version_major": 2,
              "version_minor": 0,
              "model_id": "5d16161f141d467a93c990dc9e367fba"
            }
          },
          "metadata": {}
        },
        {
          "output_type": "stream",
          "name": "stdout",
          "text": [
            "Epoch: 1 | train_loss: 0.9794 | train_acc: 0.5708 | test_loss: 0.7390 | test_acc: 0.9284\n",
            "Epoch: 2 | train_loss: 0.6835 | train_acc: 0.8771 | test_loss: 0.5929 | test_acc: 0.9347\n",
            "Epoch: 3 | train_loss: 0.5640 | train_acc: 0.8958 | test_loss: 0.4816 | test_acc: 0.9409\n",
            "Epoch: 4 | train_loss: 0.4716 | train_acc: 0.8729 | test_loss: 0.4183 | test_acc: 0.9597\n",
            "Epoch: 5 | train_loss: 0.4308 | train_acc: 0.8729 | test_loss: 0.3723 | test_acc: 0.9659\n",
            "Epoch: 6 | train_loss: 0.3738 | train_acc: 0.8979 | test_loss: 0.3456 | test_acc: 0.9506\n",
            "Epoch: 7 | train_loss: 0.3373 | train_acc: 0.9062 | test_loss: 0.3132 | test_acc: 0.9568\n",
            "Epoch: 8 | train_loss: 0.3248 | train_acc: 0.9250 | test_loss: 0.3009 | test_acc: 0.9597\n",
            "Epoch: 9 | train_loss: 0.3671 | train_acc: 0.8562 | test_loss: 0.2747 | test_acc: 0.9534\n",
            "Epoch: 10 | train_loss: 0.2564 | train_acc: 0.9458 | test_loss: 0.2649 | test_acc: 0.9597\n",
            "[INFO] Total training time: 1765.60 seconds\n"
          ]
        }
      ]
    },
    {
      "cell_type": "code",
      "source": [
        "# Plotting the loss and accuracy curves\n",
        "from helper_functions import plot_loss_curves\n",
        "\n",
        "plot_loss_curves(effnetb2_results)"
      ],
      "metadata": {
        "colab": {
          "base_uri": "https://localhost:8080/",
          "height": 641
        },
        "id": "EcClY1P-Qkss",
        "outputId": "44aea837-9b98-4981-fcbb-3672a963fd12"
      },
      "execution_count": 11,
      "outputs": [
        {
          "output_type": "display_data",
          "data": {
            "text/plain": [
              "<Figure size 1500x700 with 2 Axes>"
            ],
            "image/png": "[encoded data removed]"
          },
          "metadata": {}
        }
      ]
    },
    {
      "cell_type": "code",
      "source": [
        "from going_modular.going_modular import utils\n",
        "\n",
        "utils.save_model(model=effnetb2,\n",
        "                 target_dir=\"models\",\n",
        "                 model_name=\"effnetb2.pth\")"
      ],
      "metadata": {
        "id": "cxaGMS-Sv5mq",
        "colab": {
          "base_uri": "https://localhost:8080/"
        },
        "outputId": "e8245e29-22f8-454f-edd6-0991fde9ad07"
      },
      "execution_count": 12,
      "outputs": [
        {
          "output_type": "stream",
          "name": "stdout",
          "text": [
            "[INFO] Saving model to: models/effnetb2.pth\n"
          ]
        }
      ]
    },
    {
      "cell_type": "markdown",
      "source": [
        "Another \"parameter\" we need to take into account is model's size in megabytes.\n",
        "\n",
        "The EfficientNetB2 feature extractor is about 30 MBs, which is relatively small, especially in the context of our application."
      ],
      "metadata": {
        "id": "zjxOABlXyl3A"
      }
    },
    {
      "cell_type": "code",
      "source": [
        "# Count number of parameters in EffNetB2\n",
        "effnetb2_total_params = sum(torch.numel(param) for param in effnetb2.parameters())\n",
        "effnetb2_total_params"
      ],
      "metadata": {
        "colab": {
          "base_uri": "https://localhost:8080/"
        },
        "id": "Fl1GuspHTtQo",
        "outputId": "2394baaa-c3fe-491a-b076-d7d897c2bb2d"
      },
      "execution_count": 13,
      "outputs": [
        {
          "output_type": "execute_result",
          "data": {
            "text/plain": [
              "7705221"
            ]
          },
          "metadata": {},
          "execution_count": 13
        }
      ]
    },
    {
      "cell_type": "code",
      "source": [
        "# Saving model's results to a dictionary\n",
        "from pathlib import Path\n",
        "\n",
        "effnetb2_numbers = {'test_loss' : effnetb2_results['test_loss'][-1],\n",
        "                    'test_accuracy' : effnetb2_results['test_acc'][-1],\n",
        "                    'total_params' : effnetb2_total_params,\n",
        "                    'training_time' : effnetb2_train_time,\n",
        "                    'model_size' : Path(\"/content/models/effnetb2.pth\").stat().st_size // (1024*1024)}"
      ],
      "metadata": {
        "id": "YHR0oMe0ybZX"
      },
      "execution_count": 14,
      "outputs": []
    },
    {
      "cell_type": "code",
      "source": [
        "effnetb2_numbers"
      ],
      "metadata": {
        "colab": {
          "base_uri": "https://localhost:8080/"
        },
        "id": "40F9IfymWPVl",
        "outputId": "3e1af77d-25d8-4b80-e67a-d0bb46e74ea3"
      },
      "execution_count": 15,
      "outputs": [
        {
          "output_type": "execute_result",
          "data": {
            "text/plain": [
              "{'test_loss': 0.2649004518985748,\n",
              " 'test_accuracy': 0.959659090909091,\n",
              " 'total_params': 7705221,\n",
              " 'training_time': 1765.604836038,\n",
              " 'model_size': 29}"
            ]
          },
          "metadata": {},
          "execution_count": 15
        }
      ]
    },
    {
      "cell_type": "markdown",
      "source": [
        "## ViT-B/16 feature extractor"
      ],
      "metadata": {
        "id": "9yD4vyEcdCA0"
      }
    },
    {
      "cell_type": "code",
      "source": [
        "# Creating the ViT-B/16 model and transforms\n",
        "def create_vitb16(num_class:int = 3, seed:int = 42):\n",
        "  \"\"\"\n",
        "  A class to create a ViT-B/16 feature extractor with DEFAULT weights\n",
        "\n",
        "  Args:\n",
        "    num_class (int): number of classes in the classifier head (int).\n",
        "    seed (int): random seed values (int, default = 42)\n",
        "\n",
        "  Returns:\n",
        "    model (torch.nn.Module): an instance of the ViT-B/16 feature extractor with DEFAULT weights.\n",
        "    transforms (torchvision.transforms): an instant of the ViT-B/16 transforms\n",
        "  \"\"\"\n",
        "  weights = torchvision.models.ViT_B_16_Weights.DEFAULT\n",
        "  transforms = weights.transforms()\n",
        "  model = torchvision.models.vit_b_16(weights = weights)\n",
        "\n",
        "  for param in model.parameters():\n",
        "    param.requires_grad = False\n",
        "\n",
        "  torch.manual_seed(seed)\n",
        "  torch.cuda.manual_seed(seed)\n",
        "\n",
        "  model.heads = nn.Sequential(nn.Linear(in_features=768,\n",
        "                                          out_features=num_class))\n",
        "\n",
        "  return model, transforms"
      ],
      "metadata": {
        "id": "fKTnH0KZWQnk"
      },
      "execution_count": null,
      "outputs": []
    },
    {
      "cell_type": "code",
      "source": [
        "vitb16, vitb16_transforms = create_vitb16()"
      ],
      "metadata": {
        "id": "PmfTbA7TXxXX",
        "colab": {
          "base_uri": "https://localhost:8080/"
        },
        "outputId": "a4f2705e-36d9-479c-de9a-7894381a98d9"
      },
      "execution_count": null,
      "outputs": [
        {
          "output_type": "stream",
          "name": "stderr",
          "text": [
            "Downloading: \"https://download.pytorch.org/models/vit_b_16-c867db91.pth\" to /root/.cache/torch/hub/checkpoints/vit_b_16-c867db91.pth\n",
            "100%|██████████| 330M/330M [00:02<00:00, 128MB/s]\n"
          ]
        }
      ]
    },
    {
      "cell_type": "code",
      "source": [
        "summary(model = vitb16,\n",
        "        input_size = (1,3,224,224),\n",
        "        col_names=[\"input_size\", \"output_size\", \"num_params\", \"trainable\"],\n",
        "        col_width=20,\n",
        "        row_settings=[\"var_names\"])"
      ],
      "metadata": {
        "colab": {
          "base_uri": "https://localhost:8080/"
        },
        "id": "3iLVx3u7ZA8x",
        "outputId": "3515a5e5-d94e-414b-f659-94827cfe6398"
      },
      "execution_count": null,
      "outputs": [
        {
          "output_type": "execute_result",
          "data": {
            "text/plain": [
              "============================================================================================================================================\n",
              "Layer (type (var_name))                                      Input Shape          Output Shape         Param #              Trainable\n",
              "============================================================================================================================================\n",
              "VisionTransformer (VisionTransformer)                        [1, 3, 224, 224]     [1, 3]               768                  Partial\n",
              "├─Conv2d (conv_proj)                                         [1, 3, 224, 224]     [1, 768, 14, 14]     (590,592)            False\n",
              "├─Encoder (encoder)                                          [1, 197, 768]        [1, 197, 768]        151,296              False\n",
              "│    └─Dropout (dropout)                                     [1, 197, 768]        [1, 197, 768]        --                   --\n",
              "│    └─Sequential (layers)                                   [1, 197, 768]        [1, 197, 768]        --                   False\n",
              "│    │    └─EncoderBlock (encoder_layer_0)                   [1, 197, 768]        [1, 197, 768]        (7,087,872)          False\n",
              "│    │    └─EncoderBlock (encoder_layer_1)                   [1, 197, 768]        [1, 197, 768]        (7,087,872)          False\n",
              "│    │    └─EncoderBlock (encoder_layer_2)                   [1, 197, 768]        [1, 197, 768]        (7,087,872)          False\n",
              "│    │    └─EncoderBlock (encoder_layer_3)                   [1, 197, 768]        [1, 197, 768]        (7,087,872)          False\n",
              "│    │    └─EncoderBlock (encoder_layer_4)                   [1, 197, 768]        [1, 197, 768]        (7,087,872)          False\n",
              "│    │    └─EncoderBlock (encoder_layer_5)                   [1, 197, 768]        [1, 197, 768]        (7,087,872)          False\n",
              "│    │    └─EncoderBlock (encoder_layer_6)                   [1, 197, 768]        [1, 197, 768]        (7,087,872)          False\n",
              "│    │    └─EncoderBlock (encoder_layer_7)                   [1, 197, 768]        [1, 197, 768]        (7,087,872)          False\n",
              "│    │    └─EncoderBlock (encoder_layer_8)                   [1, 197, 768]        [1, 197, 768]        (7,087,872)          False\n",
              "│    │    └─EncoderBlock (encoder_layer_9)                   [1, 197, 768]        [1, 197, 768]        (7,087,872)          False\n",
              "│    │    └─EncoderBlock (encoder_layer_10)                  [1, 197, 768]        [1, 197, 768]        (7,087,872)          False\n",
              "│    │    └─EncoderBlock (encoder_layer_11)                  [1, 197, 768]        [1, 197, 768]        (7,087,872)          False\n",
              "│    └─LayerNorm (ln)                                        [1, 197, 768]        [1, 197, 768]        (1,536)              False\n",
              "├─Sequential (heads)                                         [1, 768]             [1, 3]               --                   True\n",
              "│    └─Linear (0)                                            [1, 768]             [1, 3]               2,307                True\n",
              "============================================================================================================================================\n",
              "Total params: 85,800,963\n",
              "Trainable params: 2,307\n",
              "Non-trainable params: 85,798,656\n",
              "Total mult-adds (M): 172.47\n",
              "============================================================================================================================================\n",
              "Input size (MB): 0.60\n",
              "Forward/backward pass size (MB): 104.09\n",
              "Params size (MB): 229.20\n",
              "Estimated Total Size (MB): 333.89\n",
              "============================================================================================================================================"
            ]
          },
          "metadata": {},
          "execution_count": 18
        }
      ]
    },
    {
      "cell_type": "code",
      "source": [
        "# Setup DataLoaders\n",
        "from going_modular.going_modular import data_setup\n",
        "\n",
        "train_dataloader_vitb16, test_dataloader_vitb16, class_names_vitb16 = data_setup.create_dataloaders(train_dir=train_dir,\n",
        "                                                                                                 test_dir=test_dir,\n",
        "                                                                                                 transform=vitb16_transforms,\n",
        "                                                                                                 batch_size=32)\n",
        "\n",
        "class_names_vitb16"
      ],
      "metadata": {
        "colab": {
          "base_uri": "https://localhost:8080/"
        },
        "id": "IcNqIjDVZtxI",
        "outputId": "1eace04d-0ab2-4fe7-9b28-0dfea5142a64"
      },
      "execution_count": null,
      "outputs": [
        {
          "output_type": "execute_result",
          "data": {
            "text/plain": [
              "['pizza', 'steak', 'sushi']"
            ]
          },
          "metadata": {},
          "execution_count": 19
        }
      ]
    },
    {
      "cell_type": "code",
      "source": [
        "# Setting up the training\n",
        "from going_modular.going_modular import engine\n",
        "from timeit import default_timer as timer\n",
        "\n",
        "optimizer = torch.optim.Adam(params=vitb16.parameters(),\n",
        "                             lr=1e-3)\n",
        "\n",
        "loss_fn = torch.nn.CrossEntropyLoss()\n",
        "\n",
        "set_seeds()\n",
        "\n",
        "vitb16_start = timer()\n",
        "\n",
        "vitb16_results = engine.train(model=vitb16,\n",
        "                              train_dataloader=train_dataloader_vitb16,\n",
        "                              test_dataloader=test_dataloader_vitb16,\n",
        "                              epochs=10,\n",
        "                              optimizer=optimizer,\n",
        "                              loss_fn=loss_fn,\n",
        "                              device=device)\n",
        "\n",
        "vitb16_end = timer()\n",
        "\n",
        "vitb16_train_time = vitb16_end - vitb16_start\n",
        "\n",
        "print(f'[INFO] Total training time: {vitb16_train_time:.2f} seconds')"
      ],
      "metadata": {
        "colab": {
          "base_uri": "https://localhost:8080/",
          "height": 249,
          "referenced_widgets": [
            "d18ad8be43734f59ae1b314a885bedb8",
            "0d6c35ee816441c98f7799aee059d9a4",
            "654ec6fa58714f7e8e635740290b0f20",
            "d186dfc81be641a480adbe7fff830acc",
            "ddc52ceae8fd44bdaedf13120721c121",
            "74d6b88714ae40c99b2be42a481df6f6",
            "d93e140561d4408da1e1616ebb427a5d",
            "1a23145f785f4df2a80e46b32d0e4338",
            "a3ced161d4d245b6920461d6ab1a07a8",
            "109c170eac254a8d970e023e1f615e99",
            "11fc9e06e1f14dfd82aab7c1af85d48e"
          ]
        },
        "id": "nRzhmOOja2Ub",
        "outputId": "9f28acc1-f3e5-4313-fc7f-b39ab3961c32"
      },
      "execution_count": null,
      "outputs": [
        {
          "output_type": "display_data",
          "data": {
            "text/plain": [
              "  0%|          | 0/10 [00:00<?, ?it/s]"
            ],
            "application/vnd.jupyter.widget-view+json": {
              "version_major": 2,
              "version_minor": 0,
              "model_id": "d18ad8be43734f59ae1b314a885bedb8"
            }
          },
          "metadata": {}
        },
        {
          "output_type": "stream",
          "name": "stdout",
          "text": [
            "Epoch: 1 | train_loss: 0.7020 | train_acc: 0.7521 | test_loss: 0.2714 | test_acc: 0.9381\n",
            "Epoch: 2 | train_loss: 0.2532 | train_acc: 0.9062 | test_loss: 0.1672 | test_acc: 0.9602\n",
            "Epoch: 3 | train_loss: 0.1764 | train_acc: 0.9542 | test_loss: 0.1273 | test_acc: 0.9693\n",
            "Epoch: 4 | train_loss: 0.1276 | train_acc: 0.9625 | test_loss: 0.1074 | test_acc: 0.9722\n",
            "Epoch: 5 | train_loss: 0.1159 | train_acc: 0.9646 | test_loss: 0.0953 | test_acc: 0.9784\n",
            "Epoch: 6 | train_loss: 0.1274 | train_acc: 0.9375 | test_loss: 0.0832 | test_acc: 0.9722\n",
            "Epoch: 7 | train_loss: 0.0897 | train_acc: 0.9771 | test_loss: 0.0845 | test_acc: 0.9784\n",
            "Epoch: 8 | train_loss: 0.0919 | train_acc: 0.9812 | test_loss: 0.0764 | test_acc: 0.9722\n",
            "Epoch: 9 | train_loss: 0.0922 | train_acc: 0.9792 | test_loss: 0.0734 | test_acc: 0.9784\n",
            "Epoch: 10 | train_loss: 0.0658 | train_acc: 0.9833 | test_loss: 0.0644 | test_acc: 0.9847\n",
            "[INFO] Total training time: 85.87 seconds\n"
          ]
        }
      ]
    },
    {
      "cell_type": "code",
      "source": [
        "# Plotting the loss and accuracy curves\n",
        "from helper_functions import plot_loss_curves\n",
        "\n",
        "plot_loss_curves(vitb16_results)"
      ],
      "metadata": {
        "colab": {
          "base_uri": "https://localhost:8080/",
          "height": 641
        },
        "id": "gCu4I0HzbzZe",
        "outputId": "d1c20acb-d163-42b9-b690-b1332f26e0af"
      },
      "execution_count": null,
      "outputs": [
        {
          "output_type": "display_data",
          "data": {
            "text/plain": [
              "<Figure size 1500x700 with 2 Axes>"
            ],
            "image/png": "[encoded data removed]"
          },
          "metadata": {}
        }
      ]
    },
    {
      "cell_type": "code",
      "source": [
        "from going_modular.going_modular import utils\n",
        "\n",
        "utils.save_model(model=vitb16,\n",
        "                 target_dir=\"models\",\n",
        "                 model_name=\"vitb16.pth\")"
      ],
      "metadata": {
        "colab": {
          "base_uri": "https://localhost:8080/"
        },
        "id": "mvjxl_A2df6a",
        "outputId": "a90ada90-5d91-4b1f-b173-eed23eacdfd3"
      },
      "execution_count": null,
      "outputs": [
        {
          "output_type": "stream",
          "name": "stdout",
          "text": [
            "[INFO] Saving model to: models/vitb16.pth\n"
          ]
        }
      ]
    },
    {
      "cell_type": "code",
      "source": [
        "# Count number of parameters in EffNetB2\n",
        "vitb16_total_params = sum(torch.numel(param) for param in vitb16.parameters())\n",
        "vitb16_total_params"
      ],
      "metadata": {
        "colab": {
          "base_uri": "https://localhost:8080/"
        },
        "id": "8RlErb8ndoFI",
        "outputId": "5dbfb0e5-dfe7-45ac-8d36-ffe9b02a2331"
      },
      "execution_count": null,
      "outputs": [
        {
          "output_type": "execute_result",
          "data": {
            "text/plain": [
              "85800963"
            ]
          },
          "metadata": {},
          "execution_count": 23
        }
      ]
    },
    {
      "cell_type": "code",
      "source": [
        "# Saving model's results to a dictionary\n",
        "from pathlib import Path\n",
        "\n",
        "vitb16_numbers = {'test_loss' : vitb16_results['test_loss'][-1],\n",
        "                    'test_accuracy' : vitb16_results['test_acc'][-1],\n",
        "                    'total_params' : vitb16_total_params,\n",
        "                    'training_time' : vitb16_train_time,\n",
        "                    'model_size' : Path(\"/content/models/vitb16.pth\").stat().st_size // (1024*1024)}\n",
        "\n",
        "vitb16_numbers"
      ],
      "metadata": {
        "colab": {
          "base_uri": "https://localhost:8080/"
        },
        "id": "gA3KUafcdw72",
        "outputId": "e04b19a9-729f-406c-b437-dc5ddc554393"
      },
      "execution_count": null,
      "outputs": [
        {
          "output_type": "execute_result",
          "data": {
            "text/plain": [
              "{'test_loss': 0.06443451717495918,\n",
              " 'test_accuracy': 0.984659090909091,\n",
              " 'total_params': 85800963,\n",
              " 'training_time': 85.871526717,\n",
              " 'model_size': 327}"
            ]
          },
          "metadata": {},
          "execution_count": 24
        }
      ]
    },
    {
      "cell_type": "code",
      "source": [
        "effnetb2_numbers"
      ],
      "metadata": {
        "colab": {
          "base_uri": "https://localhost:8080/"
        },
        "id": "Xix4UnfbeZpU",
        "outputId": "a3bb2f72-295a-4ac1-a731-5c635b95e67b"
      },
      "execution_count": null,
      "outputs": [
        {
          "output_type": "execute_result",
          "data": {
            "text/plain": [
              "{'test_loss': 0.28108686208724976,\n",
              " 'test_accuracy': 0.9625,\n",
              " 'total_params': 7705221,\n",
              " 'training_time': 58.71461634100001,\n",
              " 'model_size': 29}"
            ]
          },
          "metadata": {},
          "execution_count": 25
        }
      ]
    },
    {
      "cell_type": "markdown",
      "source": [
        "# Comparing models' performance"
      ],
      "metadata": {
        "id": "rnyXwohGp4dz"
      }
    },
    {
      "cell_type": "markdown",
      "source": [
        "As we outlined previously, we want our models to have high accuracy (+95% accuracy) and to make almost instantaneous predictions (~ 0.03 seconds).\n",
        "\n",
        "The first criteria has been met with both of the models. Next, we will evaluate how fast said models can make predictions"
      ],
      "metadata": {
        "id": "8feE42x_FPV3"
      }
    },
    {
      "cell_type": "code",
      "source": [
        "# Getting the list of test images\n",
        "test_img_list = list(Path(test_dir).glob('*/*.jpg'))\n",
        "img = torchvision.io.read_image(str(test_img_list[0]))\n",
        "img.shape"
      ],
      "metadata": {
        "id": "uow7iXr2ednv",
        "colab": {
          "base_uri": "https://localhost:8080/"
        },
        "outputId": "f67412b2-040f-4a5e-f9e0-bcc32f137407"
      },
      "execution_count": null,
      "outputs": [
        {
          "output_type": "execute_result",
          "data": {
            "text/plain": [
              "torch.Size([3, 384, 512])"
            ]
          },
          "metadata": {},
          "execution_count": 26
        }
      ]
    },
    {
      "cell_type": "code",
      "source": [
        "# Calculating mean prediction time using EfficientNetB2\n",
        "import PIL\n",
        "\n",
        "set_seeds()\n",
        "\n",
        "effnetb2_total_time = 0\n",
        "\n",
        "for img_path in test_img_list:\n",
        "\n",
        "  start_time = timer()\n",
        "\n",
        "  img = torchvision.io.read_image(str(img_path))\n",
        "  transformed_img = effnetb2_transforms(img).unsqueeze(0).to(device)\n",
        "\n",
        "  effnetb2.eval()\n",
        "  with torch.inference_mode():\n",
        "\n",
        "    y_logits = effnetb2(transformed_img)\n",
        "    y_pred = torch.softmax(y_logits, dim = 1).argmax(dim = 1)\n",
        "\n",
        "  end_time = timer()\n",
        "\n",
        "  pred_time = end_time - start_time\n",
        "  effnetb2_total_time += pred_time\n",
        "\n",
        "mean_pred_time_effnetb2 = round(effnetb2_total_time / len(test_img_list), 4)\n",
        "print(f'Total prediction time on the test data using EfficientNetB2: {effnetb2_total_time:.4f} seconds')\n",
        "print(f'Mean prediction time using EfficientNetB2 feature extractor: {mean_pred_time_effnetb2} seconds')"
      ],
      "metadata": {
        "colab": {
          "base_uri": "https://localhost:8080/"
        },
        "id": "M6BJCJYPH1bH",
        "outputId": "9346675b-38d7-4315-da6e-b0c84f3458b4"
      },
      "execution_count": null,
      "outputs": [
        {
          "output_type": "stream",
          "name": "stdout",
          "text": [
            "Total prediction time on the test data using EfficientNetB2: 3.2524 seconds\n",
            "Mean prediction time using EfficientNetB2 feature extractor: 0.0217 seconds\n"
          ]
        }
      ]
    },
    {
      "cell_type": "code",
      "source": [
        "# Calculating mean prediction time using ViT-B/16\n",
        "set_seeds()\n",
        "\n",
        "vitb16_total_time = 0\n",
        "\n",
        "for img_path in test_img_list:\n",
        "\n",
        "  start_time = timer()\n",
        "\n",
        "  img = torchvision.io.read_image(str(img_path))\n",
        "  transformed_img = vitb16_transforms(img).unsqueeze(0).to(device)\n",
        "\n",
        "  vitb16.eval()\n",
        "  with torch.inference_mode():\n",
        "\n",
        "    y_logits = vitb16(transformed_img)\n",
        "    y_pred = torch.softmax(y_logits, dim = 1).argmax(dim = 1)\n",
        "\n",
        "  end_time = timer()\n",
        "  pred_time = end_time - start_time\n",
        "  vitb16_total_time += pred_time\n",
        "\n",
        "mean_pred_time_vitb16 = round(vitb16_total_time / len(test_img_list), 4)\n",
        "print(f'Total prediction time on the test data using ViT-B/16: {vitb16_total_time:.4f} seconds')\n",
        "print(f'Mean prediction time using ViT-B/16 feature extractor: {mean_pred_time_vitb16:} seconds')"
      ],
      "metadata": {
        "colab": {
          "base_uri": "https://localhost:8080/"
        },
        "id": "DGPDnIbVJlpI",
        "outputId": "b0a0ba6f-4e1a-42e8-9dce-0f64ce8c67fc"
      },
      "execution_count": null,
      "outputs": [
        {
          "output_type": "stream",
          "name": "stdout",
          "text": [
            "Total prediction time on the test data using ViT-B/16: 2.2503 seconds\n",
            "Mean prediction time using ViT-B/16 feature extractor: 0.015 seconds\n"
          ]
        }
      ]
    },
    {
      "cell_type": "code",
      "source": [
        "# Apeending mean pred times to existing models performances dictionaries\n",
        "effnetb2_numbers['mean_pred_time'] = mean_pred_time_effnetb2\n",
        "vitb16_numbers['mean_pred_time'] = mean_pred_time_vitb16\n",
        "\n",
        "# Adding models' names for reference\n",
        "effnetb2_numbers['model'] = 'EfficientNetB2'\n",
        "vitb16_numbers['model'] = 'ViT-B/16'"
      ],
      "metadata": {
        "id": "q7ibJXhcO-cf"
      },
      "execution_count": null,
      "outputs": []
    },
    {
      "cell_type": "code",
      "source": [
        "# Turning models' performance results into a dataframe for readability\n",
        "import pandas as pd\n",
        "effnetb2_df = pd.DataFrame([effnetb2_numbers])\n",
        "vitb16_df = pd.DataFrame([vitb16_numbers])"
      ],
      "metadata": {
        "id": "vC4-cm-CP80N"
      },
      "execution_count": null,
      "outputs": []
    },
    {
      "cell_type": "code",
      "source": [
        "# Combining the two dataframes into a single one\n",
        "models_df = pd.concat([effnetb2_df, vitb16_df], axis = 0)"
      ],
      "metadata": {
        "id": "i0z9T1dwTbX7"
      },
      "execution_count": null,
      "outputs": []
    },
    {
      "cell_type": "code",
      "source": [
        "# Adjusting some of the values for readability\n",
        "models_df['test_accuracy'] = round(models_df['test_accuracy']*100, 2)\n",
        "models_df['test_loss'] = round(models_df['test_loss'], 4)\n",
        "models_df['training_time'] = round(models_df['training_time'], 2)"
      ],
      "metadata": {
        "id": "59JRSJMkmZlh"
      },
      "execution_count": null,
      "outputs": []
    },
    {
      "cell_type": "code",
      "source": [
        "models_df"
      ],
      "metadata": {
        "colab": {
          "base_uri": "https://localhost:8080/",
          "height": 112
        },
        "id": "5T3wNWi0mimb",
        "outputId": "f620c4bd-fd3b-4696-d1ab-a1bbdecf01eb"
      },
      "execution_count": null,
      "outputs": [
        {
          "output_type": "execute_result",
          "data": {
            "text/plain": [
              "   test_loss  test_accuracy  total_params  training_time  model_size  \\\n",
              "0     0.2811          96.25       7705221          58.71          29   \n",
              "0     0.0644          98.47      85800963          85.87         327   \n",
              "\n",
              "   mean_pred_time           model  \n",
              "0          0.0217  EfficientNetB2  \n",
              "0          0.0150        ViT-B/16  "
            ],
            "text/html": [
              "\n",
              "  <div id=\"df-75cdad92-b5f9-4593-9642-a6aa4bd36347\" class=\"colab-df-container\">\n",
              "    <div>\n",
              "<style scoped>\n",
              "    .dataframe tbody tr th:only-of-type {\n",
              "        vertical-align: middle;\n",
              "    }\n",
              "\n",
              "    .dataframe tbody tr th {\n",
              "        vertical-align: top;\n",
              "    }\n",
              "\n",
              "    .dataframe thead th {\n",
              "        text-align: right;\n",
              "    }\n",
              "</style>\n",
              "<table border=\"1\" class=\"dataframe\">\n",
              "  <thead>\n",
              "    <tr style=\"text-align: right;\">\n",
              "      <th></th>\n",
              "      <th>test_loss</th>\n",
              "      <th>test_accuracy</th>\n",
              "      <th>total_params</th>\n",
              "      <th>training_time</th>\n",
              "      <th>model_size</th>\n",
              "      <th>mean_pred_time</th>\n",
              "      <th>model</th>\n",
              "    </tr>\n",
              "  </thead>\n",
              "  <tbody>\n",
              "    <tr>\n",
              "      <th>0</th>\n",
              "      <td>0.2811</td>\n",
              "      <td>96.25</td>\n",
              "      <td>7705221</td>\n",
              "      <td>58.71</td>\n",
              "      <td>29</td>\n",
              "      <td>0.0217</td>\n",
              "      <td>EfficientNetB2</td>\n",
              "    </tr>\n",
              "    <tr>\n",
              "      <th>0</th>\n",
              "      <td>0.0644</td>\n",
              "      <td>98.47</td>\n",
              "      <td>85800963</td>\n",
              "      <td>85.87</td>\n",
              "      <td>327</td>\n",
              "      <td>0.0150</td>\n",
              "      <td>ViT-B/16</td>\n",
              "    </tr>\n",
              "  </tbody>\n",
              "</table>\n",
              "</div>\n",
              "    <div class=\"colab-df-buttons\">\n",
              "\n",
              "  <div class=\"colab-df-container\">\n",
              "    <button class=\"colab-df-convert\" onclick=\"convertToInteractive('df-75cdad92-b5f9-4593-9642-a6aa4bd36347')\"\n",
              "            title=\"Convert this dataframe to an interactive table.\"\n",
              "            style=\"display:none;\">\n",
              "\n",
              "  <svg xmlns=\"http://www.w3.org/2000/svg\" height=\"24px\" viewBox=\"0 -960 960 960\">\n",
              "    <path d=\"M120-120v-720h720v720H120Zm60-500h600v-160H180v160Zm220 220h160v-160H400v160Zm0 220h160v-160H400v160ZM180-400h160v-160H180v160Zm440 0h160v-160H620v160ZM180-180h160v-160H180v160Zm440 0h160v-160H620v160Z\"/>\n",
              "  </svg>\n",
              "    </button>\n",
              "\n",
              "  <style>\n",
              "    .colab-df-container {\n",
              "      display:flex;\n",
              "      gap: 12px;\n",
              "    }\n",
              "\n",
              "    .colab-df-convert {\n",
              "      background-color: #E8F0FE;\n",
              "      border: none;\n",
              "      border-radius: 50%;\n",
              "      cursor: pointer;\n",
              "      display: none;\n",
              "      fill: #1967D2;\n",
              "      height: 32px;\n",
              "      padding: 0 0 0 0;\n",
              "      width: 32px;\n",
              "    }\n",
              "\n",
              "    .colab-df-convert:hover {\n",
              "      background-color: #E2EBFA;\n",
              "      box-shadow: 0px 1px 2px rgba(60, 64, 67, 0.3), 0px 1px 3px 1px rgba(60, 64, 67, 0.15);\n",
              "      fill: #174EA6;\n",
              "    }\n",
              "\n",
              "    .colab-df-buttons div {\n",
              "      margin-bottom: 4px;\n",
              "    }\n",
              "\n",
              "    [theme=dark] .colab-df-convert {\n",
              "      background-color: #3B4455;\n",
              "      fill: #D2E3FC;\n",
              "    }\n",
              "\n",
              "    [theme=dark] .colab-df-convert:hover {\n",
              "      background-color: #434B5C;\n",
              "      box-shadow: 0px 1px 3px 1px rgba(0, 0, 0, 0.15);\n",
              "      filter: drop-shadow(0px 1px 2px rgba(0, 0, 0, 0.3));\n",
              "      fill: #FFFFFF;\n",
              "    }\n",
              "  </style>\n",
              "\n",
              "    <script>\n",
              "      const buttonEl =\n",
              "        document.querySelector('#df-75cdad92-b5f9-4593-9642-a6aa4bd36347 button.colab-df-convert');\n",
              "      buttonEl.style.display =\n",
              "        google.colab.kernel.accessAllowed ? 'block' : 'none';\n",
              "\n",
              "      async function convertToInteractive(key) {\n",
              "        const element = document.querySelector('#df-75cdad92-b5f9-4593-9642-a6aa4bd36347');\n",
              "        const dataTable =\n",
              "          await google.colab.kernel.invokeFunction('convertToInteractive',\n",
              "                                                    [key], {});\n",
              "        if (!dataTable) return;\n",
              "\n",
              "        const docLinkHtml = 'Like what you see? Visit the ' +\n",
              "          '<a target=\"_blank\" href=https://colab.research.google.com/notebooks/data_table.ipynb>data table notebook</a>'\n",
              "          + ' to learn more about interactive tables.';\n",
              "        element.innerHTML = '';\n",
              "        dataTable['output_type'] = 'display_data';\n",
              "        await google.colab.output.renderOutput(dataTable, element);\n",
              "        const docLink = document.createElement('div');\n",
              "        docLink.innerHTML = docLinkHtml;\n",
              "        element.appendChild(docLink);\n",
              "      }\n",
              "    </script>\n",
              "  </div>\n",
              "\n",
              "\n",
              "<div id=\"df-e0ace226-5b4b-429d-92cc-cf096cd16ea0\">\n",
              "  <button class=\"colab-df-quickchart\" onclick=\"quickchart('df-e0ace226-5b4b-429d-92cc-cf096cd16ea0')\"\n",
              "            title=\"Suggest charts\"\n",
              "            style=\"display:none;\">\n",
              "\n",
              "<svg xmlns=\"http://www.w3.org/2000/svg\" height=\"24px\"viewBox=\"0 0 24 24\"\n",
              "     width=\"24px\">\n",
              "    <g>\n",
              "        <path d=\"M19 3H5c-1.1 0-2 .9-2 2v14c0 1.1.9 2 2 2h14c1.1 0 2-.9 2-2V5c0-1.1-.9-2-2-2zM9 17H7v-7h2v7zm4 0h-2V7h2v10zm4 0h-2v-4h2v4z\"/>\n",
              "    </g>\n",
              "</svg>\n",
              "  </button>\n",
              "\n",
              "<style>\n",
              "  .colab-df-quickchart {\n",
              "      --bg-color: #E8F0FE;\n",
              "      --fill-color: #1967D2;\n",
              "      --hover-bg-color: #E2EBFA;\n",
              "      --hover-fill-color: #174EA6;\n",
              "      --disabled-fill-color: #AAA;\n",
              "      --disabled-bg-color: #DDD;\n",
              "  }\n",
              "\n",
              "  [theme=dark] .colab-df-quickchart {\n",
              "      --bg-color: #3B4455;\n",
              "      --fill-color: #D2E3FC;\n",
              "      --hover-bg-color: #434B5C;\n",
              "      --hover-fill-color: #FFFFFF;\n",
              "      --disabled-bg-color: #3B4455;\n",
              "      --disabled-fill-color: #666;\n",
              "  }\n",
              "\n",
              "  .colab-df-quickchart {\n",
              "    background-color: var(--bg-color);\n",
              "    border: none;\n",
              "    border-radius: 50%;\n",
              "    cursor: pointer;\n",
              "    display: none;\n",
              "    fill: var(--fill-color);\n",
              "    height: 32px;\n",
              "    padding: 0;\n",
              "    width: 32px;\n",
              "  }\n",
              "\n",
              "  .colab-df-quickchart:hover {\n",
              "    background-color: var(--hover-bg-color);\n",
              "    box-shadow: 0 1px 2px rgba(60, 64, 67, 0.3), 0 1px 3px 1px rgba(60, 64, 67, 0.15);\n",
              "    fill: var(--button-hover-fill-color);\n",
              "  }\n",
              "\n",
              "  .colab-df-quickchart-complete:disabled,\n",
              "  .colab-df-quickchart-complete:disabled:hover {\n",
              "    background-color: var(--disabled-bg-color);\n",
              "    fill: var(--disabled-fill-color);\n",
              "    box-shadow: none;\n",
              "  }\n",
              "\n",
              "  .colab-df-spinner {\n",
              "    border: 2px solid var(--fill-color);\n",
              "    border-color: transparent;\n",
              "    border-bottom-color: var(--fill-color);\n",
              "    animation:\n",
              "      spin 1s steps(1) infinite;\n",
              "  }\n",
              "\n",
              "  @keyframes spin {\n",
              "    0% {\n",
              "      border-color: transparent;\n",
              "      border-bottom-color: var(--fill-color);\n",
              "      border-left-color: var(--fill-color);\n",
              "    }\n",
              "    20% {\n",
              "      border-color: transparent;\n",
              "      border-left-color: var(--fill-color);\n",
              "      border-top-color: var(--fill-color);\n",
              "    }\n",
              "    30% {\n",
              "      border-color: transparent;\n",
              "      border-left-color: var(--fill-color);\n",
              "      border-top-color: var(--fill-color);\n",
              "      border-right-color: var(--fill-color);\n",
              "    }\n",
              "    40% {\n",
              "      border-color: transparent;\n",
              "      border-right-color: var(--fill-color);\n",
              "      border-top-color: var(--fill-color);\n",
              "    }\n",
              "    60% {\n",
              "      border-color: transparent;\n",
              "      border-right-color: var(--fill-color);\n",
              "    }\n",
              "    80% {\n",
              "      border-color: transparent;\n",
              "      border-right-color: var(--fill-color);\n",
              "      border-bottom-color: var(--fill-color);\n",
              "    }\n",
              "    90% {\n",
              "      border-color: transparent;\n",
              "      border-bottom-color: var(--fill-color);\n",
              "    }\n",
              "  }\n",
              "</style>\n",
              "\n",
              "  <script>\n",
              "    async function quickchart(key) {\n",
              "      const quickchartButtonEl =\n",
              "        document.querySelector('#' + key + ' button');\n",
              "      quickchartButtonEl.disabled = true;  // To prevent multiple clicks.\n",
              "      quickchartButtonEl.classList.add('colab-df-spinner');\n",
              "      try {\n",
              "        const charts = await google.colab.kernel.invokeFunction(\n",
              "            'suggestCharts', [key], {});\n",
              "      } catch (error) {\n",
              "        console.error('Error during call to suggestCharts:', error);\n",
              "      }\n",
              "      quickchartButtonEl.classList.remove('colab-df-spinner');\n",
              "      quickchartButtonEl.classList.add('colab-df-quickchart-complete');\n",
              "    }\n",
              "    (() => {\n",
              "      let quickchartButtonEl =\n",
              "        document.querySelector('#df-e0ace226-5b4b-429d-92cc-cf096cd16ea0 button');\n",
              "      quickchartButtonEl.style.display =\n",
              "        google.colab.kernel.accessAllowed ? 'block' : 'none';\n",
              "    })();\n",
              "  </script>\n",
              "</div>\n",
              "    </div>\n",
              "  </div>\n"
            ],
            "application/vnd.google.colaboratory.intrinsic+json": {
              "type": "dataframe",
              "variable_name": "models_df",
              "summary": "{\n  \"name\": \"models_df\",\n  \"rows\": 2,\n  \"fields\": [\n    {\n      \"column\": \"test_loss\",\n      \"properties\": {\n        \"dtype\": \"number\",\n        \"std\": 0.15323003948312486,\n        \"min\": 0.0644,\n        \"max\": 0.2811,\n        \"num_unique_values\": 2,\n        \"samples\": [\n          0.0644,\n          0.2811\n        ],\n        \"semantic_type\": \"\",\n        \"description\": \"\"\n      }\n    },\n    {\n      \"column\": \"test_accuracy\",\n      \"properties\": {\n        \"dtype\": \"number\",\n        \"std\": 1.5697770542341347,\n        \"min\": 96.25,\n        \"max\": 98.47,\n        \"num_unique_values\": 2,\n        \"samples\": [\n          98.47,\n          96.25\n        ],\n        \"semantic_type\": \"\",\n        \"description\": \"\"\n      }\n    },\n    {\n      \"column\": \"total_params\",\n      \"properties\": {\n        \"dtype\": \"number\",\n        \"std\": 55222028,\n        \"min\": 7705221,\n        \"max\": 85800963,\n        \"num_unique_values\": 2,\n        \"samples\": [\n          85800963,\n          7705221\n        ],\n        \"semantic_type\": \"\",\n        \"description\": \"\"\n      }\n    },\n    {\n      \"column\": \"training_time\",\n      \"properties\": {\n        \"dtype\": \"number\",\n        \"std\": 19.205020177026633,\n        \"min\": 58.71,\n        \"max\": 85.87,\n        \"num_unique_values\": 2,\n        \"samples\": [\n          85.87,\n          58.71\n        ],\n        \"semantic_type\": \"\",\n        \"description\": \"\"\n      }\n    },\n    {\n      \"column\": \"model_size\",\n      \"properties\": {\n        \"dtype\": \"number\",\n        \"std\": 210,\n        \"min\": 29,\n        \"max\": 327,\n        \"num_unique_values\": 2,\n        \"samples\": [\n          327,\n          29\n        ],\n        \"semantic_type\": \"\",\n        \"description\": \"\"\n      }\n    },\n    {\n      \"column\": \"mean_pred_time\",\n      \"properties\": {\n        \"dtype\": \"number\",\n        \"std\": 0.004737615433949869,\n        \"min\": 0.015,\n        \"max\": 0.0217,\n        \"num_unique_values\": 2,\n        \"samples\": [\n          0.015,\n          0.0217\n        ],\n        \"semantic_type\": \"\",\n        \"description\": \"\"\n      }\n    },\n    {\n      \"column\": \"model\",\n      \"properties\": {\n        \"dtype\": \"string\",\n        \"num_unique_values\": 2,\n        \"samples\": [\n          \"ViT-B/16\",\n          \"EfficientNetB2\"\n        ],\n        \"semantic_type\": \"\",\n        \"description\": \"\"\n      }\n    }\n  ]\n}"
            }
          },
          "metadata": {},
          "execution_count": 41
        }
      ]
    },
    {
      "cell_type": "code",
      "source": [
        "# Comparing ViT to EffNetB2 across different characteristics\n",
        "pd.DataFrame(data=(models_df.set_index(\"model\").loc[\"ViT-B/16\"] / models_df.set_index(\"model\").loc[\"EfficientNetB2\"]),\n",
        "             columns=[\"ViT to EffNetB2 ratios\"]).T"
      ],
      "metadata": {
        "id": "y_EkaNfQQTPR",
        "colab": {
          "base_uri": "https://localhost:8080/",
          "height": 81
        },
        "outputId": "bb100f2c-6361-4514-84ca-9e817b997d64"
      },
      "execution_count": null,
      "outputs": [
        {
          "output_type": "execute_result",
          "data": {
            "text/plain": [
              "                        test_loss  test_accuracy  total_params  training_time  \\\n",
              "ViT to EffNetB2 ratios     0.2291       1.023065     11.135432       1.462613   \n",
              "\n",
              "                        model_size  mean_pred_time  \n",
              "ViT to EffNetB2 ratios   11.275862        0.691244  "
            ],
            "text/html": [
              "\n",
              "  <div id=\"df-954b9f9d-1c51-48cf-804a-8307fa05560e\" class=\"colab-df-container\">\n",
              "    <div>\n",
              "<style scoped>\n",
              "    .dataframe tbody tr th:only-of-type {\n",
              "        vertical-align: middle;\n",
              "    }\n",
              "\n",
              "    .dataframe tbody tr th {\n",
              "        vertical-align: top;\n",
              "    }\n",
              "\n",
              "    .dataframe thead th {\n",
              "        text-align: right;\n",
              "    }\n",
              "</style>\n",
              "<table border=\"1\" class=\"dataframe\">\n",
              "  <thead>\n",
              "    <tr style=\"text-align: right;\">\n",
              "      <th></th>\n",
              "      <th>test_loss</th>\n",
              "      <th>test_accuracy</th>\n",
              "      <th>total_params</th>\n",
              "      <th>training_time</th>\n",
              "      <th>model_size</th>\n",
              "      <th>mean_pred_time</th>\n",
              "    </tr>\n",
              "  </thead>\n",
              "  <tbody>\n",
              "    <tr>\n",
              "      <th>ViT to EffNetB2 ratios</th>\n",
              "      <td>0.2291</td>\n",
              "      <td>1.023065</td>\n",
              "      <td>11.135432</td>\n",
              "      <td>1.462613</td>\n",
              "      <td>11.275862</td>\n",
              "      <td>0.691244</td>\n",
              "    </tr>\n",
              "  </tbody>\n",
              "</table>\n",
              "</div>\n",
              "    <div class=\"colab-df-buttons\">\n",
              "\n",
              "  <div class=\"colab-df-container\">\n",
              "    <button class=\"colab-df-convert\" onclick=\"convertToInteractive('df-954b9f9d-1c51-48cf-804a-8307fa05560e')\"\n",
              "            title=\"Convert this dataframe to an interactive table.\"\n",
              "            style=\"display:none;\">\n",
              "\n",
              "  <svg xmlns=\"http://www.w3.org/2000/svg\" height=\"24px\" viewBox=\"0 -960 960 960\">\n",
              "    <path d=\"M120-120v-720h720v720H120Zm60-500h600v-160H180v160Zm220 220h160v-160H400v160Zm0 220h160v-160H400v160ZM180-400h160v-160H180v160Zm440 0h160v-160H620v160ZM180-180h160v-160H180v160Zm440 0h160v-160H620v160Z\"/>\n",
              "  </svg>\n",
              "    </button>\n",
              "\n",
              "  <style>\n",
              "    .colab-df-container {\n",
              "      display:flex;\n",
              "      gap: 12px;\n",
              "    }\n",
              "\n",
              "    .colab-df-convert {\n",
              "      background-color: #E8F0FE;\n",
              "      border: none;\n",
              "      border-radius: 50%;\n",
              "      cursor: pointer;\n",
              "      display: none;\n",
              "      fill: #1967D2;\n",
              "      height: 32px;\n",
              "      padding: 0 0 0 0;\n",
              "      width: 32px;\n",
              "    }\n",
              "\n",
              "    .colab-df-convert:hover {\n",
              "      background-color: #E2EBFA;\n",
              "      box-shadow: 0px 1px 2px rgba(60, 64, 67, 0.3), 0px 1px 3px 1px rgba(60, 64, 67, 0.15);\n",
              "      fill: #174EA6;\n",
              "    }\n",
              "\n",
              "    .colab-df-buttons div {\n",
              "      margin-bottom: 4px;\n",
              "    }\n",
              "\n",
              "    [theme=dark] .colab-df-convert {\n",
              "      background-color: #3B4455;\n",
              "      fill: #D2E3FC;\n",
              "    }\n",
              "\n",
              "    [theme=dark] .colab-df-convert:hover {\n",
              "      background-color: #434B5C;\n",
              "      box-shadow: 0px 1px 3px 1px rgba(0, 0, 0, 0.15);\n",
              "      filter: drop-shadow(0px 1px 2px rgba(0, 0, 0, 0.3));\n",
              "      fill: #FFFFFF;\n",
              "    }\n",
              "  </style>\n",
              "\n",
              "    <script>\n",
              "      const buttonEl =\n",
              "        document.querySelector('#df-954b9f9d-1c51-48cf-804a-8307fa05560e button.colab-df-convert');\n",
              "      buttonEl.style.display =\n",
              "        google.colab.kernel.accessAllowed ? 'block' : 'none';\n",
              "\n",
              "      async function convertToInteractive(key) {\n",
              "        const element = document.querySelector('#df-954b9f9d-1c51-48cf-804a-8307fa05560e');\n",
              "        const dataTable =\n",
              "          await google.colab.kernel.invokeFunction('convertToInteractive',\n",
              "                                                    [key], {});\n",
              "        if (!dataTable) return;\n",
              "\n",
              "        const docLinkHtml = 'Like what you see? Visit the ' +\n",
              "          '<a target=\"_blank\" href=https://colab.research.google.com/notebooks/data_table.ipynb>data table notebook</a>'\n",
              "          + ' to learn more about interactive tables.';\n",
              "        element.innerHTML = '';\n",
              "        dataTable['output_type'] = 'display_data';\n",
              "        await google.colab.output.renderOutput(dataTable, element);\n",
              "        const docLink = document.createElement('div');\n",
              "        docLink.innerHTML = docLinkHtml;\n",
              "        element.appendChild(docLink);\n",
              "      }\n",
              "    </script>\n",
              "  </div>\n",
              "\n",
              "    </div>\n",
              "  </div>\n"
            ],
            "application/vnd.google.colaboratory.intrinsic+json": {
              "type": "dataframe",
              "summary": "{\n  \"name\": \"             columns=[\\\"ViT to EffNetB2 ratios\\\"])\",\n  \"rows\": 1,\n  \"fields\": [\n    {\n      \"column\": \"test_loss\",\n      \"properties\": {\n        \"dtype\": \"number\",\n        \"std\": null,\n        \"min\": 0.22909996442547134,\n        \"max\": 0.22909996442547134,\n        \"num_unique_values\": 1,\n        \"samples\": [\n          0.22909996442547134\n        ],\n        \"semantic_type\": \"\",\n        \"description\": \"\"\n      }\n    },\n    {\n      \"column\": \"test_accuracy\",\n      \"properties\": {\n        \"dtype\": \"number\",\n        \"std\": null,\n        \"min\": 1.023064935064935,\n        \"max\": 1.023064935064935,\n        \"num_unique_values\": 1,\n        \"samples\": [\n          1.023064935064935\n        ],\n        \"semantic_type\": \"\",\n        \"description\": \"\"\n      }\n    },\n    {\n      \"column\": \"total_params\",\n      \"properties\": {\n        \"dtype\": \"number\",\n        \"std\": null,\n        \"min\": 11.135431806563368,\n        \"max\": 11.135431806563368,\n        \"num_unique_values\": 1,\n        \"samples\": [\n          11.135431806563368\n        ],\n        \"semantic_type\": \"\",\n        \"description\": \"\"\n      }\n    },\n    {\n      \"column\": \"training_time\",\n      \"properties\": {\n        \"dtype\": \"number\",\n        \"std\": null,\n        \"min\": 1.462612842786578,\n        \"max\": 1.462612842786578,\n        \"num_unique_values\": 1,\n        \"samples\": [\n          1.462612842786578\n        ],\n        \"semantic_type\": \"\",\n        \"description\": \"\"\n      }\n    },\n    {\n      \"column\": \"model_size\",\n      \"properties\": {\n        \"dtype\": \"number\",\n        \"std\": null,\n        \"min\": 11.275862068965518,\n        \"max\": 11.275862068965518,\n        \"num_unique_values\": 1,\n        \"samples\": [\n          11.275862068965518\n        ],\n        \"semantic_type\": \"\",\n        \"description\": \"\"\n      }\n    },\n    {\n      \"column\": \"mean_pred_time\",\n      \"properties\": {\n        \"dtype\": \"number\",\n        \"std\": null,\n        \"min\": 0.6912442396313364,\n        \"max\": 0.6912442396313364,\n        \"num_unique_values\": 1,\n        \"samples\": [\n          0.6912442396313364\n        ],\n        \"semantic_type\": \"\",\n        \"description\": \"\"\n      }\n    }\n  ]\n}"
            }
          },
          "metadata": {},
          "execution_count": 46
        }
      ]
    },
    {
      "cell_type": "code",
      "source": [
        "# Visualizing the speed vs. performance\n",
        "# Create a plot from model comparison DataFrame\n",
        "fig, ax = plt.subplots(figsize = (10, 7))\n",
        "scatter = ax.scatter(data=models_df,\n",
        "                     x=\"mean_pred_time\",\n",
        "                     y=\"test_accuracy\",\n",
        "                     c=[\"blue\", \"orange\"],\n",
        "                     s=\"model_size\")\n",
        "\n",
        "# Add titles, labels and customize fontsize for aesthetics\n",
        "ax.set_title(\"Inference Speed vs Performance\", fontsize=18)\n",
        "ax.set_xlabel(\"Prediction time per image (seconds)\", fontsize=14)\n",
        "ax.set_ylabel(\"Test accuracy (%)\", fontsize=14)\n",
        "ax.tick_params(axis='both', labelsize=12)\n",
        "ax.grid(True)\n",
        "\n",
        "# Annotate with model names\n",
        "for index, row in models_df.iterrows():\n",
        "    ax.annotate(text=row[\"model\"],\n",
        "                xy=(row[\"mean_pred_time\"], row[\"test_accuracy\"]+0.03),\n",
        "                size=12)\n",
        "\n",
        "# Create a legend based on model sizes\n",
        "handles, labels = scatter.legend_elements(prop=\"sizes\", alpha=0.5)\n",
        "model_size_legend = ax.legend(handles,\n",
        "                              labels,\n",
        "                              loc=\"upper right\",\n",
        "                              title=\"Model Size (MBs)\",\n",
        "                              fontsize=12)\n",
        "\n",
        "# Save the figure\n",
        "plt.savefig(\"speed_vs_acc.jpg\")"
      ],
      "metadata": {
        "colab": {
          "base_uri": "https://localhost:8080/",
          "height": 655
        },
        "id": "KbAJi8BioRUA",
        "outputId": "61184d51-8fee-4bfe-9da0-7ea8d30f7fed"
      },
      "execution_count": null,
      "outputs": [
        {
          "output_type": "display_data",
          "data": {
            "text/plain": [
              "<Figure size 1000x700 with 1 Axes>"
            ],
            "image/png": "[encoded data removed]"
          },
          "metadata": {}
        }
      ]
    },
    {
      "cell_type": "markdown",
      "source": [
        "As we can see, both of the models achieved the desired mean prediction time (less than 0.03 seconds).\n",
        "\n",
        "Since both models also achieved the desired accuracy, we will pick a model that is more suited to our use-case based off other criteria like the size of the model, its training time, etc.\n",
        "\n",
        "We will be deploying our model on a mobile device and / or web browser, and despite the fact that ViT-B/16 performes better, we will pick the slightly weaker EfficientNetB2 despite having a marginally lower accuracy and average prediction time, simply becuase it's way smaller in size and generally faster to train, which is suitable for our use case.\n",
        "\n"
      ],
      "metadata": {
        "id": "xFqHV-KDwUHR"
      }
    },
    {
      "cell_type": "markdown",
      "source": [
        "# Bringing the model to life with Gradio"
      ],
      "metadata": {
        "id": "vukjdZKyLOtY"
      }
    },
    {
      "cell_type": "markdown",
      "source": [
        "As described on the website, Gradio is the fastest way to demo your machine learning model with a friendly web interface so that anyone can use it, anywhere!\n",
        "\n",
        "So basically, it is a way of deploying a demo of our model so we can test it in a real-world setting.\n",
        "\n",
        "It replicates the workflow: **INPUTS -> ML MODEL -> OUTPUTS**\n",
        "\n",
        "Where the INPUTS could be any type of data (in our case images), the ML MODEL is our train EfficientNetB2 feature extractor, and the OUTPUTS will be the class labels.\n",
        "\n",
        "Food Images -> EfficientNetB2 -> Food Images Class Labels"
      ],
      "metadata": {
        "id": "NMx92UJ3LUmU"
      }
    },
    {
      "cell_type": "code",
      "source": [
        "# Import/install Gradio\n",
        "try:\n",
        "    import gradio as gr\n",
        "except:\n",
        "    !pip -q install gradio\n",
        "    import gradio as gr\n",
        "\n",
        "print(f\"Gradio version: {gr.__version__}\")"
      ],
      "metadata": {
        "id": "SnqwceMoqRPG",
        "colab": {
          "base_uri": "https://localhost:8080/"
        },
        "outputId": "fb0987a7-2852-48b9-be02-592f521ffaad"
      },
      "execution_count": 16,
      "outputs": [
        {
          "output_type": "stream",
          "name": "stdout",
          "text": [
            "\u001b[2K     \u001b[90m━━━━━━━━━━━━━━━━━━━━━━━━━━━━━━━━━━━━━━━━\u001b[0m \u001b[32m17.1/17.1 MB\u001b[0m \u001b[31m32.9 MB/s\u001b[0m eta \u001b[36m0:00:00\u001b[0m\n",
            "\u001b[2K     \u001b[90m━━━━━━━━━━━━━━━━━━━━━━━━━━━━━━━━━━━━━━━━\u001b[0m \u001b[32m92.1/92.1 kB\u001b[0m \u001b[31m10.5 MB/s\u001b[0m eta \u001b[36m0:00:00\u001b[0m\n",
            "\u001b[?25h  Preparing metadata (setup.py) ... \u001b[?25l\u001b[?25hdone\n",
            "\u001b[2K     \u001b[90m━━━━━━━━━━━━━━━━━━━━━━━━━━━━━━━━━━━━━━━━\u001b[0m \u001b[32m312.4/312.4 kB\u001b[0m \u001b[31m24.5 MB/s\u001b[0m eta \u001b[36m0:00:00\u001b[0m\n",
            "\u001b[2K     \u001b[90m━━━━━━━━━━━━━━━━━━━━━━━━━━━━━━━━━━━━━━━━\u001b[0m \u001b[32m75.6/75.6 kB\u001b[0m \u001b[31m8.6 MB/s\u001b[0m eta \u001b[36m0:00:00\u001b[0m\n",
            "\u001b[2K     \u001b[90m━━━━━━━━━━━━━━━━━━━━━━━━━━━━━━━━━━━━━━━━\u001b[0m \u001b[32m144.8/144.8 kB\u001b[0m \u001b[31m16.7 MB/s\u001b[0m eta \u001b[36m0:00:00\u001b[0m\n",
            "\u001b[2K     \u001b[90m━━━━━━━━━━━━━━━━━━━━━━━━━━━━━━━━━━━━━━━━\u001b[0m \u001b[32m8.7/8.7 MB\u001b[0m \u001b[31m50.9 MB/s\u001b[0m eta \u001b[36m0:00:00\u001b[0m\n",
            "\u001b[2K     \u001b[90m━━━━━━━━━━━━━━━━━━━━━━━━━━━━━━━━━━━━━━━━\u001b[0m \u001b[32m60.8/60.8 kB\u001b[0m \u001b[31m6.0 MB/s\u001b[0m eta \u001b[36m0:00:00\u001b[0m\n",
            "\u001b[2K     \u001b[90m━━━━━━━━━━━━━━━━━━━━━━━━━━━━━━━━━━━━━━━━\u001b[0m \u001b[32m129.9/129.9 kB\u001b[0m \u001b[31m14.7 MB/s\u001b[0m eta \u001b[36m0:00:00\u001b[0m\n",
            "\u001b[2K     \u001b[90m━━━━━━━━━━━━━━━━━━━━━━━━━━━━━━━━━━━━━━━━\u001b[0m \u001b[32m77.9/77.9 kB\u001b[0m \u001b[31m9.0 MB/s\u001b[0m eta \u001b[36m0:00:00\u001b[0m\n",
            "\u001b[2K     \u001b[90m━━━━━━━━━━━━━━━━━━━━━━━━━━━━━━━━━━━━━━━━\u001b[0m \u001b[32m58.3/58.3 kB\u001b[0m \u001b[31m5.8 MB/s\u001b[0m eta \u001b[36m0:00:00\u001b[0m\n",
            "\u001b[2K     \u001b[90m━━━━━━━━━━━━━━━━━━━━━━━━━━━━━━━━━━━━━━━━\u001b[0m \u001b[32m71.5/71.5 kB\u001b[0m \u001b[31m7.6 MB/s\u001b[0m eta \u001b[36m0:00:00\u001b[0m\n",
            "\u001b[?25h  Building wheel for ffmpy (setup.py) ... \u001b[?25l\u001b[?25hdone\n",
            "Gradio version: 4.24.0\n"
          ]
        }
      ]
    },
    {
      "cell_type": "code",
      "source": [
        "# Putting our model on the cpu so that it can be deployed anywhere\n",
        "# e.g. to deploying a model on a gpu in HuggingFace requires payment\n",
        "effnetb2 = effnetb2.to('cpu')"
      ],
      "metadata": {
        "id": "nXSBiXM6PlEg"
      },
      "execution_count": 17,
      "outputs": []
    },
    {
      "cell_type": "code",
      "source": [
        "# First we will create the main function that will be wrapped in Gradio's Interface()\n",
        "# This function will map the inputs to the outputs.\n",
        "# It will take an image as an input and return a tuple containing the prediction labels\n",
        "# their probability, and the prediction time.\n",
        "from typing import Tuple, Dict\n",
        "from timeit import default_timer as timer\n",
        "\n",
        "def predict(img) -> Tuple[Dict, float]:\n",
        "\n",
        "  start_time = timer()\n",
        "\n",
        "  transformed_img = effnetb2_transforms(img).unsqueeze(0)\n",
        "\n",
        "  effnetb2.eval()\n",
        "  with torch.inference_mode():\n",
        "    y_logits = effnetb2(transformed_img)\n",
        "    y_preds = torch.softmax(y_logits, dim = 1)\n",
        "    y_label = torch.argmax(y_preds, dim = 1)\n",
        "    pred_labels_probs = {class_names[i]: float(y_preds[0][i]) for i in range(len(class_names))}\n",
        "\n",
        "  end_time = timer()\n",
        "  pred_time = round(end_time - start_time, 4)\n",
        "\n",
        "  return pred_labels_probs, pred_time"
      ],
      "metadata": {
        "id": "Jwoz2UWcM9yD"
      },
      "execution_count": 28,
      "outputs": []
    },
    {
      "cell_type": "code",
      "source": [
        "# Testing the function\n",
        "import random\n",
        "from PIL import Image\n",
        "\n",
        "# Get a list of all test image filepaths\n",
        "test_data_paths = list(Path(test_dir).glob(\"*/*.jpg\"))\n",
        "\n",
        "# Randomly select a test image path\n",
        "random_image_path = random.sample(test_data_paths, k=1)[0]\n",
        "\n",
        "# Open the target image\n",
        "image = Image.open(random_image_path)\n",
        "print(f\"[INFO] Predicting on image at path: {random_image_path}\\n\")\n",
        "\n",
        "# Predict on the target image and print out the outputs\n",
        "pred_dict, pred_time = predict(img=image)\n",
        "print(f\"Prediction label and probability dictionary: \\n{pred_dict}\")\n",
        "print(f\"Prediction time: {pred_time} seconds\")"
      ],
      "metadata": {
        "id": "GPSslsHNUe8q",
        "colab": {
          "base_uri": "https://localhost:8080/"
        },
        "outputId": "fcdad417-c634-4ab3-90db-e354aa526357"
      },
      "execution_count": 29,
      "outputs": [
        {
          "output_type": "stream",
          "name": "stdout",
          "text": [
            "[INFO] Predicting on image at path: data/pizza_steak_sushi_20_percent/test/pizza/2901001.jpg\n",
            "\n",
            "Prediction label and probability dictionary: \n",
            "{'pizza': 0.742755115032196, 'steak': 0.016197631135582924, 'sushi': 0.2410471886396408}\n",
            "Prediction time: 0.1357 seconds\n"
          ]
        }
      ]
    },
    {
      "cell_type": "markdown",
      "source": [
        "## Creating example images"
      ],
      "metadata": {
        "id": "N_EX_leWmxIM"
      }
    },
    {
      "cell_type": "markdown",
      "source": [
        "These example images will can be used as inputs to the model if the user doesn't have any image ready to pass through the model"
      ],
      "metadata": {
        "id": "bK7n_7DXnfLF"
      }
    },
    {
      "cell_type": "code",
      "source": [
        "example_imgs = [[str(filepath)] for filepath in random.sample(test_data_paths, k = 3)]\n",
        "example_imgs"
      ],
      "metadata": {
        "colab": {
          "base_uri": "https://localhost:8080/"
        },
        "id": "LJeSBHAPjp8X",
        "outputId": "798cb0bb-afaf-4919-995a-54da588538bc"
      },
      "execution_count": 30,
      "outputs": [
        {
          "output_type": "execute_result",
          "data": {
            "text/plain": [
              "[['data/pizza_steak_sushi_20_percent/test/pizza/2782998.jpg'],\n",
              " ['data/pizza_steak_sushi_20_percent/test/sushi/124279.jpg'],\n",
              " ['data/pizza_steak_sushi_20_percent/test/steak/1848936.jpg']]"
            ]
          },
          "metadata": {},
          "execution_count": 30
        }
      ]
    },
    {
      "cell_type": "markdown",
      "source": [
        "## Creating an interface for the model"
      ],
      "metadata": {
        "id": "G7F6xF4BnpDv"
      }
    },
    {
      "cell_type": "markdown",
      "source": [
        "Now that we have all the pices ready, we can use Gradio's main high-level class Interface() to to create a web-based GUI / demo around our EffNetB2 model"
      ],
      "metadata": {
        "id": "DS643MpNnuaN"
      }
    },
    {
      "cell_type": "code",
      "source": [
        "title = 'FoodVision Mini'\n",
        "description = 'An EfficientNetB2 feature extractor CV model to classify images of food as pizza, steak or sushi.'\n",
        "\n",
        "demo = gr.Interface(fn=predict,\n",
        "                    inputs=gr.Image(type='pil'),\n",
        "                    outputs=[gr.Label(num_top_classes = len(class_names),\n",
        "                                      label = 'Prediction Probabilities'),\n",
        "                             gr.Number(label = 'Prediction Time (s)')],\n",
        "                    examples = example_imgs,\n",
        "                    title = title,\n",
        "                    description = description)\n",
        "\n",
        "demo.launch(share = True,\n",
        "            debug = False)"
      ],
      "metadata": {
        "colab": {
          "base_uri": "https://localhost:8080/",
          "height": 593
        },
        "id": "UrRYFba3nWm6",
        "outputId": "fd927aca-d30b-478c-ae04-a5bf8e4936f8"
      },
      "execution_count": 31,
      "outputs": [
        {
          "output_type": "stream",
          "name": "stdout",
          "text": [
            "Colab notebook detected. To show errors in colab notebook, set debug=True in launch()\n",
            "Running on public URL: https://5a156d7e91611abd0c.gradio.live\n",
            "\n",
            "This share link expires in 72 hours. For free permanent hosting and GPU upgrades, run `gradio deploy` from Terminal to deploy to Spaces (https://huggingface.co/spaces)\n"
          ]
        },
        {
          "output_type": "display_data",
          "data": {
            "text/plain": [
              "<IPython.core.display.HTML object>"
            ],
            "text/html": [
              "<div><iframe src=\"https://5a156d7e91611abd0c.gradio.live\" width=\"100%\" height=\"500\" allow=\"autoplay; camera; microphone; clipboard-read; clipboard-write;\" frameborder=\"0\" allowfullscreen></iframe></div>"
            ]
          },
          "metadata": {}
        },
        {
          "output_type": "execute_result",
          "data": {
            "text/plain": []
          },
          "metadata": {},
          "execution_count": 31
        }
      ]
    },
    {
      "cell_type": "code",
      "source": [],
      "metadata": {
        "id": "u1xbObmqrfrD"
      },
      "execution_count": null,
      "outputs": []
    }
  ]
}