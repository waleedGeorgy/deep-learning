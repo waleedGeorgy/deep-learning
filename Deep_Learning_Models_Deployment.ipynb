{
  "nbformat": 4,
  "nbformat_minor": 0,
  "metadata": {
    "colab": {
      "provenance": [],
      "gpuType": "T4",
      "authorship_tag": "ABX9TyOraO19FLlXth7LfwOyNMm2",
      "include_colab_link": true
    },
    "kernelspec": {
      "name": "python3",
      "display_name": "Python 3"
    },
    "language_info": {
      "name": "python"
    },
    "widgets": {
      "application/vnd.jupyter.widget-state+json": {
        "d18ad8be43734f59ae1b314a885bedb8": {
          "model_module": "@jupyter-widgets/controls",
          "model_name": "HBoxModel",
          "model_module_version": "1.5.0",
          "state": {
            "_dom_classes": [],
            "_model_module": "@jupyter-widgets/controls",
            "_model_module_version": "1.5.0",
            "_model_name": "HBoxModel",
            "_view_count": null,
            "_view_module": "@jupyter-widgets/controls",
            "_view_module_version": "1.5.0",
            "_view_name": "HBoxView",
            "box_style": "",
            "children": [
              "IPY_MODEL_0d6c35ee816441c98f7799aee059d9a4",
              "IPY_MODEL_654ec6fa58714f7e8e635740290b0f20",
              "IPY_MODEL_d186dfc81be641a480adbe7fff830acc"
            ],
            "layout": "IPY_MODEL_ddc52ceae8fd44bdaedf13120721c121"
          }
        },
        "0d6c35ee816441c98f7799aee059d9a4": {
          "model_module": "@jupyter-widgets/controls",
          "model_name": "HTMLModel",
          "model_module_version": "1.5.0",
          "state": {
            "_dom_classes": [],
            "_model_module": "@jupyter-widgets/controls",
            "_model_module_version": "1.5.0",
            "_model_name": "HTMLModel",
            "_view_count": null,
            "_view_module": "@jupyter-widgets/controls",
            "_view_module_version": "1.5.0",
            "_view_name": "HTMLView",
            "description": "",
            "description_tooltip": null,
            "layout": "IPY_MODEL_74d6b88714ae40c99b2be42a481df6f6",
            "placeholder": "​",
            "style": "IPY_MODEL_d93e140561d4408da1e1616ebb427a5d",
            "value": "100%"
          }
        },
        "654ec6fa58714f7e8e635740290b0f20": {
          "model_module": "@jupyter-widgets/controls",
          "model_name": "FloatProgressModel",
          "model_module_version": "1.5.0",
          "state": {
            "_dom_classes": [],
            "_model_module": "@jupyter-widgets/controls",
            "_model_module_version": "1.5.0",
            "_model_name": "FloatProgressModel",
            "_view_count": null,
            "_view_module": "@jupyter-widgets/controls",
            "_view_module_version": "1.5.0",
            "_view_name": "ProgressView",
            "bar_style": "success",
            "description": "",
            "description_tooltip": null,
            "layout": "IPY_MODEL_1a23145f785f4df2a80e46b32d0e4338",
            "max": 10,
            "min": 0,
            "orientation": "horizontal",
            "style": "IPY_MODEL_a3ced161d4d245b6920461d6ab1a07a8",
            "value": 10
          }
        },
        "d186dfc81be641a480adbe7fff830acc": {
          "model_module": "@jupyter-widgets/controls",
          "model_name": "HTMLModel",
          "model_module_version": "1.5.0",
          "state": {
            "_dom_classes": [],
            "_model_module": "@jupyter-widgets/controls",
            "_model_module_version": "1.5.0",
            "_model_name": "HTMLModel",
            "_view_count": null,
            "_view_module": "@jupyter-widgets/controls",
            "_view_module_version": "1.5.0",
            "_view_name": "HTMLView",
            "description": "",
            "description_tooltip": null,
            "layout": "IPY_MODEL_109c170eac254a8d970e023e1f615e99",
            "placeholder": "​",
            "style": "IPY_MODEL_11fc9e06e1f14dfd82aab7c1af85d48e",
            "value": " 10/10 [01:25&lt;00:00,  8.63s/it]"
          }
        },
        "ddc52ceae8fd44bdaedf13120721c121": {
          "model_module": "@jupyter-widgets/base",
          "model_name": "LayoutModel",
          "model_module_version": "1.2.0",
          "state": {
            "_model_module": "@jupyter-widgets/base",
            "_model_module_version": "1.2.0",
            "_model_name": "LayoutModel",
            "_view_count": null,
            "_view_module": "@jupyter-widgets/base",
            "_view_module_version": "1.2.0",
            "_view_name": "LayoutView",
            "align_content": null,
            "align_items": null,
            "align_self": null,
            "border": null,
            "bottom": null,
            "display": null,
            "flex": null,
            "flex_flow": null,
            "grid_area": null,
            "grid_auto_columns": null,
            "grid_auto_flow": null,
            "grid_auto_rows": null,
            "grid_column": null,
            "grid_gap": null,
            "grid_row": null,
            "grid_template_areas": null,
            "grid_template_columns": null,
            "grid_template_rows": null,
            "height": null,
            "justify_content": null,
            "justify_items": null,
            "left": null,
            "margin": null,
            "max_height": null,
            "max_width": null,
            "min_height": null,
            "min_width": null,
            "object_fit": null,
            "object_position": null,
            "order": null,
            "overflow": null,
            "overflow_x": null,
            "overflow_y": null,
            "padding": null,
            "right": null,
            "top": null,
            "visibility": null,
            "width": null
          }
        },
        "74d6b88714ae40c99b2be42a481df6f6": {
          "model_module": "@jupyter-widgets/base",
          "model_name": "LayoutModel",
          "model_module_version": "1.2.0",
          "state": {
            "_model_module": "@jupyter-widgets/base",
            "_model_module_version": "1.2.0",
            "_model_name": "LayoutModel",
            "_view_count": null,
            "_view_module": "@jupyter-widgets/base",
            "_view_module_version": "1.2.0",
            "_view_name": "LayoutView",
            "align_content": null,
            "align_items": null,
            "align_self": null,
            "border": null,
            "bottom": null,
            "display": null,
            "flex": null,
            "flex_flow": null,
            "grid_area": null,
            "grid_auto_columns": null,
            "grid_auto_flow": null,
            "grid_auto_rows": null,
            "grid_column": null,
            "grid_gap": null,
            "grid_row": null,
            "grid_template_areas": null,
            "grid_template_columns": null,
            "grid_template_rows": null,
            "height": null,
            "justify_content": null,
            "justify_items": null,
            "left": null,
            "margin": null,
            "max_height": null,
            "max_width": null,
            "min_height": null,
            "min_width": null,
            "object_fit": null,
            "object_position": null,
            "order": null,
            "overflow": null,
            "overflow_x": null,
            "overflow_y": null,
            "padding": null,
            "right": null,
            "top": null,
            "visibility": null,
            "width": null
          }
        },
        "d93e140561d4408da1e1616ebb427a5d": {
          "model_module": "@jupyter-widgets/controls",
          "model_name": "DescriptionStyleModel",
          "model_module_version": "1.5.0",
          "state": {
            "_model_module": "@jupyter-widgets/controls",
            "_model_module_version": "1.5.0",
            "_model_name": "DescriptionStyleModel",
            "_view_count": null,
            "_view_module": "@jupyter-widgets/base",
            "_view_module_version": "1.2.0",
            "_view_name": "StyleView",
            "description_width": ""
          }
        },
        "1a23145f785f4df2a80e46b32d0e4338": {
          "model_module": "@jupyter-widgets/base",
          "model_name": "LayoutModel",
          "model_module_version": "1.2.0",
          "state": {
            "_model_module": "@jupyter-widgets/base",
            "_model_module_version": "1.2.0",
            "_model_name": "LayoutModel",
            "_view_count": null,
            "_view_module": "@jupyter-widgets/base",
            "_view_module_version": "1.2.0",
            "_view_name": "LayoutView",
            "align_content": null,
            "align_items": null,
            "align_self": null,
            "border": null,
            "bottom": null,
            "display": null,
            "flex": null,
            "flex_flow": null,
            "grid_area": null,
            "grid_auto_columns": null,
            "grid_auto_flow": null,
            "grid_auto_rows": null,
            "grid_column": null,
            "grid_gap": null,
            "grid_row": null,
            "grid_template_areas": null,
            "grid_template_columns": null,
            "grid_template_rows": null,
            "height": null,
            "justify_content": null,
            "justify_items": null,
            "left": null,
            "margin": null,
            "max_height": null,
            "max_width": null,
            "min_height": null,
            "min_width": null,
            "object_fit": null,
            "object_position": null,
            "order": null,
            "overflow": null,
            "overflow_x": null,
            "overflow_y": null,
            "padding": null,
            "right": null,
            "top": null,
            "visibility": null,
            "width": null
          }
        },
        "a3ced161d4d245b6920461d6ab1a07a8": {
          "model_module": "@jupyter-widgets/controls",
          "model_name": "ProgressStyleModel",
          "model_module_version": "1.5.0",
          "state": {
            "_model_module": "@jupyter-widgets/controls",
            "_model_module_version": "1.5.0",
            "_model_name": "ProgressStyleModel",
            "_view_count": null,
            "_view_module": "@jupyter-widgets/base",
            "_view_module_version": "1.2.0",
            "_view_name": "StyleView",
            "bar_color": null,
            "description_width": ""
          }
        },
        "109c170eac254a8d970e023e1f615e99": {
          "model_module": "@jupyter-widgets/base",
          "model_name": "LayoutModel",
          "model_module_version": "1.2.0",
          "state": {
            "_model_module": "@jupyter-widgets/base",
            "_model_module_version": "1.2.0",
            "_model_name": "LayoutModel",
            "_view_count": null,
            "_view_module": "@jupyter-widgets/base",
            "_view_module_version": "1.2.0",
            "_view_name": "LayoutView",
            "align_content": null,
            "align_items": null,
            "align_self": null,
            "border": null,
            "bottom": null,
            "display": null,
            "flex": null,
            "flex_flow": null,
            "grid_area": null,
            "grid_auto_columns": null,
            "grid_auto_flow": null,
            "grid_auto_rows": null,
            "grid_column": null,
            "grid_gap": null,
            "grid_row": null,
            "grid_template_areas": null,
            "grid_template_columns": null,
            "grid_template_rows": null,
            "height": null,
            "justify_content": null,
            "justify_items": null,
            "left": null,
            "margin": null,
            "max_height": null,
            "max_width": null,
            "min_height": null,
            "min_width": null,
            "object_fit": null,
            "object_position": null,
            "order": null,
            "overflow": null,
            "overflow_x": null,
            "overflow_y": null,
            "padding": null,
            "right": null,
            "top": null,
            "visibility": null,
            "width": null
          }
        },
        "11fc9e06e1f14dfd82aab7c1af85d48e": {
          "model_module": "@jupyter-widgets/controls",
          "model_name": "DescriptionStyleModel",
          "model_module_version": "1.5.0",
          "state": {
            "_model_module": "@jupyter-widgets/controls",
            "_model_module_version": "1.5.0",
            "_model_name": "DescriptionStyleModel",
            "_view_count": null,
            "_view_module": "@jupyter-widgets/base",
            "_view_module_version": "1.2.0",
            "_view_name": "StyleView",
            "description_width": ""
          }
        },
        "da198ba87f8d4dc39008a7fc944803e4": {
          "model_module": "@jupyter-widgets/controls",
          "model_name": "HBoxModel",
          "model_module_version": "1.5.0",
          "state": {
            "_dom_classes": [],
            "_model_module": "@jupyter-widgets/controls",
            "_model_module_version": "1.5.0",
            "_model_name": "HBoxModel",
            "_view_count": null,
            "_view_module": "@jupyter-widgets/controls",
            "_view_module_version": "1.5.0",
            "_view_name": "HBoxView",
            "box_style": "",
            "children": [
              "IPY_MODEL_453580bd740f485d9584a880108f39c8",
              "IPY_MODEL_0319ecef81d04cdabe9184cdd0578217",
              "IPY_MODEL_c459bd264adc4f3291146255244437d7"
            ],
            "layout": "IPY_MODEL_a588158914a345e7ae2d6c4643bfaf15"
          }
        },
        "453580bd740f485d9584a880108f39c8": {
          "model_module": "@jupyter-widgets/controls",
          "model_name": "HTMLModel",
          "model_module_version": "1.5.0",
          "state": {
            "_dom_classes": [],
            "_model_module": "@jupyter-widgets/controls",
            "_model_module_version": "1.5.0",
            "_model_name": "HTMLModel",
            "_view_count": null,
            "_view_module": "@jupyter-widgets/controls",
            "_view_module_version": "1.5.0",
            "_view_name": "HTMLView",
            "description": "",
            "description_tooltip": null,
            "layout": "IPY_MODEL_abd2d9ae7dfe441c84c648d9f07215f7",
            "placeholder": "​",
            "style": "IPY_MODEL_97daa3a0994e4088a026a93d00652f03",
            "value": "100%"
          }
        },
        "0319ecef81d04cdabe9184cdd0578217": {
          "model_module": "@jupyter-widgets/controls",
          "model_name": "FloatProgressModel",
          "model_module_version": "1.5.0",
          "state": {
            "_dom_classes": [],
            "_model_module": "@jupyter-widgets/controls",
            "_model_module_version": "1.5.0",
            "_model_name": "FloatProgressModel",
            "_view_count": null,
            "_view_module": "@jupyter-widgets/controls",
            "_view_module_version": "1.5.0",
            "_view_name": "ProgressView",
            "bar_style": "success",
            "description": "",
            "description_tooltip": null,
            "layout": "IPY_MODEL_d224b7515afd450b9b3767e1069b9121",
            "max": 10,
            "min": 0,
            "orientation": "horizontal",
            "style": "IPY_MODEL_4162e84b7ea247668dc9dbe1d94fc31e",
            "value": 10
          }
        },
        "c459bd264adc4f3291146255244437d7": {
          "model_module": "@jupyter-widgets/controls",
          "model_name": "HTMLModel",
          "model_module_version": "1.5.0",
          "state": {
            "_dom_classes": [],
            "_model_module": "@jupyter-widgets/controls",
            "_model_module_version": "1.5.0",
            "_model_name": "HTMLModel",
            "_view_count": null,
            "_view_module": "@jupyter-widgets/controls",
            "_view_module_version": "1.5.0",
            "_view_name": "HTMLView",
            "description": "",
            "description_tooltip": null,
            "layout": "IPY_MODEL_da91b337a2af405da9ed0e49c5e2a2b5",
            "placeholder": "​",
            "style": "IPY_MODEL_65e13646c7244ef1b5c4749ab7b30ea5",
            "value": " 10/10 [30:11&lt;00:00, 181.84s/it]"
          }
        },
        "a588158914a345e7ae2d6c4643bfaf15": {
          "model_module": "@jupyter-widgets/base",
          "model_name": "LayoutModel",
          "model_module_version": "1.2.0",
          "state": {
            "_model_module": "@jupyter-widgets/base",
            "_model_module_version": "1.2.0",
            "_model_name": "LayoutModel",
            "_view_count": null,
            "_view_module": "@jupyter-widgets/base",
            "_view_module_version": "1.2.0",
            "_view_name": "LayoutView",
            "align_content": null,
            "align_items": null,
            "align_self": null,
            "border": null,
            "bottom": null,
            "display": null,
            "flex": null,
            "flex_flow": null,
            "grid_area": null,
            "grid_auto_columns": null,
            "grid_auto_flow": null,
            "grid_auto_rows": null,
            "grid_column": null,
            "grid_gap": null,
            "grid_row": null,
            "grid_template_areas": null,
            "grid_template_columns": null,
            "grid_template_rows": null,
            "height": null,
            "justify_content": null,
            "justify_items": null,
            "left": null,
            "margin": null,
            "max_height": null,
            "max_width": null,
            "min_height": null,
            "min_width": null,
            "object_fit": null,
            "object_position": null,
            "order": null,
            "overflow": null,
            "overflow_x": null,
            "overflow_y": null,
            "padding": null,
            "right": null,
            "top": null,
            "visibility": null,
            "width": null
          }
        },
        "abd2d9ae7dfe441c84c648d9f07215f7": {
          "model_module": "@jupyter-widgets/base",
          "model_name": "LayoutModel",
          "model_module_version": "1.2.0",
          "state": {
            "_model_module": "@jupyter-widgets/base",
            "_model_module_version": "1.2.0",
            "_model_name": "LayoutModel",
            "_view_count": null,
            "_view_module": "@jupyter-widgets/base",
            "_view_module_version": "1.2.0",
            "_view_name": "LayoutView",
            "align_content": null,
            "align_items": null,
            "align_self": null,
            "border": null,
            "bottom": null,
            "display": null,
            "flex": null,
            "flex_flow": null,
            "grid_area": null,
            "grid_auto_columns": null,
            "grid_auto_flow": null,
            "grid_auto_rows": null,
            "grid_column": null,
            "grid_gap": null,
            "grid_row": null,
            "grid_template_areas": null,
            "grid_template_columns": null,
            "grid_template_rows": null,
            "height": null,
            "justify_content": null,
            "justify_items": null,
            "left": null,
            "margin": null,
            "max_height": null,
            "max_width": null,
            "min_height": null,
            "min_width": null,
            "object_fit": null,
            "object_position": null,
            "order": null,
            "overflow": null,
            "overflow_x": null,
            "overflow_y": null,
            "padding": null,
            "right": null,
            "top": null,
            "visibility": null,
            "width": null
          }
        },
        "97daa3a0994e4088a026a93d00652f03": {
          "model_module": "@jupyter-widgets/controls",
          "model_name": "DescriptionStyleModel",
          "model_module_version": "1.5.0",
          "state": {
            "_model_module": "@jupyter-widgets/controls",
            "_model_module_version": "1.5.0",
            "_model_name": "DescriptionStyleModel",
            "_view_count": null,
            "_view_module": "@jupyter-widgets/base",
            "_view_module_version": "1.2.0",
            "_view_name": "StyleView",
            "description_width": ""
          }
        },
        "d224b7515afd450b9b3767e1069b9121": {
          "model_module": "@jupyter-widgets/base",
          "model_name": "LayoutModel",
          "model_module_version": "1.2.0",
          "state": {
            "_model_module": "@jupyter-widgets/base",
            "_model_module_version": "1.2.0",
            "_model_name": "LayoutModel",
            "_view_count": null,
            "_view_module": "@jupyter-widgets/base",
            "_view_module_version": "1.2.0",
            "_view_name": "LayoutView",
            "align_content": null,
            "align_items": null,
            "align_self": null,
            "border": null,
            "bottom": null,
            "display": null,
            "flex": null,
            "flex_flow": null,
            "grid_area": null,
            "grid_auto_columns": null,
            "grid_auto_flow": null,
            "grid_auto_rows": null,
            "grid_column": null,
            "grid_gap": null,
            "grid_row": null,
            "grid_template_areas": null,
            "grid_template_columns": null,
            "grid_template_rows": null,
            "height": null,
            "justify_content": null,
            "justify_items": null,
            "left": null,
            "margin": null,
            "max_height": null,
            "max_width": null,
            "min_height": null,
            "min_width": null,
            "object_fit": null,
            "object_position": null,
            "order": null,
            "overflow": null,
            "overflow_x": null,
            "overflow_y": null,
            "padding": null,
            "right": null,
            "top": null,
            "visibility": null,
            "width": null
          }
        },
        "4162e84b7ea247668dc9dbe1d94fc31e": {
          "model_module": "@jupyter-widgets/controls",
          "model_name": "ProgressStyleModel",
          "model_module_version": "1.5.0",
          "state": {
            "_model_module": "@jupyter-widgets/controls",
            "_model_module_version": "1.5.0",
            "_model_name": "ProgressStyleModel",
            "_view_count": null,
            "_view_module": "@jupyter-widgets/base",
            "_view_module_version": "1.2.0",
            "_view_name": "StyleView",
            "bar_color": null,
            "description_width": ""
          }
        },
        "da91b337a2af405da9ed0e49c5e2a2b5": {
          "model_module": "@jupyter-widgets/base",
          "model_name": "LayoutModel",
          "model_module_version": "1.2.0",
          "state": {
            "_model_module": "@jupyter-widgets/base",
            "_model_module_version": "1.2.0",
            "_model_name": "LayoutModel",
            "_view_count": null,
            "_view_module": "@jupyter-widgets/base",
            "_view_module_version": "1.2.0",
            "_view_name": "LayoutView",
            "align_content": null,
            "align_items": null,
            "align_self": null,
            "border": null,
            "bottom": null,
            "display": null,
            "flex": null,
            "flex_flow": null,
            "grid_area": null,
            "grid_auto_columns": null,
            "grid_auto_flow": null,
            "grid_auto_rows": null,
            "grid_column": null,
            "grid_gap": null,
            "grid_row": null,
            "grid_template_areas": null,
            "grid_template_columns": null,
            "grid_template_rows": null,
            "height": null,
            "justify_content": null,
            "justify_items": null,
            "left": null,
            "margin": null,
            "max_height": null,
            "max_width": null,
            "min_height": null,
            "min_width": null,
            "object_fit": null,
            "object_position": null,
            "order": null,
            "overflow": null,
            "overflow_x": null,
            "overflow_y": null,
            "padding": null,
            "right": null,
            "top": null,
            "visibility": null,
            "width": null
          }
        },
        "65e13646c7244ef1b5c4749ab7b30ea5": {
          "model_module": "@jupyter-widgets/controls",
          "model_name": "DescriptionStyleModel",
          "model_module_version": "1.5.0",
          "state": {
            "_model_module": "@jupyter-widgets/controls",
            "_model_module_version": "1.5.0",
            "_model_name": "DescriptionStyleModel",
            "_view_count": null,
            "_view_module": "@jupyter-widgets/base",
            "_view_module_version": "1.2.0",
            "_view_name": "StyleView",
            "description_width": ""
          }
        },
        "31e5fdce25e641eea4d93cbe60538c91": {
          "model_module": "@jupyter-widgets/controls",
          "model_name": "HBoxModel",
          "model_module_version": "1.5.0",
          "state": {
            "_dom_classes": [],
            "_model_module": "@jupyter-widgets/controls",
            "_model_module_version": "1.5.0",
            "_model_name": "HBoxModel",
            "_view_count": null,
            "_view_module": "@jupyter-widgets/controls",
            "_view_module_version": "1.5.0",
            "_view_name": "HBoxView",
            "box_style": "",
            "children": [
              "IPY_MODEL_d0fa7a9808db4ae28857bad99a7464bf",
              "IPY_MODEL_8a8986f4bdd5482d946ab1ab8e483cf3",
              "IPY_MODEL_cb42956a82514cffaa52f2156404f773"
            ],
            "layout": "IPY_MODEL_551b5e9722ca492c9f1f309f7e9e97fd"
          }
        },
        "d0fa7a9808db4ae28857bad99a7464bf": {
          "model_module": "@jupyter-widgets/controls",
          "model_name": "HTMLModel",
          "model_module_version": "1.5.0",
          "state": {
            "_dom_classes": [],
            "_model_module": "@jupyter-widgets/controls",
            "_model_module_version": "1.5.0",
            "_model_name": "HTMLModel",
            "_view_count": null,
            "_view_module": "@jupyter-widgets/controls",
            "_view_module_version": "1.5.0",
            "_view_name": "HTMLView",
            "description": "",
            "description_tooltip": null,
            "layout": "IPY_MODEL_e8c1e85a7bb045c68ae7cead65445373",
            "placeholder": "​",
            "style": "IPY_MODEL_c48e3403c35b40748044db3696a60b52",
            "value": "100%"
          }
        },
        "8a8986f4bdd5482d946ab1ab8e483cf3": {
          "model_module": "@jupyter-widgets/controls",
          "model_name": "FloatProgressModel",
          "model_module_version": "1.5.0",
          "state": {
            "_dom_classes": [],
            "_model_module": "@jupyter-widgets/controls",
            "_model_module_version": "1.5.0",
            "_model_name": "FloatProgressModel",
            "_view_count": null,
            "_view_module": "@jupyter-widgets/controls",
            "_view_module_version": "1.5.0",
            "_view_name": "ProgressView",
            "bar_style": "success",
            "description": "",
            "description_tooltip": null,
            "layout": "IPY_MODEL_0c7b24d6b3ed4368942425eafea99fc9",
            "max": 5,
            "min": 0,
            "orientation": "horizontal",
            "style": "IPY_MODEL_6713756dc6434a11ae8be0fa4ccbc0e6",
            "value": 5
          }
        },
        "cb42956a82514cffaa52f2156404f773": {
          "model_module": "@jupyter-widgets/controls",
          "model_name": "HTMLModel",
          "model_module_version": "1.5.0",
          "state": {
            "_dom_classes": [],
            "_model_module": "@jupyter-widgets/controls",
            "_model_module_version": "1.5.0",
            "_model_name": "HTMLModel",
            "_view_count": null,
            "_view_module": "@jupyter-widgets/controls",
            "_view_module_version": "1.5.0",
            "_view_name": "HTMLView",
            "description": "",
            "description_tooltip": null,
            "layout": "IPY_MODEL_77f8d149e4cc4c8ab5360ff04a6167fb",
            "placeholder": "​",
            "style": "IPY_MODEL_19e4ca951bab4ce2a3b282bad2922265",
            "value": " 5/5 [20:05&lt;00:00, 242.00s/it]"
          }
        },
        "551b5e9722ca492c9f1f309f7e9e97fd": {
          "model_module": "@jupyter-widgets/base",
          "model_name": "LayoutModel",
          "model_module_version": "1.2.0",
          "state": {
            "_model_module": "@jupyter-widgets/base",
            "_model_module_version": "1.2.0",
            "_model_name": "LayoutModel",
            "_view_count": null,
            "_view_module": "@jupyter-widgets/base",
            "_view_module_version": "1.2.0",
            "_view_name": "LayoutView",
            "align_content": null,
            "align_items": null,
            "align_self": null,
            "border": null,
            "bottom": null,
            "display": null,
            "flex": null,
            "flex_flow": null,
            "grid_area": null,
            "grid_auto_columns": null,
            "grid_auto_flow": null,
            "grid_auto_rows": null,
            "grid_column": null,
            "grid_gap": null,
            "grid_row": null,
            "grid_template_areas": null,
            "grid_template_columns": null,
            "grid_template_rows": null,
            "height": null,
            "justify_content": null,
            "justify_items": null,
            "left": null,
            "margin": null,
            "max_height": null,
            "max_width": null,
            "min_height": null,
            "min_width": null,
            "object_fit": null,
            "object_position": null,
            "order": null,
            "overflow": null,
            "overflow_x": null,
            "overflow_y": null,
            "padding": null,
            "right": null,
            "top": null,
            "visibility": null,
            "width": null
          }
        },
        "e8c1e85a7bb045c68ae7cead65445373": {
          "model_module": "@jupyter-widgets/base",
          "model_name": "LayoutModel",
          "model_module_version": "1.2.0",
          "state": {
            "_model_module": "@jupyter-widgets/base",
            "_model_module_version": "1.2.0",
            "_model_name": "LayoutModel",
            "_view_count": null,
            "_view_module": "@jupyter-widgets/base",
            "_view_module_version": "1.2.0",
            "_view_name": "LayoutView",
            "align_content": null,
            "align_items": null,
            "align_self": null,
            "border": null,
            "bottom": null,
            "display": null,
            "flex": null,
            "flex_flow": null,
            "grid_area": null,
            "grid_auto_columns": null,
            "grid_auto_flow": null,
            "grid_auto_rows": null,
            "grid_column": null,
            "grid_gap": null,
            "grid_row": null,
            "grid_template_areas": null,
            "grid_template_columns": null,
            "grid_template_rows": null,
            "height": null,
            "justify_content": null,
            "justify_items": null,
            "left": null,
            "margin": null,
            "max_height": null,
            "max_width": null,
            "min_height": null,
            "min_width": null,
            "object_fit": null,
            "object_position": null,
            "order": null,
            "overflow": null,
            "overflow_x": null,
            "overflow_y": null,
            "padding": null,
            "right": null,
            "top": null,
            "visibility": null,
            "width": null
          }
        },
        "c48e3403c35b40748044db3696a60b52": {
          "model_module": "@jupyter-widgets/controls",
          "model_name": "DescriptionStyleModel",
          "model_module_version": "1.5.0",
          "state": {
            "_model_module": "@jupyter-widgets/controls",
            "_model_module_version": "1.5.0",
            "_model_name": "DescriptionStyleModel",
            "_view_count": null,
            "_view_module": "@jupyter-widgets/base",
            "_view_module_version": "1.2.0",
            "_view_name": "StyleView",
            "description_width": ""
          }
        },
        "0c7b24d6b3ed4368942425eafea99fc9": {
          "model_module": "@jupyter-widgets/base",
          "model_name": "LayoutModel",
          "model_module_version": "1.2.0",
          "state": {
            "_model_module": "@jupyter-widgets/base",
            "_model_module_version": "1.2.0",
            "_model_name": "LayoutModel",
            "_view_count": null,
            "_view_module": "@jupyter-widgets/base",
            "_view_module_version": "1.2.0",
            "_view_name": "LayoutView",
            "align_content": null,
            "align_items": null,
            "align_self": null,
            "border": null,
            "bottom": null,
            "display": null,
            "flex": null,
            "flex_flow": null,
            "grid_area": null,
            "grid_auto_columns": null,
            "grid_auto_flow": null,
            "grid_auto_rows": null,
            "grid_column": null,
            "grid_gap": null,
            "grid_row": null,
            "grid_template_areas": null,
            "grid_template_columns": null,
            "grid_template_rows": null,
            "height": null,
            "justify_content": null,
            "justify_items": null,
            "left": null,
            "margin": null,
            "max_height": null,
            "max_width": null,
            "min_height": null,
            "min_width": null,
            "object_fit": null,
            "object_position": null,
            "order": null,
            "overflow": null,
            "overflow_x": null,
            "overflow_y": null,
            "padding": null,
            "right": null,
            "top": null,
            "visibility": null,
            "width": null
          }
        },
        "6713756dc6434a11ae8be0fa4ccbc0e6": {
          "model_module": "@jupyter-widgets/controls",
          "model_name": "ProgressStyleModel",
          "model_module_version": "1.5.0",
          "state": {
            "_model_module": "@jupyter-widgets/controls",
            "_model_module_version": "1.5.0",
            "_model_name": "ProgressStyleModel",
            "_view_count": null,
            "_view_module": "@jupyter-widgets/base",
            "_view_module_version": "1.2.0",
            "_view_name": "StyleView",
            "bar_color": null,
            "description_width": ""
          }
        },
        "77f8d149e4cc4c8ab5360ff04a6167fb": {
          "model_module": "@jupyter-widgets/base",
          "model_name": "LayoutModel",
          "model_module_version": "1.2.0",
          "state": {
            "_model_module": "@jupyter-widgets/base",
            "_model_module_version": "1.2.0",
            "_model_name": "LayoutModel",
            "_view_count": null,
            "_view_module": "@jupyter-widgets/base",
            "_view_module_version": "1.2.0",
            "_view_name": "LayoutView",
            "align_content": null,
            "align_items": null,
            "align_self": null,
            "border": null,
            "bottom": null,
            "display": null,
            "flex": null,
            "flex_flow": null,
            "grid_area": null,
            "grid_auto_columns": null,
            "grid_auto_flow": null,
            "grid_auto_rows": null,
            "grid_column": null,
            "grid_gap": null,
            "grid_row": null,
            "grid_template_areas": null,
            "grid_template_columns": null,
            "grid_template_rows": null,
            "height": null,
            "justify_content": null,
            "justify_items": null,
            "left": null,
            "margin": null,
            "max_height": null,
            "max_width": null,
            "min_height": null,
            "min_width": null,
            "object_fit": null,
            "object_position": null,
            "order": null,
            "overflow": null,
            "overflow_x": null,
            "overflow_y": null,
            "padding": null,
            "right": null,
            "top": null,
            "visibility": null,
            "width": null
          }
        },
        "19e4ca951bab4ce2a3b282bad2922265": {
          "model_module": "@jupyter-widgets/controls",
          "model_name": "DescriptionStyleModel",
          "model_module_version": "1.5.0",
          "state": {
            "_model_module": "@jupyter-widgets/controls",
            "_model_module_version": "1.5.0",
            "_model_name": "DescriptionStyleModel",
            "_view_count": null,
            "_view_module": "@jupyter-widgets/base",
            "_view_module_version": "1.2.0",
            "_view_name": "StyleView",
            "description_width": ""
          }
        },
        "30047743f8a84be3a1631b7ff902a214": {
          "model_module": "@jupyter-widgets/controls",
          "model_name": "HBoxModel",
          "model_module_version": "1.5.0",
          "state": {
            "_dom_classes": [],
            "_model_module": "@jupyter-widgets/controls",
            "_model_module_version": "1.5.0",
            "_model_name": "HBoxModel",
            "_view_count": null,
            "_view_module": "@jupyter-widgets/controls",
            "_view_module_version": "1.5.0",
            "_view_name": "HBoxView",
            "box_style": "",
            "children": [
              "IPY_MODEL_32486b290c23423b858e39c05faf81dd",
              "IPY_MODEL_783d5b8b20a34bb3b02bee5e0234c738",
              "IPY_MODEL_429ae16359a5459596b9f8c8e6f102ad"
            ],
            "layout": "IPY_MODEL_0aeb01d1523347769442be845c39b8a3"
          }
        },
        "32486b290c23423b858e39c05faf81dd": {
          "model_module": "@jupyter-widgets/controls",
          "model_name": "HTMLModel",
          "model_module_version": "1.5.0",
          "state": {
            "_dom_classes": [],
            "_model_module": "@jupyter-widgets/controls",
            "_model_module_version": "1.5.0",
            "_model_name": "HTMLModel",
            "_view_count": null,
            "_view_module": "@jupyter-widgets/controls",
            "_view_module_version": "1.5.0",
            "_view_name": "HTMLView",
            "description": "",
            "description_tooltip": null,
            "layout": "IPY_MODEL_b5dfb9f4e6f54941aa0d0ce6e5b27fd9",
            "placeholder": "​",
            "style": "IPY_MODEL_4364c0c161fa4a3d85eaea8e7f4bb0bc",
            "value": "100%"
          }
        },
        "783d5b8b20a34bb3b02bee5e0234c738": {
          "model_module": "@jupyter-widgets/controls",
          "model_name": "FloatProgressModel",
          "model_module_version": "1.5.0",
          "state": {
            "_dom_classes": [],
            "_model_module": "@jupyter-widgets/controls",
            "_model_module_version": "1.5.0",
            "_model_name": "FloatProgressModel",
            "_view_count": null,
            "_view_module": "@jupyter-widgets/controls",
            "_view_module_version": "1.5.0",
            "_view_name": "ProgressView",
            "bar_style": "success",
            "description": "",
            "description_tooltip": null,
            "layout": "IPY_MODEL_a454a7b1165443e79da5cd395c8856fc",
            "max": 5,
            "min": 0,
            "orientation": "horizontal",
            "style": "IPY_MODEL_4dc9164ed7a2420ca26c70dd9f861d5a",
            "value": 5
          }
        },
        "429ae16359a5459596b9f8c8e6f102ad": {
          "model_module": "@jupyter-widgets/controls",
          "model_name": "HTMLModel",
          "model_module_version": "1.5.0",
          "state": {
            "_dom_classes": [],
            "_model_module": "@jupyter-widgets/controls",
            "_model_module_version": "1.5.0",
            "_model_name": "HTMLModel",
            "_view_count": null,
            "_view_module": "@jupyter-widgets/controls",
            "_view_module_version": "1.5.0",
            "_view_name": "HTMLView",
            "description": "",
            "description_tooltip": null,
            "layout": "IPY_MODEL_d40ea226f2b24aaf8099ef79f57080f7",
            "placeholder": "​",
            "style": "IPY_MODEL_86bcaab02f404eef8a5924512cc582be",
            "value": " 5/5 [56:33&lt;00:00, 674.23s/it]"
          }
        },
        "0aeb01d1523347769442be845c39b8a3": {
          "model_module": "@jupyter-widgets/base",
          "model_name": "LayoutModel",
          "model_module_version": "1.2.0",
          "state": {
            "_model_module": "@jupyter-widgets/base",
            "_model_module_version": "1.2.0",
            "_model_name": "LayoutModel",
            "_view_count": null,
            "_view_module": "@jupyter-widgets/base",
            "_view_module_version": "1.2.0",
            "_view_name": "LayoutView",
            "align_content": null,
            "align_items": null,
            "align_self": null,
            "border": null,
            "bottom": null,
            "display": null,
            "flex": null,
            "flex_flow": null,
            "grid_area": null,
            "grid_auto_columns": null,
            "grid_auto_flow": null,
            "grid_auto_rows": null,
            "grid_column": null,
            "grid_gap": null,
            "grid_row": null,
            "grid_template_areas": null,
            "grid_template_columns": null,
            "grid_template_rows": null,
            "height": null,
            "justify_content": null,
            "justify_items": null,
            "left": null,
            "margin": null,
            "max_height": null,
            "max_width": null,
            "min_height": null,
            "min_width": null,
            "object_fit": null,
            "object_position": null,
            "order": null,
            "overflow": null,
            "overflow_x": null,
            "overflow_y": null,
            "padding": null,
            "right": null,
            "top": null,
            "visibility": null,
            "width": null
          }
        },
        "b5dfb9f4e6f54941aa0d0ce6e5b27fd9": {
          "model_module": "@jupyter-widgets/base",
          "model_name": "LayoutModel",
          "model_module_version": "1.2.0",
          "state": {
            "_model_module": "@jupyter-widgets/base",
            "_model_module_version": "1.2.0",
            "_model_name": "LayoutModel",
            "_view_count": null,
            "_view_module": "@jupyter-widgets/base",
            "_view_module_version": "1.2.0",
            "_view_name": "LayoutView",
            "align_content": null,
            "align_items": null,
            "align_self": null,
            "border": null,
            "bottom": null,
            "display": null,
            "flex": null,
            "flex_flow": null,
            "grid_area": null,
            "grid_auto_columns": null,
            "grid_auto_flow": null,
            "grid_auto_rows": null,
            "grid_column": null,
            "grid_gap": null,
            "grid_row": null,
            "grid_template_areas": null,
            "grid_template_columns": null,
            "grid_template_rows": null,
            "height": null,
            "justify_content": null,
            "justify_items": null,
            "left": null,
            "margin": null,
            "max_height": null,
            "max_width": null,
            "min_height": null,
            "min_width": null,
            "object_fit": null,
            "object_position": null,
            "order": null,
            "overflow": null,
            "overflow_x": null,
            "overflow_y": null,
            "padding": null,
            "right": null,
            "top": null,
            "visibility": null,
            "width": null
          }
        },
        "4364c0c161fa4a3d85eaea8e7f4bb0bc": {
          "model_module": "@jupyter-widgets/controls",
          "model_name": "DescriptionStyleModel",
          "model_module_version": "1.5.0",
          "state": {
            "_model_module": "@jupyter-widgets/controls",
            "_model_module_version": "1.5.0",
            "_model_name": "DescriptionStyleModel",
            "_view_count": null,
            "_view_module": "@jupyter-widgets/base",
            "_view_module_version": "1.2.0",
            "_view_name": "StyleView",
            "description_width": ""
          }
        },
        "a454a7b1165443e79da5cd395c8856fc": {
          "model_module": "@jupyter-widgets/base",
          "model_name": "LayoutModel",
          "model_module_version": "1.2.0",
          "state": {
            "_model_module": "@jupyter-widgets/base",
            "_model_module_version": "1.2.0",
            "_model_name": "LayoutModel",
            "_view_count": null,
            "_view_module": "@jupyter-widgets/base",
            "_view_module_version": "1.2.0",
            "_view_name": "LayoutView",
            "align_content": null,
            "align_items": null,
            "align_self": null,
            "border": null,
            "bottom": null,
            "display": null,
            "flex": null,
            "flex_flow": null,
            "grid_area": null,
            "grid_auto_columns": null,
            "grid_auto_flow": null,
            "grid_auto_rows": null,
            "grid_column": null,
            "grid_gap": null,
            "grid_row": null,
            "grid_template_areas": null,
            "grid_template_columns": null,
            "grid_template_rows": null,
            "height": null,
            "justify_content": null,
            "justify_items": null,
            "left": null,
            "margin": null,
            "max_height": null,
            "max_width": null,
            "min_height": null,
            "min_width": null,
            "object_fit": null,
            "object_position": null,
            "order": null,
            "overflow": null,
            "overflow_x": null,
            "overflow_y": null,
            "padding": null,
            "right": null,
            "top": null,
            "visibility": null,
            "width": null
          }
        },
        "4dc9164ed7a2420ca26c70dd9f861d5a": {
          "model_module": "@jupyter-widgets/controls",
          "model_name": "ProgressStyleModel",
          "model_module_version": "1.5.0",
          "state": {
            "_model_module": "@jupyter-widgets/controls",
            "_model_module_version": "1.5.0",
            "_model_name": "ProgressStyleModel",
            "_view_count": null,
            "_view_module": "@jupyter-widgets/base",
            "_view_module_version": "1.2.0",
            "_view_name": "StyleView",
            "bar_color": null,
            "description_width": ""
          }
        },
        "d40ea226f2b24aaf8099ef79f57080f7": {
          "model_module": "@jupyter-widgets/base",
          "model_name": "LayoutModel",
          "model_module_version": "1.2.0",
          "state": {
            "_model_module": "@jupyter-widgets/base",
            "_model_module_version": "1.2.0",
            "_model_name": "LayoutModel",
            "_view_count": null,
            "_view_module": "@jupyter-widgets/base",
            "_view_module_version": "1.2.0",
            "_view_name": "LayoutView",
            "align_content": null,
            "align_items": null,
            "align_self": null,
            "border": null,
            "bottom": null,
            "display": null,
            "flex": null,
            "flex_flow": null,
            "grid_area": null,
            "grid_auto_columns": null,
            "grid_auto_flow": null,
            "grid_auto_rows": null,
            "grid_column": null,
            "grid_gap": null,
            "grid_row": null,
            "grid_template_areas": null,
            "grid_template_columns": null,
            "grid_template_rows": null,
            "height": null,
            "justify_content": null,
            "justify_items": null,
            "left": null,
            "margin": null,
            "max_height": null,
            "max_width": null,
            "min_height": null,
            "min_width": null,
            "object_fit": null,
            "object_position": null,
            "order": null,
            "overflow": null,
            "overflow_x": null,
            "overflow_y": null,
            "padding": null,
            "right": null,
            "top": null,
            "visibility": null,
            "width": null
          }
        },
        "86bcaab02f404eef8a5924512cc582be": {
          "model_module": "@jupyter-widgets/controls",
          "model_name": "DescriptionStyleModel",
          "model_module_version": "1.5.0",
          "state": {
            "_model_module": "@jupyter-widgets/controls",
            "_model_module_version": "1.5.0",
            "_model_name": "DescriptionStyleModel",
            "_view_count": null,
            "_view_module": "@jupyter-widgets/base",
            "_view_module_version": "1.2.0",
            "_view_name": "StyleView",
            "description_width": ""
          }
        }
      }
    },
    "accelerator": "GPU"
  },
  "cells": [
    {
      "cell_type": "markdown",
      "metadata": {
        "id": "view-in-github",
        "colab_type": "text"
      },
      "source": [
        "<a href=\"https://colab.research.google.com/github/waleedGeorgy/deep-learning/blob/main/Deep_Learning_Models_Deployment.ipynb\" target=\"_parent\"><img src=\"https://colab.research.google.com/assets/colab-badge.svg\" alt=\"Open In Colab\"/></a>"
      ]
    },
    {
      "cell_type": "markdown",
      "source": [
        "# Getting set up"
      ],
      "metadata": {
        "id": "6fBuLQTLBTXG"
      }
    },
    {
      "cell_type": "code",
      "execution_count": 1,
      "metadata": {
        "id": "vy8FCV0krcNV",
        "colab": {
          "base_uri": "https://localhost:8080/"
        },
        "outputId": "eb037348-6bf4-436d-b59d-a35300b8c26c"
      },
      "outputs": [
        {
          "output_type": "stream",
          "name": "stdout",
          "text": [
            "[INFO] Couldn't find torchinfo... installing it.\n",
            "[INFO] Couldn't find going_modular or helper_functions scripts... downloading them from GitHub.\n",
            "Cloning into 'pytorch-deep-learning'...\n",
            "remote: Enumerating objects: 4056, done.\u001b[K\n",
            "remote: Total 4056 (delta 0), reused 0 (delta 0), pack-reused 4056\u001b[K\n",
            "Receiving objects: 100% (4056/4056), 646.90 MiB | 36.39 MiB/s, done.\n",
            "Resolving deltas: 100% (2372/2372), done.\n",
            "Updating files: 100% (248/248), done.\n"
          ]
        }
      ],
      "source": [
        "import matplotlib.pyplot as plt\n",
        "import torch\n",
        "import torchvision\n",
        "from torch import nn\n",
        "from torchvision import transforms\n",
        "\n",
        "# Try to get torchinfo, install it if it doesn't work\n",
        "try:\n",
        "    from torchinfo import summary\n",
        "except:\n",
        "    print(\"[INFO] Couldn't find torchinfo... installing it.\")\n",
        "    !pip install -q torchinfo\n",
        "    from torchinfo import summary\n",
        "\n",
        "# Try to import the going_modular directory, download it from GitHub if it doesn't work\n",
        "try:\n",
        "    from going_modular.going_modular import data_setup, engine\n",
        "    from helper_functions import download_data, set_seeds, plot_loss_curves\n",
        "except:\n",
        "    # Get the going_modular scripts\n",
        "    print(\"[INFO] Couldn't find going_modular or helper_functions scripts... downloading them from GitHub.\")\n",
        "    !git clone https://github.com/mrdbourke/pytorch-deep-learning\n",
        "    !mv pytorch-deep-learning/going_modular .\n",
        "    !mv pytorch-deep-learning/helper_functions.py .\n",
        "    !rm -rf pytorch-deep-learning\n",
        "    from going_modular.going_modular import data_setup, engine\n",
        "    from helper_functions import download_data, set_seeds, plot_loss_curves"
      ]
    },
    {
      "cell_type": "code",
      "source": [
        "device = \"cuda\" if torch.cuda.is_available() else \"cpu\"\n",
        "device"
      ],
      "metadata": {
        "colab": {
          "base_uri": "https://localhost:8080/",
          "height": 36
        },
        "id": "eIToKiVABb9h",
        "outputId": "a0d57e9d-afac-432f-f709-4de3eaf34171"
      },
      "execution_count": 2,
      "outputs": [
        {
          "output_type": "execute_result",
          "data": {
            "text/plain": [
              "'cuda'"
            ],
            "application/vnd.google.colaboratory.intrinsic+json": {
              "type": "string"
            }
          },
          "metadata": {},
          "execution_count": 2
        }
      ]
    },
    {
      "cell_type": "code",
      "source": [
        "# Download pizza, steak, sushi images from GitHub\n",
        "data_20_percent_path = download_data(source=\"https://github.com/mrdbourke/pytorch-deep-learning/raw/main/data/pizza_steak_sushi_20_percent.zip\",\n",
        "                                     destination=\"pizza_steak_sushi_20_percent\")\n",
        "\n",
        "data_20_percent_path"
      ],
      "metadata": {
        "colab": {
          "base_uri": "https://localhost:8080/"
        },
        "id": "lsPWzkGxBdrp",
        "outputId": "cb4e767a-118f-45da-cc47-33902f4616b1"
      },
      "execution_count": null,
      "outputs": [
        {
          "output_type": "stream",
          "name": "stdout",
          "text": [
            "[INFO] Did not find data/pizza_steak_sushi_20_percent directory, creating one...\n",
            "[INFO] Downloading pizza_steak_sushi_20_percent.zip from https://github.com/mrdbourke/pytorch-deep-learning/raw/main/data/pizza_steak_sushi_20_percent.zip...\n",
            "[INFO] Unzipping pizza_steak_sushi_20_percent.zip data...\n"
          ]
        },
        {
          "output_type": "execute_result",
          "data": {
            "text/plain": [
              "PosixPath('data/pizza_steak_sushi_20_percent')"
            ]
          },
          "metadata": {},
          "execution_count": 5
        }
      ]
    },
    {
      "cell_type": "code",
      "source": [
        "train_dir = data_20_percent_path / 'train'\n",
        "test_dir = data_20_percent_path / 'test'\n",
        "\n",
        "train_dir, test_dir"
      ],
      "metadata": {
        "colab": {
          "base_uri": "https://localhost:8080/"
        },
        "id": "KD-v8Vg0Bg5e",
        "outputId": "45dce88c-d61e-43e0-de59-6472c93da327"
      },
      "execution_count": null,
      "outputs": [
        {
          "output_type": "execute_result",
          "data": {
            "text/plain": [
              "(PosixPath('data/pizza_steak_sushi_20_percent/train'),\n",
              " PosixPath('data/pizza_steak_sushi_20_percent/test'))"
            ]
          },
          "metadata": {},
          "execution_count": 6
        }
      ]
    },
    {
      "cell_type": "markdown",
      "source": [
        "# Training the model we will deploy"
      ],
      "metadata": {
        "id": "lYPrvWbiEwsL"
      }
    },
    {
      "cell_type": "markdown",
      "source": [
        "The model we'll deploy will be trained on the \"pizza steak sushi 20%\" dataset.\n",
        "\n",
        "Using this dataset, we will train two models that previously showed great results for our use-case. These models are: **EfficientNetB2** and the **ViT-B/16** feature extractors.\n",
        "\n",
        "Our goal is get a model that is accurate (e.g. +95% accuracy) and almost instantaneous (when making predictions)."
      ],
      "metadata": {
        "id": "rYDIiUQiE-ru"
      }
    },
    {
      "cell_type": "markdown",
      "source": [
        "## EfficientNetB2 feature extractor"
      ],
      "metadata": {
        "id": "Mcy00PXuc7Xx"
      }
    },
    {
      "cell_type": "code",
      "source": [
        "# A class to creat an EffnetB2 model and transforms\n",
        "import torchvision\n",
        "import torch\n",
        "from torch import nn\n",
        "\n",
        "def create_effnetb2(num_class: int,\n",
        "                    seed: int = 42):\n",
        "  \"\"\"\n",
        "  A class to create an EfficientNetB2 feature extractor with DEFAULT weights\n",
        "\n",
        "  Args:\n",
        "    num_class (int): number of classes in the classifier head (int).\n",
        "    seed (int): random seed values (int, default = 42)\n",
        "\n",
        "  Returns:\n",
        "    model (torch.nn.Module): an instance of the EfficientNetB2 feature extractor with DEFAULT weights.\n",
        "    transforms (torchvision.transforms): an instant of the EfficientNetB2 transforms\n",
        "  \"\"\"\n",
        "  weights = torchvision.models.EfficientNet_B2_Weights.DEFAULT\n",
        "  transforms = weights.transforms()\n",
        "  model = torchvision.models.efficientnet_b2(weights = weights)\n",
        "\n",
        "  for param in model.features.parameters():\n",
        "    param.requires_grad = False\n",
        "\n",
        "  torch.manual_seed(seed)\n",
        "  torch.cuda.manual_seed(seed)\n",
        "\n",
        "  model.classifier = nn.Sequential(\n",
        "      nn.Dropout(p = 0.3, inplace = True),\n",
        "      nn.Linear(in_features = 1408, out_features = num_class, bias = True)\n",
        "  )\n",
        "\n",
        "  return model, transforms"
      ],
      "metadata": {
        "id": "J6QNCleBJH56"
      },
      "execution_count": null,
      "outputs": []
    },
    {
      "cell_type": "code",
      "source": [
        "effnetb2, effnetb2_transforms = create_effnetb2(num_class=3,\n",
        "                                                seed = 42)"
      ],
      "metadata": {
        "id": "Y064Z3hlNamJ",
        "colab": {
          "base_uri": "https://localhost:8080/"
        },
        "outputId": "8b0c0b22-3d1e-41d4-e247-5a8e9e763f59"
      },
      "execution_count": null,
      "outputs": [
        {
          "output_type": "stream",
          "name": "stderr",
          "text": [
            "Downloading: \"https://download.pytorch.org/models/efficientnet_b2_rwightman-c35c1473.pth\" to /root/.cache/torch/hub/checkpoints/efficientnet_b2_rwightman-c35c1473.pth\n",
            "100%|██████████| 35.2M/35.2M [00:00<00:00, 50.0MB/s]\n"
          ]
        }
      ]
    },
    {
      "cell_type": "code",
      "source": [
        "effnetb2_transforms"
      ],
      "metadata": {
        "colab": {
          "base_uri": "https://localhost:8080/"
        },
        "id": "_OhvFEHiN_xe",
        "outputId": "f16c1ad7-3551-4adc-f6cc-6dcf53e3c384"
      },
      "execution_count": null,
      "outputs": [
        {
          "output_type": "execute_result",
          "data": {
            "text/plain": [
              "ImageClassification(\n",
              "    crop_size=[288]\n",
              "    resize_size=[288]\n",
              "    mean=[0.485, 0.456, 0.406]\n",
              "    std=[0.229, 0.224, 0.225]\n",
              "    interpolation=InterpolationMode.BICUBIC\n",
              ")"
            ]
          },
          "metadata": {},
          "execution_count": 7
        }
      ]
    },
    {
      "cell_type": "code",
      "source": [
        "# Setup DataLoaders\n",
        "from going_modular.going_modular import data_setup\n",
        "\n",
        "train_dataloader_effnetb2, test_dataloader_effnetb2, class_names = data_setup.create_dataloaders(train_dir=train_dir,\n",
        "                                                                                                 test_dir=test_dir,\n",
        "                                                                                                 transform=effnetb2_transforms,\n",
        "                                                                                                 batch_size=32)\n",
        "\n",
        "class_names"
      ],
      "metadata": {
        "colab": {
          "base_uri": "https://localhost:8080/"
        },
        "id": "k_DNnFPLPU6l",
        "outputId": "ae0d1cf5-76f0-4642-aec0-cea942434dc6"
      },
      "execution_count": null,
      "outputs": [
        {
          "output_type": "execute_result",
          "data": {
            "text/plain": [
              "['pizza', 'steak', 'sushi']"
            ]
          },
          "metadata": {},
          "execution_count": 9
        }
      ]
    },
    {
      "cell_type": "code",
      "source": [
        "# Setting up the training\n",
        "from going_modular.going_modular import engine\n",
        "from timeit import default_timer as timer\n",
        "\n",
        "optimizer = torch.optim.Adam(params=effnetb2.parameters(),\n",
        "                             lr=1e-3)\n",
        "\n",
        "loss_fn = torch.nn.CrossEntropyLoss()\n",
        "\n",
        "set_seeds()\n",
        "effnetb2_start = timer()\n",
        "effnetb2_results = engine.train(model=effnetb2,\n",
        "                                train_dataloader=train_dataloader_effnetb2,\n",
        "                                test_dataloader=test_dataloader_effnetb2,\n",
        "                                epochs=10,\n",
        "                                optimizer=optimizer,\n",
        "                                loss_fn=loss_fn,\n",
        "                                device=device)\n",
        "effnetb2_end = timer()\n",
        "effnetb2_train_time = effnetb2_end - effnetb2_start\n",
        "print(f'[INFO] Total training time: {effnetb2_train_time:.2f} seconds')"
      ],
      "metadata": {
        "colab": {
          "base_uri": "https://localhost:8080/",
          "height": 249,
          "referenced_widgets": [
            "da198ba87f8d4dc39008a7fc944803e4",
            "453580bd740f485d9584a880108f39c8",
            "0319ecef81d04cdabe9184cdd0578217",
            "c459bd264adc4f3291146255244437d7",
            "a588158914a345e7ae2d6c4643bfaf15",
            "abd2d9ae7dfe441c84c648d9f07215f7",
            "97daa3a0994e4088a026a93d00652f03",
            "d224b7515afd450b9b3767e1069b9121",
            "4162e84b7ea247668dc9dbe1d94fc31e",
            "da91b337a2af405da9ed0e49c5e2a2b5",
            "65e13646c7244ef1b5c4749ab7b30ea5"
          ]
        },
        "id": "gBSBrbSHPeOr",
        "outputId": "fa4f5eb3-c3d1-4c96-8ac5-93e9c02dae95"
      },
      "execution_count": null,
      "outputs": [
        {
          "output_type": "display_data",
          "data": {
            "text/plain": [
              "  0%|          | 0/10 [00:00<?, ?it/s]"
            ],
            "application/vnd.jupyter.widget-view+json": {
              "version_major": 2,
              "version_minor": 0,
              "model_id": "da198ba87f8d4dc39008a7fc944803e4"
            }
          },
          "metadata": {}
        },
        {
          "output_type": "stream",
          "name": "stdout",
          "text": [
            "Epoch: 1 | train_loss: 0.9794 | train_acc: 0.5708 | test_loss: 0.7390 | test_acc: 0.9284\n",
            "Epoch: 2 | train_loss: 0.6835 | train_acc: 0.8771 | test_loss: 0.5929 | test_acc: 0.9347\n",
            "Epoch: 3 | train_loss: 0.5640 | train_acc: 0.8958 | test_loss: 0.4816 | test_acc: 0.9409\n",
            "Epoch: 4 | train_loss: 0.4716 | train_acc: 0.8729 | test_loss: 0.4183 | test_acc: 0.9597\n",
            "Epoch: 5 | train_loss: 0.4308 | train_acc: 0.8729 | test_loss: 0.3723 | test_acc: 0.9659\n",
            "Epoch: 6 | train_loss: 0.3738 | train_acc: 0.8979 | test_loss: 0.3456 | test_acc: 0.9506\n",
            "Epoch: 7 | train_loss: 0.3373 | train_acc: 0.9062 | test_loss: 0.3132 | test_acc: 0.9568\n",
            "Epoch: 8 | train_loss: 0.3248 | train_acc: 0.9250 | test_loss: 0.3009 | test_acc: 0.9597\n",
            "Epoch: 9 | train_loss: 0.3671 | train_acc: 0.8562 | test_loss: 0.2747 | test_acc: 0.9534\n",
            "Epoch: 10 | train_loss: 0.2564 | train_acc: 0.9458 | test_loss: 0.2649 | test_acc: 0.9597\n",
            "[INFO] Total training time: 1811.61 seconds\n"
          ]
        }
      ]
    },
    {
      "cell_type": "code",
      "source": [
        "# Plotting the loss and accuracy curves\n",
        "from helper_functions import plot_loss_curves\n",
        "\n",
        "plot_loss_curves(effnetb2_results)"
      ],
      "metadata": {
        "colab": {
          "base_uri": "https://localhost:8080/",
          "height": 641
        },
        "id": "EcClY1P-Qkss",
        "outputId": "17924e5c-81af-4e0f-c200-3507b0a118ae"
      },
      "execution_count": null,
      "outputs": [
        {
          "output_type": "display_data",
          "data": {
            "text/plain": [
              "<Figure size 1500x700 with 2 Axes>"
            ],
            "image/png": "[encoded data removed]"
          },
          "metadata": {}
        }
      ]
    },
    {
      "cell_type": "code",
      "source": [
        "from going_modular.going_modular import utils\n",
        "\n",
        "utils.save_model(model=effnetb2,\n",
        "                 target_dir=\"models\",\n",
        "                 model_name=\"effnetb2.pth\")"
      ],
      "metadata": {
        "id": "cxaGMS-Sv5mq",
        "colab": {
          "base_uri": "https://localhost:8080/"
        },
        "outputId": "96feda0f-7045-430f-f4bd-a32d99c9bb62"
      },
      "execution_count": null,
      "outputs": [
        {
          "output_type": "stream",
          "name": "stdout",
          "text": [
            "[INFO] Saving model to: models/effnetb2.pth\n"
          ]
        }
      ]
    },
    {
      "cell_type": "markdown",
      "source": [
        "Another \"parameter\" we need to take into account is model's size in megabytes.\n",
        "\n",
        "The EfficientNetB2 feature extractor is about 30 MBs, which is relatively small, especially in the context of our application."
      ],
      "metadata": {
        "id": "zjxOABlXyl3A"
      }
    },
    {
      "cell_type": "code",
      "source": [
        "# Count number of parameters in EffNetB2\n",
        "effnetb2_total_params = sum(torch.numel(param) for param in effnetb2.parameters())\n",
        "effnetb2_total_params"
      ],
      "metadata": {
        "colab": {
          "base_uri": "https://localhost:8080/"
        },
        "id": "Fl1GuspHTtQo",
        "outputId": "f37f6b38-3cce-4049-a3fe-927770f56bc8"
      },
      "execution_count": null,
      "outputs": [
        {
          "output_type": "execute_result",
          "data": {
            "text/plain": [
              "7705221"
            ]
          },
          "metadata": {},
          "execution_count": 13
        }
      ]
    },
    {
      "cell_type": "code",
      "source": [
        "# Saving model's results to a dictionary\n",
        "from pathlib import Path\n",
        "\n",
        "effnetb2_numbers = {'test_loss' : effnetb2_results['test_loss'][-1],\n",
        "                    'test_accuracy' : effnetb2_results['test_acc'][-1],\n",
        "                    'total_params' : effnetb2_total_params,\n",
        "                    'training_time' : effnetb2_train_time,\n",
        "                    'model_size' : Path(\"/content/models/effnetb2.pth\").stat().st_size // (1024*1024)}"
      ],
      "metadata": {
        "id": "YHR0oMe0ybZX"
      },
      "execution_count": null,
      "outputs": []
    },
    {
      "cell_type": "code",
      "source": [
        "effnetb2_numbers"
      ],
      "metadata": {
        "colab": {
          "base_uri": "https://localhost:8080/"
        },
        "id": "40F9IfymWPVl",
        "outputId": "40e10688-00ec-4b00-9992-148084367664"
      },
      "execution_count": null,
      "outputs": [
        {
          "output_type": "execute_result",
          "data": {
            "text/plain": [
              "{'test_loss': 0.2649004518985748,\n",
              " 'test_accuracy': 0.959659090909091,\n",
              " 'total_params': 7705221,\n",
              " 'training_time': 1811.60754537,\n",
              " 'model_size': 29}"
            ]
          },
          "metadata": {},
          "execution_count": 15
        }
      ]
    },
    {
      "cell_type": "markdown",
      "source": [
        "## ViT-B/16 feature extractor"
      ],
      "metadata": {
        "id": "9yD4vyEcdCA0"
      }
    },
    {
      "cell_type": "code",
      "source": [
        "# Creating the ViT-B/16 model and transforms\n",
        "import torchvision\n",
        "import torch\n",
        "from torch import nn\n",
        "\n",
        "def create_vitb16(num_class:int = 3, seed:int = 42):\n",
        "  \"\"\"\n",
        "  A class to create a ViT-B/16 feature extractor with DEFAULT weights\n",
        "\n",
        "  Args:\n",
        "    num_class (int): number of classes in the classifier head (int).\n",
        "    seed (int): random seed values (int, default = 42)\n",
        "\n",
        "  Returns:\n",
        "    model (torch.nn.Module): an instance of the ViT-B/16 feature extractor with DEFAULT weights.\n",
        "    transforms (torchvision.transforms): an instant of the ViT-B/16 transforms\n",
        "  \"\"\"\n",
        "  weights = torchvision.models.ViT_B_16_Weights.DEFAULT\n",
        "  transforms = weights.transforms()\n",
        "  model = torchvision.models.vit_b_16(weights = weights)\n",
        "\n",
        "  for param in model.parameters():\n",
        "    param.requires_grad = False\n",
        "\n",
        "  torch.manual_seed(seed)\n",
        "  torch.cuda.manual_seed(seed)\n",
        "\n",
        "  model.heads = nn.Sequential(nn.Linear(in_features=768,\n",
        "                                          out_features=num_class))\n",
        "\n",
        "  return model, transforms"
      ],
      "metadata": {
        "id": "fKTnH0KZWQnk",
        "colab": {
          "base_uri": "https://localhost:8080/"
        },
        "outputId": "3922ae57-9bfb-49fe-c317-b044da768032"
      },
      "execution_count": null,
      "outputs": [
        {
          "output_type": "stream",
          "name": "stdout",
          "text": [
            "Writing create_vitb16.py\n"
          ]
        }
      ]
    },
    {
      "cell_type": "code",
      "source": [
        "vitb16, vitb16_transforms = create_vitb16()"
      ],
      "metadata": {
        "id": "PmfTbA7TXxXX",
        "colab": {
          "base_uri": "https://localhost:8080/"
        },
        "outputId": "a4f2705e-36d9-479c-de9a-7894381a98d9"
      },
      "execution_count": null,
      "outputs": [
        {
          "output_type": "stream",
          "name": "stderr",
          "text": [
            "Downloading: \"https://download.pytorch.org/models/vit_b_16-c867db91.pth\" to /root/.cache/torch/hub/checkpoints/vit_b_16-c867db91.pth\n",
            "100%|██████████| 330M/330M [00:02<00:00, 128MB/s]\n"
          ]
        }
      ]
    },
    {
      "cell_type": "code",
      "source": [
        "summary(model = vitb16,\n",
        "        input_size = (1,3,224,224),\n",
        "        col_names=[\"input_size\", \"output_size\", \"num_params\", \"trainable\"],\n",
        "        col_width=20,\n",
        "        row_settings=[\"var_names\"])"
      ],
      "metadata": {
        "colab": {
          "base_uri": "https://localhost:8080/"
        },
        "id": "3iLVx3u7ZA8x",
        "outputId": "3515a5e5-d94e-414b-f659-94827cfe6398"
      },
      "execution_count": null,
      "outputs": [
        {
          "output_type": "execute_result",
          "data": {
            "text/plain": [
              "============================================================================================================================================\n",
              "Layer (type (var_name))                                      Input Shape          Output Shape         Param #              Trainable\n",
              "============================================================================================================================================\n",
              "VisionTransformer (VisionTransformer)                        [1, 3, 224, 224]     [1, 3]               768                  Partial\n",
              "├─Conv2d (conv_proj)                                         [1, 3, 224, 224]     [1, 768, 14, 14]     (590,592)            False\n",
              "├─Encoder (encoder)                                          [1, 197, 768]        [1, 197, 768]        151,296              False\n",
              "│    └─Dropout (dropout)                                     [1, 197, 768]        [1, 197, 768]        --                   --\n",
              "│    └─Sequential (layers)                                   [1, 197, 768]        [1, 197, 768]        --                   False\n",
              "│    │    └─EncoderBlock (encoder_layer_0)                   [1, 197, 768]        [1, 197, 768]        (7,087,872)          False\n",
              "│    │    └─EncoderBlock (encoder_layer_1)                   [1, 197, 768]        [1, 197, 768]        (7,087,872)          False\n",
              "│    │    └─EncoderBlock (encoder_layer_2)                   [1, 197, 768]        [1, 197, 768]        (7,087,872)          False\n",
              "│    │    └─EncoderBlock (encoder_layer_3)                   [1, 197, 768]        [1, 197, 768]        (7,087,872)          False\n",
              "│    │    └─EncoderBlock (encoder_layer_4)                   [1, 197, 768]        [1, 197, 768]        (7,087,872)          False\n",
              "│    │    └─EncoderBlock (encoder_layer_5)                   [1, 197, 768]        [1, 197, 768]        (7,087,872)          False\n",
              "│    │    └─EncoderBlock (encoder_layer_6)                   [1, 197, 768]        [1, 197, 768]        (7,087,872)          False\n",
              "│    │    └─EncoderBlock (encoder_layer_7)                   [1, 197, 768]        [1, 197, 768]        (7,087,872)          False\n",
              "│    │    └─EncoderBlock (encoder_layer_8)                   [1, 197, 768]        [1, 197, 768]        (7,087,872)          False\n",
              "│    │    └─EncoderBlock (encoder_layer_9)                   [1, 197, 768]        [1, 197, 768]        (7,087,872)          False\n",
              "│    │    └─EncoderBlock (encoder_layer_10)                  [1, 197, 768]        [1, 197, 768]        (7,087,872)          False\n",
              "│    │    └─EncoderBlock (encoder_layer_11)                  [1, 197, 768]        [1, 197, 768]        (7,087,872)          False\n",
              "│    └─LayerNorm (ln)                                        [1, 197, 768]        [1, 197, 768]        (1,536)              False\n",
              "├─Sequential (heads)                                         [1, 768]             [1, 3]               --                   True\n",
              "│    └─Linear (0)                                            [1, 768]             [1, 3]               2,307                True\n",
              "============================================================================================================================================\n",
              "Total params: 85,800,963\n",
              "Trainable params: 2,307\n",
              "Non-trainable params: 85,798,656\n",
              "Total mult-adds (M): 172.47\n",
              "============================================================================================================================================\n",
              "Input size (MB): 0.60\n",
              "Forward/backward pass size (MB): 104.09\n",
              "Params size (MB): 229.20\n",
              "Estimated Total Size (MB): 333.89\n",
              "============================================================================================================================================"
            ]
          },
          "metadata": {},
          "execution_count": 18
        }
      ]
    },
    {
      "cell_type": "code",
      "source": [
        "# Setup DataLoaders\n",
        "from going_modular.going_modular import data_setup\n",
        "\n",
        "train_dataloader_vitb16, test_dataloader_vitb16, class_names_vitb16 = data_setup.create_dataloaders(train_dir=train_dir,\n",
        "                                                                                                 test_dir=test_dir,\n",
        "                                                                                                 transform=vitb16_transforms,\n",
        "                                                                                                 batch_size=32)\n",
        "\n",
        "class_names_vitb16"
      ],
      "metadata": {
        "colab": {
          "base_uri": "https://localhost:8080/"
        },
        "id": "IcNqIjDVZtxI",
        "outputId": "1eace04d-0ab2-4fe7-9b28-0dfea5142a64"
      },
      "execution_count": null,
      "outputs": [
        {
          "output_type": "execute_result",
          "data": {
            "text/plain": [
              "['pizza', 'steak', 'sushi']"
            ]
          },
          "metadata": {},
          "execution_count": 19
        }
      ]
    },
    {
      "cell_type": "code",
      "source": [
        "# Setting up the training\n",
        "from going_modular.going_modular import engine\n",
        "from timeit import default_timer as timer\n",
        "\n",
        "optimizer = torch.optim.Adam(params=vitb16.parameters(),\n",
        "                             lr=1e-3)\n",
        "\n",
        "loss_fn = torch.nn.CrossEntropyLoss()\n",
        "\n",
        "set_seeds()\n",
        "\n",
        "vitb16_start = timer()\n",
        "\n",
        "vitb16_results = engine.train(model=vitb16,\n",
        "                              train_dataloader=train_dataloader_vitb16,\n",
        "                              test_dataloader=test_dataloader_vitb16,\n",
        "                              epochs=10,\n",
        "                              optimizer=optimizer,\n",
        "                              loss_fn=loss_fn,\n",
        "                              device=device)\n",
        "\n",
        "vitb16_end = timer()\n",
        "\n",
        "vitb16_train_time = vitb16_end - vitb16_start\n",
        "\n",
        "print(f'[INFO] Total training time: {vitb16_train_time:.2f} seconds')"
      ],
      "metadata": {
        "colab": {
          "base_uri": "https://localhost:8080/",
          "height": 249,
          "referenced_widgets": [
            "d18ad8be43734f59ae1b314a885bedb8",
            "0d6c35ee816441c98f7799aee059d9a4",
            "654ec6fa58714f7e8e635740290b0f20",
            "d186dfc81be641a480adbe7fff830acc",
            "ddc52ceae8fd44bdaedf13120721c121",
            "74d6b88714ae40c99b2be42a481df6f6",
            "d93e140561d4408da1e1616ebb427a5d",
            "1a23145f785f4df2a80e46b32d0e4338",
            "a3ced161d4d245b6920461d6ab1a07a8",
            "109c170eac254a8d970e023e1f615e99",
            "11fc9e06e1f14dfd82aab7c1af85d48e"
          ]
        },
        "id": "nRzhmOOja2Ub",
        "outputId": "9f28acc1-f3e5-4313-fc7f-b39ab3961c32"
      },
      "execution_count": null,
      "outputs": [
        {
          "output_type": "display_data",
          "data": {
            "text/plain": [
              "  0%|          | 0/10 [00:00<?, ?it/s]"
            ],
            "application/vnd.jupyter.widget-view+json": {
              "version_major": 2,
              "version_minor": 0,
              "model_id": "d18ad8be43734f59ae1b314a885bedb8"
            }
          },
          "metadata": {}
        },
        {
          "output_type": "stream",
          "name": "stdout",
          "text": [
            "Epoch: 1 | train_loss: 0.7020 | train_acc: 0.7521 | test_loss: 0.2714 | test_acc: 0.9381\n",
            "Epoch: 2 | train_loss: 0.2532 | train_acc: 0.9062 | test_loss: 0.1672 | test_acc: 0.9602\n",
            "Epoch: 3 | train_loss: 0.1764 | train_acc: 0.9542 | test_loss: 0.1273 | test_acc: 0.9693\n",
            "Epoch: 4 | train_loss: 0.1276 | train_acc: 0.9625 | test_loss: 0.1074 | test_acc: 0.9722\n",
            "Epoch: 5 | train_loss: 0.1159 | train_acc: 0.9646 | test_loss: 0.0953 | test_acc: 0.9784\n",
            "Epoch: 6 | train_loss: 0.1274 | train_acc: 0.9375 | test_loss: 0.0832 | test_acc: 0.9722\n",
            "Epoch: 7 | train_loss: 0.0897 | train_acc: 0.9771 | test_loss: 0.0845 | test_acc: 0.9784\n",
            "Epoch: 8 | train_loss: 0.0919 | train_acc: 0.9812 | test_loss: 0.0764 | test_acc: 0.9722\n",
            "Epoch: 9 | train_loss: 0.0922 | train_acc: 0.9792 | test_loss: 0.0734 | test_acc: 0.9784\n",
            "Epoch: 10 | train_loss: 0.0658 | train_acc: 0.9833 | test_loss: 0.0644 | test_acc: 0.9847\n",
            "[INFO] Total training time: 85.87 seconds\n"
          ]
        }
      ]
    },
    {
      "cell_type": "code",
      "source": [
        "# Plotting the loss and accuracy curves\n",
        "from helper_functions import plot_loss_curves\n",
        "\n",
        "plot_loss_curves(vitb16_results)"
      ],
      "metadata": {
        "colab": {
          "base_uri": "https://localhost:8080/",
          "height": 641
        },
        "id": "gCu4I0HzbzZe",
        "outputId": "d1c20acb-d163-42b9-b690-b1332f26e0af"
      },
      "execution_count": null,
      "outputs": [
        {
          "output_type": "display_data",
          "data": {
            "text/plain": [
              "<Figure size 1500x700 with 2 Axes>"
            ],
            "image/png": "[encoded data removed]"
          },
          "metadata": {}
        }
      ]
    },
    {
      "cell_type": "code",
      "source": [
        "from going_modular.going_modular import utils\n",
        "\n",
        "utils.save_model(model=vitb16,\n",
        "                 target_dir=\"models\",\n",
        "                 model_name=\"vitb16.pth\")"
      ],
      "metadata": {
        "colab": {
          "base_uri": "https://localhost:8080/"
        },
        "id": "mvjxl_A2df6a",
        "outputId": "a90ada90-5d91-4b1f-b173-eed23eacdfd3"
      },
      "execution_count": null,
      "outputs": [
        {
          "output_type": "stream",
          "name": "stdout",
          "text": [
            "[INFO] Saving model to: models/vitb16.pth\n"
          ]
        }
      ]
    },
    {
      "cell_type": "code",
      "source": [
        "# Count number of parameters in EffNetB2\n",
        "vitb16_total_params = sum(torch.numel(param) for param in vitb16.parameters())\n",
        "vitb16_total_params"
      ],
      "metadata": {
        "colab": {
          "base_uri": "https://localhost:8080/"
        },
        "id": "8RlErb8ndoFI",
        "outputId": "5dbfb0e5-dfe7-45ac-8d36-ffe9b02a2331"
      },
      "execution_count": null,
      "outputs": [
        {
          "output_type": "execute_result",
          "data": {
            "text/plain": [
              "85800963"
            ]
          },
          "metadata": {},
          "execution_count": 23
        }
      ]
    },
    {
      "cell_type": "code",
      "source": [
        "# Saving model's results to a dictionary\n",
        "from pathlib import Path\n",
        "\n",
        "vitb16_numbers = {'test_loss' : vitb16_results['test_loss'][-1],\n",
        "                    'test_accuracy' : vitb16_results['test_acc'][-1],\n",
        "                    'total_params' : vitb16_total_params,\n",
        "                    'training_time' : vitb16_train_time,\n",
        "                    'model_size' : Path(\"/content/models/vitb16.pth\").stat().st_size // (1024*1024)}\n",
        "\n",
        "vitb16_numbers"
      ],
      "metadata": {
        "colab": {
          "base_uri": "https://localhost:8080/"
        },
        "id": "gA3KUafcdw72",
        "outputId": "e04b19a9-729f-406c-b437-dc5ddc554393"
      },
      "execution_count": null,
      "outputs": [
        {
          "output_type": "execute_result",
          "data": {
            "text/plain": [
              "{'test_loss': 0.06443451717495918,\n",
              " 'test_accuracy': 0.984659090909091,\n",
              " 'total_params': 85800963,\n",
              " 'training_time': 85.871526717,\n",
              " 'model_size': 327}"
            ]
          },
          "metadata": {},
          "execution_count": 24
        }
      ]
    },
    {
      "cell_type": "code",
      "source": [
        "effnetb2_numbers"
      ],
      "metadata": {
        "colab": {
          "base_uri": "https://localhost:8080/"
        },
        "id": "Xix4UnfbeZpU",
        "outputId": "a3bb2f72-295a-4ac1-a731-5c635b95e67b"
      },
      "execution_count": null,
      "outputs": [
        {
          "output_type": "execute_result",
          "data": {
            "text/plain": [
              "{'test_loss': 0.28108686208724976,\n",
              " 'test_accuracy': 0.9625,\n",
              " 'total_params': 7705221,\n",
              " 'training_time': 58.71461634100001,\n",
              " 'model_size': 29}"
            ]
          },
          "metadata": {},
          "execution_count": 25
        }
      ]
    },
    {
      "cell_type": "markdown",
      "source": [
        "# Comparing models' performance"
      ],
      "metadata": {
        "id": "rnyXwohGp4dz"
      }
    },
    {
      "cell_type": "markdown",
      "source": [
        "As we outlined previously, we want our models to have high accuracy (+95% accuracy) and to make almost instantaneous predictions (~ 0.03 seconds).\n",
        "\n",
        "The first criteria has been met with both of the models. Next, we will evaluate how fast said models can make predictions"
      ],
      "metadata": {
        "id": "8feE42x_FPV3"
      }
    },
    {
      "cell_type": "code",
      "source": [
        "# Getting the list of test images\n",
        "test_img_list = list(Path(test_dir).glob('*/*.jpg'))\n",
        "img = torchvision.io.read_image(str(test_img_list[0]))\n",
        "img.shape"
      ],
      "metadata": {
        "id": "uow7iXr2ednv",
        "colab": {
          "base_uri": "https://localhost:8080/"
        },
        "outputId": "f67412b2-040f-4a5e-f9e0-bcc32f137407"
      },
      "execution_count": null,
      "outputs": [
        {
          "output_type": "execute_result",
          "data": {
            "text/plain": [
              "torch.Size([3, 384, 512])"
            ]
          },
          "metadata": {},
          "execution_count": 26
        }
      ]
    },
    {
      "cell_type": "code",
      "source": [
        "# Calculating mean prediction time using EfficientNetB2\n",
        "import PIL\n",
        "\n",
        "set_seeds()\n",
        "\n",
        "effnetb2_total_time = 0\n",
        "\n",
        "for img_path in test_img_list:\n",
        "\n",
        "  start_time = timer()\n",
        "\n",
        "  img = torchvision.io.read_image(str(img_path))\n",
        "  transformed_img = effnetb2_transforms(img).unsqueeze(0).to(device)\n",
        "\n",
        "  effnetb2.eval()\n",
        "  with torch.inference_mode():\n",
        "\n",
        "    y_logits = effnetb2(transformed_img)\n",
        "    y_pred = torch.softmax(y_logits, dim = 1).argmax(dim = 1)\n",
        "\n",
        "  end_time = timer()\n",
        "\n",
        "  pred_time = end_time - start_time\n",
        "  effnetb2_total_time += pred_time\n",
        "\n",
        "mean_pred_time_effnetb2 = round(effnetb2_total_time / len(test_img_list), 4)\n",
        "print(f'Total prediction time on the test data using EfficientNetB2: {effnetb2_total_time:.4f} seconds')\n",
        "print(f'Mean prediction time using EfficientNetB2 feature extractor: {mean_pred_time_effnetb2} seconds')"
      ],
      "metadata": {
        "colab": {
          "base_uri": "https://localhost:8080/"
        },
        "id": "M6BJCJYPH1bH",
        "outputId": "9346675b-38d7-4315-da6e-b0c84f3458b4"
      },
      "execution_count": null,
      "outputs": [
        {
          "output_type": "stream",
          "name": "stdout",
          "text": [
            "Total prediction time on the test data using EfficientNetB2: 3.2524 seconds\n",
            "Mean prediction time using EfficientNetB2 feature extractor: 0.0217 seconds\n"
          ]
        }
      ]
    },
    {
      "cell_type": "code",
      "source": [
        "# Calculating mean prediction time using ViT-B/16\n",
        "set_seeds()\n",
        "\n",
        "vitb16_total_time = 0\n",
        "\n",
        "for img_path in test_img_list:\n",
        "\n",
        "  start_time = timer()\n",
        "\n",
        "  img = torchvision.io.read_image(str(img_path))\n",
        "  transformed_img = vitb16_transforms(img).unsqueeze(0).to(device)\n",
        "\n",
        "  vitb16.eval()\n",
        "  with torch.inference_mode():\n",
        "\n",
        "    y_logits = vitb16(transformed_img)\n",
        "    y_pred = torch.softmax(y_logits, dim = 1).argmax(dim = 1)\n",
        "\n",
        "  end_time = timer()\n",
        "  pred_time = end_time - start_time\n",
        "  vitb16_total_time += pred_time\n",
        "\n",
        "mean_pred_time_vitb16 = round(vitb16_total_time / len(test_img_list), 4)\n",
        "print(f'Total prediction time on the test data using ViT-B/16: {vitb16_total_time:.4f} seconds')\n",
        "print(f'Mean prediction time using ViT-B/16 feature extractor: {mean_pred_time_vitb16:} seconds')"
      ],
      "metadata": {
        "colab": {
          "base_uri": "https://localhost:8080/"
        },
        "id": "DGPDnIbVJlpI",
        "outputId": "b0a0ba6f-4e1a-42e8-9dce-0f64ce8c67fc"
      },
      "execution_count": null,
      "outputs": [
        {
          "output_type": "stream",
          "name": "stdout",
          "text": [
            "Total prediction time on the test data using ViT-B/16: 2.2503 seconds\n",
            "Mean prediction time using ViT-B/16 feature extractor: 0.015 seconds\n"
          ]
        }
      ]
    },
    {
      "cell_type": "code",
      "source": [
        "# Apeending mean pred times to existing models performances dictionaries\n",
        "effnetb2_numbers['mean_pred_time'] = mean_pred_time_effnetb2\n",
        "vitb16_numbers['mean_pred_time'] = mean_pred_time_vitb16\n",
        "\n",
        "# Adding models' names for reference\n",
        "effnetb2_numbers['model'] = 'EfficientNetB2'\n",
        "vitb16_numbers['model'] = 'ViT-B/16'"
      ],
      "metadata": {
        "id": "q7ibJXhcO-cf"
      },
      "execution_count": null,
      "outputs": []
    },
    {
      "cell_type": "code",
      "source": [
        "# Turning models' performance results into a dataframe for readability\n",
        "import pandas as pd\n",
        "effnetb2_df = pd.DataFrame([effnetb2_numbers])\n",
        "vitb16_df = pd.DataFrame([vitb16_numbers])"
      ],
      "metadata": {
        "id": "vC4-cm-CP80N"
      },
      "execution_count": null,
      "outputs": []
    },
    {
      "cell_type": "code",
      "source": [
        "# Combining the two dataframes into a single one\n",
        "models_df = pd.concat([effnetb2_df, vitb16_df], axis = 0)"
      ],
      "metadata": {
        "id": "i0z9T1dwTbX7"
      },
      "execution_count": null,
      "outputs": []
    },
    {
      "cell_type": "code",
      "source": [
        "# Adjusting some of the values for readability\n",
        "models_df['test_accuracy'] = round(models_df['test_accuracy']*100, 2)\n",
        "models_df['test_loss'] = round(models_df['test_loss'], 4)\n",
        "models_df['training_time'] = round(models_df['training_time'], 2)"
      ],
      "metadata": {
        "id": "59JRSJMkmZlh"
      },
      "execution_count": null,
      "outputs": []
    },
    {
      "cell_type": "code",
      "source": [
        "models_df"
      ],
      "metadata": {
        "colab": {
          "base_uri": "https://localhost:8080/",
          "height": 112
        },
        "id": "5T3wNWi0mimb",
        "outputId": "f620c4bd-fd3b-4696-d1ab-a1bbdecf01eb"
      },
      "execution_count": null,
      "outputs": [
        {
          "output_type": "execute_result",
          "data": {
            "text/plain": [
              "   test_loss  test_accuracy  total_params  training_time  model_size  \\\n",
              "0     0.2811          96.25       7705221          58.71          29   \n",
              "0     0.0644          98.47      85800963          85.87         327   \n",
              "\n",
              "   mean_pred_time           model  \n",
              "0          0.0217  EfficientNetB2  \n",
              "0          0.0150        ViT-B/16  "
            ],
            "text/html": [
              "\n",
              "  <div id=\"df-75cdad92-b5f9-4593-9642-a6aa4bd36347\" class=\"colab-df-container\">\n",
              "    <div>\n",
              "<style scoped>\n",
              "    .dataframe tbody tr th:only-of-type {\n",
              "        vertical-align: middle;\n",
              "    }\n",
              "\n",
              "    .dataframe tbody tr th {\n",
              "        vertical-align: top;\n",
              "    }\n",
              "\n",
              "    .dataframe thead th {\n",
              "        text-align: right;\n",
              "    }\n",
              "</style>\n",
              "<table border=\"1\" class=\"dataframe\">\n",
              "  <thead>\n",
              "    <tr style=\"text-align: right;\">\n",
              "      <th></th>\n",
              "      <th>test_loss</th>\n",
              "      <th>test_accuracy</th>\n",
              "      <th>total_params</th>\n",
              "      <th>training_time</th>\n",
              "      <th>model_size</th>\n",
              "      <th>mean_pred_time</th>\n",
              "      <th>model</th>\n",
              "    </tr>\n",
              "  </thead>\n",
              "  <tbody>\n",
              "    <tr>\n",
              "      <th>0</th>\n",
              "      <td>0.2811</td>\n",
              "      <td>96.25</td>\n",
              "      <td>7705221</td>\n",
              "      <td>58.71</td>\n",
              "      <td>29</td>\n",
              "      <td>0.0217</td>\n",
              "      <td>EfficientNetB2</td>\n",
              "    </tr>\n",
              "    <tr>\n",
              "      <th>0</th>\n",
              "      <td>0.0644</td>\n",
              "      <td>98.47</td>\n",
              "      <td>85800963</td>\n",
              "      <td>85.87</td>\n",
              "      <td>327</td>\n",
              "      <td>0.0150</td>\n",
              "      <td>ViT-B/16</td>\n",
              "    </tr>\n",
              "  </tbody>\n",
              "</table>\n",
              "</div>\n",
              "    <div class=\"colab-df-buttons\">\n",
              "\n",
              "  <div class=\"colab-df-container\">\n",
              "    <button class=\"colab-df-convert\" onclick=\"convertToInteractive('df-75cdad92-b5f9-4593-9642-a6aa4bd36347')\"\n",
              "            title=\"Convert this dataframe to an interactive table.\"\n",
              "            style=\"display:none;\">\n",
              "\n",
              "  <svg xmlns=\"http://www.w3.org/2000/svg\" height=\"24px\" viewBox=\"0 -960 960 960\">\n",
              "    <path d=\"M120-120v-720h720v720H120Zm60-500h600v-160H180v160Zm220 220h160v-160H400v160Zm0 220h160v-160H400v160ZM180-400h160v-160H180v160Zm440 0h160v-160H620v160ZM180-180h160v-160H180v160Zm440 0h160v-160H620v160Z\"/>\n",
              "  </svg>\n",
              "    </button>\n",
              "\n",
              "  <style>\n",
              "    .colab-df-container {\n",
              "      display:flex;\n",
              "      gap: 12px;\n",
              "    }\n",
              "\n",
              "    .colab-df-convert {\n",
              "      background-color: #E8F0FE;\n",
              "      border: none;\n",
              "      border-radius: 50%;\n",
              "      cursor: pointer;\n",
              "      display: none;\n",
              "      fill: #1967D2;\n",
              "      height: 32px;\n",
              "      padding: 0 0 0 0;\n",
              "      width: 32px;\n",
              "    }\n",
              "\n",
              "    .colab-df-convert:hover {\n",
              "      background-color: #E2EBFA;\n",
              "      box-shadow: 0px 1px 2px rgba(60, 64, 67, 0.3), 0px 1px 3px 1px rgba(60, 64, 67, 0.15);\n",
              "      fill: #174EA6;\n",
              "    }\n",
              "\n",
              "    .colab-df-buttons div {\n",
              "      margin-bottom: 4px;\n",
              "    }\n",
              "\n",
              "    [theme=dark] .colab-df-convert {\n",
              "      background-color: #3B4455;\n",
              "      fill: #D2E3FC;\n",
              "    }\n",
              "\n",
              "    [theme=dark] .colab-df-convert:hover {\n",
              "      background-color: #434B5C;\n",
              "      box-shadow: 0px 1px 3px 1px rgba(0, 0, 0, 0.15);\n",
              "      filter: drop-shadow(0px 1px 2px rgba(0, 0, 0, 0.3));\n",
              "      fill: #FFFFFF;\n",
              "    }\n",
              "  </style>\n",
              "\n",
              "    <script>\n",
              "      const buttonEl =\n",
              "        document.querySelector('#df-75cdad92-b5f9-4593-9642-a6aa4bd36347 button.colab-df-convert');\n",
              "      buttonEl.style.display =\n",
              "        google.colab.kernel.accessAllowed ? 'block' : 'none';\n",
              "\n",
              "      async function convertToInteractive(key) {\n",
              "        const element = document.querySelector('#df-75cdad92-b5f9-4593-9642-a6aa4bd36347');\n",
              "        const dataTable =\n",
              "          await google.colab.kernel.invokeFunction('convertToInteractive',\n",
              "                                                    [key], {});\n",
              "        if (!dataTable) return;\n",
              "\n",
              "        const docLinkHtml = 'Like what you see? Visit the ' +\n",
              "          '<a target=\"_blank\" href=https://colab.research.google.com/notebooks/data_table.ipynb>data table notebook</a>'\n",
              "          + ' to learn more about interactive tables.';\n",
              "        element.innerHTML = '';\n",
              "        dataTable['output_type'] = 'display_data';\n",
              "        await google.colab.output.renderOutput(dataTable, element);\n",
              "        const docLink = document.createElement('div');\n",
              "        docLink.innerHTML = docLinkHtml;\n",
              "        element.appendChild(docLink);\n",
              "      }\n",
              "    </script>\n",
              "  </div>\n",
              "\n",
              "\n",
              "<div id=\"df-e0ace226-5b4b-429d-92cc-cf096cd16ea0\">\n",
              "  <button class=\"colab-df-quickchart\" onclick=\"quickchart('df-e0ace226-5b4b-429d-92cc-cf096cd16ea0')\"\n",
              "            title=\"Suggest charts\"\n",
              "            style=\"display:none;\">\n",
              "\n",
              "<svg xmlns=\"http://www.w3.org/2000/svg\" height=\"24px\"viewBox=\"0 0 24 24\"\n",
              "     width=\"24px\">\n",
              "    <g>\n",
              "        <path d=\"M19 3H5c-1.1 0-2 .9-2 2v14c0 1.1.9 2 2 2h14c1.1 0 2-.9 2-2V5c0-1.1-.9-2-2-2zM9 17H7v-7h2v7zm4 0h-2V7h2v10zm4 0h-2v-4h2v4z\"/>\n",
              "    </g>\n",
              "</svg>\n",
              "  </button>\n",
              "\n",
              "<style>\n",
              "  .colab-df-quickchart {\n",
              "      --bg-color: #E8F0FE;\n",
              "      --fill-color: #1967D2;\n",
              "      --hover-bg-color: #E2EBFA;\n",
              "      --hover-fill-color: #174EA6;\n",
              "      --disabled-fill-color: #AAA;\n",
              "      --disabled-bg-color: #DDD;\n",
              "  }\n",
              "\n",
              "  [theme=dark] .colab-df-quickchart {\n",
              "      --bg-color: #3B4455;\n",
              "      --fill-color: #D2E3FC;\n",
              "      --hover-bg-color: #434B5C;\n",
              "      --hover-fill-color: #FFFFFF;\n",
              "      --disabled-bg-color: #3B4455;\n",
              "      --disabled-fill-color: #666;\n",
              "  }\n",
              "\n",
              "  .colab-df-quickchart {\n",
              "    background-color: var(--bg-color);\n",
              "    border: none;\n",
              "    border-radius: 50%;\n",
              "    cursor: pointer;\n",
              "    display: none;\n",
              "    fill: var(--fill-color);\n",
              "    height: 32px;\n",
              "    padding: 0;\n",
              "    width: 32px;\n",
              "  }\n",
              "\n",
              "  .colab-df-quickchart:hover {\n",
              "    background-color: var(--hover-bg-color);\n",
              "    box-shadow: 0 1px 2px rgba(60, 64, 67, 0.3), 0 1px 3px 1px rgba(60, 64, 67, 0.15);\n",
              "    fill: var(--button-hover-fill-color);\n",
              "  }\n",
              "\n",
              "  .colab-df-quickchart-complete:disabled,\n",
              "  .colab-df-quickchart-complete:disabled:hover {\n",
              "    background-color: var(--disabled-bg-color);\n",
              "    fill: var(--disabled-fill-color);\n",
              "    box-shadow: none;\n",
              "  }\n",
              "\n",
              "  .colab-df-spinner {\n",
              "    border: 2px solid var(--fill-color);\n",
              "    border-color: transparent;\n",
              "    border-bottom-color: var(--fill-color);\n",
              "    animation:\n",
              "      spin 1s steps(1) infinite;\n",
              "  }\n",
              "\n",
              "  @keyframes spin {\n",
              "    0% {\n",
              "      border-color: transparent;\n",
              "      border-bottom-color: var(--fill-color);\n",
              "      border-left-color: var(--fill-color);\n",
              "    }\n",
              "    20% {\n",
              "      border-color: transparent;\n",
              "      border-left-color: var(--fill-color);\n",
              "      border-top-color: var(--fill-color);\n",
              "    }\n",
              "    30% {\n",
              "      border-color: transparent;\n",
              "      border-left-color: var(--fill-color);\n",
              "      border-top-color: var(--fill-color);\n",
              "      border-right-color: var(--fill-color);\n",
              "    }\n",
              "    40% {\n",
              "      border-color: transparent;\n",
              "      border-right-color: var(--fill-color);\n",
              "      border-top-color: var(--fill-color);\n",
              "    }\n",
              "    60% {\n",
              "      border-color: transparent;\n",
              "      border-right-color: var(--fill-color);\n",
              "    }\n",
              "    80% {\n",
              "      border-color: transparent;\n",
              "      border-right-color: var(--fill-color);\n",
              "      border-bottom-color: var(--fill-color);\n",
              "    }\n",
              "    90% {\n",
              "      border-color: transparent;\n",
              "      border-bottom-color: var(--fill-color);\n",
              "    }\n",
              "  }\n",
              "</style>\n",
              "\n",
              "  <script>\n",
              "    async function quickchart(key) {\n",
              "      const quickchartButtonEl =\n",
              "        document.querySelector('#' + key + ' button');\n",
              "      quickchartButtonEl.disabled = true;  // To prevent multiple clicks.\n",
              "      quickchartButtonEl.classList.add('colab-df-spinner');\n",
              "      try {\n",
              "        const charts = await google.colab.kernel.invokeFunction(\n",
              "            'suggestCharts', [key], {});\n",
              "      } catch (error) {\n",
              "        console.error('Error during call to suggestCharts:', error);\n",
              "      }\n",
              "      quickchartButtonEl.classList.remove('colab-df-spinner');\n",
              "      quickchartButtonEl.classList.add('colab-df-quickchart-complete');\n",
              "    }\n",
              "    (() => {\n",
              "      let quickchartButtonEl =\n",
              "        document.querySelector('#df-e0ace226-5b4b-429d-92cc-cf096cd16ea0 button');\n",
              "      quickchartButtonEl.style.display =\n",
              "        google.colab.kernel.accessAllowed ? 'block' : 'none';\n",
              "    })();\n",
              "  </script>\n",
              "</div>\n",
              "    </div>\n",
              "  </div>\n"
            ],
            "application/vnd.google.colaboratory.intrinsic+json": {
              "type": "dataframe",
              "variable_name": "models_df",
              "summary": "{\n  \"name\": \"models_df\",\n  \"rows\": 2,\n  \"fields\": [\n    {\n      \"column\": \"test_loss\",\n      \"properties\": {\n        \"dtype\": \"number\",\n        \"std\": 0.15323003948312486,\n        \"min\": 0.0644,\n        \"max\": 0.2811,\n        \"num_unique_values\": 2,\n        \"samples\": [\n          0.0644,\n          0.2811\n        ],\n        \"semantic_type\": \"\",\n        \"description\": \"\"\n      }\n    },\n    {\n      \"column\": \"test_accuracy\",\n      \"properties\": {\n        \"dtype\": \"number\",\n        \"std\": 1.5697770542341347,\n        \"min\": 96.25,\n        \"max\": 98.47,\n        \"num_unique_values\": 2,\n        \"samples\": [\n          98.47,\n          96.25\n        ],\n        \"semantic_type\": \"\",\n        \"description\": \"\"\n      }\n    },\n    {\n      \"column\": \"total_params\",\n      \"properties\": {\n        \"dtype\": \"number\",\n        \"std\": 55222028,\n        \"min\": 7705221,\n        \"max\": 85800963,\n        \"num_unique_values\": 2,\n        \"samples\": [\n          85800963,\n          7705221\n        ],\n        \"semantic_type\": \"\",\n        \"description\": \"\"\n      }\n    },\n    {\n      \"column\": \"training_time\",\n      \"properties\": {\n        \"dtype\": \"number\",\n        \"std\": 19.205020177026633,\n        \"min\": 58.71,\n        \"max\": 85.87,\n        \"num_unique_values\": 2,\n        \"samples\": [\n          85.87,\n          58.71\n        ],\n        \"semantic_type\": \"\",\n        \"description\": \"\"\n      }\n    },\n    {\n      \"column\": \"model_size\",\n      \"properties\": {\n        \"dtype\": \"number\",\n        \"std\": 210,\n        \"min\": 29,\n        \"max\": 327,\n        \"num_unique_values\": 2,\n        \"samples\": [\n          327,\n          29\n        ],\n        \"semantic_type\": \"\",\n        \"description\": \"\"\n      }\n    },\n    {\n      \"column\": \"mean_pred_time\",\n      \"properties\": {\n        \"dtype\": \"number\",\n        \"std\": 0.004737615433949869,\n        \"min\": 0.015,\n        \"max\": 0.0217,\n        \"num_unique_values\": 2,\n        \"samples\": [\n          0.015,\n          0.0217\n        ],\n        \"semantic_type\": \"\",\n        \"description\": \"\"\n      }\n    },\n    {\n      \"column\": \"model\",\n      \"properties\": {\n        \"dtype\": \"string\",\n        \"num_unique_values\": 2,\n        \"samples\": [\n          \"ViT-B/16\",\n          \"EfficientNetB2\"\n        ],\n        \"semantic_type\": \"\",\n        \"description\": \"\"\n      }\n    }\n  ]\n}"
            }
          },
          "metadata": {},
          "execution_count": 41
        }
      ]
    },
    {
      "cell_type": "code",
      "source": [
        "# Comparing ViT to EffNetB2 across different characteristics\n",
        "pd.DataFrame(data=(models_df.set_index(\"model\").loc[\"ViT-B/16\"] / models_df.set_index(\"model\").loc[\"EfficientNetB2\"]),\n",
        "             columns=[\"ViT to EffNetB2 ratios\"]).T"
      ],
      "metadata": {
        "id": "y_EkaNfQQTPR",
        "colab": {
          "base_uri": "https://localhost:8080/",
          "height": 81
        },
        "outputId": "bb100f2c-6361-4514-84ca-9e817b997d64"
      },
      "execution_count": null,
      "outputs": [
        {
          "output_type": "execute_result",
          "data": {
            "text/plain": [
              "                        test_loss  test_accuracy  total_params  training_time  \\\n",
              "ViT to EffNetB2 ratios     0.2291       1.023065     11.135432       1.462613   \n",
              "\n",
              "                        model_size  mean_pred_time  \n",
              "ViT to EffNetB2 ratios   11.275862        0.691244  "
            ],
            "text/html": [
              "\n",
              "  <div id=\"df-954b9f9d-1c51-48cf-804a-8307fa05560e\" class=\"colab-df-container\">\n",
              "    <div>\n",
              "<style scoped>\n",
              "    .dataframe tbody tr th:only-of-type {\n",
              "        vertical-align: middle;\n",
              "    }\n",
              "\n",
              "    .dataframe tbody tr th {\n",
              "        vertical-align: top;\n",
              "    }\n",
              "\n",
              "    .dataframe thead th {\n",
              "        text-align: right;\n",
              "    }\n",
              "</style>\n",
              "<table border=\"1\" class=\"dataframe\">\n",
              "  <thead>\n",
              "    <tr style=\"text-align: right;\">\n",
              "      <th></th>\n",
              "      <th>test_loss</th>\n",
              "      <th>test_accuracy</th>\n",
              "      <th>total_params</th>\n",
              "      <th>training_time</th>\n",
              "      <th>model_size</th>\n",
              "      <th>mean_pred_time</th>\n",
              "    </tr>\n",
              "  </thead>\n",
              "  <tbody>\n",
              "    <tr>\n",
              "      <th>ViT to EffNetB2 ratios</th>\n",
              "      <td>0.2291</td>\n",
              "      <td>1.023065</td>\n",
              "      <td>11.135432</td>\n",
              "      <td>1.462613</td>\n",
              "      <td>11.275862</td>\n",
              "      <td>0.691244</td>\n",
              "    </tr>\n",
              "  </tbody>\n",
              "</table>\n",
              "</div>\n",
              "    <div class=\"colab-df-buttons\">\n",
              "\n",
              "  <div class=\"colab-df-container\">\n",
              "    <button class=\"colab-df-convert\" onclick=\"convertToInteractive('df-954b9f9d-1c51-48cf-804a-8307fa05560e')\"\n",
              "            title=\"Convert this dataframe to an interactive table.\"\n",
              "            style=\"display:none;\">\n",
              "\n",
              "  <svg xmlns=\"http://www.w3.org/2000/svg\" height=\"24px\" viewBox=\"0 -960 960 960\">\n",
              "    <path d=\"M120-120v-720h720v720H120Zm60-500h600v-160H180v160Zm220 220h160v-160H400v160Zm0 220h160v-160H400v160ZM180-400h160v-160H180v160Zm440 0h160v-160H620v160ZM180-180h160v-160H180v160Zm440 0h160v-160H620v160Z\"/>\n",
              "  </svg>\n",
              "    </button>\n",
              "\n",
              "  <style>\n",
              "    .colab-df-container {\n",
              "      display:flex;\n",
              "      gap: 12px;\n",
              "    }\n",
              "\n",
              "    .colab-df-convert {\n",
              "      background-color: #E8F0FE;\n",
              "      border: none;\n",
              "      border-radius: 50%;\n",
              "      cursor: pointer;\n",
              "      display: none;\n",
              "      fill: #1967D2;\n",
              "      height: 32px;\n",
              "      padding: 0 0 0 0;\n",
              "      width: 32px;\n",
              "    }\n",
              "\n",
              "    .colab-df-convert:hover {\n",
              "      background-color: #E2EBFA;\n",
              "      box-shadow: 0px 1px 2px rgba(60, 64, 67, 0.3), 0px 1px 3px 1px rgba(60, 64, 67, 0.15);\n",
              "      fill: #174EA6;\n",
              "    }\n",
              "\n",
              "    .colab-df-buttons div {\n",
              "      margin-bottom: 4px;\n",
              "    }\n",
              "\n",
              "    [theme=dark] .colab-df-convert {\n",
              "      background-color: #3B4455;\n",
              "      fill: #D2E3FC;\n",
              "    }\n",
              "\n",
              "    [theme=dark] .colab-df-convert:hover {\n",
              "      background-color: #434B5C;\n",
              "      box-shadow: 0px 1px 3px 1px rgba(0, 0, 0, 0.15);\n",
              "      filter: drop-shadow(0px 1px 2px rgba(0, 0, 0, 0.3));\n",
              "      fill: #FFFFFF;\n",
              "    }\n",
              "  </style>\n",
              "\n",
              "    <script>\n",
              "      const buttonEl =\n",
              "        document.querySelector('#df-954b9f9d-1c51-48cf-804a-8307fa05560e button.colab-df-convert');\n",
              "      buttonEl.style.display =\n",
              "        google.colab.kernel.accessAllowed ? 'block' : 'none';\n",
              "\n",
              "      async function convertToInteractive(key) {\n",
              "        const element = document.querySelector('#df-954b9f9d-1c51-48cf-804a-8307fa05560e');\n",
              "        const dataTable =\n",
              "          await google.colab.kernel.invokeFunction('convertToInteractive',\n",
              "                                                    [key], {});\n",
              "        if (!dataTable) return;\n",
              "\n",
              "        const docLinkHtml = 'Like what you see? Visit the ' +\n",
              "          '<a target=\"_blank\" href=https://colab.research.google.com/notebooks/data_table.ipynb>data table notebook</a>'\n",
              "          + ' to learn more about interactive tables.';\n",
              "        element.innerHTML = '';\n",
              "        dataTable['output_type'] = 'display_data';\n",
              "        await google.colab.output.renderOutput(dataTable, element);\n",
              "        const docLink = document.createElement('div');\n",
              "        docLink.innerHTML = docLinkHtml;\n",
              "        element.appendChild(docLink);\n",
              "      }\n",
              "    </script>\n",
              "  </div>\n",
              "\n",
              "    </div>\n",
              "  </div>\n"
            ],
            "application/vnd.google.colaboratory.intrinsic+json": {
              "type": "dataframe",
              "summary": "{\n  \"name\": \"             columns=[\\\"ViT to EffNetB2 ratios\\\"])\",\n  \"rows\": 1,\n  \"fields\": [\n    {\n      \"column\": \"test_loss\",\n      \"properties\": {\n        \"dtype\": \"number\",\n        \"std\": null,\n        \"min\": 0.22909996442547134,\n        \"max\": 0.22909996442547134,\n        \"num_unique_values\": 1,\n        \"samples\": [\n          0.22909996442547134\n        ],\n        \"semantic_type\": \"\",\n        \"description\": \"\"\n      }\n    },\n    {\n      \"column\": \"test_accuracy\",\n      \"properties\": {\n        \"dtype\": \"number\",\n        \"std\": null,\n        \"min\": 1.023064935064935,\n        \"max\": 1.023064935064935,\n        \"num_unique_values\": 1,\n        \"samples\": [\n          1.023064935064935\n        ],\n        \"semantic_type\": \"\",\n        \"description\": \"\"\n      }\n    },\n    {\n      \"column\": \"total_params\",\n      \"properties\": {\n        \"dtype\": \"number\",\n        \"std\": null,\n        \"min\": 11.135431806563368,\n        \"max\": 11.135431806563368,\n        \"num_unique_values\": 1,\n        \"samples\": [\n          11.135431806563368\n        ],\n        \"semantic_type\": \"\",\n        \"description\": \"\"\n      }\n    },\n    {\n      \"column\": \"training_time\",\n      \"properties\": {\n        \"dtype\": \"number\",\n        \"std\": null,\n        \"min\": 1.462612842786578,\n        \"max\": 1.462612842786578,\n        \"num_unique_values\": 1,\n        \"samples\": [\n          1.462612842786578\n        ],\n        \"semantic_type\": \"\",\n        \"description\": \"\"\n      }\n    },\n    {\n      \"column\": \"model_size\",\n      \"properties\": {\n        \"dtype\": \"number\",\n        \"std\": null,\n        \"min\": 11.275862068965518,\n        \"max\": 11.275862068965518,\n        \"num_unique_values\": 1,\n        \"samples\": [\n          11.275862068965518\n        ],\n        \"semantic_type\": \"\",\n        \"description\": \"\"\n      }\n    },\n    {\n      \"column\": \"mean_pred_time\",\n      \"properties\": {\n        \"dtype\": \"number\",\n        \"std\": null,\n        \"min\": 0.6912442396313364,\n        \"max\": 0.6912442396313364,\n        \"num_unique_values\": 1,\n        \"samples\": [\n          0.6912442396313364\n        ],\n        \"semantic_type\": \"\",\n        \"description\": \"\"\n      }\n    }\n  ]\n}"
            }
          },
          "metadata": {},
          "execution_count": 46
        }
      ]
    },
    {
      "cell_type": "code",
      "source": [
        "# Visualizing the speed vs. performance\n",
        "# Create a plot from model comparison DataFrame\n",
        "fig, ax = plt.subplots(figsize = (10, 7))\n",
        "scatter = ax.scatter(data=models_df,\n",
        "                     x=\"mean_pred_time\",\n",
        "                     y=\"test_accuracy\",\n",
        "                     c=[\"blue\", \"orange\"],\n",
        "                     s=\"model_size\")\n",
        "\n",
        "# Add titles, labels and customize fontsize for aesthetics\n",
        "ax.set_title(\"Inference Speed vs Performance\", fontsize=18)\n",
        "ax.set_xlabel(\"Prediction time per image (seconds)\", fontsize=14)\n",
        "ax.set_ylabel(\"Test accuracy (%)\", fontsize=14)\n",
        "ax.tick_params(axis='both', labelsize=12)\n",
        "ax.grid(True)\n",
        "\n",
        "# Annotate with model names\n",
        "for index, row in models_df.iterrows():\n",
        "    ax.annotate(text=row[\"model\"],\n",
        "                xy=(row[\"mean_pred_time\"], row[\"test_accuracy\"]+0.03),\n",
        "                size=12)\n",
        "\n",
        "# Create a legend based on model sizes\n",
        "handles, labels = scatter.legend_elements(prop=\"sizes\", alpha=0.5)\n",
        "model_size_legend = ax.legend(handles,\n",
        "                              labels,\n",
        "                              loc=\"upper right\",\n",
        "                              title=\"Model Size (MBs)\",\n",
        "                              fontsize=12)\n",
        "\n",
        "# Save the figure\n",
        "plt.savefig(\"speed_vs_acc.jpg\")"
      ],
      "metadata": {
        "colab": {
          "base_uri": "https://localhost:8080/",
          "height": 655
        },
        "id": "KbAJi8BioRUA",
        "outputId": "61184d51-8fee-4bfe-9da0-7ea8d30f7fed"
      },
      "execution_count": null,
      "outputs": [
        {
          "output_type": "display_data",
          "data": {
            "text/plain": [
              "<Figure size 1000x700 with 1 Axes>"
            ],
            "image/png": "[encoded data removed]"
          },
          "metadata": {}
        }
      ]
    },
    {
      "cell_type": "markdown",
      "source": [
        "As we can see, both of the models achieved the desired mean prediction time (less than 0.03 seconds).\n",
        "\n",
        "Since both models also achieved the desired accuracy, we will pick a model that is more suited to our use-case based off other criteria like the size of the model, its training time, etc.\n",
        "\n",
        "We will be deploying our model on a mobile device and / or web browser, and despite the fact that ViT-B/16 performes better, we will pick the slightly weaker EfficientNetB2 despite having a marginally lower accuracy and average prediction time, simply becuase it's way smaller in size and generally faster to train, which is suitable for our use case.\n",
        "\n"
      ],
      "metadata": {
        "id": "xFqHV-KDwUHR"
      }
    },
    {
      "cell_type": "markdown",
      "source": [
        "# Bringing the model to life with Gradio"
      ],
      "metadata": {
        "id": "vukjdZKyLOtY"
      }
    },
    {
      "cell_type": "markdown",
      "source": [
        "As described on the website, Gradio is the fastest way to demo your machine learning model with a friendly web interface so that anyone can use it, anywhere!\n",
        "\n",
        "So basically, it is a way of deploying a demo of our model so we can test it in a real-world setting.\n",
        "\n",
        "It replicates the workflow: **INPUTS -> ML MODEL -> OUTPUTS**\n",
        "\n",
        "Where the INPUTS could be any type of data (in our case images), the ML MODEL is our train EfficientNetB2 feature extractor, and the OUTPUTS will be the class labels.\n",
        "\n",
        "Food Images -> EfficientNetB2 -> Food Images Class Labels"
      ],
      "metadata": {
        "id": "NMx92UJ3LUmU"
      }
    },
    {
      "cell_type": "code",
      "source": [
        "# Import/install Gradio\n",
        "try:\n",
        "    import gradio as gr\n",
        "except:\n",
        "    !pip -q install gradio\n",
        "    import gradio as gr\n",
        "\n",
        "print(f\"Gradio version: {gr.__version__}\")"
      ],
      "metadata": {
        "id": "SnqwceMoqRPG",
        "colab": {
          "base_uri": "https://localhost:8080/"
        },
        "outputId": "697258a8-4260-46a2-9077-463d4533fecb"
      },
      "execution_count": null,
      "outputs": [
        {
          "output_type": "stream",
          "name": "stdout",
          "text": [
            "\u001b[2K     \u001b[90m━━━━━━━━━━━━━━━━━━━━━━━━━━━━━━━━━━━━━━━━\u001b[0m \u001b[32m17.1/17.1 MB\u001b[0m \u001b[31m35.6 MB/s\u001b[0m eta \u001b[36m0:00:00\u001b[0m\n",
            "\u001b[2K     \u001b[90m━━━━━━━━━━━━━━━━━━━━━━━━━━━━━━━━━━━━━━━━\u001b[0m \u001b[32m92.1/92.1 kB\u001b[0m \u001b[31m10.3 MB/s\u001b[0m eta \u001b[36m0:00:00\u001b[0m\n",
            "\u001b[?25h  Preparing metadata (setup.py) ... \u001b[?25l\u001b[?25hdone\n",
            "\u001b[2K     \u001b[90m━━━━━━━━━━━━━━━━━━━━━━━━━━━━━━━━━━━━━━━━\u001b[0m \u001b[32m312.4/312.4 kB\u001b[0m \u001b[31m30.2 MB/s\u001b[0m eta \u001b[36m0:00:00\u001b[0m\n",
            "\u001b[2K     \u001b[90m━━━━━━━━━━━━━━━━━━━━━━━━━━━━━━━━━━━━━━━━\u001b[0m \u001b[32m75.6/75.6 kB\u001b[0m \u001b[31m9.0 MB/s\u001b[0m eta \u001b[36m0:00:00\u001b[0m\n",
            "\u001b[2K     \u001b[90m━━━━━━━━━━━━━━━━━━━━━━━━━━━━━━━━━━━━━━━━\u001b[0m \u001b[32m144.8/144.8 kB\u001b[0m \u001b[31m15.1 MB/s\u001b[0m eta \u001b[36m0:00:00\u001b[0m\n",
            "\u001b[2K     \u001b[90m━━━━━━━━━━━━━━━━━━━━━━━━━━━━━━━━━━━━━━━━\u001b[0m \u001b[32m8.7/8.7 MB\u001b[0m \u001b[31m43.6 MB/s\u001b[0m eta \u001b[36m0:00:00\u001b[0m\n",
            "\u001b[2K     \u001b[90m━━━━━━━━━━━━━━━━━━━━━━━━━━━━━━━━━━━━━━━━\u001b[0m \u001b[32m60.8/60.8 kB\u001b[0m \u001b[31m5.8 MB/s\u001b[0m eta \u001b[36m0:00:00\u001b[0m\n",
            "\u001b[2K     \u001b[90m━━━━━━━━━━━━━━━━━━━━━━━━━━━━━━━━━━━━━━━━\u001b[0m \u001b[32m129.9/129.9 kB\u001b[0m \u001b[31m14.0 MB/s\u001b[0m eta \u001b[36m0:00:00\u001b[0m\n",
            "\u001b[2K     \u001b[90m━━━━━━━━━━━━━━━━━━━━━━━━━━━━━━━━━━━━━━━━\u001b[0m \u001b[32m77.9/77.9 kB\u001b[0m \u001b[31m9.2 MB/s\u001b[0m eta \u001b[36m0:00:00\u001b[0m\n",
            "\u001b[2K     \u001b[90m━━━━━━━━━━━━━━━━━━━━━━━━━━━━━━━━━━━━━━━━\u001b[0m \u001b[32m58.3/58.3 kB\u001b[0m \u001b[31m6.5 MB/s\u001b[0m eta \u001b[36m0:00:00\u001b[0m\n",
            "\u001b[2K     \u001b[90m━━━━━━━━━━━━━━━━━━━━━━━━━━━━━━━━━━━━━━━━\u001b[0m \u001b[32m71.5/71.5 kB\u001b[0m \u001b[31m8.4 MB/s\u001b[0m eta \u001b[36m0:00:00\u001b[0m\n",
            "\u001b[?25h  Building wheel for ffmpy (setup.py) ... \u001b[?25l\u001b[?25hdone\n",
            "Gradio version: 4.24.0\n"
          ]
        }
      ]
    },
    {
      "cell_type": "code",
      "source": [
        "# Putting our model on the cpu so that it can be deployed anywhere\n",
        "# e.g. to deploying a model on a gpu in HuggingFace requires payment\n",
        "effnetb2 = effnetb2.to('cpu')"
      ],
      "metadata": {
        "id": "nXSBiXM6PlEg"
      },
      "execution_count": null,
      "outputs": []
    },
    {
      "cell_type": "code",
      "source": [
        "# First we will create the main function that will be wrapped in Gradio's Interface()\n",
        "# This function will map the inputs to the outputs.\n",
        "# It will take an image as an input and return a tuple containing the prediction labels\n",
        "# their probability, and the prediction time.\n",
        "from typing import Tuple, Dict\n",
        "from timeit import default_timer as timer\n",
        "\n",
        "def predict(img) -> Tuple[Dict, float]:\n",
        "\n",
        "  start_time = timer()\n",
        "\n",
        "  transformed_img = effnetb2_transforms(img).unsqueeze(0)\n",
        "\n",
        "  effnetb2.eval()\n",
        "  with torch.inference_mode():\n",
        "    y_logits = effnetb2(transformed_img)\n",
        "    y_preds = torch.softmax(y_logits, dim = 1)\n",
        "    y_label = torch.argmax(y_preds, dim = 1)\n",
        "    pred_labels_probs = {class_names[i]: float(y_preds[0][i]) for i in range(len(class_names))}\n",
        "\n",
        "  end_time = timer()\n",
        "  pred_time = round(end_time - start_time, 4)\n",
        "\n",
        "  return pred_labels_probs, pred_time"
      ],
      "metadata": {
        "id": "Jwoz2UWcM9yD"
      },
      "execution_count": null,
      "outputs": []
    },
    {
      "cell_type": "code",
      "source": [
        "# Testing the function\n",
        "import random\n",
        "from PIL import Image\n",
        "\n",
        "# Get a list of all test image filepaths\n",
        "test_data_paths = list(Path(test_dir).glob(\"*/*.jpg\"))\n",
        "\n",
        "# Randomly select a test image path\n",
        "random_image_path = random.sample(test_data_paths, k=1)[0]\n",
        "\n",
        "# Open the target image\n",
        "image = Image.open(random_image_path)\n",
        "print(f\"[INFO] Predicting on image at path: {random_image_path}\\n\")\n",
        "\n",
        "# Predict on the target image and print out the outputs\n",
        "pred_dict, pred_time = predict(img=image)\n",
        "print(f\"Prediction label and probability dictionary: \\n{pred_dict}\")\n",
        "print(f\"Prediction time: {pred_time} seconds\")"
      ],
      "metadata": {
        "id": "GPSslsHNUe8q",
        "colab": {
          "base_uri": "https://localhost:8080/"
        },
        "outputId": "3e6040b6-c8a7-4636-80fc-cacca4be9884"
      },
      "execution_count": null,
      "outputs": [
        {
          "output_type": "stream",
          "name": "stdout",
          "text": [
            "[INFO] Predicting on image at path: data/pizza_steak_sushi_20_percent/test/steak/3497585.jpg\n",
            "\n",
            "Prediction label and probability dictionary: \n",
            "{'pizza': 0.15046001970767975, 'steak': 0.819732666015625, 'sushi': 0.029807357117533684}\n",
            "Prediction time: 0.1334 seconds\n"
          ]
        }
      ]
    },
    {
      "cell_type": "markdown",
      "source": [
        "## Creating example images"
      ],
      "metadata": {
        "id": "N_EX_leWmxIM"
      }
    },
    {
      "cell_type": "markdown",
      "source": [
        "These example images will can be used as inputs to the model if the user doesn't have any image ready to pass through the model"
      ],
      "metadata": {
        "id": "bK7n_7DXnfLF"
      }
    },
    {
      "cell_type": "code",
      "source": [
        "example_imgs = [[str(filepath)] for filepath in random.sample(test_data_paths, k = 3)]\n",
        "example_imgs"
      ],
      "metadata": {
        "colab": {
          "base_uri": "https://localhost:8080/"
        },
        "id": "LJeSBHAPjp8X",
        "outputId": "c0e87949-1159-4011-ebe0-7f7ec8ed5883"
      },
      "execution_count": null,
      "outputs": [
        {
          "output_type": "execute_result",
          "data": {
            "text/plain": [
              "[['data/pizza_steak_sushi_20_percent/test/sushi/2903125.jpg'],\n",
              " ['data/pizza_steak_sushi_20_percent/test/pizza/2997525.jpg'],\n",
              " ['data/pizza_steak_sushi_20_percent/test/pizza/1001116.jpg']]"
            ]
          },
          "metadata": {},
          "execution_count": 20
        }
      ]
    },
    {
      "cell_type": "markdown",
      "source": [
        "## Creating an interface for the model"
      ],
      "metadata": {
        "id": "G7F6xF4BnpDv"
      }
    },
    {
      "cell_type": "markdown",
      "source": [
        "Now that we have all the pices ready, we can use Gradio's main high-level class Interface() to to create a web-based GUI / demo around our EffNetB2 model"
      ],
      "metadata": {
        "id": "DS643MpNnuaN"
      }
    },
    {
      "cell_type": "code",
      "source": [
        "title = 'FoodVision Mini'\n",
        "description = 'An EfficientNetB2 feature extractor CV model to classify images of food as pizza, steak or sushi.'\n",
        "\n",
        "demo = gr.Interface(fn=predict,\n",
        "                    inputs=gr.Image(type='pil'),\n",
        "                    outputs=[gr.Label(num_top_classes = len(class_names),\n",
        "                                      label = 'Prediction Probabilities'),\n",
        "                             gr.Number(label = 'Prediction Time (s)')],\n",
        "                    examples = example_imgs,\n",
        "                    title = title,\n",
        "                    description = description)\n",
        "\n",
        "demo.launch(share = True,\n",
        "            debug = False)"
      ],
      "metadata": {
        "colab": {
          "base_uri": "https://localhost:8080/",
          "height": 593
        },
        "id": "UrRYFba3nWm6",
        "outputId": "36a71999-a6e2-4bab-d77c-3cf63178632e"
      },
      "execution_count": null,
      "outputs": [
        {
          "output_type": "stream",
          "name": "stdout",
          "text": [
            "Colab notebook detected. To show errors in colab notebook, set debug=True in launch()\n",
            "Running on public URL: https://f21109705c1d55db6a.gradio.live\n",
            "\n",
            "This share link expires in 72 hours. For free permanent hosting and GPU upgrades, run `gradio deploy` from Terminal to deploy to Spaces (https://huggingface.co/spaces)\n"
          ]
        },
        {
          "output_type": "display_data",
          "data": {
            "text/plain": [
              "<IPython.core.display.HTML object>"
            ],
            "text/html": [
              "<div><iframe src=\"https://f21109705c1d55db6a.gradio.live\" width=\"100%\" height=\"500\" allow=\"autoplay; camera; microphone; clipboard-read; clipboard-write;\" frameborder=\"0\" allowfullscreen></iframe></div>"
            ]
          },
          "metadata": {}
        },
        {
          "output_type": "execute_result",
          "data": {
            "text/plain": []
          },
          "metadata": {},
          "execution_count": 21
        }
      ]
    },
    {
      "cell_type": "markdown",
      "source": [
        "# Permenantly deploying our model on HuggingFace Spaces"
      ],
      "metadata": {
        "id": "tcLYwsojLrzO"
      }
    },
    {
      "cell_type": "markdown",
      "source": [
        "Since Gradio only creates a timed demo of our deployed model, it is a good idea to permanently host said model somewhere in order to access it anytime, anywhere. The solution is to use Hugging Face Spaces.\n",
        "\n",
        "**Hugging Face Spaces** offer a simple way to host ML demo apps directly on your profile or your organization's profile. This allows you to create your ML portfolio, showcase your projects at conferences or to stakeholders, and work collaboratively with other people in the ML ecosystem."
      ],
      "metadata": {
        "id": "QUNQmzmpL9MT"
      }
    },
    {
      "cell_type": "markdown",
      "source": [
        "## Creating the main directory for the model"
      ],
      "metadata": {
        "id": "nIMo1Ha0ZIce"
      }
    },
    {
      "cell_type": "markdown",
      "source": [
        "To start off, we need to create a directory for the model we will deploy. This directory will contain all of the files that are needed to deploy the model on HuggingFace.\n",
        "\n",
        "The directory should have the following structure:\n",
        "```\n",
        "demos/\n",
        "  foodvision_mini/\n",
        "    effnetb2.pth\n",
        "    app.py\n",
        "    examples/\n",
        "      example_1.jpg\n",
        "      example_2.jpg\n",
        "      example_3.jpg\n",
        "    model.py\n",
        "    requirements.txt\n",
        "```"
      ],
      "metadata": {
        "id": "ocsOdzRBXtlf"
      }
    },
    {
      "cell_type": "code",
      "source": [
        "# 1. Creating the main demos folder\n",
        "import shutil\n",
        "from pathlib import Path\n",
        "\n",
        "main_model_demo_path = Path('demos/foodvision_mini')\n",
        "\n",
        "if main_model_demo_path.exists():\n",
        "  shutil.rmtree(main_model_demo_path)\n",
        "  main_model_demo_path.mkdir(parents = True, exist_ok = True)\n",
        "\n",
        "else:\n",
        "  main_model_demo_path.mkdir(parents = True, exist_ok = True)"
      ],
      "metadata": {
        "id": "u1xbObmqrfrD"
      },
      "execution_count": null,
      "outputs": []
    },
    {
      "cell_type": "code",
      "source": [
        "# 2. Building the examples subfolder\n",
        "import os\n",
        "\n",
        "# Creating the exmples subfolder\n",
        "main_model_demo_examples_path = main_model_demo_path / 'examples'\n",
        "main_model_demo_examples_path.mkdir(parents = True, exist_ok = True)\n",
        "\n",
        "# Getting the paths of three images from the test dataset\n",
        "foodvision_mini_examples = [Path('data/pizza_steak_sushi_20_percent/test/sushi/592799.jpg'),\n",
        "                            Path('data/pizza_steak_sushi_20_percent/test/steak/3622237.jpg'),\n",
        "                            Path('data/pizza_steak_sushi_20_percent/test/pizza/2582289.jpg')]\n",
        "\n",
        "# Copying the images into the examples subfolder\n",
        "for example in foodvision_mini_examples:\n",
        "  destination = main_model_demo_examples_path / example.name\n",
        "  print(f'[INFO] Copying images from {example} to {destination}')\n",
        "  shutil.copy2(src = example, dst = destination)\n",
        "\n",
        "# Turning the list of examples into a list of lists (for Gradio)\n",
        "example_list = [[\"examples/\" + example] for example in os.listdir(main_model_demo_examples_path)]\n",
        "example_list"
      ],
      "metadata": {
        "colab": {
          "base_uri": "https://localhost:8080/"
        },
        "id": "50ONyCouaV3a",
        "outputId": "6e4aa90b-8978-47db-95a6-30cb5263f5b3"
      },
      "execution_count": null,
      "outputs": [
        {
          "output_type": "stream",
          "name": "stdout",
          "text": [
            "[INFO] Copying images from data/pizza_steak_sushi_20_percent/test/sushi/592799.jpg to demos/foodvision_mini/examples/592799.jpg\n",
            "[INFO] Copying images from data/pizza_steak_sushi_20_percent/test/steak/3622237.jpg to demos/foodvision_mini/examples/3622237.jpg\n",
            "[INFO] Copying images from data/pizza_steak_sushi_20_percent/test/pizza/2582289.jpg to demos/foodvision_mini/examples/2582289.jpg\n"
          ]
        },
        {
          "output_type": "execute_result",
          "data": {
            "text/plain": [
              "[['examples/2582289.jpg'], ['examples/592799.jpg'], ['examples/3622237.jpg']]"
            ]
          },
          "metadata": {},
          "execution_count": 23
        }
      ]
    },
    {
      "cell_type": "code",
      "source": [
        "# 3. Moving our EffNetB2 model into the demos folder\n",
        "effnetb2_model_path = 'models/effnetb2.pth'\n",
        "effnetb2_model_dest = main_model_demo_path / effnetb2_model_path.split('/')[1]\n",
        "\n",
        "if effnetb2_model_dest.exists():\n",
        "  print(f'[INFO] Model {effnetb2_model_dest} already exists.')\n",
        "else:\n",
        "  print(f'[INFO] Moving the model from {effnetb2_model_path} to {effnetb2_model_dest}')\n",
        "  shutil.move(src = effnetb2_model_path, dst = effnetb2_model_dest)"
      ],
      "metadata": {
        "colab": {
          "base_uri": "https://localhost:8080/"
        },
        "id": "bYP-8B3nbZGU",
        "outputId": "2395a017-47eb-4865-cc44-1c77275a3ee5"
      },
      "execution_count": null,
      "outputs": [
        {
          "output_type": "stream",
          "name": "stdout",
          "text": [
            "[INFO] Moving the model from models/effnetb2.pth to demos/foodvision_mini/effnetb2.pth\n"
          ]
        }
      ]
    },
    {
      "cell_type": "code",
      "source": [
        "# 4. Saving the EffNetB2 feature extractor creator function as a script inside the demos folder\n",
        "%%writefile demos/foodvision_mini/model.py\n",
        "import torch\n",
        "from torch import nn\n",
        "import torchvision\n",
        "\n",
        "def create_effnetb2(num_class: int,\n",
        "                    seed: int = 42):\n",
        "  \"\"\"\n",
        "  A class to create an EfficientNetB2 feature extractor with DEFAULT weights\n",
        "\n",
        "  Args:\n",
        "    num_class (int): number of classes in the classifier head (int).\n",
        "    seed (int): random seed values (int, default = 42)\n",
        "\n",
        "  Returns:\n",
        "    model (torch.nn.Module): an instance of the EfficientNetB2 feature extractor with DEFAULT weights.\n",
        "    transforms (torchvision.transforms): an instant of the EfficientNetB2 transforms\n",
        "  \"\"\"\n",
        "  weights = torchvision.models.EfficientNet_B2_Weights.DEFAULT\n",
        "  transforms = weights.transforms()\n",
        "  model = torchvision.models.efficientnet_b2(weights = weights)\n",
        "\n",
        "  for param in model.features.parameters():\n",
        "    param.requires_grad = False\n",
        "\n",
        "  torch.manual_seed(seed)\n",
        "  torch.cuda.manual_seed(seed)\n",
        "\n",
        "  model.classifier = nn.Sequential(\n",
        "      nn.Dropout(p = 0.3, inplace = True),\n",
        "      nn.Linear(in_features = 1408, out_features = num_class, bias = True)\n",
        "  )\n",
        "\n",
        "  return model, transforms"
      ],
      "metadata": {
        "colab": {
          "base_uri": "https://localhost:8080/"
        },
        "id": "LSJ6M-vCn8H5",
        "outputId": "152853c2-4342-4933-96de-235848664591"
      },
      "execution_count": null,
      "outputs": [
        {
          "output_type": "stream",
          "name": "stdout",
          "text": [
            "Writing demos/foodvision_mini/model.py\n"
          ]
        }
      ]
    },
    {
      "cell_type": "code",
      "source": [
        "# 4. Creating the app.py script by turning the Gradio app into a python script\n",
        "%%writefile demos/foodvision_mini/app.py\n",
        "import torch\n",
        "import torchvision\n",
        "import random\n",
        "import gradio as gr\n",
        "import os\n",
        "\n",
        "from torch import nn\n",
        "from typing import Tuple, Dict\n",
        "from timeit import default_timer as timer\n",
        "from model import create_effnetb2\n",
        "\n",
        "# Hardcoding the class names\n",
        "class_names = ['pizza', 'steak', 'sushi']\n",
        "\n",
        "# Creating the EffnetB2 model and transforms\n",
        "effnetb2, effnetb2_transforms = create_effnetb2(num_class = len(class_names),\n",
        "                                                seed = 42)\n",
        "\n",
        "effnetb2.load_state_dict(torch.load(f = 'effnetb2.pth',\n",
        "                                    map_location = torch.device('cpu')))\n",
        "\n",
        "# Defining the example images list\n",
        "example_list = [[\"examples/\" + example] for example in os.listdir('examples')]\n",
        "\n",
        "# Defining the predict function\n",
        "def predict(img) -> Tuple[Dict, float]:\n",
        "\n",
        "  start_time = timer()\n",
        "\n",
        "  transformed_img = effnetb2_transforms(img).unsqueeze(0)\n",
        "\n",
        "  effnetb2.eval()\n",
        "  with torch.inference_mode():\n",
        "    y_logits = effnetb2(transformed_img)\n",
        "    y_preds = torch.softmax(y_logits, dim = 1)\n",
        "    y_label = torch.argmax(y_preds, dim = 1)\n",
        "    pred_labels_probs = {class_names[i]: float(y_preds[0][i]) for i in range(len(class_names))}\n",
        "\n",
        "  end_time = timer()\n",
        "  pred_time = round(end_time - start_time, 4)\n",
        "\n",
        "  return pred_labels_probs, pred_time\n",
        "\n",
        "# Creating the gradio app\n",
        "title = 'FoodVision Mini'\n",
        "description = 'An EfficientNetB2 feature extractor CV model to classify images of food as pizza, steak or sushi.'\n",
        "\n",
        "demo = gr.Interface(fn=predict,\n",
        "                    inputs=gr.Image(type='pil'),\n",
        "                    outputs=[gr.Label(num_top_classes = len(class_names),\n",
        "                                      label = 'Prediction Probabilities'),\n",
        "                             gr.Number(label = 'Prediction Time (s)')],\n",
        "                    examples = example_list,\n",
        "                    title = title,\n",
        "                    description = description)\n",
        "\n",
        "demo.launch(share = True,\n",
        "            debug = False)"
      ],
      "metadata": {
        "id": "dyXdkVUsrOs0",
        "colab": {
          "base_uri": "https://localhost:8080/"
        },
        "outputId": "8e6ca23a-369b-425b-9fc8-59129af95188"
      },
      "execution_count": null,
      "outputs": [
        {
          "output_type": "stream",
          "name": "stdout",
          "text": [
            "Overwriting demos/foodvision_mini/app.py\n"
          ]
        }
      ]
    },
    {
      "cell_type": "code",
      "source": [
        "# 5. Creating the requirements.txt file\n",
        "%%writefile demos/foodvision_mini/requirements.txt\n",
        "torch==2.2.1\n",
        "torchvision==0.17.1\n",
        "gradio==4.24.0"
      ],
      "metadata": {
        "colab": {
          "base_uri": "https://localhost:8080/"
        },
        "id": "QfVZ11R_pNXK",
        "outputId": "7a079e02-74d1-4de5-a009-795142eca6d2"
      },
      "execution_count": null,
      "outputs": [
        {
          "output_type": "stream",
          "name": "stdout",
          "text": [
            "Writing demos/foodvision_mini/requirements.txt\n"
          ]
        }
      ]
    },
    {
      "cell_type": "markdown",
      "source": [
        "## Zipping and downloading the app"
      ],
      "metadata": {
        "id": "YzblhO_Lttzd"
      }
    },
    {
      "cell_type": "code",
      "source": [
        "# Zipping\n",
        "!cd demos/foodvision_mini && zip -r ../foodvision_mini.zip * -x \"*.pyc\" \"*.ipynb\" \"*__pycache__*\" \"*ipynb_checkpoints*\""
      ],
      "metadata": {
        "colab": {
          "base_uri": "https://localhost:8080/"
        },
        "id": "M7P4EyodqiLc",
        "outputId": "42078583-0cff-430e-b17b-12328960ba5d"
      },
      "execution_count": null,
      "outputs": [
        {
          "output_type": "stream",
          "name": "stdout",
          "text": [
            "  adding: app.py (deflated 59%)\n",
            "  adding: effnetb2.pth (deflated 8%)\n",
            "  adding: examples/ (stored 0%)\n",
            "  adding: examples/2582289.jpg (deflated 17%)\n",
            "  adding: examples/592799.jpg (deflated 1%)\n",
            "  adding: examples/3622237.jpg (deflated 0%)\n",
            "  adding: model.py (deflated 55%)\n",
            "  adding: requirements.txt (deflated 4%)\n"
          ]
        }
      ]
    },
    {
      "cell_type": "code",
      "source": [
        "# Downloading\n",
        "try:\n",
        "  from google.colab import files\n",
        "  files.download('demos/foodvision_mini.zip')\n",
        "except:\n",
        "  print(f'Not running in Google Colab, please try downloading the app zip file manually.')"
      ],
      "metadata": {
        "colab": {
          "base_uri": "https://localhost:8080/",
          "height": 17
        },
        "id": "Q2dHwHE3ur4d",
        "outputId": "d04e92fb-ab3a-4253-8ac1-7a472abe2330"
      },
      "execution_count": null,
      "outputs": [
        {
          "output_type": "display_data",
          "data": {
            "text/plain": [
              "<IPython.core.display.Javascript object>"
            ],
            "application/javascript": [
              "\n",
              "    async function download(id, filename, size) {\n",
              "      if (!google.colab.kernel.accessAllowed) {\n",
              "        return;\n",
              "      }\n",
              "      const div = document.createElement('div');\n",
              "      const label = document.createElement('label');\n",
              "      label.textContent = `Downloading \"${filename}\": `;\n",
              "      div.appendChild(label);\n",
              "      const progress = document.createElement('progress');\n",
              "      progress.max = size;\n",
              "      div.appendChild(progress);\n",
              "      document.body.appendChild(div);\n",
              "\n",
              "      const buffers = [];\n",
              "      let downloaded = 0;\n",
              "\n",
              "      const channel = await google.colab.kernel.comms.open(id);\n",
              "      // Send a message to notify the kernel that we're ready.\n",
              "      channel.send({})\n",
              "\n",
              "      for await (const message of channel.messages) {\n",
              "        // Send a message to notify the kernel that we're ready.\n",
              "        channel.send({})\n",
              "        if (message.buffers) {\n",
              "          for (const buffer of message.buffers) {\n",
              "            buffers.push(buffer);\n",
              "            downloaded += buffer.byteLength;\n",
              "            progress.value = downloaded;\n",
              "          }\n",
              "        }\n",
              "      }\n",
              "      const blob = new Blob(buffers, {type: 'application/binary'});\n",
              "      const a = document.createElement('a');\n",
              "      a.href = window.URL.createObjectURL(blob);\n",
              "      a.download = filename;\n",
              "      div.appendChild(a);\n",
              "      a.click();\n",
              "      div.remove();\n",
              "    }\n",
              "  "
            ]
          },
          "metadata": {}
        },
        {
          "output_type": "display_data",
          "data": {
            "text/plain": [
              "<IPython.core.display.Javascript object>"
            ],
            "application/javascript": [
              "download(\"download_a5ee02eb-ccbe-424b-a642-98c6446be1a9\", \"foodvision_mini.zip\", 28970338)"
            ]
          },
          "metadata": {}
        }
      ]
    },
    {
      "cell_type": "markdown",
      "source": [
        "Now that we have all the components ready, we can upload them to Hugging Face by following the instructions on the Hugging Face website.\n",
        "\n",
        "Additionally Git LFS may be required in order to track larger files (>10 MBs), like the model .pth files. Instructions on how to use it are outlined here https://git-lfs.com/\n",
        "\n",
        "Detailed steps: https://www.learnpytorch.io/09_pytorch_model_deployment/#93-uploading-to-hugging-face"
      ],
      "metadata": {
        "id": "j-4ElcDo6iMy"
      }
    },
    {
      "cell_type": "markdown",
      "source": [
        "## Embedding the app from Hugging Face inside Google Colab"
      ],
      "metadata": {
        "id": "yP81zcCnMKVN"
      }
    },
    {
      "cell_type": "code",
      "source": [
        "# IPython is a library to help make Python interactive\n",
        "from IPython.display import IFrame\n",
        "\n",
        "# Embed FoodVision Mini Gradio demo\n",
        "IFrame(src=\"https://hf.space/embed/waleedgeorgy/foodvision_mini_test/+\", width=900, height=750)"
      ],
      "metadata": {
        "id": "WMzE-7UgvKaZ",
        "colab": {
          "base_uri": "https://localhost:8080/",
          "height": 771
        },
        "outputId": "057781cb-ebd9-4bd4-da86-781ceb97d6fa"
      },
      "execution_count": null,
      "outputs": [
        {
          "output_type": "execute_result",
          "data": {
            "text/plain": [
              "<IPython.lib.display.IFrame at 0x7877d6ad08b0>"
            ],
            "text/html": [
              "\n",
              "        <iframe\n",
              "            width=\"900\"\n",
              "            height=\"750\"\n",
              "            src=\"https://hf.space/embed/waleedgeorgy/foodvision_mini_test/+\"\n",
              "            frameborder=\"0\"\n",
              "            allowfullscreen\n",
              "            \n",
              "        ></iframe>\n",
              "        "
            ]
          },
          "metadata": {},
          "execution_count": 18
        }
      ]
    },
    {
      "cell_type": "markdown",
      "source": [
        "# Building the full model"
      ],
      "metadata": {
        "id": "KcgknfPiY5mp"
      }
    },
    {
      "cell_type": "markdown",
      "source": [
        "Now we'll rebuild the model we built previously, but this time it will be trained using all the classes from Food101 dataset."
      ],
      "metadata": {
        "id": "2BB1ZxlrY9X7"
      }
    },
    {
      "cell_type": "markdown",
      "source": [
        "## Creating the model"
      ],
      "metadata": {
        "id": "v-LqRWBNN34f"
      }
    },
    {
      "cell_type": "code",
      "source": [
        "effnetb2_full, effnetb2_full_transforms = create_effnetb2(num_class = 101,\n",
        "                                                          seed = 42)"
      ],
      "metadata": {
        "id": "r1BxgvVAMVCV"
      },
      "execution_count": null,
      "outputs": []
    },
    {
      "cell_type": "code",
      "source": [
        "summary(model = effnetb2_full,\n",
        "        input_size = (1,3,224,224),\n",
        "        col_names=[\"input_size\", \"output_size\", \"num_params\", \"trainable\"],\n",
        "        col_width=20,\n",
        "        row_settings=[\"var_names\"])"
      ],
      "metadata": {
        "colab": {
          "base_uri": "https://localhost:8080/"
        },
        "id": "LRNNLlN3SFfM",
        "outputId": "a5468b26-4816-4c5b-a5b7-fc8ec9554c79"
      },
      "execution_count": null,
      "outputs": [
        {
          "output_type": "execute_result",
          "data": {
            "text/plain": [
              "============================================================================================================================================\n",
              "Layer (type (var_name))                                      Input Shape          Output Shape         Param #              Trainable\n",
              "============================================================================================================================================\n",
              "EfficientNet (EfficientNet)                                  [1, 3, 224, 224]     [1, 101]             --                   Partial\n",
              "├─Sequential (features)                                      [1, 3, 224, 224]     [1, 1408, 7, 7]      --                   False\n",
              "│    └─Conv2dNormActivation (0)                              [1, 3, 224, 224]     [1, 32, 112, 112]    --                   False\n",
              "│    │    └─Conv2d (0)                                       [1, 3, 224, 224]     [1, 32, 112, 112]    (864)                False\n",
              "│    │    └─BatchNorm2d (1)                                  [1, 32, 112, 112]    [1, 32, 112, 112]    (64)                 False\n",
              "│    │    └─SiLU (2)                                         [1, 32, 112, 112]    [1, 32, 112, 112]    --                   --\n",
              "│    └─Sequential (1)                                        [1, 32, 112, 112]    [1, 16, 112, 112]    --                   False\n",
              "│    │    └─MBConv (0)                                       [1, 32, 112, 112]    [1, 16, 112, 112]    (1,448)              False\n",
              "│    │    └─MBConv (1)                                       [1, 16, 112, 112]    [1, 16, 112, 112]    (612)                False\n",
              "│    └─Sequential (2)                                        [1, 16, 112, 112]    [1, 24, 56, 56]      --                   False\n",
              "│    │    └─MBConv (0)                                       [1, 16, 112, 112]    [1, 24, 56, 56]      (6,004)              False\n",
              "│    │    └─MBConv (1)                                       [1, 24, 56, 56]      [1, 24, 56, 56]      (10,710)             False\n",
              "│    │    └─MBConv (2)                                       [1, 24, 56, 56]      [1, 24, 56, 56]      (10,710)             False\n",
              "│    └─Sequential (3)                                        [1, 24, 56, 56]      [1, 48, 28, 28]      --                   False\n",
              "│    │    └─MBConv (0)                                       [1, 24, 56, 56]      [1, 48, 28, 28]      (16,518)             False\n",
              "│    │    └─MBConv (1)                                       [1, 48, 28, 28]      [1, 48, 28, 28]      (43,308)             False\n",
              "│    │    └─MBConv (2)                                       [1, 48, 28, 28]      [1, 48, 28, 28]      (43,308)             False\n",
              "│    └─Sequential (4)                                        [1, 48, 28, 28]      [1, 88, 14, 14]      --                   False\n",
              "│    │    └─MBConv (0)                                       [1, 48, 28, 28]      [1, 88, 14, 14]      (50,300)             False\n",
              "│    │    └─MBConv (1)                                       [1, 88, 14, 14]      [1, 88, 14, 14]      (123,750)            False\n",
              "│    │    └─MBConv (2)                                       [1, 88, 14, 14]      [1, 88, 14, 14]      (123,750)            False\n",
              "│    │    └─MBConv (3)                                       [1, 88, 14, 14]      [1, 88, 14, 14]      (123,750)            False\n",
              "│    └─Sequential (5)                                        [1, 88, 14, 14]      [1, 120, 14, 14]     --                   False\n",
              "│    │    └─MBConv (0)                                       [1, 88, 14, 14]      [1, 120, 14, 14]     (149,158)            False\n",
              "│    │    └─MBConv (1)                                       [1, 120, 14, 14]     [1, 120, 14, 14]     (237,870)            False\n",
              "│    │    └─MBConv (2)                                       [1, 120, 14, 14]     [1, 120, 14, 14]     (237,870)            False\n",
              "│    │    └─MBConv (3)                                       [1, 120, 14, 14]     [1, 120, 14, 14]     (237,870)            False\n",
              "│    └─Sequential (6)                                        [1, 120, 14, 14]     [1, 208, 7, 7]       --                   False\n",
              "│    │    └─MBConv (0)                                       [1, 120, 14, 14]     [1, 208, 7, 7]       (301,406)            False\n",
              "│    │    └─MBConv (1)                                       [1, 208, 7, 7]       [1, 208, 7, 7]       (686,868)            False\n",
              "│    │    └─MBConv (2)                                       [1, 208, 7, 7]       [1, 208, 7, 7]       (686,868)            False\n",
              "│    │    └─MBConv (3)                                       [1, 208, 7, 7]       [1, 208, 7, 7]       (686,868)            False\n",
              "│    │    └─MBConv (4)                                       [1, 208, 7, 7]       [1, 208, 7, 7]       (686,868)            False\n",
              "│    └─Sequential (7)                                        [1, 208, 7, 7]       [1, 352, 7, 7]       --                   False\n",
              "│    │    └─MBConv (0)                                       [1, 208, 7, 7]       [1, 352, 7, 7]       (846,900)            False\n",
              "│    │    └─MBConv (1)                                       [1, 352, 7, 7]       [1, 352, 7, 7]       (1,888,920)          False\n",
              "│    └─Conv2dNormActivation (8)                              [1, 352, 7, 7]       [1, 1408, 7, 7]      --                   False\n",
              "│    │    └─Conv2d (0)                                       [1, 352, 7, 7]       [1, 1408, 7, 7]      (495,616)            False\n",
              "│    │    └─BatchNorm2d (1)                                  [1, 1408, 7, 7]      [1, 1408, 7, 7]      (2,816)              False\n",
              "│    │    └─SiLU (2)                                         [1, 1408, 7, 7]      [1, 1408, 7, 7]      --                   --\n",
              "├─AdaptiveAvgPool2d (avgpool)                                [1, 1408, 7, 7]      [1, 1408, 1, 1]      --                   --\n",
              "├─Sequential (classifier)                                    [1, 1408]            [1, 101]             --                   True\n",
              "│    └─Dropout (0)                                           [1, 1408]            [1, 1408]            --                   --\n",
              "│    └─Linear (1)                                            [1, 1408]            [1, 101]             142,309              True\n",
              "============================================================================================================================================\n",
              "Total params: 7,843,303\n",
              "Trainable params: 142,309\n",
              "Non-trainable params: 7,700,994\n",
              "Total mult-adds (M): 657.78\n",
              "============================================================================================================================================\n",
              "Input size (MB): 0.60\n",
              "Forward/backward pass size (MB): 156.80\n",
              "Params size (MB): 31.37\n",
              "Estimated Total Size (MB): 188.77\n",
              "============================================================================================================================================"
            ]
          },
          "metadata": {},
          "execution_count": 8
        }
      ]
    },
    {
      "cell_type": "code",
      "source": [
        "# Since we'll be fitting our new model on a large dataset, we face the risk of overfitting\n",
        "# To avoid that, we will introduce data augmentation into the transforms\n",
        "effnetb2_full_transforms_augment = torchvision.transforms.Compose([transforms.TrivialAugmentWide(num_magnitude_bins = 31),\n",
        "                                                                   effnetb2_full_transforms])\n",
        "\n",
        "effnetb2_full_transforms_augment"
      ],
      "metadata": {
        "colab": {
          "base_uri": "https://localhost:8080/"
        },
        "id": "e9tz872eSWIT",
        "outputId": "b5a34bbb-ac75-46fd-d234-6b0133e5f59a"
      },
      "execution_count": null,
      "outputs": [
        {
          "output_type": "execute_result",
          "data": {
            "text/plain": [
              "Compose(\n",
              "    TrivialAugmentWide(num_magnitude_bins=31, interpolation=InterpolationMode.NEAREST, fill=None)\n",
              "    ImageClassification(\n",
              "    crop_size=[288]\n",
              "    resize_size=[288]\n",
              "    mean=[0.485, 0.456, 0.406]\n",
              "    std=[0.229, 0.224, 0.225]\n",
              "    interpolation=InterpolationMode.BICUBIC\n",
              ")\n",
              ")"
            ]
          },
          "metadata": {},
          "execution_count": 9
        }
      ]
    },
    {
      "cell_type": "markdown",
      "source": [
        "## Getting the data"
      ],
      "metadata": {
        "id": "XpTI1rOtZl8b"
      }
    },
    {
      "cell_type": "code",
      "source": [
        "from torchvision import datasets\n",
        "from pathlib import Path\n",
        "\n",
        "data_dir = Path('data')\n",
        "\n",
        "train_data = datasets.Food101(root = data_dir,\n",
        "                              split = 'train',\n",
        "                              transform = effnetb2_full_transforms_augment,\n",
        "                              download = True)\n",
        "\n",
        "test_data = datasets.Food101(root = data_dir,\n",
        "                             split = 'test',\n",
        "                             transform = effnetb2_full_transforms,\n",
        "                             download = True)"
      ],
      "metadata": {
        "colab": {
          "base_uri": "https://localhost:8080/"
        },
        "id": "CcEeZOlLYm0i",
        "outputId": "775948ae-530c-4139-aca8-375d51341a77"
      },
      "execution_count": null,
      "outputs": [
        {
          "output_type": "stream",
          "name": "stdout",
          "text": [
            "Downloading https://data.vision.ee.ethz.ch/cvl/food-101.tar.gz to data/food-101.tar.gz\n"
          ]
        },
        {
          "output_type": "stream",
          "name": "stderr",
          "text": [
            "100%|██████████| 4996278331/4996278331 [03:29<00:00, 23868498.49it/s]\n"
          ]
        },
        {
          "output_type": "stream",
          "name": "stdout",
          "text": [
            "Extracting data/food-101.tar.gz to data\n"
          ]
        }
      ]
    },
    {
      "cell_type": "code",
      "source": [
        "food101_classes = train_data.classes\n",
        "food101_classes[:5]"
      ],
      "metadata": {
        "colab": {
          "base_uri": "https://localhost:8080/"
        },
        "id": "B03Ey6xda3il",
        "outputId": "20639aaa-d099-48ec-ab5a-660dee73e81c"
      },
      "execution_count": null,
      "outputs": [
        {
          "output_type": "execute_result",
          "data": {
            "text/plain": [
              "['apple_pie', 'baby_back_ribs', 'baklava', 'beef_carpaccio', 'beef_tartare']"
            ]
          },
          "metadata": {},
          "execution_count": 11
        }
      ]
    },
    {
      "cell_type": "markdown",
      "source": [
        "Even though we'll be training our model on the entire class space, we will still only use 20% percent of the data in order to keep our experimennts small. If we get good results we can expand and use more data."
      ],
      "metadata": {
        "id": "eoWuWk-CiWux"
      }
    },
    {
      "cell_type": "code",
      "source": [
        "# Creating a function to split the dataset\n",
        "def split_data(data: torchvision.datasets,\n",
        "               split_size: float = 0.2,\n",
        "               seed: int = 42):\n",
        "  length_1 = int(len(data) * split_size)\n",
        "  length_2 = len(data) - length_1\n",
        "\n",
        "  print(f'[INFO] Splitting dataset of length {len(data)} into splits of lengths {length_1} and {length_2}')\n",
        "\n",
        "  random_split_1, random_split_2 = torch.utils.data.random_split(dataset = data,\n",
        "                                                                 lengths = [length_1, length_2],\n",
        "                                                                 generator = torch.manual_seed(seed))\n",
        "\n",
        "  return random_split_1, random_split_2"
      ],
      "metadata": {
        "id": "0guNOqyycKye"
      },
      "execution_count": 10,
      "outputs": []
    },
    {
      "cell_type": "code",
      "source": [
        "# Creating the splits\n",
        "train_data_20_percent, _ = split_data(data = train_data,\n",
        "                                      split_size = 0.2,\n",
        "                                      seed = 42)\n",
        "\n",
        "test_data_20_percent, _ = split_data(data = test_data,\n",
        "                                  split_size = 0.2,\n",
        "                                  seed = 42)"
      ],
      "metadata": {
        "colab": {
          "base_uri": "https://localhost:8080/"
        },
        "id": "KFTp6hGkkzmn",
        "outputId": "417acbc3-9ee3-4e4c-ba9f-591c9544961f"
      },
      "execution_count": null,
      "outputs": [
        {
          "output_type": "stream",
          "name": "stdout",
          "text": [
            "[INFO] Splitting dataset of length 75750 into splits of lengths 15150 and 60600\n",
            "[INFO] Splitting dataset of length 25250 into splits of lengths 5050 and 20200\n"
          ]
        }
      ]
    },
    {
      "cell_type": "code",
      "source": [
        "len(train_data_20_percent), len(test_data_20_percent)"
      ],
      "metadata": {
        "colab": {
          "base_uri": "https://localhost:8080/"
        },
        "id": "XRy39eO6lPpu",
        "outputId": "2c91f372-2f37-4f39-b821-271c95232cba"
      },
      "execution_count": null,
      "outputs": [
        {
          "output_type": "execute_result",
          "data": {
            "text/plain": [
              "(15150, 5050)"
            ]
          },
          "metadata": {},
          "execution_count": 14
        }
      ]
    },
    {
      "cell_type": "markdown",
      "source": [
        "## Creating dataloaders"
      ],
      "metadata": {
        "id": "sXyDZ3bBlunk"
      }
    },
    {
      "cell_type": "code",
      "source": [
        "import os\n",
        "\n",
        "train_dataloader_full = torch.utils.data.DataLoader(dataset = train_data_20_percent,\n",
        "                                                    batch_size = 32,\n",
        "                                                    shuffle = True,\n",
        "                                                    num_workers = os.cpu_count())\n",
        "\n",
        "test_dataloader_full = torch.utils.data.DataLoader(dataset = test_data_20_percent,\n",
        "                                                   batch_size = 32,\n",
        "                                                   shuffle = False,\n",
        "                                                   num_workers = os.cpu_count())"
      ],
      "metadata": {
        "id": "zc5CjDSolZDO"
      },
      "execution_count": null,
      "outputs": []
    },
    {
      "cell_type": "code",
      "source": [
        "len(train_dataloader_full), len(test_dataloader_full)"
      ],
      "metadata": {
        "colab": {
          "base_uri": "https://localhost:8080/"
        },
        "id": "eyycWaidmWqM",
        "outputId": "e81324fa-7e31-462e-bd33-8f0a5c15b8da"
      },
      "execution_count": null,
      "outputs": [
        {
          "output_type": "execute_result",
          "data": {
            "text/plain": [
              "(474, 158)"
            ]
          },
          "metadata": {},
          "execution_count": 17
        }
      ]
    },
    {
      "cell_type": "markdown",
      "source": [
        "## Training the model"
      ],
      "metadata": {
        "id": "OsTno82ao-R3"
      }
    },
    {
      "cell_type": "markdown",
      "source": [
        "Here, we will introduce [Label Smoothing](https://towardsdatascience.com/what-is-label-smoothing-108debd7ef06), as advised by PyTorch SOTA, in order to introduce more regularization and noise for the labels, and consequently reduce overfitting and our model's confidence when assigning a label to an image."
      ],
      "metadata": {
        "id": "4u9BQlZ2qOOB"
      }
    },
    {
      "cell_type": "code",
      "source": [
        "# Setting-up the training process\n",
        "set_seeds()\n",
        "\n",
        "optimizer = torch.optim.Adam(params = effnetb2_full.parameters(),\n",
        "                             lr = 1e-3)\n",
        "\n",
        "loss_fn = nn.CrossEntropyLoss(label_smoothing = 0.1)\n",
        "\n",
        "effnetb2_full_results = engine.train(model = effnetb2_full,\n",
        "                                     train_dataloader = train_dataloader_full,\n",
        "                                     test_dataloader = test_dataloader_full,\n",
        "                                     optimizer = optimizer,\n",
        "                                     loss_fn = loss_fn,\n",
        "                                     epochs = 5,\n",
        "                                     device = device)"
      ],
      "metadata": {
        "colab": {
          "base_uri": "https://localhost:8080/",
          "height": 140,
          "referenced_widgets": [
            "31e5fdce25e641eea4d93cbe60538c91",
            "d0fa7a9808db4ae28857bad99a7464bf",
            "8a8986f4bdd5482d946ab1ab8e483cf3",
            "cb42956a82514cffaa52f2156404f773",
            "551b5e9722ca492c9f1f309f7e9e97fd",
            "e8c1e85a7bb045c68ae7cead65445373",
            "c48e3403c35b40748044db3696a60b52",
            "0c7b24d6b3ed4368942425eafea99fc9",
            "6713756dc6434a11ae8be0fa4ccbc0e6",
            "77f8d149e4cc4c8ab5360ff04a6167fb",
            "19e4ca951bab4ce2a3b282bad2922265"
          ]
        },
        "id": "1Jo2xlLbokNL",
        "outputId": "79a162f5-841f-41f6-aad1-c61213e7268c"
      },
      "execution_count": null,
      "outputs": [
        {
          "output_type": "display_data",
          "data": {
            "text/plain": [
              "  0%|          | 0/5 [00:00<?, ?it/s]"
            ],
            "application/vnd.jupyter.widget-view+json": {
              "version_major": 2,
              "version_minor": 0,
              "model_id": "31e5fdce25e641eea4d93cbe60538c91"
            }
          },
          "metadata": {}
        },
        {
          "output_type": "stream",
          "name": "stdout",
          "text": [
            "Epoch: 1 | train_loss: 3.6422 | train_acc: 0.2795 | test_loss: 2.7824 | test_acc: 0.4903\n",
            "Epoch: 2 | train_loss: 2.8626 | train_acc: 0.4410 | test_loss: 2.4729 | test_acc: 0.5334\n",
            "Epoch: 3 | train_loss: 2.6559 | train_acc: 0.4866 | test_loss: 2.3633 | test_acc: 0.5556\n",
            "Epoch: 4 | train_loss: 2.5455 | train_acc: 0.5124 | test_loss: 2.3022 | test_acc: 0.5751\n",
            "Epoch: 5 | train_loss: 2.4963 | train_acc: 0.5235 | test_loss: 2.2799 | test_acc: 0.5810\n"
          ]
        }
      ]
    },
    {
      "cell_type": "code",
      "source": [
        "# Checking the loss and accuracy curves\n",
        "from helper_functions import plot_loss_curves\n",
        "\n",
        "plot_loss_curves(effnetb2_full_results)"
      ],
      "metadata": {
        "colab": {
          "base_uri": "https://localhost:8080/",
          "height": 641
        },
        "id": "S7gTNSwwsBkc",
        "outputId": "334fd38a-5d95-4898-dc7c-46d86b051e4b"
      },
      "execution_count": null,
      "outputs": [
        {
          "output_type": "display_data",
          "data": {
            "text/plain": [
              "<Figure size 1500x700 with 2 Axes>"
            ],
            "image/png": "[encoded data removed]"
          },
          "metadata": {}
        }
      ]
    },
    {
      "cell_type": "code",
      "source": [
        "# Saving the model\n",
        "from going_modular.going_modular import utils\n",
        "\n",
        "effnetb2_food101_model_path = \"effnetb2_full.pth\"\n",
        "\n",
        "utils.save_model(model=effnetb2_full,\n",
        "                 target_dir=\"models\",\n",
        "                 model_name=effnetb2_food101_model_path)"
      ],
      "metadata": {
        "colab": {
          "base_uri": "https://localhost:8080/"
        },
        "id": "hxS1VSNsxQKu",
        "outputId": "c6fc764c-6acf-453e-e230-d4674e2e7f32"
      },
      "execution_count": null,
      "outputs": [
        {
          "output_type": "stream",
          "name": "stdout",
          "text": [
            "[INFO] Saving model to: models/effnetb2_full.pth\n"
          ]
        }
      ]
    },
    {
      "cell_type": "markdown",
      "source": [
        "Even using 20% of the original data, and training for only 5 epochs, we got better accuracy (58.1%) than the accuracy in the original Food101 research paper (56.4%), with a training time of about 20 minutes vs. the original 6 days!\n",
        "\n",
        "As an extension, we could train the model for longer (e.g. 10 epochs) and / or use a bigger split of the original (e.g. 30% of the original data)."
      ],
      "metadata": {
        "id": "BiN0WnZXz3w4"
      }
    },
    {
      "cell_type": "markdown",
      "source": [
        "# Uploading the model as an app to Hugging Face"
      ],
      "metadata": {
        "id": "Q56ZGVHQzOuS"
      }
    },
    {
      "cell_type": "markdown",
      "source": [
        "## Creating the Gradio demo"
      ],
      "metadata": {
        "id": "gQ3P8ZsenitJ"
      }
    },
    {
      "cell_type": "code",
      "source": [
        "# Creating a new EffNetB2 feature extractor and transforms instances\n",
        "loaded_effnetb2_full, effnetb2_transforms = create_effnetb2(num_class=101)\n",
        "\n",
        "# Loading the saved model's state_dict() into the created EffNetB2 instance\n",
        "loaded_effnetb2_full.load_state_dict(torch.load(\"models/effnetb2_full.pth\"))"
      ],
      "metadata": {
        "colab": {
          "base_uri": "https://localhost:8080/"
        },
        "id": "tB7bPJkcxQH6",
        "outputId": "c4b36df7-ee1e-45f5-fe8e-02ac4b2ae237"
      },
      "execution_count": null,
      "outputs": [
        {
          "output_type": "execute_result",
          "data": {
            "text/plain": [
              "<All keys matched successfully>"
            ]
          },
          "metadata": {},
          "execution_count": 6
        }
      ]
    },
    {
      "cell_type": "code",
      "source": [
        "# Creating the predict function that will map the inputs to the outputs\n",
        "from typing import Tuple, Dict\n",
        "from timeit import default_timer as timer\n",
        "from PIL import Image\n",
        "import torch\n",
        "\n",
        "def predict(img) -> Tuple[Dict, float]:\n",
        "  start_time = timer()\n",
        "\n",
        "  transformed_img = effnetb2_transforms(img).unsqueeze(0)\n",
        "\n",
        "  loaded_effnetb2_full.eval()\n",
        "  with torch.inference_mode():\n",
        "    y_logits = loaded_effnetb2_full(transformed_img)\n",
        "    y_preds = torch.softmax(y_logits, dim = 1)\n",
        "    y_pred_prob = {food101_classes[i]: float(y_preds[0][i]) for i in range(len(food101_classes))}\n",
        "\n",
        "  end_time = timer()\n",
        "  pred_time = round(end_time - start_time, 4)\n",
        "\n",
        "  return y_pred_prob, pred_time"
      ],
      "metadata": {
        "id": "L1FqHSCBzlUs"
      },
      "execution_count": null,
      "outputs": []
    },
    {
      "cell_type": "code",
      "source": [
        "# Downloading and importing Gradio\n",
        "try:\n",
        "  import gradio\n",
        "except:\n",
        "  !pip install -q gradio\n",
        "  import gradio"
      ],
      "metadata": {
        "colab": {
          "base_uri": "https://localhost:8080/"
        },
        "id": "8kEUxhpai_O_",
        "outputId": "ba611bdd-188c-40bd-9c3a-a28998323e1f"
      },
      "execution_count": null,
      "outputs": [
        {
          "output_type": "stream",
          "name": "stdout",
          "text": [
            "\u001b[2K     \u001b[90m━━━━━━━━━━━━━━━━━━━━━━━━━━━━━━━━━━━━━━━━\u001b[0m \u001b[32m17.1/17.1 MB\u001b[0m \u001b[31m47.6 MB/s\u001b[0m eta \u001b[36m0:00:00\u001b[0m\n",
            "\u001b[2K     \u001b[90m━━━━━━━━━━━━━━━━━━━━━━━━━━━━━━━━━━━━━━━━\u001b[0m \u001b[32m91.9/91.9 kB\u001b[0m \u001b[31m11.3 MB/s\u001b[0m eta \u001b[36m0:00:00\u001b[0m\n",
            "\u001b[?25h  Preparing metadata (setup.py) ... \u001b[?25l\u001b[?25hdone\n",
            "\u001b[2K     \u001b[90m━━━━━━━━━━━━━━━━━━━━━━━━━━━━━━━━━━━━━━━━\u001b[0m \u001b[32m312.4/312.4 kB\u001b[0m \u001b[31m36.5 MB/s\u001b[0m eta \u001b[36m0:00:00\u001b[0m\n",
            "\u001b[2K     \u001b[90m━━━━━━━━━━━━━━━━━━━━━━━━━━━━━━━━━━━━━━━━\u001b[0m \u001b[32m75.6/75.6 kB\u001b[0m \u001b[31m9.4 MB/s\u001b[0m eta \u001b[36m0:00:00\u001b[0m\n",
            "\u001b[2K     \u001b[90m━━━━━━━━━━━━━━━━━━━━━━━━━━━━━━━━━━━━━━━━\u001b[0m \u001b[32m144.8/144.8 kB\u001b[0m \u001b[31m18.8 MB/s\u001b[0m eta \u001b[36m0:00:00\u001b[0m\n",
            "\u001b[2K     \u001b[90m━━━━━━━━━━━━━━━━━━━━━━━━━━━━━━━━━━━━━━━━\u001b[0m \u001b[32m8.7/8.7 MB\u001b[0m \u001b[31m66.6 MB/s\u001b[0m eta \u001b[36m0:00:00\u001b[0m\n",
            "\u001b[2K     \u001b[90m━━━━━━━━━━━━━━━━━━━━━━━━━━━━━━━━━━━━━━━━\u001b[0m \u001b[32m60.8/60.8 kB\u001b[0m \u001b[31m8.2 MB/s\u001b[0m eta \u001b[36m0:00:00\u001b[0m\n",
            "\u001b[2K     \u001b[90m━━━━━━━━━━━━━━━━━━━━━━━━━━━━━━━━━━━━━━━━\u001b[0m \u001b[32m129.9/129.9 kB\u001b[0m \u001b[31m16.2 MB/s\u001b[0m eta \u001b[36m0:00:00\u001b[0m\n",
            "\u001b[2K     \u001b[90m━━━━━━━━━━━━━━━━━━━━━━━━━━━━━━━━━━━━━━━━\u001b[0m \u001b[32m77.9/77.9 kB\u001b[0m \u001b[31m9.2 MB/s\u001b[0m eta \u001b[36m0:00:00\u001b[0m\n",
            "\u001b[2K     \u001b[90m━━━━━━━━━━━━━━━━━━━━━━━━━━━━━━━━━━━━━━━━\u001b[0m \u001b[32m58.3/58.3 kB\u001b[0m \u001b[31m7.7 MB/s\u001b[0m eta \u001b[36m0:00:00\u001b[0m\n",
            "\u001b[2K     \u001b[90m━━━━━━━━━━━━━━━━━━━━━━━━━━━━━━━━━━━━━━━━\u001b[0m \u001b[32m71.9/71.9 kB\u001b[0m \u001b[31m9.6 MB/s\u001b[0m eta \u001b[36m0:00:00\u001b[0m\n",
            "\u001b[?25h  Building wheel for ffmpy (setup.py) ... \u001b[?25l\u001b[?25hdone\n"
          ]
        }
      ]
    },
    {
      "cell_type": "code",
      "source": [
        "# Creating the examples list\n",
        "import random\n",
        "data_path = Path('data/food-101/images')\n",
        "random_img_list = random.sample(list(data_path.glob('*/*.jpg')), k = 5)\n",
        "\n",
        "example_img_list = [[str(image_path)] for image_path in random_img_list]"
      ],
      "metadata": {
        "id": "nrkNm8atjqFD"
      },
      "execution_count": null,
      "outputs": []
    },
    {
      "cell_type": "code",
      "source": [
        "example_img_list"
      ],
      "metadata": {
        "colab": {
          "base_uri": "https://localhost:8080/"
        },
        "id": "vFXi35rRmwWJ",
        "outputId": "f09ac47b-541d-44ee-ea9f-ae113c38f3e4"
      },
      "execution_count": null,
      "outputs": [
        {
          "output_type": "execute_result",
          "data": {
            "text/plain": [
              "[['data/food-101/images/pancakes/1523930.jpg'],\n",
              " ['data/food-101/images/gnocchi/1337114.jpg'],\n",
              " ['data/food-101/images/chicken_curry/352284.jpg'],\n",
              " ['data/food-101/images/fish_and_chips/534192.jpg'],\n",
              " ['data/food-101/images/beef_carpaccio/1598003.jpg']]"
            ]
          },
          "metadata": {},
          "execution_count": 44
        }
      ]
    },
    {
      "cell_type": "code",
      "source": [
        "# Building the Gradio demo app\n",
        "import gradio as gr\n",
        "\n",
        "demo = gr.Interface(fn = predict,\n",
        "                    inputs = gr.Image(type = 'pil',\n",
        "                                      label = 'Image'),\n",
        "                    outputs = [gr.Label(num_top_classes = 5,\n",
        "                                        label = 'Prediction Probabilities'),\n",
        "                               gr.Number(label = 'Prediction Time (seconds)')],\n",
        "                    examples = example_img_list,\n",
        "                    title = 'Food101 Classification',\n",
        "                    description = 'An EfficientNetB2 feature extractor CV model to classify images of Food101 dataset.')\n",
        "\n",
        "demo.launch(share = True,\n",
        "            debug = False)"
      ],
      "metadata": {
        "colab": {
          "base_uri": "https://localhost:8080/",
          "height": 613
        },
        "id": "omFVopi0hY2I",
        "outputId": "d001cc15-0515-4428-f6df-36569ff36655"
      },
      "execution_count": null,
      "outputs": [
        {
          "output_type": "stream",
          "name": "stdout",
          "text": [
            "Colab notebook detected. To show errors in colab notebook, set debug=True in launch()\n",
            "Running on public URL: https://c18e6a97e0029c7b08.gradio.live\n",
            "\n",
            "This share link expires in 72 hours. For free permanent hosting and GPU upgrades, run `gradio deploy` from Terminal to deploy to Spaces (https://huggingface.co/spaces)\n"
          ]
        },
        {
          "output_type": "display_data",
          "data": {
            "text/plain": [
              "<IPython.core.display.HTML object>"
            ],
            "text/html": [
              "<div><iframe src=\"https://c18e6a97e0029c7b08.gradio.live\" width=\"100%\" height=\"500\" allow=\"autoplay; camera; microphone; clipboard-read; clipboard-write;\" frameborder=\"0\" allowfullscreen></iframe></div>"
            ]
          },
          "metadata": {}
        },
        {
          "output_type": "execute_result",
          "data": {
            "text/plain": []
          },
          "metadata": {},
          "execution_count": 45
        }
      ]
    },
    {
      "cell_type": "markdown",
      "source": [
        "## Building out the directory to deploy to Hugging Face"
      ],
      "metadata": {
        "id": "jGIudOy_sSwE"
      }
    },
    {
      "cell_type": "markdown",
      "source": [
        "```\n",
        "demos/\n",
        "  food101_classifier/\n",
        "    effnetb2_full.pth\n",
        "    app.py\n",
        "    class_names.txt\n",
        "    examples/\n",
        "      example_1.jpg\n",
        "      example_2.jpg\n",
        "      example_3.jpg\n",
        "    model.py\n",
        "    requirements.txt\n",
        "```"
      ],
      "metadata": {
        "id": "zoaJIpMpsa1i"
      }
    },
    {
      "cell_type": "code",
      "source": [
        "# Creating the main path\n",
        "from pathlib import Path\n",
        "\n",
        "food101_classifier_demo = Path('demos/Food101_classifier')\n",
        "food101_classifier_demo.mkdir(parents = True, exist_ok = True)\n",
        "\n",
        "(food101_classifier_demo / 'examples').mkdir(parents = True, exist_ok = True)"
      ],
      "metadata": {
        "id": "6RSEPzW1lvOs"
      },
      "execution_count": null,
      "outputs": []
    },
    {
      "cell_type": "code",
      "source": [
        "# Moving the model into the directory\n",
        "import shutil\n",
        "\n",
        "shutil.move(src = 'models/effnetb2_full.pth', dst = 'demos/Food101_classifier')"
      ],
      "metadata": {
        "colab": {
          "base_uri": "https://localhost:8080/",
          "height": 36
        },
        "id": "R8wIdEFmuNLx",
        "outputId": "3af43a7b-49da-4985-fda3-7f2ef4a3bb2d"
      },
      "execution_count": null,
      "outputs": [
        {
          "output_type": "execute_result",
          "data": {
            "text/plain": [
              "'demos/Food101_classifier/effnetb2_full.pth'"
            ],
            "application/vnd.google.colaboratory.intrinsic+json": {
              "type": "string"
            }
          },
          "metadata": {},
          "execution_count": 47
        }
      ]
    },
    {
      "cell_type": "code",
      "source": [
        "# Turning the examples folder into a list of list\n",
        "example_list = [[\"examples/\" + example] for example in os.listdir(food101_classifier_demo / 'examples')]\n",
        "example_list"
      ],
      "metadata": {
        "colab": {
          "base_uri": "https://localhost:8080/"
        },
        "id": "17VstT0mx5Yc",
        "outputId": "f29cedc3-0475-4e09-877f-628f4fdc9649"
      },
      "execution_count": null,
      "outputs": [
        {
          "output_type": "execute_result",
          "data": {
            "text/plain": [
              "[['examples/Falafel.jpg'],\n",
              " ['examples/Onion Soup.jpg'],\n",
              " ['examples/Maki-zushi.jpg'],\n",
              " ['examples/Pancakes.jpg'],\n",
              " ['examples/Donuts.jpg'],\n",
              " ['examples/Pizza.jpg']]"
            ]
          },
          "metadata": {},
          "execution_count": 50
        }
      ]
    },
    {
      "cell_type": "code",
      "source": [
        "# Saving class names to a text file\n",
        "class_names_file = food101_classifier_demo / 'class_names.txt'\n",
        "class_names_file\n",
        "\n",
        "with open(class_names_file, 'w') as f:\n",
        "  print(f'[INFO] Saving Food101 class names to {class_names_file}')\n",
        "  f.write('\\n'.join(food101_classes))"
      ],
      "metadata": {
        "colab": {
          "base_uri": "https://localhost:8080/"
        },
        "id": "U-Bq5GzPx-nb",
        "outputId": "0d529b5e-b5da-4213-c1b8-cf7d512b639d"
      },
      "execution_count": null,
      "outputs": [
        {
          "output_type": "execute_result",
          "data": {
            "text/plain": [
              "PosixPath('demos/Food101_classifier/class_names.txt')"
            ]
          },
          "metadata": {},
          "execution_count": 63
        }
      ]
    },
    {
      "cell_type": "code",
      "source": [
        "# Reading file with class names and saving them as a list in a variable\n",
        "with open(class_names_file, 'r') as f:\n",
        "  food101_classes_loaded = [class_name.strip() for class_name in f.readlines()]"
      ],
      "metadata": {
        "id": "LKNr9RQh-7yB"
      },
      "execution_count": null,
      "outputs": []
    },
    {
      "cell_type": "code",
      "source": [
        "# Creating the model.py script\n",
        "%%writefile demos/Food101_classifier/model.py\n",
        "import torch\n",
        "import torchvision\n",
        "\n",
        "from torch import nn\n",
        "def create_effnetb2(num_class: int,\n",
        "                    seed: int = 42):\n",
        "  \"\"\"\n",
        "  A class to create an EfficientNetB2 feature extractor with DEFAULT weights\n",
        "\n",
        "  Args:\n",
        "    num_class (int): number of classes in the classifier head (int).\n",
        "    seed (int): random seed values (int, default = 42)\n",
        "\n",
        "  Returns:\n",
        "    model (torch.nn.Module): an instance of the EfficientNetB2 feature extractor with DEFAULT weights.\n",
        "    transforms (torchvision.transforms): an instant of the EfficientNetB2 transforms\n",
        "  \"\"\"\n",
        "  weights = torchvision.models.EfficientNet_B2_Weights.DEFAULT\n",
        "  transforms = weights.transforms()\n",
        "  model = torchvision.models.efficientnet_b2(weights = weights)\n",
        "\n",
        "  for param in model.features.parameters():\n",
        "    param.requires_grad = False\n",
        "\n",
        "  torch.manual_seed(seed)\n",
        "  torch.cuda.manual_seed(seed)\n",
        "\n",
        "  model.classifier = nn.Sequential(\n",
        "      nn.Dropout(p = 0.3, inplace = True),\n",
        "      nn.Linear(in_features = 1408, out_features = num_class, bias = True)\n",
        "  )\n",
        "\n",
        "  return model, transforms"
      ],
      "metadata": {
        "colab": {
          "base_uri": "https://localhost:8080/"
        },
        "id": "xptgJxud_tIT",
        "outputId": "959b5e53-f2be-4c2e-e798-717eb6d34716"
      },
      "execution_count": null,
      "outputs": [
        {
          "output_type": "stream",
          "name": "stdout",
          "text": [
            "Writing demos/Food101_classifier/model.py\n"
          ]
        }
      ]
    },
    {
      "cell_type": "code",
      "source": [
        "# Creating the app.py script\n",
        "%%writefile demos/Food101_classifier/app.py\n",
        "from typing import Tuple, Dict\n",
        "from timeit import default_timer as timer\n",
        "from PIL import Image\n",
        "import torch\n",
        "import gradio as gr\n",
        "import os\n",
        "from model import create_effnetb2\n",
        "\n",
        "# Creating the model and transforms\n",
        "effnetb2_full, effnetb2_transforms = create_effnetb2(num_class=101,\n",
        "                                                     seed = 42)\n",
        "\n",
        "# Loading the saved model's state_dict() into the created EffNetB2 instance\n",
        "effnetb2_full.load_state_dict(torch.load(\"effnetb2_full.pth\"))\n",
        "\n",
        "# Getting the list of class names from class_names.txt\n",
        "with open('class_names.txt', 'r') as f:\n",
        "  food101_classes_loaded = [class_name.strip() for class_name in f.readlines()]\n",
        "\n",
        " # Creating the examples list\n",
        "example_list = [[\"examples/\" + example] for example in os.listdir('examples')]\n",
        "example_list\n",
        "\n",
        "# Main gradio function\n",
        "def predict(img) -> Tuple[Dict, float]:\n",
        "\n",
        "  start_time = timer()\n",
        "\n",
        "  transformed_img = effnetb2_transforms(img).unsqueeze(0)\n",
        "\n",
        "  effnetb2_full.eval()\n",
        "  with torch.inference_mode():\n",
        "    y_logits = effnetb2_full(transformed_img)\n",
        "    y_preds = torch.softmax(y_logits, dim = 1)\n",
        "    y_pred_prob = {food101_classes_loaded[i]: float(y_preds[0][i]) for i in range(len(food101_classes_loaded))}\n",
        "\n",
        "  end_time = timer()\n",
        "  pred_time = round(end_time - start_time, 4)\n",
        "\n",
        "  return y_pred_prob, pred_time\n",
        "\n",
        "# Creating the app interface\n",
        "demo = gr.Interface(fn = predict,\n",
        "                    inputs = gr.Image(type = 'pil',\n",
        "                                      label = 'Image'),\n",
        "                    outputs = [gr.Label(num_top_classes = 5,\n",
        "                                        label = 'Prediction Probabilities'),\n",
        "                               gr.Number(label = 'Prediction Time (seconds)')],\n",
        "                    examples = [example_list],\n",
        "                    title = 'Food101 Classifier',\n",
        "                    description = 'An EfficientNetB2 feature extractor CV model to classify images of Food101 dataset.')\n",
        "\n",
        "demo.launch(share = True,\n",
        "            debug = False)"
      ],
      "metadata": {
        "colab": {
          "base_uri": "https://localhost:8080/"
        },
        "id": "K9ye2S0bBY2t",
        "outputId": "d1ba375d-d278-47c4-c2f4-59056e4d4ed6"
      },
      "execution_count": null,
      "outputs": [
        {
          "output_type": "stream",
          "name": "stdout",
          "text": [
            "Writing demos/Food101_classifier/app.py\n"
          ]
        }
      ]
    },
    {
      "cell_type": "code",
      "source": [
        "# Creating the requirements.txt file\n",
        "%%writefile demos/Food101_classifier/requirements.txt\n",
        "torch==2.2.1\n",
        "torchvision==0.17.1\n",
        "gradio==4.24.0"
      ],
      "metadata": {
        "colab": {
          "base_uri": "https://localhost:8080/"
        },
        "id": "x9mmNsFqCqgB",
        "outputId": "52a4ff03-33cb-4707-93fe-f948d63183ac"
      },
      "execution_count": null,
      "outputs": [
        {
          "output_type": "stream",
          "name": "stdout",
          "text": [
            "Writing demos/Food101_classifier/requirements.txt\n"
          ]
        }
      ]
    },
    {
      "cell_type": "code",
      "source": [
        "# Zipping to download as a single file\n",
        "!cd demos/Food101_classifier && zip -r ../food101_classifier.zip * -x \"*.pyc\" \"*.ipynb\" \"*__pycache__*\" \"*ipynb_checkpoints*\""
      ],
      "metadata": {
        "colab": {
          "base_uri": "https://localhost:8080/"
        },
        "id": "56d1V7C3F2zu",
        "outputId": "580b2519-1bb3-4d12-e03b-379fa401696a"
      },
      "execution_count": null,
      "outputs": [
        {
          "output_type": "stream",
          "name": "stdout",
          "text": [
            "  adding: app.py (deflated 58%)\n",
            "  adding: class_names.txt (deflated 48%)\n",
            "  adding: effnetb2_full.pth (deflated 8%)\n",
            "  adding: examples/ (stored 0%)\n",
            "  adding: examples/Falafel.jpg (deflated 2%)\n",
            "  adding: examples/Onion Soup.jpg (deflated 1%)\n",
            "  adding: examples/Maki-zushi.jpg (deflated 0%)\n",
            "  adding: examples/Pancakes.jpg (deflated 0%)\n",
            "  adding: examples/Donuts.jpg (deflated 1%)\n",
            "  adding: examples/Pizza.jpg (deflated 0%)\n",
            "  adding: model.py (deflated 55%)\n",
            "  adding: requirements.txt (deflated 4%)\n"
          ]
        }
      ]
    },
    {
      "cell_type": "markdown",
      "source": [
        "This was the final step.\n",
        "\n",
        "After that, we downloaded the zip file and uploaded its contents into a Hugging Face Space repository"
      ],
      "metadata": {
        "id": "hOp8BFpiPzjH"
      }
    },
    {
      "cell_type": "code",
      "source": [
        "# Embeding FoodVision Mini Gradio demo\n",
        "from IPython.display import IFrame\n",
        "\n",
        "IFrame(src=\"https://hf.space/embed/waleedgeorgy/food101classifier/+\", width=900, height=750)"
      ],
      "metadata": {
        "colab": {
          "base_uri": "https://localhost:8080/",
          "height": 771
        },
        "id": "tBtrxxiZGlaQ",
        "outputId": "9ed4a805-9420-49d6-fc12-ba5fa4143aa5"
      },
      "execution_count": null,
      "outputs": [
        {
          "output_type": "execute_result",
          "data": {
            "text/plain": [
              "<IPython.lib.display.IFrame at 0x7991631c7610>"
            ],
            "text/html": [
              "\n",
              "        <iframe\n",
              "            width=\"900\"\n",
              "            height=\"750\"\n",
              "            src=\"https://hf.space/embed/waleedgeorgy/food101classifier/+\"\n",
              "            frameborder=\"0\"\n",
              "            allowfullscreen\n",
              "            \n",
              "        ></iframe>\n",
              "        "
            ]
          },
          "metadata": {},
          "execution_count": 82
        }
      ]
    },
    {
      "cell_type": "markdown",
      "source": [
        "# Training a new model on a larger dataset"
      ],
      "metadata": {
        "id": "v4fyqSug9yih"
      }
    },
    {
      "cell_type": "code",
      "source": [
        "# A class to creat an EffnetB3 model and transforms\n",
        "import torchvision\n",
        "import torch\n",
        "from torch import nn\n",
        "\n",
        "def create_effnetb3(num_class: int,\n",
        "                    seed: int = 42):\n",
        "  \"\"\"\n",
        "  A class to create an EfficientNetB3 feature extractor with DEFAULT weights\n",
        "\n",
        "  Args:\n",
        "    num_class (int): number of classes in the classifier head (int).\n",
        "    seed (int): random seed values (int, default = 42)\n",
        "\n",
        "  Returns:\n",
        "    model (torch.nn.Module): an instance of the EfficientNetB3 feature extractor with DEFAULT weights.\n",
        "    transforms (torchvision.transforms): an instant of the EfficientNetB2 transforms\n",
        "  \"\"\"\n",
        "  weights = torchvision.models.EfficientNet_B3_Weights.DEFAULT\n",
        "  transforms = weights.transforms()\n",
        "  model = torchvision.models.efficientnet_b3(weights = weights)\n",
        "\n",
        "  for param in model.features.parameters():\n",
        "    param.requires_grad = False\n",
        "\n",
        "  torch.manual_seed(seed)\n",
        "  torch.cuda.manual_seed(seed)\n",
        "\n",
        "  model.classifier = nn.Sequential(\n",
        "      nn.Dropout(p = 0.3, inplace = True),\n",
        "      nn.Linear(in_features = 1536, out_features = num_class, bias = True)\n",
        "  )\n",
        "\n",
        "  return model, transforms"
      ],
      "metadata": {
        "id": "NTFedN3ZAOVO"
      },
      "execution_count": 4,
      "outputs": []
    },
    {
      "cell_type": "code",
      "source": [
        "effnetb3_full, effnetb3_transforms = create_effnetb3(num_class = 101,\n",
        "                                                    seed = 42)"
      ],
      "metadata": {
        "id": "wBlVfxTXQWNB",
        "colab": {
          "base_uri": "https://localhost:8080/"
        },
        "outputId": "7aaab82a-6396-4a97-cecf-d5e4db9893ea"
      },
      "execution_count": 5,
      "outputs": [
        {
          "output_type": "stream",
          "name": "stderr",
          "text": [
            "Downloading: \"https://download.pytorch.org/models/efficientnet_b3_rwightman-b3899882.pth\" to /root/.cache/torch/hub/checkpoints/efficientnet_b3_rwightman-b3899882.pth\n",
            "100%|██████████| 47.2M/47.2M [00:00<00:00, 155MB/s]\n"
          ]
        }
      ]
    },
    {
      "cell_type": "code",
      "source": [
        "from torchvision import transforms\n",
        "effnetb3_transforms_augment = torchvision.transforms.Compose([transforms.TrivialAugmentWide(num_magnitude_bins = 31),\n",
        "                                                              effnetb3_transforms])\n",
        "\n",
        "effnetb3_transforms_augment"
      ],
      "metadata": {
        "colab": {
          "base_uri": "https://localhost:8080/"
        },
        "id": "DNfPVkBm_1nd",
        "outputId": "a5ba57d6-c204-48bd-ba62-93e30f731eb6"
      },
      "execution_count": 6,
      "outputs": [
        {
          "output_type": "execute_result",
          "data": {
            "text/plain": [
              "Compose(\n",
              "    TrivialAugmentWide(num_magnitude_bins=31, interpolation=InterpolationMode.NEAREST, fill=None)\n",
              "    ImageClassification(\n",
              "    crop_size=[300]\n",
              "    resize_size=[320]\n",
              "    mean=[0.485, 0.456, 0.406]\n",
              "    std=[0.229, 0.224, 0.225]\n",
              "    interpolation=InterpolationMode.BICUBIC\n",
              ")\n",
              ")"
            ]
          },
          "metadata": {},
          "execution_count": 6
        }
      ]
    },
    {
      "cell_type": "code",
      "source": [
        "from torchvision import datasets\n",
        "from pathlib import Path\n",
        "\n",
        "data_dir = Path('data')\n",
        "\n",
        "train_data = datasets.Food101(root = data_dir,\n",
        "                              split = 'train',\n",
        "                              transform = effnetb3_transforms_augment,\n",
        "                              download = True)\n",
        "\n",
        "test_data = datasets.Food101(root = data_dir,\n",
        "                             split = 'test',\n",
        "                             transform = effnetb3_transforms,\n",
        "                             download = True)"
      ],
      "metadata": {
        "id": "W4GR5ZNuHSe5",
        "colab": {
          "base_uri": "https://localhost:8080/"
        },
        "outputId": "ae233e12-2484-49ab-8602-c4a2f1e5b0d4"
      },
      "execution_count": 7,
      "outputs": [
        {
          "output_type": "stream",
          "name": "stdout",
          "text": [
            "Downloading https://data.vision.ee.ethz.ch/cvl/food-101.tar.gz to data/food-101.tar.gz\n"
          ]
        },
        {
          "output_type": "stream",
          "name": "stderr",
          "text": [
            "100%|██████████| 4996278331/4996278331 [04:40<00:00, 17836179.03it/s]\n"
          ]
        },
        {
          "output_type": "stream",
          "name": "stdout",
          "text": [
            "Extracting data/food-101.tar.gz to data\n"
          ]
        }
      ]
    },
    {
      "cell_type": "code",
      "source": [
        "food101_classes = train_data.classes\n",
        "food101_classes[:5]"
      ],
      "metadata": {
        "colab": {
          "base_uri": "https://localhost:8080/"
        },
        "id": "d-OG1h4NHVvs",
        "outputId": "e887ca49-8deb-4420-bb21-ba0633ee9979"
      },
      "execution_count": 8,
      "outputs": [
        {
          "output_type": "execute_result",
          "data": {
            "text/plain": [
              "['apple_pie', 'baby_back_ribs', 'baklava', 'beef_carpaccio', 'beef_tartare']"
            ]
          },
          "metadata": {},
          "execution_count": 8
        }
      ]
    },
    {
      "cell_type": "code",
      "source": [
        "# Creating a 40% split of the original Food101 dataset\n",
        "train_data_60_percent, _ = split_data(data = train_data,\n",
        "                                      split_size = 0.6,\n",
        "                                      seed = 42)\n",
        "\n",
        "test_data_60_percent, _ = split_data(data = test_data,\n",
        "                                  split_size = 0.6,\n",
        "                                  seed = 42)"
      ],
      "metadata": {
        "colab": {
          "base_uri": "https://localhost:8080/"
        },
        "id": "hWXaxjLBJK9E",
        "outputId": "deb8c69d-74e5-41f7-f2b4-8995c26c314d"
      },
      "execution_count": 11,
      "outputs": [
        {
          "output_type": "stream",
          "name": "stdout",
          "text": [
            "[INFO] Splitting dataset of length 75750 into splits of lengths 45450 and 30300\n",
            "[INFO] Splitting dataset of length 25250 into splits of lengths 15150 and 10100\n"
          ]
        }
      ]
    },
    {
      "cell_type": "code",
      "source": [
        "import os\n",
        "\n",
        "train_dataloader_full = torch.utils.data.DataLoader(dataset = train_data_60_percent,\n",
        "                                                    batch_size = 32,\n",
        "                                                    shuffle = True,\n",
        "                                                    num_workers = os.cpu_count())\n",
        "\n",
        "test_dataloader_full = torch.utils.data.DataLoader(dataset = test_data_60_percent,\n",
        "                                                   batch_size = 32,\n",
        "                                                   shuffle = False,\n",
        "                                                   num_workers = os.cpu_count())"
      ],
      "metadata": {
        "id": "WGG-ID4QJYH0"
      },
      "execution_count": 12,
      "outputs": []
    },
    {
      "cell_type": "code",
      "source": [
        "# Setting-up the training process\n",
        "set_seeds()\n",
        "\n",
        "optimizer = torch.optim.Adam(params = effnetb3_full.parameters(),\n",
        "                             lr = 1e-3)\n",
        "\n",
        "loss_fn = nn.CrossEntropyLoss(label_smoothing = 0.1)\n",
        "\n",
        "effnetb3_results = engine.train(model = effnetb3_full,\n",
        "                                train_dataloader = train_dataloader_full,\n",
        "                                test_dataloader = test_dataloader_full,\n",
        "                                optimizer = optimizer,\n",
        "                                loss_fn = loss_fn,\n",
        "                                epochs = 5,\n",
        "                                device = device)"
      ],
      "metadata": {
        "colab": {
          "base_uri": "https://localhost:8080/",
          "height": 140,
          "referenced_widgets": [
            "30047743f8a84be3a1631b7ff902a214",
            "32486b290c23423b858e39c05faf81dd",
            "783d5b8b20a34bb3b02bee5e0234c738",
            "429ae16359a5459596b9f8c8e6f102ad",
            "0aeb01d1523347769442be845c39b8a3",
            "b5dfb9f4e6f54941aa0d0ce6e5b27fd9",
            "4364c0c161fa4a3d85eaea8e7f4bb0bc",
            "a454a7b1165443e79da5cd395c8856fc",
            "4dc9164ed7a2420ca26c70dd9f861d5a",
            "d40ea226f2b24aaf8099ef79f57080f7",
            "86bcaab02f404eef8a5924512cc582be"
          ]
        },
        "id": "jSL66mydJv2S",
        "outputId": "a4683a2c-3528-4b52-a39f-5fa165aa7242"
      },
      "execution_count": 13,
      "outputs": [
        {
          "output_type": "display_data",
          "data": {
            "text/plain": [
              "  0%|          | 0/5 [00:00<?, ?it/s]"
            ],
            "application/vnd.jupyter.widget-view+json": {
              "version_major": 2,
              "version_minor": 0,
              "model_id": "30047743f8a84be3a1631b7ff902a214"
            }
          },
          "metadata": {}
        },
        {
          "output_type": "stream",
          "name": "stdout",
          "text": [
            "Epoch: 1 | train_loss: 3.1409 | train_acc: 0.3733 | test_loss: 2.2798 | test_acc: 0.5858\n",
            "Epoch: 2 | train_loss: 2.6127 | train_acc: 0.4888 | test_loss: 2.1393 | test_acc: 0.6173\n",
            "Epoch: 3 | train_loss: 2.5195 | train_acc: 0.5097 | test_loss: 2.0471 | test_acc: 0.6439\n",
            "Epoch: 4 | train_loss: 2.4724 | train_acc: 0.5243 | test_loss: 2.0349 | test_acc: 0.6458\n",
            "Epoch: 5 | train_loss: 2.4571 | train_acc: 0.5288 | test_loss: 2.0351 | test_acc: 0.6476\n"
          ]
        }
      ]
    },
    {
      "cell_type": "code",
      "source": [
        "# Checking the loss and accuracy curves\n",
        "from helper_functions import plot_loss_curves\n",
        "\n",
        "plot_loss_curves(effnetb3_results)"
      ],
      "metadata": {
        "colab": {
          "base_uri": "https://localhost:8080/",
          "height": 641
        },
        "id": "QhzB2UmjJ5Td",
        "outputId": "166079f3-6f13-4603-a4c5-bac9f6d47bdd"
      },
      "execution_count": 15,
      "outputs": [
        {
          "output_type": "display_data",
          "data": {
            "text/plain": [
              "<Figure size 1500x700 with 2 Axes>"
            ],
            "image/png": "[encoded data removed]"
          },
          "metadata": {}
        }
      ]
    },
    {
      "cell_type": "code",
      "source": [
        "# Saving the model\n",
        "from going_modular.going_modular import utils\n",
        "\n",
        "effnetb3_food101_model_path = \"effnetb3_food101_60_percent_data.pth\"\n",
        "\n",
        "utils.save_model(model=effnetb3_full,\n",
        "                 target_dir=\"models\",\n",
        "                 model_name=effnetb3_food101_model_path)"
      ],
      "metadata": {
        "colab": {
          "base_uri": "https://localhost:8080/"
        },
        "id": "JU-qAmhGTsbI",
        "outputId": "462bcfae-0955-45d8-f4c2-ff53fc942e69"
      },
      "execution_count": 16,
      "outputs": [
        {
          "output_type": "stream",
          "name": "stdout",
          "text": [
            "[INFO] Saving model to: models/effnetb3_food101_60_percent_data.pth\n"
          ]
        }
      ]
    },
    {
      "cell_type": "code",
      "source": [],
      "metadata": {
        "id": "1e8-SbFWT5VW"
      },
      "execution_count": null,
      "outputs": []
    }
  ]
}