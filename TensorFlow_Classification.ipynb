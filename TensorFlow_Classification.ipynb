{
  "nbformat": 4,
  "nbformat_minor": 0,
  "metadata": {
    "colab": {
      "provenance": [],
      "authorship_tag": "ABX9TyNxim/AGa0lJw135camRlPL",
      "include_colab_link": true
    },
    "kernelspec": {
      "name": "python3",
      "display_name": "Python 3"
    },
    "language_info": {
      "name": "python"
    }
  },
  "cells": [
    {
      "cell_type": "markdown",
      "metadata": {
        "id": "view-in-github",
        "colab_type": "text"
      },
      "source": [
        "<a href=\"https://colab.research.google.com/github/waleedGeorgy/deep-learning/blob/main/TensorFlow_Classification.ipynb\" target=\"_parent\"><img src=\"https://colab.research.google.com/assets/colab-badge.svg\" alt=\"Open In Colab\"/></a>"
      ]
    },
    {
      "cell_type": "markdown",
      "source": [
        "#Introduction and Data Preparation"
      ],
      "metadata": {
        "id": "2nFB0b5KL78h"
      }
    },
    {
      "cell_type": "markdown",
      "source": [
        "**Classification** is a supervised machine learning method where the model tries to predict the correct label of a given input data, where the label is qualitative![Screenshot 2024-05-23 213956.jpg](data:image/jpeg;base64,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). Classification can be **binary** (where a data point is classified into one of two classes), **multi-class** (where a data point is classified into one of $n$ classes) or **multilabel** classification (where a data point can be classified into multiple classes), and the ultimate goal is to correctly classify each data entry into the correct class using its features.\n",
        "\n",
        "Example of classification problems: Spam vs. Ham emails (binary classification), animal species (multiclass classification), text tagging (multilabel classification)."
      ],
      "metadata": {
        "id": "vHvfyzr2E4Yw"
      }
    },
    {
      "cell_type": "code",
      "execution_count": 2,
      "metadata": {
        "colab": {
          "base_uri": "https://localhost:8080/",
          "height": 36
        },
        "id": "tKL-OI9JEe1N",
        "outputId": "6d115af1-e077-4785-92fd-dbb1f603a8e9"
      },
      "outputs": [
        {
          "output_type": "execute_result",
          "data": {
            "text/plain": [
              "'2.15.0'"
            ],
            "application/vnd.google.colaboratory.intrinsic+json": {
              "type": "string"
            }
          },
          "metadata": {},
          "execution_count": 2
        }
      ],
      "source": [
        "import tensorflow as tf\n",
        "\n",
        "tf.__version__"
      ]
    },
    {
      "cell_type": "code",
      "source": [
        "# For starters we'll perform classification on a simple example\n",
        "# We'll use the make_circles dataset from sklearn\n",
        "from sklearn.datasets import make_circles\n",
        "\n",
        "X, y = make_circles(n_samples = 1000, # Generate 1000 datapoints\n",
        "                    noise = 0.03, # Add variation to data using Gaussian distribution\n",
        "                    random_state = 42)\n",
        "\n",
        "X[:10], y[:10]"
      ],
      "metadata": {
        "colab": {
          "base_uri": "https://localhost:8080/"
        },
        "id": "zNri5kKjFdiI",
        "outputId": "bf2991ad-c7f7-4b51-ce45-a6b71906847e"
      },
      "execution_count": 3,
      "outputs": [
        {
          "output_type": "execute_result",
          "data": {
            "text/plain": [
              "(array([[ 0.75424625,  0.23148074],\n",
              "        [-0.75615888,  0.15325888],\n",
              "        [-0.81539193,  0.17328203],\n",
              "        [-0.39373073,  0.69288277],\n",
              "        [ 0.44220765, -0.89672343],\n",
              "        [-0.47964637,  0.67643477],\n",
              "        [-0.01364836,  0.80334872],\n",
              "        [ 0.77151327,  0.14775959],\n",
              "        [-0.16932234, -0.79345575],\n",
              "        [-0.1214858 ,  1.02150905]]),\n",
              " array([1, 1, 1, 1, 0, 1, 1, 1, 1, 0]))"
            ]
          },
          "metadata": {},
          "execution_count": 3
        }
      ]
    },
    {
      "cell_type": "markdown",
      "source": [
        "As we can see the features X here are the coordinates of the datapoints and the label y is the class of the datapoints (either 0 or 1), hence this is a binary classification problem.\n",
        "\n",
        "The goal is, using the existing data, we want to train a model that will be able to accurately classify new data points into either class 0 or class 1."
      ],
      "metadata": {
        "id": "TtzIxH8gMsW3"
      }
    },
    {
      "cell_type": "code",
      "source": [
        "# Following the guidlines of model evaluation, let's first plot the data to get a general sense of what are we working with\n",
        "import matplotlib.pyplot as plt\n",
        "plt.scatter(X[:,0], # The x-axis will contain the x coordinates of all the data points\n",
        "            X[:,1], # The y-axis will contain the y coordinates of all the data points\n",
        "            c = y, # Coloring data points based off their label y\n",
        "            cmap = 'winter'); # The color palette"
      ],
      "metadata": {
        "colab": {
          "base_uri": "https://localhost:8080/",
          "height": 466
        },
        "id": "f3TZgLL6NLhu",
        "outputId": "e609f2dd-d4fc-4e2c-804f-a84dc150c327"
      },
      "execution_count": 4,
      "outputs": [
        {
          "output_type": "stream",
          "name": "stderr",
          "text": [
            "WARNING:matplotlib.legend:No artists with labels found to put in legend.  Note that artists whose label start with an underscore are ignored when legend() is called with no argument.\n"
          ]
        },
        {
          "output_type": "execute_result",
          "data": {
            "text/plain": [
              "<matplotlib.legend.Legend at 0x7b0a3dfb5990>"
            ]
          },
          "metadata": {},
          "execution_count": 4
        },
        {
          "output_type": "display_data",
          "data": {
            "text/plain": [
              "<Figure size 640x480 with 1 Axes>"
            ],
            "image/png": "[encoded data removed]"
          },
          "metadata": {}
        }
      ]
    },
    {
      "cell_type": "markdown",
      "source": [
        "By looking at the plot, our goal is to build a model that can accurately seperate the green dots (class 1) from the blue ones (class 0)."
      ],
      "metadata": {
        "id": "CIgg1rLLbd-S"
      }
    },
    {
      "cell_type": "code",
      "source": [
        "# Checking the data to determine the input and output shapes\n",
        "X[0], y[0]"
      ],
      "metadata": {
        "colab": {
          "base_uri": "https://localhost:8080/"
        },
        "id": "XFGUUzi8f4Cv",
        "outputId": "9d4e0f96-1799-4000-d3f0-7180a60f6579"
      },
      "execution_count": 9,
      "outputs": [
        {
          "output_type": "execute_result",
          "data": {
            "text/plain": [
              "(array([0.75424625, 0.23148074]), 1)"
            ]
          },
          "metadata": {},
          "execution_count": 9
        }
      ]
    },
    {
      "cell_type": "code",
      "source": [
        "X.shape, y.shape"
      ],
      "metadata": {
        "id": "GpphX56cNosA",
        "colab": {
          "base_uri": "https://localhost:8080/"
        },
        "outputId": "1f771ca7-3375-4c7c-9e12-3a41f06c8ed2"
      },
      "execution_count": 10,
      "outputs": [
        {
          "output_type": "execute_result",
          "data": {
            "text/plain": [
              "((1000, 2), (1000,))"
            ]
          },
          "metadata": {},
          "execution_count": 10
        }
      ]
    },
    {
      "cell_type": "code",
      "source": [
        "X[0].shape, y[0].shape"
      ],
      "metadata": {
        "colab": {
          "base_uri": "https://localhost:8080/"
        },
        "id": "yQNKnL6vffiG",
        "outputId": "85b55d9a-944a-446d-a9a7-4e2a4e5f4020"
      },
      "execution_count": 11,
      "outputs": [
        {
          "output_type": "execute_result",
          "data": {
            "text/plain": [
              "((2,), ())"
            ]
          },
          "metadata": {},
          "execution_count": 11
        }
      ]
    },
    {
      "cell_type": "markdown",
      "source": [
        "The model we're going to build will take the coordinates of a data point, and using them, try to classify it into either class 0 or class 1.\n",
        "The input shape for the model is (2,1), while the output is a scalar (1)"
      ],
      "metadata": {
        "id": "P6yJVjejfwvB"
      }
    },
    {
      "cell_type": "markdown",
      "source": [
        "#Building a Basic TensorFlow Classification Model"
      ],
      "metadata": {
        "id": "7metEy7xglAf"
      }
    },
    {
      "cell_type": "markdown",
      "source": [
        "Now that we have our data ready, we'll start to build the first classification model.\n",
        "\n",
        "For starters, we'll build a very basic classification model consisting of one dense layer with 1 neuron, and fit for 10 epochs.\n",
        "\n",
        "**Note:** as with any other machine learning problem, we must perform cross-validation, but since we're working with a toy dataset we did not split the data."
      ],
      "metadata": {
        "id": "_usyN33LgqJs"
      }
    },
    {
      "cell_type": "code",
      "source": [
        "# the most basic model\n",
        "tf.random.set_seed(42)\n",
        "\n",
        "model_1 = tf.keras.Sequential([\n",
        "    tf.keras.layers.Dense(1)\n",
        "])\n",
        "\n",
        "model_1.compile(loss = tf.keras.losses.BinaryCrossentropy(),\n",
        "              optimizer = tf.keras.optimizers.Adam(),\n",
        "              metrics = ['accuracy']) # Accuracy will be used as a metric, classification evaluation metrics will be discussed later\n",
        "\n",
        "model_1.fit(X, y, epochs = 10)"
      ],
      "metadata": {
        "colab": {
          "base_uri": "https://localhost:8080/"
        },
        "id": "B_fgu8ksfkk1",
        "outputId": "3ea80d77-a05d-4d51-9c5b-b9f1c861cffb"
      },
      "execution_count": 17,
      "outputs": [
        {
          "output_type": "stream",
          "name": "stdout",
          "text": [
            "Epoch 1/10\n",
            "32/32 [==============================] - 1s 2ms/step - loss: 4.3061 - accuracy: 0.5000\n",
            "Epoch 2/10\n",
            "32/32 [==============================] - 0s 2ms/step - loss: 4.1755 - accuracy: 0.5000\n",
            "Epoch 3/10\n",
            "32/32 [==============================] - 0s 2ms/step - loss: 4.0347 - accuracy: 0.5000\n",
            "Epoch 4/10\n",
            "32/32 [==============================] - 0s 2ms/step - loss: 4.0257 - accuracy: 0.5000\n",
            "Epoch 5/10\n",
            "32/32 [==============================] - 0s 2ms/step - loss: 4.0032 - accuracy: 0.5000\n",
            "Epoch 6/10\n",
            "32/32 [==============================] - 0s 2ms/step - loss: 3.9770 - accuracy: 0.5000\n",
            "Epoch 7/10\n",
            "32/32 [==============================] - 0s 2ms/step - loss: 3.9553 - accuracy: 0.5000\n",
            "Epoch 8/10\n",
            "32/32 [==============================] - 0s 2ms/step - loss: 3.8645 - accuracy: 0.5000\n",
            "Epoch 9/10\n",
            "32/32 [==============================] - 0s 2ms/step - loss: 3.7924 - accuracy: 0.5000\n",
            "Epoch 10/10\n",
            "32/32 [==============================] - 0s 2ms/step - loss: 3.7640 - accuracy: 0.5000\n"
          ]
        },
        {
          "output_type": "execute_result",
          "data": {
            "text/plain": [
              "<keras.src.callbacks.History at 0x7b0a342c4040>"
            ]
          },
          "metadata": {},
          "execution_count": 17
        }
      ]
    },
    {
      "cell_type": "markdown",
      "source": [
        "Even with such a small model we achieved an accuracy of almost 46%, but alas this is not a good result, because since we are working with binary classification problem, with a ~50% accuracy the model is simply guessing to which class should a datapoint belong.\n",
        "\n",
        "Since the results are unsatisfactory, we'll try to improve our model by following the model improvement guidelines and add more hidden layers and more neurons in each hidden layer, and/or train for longer."
      ],
      "metadata": {
        "id": "x6UPaplkiRFY"
      }
    },
    {
      "cell_type": "code",
      "source": [
        "# An improved model\n",
        "tf.random.set_seed(42)\n",
        "\n",
        "model_2 = tf.keras.Sequential([\n",
        "    tf.keras.layers.Dense(10), # New hidden layer with 10 units\n",
        "    tf.keras.layers.Dense(1)\n",
        "])\n",
        "\n",
        "model_2.compile(loss = tf.keras.losses.BinaryCrossentropy(),\n",
        "                optimizer = tf.keras.optimizers.Adam(),\n",
        "                metrics = ['accuracy'])\n",
        "\n",
        "model_2.fit(X, y, epochs = 100) # training for 100 epochs instead of 10"
      ],
      "metadata": {
        "colab": {
          "base_uri": "https://localhost:8080/"
        },
        "id": "9RNOHRz4hRqB",
        "outputId": "1ac08dd8-b9a1-4dda-cd77-756fc1acb5a9"
      },
      "execution_count": 18,
      "outputs": [
        {
          "output_type": "stream",
          "name": "stdout",
          "text": [
            "Epoch 1/100\n",
            "32/32 [==============================] - 1s 2ms/step - loss: 4.3080 - accuracy: 0.4650\n",
            "Epoch 2/100\n",
            "32/32 [==============================] - 0s 2ms/step - loss: 3.9770 - accuracy: 0.4700\n",
            "Epoch 3/100\n",
            "32/32 [==============================] - 0s 2ms/step - loss: 3.4754 - accuracy: 0.4680\n",
            "Epoch 4/100\n",
            "32/32 [==============================] - 0s 2ms/step - loss: 2.3035 - accuracy: 0.4690\n",
            "Epoch 5/100\n",
            "32/32 [==============================] - 0s 2ms/step - loss: 0.7927 - accuracy: 0.4590\n",
            "Epoch 6/100\n",
            "32/32 [==============================] - 0s 2ms/step - loss: 0.7345 - accuracy: 0.4580\n",
            "Epoch 7/100\n",
            "32/32 [==============================] - 0s 2ms/step - loss: 0.7164 - accuracy: 0.4590\n",
            "Epoch 8/100\n",
            "32/32 [==============================] - 0s 2ms/step - loss: 0.7060 - accuracy: 0.4580\n",
            "Epoch 9/100\n",
            "32/32 [==============================] - 0s 2ms/step - loss: 0.7002 - accuracy: 0.4580\n",
            "Epoch 10/100\n",
            "32/32 [==============================] - 0s 2ms/step - loss: 0.6968 - accuracy: 0.4510\n",
            "Epoch 11/100\n",
            "32/32 [==============================] - 0s 2ms/step - loss: 0.6951 - accuracy: 0.4490\n",
            "Epoch 12/100\n",
            "32/32 [==============================] - 0s 2ms/step - loss: 0.6943 - accuracy: 0.4360\n",
            "Epoch 13/100\n",
            "32/32 [==============================] - 0s 2ms/step - loss: 0.6938 - accuracy: 0.4580\n",
            "Epoch 14/100\n",
            "32/32 [==============================] - 0s 2ms/step - loss: 0.6936 - accuracy: 0.4780\n",
            "Epoch 15/100\n",
            "32/32 [==============================] - 0s 2ms/step - loss: 0.6935 - accuracy: 0.4780\n",
            "Epoch 16/100\n",
            "32/32 [==============================] - 0s 2ms/step - loss: 0.6934 - accuracy: 0.4890\n",
            "Epoch 17/100\n",
            "32/32 [==============================] - 0s 2ms/step - loss: 0.6938 - accuracy: 0.4780\n",
            "Epoch 18/100\n",
            "32/32 [==============================] - 0s 2ms/step - loss: 0.6935 - accuracy: 0.4870\n",
            "Epoch 19/100\n",
            "32/32 [==============================] - 0s 2ms/step - loss: 0.6936 - accuracy: 0.4890\n",
            "Epoch 20/100\n",
            "32/32 [==============================] - 0s 2ms/step - loss: 0.6935 - accuracy: 0.4850\n",
            "Epoch 21/100\n",
            "32/32 [==============================] - 0s 2ms/step - loss: 0.6935 - accuracy: 0.4700\n",
            "Epoch 22/100\n",
            "32/32 [==============================] - 0s 2ms/step - loss: 0.6934 - accuracy: 0.4650\n",
            "Epoch 23/100\n",
            "32/32 [==============================] - 0s 2ms/step - loss: 0.6934 - accuracy: 0.4570\n",
            "Epoch 24/100\n",
            "32/32 [==============================] - 0s 3ms/step - loss: 0.6939 - accuracy: 0.4640\n",
            "Epoch 25/100\n",
            "32/32 [==============================] - 0s 3ms/step - loss: 0.6939 - accuracy: 0.4650\n",
            "Epoch 26/100\n",
            "32/32 [==============================] - 0s 3ms/step - loss: 0.6935 - accuracy: 0.5130\n",
            "Epoch 27/100\n",
            "32/32 [==============================] - 0s 2ms/step - loss: 0.6940 - accuracy: 0.5360\n",
            "Epoch 28/100\n",
            "32/32 [==============================] - 0s 3ms/step - loss: 0.6933 - accuracy: 0.5060\n",
            "Epoch 29/100\n",
            "32/32 [==============================] - 0s 3ms/step - loss: 0.6941 - accuracy: 0.4580\n",
            "Epoch 30/100\n",
            "32/32 [==============================] - 0s 3ms/step - loss: 0.6938 - accuracy: 0.4730\n",
            "Epoch 31/100\n",
            "32/32 [==============================] - 0s 3ms/step - loss: 0.6939 - accuracy: 0.5040\n",
            "Epoch 32/100\n",
            "32/32 [==============================] - 0s 2ms/step - loss: 0.6938 - accuracy: 0.4760\n",
            "Epoch 33/100\n",
            "32/32 [==============================] - 0s 2ms/step - loss: 0.6936 - accuracy: 0.4750\n",
            "Epoch 34/100\n",
            "32/32 [==============================] - 0s 3ms/step - loss: 0.6939 - accuracy: 0.4510\n",
            "Epoch 35/100\n",
            "32/32 [==============================] - 0s 2ms/step - loss: 0.6939 - accuracy: 0.4920\n",
            "Epoch 36/100\n",
            "32/32 [==============================] - 0s 2ms/step - loss: 0.6934 - accuracy: 0.4610\n",
            "Epoch 37/100\n",
            "32/32 [==============================] - 0s 2ms/step - loss: 0.6935 - accuracy: 0.4960\n",
            "Epoch 38/100\n",
            "32/32 [==============================] - 0s 2ms/step - loss: 0.6939 - accuracy: 0.4620\n",
            "Epoch 39/100\n",
            "32/32 [==============================] - 0s 3ms/step - loss: 0.6935 - accuracy: 0.4690\n",
            "Epoch 40/100\n",
            "32/32 [==============================] - 0s 2ms/step - loss: 0.6940 - accuracy: 0.4950\n",
            "Epoch 41/100\n",
            "32/32 [==============================] - 0s 2ms/step - loss: 0.6942 - accuracy: 0.4910\n",
            "Epoch 42/100\n",
            "32/32 [==============================] - 0s 2ms/step - loss: 0.6941 - accuracy: 0.4800\n",
            "Epoch 43/100\n",
            "32/32 [==============================] - 0s 2ms/step - loss: 0.6937 - accuracy: 0.4990\n",
            "Epoch 44/100\n",
            "32/32 [==============================] - 0s 2ms/step - loss: 0.6942 - accuracy: 0.4910\n",
            "Epoch 45/100\n",
            "32/32 [==============================] - 0s 2ms/step - loss: 0.6935 - accuracy: 0.4560\n",
            "Epoch 46/100\n",
            "32/32 [==============================] - 0s 3ms/step - loss: 0.6935 - accuracy: 0.4930\n",
            "Epoch 47/100\n",
            "32/32 [==============================] - 0s 3ms/step - loss: 0.6941 - accuracy: 0.5050\n",
            "Epoch 48/100\n",
            "32/32 [==============================] - 0s 3ms/step - loss: 0.6939 - accuracy: 0.5050\n",
            "Epoch 49/100\n",
            "32/32 [==============================] - 0s 3ms/step - loss: 0.6939 - accuracy: 0.4600\n",
            "Epoch 50/100\n",
            "32/32 [==============================] - 0s 3ms/step - loss: 0.6937 - accuracy: 0.4710\n",
            "Epoch 51/100\n",
            "32/32 [==============================] - 0s 3ms/step - loss: 0.6938 - accuracy: 0.4950\n",
            "Epoch 52/100\n",
            "32/32 [==============================] - 0s 2ms/step - loss: 0.6939 - accuracy: 0.5060\n",
            "Epoch 53/100\n",
            "32/32 [==============================] - 0s 2ms/step - loss: 0.6947 - accuracy: 0.4810\n",
            "Epoch 54/100\n",
            "32/32 [==============================] - 0s 2ms/step - loss: 0.6936 - accuracy: 0.5100\n",
            "Epoch 55/100\n",
            "32/32 [==============================] - 0s 4ms/step - loss: 0.6944 - accuracy: 0.4890\n",
            "Epoch 56/100\n",
            "32/32 [==============================] - 0s 3ms/step - loss: 0.6941 - accuracy: 0.4800\n",
            "Epoch 57/100\n",
            "32/32 [==============================] - 0s 3ms/step - loss: 0.6937 - accuracy: 0.4680\n",
            "Epoch 58/100\n",
            "32/32 [==============================] - 0s 4ms/step - loss: 0.6942 - accuracy: 0.4930\n",
            "Epoch 59/100\n",
            "32/32 [==============================] - 0s 3ms/step - loss: 0.6950 - accuracy: 0.5500\n",
            "Epoch 60/100\n",
            "32/32 [==============================] - 0s 2ms/step - loss: 0.6937 - accuracy: 0.5330\n",
            "Epoch 61/100\n",
            "32/32 [==============================] - 0s 2ms/step - loss: 0.6945 - accuracy: 0.4820\n",
            "Epoch 62/100\n",
            "32/32 [==============================] - 0s 3ms/step - loss: 0.6940 - accuracy: 0.4840\n",
            "Epoch 63/100\n",
            "32/32 [==============================] - 0s 2ms/step - loss: 0.6937 - accuracy: 0.4670\n",
            "Epoch 64/100\n",
            "32/32 [==============================] - 0s 2ms/step - loss: 0.6943 - accuracy: 0.4900\n",
            "Epoch 65/100\n",
            "32/32 [==============================] - 0s 2ms/step - loss: 0.6940 - accuracy: 0.4720\n",
            "Epoch 66/100\n",
            "32/32 [==============================] - 0s 2ms/step - loss: 0.6939 - accuracy: 0.5020\n",
            "Epoch 67/100\n",
            "32/32 [==============================] - 0s 3ms/step - loss: 0.6940 - accuracy: 0.4850\n",
            "Epoch 68/100\n",
            "32/32 [==============================] - 0s 2ms/step - loss: 0.6939 - accuracy: 0.4790\n",
            "Epoch 69/100\n",
            "32/32 [==============================] - 0s 3ms/step - loss: 0.6938 - accuracy: 0.5190\n",
            "Epoch 70/100\n",
            "32/32 [==============================] - 0s 2ms/step - loss: 0.6940 - accuracy: 0.5040\n",
            "Epoch 71/100\n",
            "32/32 [==============================] - 0s 3ms/step - loss: 0.6937 - accuracy: 0.4750\n",
            "Epoch 72/100\n",
            "32/32 [==============================] - 0s 2ms/step - loss: 0.6940 - accuracy: 0.4940\n",
            "Epoch 73/100\n",
            "32/32 [==============================] - 0s 3ms/step - loss: 0.6944 - accuracy: 0.5010\n",
            "Epoch 74/100\n",
            "32/32 [==============================] - 0s 3ms/step - loss: 0.6940 - accuracy: 0.5000\n",
            "Epoch 75/100\n",
            "32/32 [==============================] - 0s 3ms/step - loss: 0.6943 - accuracy: 0.5220\n",
            "Epoch 76/100\n",
            "32/32 [==============================] - 0s 3ms/step - loss: 0.6942 - accuracy: 0.4870\n",
            "Epoch 77/100\n",
            "32/32 [==============================] - 0s 3ms/step - loss: 0.6941 - accuracy: 0.4830\n",
            "Epoch 78/100\n",
            "32/32 [==============================] - 0s 2ms/step - loss: 0.6942 - accuracy: 0.4670\n",
            "Epoch 79/100\n",
            "32/32 [==============================] - 0s 2ms/step - loss: 0.6946 - accuracy: 0.4760\n",
            "Epoch 80/100\n",
            "32/32 [==============================] - 0s 2ms/step - loss: 0.6937 - accuracy: 0.5070\n",
            "Epoch 81/100\n",
            "32/32 [==============================] - 0s 2ms/step - loss: 0.6948 - accuracy: 0.5470\n",
            "Epoch 82/100\n",
            "32/32 [==============================] - 0s 2ms/step - loss: 0.6947 - accuracy: 0.4760\n",
            "Epoch 83/100\n",
            "32/32 [==============================] - 0s 2ms/step - loss: 0.6940 - accuracy: 0.4720\n",
            "Epoch 84/100\n",
            "32/32 [==============================] - 0s 2ms/step - loss: 0.6934 - accuracy: 0.5100\n",
            "Epoch 85/100\n",
            "32/32 [==============================] - 0s 2ms/step - loss: 0.6940 - accuracy: 0.4960\n",
            "Epoch 86/100\n",
            "32/32 [==============================] - 0s 2ms/step - loss: 0.6945 - accuracy: 0.4860\n",
            "Epoch 87/100\n",
            "32/32 [==============================] - 0s 2ms/step - loss: 0.6937 - accuracy: 0.4670\n",
            "Epoch 88/100\n",
            "32/32 [==============================] - 0s 2ms/step - loss: 0.6940 - accuracy: 0.4660\n",
            "Epoch 89/100\n",
            "32/32 [==============================] - 0s 2ms/step - loss: 0.6943 - accuracy: 0.4500\n",
            "Epoch 90/100\n",
            "32/32 [==============================] - 0s 2ms/step - loss: 0.6947 - accuracy: 0.4810\n",
            "Epoch 91/100\n",
            "32/32 [==============================] - 0s 2ms/step - loss: 0.6937 - accuracy: 0.4990\n",
            "Epoch 92/100\n",
            "32/32 [==============================] - 0s 2ms/step - loss: 0.6944 - accuracy: 0.5130\n",
            "Epoch 93/100\n",
            "32/32 [==============================] - 0s 2ms/step - loss: 0.6957 - accuracy: 0.4590\n",
            "Epoch 94/100\n",
            "32/32 [==============================] - 0s 2ms/step - loss: 0.6938 - accuracy: 0.5060\n",
            "Epoch 95/100\n",
            "32/32 [==============================] - 0s 2ms/step - loss: 0.6943 - accuracy: 0.4800\n",
            "Epoch 96/100\n",
            "32/32 [==============================] - 0s 2ms/step - loss: 0.6944 - accuracy: 0.4790\n",
            "Epoch 97/100\n",
            "32/32 [==============================] - 0s 2ms/step - loss: 0.6941 - accuracy: 0.4730\n",
            "Epoch 98/100\n",
            "32/32 [==============================] - 0s 2ms/step - loss: 0.6942 - accuracy: 0.4610\n",
            "Epoch 99/100\n",
            "32/32 [==============================] - 0s 2ms/step - loss: 0.6947 - accuracy: 0.5000\n",
            "Epoch 100/100\n",
            "32/32 [==============================] - 0s 2ms/step - loss: 0.6950 - accuracy: 0.4730\n"
          ]
        },
        {
          "output_type": "execute_result",
          "data": {
            "text/plain": [
              "<keras.src.callbacks.History at 0x7b0a3443f370>"
            ]
          },
          "metadata": {},
          "execution_count": 18
        }
      ]
    },
    {
      "cell_type": "markdown",
      "source": [
        "No improvement at all, and the model still is classifying data randomly.\n",
        "\n",
        "So what could be the problem here? The previous two models that we've built consist of only linear dense layers $y = mX + p$, and the question is, are straight lines enough to seperate the two circular clusters of datapoints we're working with? The answer is no.\n",
        "\n",
        "For cases like these, **non-linearity** must be implemented.\n",
        "\n",
        "The **non-linearity** property means that we're modeling a complex, non-linear relationship between features and labels, and in deep learning it can be introduced through the usage of **activation functions**.\n",
        "\n",
        "**Activation function** in deep learning are functions that change the behaviour of the outputs of the hidden layers (the sum of the weighted input data of the neuron + bias of the neuron) and add a non-linear property to them. Some examples of non-linear activation functions: ReLU (Recitfied Linear Unit), Sigmoid, Tanh (Hyperbolic Tangent), Softmax, etc..."
      ],
      "metadata": {
        "id": "UocsfkLhkNzy"
      }
    },
    {
      "cell_type": "code",
      "source": [
        "# Creating a model with non-linear activation functions\n",
        "model_3 = tf.keras.Sequential([\n",
        "    tf.keras.layers.Dense(10, activation = 'relu'),\n",
        "    tf.keras.layers.Dense(1, activation = 'sigmoid')\n",
        "])\n",
        "\n",
        "model_3.compile(loss = tf.keras.losses.BinaryCrossentropy(),\n",
        "                optimizer = tf.keras.optimizers.Adam(),\n",
        "                metrics = ['accuracy'])\n",
        "\n",
        "model_3.fit(X, y, epochs = 100)"
      ],
      "metadata": {
        "colab": {
          "base_uri": "https://localhost:8080/"
        },
        "id": "yor4VT0g6L3w",
        "outputId": "8de7b7f7-c2be-46ab-cdd2-94dac2a8b0c5"
      },
      "execution_count": 21,
      "outputs": [
        {
          "output_type": "stream",
          "name": "stdout",
          "text": [
            "Epoch 1/100\n",
            "32/32 [==============================] - 1s 2ms/step - loss: 0.6975 - accuracy: 0.5050\n",
            "Epoch 2/100\n",
            "32/32 [==============================] - 0s 2ms/step - loss: 0.6956 - accuracy: 0.4980\n",
            "Epoch 3/100\n",
            "32/32 [==============================] - 0s 2ms/step - loss: 0.6937 - accuracy: 0.5010\n",
            "Epoch 4/100\n",
            "32/32 [==============================] - 0s 2ms/step - loss: 0.6924 - accuracy: 0.5020\n",
            "Epoch 5/100\n",
            "32/32 [==============================] - 0s 2ms/step - loss: 0.6912 - accuracy: 0.5060\n",
            "Epoch 6/100\n",
            "32/32 [==============================] - 0s 2ms/step - loss: 0.6901 - accuracy: 0.4950\n",
            "Epoch 7/100\n",
            "32/32 [==============================] - 0s 2ms/step - loss: 0.6888 - accuracy: 0.5100\n",
            "Epoch 8/100\n",
            "32/32 [==============================] - 0s 2ms/step - loss: 0.6879 - accuracy: 0.5360\n",
            "Epoch 9/100\n",
            "32/32 [==============================] - 0s 2ms/step - loss: 0.6866 - accuracy: 0.5740\n",
            "Epoch 10/100\n",
            "32/32 [==============================] - 0s 2ms/step - loss: 0.6856 - accuracy: 0.5290\n",
            "Epoch 11/100\n",
            "32/32 [==============================] - 0s 2ms/step - loss: 0.6846 - accuracy: 0.5400\n",
            "Epoch 12/100\n",
            "32/32 [==============================] - 0s 2ms/step - loss: 0.6834 - accuracy: 0.5460\n",
            "Epoch 13/100\n",
            "32/32 [==============================] - 0s 2ms/step - loss: 0.6823 - accuracy: 0.5450\n",
            "Epoch 14/100\n",
            "32/32 [==============================] - 0s 2ms/step - loss: 0.6813 - accuracy: 0.5480\n",
            "Epoch 15/100\n",
            "32/32 [==============================] - 0s 2ms/step - loss: 0.6803 - accuracy: 0.5480\n",
            "Epoch 16/100\n",
            "32/32 [==============================] - 0s 2ms/step - loss: 0.6792 - accuracy: 0.5550\n",
            "Epoch 17/100\n",
            "32/32 [==============================] - 0s 2ms/step - loss: 0.6783 - accuracy: 0.5630\n",
            "Epoch 18/100\n",
            "32/32 [==============================] - 0s 2ms/step - loss: 0.6772 - accuracy: 0.5790\n",
            "Epoch 19/100\n",
            "32/32 [==============================] - 0s 2ms/step - loss: 0.6761 - accuracy: 0.5900\n",
            "Epoch 20/100\n",
            "32/32 [==============================] - 0s 2ms/step - loss: 0.6749 - accuracy: 0.6050\n",
            "Epoch 21/100\n",
            "32/32 [==============================] - 0s 2ms/step - loss: 0.6736 - accuracy: 0.6130\n",
            "Epoch 22/100\n",
            "32/32 [==============================] - 0s 2ms/step - loss: 0.6723 - accuracy: 0.6080\n",
            "Epoch 23/100\n",
            "32/32 [==============================] - 0s 2ms/step - loss: 0.6712 - accuracy: 0.6140\n",
            "Epoch 24/100\n",
            "32/32 [==============================] - 0s 2ms/step - loss: 0.6703 - accuracy: 0.5820\n",
            "Epoch 25/100\n",
            "32/32 [==============================] - 0s 2ms/step - loss: 0.6690 - accuracy: 0.6140\n",
            "Epoch 26/100\n",
            "32/32 [==============================] - 0s 2ms/step - loss: 0.6677 - accuracy: 0.6330\n",
            "Epoch 27/100\n",
            "32/32 [==============================] - 0s 2ms/step - loss: 0.6666 - accuracy: 0.6500\n",
            "Epoch 28/100\n",
            "32/32 [==============================] - 0s 2ms/step - loss: 0.6651 - accuracy: 0.6440\n",
            "Epoch 29/100\n",
            "32/32 [==============================] - 0s 2ms/step - loss: 0.6641 - accuracy: 0.6250\n",
            "Epoch 30/100\n",
            "32/32 [==============================] - 0s 2ms/step - loss: 0.6628 - accuracy: 0.6480\n",
            "Epoch 31/100\n",
            "32/32 [==============================] - 0s 2ms/step - loss: 0.6615 - accuracy: 0.6770\n",
            "Epoch 32/100\n",
            "32/32 [==============================] - 0s 2ms/step - loss: 0.6601 - accuracy: 0.6730\n",
            "Epoch 33/100\n",
            "32/32 [==============================] - 0s 2ms/step - loss: 0.6586 - accuracy: 0.6910\n",
            "Epoch 34/100\n",
            "32/32 [==============================] - 0s 2ms/step - loss: 0.6575 - accuracy: 0.6600\n",
            "Epoch 35/100\n",
            "32/32 [==============================] - 0s 2ms/step - loss: 0.6560 - accuracy: 0.7320\n",
            "Epoch 36/100\n",
            "32/32 [==============================] - 0s 2ms/step - loss: 0.6544 - accuracy: 0.6990\n",
            "Epoch 37/100\n",
            "32/32 [==============================] - 0s 2ms/step - loss: 0.6530 - accuracy: 0.7460\n",
            "Epoch 38/100\n",
            "32/32 [==============================] - 0s 2ms/step - loss: 0.6516 - accuracy: 0.7480\n",
            "Epoch 39/100\n",
            "32/32 [==============================] - 0s 2ms/step - loss: 0.6500 - accuracy: 0.7510\n",
            "Epoch 40/100\n",
            "32/32 [==============================] - 0s 2ms/step - loss: 0.6487 - accuracy: 0.8150\n",
            "Epoch 41/100\n",
            "32/32 [==============================] - 0s 2ms/step - loss: 0.6472 - accuracy: 0.8140\n",
            "Epoch 42/100\n",
            "32/32 [==============================] - 0s 2ms/step - loss: 0.6456 - accuracy: 0.7870\n",
            "Epoch 43/100\n",
            "32/32 [==============================] - 0s 2ms/step - loss: 0.6439 - accuracy: 0.8250\n",
            "Epoch 44/100\n",
            "32/32 [==============================] - 0s 2ms/step - loss: 0.6426 - accuracy: 0.7740\n",
            "Epoch 45/100\n",
            "32/32 [==============================] - 0s 2ms/step - loss: 0.6403 - accuracy: 0.8050\n",
            "Epoch 46/100\n",
            "32/32 [==============================] - 0s 2ms/step - loss: 0.6384 - accuracy: 0.8490\n",
            "Epoch 47/100\n",
            "32/32 [==============================] - 0s 2ms/step - loss: 0.6369 - accuracy: 0.8710\n",
            "Epoch 48/100\n",
            "32/32 [==============================] - 0s 2ms/step - loss: 0.6348 - accuracy: 0.8750\n",
            "Epoch 49/100\n",
            "32/32 [==============================] - 0s 2ms/step - loss: 0.6330 - accuracy: 0.8310\n",
            "Epoch 50/100\n",
            "32/32 [==============================] - 0s 2ms/step - loss: 0.6311 - accuracy: 0.8400\n",
            "Epoch 51/100\n",
            "32/32 [==============================] - 0s 2ms/step - loss: 0.6293 - accuracy: 0.8820\n",
            "Epoch 52/100\n",
            "32/32 [==============================] - 0s 2ms/step - loss: 0.6275 - accuracy: 0.9010\n",
            "Epoch 53/100\n",
            "32/32 [==============================] - 0s 2ms/step - loss: 0.6258 - accuracy: 0.8990\n",
            "Epoch 54/100\n",
            "32/32 [==============================] - 0s 2ms/step - loss: 0.6234 - accuracy: 0.9090\n",
            "Epoch 55/100\n",
            "32/32 [==============================] - 0s 3ms/step - loss: 0.6215 - accuracy: 0.9090\n",
            "Epoch 56/100\n",
            "32/32 [==============================] - 0s 2ms/step - loss: 0.6193 - accuracy: 0.8850\n",
            "Epoch 57/100\n",
            "32/32 [==============================] - 0s 2ms/step - loss: 0.6171 - accuracy: 0.9090\n",
            "Epoch 58/100\n",
            "32/32 [==============================] - 0s 2ms/step - loss: 0.6152 - accuracy: 0.9180\n",
            "Epoch 59/100\n",
            "32/32 [==============================] - 0s 2ms/step - loss: 0.6137 - accuracy: 0.9240\n",
            "Epoch 60/100\n",
            "32/32 [==============================] - 0s 2ms/step - loss: 0.6111 - accuracy: 0.9290\n",
            "Epoch 61/100\n",
            "32/32 [==============================] - 0s 2ms/step - loss: 0.6093 - accuracy: 0.8900\n",
            "Epoch 62/100\n",
            "32/32 [==============================] - 0s 2ms/step - loss: 0.6071 - accuracy: 0.9130\n",
            "Epoch 63/100\n",
            "32/32 [==============================] - 0s 2ms/step - loss: 0.6048 - accuracy: 0.9210\n",
            "Epoch 64/100\n",
            "32/32 [==============================] - 0s 2ms/step - loss: 0.6028 - accuracy: 0.9220\n",
            "Epoch 65/100\n",
            "32/32 [==============================] - 0s 2ms/step - loss: 0.6007 - accuracy: 0.9230\n",
            "Epoch 66/100\n",
            "32/32 [==============================] - 0s 2ms/step - loss: 0.5986 - accuracy: 0.9340\n",
            "Epoch 67/100\n",
            "32/32 [==============================] - 0s 2ms/step - loss: 0.5964 - accuracy: 0.9260\n",
            "Epoch 68/100\n",
            "32/32 [==============================] - 0s 2ms/step - loss: 0.5943 - accuracy: 0.9260\n",
            "Epoch 69/100\n",
            "32/32 [==============================] - 0s 2ms/step - loss: 0.5920 - accuracy: 0.9490\n",
            "Epoch 70/100\n",
            "32/32 [==============================] - 0s 2ms/step - loss: 0.5900 - accuracy: 0.9440\n",
            "Epoch 71/100\n",
            "32/32 [==============================] - 0s 2ms/step - loss: 0.5877 - accuracy: 0.9390\n",
            "Epoch 72/100\n",
            "32/32 [==============================] - 0s 3ms/step - loss: 0.5856 - accuracy: 0.9450\n",
            "Epoch 73/100\n",
            "32/32 [==============================] - 0s 3ms/step - loss: 0.5834 - accuracy: 0.9490\n",
            "Epoch 74/100\n",
            "32/32 [==============================] - 0s 3ms/step - loss: 0.5810 - accuracy: 0.9490\n",
            "Epoch 75/100\n",
            "32/32 [==============================] - 0s 2ms/step - loss: 0.5789 - accuracy: 0.9520\n",
            "Epoch 76/100\n",
            "32/32 [==============================] - 0s 3ms/step - loss: 0.5767 - accuracy: 0.9390\n",
            "Epoch 77/100\n",
            "32/32 [==============================] - 0s 3ms/step - loss: 0.5744 - accuracy: 0.9570\n",
            "Epoch 78/100\n",
            "32/32 [==============================] - 0s 3ms/step - loss: 0.5721 - accuracy: 0.9430\n",
            "Epoch 79/100\n",
            "32/32 [==============================] - 0s 2ms/step - loss: 0.5698 - accuracy: 0.9540\n",
            "Epoch 80/100\n",
            "32/32 [==============================] - 0s 3ms/step - loss: 0.5672 - accuracy: 0.9610\n",
            "Epoch 81/100\n",
            "32/32 [==============================] - 0s 2ms/step - loss: 0.5653 - accuracy: 0.9620\n",
            "Epoch 82/100\n",
            "32/32 [==============================] - 0s 2ms/step - loss: 0.5628 - accuracy: 0.9520\n",
            "Epoch 83/100\n",
            "32/32 [==============================] - 0s 2ms/step - loss: 0.5605 - accuracy: 0.9450\n",
            "Epoch 84/100\n",
            "32/32 [==============================] - 0s 2ms/step - loss: 0.5576 - accuracy: 0.9630\n",
            "Epoch 85/100\n",
            "32/32 [==============================] - 0s 2ms/step - loss: 0.5555 - accuracy: 0.9630\n",
            "Epoch 86/100\n",
            "32/32 [==============================] - 0s 2ms/step - loss: 0.5535 - accuracy: 0.9650\n",
            "Epoch 87/100\n",
            "32/32 [==============================] - 0s 2ms/step - loss: 0.5506 - accuracy: 0.9620\n",
            "Epoch 88/100\n",
            "32/32 [==============================] - 0s 3ms/step - loss: 0.5482 - accuracy: 0.9620\n",
            "Epoch 89/100\n",
            "32/32 [==============================] - 0s 3ms/step - loss: 0.5461 - accuracy: 0.9610\n",
            "Epoch 90/100\n",
            "32/32 [==============================] - 0s 2ms/step - loss: 0.5439 - accuracy: 0.9460\n",
            "Epoch 91/100\n",
            "32/32 [==============================] - 0s 2ms/step - loss: 0.5410 - accuracy: 0.9610\n",
            "Epoch 92/100\n",
            "32/32 [==============================] - 0s 2ms/step - loss: 0.5390 - accuracy: 0.9640\n",
            "Epoch 93/100\n",
            "32/32 [==============================] - 0s 3ms/step - loss: 0.5371 - accuracy: 0.9530\n",
            "Epoch 94/100\n",
            "32/32 [==============================] - 0s 2ms/step - loss: 0.5338 - accuracy: 0.9620\n",
            "Epoch 95/100\n",
            "32/32 [==============================] - 0s 2ms/step - loss: 0.5315 - accuracy: 0.9640\n",
            "Epoch 96/100\n",
            "32/32 [==============================] - 0s 2ms/step - loss: 0.5292 - accuracy: 0.9650\n",
            "Epoch 97/100\n",
            "32/32 [==============================] - 0s 2ms/step - loss: 0.5267 - accuracy: 0.9660\n",
            "Epoch 98/100\n",
            "32/32 [==============================] - 0s 2ms/step - loss: 0.5243 - accuracy: 0.9680\n",
            "Epoch 99/100\n",
            "32/32 [==============================] - 0s 3ms/step - loss: 0.5222 - accuracy: 0.9660\n",
            "Epoch 100/100\n",
            "32/32 [==============================] - 0s 3ms/step - loss: 0.5197 - accuracy: 0.9700\n"
          ]
        },
        {
          "output_type": "execute_result",
          "data": {
            "text/plain": [
              "<keras.src.callbacks.History at 0x7b0a342c4eb0>"
            ]
          },
          "metadata": {},
          "execution_count": 21
        }
      ]
    },
    {
      "cell_type": "markdown",
      "source": [
        "As with the case of regression problems, we need some way to quantify how wrong our model is during the fitting phase.\n",
        "\n",
        "Classification has it own set of loss functions. The most common loss functions are:\n",
        "\n",
        "1.   **Cross Entropy Loss / Log loss** - This is the most common loss function used in classification problems. The cross-entropy loss decreases as the predicted probability converges to the actual label. It measures the performance of a classification model whose predicted output is a probability value between 0 and 1. When the classification problem is binary, `.BinaryCrossentropy()` entropy is used:\n",
        "$logloss=-\\frac{1}{N} \\sum_{i=1}^N\\left(y_i \\cdot \\log \\left(\\hat{y}_i\\right)+\\left(1-y_i\\right) \\cdot \\log \\left(1-\\hat{y}_i\\right)\\right)$\n",
        "\n",
        "  and for multiclass classification `.CategoricalCrossEntropy()` is used:\n",
        "$logloss=-\\frac{1}{N} \\sum_{i=1}^N y_i \\cdot \\log \\left(\\hat{y}_i\\right)$\n",
        "\n",
        "2.   **Hinge Loss** - The second most common loss function used for classification problems and an alternative to the cross-entropy loss function is hinge loss, primarily developed for support vector machine (SVM) model evaluation. Can be accessed through `.Hinge()`\n",
        "$hingeloss=\\max (0,1-y * f(x))$"
      ],
      "metadata": {
        "id": "vaiNh3E7u3gV"
      }
    },
    {
      "cell_type": "code",
      "source": [
        "X[:10], y[:10]"
      ],
      "metadata": {
        "colab": {
          "base_uri": "https://localhost:8080/"
        },
        "id": "29mmnlUt666a",
        "outputId": "13de68f3-20fd-4acb-ff12-9f8890f87a68"
      },
      "execution_count": 23,
      "outputs": [
        {
          "output_type": "execute_result",
          "data": {
            "text/plain": [
              "(array([[ 0.75424625,  0.23148074],\n",
              "        [-0.75615888,  0.15325888],\n",
              "        [-0.81539193,  0.17328203],\n",
              "        [-0.39373073,  0.69288277],\n",
              "        [ 0.44220765, -0.89672343],\n",
              "        [-0.47964637,  0.67643477],\n",
              "        [-0.01364836,  0.80334872],\n",
              "        [ 0.77151327,  0.14775959],\n",
              "        [-0.16932234, -0.79345575],\n",
              "        [-0.1214858 ,  1.02150905]]),\n",
              " array([1, 1, 1, 1, 0, 1, 1, 1, 1, 0]))"
            ]
          },
          "metadata": {},
          "execution_count": 23
        }
      ]
    },
    {
      "cell_type": "code",
      "source": [
        "tf.math.round(model_3.predict(tf.expand_dims([0.75424625, 0.23148074], axis = 0)))"
      ],
      "metadata": {
        "colab": {
          "base_uri": "https://localhost:8080/"
        },
        "id": "t-N2tTw46MnX",
        "outputId": "22a24bc3-d151-47a0-ad8b-421820e7e858"
      },
      "execution_count": 27,
      "outputs": [
        {
          "output_type": "stream",
          "name": "stdout",
          "text": [
            "1/1 [==============================] - 0s 53ms/step\n"
          ]
        },
        {
          "output_type": "execute_result",
          "data": {
            "text/plain": [
              "<tf.Tensor: shape=(1, 1), dtype=float32, numpy=array([[1.]], dtype=float32)>"
            ]
          },
          "metadata": {},
          "execution_count": 27
        }
      ]
    },
    {
      "cell_type": "markdown",
      "source": [
        "So, how do we evaluate our classification model? There exists a wide range of evaluation metrics than can show us how well our model performs. Some of them are:\n",
        "\n",
        "1.   **Confusion Matrix** - that shows the true positives (TP), true negatives (TN), false positives (FP) and false negatives (FN) of the model.\n",
        "2.   **Classification Report** - that contains the accuracy, precision, recall, f1-score of our model.\n",
        "  *   **Accuracy** shows how often a classification ML model is correct overall. $accuracy=\\frac{T P+T N}{T P+T N+F P+F N}$\n",
        "  *   **Precision** is a metric that measures how often a machine learning model correctly predicts the positive class. Precision answers the question: how often the positive predictions are correct?\n",
        " $precision=\\frac{{TP}}{{TP + FP}}$\n",
        "  * **Recall (Sensitivity)** is a metric that measures how often a machine learning model correctly identifies positive instances (true positives) from all the actual positive samples in the dataset. Recall answers the question: can an ML model find all instances of the positive class? $recall=\\frac{{TP}}{{TP + FN}}$\n",
        "\n",
        "\n",
        "3. **ROC Curve and AUC** - **ROC Curve** (Receiver Operator Characteristics Curve) plots the rate of true positives (TPR) against the rate of false positives (FPR) of a model's predictions and shows the performance of a said model at all classification thresholds.\n",
        "\n",
        "  **AUC** (Area Under the Curve) measures the entire two-dimensional area underneath the entire ROC curve. The AUC can be used as a summary measure for comparing the performance of different tests. It can also be used to compare the performance of different models for predicting the same outcome.\n",
        "\n"
      ],
      "metadata": {
        "id": "t0wD4gcz0Y64"
      }
    },
    {
      "cell_type": "code",
      "source": [],
      "metadata": {
        "id": "Ijsh-ASrw9lz"
      },
      "execution_count": null,
      "outputs": []
    }
  ]
}